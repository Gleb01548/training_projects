{
 "cells": [
  {
   "cell_type": "markdown",
   "metadata": {},
   "source": [
    "<blockquote>\n",
    "    \n",
    "<b>Глеб, привет!</b>\n",
    "    \n",
    "Меня зовут Макаев Андрей, я буду ревьюером твоего проекта. Ты можешь обращаться ко мне на \"ты\" Надеюсь, тебя также не смутит, если я буду обращаться к тебе на \"ты\", но если это неудобно, обязательно скажи об этом!\n",
    "\n",
    "Пожалуйста, не удаляй мои комментарии, они будут особенно полезны для нашей работы в случае повторной проверки проекта.\n",
    "\n",
    "Ты также можешь реагировать на мои комментарии своими, выделяя их цветами и наиболее понравившимся тебе способом оформления, но явно отличающимся от моих комментариев. Это нужно, чтобы не создавалась путаница\n",
    "\n",
    "Можешь оформлять их так:\n",
    "\n",
    "<div class=\"alert alert-info\"> <b>Комментарий студента:</b> \n",
    "    \n",
    " </div>\n",
    "    \n",
    "Ты можешь найти мои комментарии, обозначенные <font color='green'>зеленым</font>, <font color='gold'>желтым</font> и <font color='red'>красным</font> цветами, например:\n",
    "\n",
    "<br/>\n",
    "\n",
    "<div class=\"alert alert-success\">\n",
    "<h2> Комментарий ревьюера <a class=\"tocSkip\"> </h2>\n",
    "\n",
    "<b>Все отлично!👍:</b> В случае, если решение на отдельном шаге является полностью правильным.\n",
    "</div>\n",
    "\n",
    "<br/>\n",
    "\n",
    "<div class=\"alert alert-warning\">\n",
    "<h2> Комментарий ревьюера <a class=\"tocSkip\"> </h2>\n",
    "\n",
    "<b>Некоторые замечания и рекомендации💡:</b> В случае, когда решение на отдельном шаге станет еще лучше, если внести небольшие коррективы.\n",
    "</div>\n",
    "\n",
    "\n",
    "<br/>\n",
    "<div class=\"alert alert-block alert-danger\">\n",
    "<h2> Комментарий ревьюера <a class=\"tocSkip\"></h2>\n",
    "\n",
    "\n",
    "<b>На доработку🤔:</b>\n",
    "В случае, когда решение на отдельном шаге требует существенной переработки и внесения правок. Напоминаю, что проект не может быть принят с первого раза, если ревью содержит комментарии, рекомендующие доработать шаги.\n",
    "</div>\n",
    "\n",
    "Увидев у тебя неточность, в первый раз я лишь укажу на ее наличие и дам тебе возможность самому найти и исправить ее. На реальной работе твой руководитель будет поступать также, и я пытаюсь подготовить тебя именно к работе аналитиком. Но если ты пока не справишься с такой задачей - при следующей проверке я дам более точную подсказку!🤓\n",
    "</blockquote>"
   ]
  },
  {
   "cell_type": "markdown",
   "metadata": {},
   "source": [
    "Определение перспективного тарифа для телеком-компании"
   ]
  },
  {
   "cell_type": "markdown",
   "metadata": {},
   "source": [
    "Вы аналитик компании «Мегалайн» — федерального оператора сотовой связи. Клиентам предлагают два тарифных плана: «Смарт» и «Ультра». Чтобы скорректировать рекламный бюджет, коммерческий департамент хочет понять, какой тариф приносит больше денег.\n",
    "\n",
    "Вам предстоит сделать предварительный анализ тарифов на небольшой выборке клиентов. В вашем распоряжении данные 500 пользователей «Мегалайна»: кто они, откуда, каким тарифом пользуются, сколько звонков и сообщений каждый отправил за 2018 год. Нужно проанализировать поведение клиентов и сделать вывод — какой тариф лучше."
   ]
  },
  {
   "cell_type": "markdown",
   "metadata": {},
   "source": [
    "<div class=\"alert alert-success\">\n",
    "<h2> Комментарий ревьюера <a class=\"tocSkip\"> </h2>\n",
    "\n",
    "<b>Все отлично!👍:</b> \n",
    "    \n",
    "Здорово что ты вставил описание проекта , это поможет читателю и тебе самому (например, через полгода) быстрее понять контекст, того что ты делал =) Еще стоит добавить план/содержание, он тоже полезен\n",
    "</div>"
   ]
  },
  {
   "cell_type": "markdown",
   "metadata": {},
   "source": [
    "## Откройте файл с данными и изучите общую информацию"
   ]
  },
  {
   "cell_type": "code",
   "execution_count": 1,
   "metadata": {},
   "outputs": [],
   "source": [
    "import pandas as pd\n",
    "import numpy as np\n",
    "import matplotlib.pyplot as plt\n",
    "import seaborn as sns\n",
    "from scipy import stats as st\n",
    "import statistics as stat\n",
    "\n",
    "pd.options.display.float_format = '{:,.2f}'.format"
   ]
  },
  {
   "cell_type": "markdown",
   "metadata": {},
   "source": [
    "Я буду в дальнейшем последовательно открывать файлы с данными, изучать их и подготавливать."
   ]
  },
  {
   "cell_type": "markdown",
   "metadata": {},
   "source": [
    "## Подготовьте данные"
   ]
  },
  {
   "cell_type": "code",
   "execution_count": 2,
   "metadata": {},
   "outputs": [
    {
     "name": "stdout",
     "output_type": "stream",
     "text": [
      "<class 'pandas.core.frame.DataFrame'>\n",
      "RangeIndex: 202607 entries, 0 to 202606\n",
      "Data columns (total 4 columns):\n",
      " #   Column     Non-Null Count   Dtype  \n",
      "---  ------     --------------   -----  \n",
      " 0   id         202607 non-null  object \n",
      " 1   call_date  202607 non-null  object \n",
      " 2   duration   202607 non-null  float64\n",
      " 3   user_id    202607 non-null  int64  \n",
      "dtypes: float64(1), int64(1), object(2)\n",
      "memory usage: 6.2+ MB\n"
     ]
    },
    {
     "data": {
      "text/html": [
       "<div>\n",
       "<style scoped>\n",
       "    .dataframe tbody tr th:only-of-type {\n",
       "        vertical-align: middle;\n",
       "    }\n",
       "\n",
       "    .dataframe tbody tr th {\n",
       "        vertical-align: top;\n",
       "    }\n",
       "\n",
       "    .dataframe thead th {\n",
       "        text-align: right;\n",
       "    }\n",
       "</style>\n",
       "<table border=\"1\" class=\"dataframe\">\n",
       "  <thead>\n",
       "    <tr style=\"text-align: right;\">\n",
       "      <th></th>\n",
       "      <th>id</th>\n",
       "      <th>call_date</th>\n",
       "      <th>duration</th>\n",
       "      <th>user_id</th>\n",
       "    </tr>\n",
       "  </thead>\n",
       "  <tbody>\n",
       "    <tr>\n",
       "      <th>162196</th>\n",
       "      <td>1399_55</td>\n",
       "      <td>2018-12-12</td>\n",
       "      <td>10.78</td>\n",
       "      <td>1399</td>\n",
       "    </tr>\n",
       "    <tr>\n",
       "      <th>37064</th>\n",
       "      <td>1093_342</td>\n",
       "      <td>2018-11-16</td>\n",
       "      <td>18.48</td>\n",
       "      <td>1093</td>\n",
       "    </tr>\n",
       "    <tr>\n",
       "      <th>85235</th>\n",
       "      <td>1213_281</td>\n",
       "      <td>2018-11-29</td>\n",
       "      <td>0.00</td>\n",
       "      <td>1213</td>\n",
       "    </tr>\n",
       "    <tr>\n",
       "      <th>61649</th>\n",
       "      <td>1155_457</td>\n",
       "      <td>2018-09-13</td>\n",
       "      <td>23.07</td>\n",
       "      <td>1155</td>\n",
       "    </tr>\n",
       "    <tr>\n",
       "      <th>180725</th>\n",
       "      <td>1452_99</td>\n",
       "      <td>2018-10-27</td>\n",
       "      <td>0.68</td>\n",
       "      <td>1452</td>\n",
       "    </tr>\n",
       "    <tr>\n",
       "      <th>167544</th>\n",
       "      <td>1412_461</td>\n",
       "      <td>2018-06-05</td>\n",
       "      <td>14.93</td>\n",
       "      <td>1412</td>\n",
       "    </tr>\n",
       "    <tr>\n",
       "      <th>104207</th>\n",
       "      <td>1267_199</td>\n",
       "      <td>2018-08-16</td>\n",
       "      <td>10.37</td>\n",
       "      <td>1267</td>\n",
       "    </tr>\n",
       "    <tr>\n",
       "      <th>98365</th>\n",
       "      <td>1250_285</td>\n",
       "      <td>2018-11-14</td>\n",
       "      <td>13.99</td>\n",
       "      <td>1250</td>\n",
       "    </tr>\n",
       "    <tr>\n",
       "      <th>31505</th>\n",
       "      <td>1078_849</td>\n",
       "      <td>2018-12-01</td>\n",
       "      <td>1.82</td>\n",
       "      <td>1078</td>\n",
       "    </tr>\n",
       "    <tr>\n",
       "      <th>125686</th>\n",
       "      <td>1323_209</td>\n",
       "      <td>2018-12-30</td>\n",
       "      <td>0.00</td>\n",
       "      <td>1323</td>\n",
       "    </tr>\n",
       "    <tr>\n",
       "      <th>201973</th>\n",
       "      <td>1496_795</td>\n",
       "      <td>2018-07-26</td>\n",
       "      <td>14.39</td>\n",
       "      <td>1496</td>\n",
       "    </tr>\n",
       "    <tr>\n",
       "      <th>53936</th>\n",
       "      <td>1135_229</td>\n",
       "      <td>2018-03-14</td>\n",
       "      <td>0.00</td>\n",
       "      <td>1135</td>\n",
       "    </tr>\n",
       "    <tr>\n",
       "      <th>58637</th>\n",
       "      <td>1148_100</td>\n",
       "      <td>2018-09-29</td>\n",
       "      <td>7.59</td>\n",
       "      <td>1148</td>\n",
       "    </tr>\n",
       "    <tr>\n",
       "      <th>185690</th>\n",
       "      <td>1458_982</td>\n",
       "      <td>2018-04-30</td>\n",
       "      <td>0.00</td>\n",
       "      <td>1458</td>\n",
       "    </tr>\n",
       "    <tr>\n",
       "      <th>200189</th>\n",
       "      <td>1492_500</td>\n",
       "      <td>2018-09-16</td>\n",
       "      <td>4.82</td>\n",
       "      <td>1492</td>\n",
       "    </tr>\n",
       "  </tbody>\n",
       "</table>\n",
       "</div>"
      ],
      "text/plain": [
       "              id   call_date  duration  user_id\n",
       "162196   1399_55  2018-12-12     10.78     1399\n",
       "37064   1093_342  2018-11-16     18.48     1093\n",
       "85235   1213_281  2018-11-29      0.00     1213\n",
       "61649   1155_457  2018-09-13     23.07     1155\n",
       "180725   1452_99  2018-10-27      0.68     1452\n",
       "167544  1412_461  2018-06-05     14.93     1412\n",
       "104207  1267_199  2018-08-16     10.37     1267\n",
       "98365   1250_285  2018-11-14     13.99     1250\n",
       "31505   1078_849  2018-12-01      1.82     1078\n",
       "125686  1323_209  2018-12-30      0.00     1323\n",
       "201973  1496_795  2018-07-26     14.39     1496\n",
       "53936   1135_229  2018-03-14      0.00     1135\n",
       "58637   1148_100  2018-09-29      7.59     1148\n",
       "185690  1458_982  2018-04-30      0.00     1458\n",
       "200189  1492_500  2018-09-16      4.82     1492"
      ]
     },
     "execution_count": 2,
     "metadata": {},
     "output_type": "execute_result"
    }
   ],
   "source": [
    "data_calls = pd.read_csv('/datasets/calls.csv')\n",
    "data_calls.info()\n",
    "data_calls.sample(15)"
   ]
  },
  {
   "cell_type": "markdown",
   "metadata": {},
   "source": [
    "<div class=\"alert alert-info\"> Округлим минуты в большую сторону\n",
    "    \n",
    " </div>"
   ]
  },
  {
   "cell_type": "code",
   "execution_count": 3,
   "metadata": {},
   "outputs": [],
   "source": [
    "data_calls['duration'] = data_calls['duration'].apply(np.ceil)\n",
    "data_calls['duration'] = data_calls['duration'].astype('int')"
   ]
  },
  {
   "cell_type": "markdown",
   "metadata": {},
   "source": [
    "<div class=\"alert alert-success\">\n",
    "<h2> Комментарий ревьюера-2 <a class=\"tocSkip\"> </h2>\n",
    "\n",
    "<b>Все отлично!👍:</b>\n",
    "    \n",
    "Для округления ты использовал функцию np.ceil, всё верно, но, её лучше просто применять к столбцу, без метода apply. Так она будет быстрее выполняться - np.ceil применится сразу ко всему столбцу, apply же применяет её построчно. Ну и твой код будет короче =)"
   ]
  },
  {
   "cell_type": "markdown",
   "metadata": {},
   "source": [
    "Представляется необходимым перевести данные в столбце call_date в формат datetime, а данные в столбце user_id в формат str (так как это идентификатор и математические операции с ним не проводятся)."
   ]
  },
  {
   "cell_type": "code",
   "execution_count": 4,
   "metadata": {},
   "outputs": [
    {
     "name": "stdout",
     "output_type": "stream",
     "text": [
      "<class 'pandas.core.frame.DataFrame'>\n",
      "RangeIndex: 202607 entries, 0 to 202606\n",
      "Data columns (total 4 columns):\n",
      " #   Column     Non-Null Count   Dtype         \n",
      "---  ------     --------------   -----         \n",
      " 0   id         202607 non-null  object        \n",
      " 1   call_date  202607 non-null  datetime64[ns]\n",
      " 2   duration   202607 non-null  int64         \n",
      " 3   user_id    202607 non-null  object        \n",
      "dtypes: datetime64[ns](1), int64(1), object(2)\n",
      "memory usage: 6.2+ MB\n"
     ]
    },
    {
     "data": {
      "text/html": [
       "<div>\n",
       "<style scoped>\n",
       "    .dataframe tbody tr th:only-of-type {\n",
       "        vertical-align: middle;\n",
       "    }\n",
       "\n",
       "    .dataframe tbody tr th {\n",
       "        vertical-align: top;\n",
       "    }\n",
       "\n",
       "    .dataframe thead th {\n",
       "        text-align: right;\n",
       "    }\n",
       "</style>\n",
       "<table border=\"1\" class=\"dataframe\">\n",
       "  <thead>\n",
       "    <tr style=\"text-align: right;\">\n",
       "      <th></th>\n",
       "      <th>duration</th>\n",
       "    </tr>\n",
       "  </thead>\n",
       "  <tbody>\n",
       "    <tr>\n",
       "      <th>count</th>\n",
       "      <td>202,607.00</td>\n",
       "    </tr>\n",
       "    <tr>\n",
       "      <th>mean</th>\n",
       "      <td>7.16</td>\n",
       "    </tr>\n",
       "    <tr>\n",
       "      <th>std</th>\n",
       "      <td>5.96</td>\n",
       "    </tr>\n",
       "    <tr>\n",
       "      <th>min</th>\n",
       "      <td>0.00</td>\n",
       "    </tr>\n",
       "    <tr>\n",
       "      <th>25%</th>\n",
       "      <td>2.00</td>\n",
       "    </tr>\n",
       "    <tr>\n",
       "      <th>50%</th>\n",
       "      <td>6.00</td>\n",
       "    </tr>\n",
       "    <tr>\n",
       "      <th>75%</th>\n",
       "      <td>11.00</td>\n",
       "    </tr>\n",
       "    <tr>\n",
       "      <th>max</th>\n",
       "      <td>38.00</td>\n",
       "    </tr>\n",
       "  </tbody>\n",
       "</table>\n",
       "</div>"
      ],
      "text/plain": [
       "        duration\n",
       "count 202,607.00\n",
       "mean        7.16\n",
       "std         5.96\n",
       "min         0.00\n",
       "25%         2.00\n",
       "50%         6.00\n",
       "75%        11.00\n",
       "max        38.00"
      ]
     },
     "execution_count": 4,
     "metadata": {},
     "output_type": "execute_result"
    }
   ],
   "source": [
    "data_calls['call_date'] = pd.to_datetime(data_calls['call_date'],\n",
    "                                         format='%Y-%m-%d'\n",
    "                                        )\n",
    "data_calls['user_id'] = data_calls['user_id'].astype('str')\n",
    "data_calls.info()\n",
    "data_calls.describe()"
   ]
  },
  {
   "cell_type": "code",
   "execution_count": 5,
   "metadata": {},
   "outputs": [
    {
     "data": {
      "text/plain": [
       "492"
      ]
     },
     "execution_count": 5,
     "metadata": {},
     "output_type": "execute_result"
    }
   ],
   "source": [
    "data_calls['user_id'].nunique()"
   ]
  },
  {
   "cell_type": "markdown",
   "metadata": {},
   "source": [
    "<div class=\"alert alert-success\">\n",
    "<h2> Комментарий ревьюера <a class=\"tocSkip\"> </h2>\n",
    "\n",
    "<b>Все отлично!👍:</b> \n",
    "    \n",
    "Здорово, что ты указываешь формат даты при переводе столбца из текста в дату, это хорошая привычка, может спасти от неочевидных ошибок при переводе"
   ]
  },
  {
   "cell_type": "markdown",
   "metadata": {},
   "source": [
    "В датасете по звонкам представлена информация о 492 пользователях."
   ]
  },
  {
   "cell_type": "code",
   "execution_count": 6,
   "metadata": {},
   "outputs": [
    {
     "name": "stdout",
     "output_type": "stream",
     "text": [
      "<class 'pandas.core.frame.DataFrame'>\n",
      "RangeIndex: 149396 entries, 0 to 149395\n",
      "Data columns (total 5 columns):\n",
      " #   Column        Non-Null Count   Dtype  \n",
      "---  ------        --------------   -----  \n",
      " 0   Unnamed: 0    149396 non-null  int64  \n",
      " 1   id            149396 non-null  object \n",
      " 2   mb_used       149396 non-null  float64\n",
      " 3   session_date  149396 non-null  object \n",
      " 4   user_id       149396 non-null  int64  \n",
      "dtypes: float64(1), int64(2), object(2)\n",
      "memory usage: 5.7+ MB\n"
     ]
    },
    {
     "data": {
      "text/html": [
       "<div>\n",
       "<style scoped>\n",
       "    .dataframe tbody tr th:only-of-type {\n",
       "        vertical-align: middle;\n",
       "    }\n",
       "\n",
       "    .dataframe tbody tr th {\n",
       "        vertical-align: top;\n",
       "    }\n",
       "\n",
       "    .dataframe thead th {\n",
       "        text-align: right;\n",
       "    }\n",
       "</style>\n",
       "<table border=\"1\" class=\"dataframe\">\n",
       "  <thead>\n",
       "    <tr style=\"text-align: right;\">\n",
       "      <th></th>\n",
       "      <th>Unnamed: 0</th>\n",
       "      <th>id</th>\n",
       "      <th>mb_used</th>\n",
       "      <th>session_date</th>\n",
       "      <th>user_id</th>\n",
       "    </tr>\n",
       "  </thead>\n",
       "  <tbody>\n",
       "    <tr>\n",
       "      <th>10752</th>\n",
       "      <td>10752</td>\n",
       "      <td>1036_182</td>\n",
       "      <td>90.86</td>\n",
       "      <td>2018-11-10</td>\n",
       "      <td>1036</td>\n",
       "    </tr>\n",
       "    <tr>\n",
       "      <th>75908</th>\n",
       "      <td>75908</td>\n",
       "      <td>1255_104</td>\n",
       "      <td>978.69</td>\n",
       "      <td>2018-03-10</td>\n",
       "      <td>1255</td>\n",
       "    </tr>\n",
       "    <tr>\n",
       "      <th>14565</th>\n",
       "      <td>14565</td>\n",
       "      <td>1051_179</td>\n",
       "      <td>0.00</td>\n",
       "      <td>2018-07-01</td>\n",
       "      <td>1051</td>\n",
       "    </tr>\n",
       "    <tr>\n",
       "      <th>113690</th>\n",
       "      <td>113690</td>\n",
       "      <td>1384_400</td>\n",
       "      <td>610.96</td>\n",
       "      <td>2018-12-25</td>\n",
       "      <td>1384</td>\n",
       "    </tr>\n",
       "    <tr>\n",
       "      <th>97448</th>\n",
       "      <td>97448</td>\n",
       "      <td>1328_5</td>\n",
       "      <td>772.74</td>\n",
       "      <td>2018-12-27</td>\n",
       "      <td>1328</td>\n",
       "    </tr>\n",
       "    <tr>\n",
       "      <th>114552</th>\n",
       "      <td>114552</td>\n",
       "      <td>1386_5</td>\n",
       "      <td>106.45</td>\n",
       "      <td>2018-10-06</td>\n",
       "      <td>1386</td>\n",
       "    </tr>\n",
       "    <tr>\n",
       "      <th>33538</th>\n",
       "      <td>33538</td>\n",
       "      <td>1118_155</td>\n",
       "      <td>362.25</td>\n",
       "      <td>2018-11-19</td>\n",
       "      <td>1118</td>\n",
       "    </tr>\n",
       "    <tr>\n",
       "      <th>118548</th>\n",
       "      <td>118548</td>\n",
       "      <td>1400_259</td>\n",
       "      <td>703.18</td>\n",
       "      <td>2018-10-16</td>\n",
       "      <td>1400</td>\n",
       "    </tr>\n",
       "    <tr>\n",
       "      <th>30144</th>\n",
       "      <td>30144</td>\n",
       "      <td>1105_212</td>\n",
       "      <td>299.22</td>\n",
       "      <td>2018-12-26</td>\n",
       "      <td>1105</td>\n",
       "    </tr>\n",
       "    <tr>\n",
       "      <th>110674</th>\n",
       "      <td>110674</td>\n",
       "      <td>1375_390</td>\n",
       "      <td>784.47</td>\n",
       "      <td>2018-11-04</td>\n",
       "      <td>1375</td>\n",
       "    </tr>\n",
       "    <tr>\n",
       "      <th>51704</th>\n",
       "      <td>51704</td>\n",
       "      <td>1175_357</td>\n",
       "      <td>0.00</td>\n",
       "      <td>2018-09-25</td>\n",
       "      <td>1175</td>\n",
       "    </tr>\n",
       "    <tr>\n",
       "      <th>117262</th>\n",
       "      <td>117262</td>\n",
       "      <td>1394_220</td>\n",
       "      <td>7.83</td>\n",
       "      <td>2018-07-03</td>\n",
       "      <td>1394</td>\n",
       "    </tr>\n",
       "    <tr>\n",
       "      <th>132573</th>\n",
       "      <td>132573</td>\n",
       "      <td>1440_265</td>\n",
       "      <td>588.10</td>\n",
       "      <td>2018-10-03</td>\n",
       "      <td>1440</td>\n",
       "    </tr>\n",
       "    <tr>\n",
       "      <th>43756</th>\n",
       "      <td>43756</td>\n",
       "      <td>1151_9</td>\n",
       "      <td>205.59</td>\n",
       "      <td>2018-12-01</td>\n",
       "      <td>1151</td>\n",
       "    </tr>\n",
       "    <tr>\n",
       "      <th>24831</th>\n",
       "      <td>24831</td>\n",
       "      <td>1086_38</td>\n",
       "      <td>432.84</td>\n",
       "      <td>2018-05-09</td>\n",
       "      <td>1086</td>\n",
       "    </tr>\n",
       "  </tbody>\n",
       "</table>\n",
       "</div>"
      ],
      "text/plain": [
       "        Unnamed: 0        id  mb_used session_date  user_id\n",
       "10752        10752  1036_182    90.86   2018-11-10     1036\n",
       "75908        75908  1255_104   978.69   2018-03-10     1255\n",
       "14565        14565  1051_179     0.00   2018-07-01     1051\n",
       "113690      113690  1384_400   610.96   2018-12-25     1384\n",
       "97448        97448    1328_5   772.74   2018-12-27     1328\n",
       "114552      114552    1386_5   106.45   2018-10-06     1386\n",
       "33538        33538  1118_155   362.25   2018-11-19     1118\n",
       "118548      118548  1400_259   703.18   2018-10-16     1400\n",
       "30144        30144  1105_212   299.22   2018-12-26     1105\n",
       "110674      110674  1375_390   784.47   2018-11-04     1375\n",
       "51704        51704  1175_357     0.00   2018-09-25     1175\n",
       "117262      117262  1394_220     7.83   2018-07-03     1394\n",
       "132573      132573  1440_265   588.10   2018-10-03     1440\n",
       "43756        43756    1151_9   205.59   2018-12-01     1151\n",
       "24831        24831   1086_38   432.84   2018-05-09     1086"
      ]
     },
     "execution_count": 6,
     "metadata": {},
     "output_type": "execute_result"
    }
   ],
   "source": [
    "data_internet = pd.read_csv('/datasets/internet.csv')\n",
    "data_internet.info()\n",
    "data_internet.sample(15)"
   ]
  },
  {
   "cell_type": "code",
   "execution_count": 7,
   "metadata": {},
   "outputs": [
    {
     "name": "stdout",
     "output_type": "stream",
     "text": [
      "<class 'pandas.core.frame.DataFrame'>\n",
      "RangeIndex: 149396 entries, 0 to 149395\n",
      "Data columns (total 5 columns):\n",
      " #   Column        Non-Null Count   Dtype         \n",
      "---  ------        --------------   -----         \n",
      " 0   Unnamed: 0    149396 non-null  int64         \n",
      " 1   id            149396 non-null  object        \n",
      " 2   mb_used       149396 non-null  float64       \n",
      " 3   session_date  149396 non-null  datetime64[ns]\n",
      " 4   user_id       149396 non-null  object        \n",
      "dtypes: datetime64[ns](1), float64(1), int64(1), object(2)\n",
      "memory usage: 5.7+ MB\n"
     ]
    },
    {
     "data": {
      "text/html": [
       "<div>\n",
       "<style scoped>\n",
       "    .dataframe tbody tr th:only-of-type {\n",
       "        vertical-align: middle;\n",
       "    }\n",
       "\n",
       "    .dataframe tbody tr th {\n",
       "        vertical-align: top;\n",
       "    }\n",
       "\n",
       "    .dataframe thead th {\n",
       "        text-align: right;\n",
       "    }\n",
       "</style>\n",
       "<table border=\"1\" class=\"dataframe\">\n",
       "  <thead>\n",
       "    <tr style=\"text-align: right;\">\n",
       "      <th></th>\n",
       "      <th>Unnamed: 0</th>\n",
       "      <th>mb_used</th>\n",
       "    </tr>\n",
       "  </thead>\n",
       "  <tbody>\n",
       "    <tr>\n",
       "      <th>count</th>\n",
       "      <td>149,396.00</td>\n",
       "      <td>149,396.00</td>\n",
       "    </tr>\n",
       "    <tr>\n",
       "      <th>mean</th>\n",
       "      <td>74,697.50</td>\n",
       "      <td>370.19</td>\n",
       "    </tr>\n",
       "    <tr>\n",
       "      <th>std</th>\n",
       "      <td>43,127.05</td>\n",
       "      <td>278.30</td>\n",
       "    </tr>\n",
       "    <tr>\n",
       "      <th>min</th>\n",
       "      <td>0.00</td>\n",
       "      <td>0.00</td>\n",
       "    </tr>\n",
       "    <tr>\n",
       "      <th>25%</th>\n",
       "      <td>37,348.75</td>\n",
       "      <td>138.19</td>\n",
       "    </tr>\n",
       "    <tr>\n",
       "      <th>50%</th>\n",
       "      <td>74,697.50</td>\n",
       "      <td>348.01</td>\n",
       "    </tr>\n",
       "    <tr>\n",
       "      <th>75%</th>\n",
       "      <td>112,046.25</td>\n",
       "      <td>559.55</td>\n",
       "    </tr>\n",
       "    <tr>\n",
       "      <th>max</th>\n",
       "      <td>149,395.00</td>\n",
       "      <td>1,724.83</td>\n",
       "    </tr>\n",
       "  </tbody>\n",
       "</table>\n",
       "</div>"
      ],
      "text/plain": [
       "       Unnamed: 0    mb_used\n",
       "count  149,396.00 149,396.00\n",
       "mean    74,697.50     370.19\n",
       "std     43,127.05     278.30\n",
       "min          0.00       0.00\n",
       "25%     37,348.75     138.19\n",
       "50%     74,697.50     348.01\n",
       "75%    112,046.25     559.55\n",
       "max    149,395.00   1,724.83"
      ]
     },
     "execution_count": 7,
     "metadata": {},
     "output_type": "execute_result"
    }
   ],
   "source": [
    "data_internet['session_date'] = pd.to_datetime(\n",
    "                                                data_internet['session_date'],\n",
    "                                                format='%Y-%m-%d'\n",
    "                                                )\n",
    "\n",
    "data_internet['user_id'] = data_internet['user_id'].astype('str')\n",
    "\n",
    "data_internet.info()\n",
    "data_internet.describe()"
   ]
  },
  {
   "cell_type": "markdown",
   "metadata": {},
   "source": [
    "Имеются случаи с нулевым потреблением трафика. "
   ]
  },
  {
   "cell_type": "code",
   "execution_count": 8,
   "metadata": {},
   "outputs": [
    {
     "data": {
      "text/plain": [
       "19598"
      ]
     },
     "execution_count": 8,
     "metadata": {},
     "output_type": "execute_result"
    }
   ],
   "source": [
    "len(data_internet[data_internet['mb_used'] == 0])"
   ]
  },
  {
   "cell_type": "markdown",
   "metadata": {},
   "source": [
    "Интересно посмотреть на нулевые значения в разрезе тарифов"
   ]
  },
  {
   "cell_type": "code",
   "execution_count": 9,
   "metadata": {},
   "outputs": [],
   "source": [
    "data_users = pd.read_csv('/datasets/users.csv')\n",
    "data_users = data_users[['user_id', 'tariff']]\n",
    "\n",
    "data_users['user_id'] = data_users['user_id'].astype('str')\n",
    "data_internet_new = data_internet.join(data_users.set_index('user_id'), \n",
    "                                       on='user_id')"
   ]
  },
  {
   "cell_type": "code",
   "execution_count": 10,
   "metadata": {},
   "outputs": [
    {
     "name": "stdout",
     "output_type": "stream",
     "text": [
      "            id\n",
      "tariff        \n",
      "smart   111539\n",
      "ultra    37857\n"
     ]
    },
    {
     "data": {
      "text/html": [
       "<div>\n",
       "<style scoped>\n",
       "    .dataframe tbody tr th:only-of-type {\n",
       "        vertical-align: middle;\n",
       "    }\n",
       "\n",
       "    .dataframe tbody tr th {\n",
       "        vertical-align: top;\n",
       "    }\n",
       "\n",
       "    .dataframe thead th {\n",
       "        text-align: right;\n",
       "    }\n",
       "</style>\n",
       "<table border=\"1\" class=\"dataframe\">\n",
       "  <thead>\n",
       "    <tr style=\"text-align: right;\">\n",
       "      <th></th>\n",
       "      <th>id</th>\n",
       "    </tr>\n",
       "    <tr>\n",
       "      <th>tariff</th>\n",
       "      <th></th>\n",
       "    </tr>\n",
       "  </thead>\n",
       "  <tbody>\n",
       "    <tr>\n",
       "      <th>smart</th>\n",
       "      <td>17823</td>\n",
       "    </tr>\n",
       "    <tr>\n",
       "      <th>ultra</th>\n",
       "      <td>1775</td>\n",
       "    </tr>\n",
       "  </tbody>\n",
       "</table>\n",
       "</div>"
      ],
      "text/plain": [
       "           id\n",
       "tariff       \n",
       "smart   17823\n",
       "ultra    1775"
      ]
     },
     "execution_count": 10,
     "metadata": {},
     "output_type": "execute_result"
    }
   ],
   "source": [
    "print(\n",
    "    data_internet_new.pivot_table(index='tariff', \n",
    "                                  values='id', \n",
    "                                  aggfunc='count')\n",
    ")\n",
    "\n",
    "data_internet_new[data_internet_new['mb_used'] == 0].pivot_table(index='tariff', \n",
    "                                                                 values='id',\n",
    "                                                                 aggfunc='count')"
   ]
  },
  {
   "cell_type": "markdown",
   "metadata": {},
   "source": [
    "Пропусков значительно больше в тарифе smart, однако в датасете и самих строк с тарифом смарт больше. Заполнение по медиане или по среднему такого количества пропусков может исказить выборку, поэтому считаю необходимым удалить строки с пропусками."
   ]
  },
  {
   "cell_type": "code",
   "execution_count": 11,
   "metadata": {},
   "outputs": [
    {
     "name": "stdout",
     "output_type": "stream",
     "text": [
      "<class 'pandas.core.frame.DataFrame'>\n",
      "Int64Index: 129798 entries, 0 to 149395\n",
      "Data columns (total 5 columns):\n",
      " #   Column        Non-Null Count   Dtype         \n",
      "---  ------        --------------   -----         \n",
      " 0   Unnamed: 0    129798 non-null  int64         \n",
      " 1   id            129798 non-null  object        \n",
      " 2   mb_used       129798 non-null  float64       \n",
      " 3   session_date  129798 non-null  datetime64[ns]\n",
      " 4   user_id       129798 non-null  object        \n",
      "dtypes: datetime64[ns](1), float64(1), int64(1), object(2)\n",
      "memory usage: 5.9+ MB\n"
     ]
    }
   ],
   "source": [
    "data_internet = data_internet[data_internet['mb_used'] > 0]\n",
    "data_internet.info()"
   ]
  },
  {
   "cell_type": "code",
   "execution_count": 12,
   "metadata": {},
   "outputs": [
    {
     "name": "stdout",
     "output_type": "stream",
     "text": [
      "0\n"
     ]
    },
    {
     "data": {
      "text/plain": [
       "Unnamed: 0      0\n",
       "id              0\n",
       "mb_used         0\n",
       "session_date    0\n",
       "user_id         0\n",
       "dtype: int64"
      ]
     },
     "execution_count": 12,
     "metadata": {},
     "output_type": "execute_result"
    }
   ],
   "source": [
    "print(data_internet.duplicated().sum())\n",
    "data_internet.isna().sum()"
   ]
  },
  {
   "cell_type": "markdown",
   "metadata": {},
   "source": [
    "<div class=\"alert alert-success\">\n",
    "<h2> Комментарий ревьюера <a class=\"tocSkip\"> </h2>\n",
    "\n",
    "<b>Все отлично!👍:</b> \n",
    "    \n",
    "Чтобы не было колонки Unnamed: 0, нужно задать параметр index_col = 0 при чтении файла\n",
    "\n",
    "</div>\n"
   ]
  },
  {
   "cell_type": "markdown",
   "metadata": {},
   "source": [
    "Дубликатов и пропусков нет."
   ]
  },
  {
   "cell_type": "code",
   "execution_count": 13,
   "metadata": {},
   "outputs": [
    {
     "name": "stdout",
     "output_type": "stream",
     "text": [
      "<class 'pandas.core.frame.DataFrame'>\n",
      "RangeIndex: 123036 entries, 0 to 123035\n",
      "Data columns (total 3 columns):\n",
      " #   Column        Non-Null Count   Dtype \n",
      "---  ------        --------------   ----- \n",
      " 0   id            123036 non-null  object\n",
      " 1   message_date  123036 non-null  object\n",
      " 2   user_id       123036 non-null  int64 \n",
      "dtypes: int64(1), object(2)\n",
      "memory usage: 2.8+ MB\n"
     ]
    },
    {
     "data": {
      "text/html": [
       "<div>\n",
       "<style scoped>\n",
       "    .dataframe tbody tr th:only-of-type {\n",
       "        vertical-align: middle;\n",
       "    }\n",
       "\n",
       "    .dataframe tbody tr th {\n",
       "        vertical-align: top;\n",
       "    }\n",
       "\n",
       "    .dataframe thead th {\n",
       "        text-align: right;\n",
       "    }\n",
       "</style>\n",
       "<table border=\"1\" class=\"dataframe\">\n",
       "  <thead>\n",
       "    <tr style=\"text-align: right;\">\n",
       "      <th></th>\n",
       "      <th>id</th>\n",
       "      <th>message_date</th>\n",
       "      <th>user_id</th>\n",
       "    </tr>\n",
       "  </thead>\n",
       "  <tbody>\n",
       "    <tr>\n",
       "      <th>67240</th>\n",
       "      <td>1285_428</td>\n",
       "      <td>2018-07-25</td>\n",
       "      <td>1285</td>\n",
       "    </tr>\n",
       "    <tr>\n",
       "      <th>62120</th>\n",
       "      <td>1272_273</td>\n",
       "      <td>2018-10-24</td>\n",
       "      <td>1272</td>\n",
       "    </tr>\n",
       "    <tr>\n",
       "      <th>38794</th>\n",
       "      <td>1167_100</td>\n",
       "      <td>2018-12-17</td>\n",
       "      <td>1167</td>\n",
       "    </tr>\n",
       "    <tr>\n",
       "      <th>72230</th>\n",
       "      <td>1304_26</td>\n",
       "      <td>2018-11-05</td>\n",
       "      <td>1304</td>\n",
       "    </tr>\n",
       "    <tr>\n",
       "      <th>19818</th>\n",
       "      <td>1088_108</td>\n",
       "      <td>2018-06-06</td>\n",
       "      <td>1088</td>\n",
       "    </tr>\n",
       "    <tr>\n",
       "      <th>12820</th>\n",
       "      <td>1054_376</td>\n",
       "      <td>2018-06-06</td>\n",
       "      <td>1054</td>\n",
       "    </tr>\n",
       "    <tr>\n",
       "      <th>114539</th>\n",
       "      <td>1465_431</td>\n",
       "      <td>2018-11-29</td>\n",
       "      <td>1465</td>\n",
       "    </tr>\n",
       "    <tr>\n",
       "      <th>7314</th>\n",
       "      <td>1030_225</td>\n",
       "      <td>2018-08-17</td>\n",
       "      <td>1030</td>\n",
       "    </tr>\n",
       "    <tr>\n",
       "      <th>32317</th>\n",
       "      <td>1144_456</td>\n",
       "      <td>2018-11-25</td>\n",
       "      <td>1144</td>\n",
       "    </tr>\n",
       "    <tr>\n",
       "      <th>97441</th>\n",
       "      <td>1400_13</td>\n",
       "      <td>2018-08-25</td>\n",
       "      <td>1400</td>\n",
       "    </tr>\n",
       "    <tr>\n",
       "      <th>716</th>\n",
       "      <td>1003_150</td>\n",
       "      <td>2018-09-04</td>\n",
       "      <td>1003</td>\n",
       "    </tr>\n",
       "    <tr>\n",
       "      <th>83962</th>\n",
       "      <td>1350_106</td>\n",
       "      <td>2018-12-03</td>\n",
       "      <td>1350</td>\n",
       "    </tr>\n",
       "    <tr>\n",
       "      <th>9945</th>\n",
       "      <td>1039_601</td>\n",
       "      <td>2018-12-06</td>\n",
       "      <td>1039</td>\n",
       "    </tr>\n",
       "    <tr>\n",
       "      <th>74160</th>\n",
       "      <td>1314_11</td>\n",
       "      <td>2018-04-24</td>\n",
       "      <td>1314</td>\n",
       "    </tr>\n",
       "    <tr>\n",
       "      <th>89000</th>\n",
       "      <td>1373_12</td>\n",
       "      <td>2018-06-15</td>\n",
       "      <td>1373</td>\n",
       "    </tr>\n",
       "  </tbody>\n",
       "</table>\n",
       "</div>"
      ],
      "text/plain": [
       "              id message_date  user_id\n",
       "67240   1285_428   2018-07-25     1285\n",
       "62120   1272_273   2018-10-24     1272\n",
       "38794   1167_100   2018-12-17     1167\n",
       "72230    1304_26   2018-11-05     1304\n",
       "19818   1088_108   2018-06-06     1088\n",
       "12820   1054_376   2018-06-06     1054\n",
       "114539  1465_431   2018-11-29     1465\n",
       "7314    1030_225   2018-08-17     1030\n",
       "32317   1144_456   2018-11-25     1144\n",
       "97441    1400_13   2018-08-25     1400\n",
       "716     1003_150   2018-09-04     1003\n",
       "83962   1350_106   2018-12-03     1350\n",
       "9945    1039_601   2018-12-06     1039\n",
       "74160    1314_11   2018-04-24     1314\n",
       "89000    1373_12   2018-06-15     1373"
      ]
     },
     "execution_count": 13,
     "metadata": {},
     "output_type": "execute_result"
    }
   ],
   "source": [
    "data_messages = pd.read_csv('/datasets/messages.csv')\n",
    "data_messages.info()\n",
    "data_messages.sample(15)"
   ]
  },
  {
   "cell_type": "code",
   "execution_count": 14,
   "metadata": {},
   "outputs": [
    {
     "name": "stdout",
     "output_type": "stream",
     "text": [
      "0\n",
      "id              0\n",
      "message_date    0\n",
      "user_id         0\n",
      "dtype: int64\n"
     ]
    }
   ],
   "source": [
    "data_messages['message_date'] = pd.to_datetime(\n",
    "                                                data_messages['message_date'],\n",
    "                                                format='%Y-%m-%d'\n",
    "                                                )\n",
    "data_messages['user_id'] = data_messages['user_id'].astype('str')\n",
    "print(data_messages.duplicated().sum())\n",
    "print(data_messages.isna().sum())\n"
   ]
  },
  {
   "cell_type": "markdown",
   "metadata": {},
   "source": [
    "Пропусков и дубликатов нет."
   ]
  },
  {
   "cell_type": "code",
   "execution_count": 15,
   "metadata": {},
   "outputs": [
    {
     "name": "stdout",
     "output_type": "stream",
     "text": [
      "<class 'pandas.core.frame.DataFrame'>\n",
      "RangeIndex: 2 entries, 0 to 1\n",
      "Data columns (total 8 columns):\n",
      " #   Column                 Non-Null Count  Dtype \n",
      "---  ------                 --------------  ----- \n",
      " 0   messages_included      2 non-null      int64 \n",
      " 1   mb_per_month_included  2 non-null      int64 \n",
      " 2   minutes_included       2 non-null      int64 \n",
      " 3   rub_monthly_fee        2 non-null      int64 \n",
      " 4   rub_per_gb             2 non-null      int64 \n",
      " 5   rub_per_message        2 non-null      int64 \n",
      " 6   rub_per_minute         2 non-null      int64 \n",
      " 7   tariff_name            2 non-null      object\n",
      "dtypes: int64(7), object(1)\n",
      "memory usage: 256.0+ bytes\n"
     ]
    },
    {
     "data": {
      "text/html": [
       "<div>\n",
       "<style scoped>\n",
       "    .dataframe tbody tr th:only-of-type {\n",
       "        vertical-align: middle;\n",
       "    }\n",
       "\n",
       "    .dataframe tbody tr th {\n",
       "        vertical-align: top;\n",
       "    }\n",
       "\n",
       "    .dataframe thead th {\n",
       "        text-align: right;\n",
       "    }\n",
       "</style>\n",
       "<table border=\"1\" class=\"dataframe\">\n",
       "  <thead>\n",
       "    <tr style=\"text-align: right;\">\n",
       "      <th></th>\n",
       "      <th>messages_included</th>\n",
       "      <th>mb_per_month_included</th>\n",
       "      <th>minutes_included</th>\n",
       "      <th>rub_monthly_fee</th>\n",
       "      <th>rub_per_gb</th>\n",
       "      <th>rub_per_message</th>\n",
       "      <th>rub_per_minute</th>\n",
       "      <th>tariff_name</th>\n",
       "    </tr>\n",
       "  </thead>\n",
       "  <tbody>\n",
       "    <tr>\n",
       "      <th>0</th>\n",
       "      <td>50</td>\n",
       "      <td>15360</td>\n",
       "      <td>500</td>\n",
       "      <td>550</td>\n",
       "      <td>200</td>\n",
       "      <td>3</td>\n",
       "      <td>3</td>\n",
       "      <td>smart</td>\n",
       "    </tr>\n",
       "    <tr>\n",
       "      <th>1</th>\n",
       "      <td>1000</td>\n",
       "      <td>30720</td>\n",
       "      <td>3000</td>\n",
       "      <td>1950</td>\n",
       "      <td>150</td>\n",
       "      <td>1</td>\n",
       "      <td>1</td>\n",
       "      <td>ultra</td>\n",
       "    </tr>\n",
       "  </tbody>\n",
       "</table>\n",
       "</div>"
      ],
      "text/plain": [
       "   messages_included  mb_per_month_included  minutes_included  \\\n",
       "0                 50                  15360               500   \n",
       "1               1000                  30720              3000   \n",
       "\n",
       "   rub_monthly_fee  rub_per_gb  rub_per_message  rub_per_minute tariff_name  \n",
       "0              550         200                3               3       smart  \n",
       "1             1950         150                1               1       ultra  "
      ]
     },
     "execution_count": 15,
     "metadata": {},
     "output_type": "execute_result"
    }
   ],
   "source": [
    "data_tariffs = pd.read_csv('/datasets/tariffs.csv')\n",
    "data_tariffs.info()\n",
    "data_tariffs"
   ]
  },
  {
   "cell_type": "markdown",
   "metadata": {},
   "source": [
    "Проблем с датасетом нет"
   ]
  },
  {
   "cell_type": "code",
   "execution_count": 16,
   "metadata": {},
   "outputs": [
    {
     "name": "stdout",
     "output_type": "stream",
     "text": [
      "<class 'pandas.core.frame.DataFrame'>\n",
      "RangeIndex: 500 entries, 0 to 499\n",
      "Data columns (total 8 columns):\n",
      " #   Column      Non-Null Count  Dtype \n",
      "---  ------      --------------  ----- \n",
      " 0   user_id     500 non-null    int64 \n",
      " 1   age         500 non-null    int64 \n",
      " 2   churn_date  38 non-null     object\n",
      " 3   city        500 non-null    object\n",
      " 4   first_name  500 non-null    object\n",
      " 5   last_name   500 non-null    object\n",
      " 6   reg_date    500 non-null    object\n",
      " 7   tariff      500 non-null    object\n",
      "dtypes: int64(2), object(6)\n",
      "memory usage: 31.4+ KB\n"
     ]
    },
    {
     "data": {
      "text/html": [
       "<div>\n",
       "<style scoped>\n",
       "    .dataframe tbody tr th:only-of-type {\n",
       "        vertical-align: middle;\n",
       "    }\n",
       "\n",
       "    .dataframe tbody tr th {\n",
       "        vertical-align: top;\n",
       "    }\n",
       "\n",
       "    .dataframe thead th {\n",
       "        text-align: right;\n",
       "    }\n",
       "</style>\n",
       "<table border=\"1\" class=\"dataframe\">\n",
       "  <thead>\n",
       "    <tr style=\"text-align: right;\">\n",
       "      <th></th>\n",
       "      <th>user_id</th>\n",
       "      <th>age</th>\n",
       "      <th>churn_date</th>\n",
       "      <th>city</th>\n",
       "      <th>first_name</th>\n",
       "      <th>last_name</th>\n",
       "      <th>reg_date</th>\n",
       "      <th>tariff</th>\n",
       "    </tr>\n",
       "  </thead>\n",
       "  <tbody>\n",
       "    <tr>\n",
       "      <th>67</th>\n",
       "      <td>1067</td>\n",
       "      <td>45</td>\n",
       "      <td>NaN</td>\n",
       "      <td>Москва</td>\n",
       "      <td>Юзефа</td>\n",
       "      <td>Абашкина</td>\n",
       "      <td>2018-04-09</td>\n",
       "      <td>smart</td>\n",
       "    </tr>\n",
       "    <tr>\n",
       "      <th>159</th>\n",
       "      <td>1159</td>\n",
       "      <td>64</td>\n",
       "      <td>NaN</td>\n",
       "      <td>Красноярск</td>\n",
       "      <td>Эльга</td>\n",
       "      <td>Аничкина</td>\n",
       "      <td>2018-11-28</td>\n",
       "      <td>smart</td>\n",
       "    </tr>\n",
       "    <tr>\n",
       "      <th>183</th>\n",
       "      <td>1183</td>\n",
       "      <td>20</td>\n",
       "      <td>NaN</td>\n",
       "      <td>Владивосток</td>\n",
       "      <td>Снежана</td>\n",
       "      <td>Озерова</td>\n",
       "      <td>2018-07-12</td>\n",
       "      <td>smart</td>\n",
       "    </tr>\n",
       "    <tr>\n",
       "      <th>151</th>\n",
       "      <td>1151</td>\n",
       "      <td>39</td>\n",
       "      <td>NaN</td>\n",
       "      <td>Пенза</td>\n",
       "      <td>Лариса</td>\n",
       "      <td>Молчанова</td>\n",
       "      <td>2018-09-15</td>\n",
       "      <td>ultra</td>\n",
       "    </tr>\n",
       "    <tr>\n",
       "      <th>421</th>\n",
       "      <td>1421</td>\n",
       "      <td>30</td>\n",
       "      <td>NaN</td>\n",
       "      <td>Калининград</td>\n",
       "      <td>Гайдар</td>\n",
       "      <td>Александрович</td>\n",
       "      <td>2018-02-22</td>\n",
       "      <td>smart</td>\n",
       "    </tr>\n",
       "    <tr>\n",
       "      <th>209</th>\n",
       "      <td>1209</td>\n",
       "      <td>27</td>\n",
       "      <td>NaN</td>\n",
       "      <td>Омск</td>\n",
       "      <td>Альбин</td>\n",
       "      <td>Сорокин</td>\n",
       "      <td>2018-06-02</td>\n",
       "      <td>smart</td>\n",
       "    </tr>\n",
       "    <tr>\n",
       "      <th>470</th>\n",
       "      <td>1470</td>\n",
       "      <td>23</td>\n",
       "      <td>NaN</td>\n",
       "      <td>Новокузнецк</td>\n",
       "      <td>Эллада</td>\n",
       "      <td>Лосева</td>\n",
       "      <td>2018-10-19</td>\n",
       "      <td>smart</td>\n",
       "    </tr>\n",
       "    <tr>\n",
       "      <th>275</th>\n",
       "      <td>1275</td>\n",
       "      <td>48</td>\n",
       "      <td>NaN</td>\n",
       "      <td>Москва</td>\n",
       "      <td>Семён</td>\n",
       "      <td>Елизаров</td>\n",
       "      <td>2018-04-24</td>\n",
       "      <td>smart</td>\n",
       "    </tr>\n",
       "    <tr>\n",
       "      <th>354</th>\n",
       "      <td>1354</td>\n",
       "      <td>56</td>\n",
       "      <td>NaN</td>\n",
       "      <td>Сочи</td>\n",
       "      <td>Лола</td>\n",
       "      <td>Кулагина</td>\n",
       "      <td>2018-08-19</td>\n",
       "      <td>smart</td>\n",
       "    </tr>\n",
       "    <tr>\n",
       "      <th>357</th>\n",
       "      <td>1357</td>\n",
       "      <td>37</td>\n",
       "      <td>NaN</td>\n",
       "      <td>Томск</td>\n",
       "      <td>Касьян</td>\n",
       "      <td>Ермилов</td>\n",
       "      <td>2018-09-02</td>\n",
       "      <td>smart</td>\n",
       "    </tr>\n",
       "    <tr>\n",
       "      <th>140</th>\n",
       "      <td>1140</td>\n",
       "      <td>22</td>\n",
       "      <td>NaN</td>\n",
       "      <td>Киров</td>\n",
       "      <td>Леонид</td>\n",
       "      <td>Ахматулин</td>\n",
       "      <td>2018-12-31</td>\n",
       "      <td>smart</td>\n",
       "    </tr>\n",
       "    <tr>\n",
       "      <th>416</th>\n",
       "      <td>1416</td>\n",
       "      <td>50</td>\n",
       "      <td>2018-12-14</td>\n",
       "      <td>Санкт-Петербург</td>\n",
       "      <td>Валерия</td>\n",
       "      <td>Ёлчина</td>\n",
       "      <td>2018-07-16</td>\n",
       "      <td>ultra</td>\n",
       "    </tr>\n",
       "    <tr>\n",
       "      <th>305</th>\n",
       "      <td>1305</td>\n",
       "      <td>37</td>\n",
       "      <td>NaN</td>\n",
       "      <td>Москва</td>\n",
       "      <td>Эмилия</td>\n",
       "      <td>Лаптева</td>\n",
       "      <td>2018-10-25</td>\n",
       "      <td>smart</td>\n",
       "    </tr>\n",
       "    <tr>\n",
       "      <th>308</th>\n",
       "      <td>1308</td>\n",
       "      <td>52</td>\n",
       "      <td>NaN</td>\n",
       "      <td>Москва</td>\n",
       "      <td>Инесса</td>\n",
       "      <td>Корнилова</td>\n",
       "      <td>2018-01-04</td>\n",
       "      <td>smart</td>\n",
       "    </tr>\n",
       "    <tr>\n",
       "      <th>8</th>\n",
       "      <td>1008</td>\n",
       "      <td>63</td>\n",
       "      <td>NaN</td>\n",
       "      <td>Челябинск</td>\n",
       "      <td>Рустэм</td>\n",
       "      <td>Пономарёв</td>\n",
       "      <td>2018-12-19</td>\n",
       "      <td>smart</td>\n",
       "    </tr>\n",
       "  </tbody>\n",
       "</table>\n",
       "</div>"
      ],
      "text/plain": [
       "     user_id  age  churn_date             city first_name      last_name  \\\n",
       "67      1067   45         NaN           Москва      Юзефа       Абашкина   \n",
       "159     1159   64         NaN       Красноярск      Эльга       Аничкина   \n",
       "183     1183   20         NaN      Владивосток    Снежана        Озерова   \n",
       "151     1151   39         NaN            Пенза     Лариса      Молчанова   \n",
       "421     1421   30         NaN      Калининград     Гайдар  Александрович   \n",
       "209     1209   27         NaN             Омск     Альбин        Сорокин   \n",
       "470     1470   23         NaN      Новокузнецк     Эллада         Лосева   \n",
       "275     1275   48         NaN           Москва      Семён       Елизаров   \n",
       "354     1354   56         NaN             Сочи       Лола       Кулагина   \n",
       "357     1357   37         NaN            Томск     Касьян        Ермилов   \n",
       "140     1140   22         NaN            Киров     Леонид      Ахматулин   \n",
       "416     1416   50  2018-12-14  Санкт-Петербург    Валерия         Ёлчина   \n",
       "305     1305   37         NaN           Москва     Эмилия        Лаптева   \n",
       "308     1308   52         NaN           Москва     Инесса      Корнилова   \n",
       "8       1008   63         NaN        Челябинск     Рустэм      Пономарёв   \n",
       "\n",
       "       reg_date tariff  \n",
       "67   2018-04-09  smart  \n",
       "159  2018-11-28  smart  \n",
       "183  2018-07-12  smart  \n",
       "151  2018-09-15  ultra  \n",
       "421  2018-02-22  smart  \n",
       "209  2018-06-02  smart  \n",
       "470  2018-10-19  smart  \n",
       "275  2018-04-24  smart  \n",
       "354  2018-08-19  smart  \n",
       "357  2018-09-02  smart  \n",
       "140  2018-12-31  smart  \n",
       "416  2018-07-16  ultra  \n",
       "305  2018-10-25  smart  \n",
       "308  2018-01-04  smart  \n",
       "8    2018-12-19  smart  "
      ]
     },
     "execution_count": 16,
     "metadata": {},
     "output_type": "execute_result"
    }
   ],
   "source": [
    "data_users = pd.read_csv('/datasets/users.csv')\n",
    "data_users.info()\n",
    "data_users.sample(15)"
   ]
  },
  {
   "cell_type": "code",
   "execution_count": 17,
   "metadata": {},
   "outputs": [
    {
     "name": "stdout",
     "output_type": "stream",
     "text": [
      "<class 'pandas.core.frame.DataFrame'>\n",
      "RangeIndex: 500 entries, 0 to 499\n",
      "Data columns (total 8 columns):\n",
      " #   Column      Non-Null Count  Dtype         \n",
      "---  ------      --------------  -----         \n",
      " 0   user_id     500 non-null    object        \n",
      " 1   age         500 non-null    int64         \n",
      " 2   churn_date  38 non-null     datetime64[ns]\n",
      " 3   city        500 non-null    object        \n",
      " 4   first_name  500 non-null    object        \n",
      " 5   last_name   500 non-null    object        \n",
      " 6   reg_date    500 non-null    datetime64[ns]\n",
      " 7   tariff      500 non-null    object        \n",
      "dtypes: datetime64[ns](2), int64(1), object(5)\n",
      "memory usage: 31.4+ KB\n"
     ]
    }
   ],
   "source": [
    "for i in ['churn_date', 'reg_date']: \n",
    "    data_users[i] = pd.to_datetime(\n",
    "                                    data_users[i],\n",
    "                                    format='%Y-%m-%d'\n",
    "                                    )\n",
    "    \n",
    "data_users['user_id'] = data_users['user_id'].astype('str')\n",
    "data_users.info()"
   ]
  },
  {
   "cell_type": "code",
   "execution_count": 18,
   "metadata": {},
   "outputs": [
    {
     "name": "stdout",
     "output_type": "stream",
     "text": [
      "0\n",
      "user_id         0\n",
      "age             0\n",
      "churn_date    462\n",
      "city            0\n",
      "first_name      0\n",
      "last_name       0\n",
      "reg_date        0\n",
      "tariff          0\n",
      "dtype: int64\n"
     ]
    }
   ],
   "source": [
    "print(\n",
    "    data_users.duplicated().sum()\n",
    "    )\n",
    "\n",
    "print(\n",
    "    data_users.isna().sum()\n",
    "    )"
   ]
  },
  {
   "cell_type": "code",
   "execution_count": 19,
   "metadata": {},
   "outputs": [
    {
     "data": {
      "text/plain": [
       "0"
      ]
     },
     "execution_count": 19,
     "metadata": {},
     "output_type": "execute_result"
    }
   ],
   "source": [
    "data_users['user_id'].duplicated().sum()"
   ]
  },
  {
   "cell_type": "code",
   "execution_count": 20,
   "metadata": {},
   "outputs": [
    {
     "name": "stdout",
     "output_type": "stream",
     "text": [
      "[18, 19, 20, 21, 22, 23, 24, 25, 26, 27, 28, 29, 30, 31, 32, 33, 34, 35, 36, 37, 38, 39, 40, 41, 42, 43, 44, 45, 46, 47, 48, 49, 50, 51, 52, 53, 54, 55, 56, 57, 58, 59, 60, 61, 62, 63, 64, 65, 66, 67, 68, 69, 70, 71, 72, 73, 74, 75]\n"
     ]
    }
   ],
   "source": [
    "print(\n",
    "    sorted(data_users['age'].unique()\n",
    "          )\n",
    "    )"
   ]
  },
  {
   "cell_type": "markdown",
   "metadata": {},
   "source": [
    "Возраста в пределах нормы."
   ]
  },
  {
   "cell_type": "code",
   "execution_count": 21,
   "metadata": {},
   "outputs": [
    {
     "name": "stdout",
     "output_type": "stream",
     "text": [
      "['Архангельск', 'Астрахань', 'Балашиха', 'Барнаул', 'Белгород', 'Брянск', 'Владивосток', 'Владикавказ', 'Владимир', 'Волгоград', 'Волжский', 'Вологда', 'Воронеж', 'Грозный', 'Екатеринбург', 'Иваново', 'Ижевск', 'Иркутск', 'Казань', 'Калининград', 'Калуга', 'Кемерово', 'Киров', 'Кострома', 'Краснодар', 'Красноярск', 'Курган', 'Курск', 'Липецк', 'Магнитогорск', 'Махачкала', 'Москва', 'Мурманск', 'Набережные Челны', 'Нижневартовск', 'Нижний Новгород', 'Нижний Тагил', 'Новокузнецк', 'Новороссийск', 'Новосибирск', 'Омск', 'Оренбург', 'Орёл', 'Пенза', 'Пермь', 'Петрозаводск', 'Подольск', 'Ростов-на-Дону', 'Рязань', 'Самара', 'Санкт-Петербург', 'Саранск', 'Саратов', 'Севастополь', 'Смоленск', 'Сочи', 'Ставрополь', 'Стерлитамак', 'Сургут', 'Тамбов', 'Тверь', 'Тольятти', 'Томск', 'Тула', 'Тюмень', 'Улан-Удэ', 'Ульяновск', 'Уфа', 'Хабаровск', 'Химки', 'Чебоксары', 'Челябинск', 'Череповец', 'Чита', 'Якутск', 'Ярославль']\n"
     ]
    }
   ],
   "source": [
    "print(\n",
    "    sorted(data_users['city'].unique()\n",
    "          )\n",
    "    )"
   ]
  },
  {
   "cell_type": "markdown",
   "metadata": {},
   "source": [
    "Неявных дубликатов нет."
   ]
  },
  {
   "cell_type": "code",
   "execution_count": 22,
   "metadata": {},
   "outputs": [
    {
     "name": "stdout",
     "output_type": "stream",
     "text": [
      "0\n"
     ]
    },
    {
     "name": "stderr",
     "output_type": "stream",
     "text": [
      "/tmp/ipykernel_86/756338070.py:2: SettingWithCopyWarning: \n",
      "A value is trying to be set on a copy of a slice from a DataFrame.\n",
      "Try using .loc[row_indexer,col_indexer] = value instead\n",
      "\n",
      "See the caveats in the documentation: https://pandas.pydata.org/pandas-docs/stable/user_guide/indexing.html#returning-a-view-versus-a-copy\n",
      "  data_users_name['first_name'] = data_users_name['first_name'].str.lower()\n",
      "/tmp/ipykernel_86/756338070.py:3: SettingWithCopyWarning: \n",
      "A value is trying to be set on a copy of a slice from a DataFrame.\n",
      "Try using .loc[row_indexer,col_indexer] = value instead\n",
      "\n",
      "See the caveats in the documentation: https://pandas.pydata.org/pandas-docs/stable/user_guide/indexing.html#returning-a-view-versus-a-copy\n",
      "  data_users_name['last_name'] = data_users_name['last_name'].str.lower()\n"
     ]
    }
   ],
   "source": [
    "data_users_name = data_users[['first_name', 'last_name']]\n",
    "data_users_name['first_name'] = data_users_name['first_name'].str.lower()\n",
    "data_users_name['last_name'] = data_users_name['last_name'].str.lower()\n",
    "print(data_users_name.duplicated().sum())"
   ]
  },
  {
   "cell_type": "markdown",
   "metadata": {},
   "source": [
    "Нет совпадений имен и фамилий одновременно. "
   ]
  },
  {
   "cell_type": "markdown",
   "metadata": {},
   "source": [
    "<div class=\"alert alert-block alert-danger\">\n",
    "<h2> Комментарий ревьюера <a class=\"tocSkip\"></h2>\n",
    "\n",
    "\n",
    "<b>На доработку🤔:</b>\n",
    "    \n",
    "Данные проверены, всё окей.\n",
    "    \n",
    "Но, надо не забывать про округление данных из задания, при подготовке данных нужно было округлить звонки:\n",
    "    \n",
    "    Каждый звонок округляется отдельно: даже если он длился всего 1 секунду, будет засчитан как 1 минута."
   ]
  },
  {
   "cell_type": "markdown",
   "metadata": {},
   "source": [
    "<div class=\"alert alert-info\"> Данные по звонкам округлил \n",
    "    \n",
    " </div>"
   ]
  },
  {
   "cell_type": "markdown",
   "metadata": {},
   "source": [
    "## Проанализируйте данные"
   ]
  },
  {
   "cell_type": "markdown",
   "metadata": {},
   "source": [
    "Посчитайте для каждого пользователя:\n",
    "\n",
    "    количество сделанных звонков и израсходованных минут разговора по месяцам;\n",
    "    количество отправленных сообщений по месяцам;\n",
    "    объем израсходованного интернет-трафика по месяцам;\n",
    "    помесячную выручку с каждого пользователя (вычтите бесплатный лимит из суммарного количества звонков, сообщений и интернет-трафика; остаток умножьте на значение из тарифного плана; прибавьте абонентскую плату, соответствующую тарифному плану)."
   ]
  },
  {
   "cell_type": "markdown",
   "metadata": {},
   "source": [
    "Установим для каждого пользователя количество сделанных звонков и израсходованных минут разговора по месяцам. Для этого в том числе необходимо выделить месяц и добавить в дальнейшем информацию о тарифе, чтобы посчитать расходы клиентов в зависемости от тарифа."
   ]
  },
  {
   "cell_type": "code",
   "execution_count": 23,
   "metadata": {},
   "outputs": [
    {
     "data": {
      "text/html": [
       "<div>\n",
       "<style scoped>\n",
       "    .dataframe tbody tr th:only-of-type {\n",
       "        vertical-align: middle;\n",
       "    }\n",
       "\n",
       "    .dataframe tbody tr th {\n",
       "        vertical-align: top;\n",
       "    }\n",
       "\n",
       "    .dataframe thead th {\n",
       "        text-align: right;\n",
       "    }\n",
       "</style>\n",
       "<table border=\"1\" class=\"dataframe\">\n",
       "  <thead>\n",
       "    <tr style=\"text-align: right;\">\n",
       "      <th></th>\n",
       "      <th>id</th>\n",
       "      <th>call_date</th>\n",
       "      <th>duration</th>\n",
       "      <th>user_id</th>\n",
       "      <th>month</th>\n",
       "    </tr>\n",
       "  </thead>\n",
       "  <tbody>\n",
       "    <tr>\n",
       "      <th>0</th>\n",
       "      <td>1000_0</td>\n",
       "      <td>2018-07-25</td>\n",
       "      <td>0</td>\n",
       "      <td>1000</td>\n",
       "      <td>7</td>\n",
       "    </tr>\n",
       "    <tr>\n",
       "      <th>1</th>\n",
       "      <td>1000_1</td>\n",
       "      <td>2018-08-17</td>\n",
       "      <td>0</td>\n",
       "      <td>1000</td>\n",
       "      <td>8</td>\n",
       "    </tr>\n",
       "    <tr>\n",
       "      <th>2</th>\n",
       "      <td>1000_2</td>\n",
       "      <td>2018-06-11</td>\n",
       "      <td>3</td>\n",
       "      <td>1000</td>\n",
       "      <td>6</td>\n",
       "    </tr>\n",
       "    <tr>\n",
       "      <th>3</th>\n",
       "      <td>1000_3</td>\n",
       "      <td>2018-09-21</td>\n",
       "      <td>14</td>\n",
       "      <td>1000</td>\n",
       "      <td>9</td>\n",
       "    </tr>\n",
       "    <tr>\n",
       "      <th>4</th>\n",
       "      <td>1000_4</td>\n",
       "      <td>2018-12-15</td>\n",
       "      <td>6</td>\n",
       "      <td>1000</td>\n",
       "      <td>12</td>\n",
       "    </tr>\n",
       "    <tr>\n",
       "      <th>...</th>\n",
       "      <td>...</td>\n",
       "      <td>...</td>\n",
       "      <td>...</td>\n",
       "      <td>...</td>\n",
       "      <td>...</td>\n",
       "    </tr>\n",
       "    <tr>\n",
       "      <th>202602</th>\n",
       "      <td>1499_215</td>\n",
       "      <td>2018-12-26</td>\n",
       "      <td>1</td>\n",
       "      <td>1499</td>\n",
       "      <td>12</td>\n",
       "    </tr>\n",
       "    <tr>\n",
       "      <th>202603</th>\n",
       "      <td>1499_216</td>\n",
       "      <td>2018-10-18</td>\n",
       "      <td>19</td>\n",
       "      <td>1499</td>\n",
       "      <td>10</td>\n",
       "    </tr>\n",
       "    <tr>\n",
       "      <th>202604</th>\n",
       "      <td>1499_217</td>\n",
       "      <td>2018-11-10</td>\n",
       "      <td>11</td>\n",
       "      <td>1499</td>\n",
       "      <td>11</td>\n",
       "    </tr>\n",
       "    <tr>\n",
       "      <th>202605</th>\n",
       "      <td>1499_218</td>\n",
       "      <td>2018-10-06</td>\n",
       "      <td>5</td>\n",
       "      <td>1499</td>\n",
       "      <td>10</td>\n",
       "    </tr>\n",
       "    <tr>\n",
       "      <th>202606</th>\n",
       "      <td>1499_219</td>\n",
       "      <td>2018-12-14</td>\n",
       "      <td>20</td>\n",
       "      <td>1499</td>\n",
       "      <td>12</td>\n",
       "    </tr>\n",
       "  </tbody>\n",
       "</table>\n",
       "<p>202607 rows × 5 columns</p>\n",
       "</div>"
      ],
      "text/plain": [
       "              id  call_date  duration user_id  month\n",
       "0         1000_0 2018-07-25         0    1000      7\n",
       "1         1000_1 2018-08-17         0    1000      8\n",
       "2         1000_2 2018-06-11         3    1000      6\n",
       "3         1000_3 2018-09-21        14    1000      9\n",
       "4         1000_4 2018-12-15         6    1000     12\n",
       "...          ...        ...       ...     ...    ...\n",
       "202602  1499_215 2018-12-26         1    1499     12\n",
       "202603  1499_216 2018-10-18        19    1499     10\n",
       "202604  1499_217 2018-11-10        11    1499     11\n",
       "202605  1499_218 2018-10-06         5    1499     10\n",
       "202606  1499_219 2018-12-14        20    1499     12\n",
       "\n",
       "[202607 rows x 5 columns]"
      ]
     },
     "execution_count": 23,
     "metadata": {},
     "output_type": "execute_result"
    }
   ],
   "source": [
    "data_calls['month'] = data_calls['call_date'].dt.month\n",
    "data_calls"
   ]
  },
  {
   "cell_type": "markdown",
   "metadata": {},
   "source": [
    "<div class=\"alert alert-warning\">\n",
    "<h2> Комментарий ревьюера <a class=\"tocSkip\"> </h2>\n",
    "\n",
    "<b>Некоторые замечания и рекомендации💡:</b>\n",
    "    \n",
    "На этих данных такой перевод в месяц можно делать, но, на будущее, если данные будут за большее время, то апрель 2018 и апрель 2019 будут под одной цифрой 4. В таких случаях можно дату переводить в первый день месяца с помощью df['дата'].astype('datetime64[M]')"
   ]
  },
  {
   "cell_type": "code",
   "execution_count": 24,
   "metadata": {},
   "outputs": [],
   "source": [
    "data_users_new = data_users[['user_id', 'tariff']]\n",
    "data_calls = data_calls.join(data_users_new.set_index('user_id'), \n",
    "                             on='user_id')"
   ]
  },
  {
   "cell_type": "code",
   "execution_count": 25,
   "metadata": {},
   "outputs": [
    {
     "data": {
      "text/html": [
       "<div>\n",
       "<style scoped>\n",
       "    .dataframe tbody tr th:only-of-type {\n",
       "        vertical-align: middle;\n",
       "    }\n",
       "\n",
       "    .dataframe tbody tr th {\n",
       "        vertical-align: top;\n",
       "    }\n",
       "\n",
       "    .dataframe thead th {\n",
       "        text-align: right;\n",
       "    }\n",
       "</style>\n",
       "<table border=\"1\" class=\"dataframe\">\n",
       "  <thead>\n",
       "    <tr style=\"text-align: right;\">\n",
       "      <th></th>\n",
       "      <th>id</th>\n",
       "      <th>call_date</th>\n",
       "      <th>duration</th>\n",
       "      <th>user_id</th>\n",
       "      <th>month</th>\n",
       "      <th>tariff</th>\n",
       "    </tr>\n",
       "  </thead>\n",
       "  <tbody>\n",
       "    <tr>\n",
       "      <th>0</th>\n",
       "      <td>1000_0</td>\n",
       "      <td>2018-07-25</td>\n",
       "      <td>0</td>\n",
       "      <td>1000</td>\n",
       "      <td>7</td>\n",
       "      <td>ultra</td>\n",
       "    </tr>\n",
       "    <tr>\n",
       "      <th>1</th>\n",
       "      <td>1000_1</td>\n",
       "      <td>2018-08-17</td>\n",
       "      <td>0</td>\n",
       "      <td>1000</td>\n",
       "      <td>8</td>\n",
       "      <td>ultra</td>\n",
       "    </tr>\n",
       "    <tr>\n",
       "      <th>2</th>\n",
       "      <td>1000_2</td>\n",
       "      <td>2018-06-11</td>\n",
       "      <td>3</td>\n",
       "      <td>1000</td>\n",
       "      <td>6</td>\n",
       "      <td>ultra</td>\n",
       "    </tr>\n",
       "    <tr>\n",
       "      <th>3</th>\n",
       "      <td>1000_3</td>\n",
       "      <td>2018-09-21</td>\n",
       "      <td>14</td>\n",
       "      <td>1000</td>\n",
       "      <td>9</td>\n",
       "      <td>ultra</td>\n",
       "    </tr>\n",
       "    <tr>\n",
       "      <th>4</th>\n",
       "      <td>1000_4</td>\n",
       "      <td>2018-12-15</td>\n",
       "      <td>6</td>\n",
       "      <td>1000</td>\n",
       "      <td>12</td>\n",
       "      <td>ultra</td>\n",
       "    </tr>\n",
       "    <tr>\n",
       "      <th>...</th>\n",
       "      <td>...</td>\n",
       "      <td>...</td>\n",
       "      <td>...</td>\n",
       "      <td>...</td>\n",
       "      <td>...</td>\n",
       "      <td>...</td>\n",
       "    </tr>\n",
       "    <tr>\n",
       "      <th>202602</th>\n",
       "      <td>1499_215</td>\n",
       "      <td>2018-12-26</td>\n",
       "      <td>1</td>\n",
       "      <td>1499</td>\n",
       "      <td>12</td>\n",
       "      <td>smart</td>\n",
       "    </tr>\n",
       "    <tr>\n",
       "      <th>202603</th>\n",
       "      <td>1499_216</td>\n",
       "      <td>2018-10-18</td>\n",
       "      <td>19</td>\n",
       "      <td>1499</td>\n",
       "      <td>10</td>\n",
       "      <td>smart</td>\n",
       "    </tr>\n",
       "    <tr>\n",
       "      <th>202604</th>\n",
       "      <td>1499_217</td>\n",
       "      <td>2018-11-10</td>\n",
       "      <td>11</td>\n",
       "      <td>1499</td>\n",
       "      <td>11</td>\n",
       "      <td>smart</td>\n",
       "    </tr>\n",
       "    <tr>\n",
       "      <th>202605</th>\n",
       "      <td>1499_218</td>\n",
       "      <td>2018-10-06</td>\n",
       "      <td>5</td>\n",
       "      <td>1499</td>\n",
       "      <td>10</td>\n",
       "      <td>smart</td>\n",
       "    </tr>\n",
       "    <tr>\n",
       "      <th>202606</th>\n",
       "      <td>1499_219</td>\n",
       "      <td>2018-12-14</td>\n",
       "      <td>20</td>\n",
       "      <td>1499</td>\n",
       "      <td>12</td>\n",
       "      <td>smart</td>\n",
       "    </tr>\n",
       "  </tbody>\n",
       "</table>\n",
       "<p>202607 rows × 6 columns</p>\n",
       "</div>"
      ],
      "text/plain": [
       "              id  call_date  duration user_id  month tariff\n",
       "0         1000_0 2018-07-25         0    1000      7  ultra\n",
       "1         1000_1 2018-08-17         0    1000      8  ultra\n",
       "2         1000_2 2018-06-11         3    1000      6  ultra\n",
       "3         1000_3 2018-09-21        14    1000      9  ultra\n",
       "4         1000_4 2018-12-15         6    1000     12  ultra\n",
       "...          ...        ...       ...     ...    ...    ...\n",
       "202602  1499_215 2018-12-26         1    1499     12  smart\n",
       "202603  1499_216 2018-10-18        19    1499     10  smart\n",
       "202604  1499_217 2018-11-10        11    1499     11  smart\n",
       "202605  1499_218 2018-10-06         5    1499     10  smart\n",
       "202606  1499_219 2018-12-14        20    1499     12  smart\n",
       "\n",
       "[202607 rows x 6 columns]"
      ]
     },
     "execution_count": 25,
     "metadata": {},
     "output_type": "execute_result"
    }
   ],
   "source": [
    "data_calls"
   ]
  },
  {
   "cell_type": "markdown",
   "metadata": {},
   "source": [
    "Количество сделанных звонков для каждого пользователя по месяцам "
   ]
  },
  {
   "cell_type": "code",
   "execution_count": 26,
   "metadata": {},
   "outputs": [
    {
     "data": {
      "text/html": [
       "<div>\n",
       "<style scoped>\n",
       "    .dataframe tbody tr th:only-of-type {\n",
       "        vertical-align: middle;\n",
       "    }\n",
       "\n",
       "    .dataframe tbody tr th {\n",
       "        vertical-align: top;\n",
       "    }\n",
       "\n",
       "    .dataframe thead th {\n",
       "        text-align: right;\n",
       "    }\n",
       "</style>\n",
       "<table border=\"1\" class=\"dataframe\">\n",
       "  <thead>\n",
       "    <tr style=\"text-align: right;\">\n",
       "      <th>month</th>\n",
       "      <th>user_id</th>\n",
       "      <th>1</th>\n",
       "      <th>2</th>\n",
       "      <th>3</th>\n",
       "      <th>4</th>\n",
       "      <th>5</th>\n",
       "      <th>6</th>\n",
       "      <th>7</th>\n",
       "      <th>8</th>\n",
       "      <th>9</th>\n",
       "      <th>10</th>\n",
       "      <th>11</th>\n",
       "      <th>12</th>\n",
       "    </tr>\n",
       "  </thead>\n",
       "  <tbody>\n",
       "    <tr>\n",
       "      <th>0</th>\n",
       "      <td>1000</td>\n",
       "      <td>NaN</td>\n",
       "      <td>NaN</td>\n",
       "      <td>NaN</td>\n",
       "      <td>NaN</td>\n",
       "      <td>22.00</td>\n",
       "      <td>43.00</td>\n",
       "      <td>47.00</td>\n",
       "      <td>52.00</td>\n",
       "      <td>58.00</td>\n",
       "      <td>57.00</td>\n",
       "      <td>43.00</td>\n",
       "      <td>46.00</td>\n",
       "    </tr>\n",
       "    <tr>\n",
       "      <th>1</th>\n",
       "      <td>1001</td>\n",
       "      <td>NaN</td>\n",
       "      <td>NaN</td>\n",
       "      <td>NaN</td>\n",
       "      <td>NaN</td>\n",
       "      <td>NaN</td>\n",
       "      <td>NaN</td>\n",
       "      <td>NaN</td>\n",
       "      <td>NaN</td>\n",
       "      <td>NaN</td>\n",
       "      <td>NaN</td>\n",
       "      <td>59.00</td>\n",
       "      <td>63.00</td>\n",
       "    </tr>\n",
       "    <tr>\n",
       "      <th>2</th>\n",
       "      <td>1002</td>\n",
       "      <td>NaN</td>\n",
       "      <td>NaN</td>\n",
       "      <td>NaN</td>\n",
       "      <td>NaN</td>\n",
       "      <td>NaN</td>\n",
       "      <td>15.00</td>\n",
       "      <td>26.00</td>\n",
       "      <td>42.00</td>\n",
       "      <td>36.00</td>\n",
       "      <td>33.00</td>\n",
       "      <td>32.00</td>\n",
       "      <td>33.00</td>\n",
       "    </tr>\n",
       "    <tr>\n",
       "      <th>3</th>\n",
       "      <td>1003</td>\n",
       "      <td>NaN</td>\n",
       "      <td>NaN</td>\n",
       "      <td>NaN</td>\n",
       "      <td>NaN</td>\n",
       "      <td>NaN</td>\n",
       "      <td>NaN</td>\n",
       "      <td>NaN</td>\n",
       "      <td>55.00</td>\n",
       "      <td>134.00</td>\n",
       "      <td>108.00</td>\n",
       "      <td>115.00</td>\n",
       "      <td>108.00</td>\n",
       "    </tr>\n",
       "    <tr>\n",
       "      <th>4</th>\n",
       "      <td>1004</td>\n",
       "      <td>NaN</td>\n",
       "      <td>NaN</td>\n",
       "      <td>NaN</td>\n",
       "      <td>NaN</td>\n",
       "      <td>9.00</td>\n",
       "      <td>31.00</td>\n",
       "      <td>22.00</td>\n",
       "      <td>19.00</td>\n",
       "      <td>26.00</td>\n",
       "      <td>29.00</td>\n",
       "      <td>19.00</td>\n",
       "      <td>21.00</td>\n",
       "    </tr>\n",
       "    <tr>\n",
       "      <th>...</th>\n",
       "      <td>...</td>\n",
       "      <td>...</td>\n",
       "      <td>...</td>\n",
       "      <td>...</td>\n",
       "      <td>...</td>\n",
       "      <td>...</td>\n",
       "      <td>...</td>\n",
       "      <td>...</td>\n",
       "      <td>...</td>\n",
       "      <td>...</td>\n",
       "      <td>...</td>\n",
       "      <td>...</td>\n",
       "      <td>...</td>\n",
       "    </tr>\n",
       "    <tr>\n",
       "      <th>487</th>\n",
       "      <td>1495</td>\n",
       "      <td>NaN</td>\n",
       "      <td>NaN</td>\n",
       "      <td>NaN</td>\n",
       "      <td>NaN</td>\n",
       "      <td>NaN</td>\n",
       "      <td>NaN</td>\n",
       "      <td>NaN</td>\n",
       "      <td>17.00</td>\n",
       "      <td>112.00</td>\n",
       "      <td>152.00</td>\n",
       "      <td>129.00</td>\n",
       "      <td>155.00</td>\n",
       "    </tr>\n",
       "    <tr>\n",
       "      <th>488</th>\n",
       "      <td>1496</td>\n",
       "      <td>7.00</td>\n",
       "      <td>77.00</td>\n",
       "      <td>79.00</td>\n",
       "      <td>67.00</td>\n",
       "      <td>63.00</td>\n",
       "      <td>74.00</td>\n",
       "      <td>73.00</td>\n",
       "      <td>88.00</td>\n",
       "      <td>68.00</td>\n",
       "      <td>72.00</td>\n",
       "      <td>80.00</td>\n",
       "      <td>80.00</td>\n",
       "    </tr>\n",
       "    <tr>\n",
       "      <th>489</th>\n",
       "      <td>1497</td>\n",
       "      <td>NaN</td>\n",
       "      <td>NaN</td>\n",
       "      <td>NaN</td>\n",
       "      <td>NaN</td>\n",
       "      <td>NaN</td>\n",
       "      <td>NaN</td>\n",
       "      <td>NaN</td>\n",
       "      <td>NaN</td>\n",
       "      <td>NaN</td>\n",
       "      <td>66.00</td>\n",
       "      <td>64.00</td>\n",
       "      <td>71.00</td>\n",
       "    </tr>\n",
       "    <tr>\n",
       "      <th>490</th>\n",
       "      <td>1498</td>\n",
       "      <td>NaN</td>\n",
       "      <td>NaN</td>\n",
       "      <td>NaN</td>\n",
       "      <td>NaN</td>\n",
       "      <td>NaN</td>\n",
       "      <td>NaN</td>\n",
       "      <td>23.00</td>\n",
       "      <td>57.00</td>\n",
       "      <td>59.00</td>\n",
       "      <td>41.00</td>\n",
       "      <td>NaN</td>\n",
       "      <td>NaN</td>\n",
       "    </tr>\n",
       "    <tr>\n",
       "      <th>491</th>\n",
       "      <td>1499</td>\n",
       "      <td>NaN</td>\n",
       "      <td>NaN</td>\n",
       "      <td>NaN</td>\n",
       "      <td>NaN</td>\n",
       "      <td>NaN</td>\n",
       "      <td>NaN</td>\n",
       "      <td>NaN</td>\n",
       "      <td>NaN</td>\n",
       "      <td>9.00</td>\n",
       "      <td>68.00</td>\n",
       "      <td>74.00</td>\n",
       "      <td>69.00</td>\n",
       "    </tr>\n",
       "  </tbody>\n",
       "</table>\n",
       "<p>492 rows × 13 columns</p>\n",
       "</div>"
      ],
      "text/plain": [
       "month user_id    1     2     3     4     5     6     7     8      9     10  \\\n",
       "0        1000  NaN   NaN   NaN   NaN 22.00 43.00 47.00 52.00  58.00  57.00   \n",
       "1        1001  NaN   NaN   NaN   NaN   NaN   NaN   NaN   NaN    NaN    NaN   \n",
       "2        1002  NaN   NaN   NaN   NaN   NaN 15.00 26.00 42.00  36.00  33.00   \n",
       "3        1003  NaN   NaN   NaN   NaN   NaN   NaN   NaN 55.00 134.00 108.00   \n",
       "4        1004  NaN   NaN   NaN   NaN  9.00 31.00 22.00 19.00  26.00  29.00   \n",
       "..        ...  ...   ...   ...   ...   ...   ...   ...   ...    ...    ...   \n",
       "487      1495  NaN   NaN   NaN   NaN   NaN   NaN   NaN 17.00 112.00 152.00   \n",
       "488      1496 7.00 77.00 79.00 67.00 63.00 74.00 73.00 88.00  68.00  72.00   \n",
       "489      1497  NaN   NaN   NaN   NaN   NaN   NaN   NaN   NaN    NaN  66.00   \n",
       "490      1498  NaN   NaN   NaN   NaN   NaN   NaN 23.00 57.00  59.00  41.00   \n",
       "491      1499  NaN   NaN   NaN   NaN   NaN   NaN   NaN   NaN   9.00  68.00   \n",
       "\n",
       "month     11     12  \n",
       "0      43.00  46.00  \n",
       "1      59.00  63.00  \n",
       "2      32.00  33.00  \n",
       "3     115.00 108.00  \n",
       "4      19.00  21.00  \n",
       "..       ...    ...  \n",
       "487   129.00 155.00  \n",
       "488    80.00  80.00  \n",
       "489    64.00  71.00  \n",
       "490      NaN    NaN  \n",
       "491    74.00  69.00  \n",
       "\n",
       "[492 rows x 13 columns]"
      ]
     },
     "execution_count": 26,
     "metadata": {},
     "output_type": "execute_result"
    }
   ],
   "source": [
    "pivot_calls_num = data_calls.pivot_table(\n",
    "                        index='user_id', \n",
    "                        columns='month', \n",
    "                        values='id',\n",
    "                        aggfunc={'id':'count'}\n",
    "                        ).reset_index()\n",
    "pivot_calls_num"
   ]
  },
  {
   "cell_type": "markdown",
   "metadata": {},
   "source": [
    "<div class=\"alert alert-warning\">\n",
    "<h2> Комментарий ревьюера <a class=\"tocSkip\"> </h2>\n",
    "\n",
    "<b>Некоторые замечания и рекомендации💡:</b>\n",
    "    \n",
    "Ты сделал правильную сводную таблицу, но с ней очень неудобно в дальнейшем работать. Лучше чтобы в одной строке была запись о звонках одного пользователя в одном месяце. Это просто сделать просто передав в index = [айди, месяц]. Также можно в aggfunc передать две функции для аггрегации"
   ]
  },
  {
   "cell_type": "markdown",
   "metadata": {},
   "source": [
    "Количество израсходованных минут разговора по месяцам"
   ]
  },
  {
   "cell_type": "code",
   "execution_count": 27,
   "metadata": {},
   "outputs": [],
   "source": [
    "pivot_calls_duration = data_calls.pivot_table(\n",
    "                        index=['user_id', 'tariff'], \n",
    "                        columns='month', \n",
    "                        values='duration',\n",
    "                        aggfunc={'duration':'sum'}\n",
    "                        ).reset_index()"
   ]
  },
  {
   "cell_type": "code",
   "execution_count": 28,
   "metadata": {},
   "outputs": [
    {
     "data": {
      "text/html": [
       "<div>\n",
       "<style scoped>\n",
       "    .dataframe tbody tr th:only-of-type {\n",
       "        vertical-align: middle;\n",
       "    }\n",
       "\n",
       "    .dataframe tbody tr th {\n",
       "        vertical-align: top;\n",
       "    }\n",
       "\n",
       "    .dataframe thead th {\n",
       "        text-align: right;\n",
       "    }\n",
       "</style>\n",
       "<table border=\"1\" class=\"dataframe\">\n",
       "  <thead>\n",
       "    <tr style=\"text-align: right;\">\n",
       "      <th>month</th>\n",
       "      <th>user_id</th>\n",
       "      <th>tariff</th>\n",
       "      <th>1</th>\n",
       "      <th>2</th>\n",
       "      <th>3</th>\n",
       "      <th>4</th>\n",
       "      <th>5</th>\n",
       "      <th>6</th>\n",
       "      <th>7</th>\n",
       "      <th>8</th>\n",
       "      <th>9</th>\n",
       "      <th>10</th>\n",
       "      <th>11</th>\n",
       "      <th>12</th>\n",
       "    </tr>\n",
       "  </thead>\n",
       "  <tbody>\n",
       "    <tr>\n",
       "      <th>0</th>\n",
       "      <td>1000</td>\n",
       "      <td>ultra</td>\n",
       "      <td>NaN</td>\n",
       "      <td>NaN</td>\n",
       "      <td>NaN</td>\n",
       "      <td>NaN</td>\n",
       "      <td>159.00</td>\n",
       "      <td>172.00</td>\n",
       "      <td>340.00</td>\n",
       "      <td>408.00</td>\n",
       "      <td>466.00</td>\n",
       "      <td>350.00</td>\n",
       "      <td>338.00</td>\n",
       "      <td>333.00</td>\n",
       "    </tr>\n",
       "    <tr>\n",
       "      <th>1</th>\n",
       "      <td>1001</td>\n",
       "      <td>smart</td>\n",
       "      <td>NaN</td>\n",
       "      <td>NaN</td>\n",
       "      <td>NaN</td>\n",
       "      <td>NaN</td>\n",
       "      <td>NaN</td>\n",
       "      <td>NaN</td>\n",
       "      <td>NaN</td>\n",
       "      <td>NaN</td>\n",
       "      <td>NaN</td>\n",
       "      <td>NaN</td>\n",
       "      <td>430.00</td>\n",
       "      <td>414.00</td>\n",
       "    </tr>\n",
       "    <tr>\n",
       "      <th>2</th>\n",
       "      <td>1002</td>\n",
       "      <td>smart</td>\n",
       "      <td>NaN</td>\n",
       "      <td>NaN</td>\n",
       "      <td>NaN</td>\n",
       "      <td>NaN</td>\n",
       "      <td>NaN</td>\n",
       "      <td>117.00</td>\n",
       "      <td>214.00</td>\n",
       "      <td>289.00</td>\n",
       "      <td>206.00</td>\n",
       "      <td>212.00</td>\n",
       "      <td>243.00</td>\n",
       "      <td>236.00</td>\n",
       "    </tr>\n",
       "    <tr>\n",
       "      <th>3</th>\n",
       "      <td>1003</td>\n",
       "      <td>ultra</td>\n",
       "      <td>NaN</td>\n",
       "      <td>NaN</td>\n",
       "      <td>NaN</td>\n",
       "      <td>NaN</td>\n",
       "      <td>NaN</td>\n",
       "      <td>NaN</td>\n",
       "      <td>NaN</td>\n",
       "      <td>380.00</td>\n",
       "      <td>961.00</td>\n",
       "      <td>855.00</td>\n",
       "      <td>824.00</td>\n",
       "      <td>802.00</td>\n",
       "    </tr>\n",
       "    <tr>\n",
       "      <th>4</th>\n",
       "      <td>1004</td>\n",
       "      <td>ultra</td>\n",
       "      <td>NaN</td>\n",
       "      <td>NaN</td>\n",
       "      <td>NaN</td>\n",
       "      <td>NaN</td>\n",
       "      <td>35.00</td>\n",
       "      <td>171.00</td>\n",
       "      <td>135.00</td>\n",
       "      <td>137.00</td>\n",
       "      <td>117.00</td>\n",
       "      <td>145.00</td>\n",
       "      <td>117.00</td>\n",
       "      <td>130.00</td>\n",
       "    </tr>\n",
       "    <tr>\n",
       "      <th>...</th>\n",
       "      <td>...</td>\n",
       "      <td>...</td>\n",
       "      <td>...</td>\n",
       "      <td>...</td>\n",
       "      <td>...</td>\n",
       "      <td>...</td>\n",
       "      <td>...</td>\n",
       "      <td>...</td>\n",
       "      <td>...</td>\n",
       "      <td>...</td>\n",
       "      <td>...</td>\n",
       "      <td>...</td>\n",
       "      <td>...</td>\n",
       "      <td>...</td>\n",
       "    </tr>\n",
       "    <tr>\n",
       "      <th>487</th>\n",
       "      <td>1495</td>\n",
       "      <td>ultra</td>\n",
       "      <td>NaN</td>\n",
       "      <td>NaN</td>\n",
       "      <td>NaN</td>\n",
       "      <td>NaN</td>\n",
       "      <td>NaN</td>\n",
       "      <td>NaN</td>\n",
       "      <td>NaN</td>\n",
       "      <td>92.00</td>\n",
       "      <td>813.00</td>\n",
       "      <td>1,030.00</td>\n",
       "      <td>954.00</td>\n",
       "      <td>1,031.00</td>\n",
       "    </tr>\n",
       "    <tr>\n",
       "      <th>488</th>\n",
       "      <td>1496</td>\n",
       "      <td>smart</td>\n",
       "      <td>48.00</td>\n",
       "      <td>594.00</td>\n",
       "      <td>557.00</td>\n",
       "      <td>521.00</td>\n",
       "      <td>484.00</td>\n",
       "      <td>555.00</td>\n",
       "      <td>582.00</td>\n",
       "      <td>527.00</td>\n",
       "      <td>486.00</td>\n",
       "      <td>450.00</td>\n",
       "      <td>662.00</td>\n",
       "      <td>518.00</td>\n",
       "    </tr>\n",
       "    <tr>\n",
       "      <th>489</th>\n",
       "      <td>1497</td>\n",
       "      <td>smart</td>\n",
       "      <td>NaN</td>\n",
       "      <td>NaN</td>\n",
       "      <td>NaN</td>\n",
       "      <td>NaN</td>\n",
       "      <td>NaN</td>\n",
       "      <td>NaN</td>\n",
       "      <td>NaN</td>\n",
       "      <td>NaN</td>\n",
       "      <td>NaN</td>\n",
       "      <td>490.00</td>\n",
       "      <td>371.00</td>\n",
       "      <td>545.00</td>\n",
       "    </tr>\n",
       "    <tr>\n",
       "      <th>490</th>\n",
       "      <td>1498</td>\n",
       "      <td>smart</td>\n",
       "      <td>NaN</td>\n",
       "      <td>NaN</td>\n",
       "      <td>NaN</td>\n",
       "      <td>NaN</td>\n",
       "      <td>NaN</td>\n",
       "      <td>NaN</td>\n",
       "      <td>175.00</td>\n",
       "      <td>400.00</td>\n",
       "      <td>471.00</td>\n",
       "      <td>247.00</td>\n",
       "      <td>NaN</td>\n",
       "      <td>NaN</td>\n",
       "    </tr>\n",
       "    <tr>\n",
       "      <th>491</th>\n",
       "      <td>1499</td>\n",
       "      <td>smart</td>\n",
       "      <td>NaN</td>\n",
       "      <td>NaN</td>\n",
       "      <td>NaN</td>\n",
       "      <td>NaN</td>\n",
       "      <td>NaN</td>\n",
       "      <td>NaN</td>\n",
       "      <td>NaN</td>\n",
       "      <td>NaN</td>\n",
       "      <td>70.00</td>\n",
       "      <td>449.00</td>\n",
       "      <td>612.00</td>\n",
       "      <td>492.00</td>\n",
       "    </tr>\n",
       "  </tbody>\n",
       "</table>\n",
       "<p>492 rows × 14 columns</p>\n",
       "</div>"
      ],
      "text/plain": [
       "month user_id tariff     1      2      3      4      5      6      7      8  \\\n",
       "0        1000  ultra   NaN    NaN    NaN    NaN 159.00 172.00 340.00 408.00   \n",
       "1        1001  smart   NaN    NaN    NaN    NaN    NaN    NaN    NaN    NaN   \n",
       "2        1002  smart   NaN    NaN    NaN    NaN    NaN 117.00 214.00 289.00   \n",
       "3        1003  ultra   NaN    NaN    NaN    NaN    NaN    NaN    NaN 380.00   \n",
       "4        1004  ultra   NaN    NaN    NaN    NaN  35.00 171.00 135.00 137.00   \n",
       "..        ...    ...   ...    ...    ...    ...    ...    ...    ...    ...   \n",
       "487      1495  ultra   NaN    NaN    NaN    NaN    NaN    NaN    NaN  92.00   \n",
       "488      1496  smart 48.00 594.00 557.00 521.00 484.00 555.00 582.00 527.00   \n",
       "489      1497  smart   NaN    NaN    NaN    NaN    NaN    NaN    NaN    NaN   \n",
       "490      1498  smart   NaN    NaN    NaN    NaN    NaN    NaN 175.00 400.00   \n",
       "491      1499  smart   NaN    NaN    NaN    NaN    NaN    NaN    NaN    NaN   \n",
       "\n",
       "month      9       10     11       12  \n",
       "0     466.00   350.00 338.00   333.00  \n",
       "1        NaN      NaN 430.00   414.00  \n",
       "2     206.00   212.00 243.00   236.00  \n",
       "3     961.00   855.00 824.00   802.00  \n",
       "4     117.00   145.00 117.00   130.00  \n",
       "..       ...      ...    ...      ...  \n",
       "487   813.00 1,030.00 954.00 1,031.00  \n",
       "488   486.00   450.00 662.00   518.00  \n",
       "489      NaN   490.00 371.00   545.00  \n",
       "490   471.00   247.00    NaN      NaN  \n",
       "491    70.00   449.00 612.00   492.00  \n",
       "\n",
       "[492 rows x 14 columns]"
      ]
     },
     "execution_count": 28,
     "metadata": {},
     "output_type": "execute_result"
    }
   ],
   "source": [
    "pivot_calls_duration"
   ]
  },
  {
   "cell_type": "markdown",
   "metadata": {},
   "source": [
    "Количество сообщений по месяцам"
   ]
  },
  {
   "cell_type": "code",
   "execution_count": 29,
   "metadata": {},
   "outputs": [],
   "source": [
    "data_messages = data_messages.join(data_users_new.set_index('user_id'), \n",
    "                                   on='user_id')"
   ]
  },
  {
   "cell_type": "code",
   "execution_count": 30,
   "metadata": {},
   "outputs": [
    {
     "data": {
      "text/html": [
       "<div>\n",
       "<style scoped>\n",
       "    .dataframe tbody tr th:only-of-type {\n",
       "        vertical-align: middle;\n",
       "    }\n",
       "\n",
       "    .dataframe tbody tr th {\n",
       "        vertical-align: top;\n",
       "    }\n",
       "\n",
       "    .dataframe thead th {\n",
       "        text-align: right;\n",
       "    }\n",
       "</style>\n",
       "<table border=\"1\" class=\"dataframe\">\n",
       "  <thead>\n",
       "    <tr style=\"text-align: right;\">\n",
       "      <th></th>\n",
       "      <th>id</th>\n",
       "      <th>message_date</th>\n",
       "      <th>user_id</th>\n",
       "      <th>tariff</th>\n",
       "      <th>month</th>\n",
       "    </tr>\n",
       "  </thead>\n",
       "  <tbody>\n",
       "    <tr>\n",
       "      <th>37812</th>\n",
       "      <td>1165_166</td>\n",
       "      <td>2018-11-26</td>\n",
       "      <td>1165</td>\n",
       "      <td>ultra</td>\n",
       "      <td>11</td>\n",
       "    </tr>\n",
       "    <tr>\n",
       "      <th>100520</th>\n",
       "      <td>1411_356</td>\n",
       "      <td>2018-10-25</td>\n",
       "      <td>1411</td>\n",
       "      <td>smart</td>\n",
       "      <td>10</td>\n",
       "    </tr>\n",
       "    <tr>\n",
       "      <th>17698</th>\n",
       "      <td>1076_847</td>\n",
       "      <td>2018-07-14</td>\n",
       "      <td>1076</td>\n",
       "      <td>smart</td>\n",
       "      <td>7</td>\n",
       "    </tr>\n",
       "    <tr>\n",
       "      <th>34461</th>\n",
       "      <td>1149_273</td>\n",
       "      <td>2018-06-08</td>\n",
       "      <td>1149</td>\n",
       "      <td>smart</td>\n",
       "      <td>6</td>\n",
       "    </tr>\n",
       "    <tr>\n",
       "      <th>59712</th>\n",
       "      <td>1262_203</td>\n",
       "      <td>2018-04-30</td>\n",
       "      <td>1262</td>\n",
       "      <td>smart</td>\n",
       "      <td>4</td>\n",
       "    </tr>\n",
       "  </tbody>\n",
       "</table>\n",
       "</div>"
      ],
      "text/plain": [
       "              id message_date user_id tariff  month\n",
       "37812   1165_166   2018-11-26    1165  ultra     11\n",
       "100520  1411_356   2018-10-25    1411  smart     10\n",
       "17698   1076_847   2018-07-14    1076  smart      7\n",
       "34461   1149_273   2018-06-08    1149  smart      6\n",
       "59712   1262_203   2018-04-30    1262  smart      4"
      ]
     },
     "execution_count": 30,
     "metadata": {},
     "output_type": "execute_result"
    }
   ],
   "source": [
    "data_messages['month'] = data_messages['message_date'].dt.month\n",
    "data_messages.sample(5)"
   ]
  },
  {
   "cell_type": "code",
   "execution_count": 31,
   "metadata": {},
   "outputs": [
    {
     "data": {
      "text/html": [
       "<div>\n",
       "<style scoped>\n",
       "    .dataframe tbody tr th:only-of-type {\n",
       "        vertical-align: middle;\n",
       "    }\n",
       "\n",
       "    .dataframe tbody tr th {\n",
       "        vertical-align: top;\n",
       "    }\n",
       "\n",
       "    .dataframe thead th {\n",
       "        text-align: right;\n",
       "    }\n",
       "</style>\n",
       "<table border=\"1\" class=\"dataframe\">\n",
       "  <thead>\n",
       "    <tr style=\"text-align: right;\">\n",
       "      <th>month</th>\n",
       "      <th>user_id</th>\n",
       "      <th>tariff</th>\n",
       "      <th>1</th>\n",
       "      <th>2</th>\n",
       "      <th>3</th>\n",
       "      <th>4</th>\n",
       "      <th>5</th>\n",
       "      <th>6</th>\n",
       "      <th>7</th>\n",
       "      <th>8</th>\n",
       "      <th>9</th>\n",
       "      <th>10</th>\n",
       "      <th>11</th>\n",
       "      <th>12</th>\n",
       "    </tr>\n",
       "  </thead>\n",
       "  <tbody>\n",
       "    <tr>\n",
       "      <th>0</th>\n",
       "      <td>1000</td>\n",
       "      <td>ultra</td>\n",
       "      <td>NaN</td>\n",
       "      <td>NaN</td>\n",
       "      <td>NaN</td>\n",
       "      <td>NaN</td>\n",
       "      <td>22.00</td>\n",
       "      <td>60.00</td>\n",
       "      <td>75.00</td>\n",
       "      <td>81.00</td>\n",
       "      <td>57.00</td>\n",
       "      <td>73.00</td>\n",
       "      <td>58.00</td>\n",
       "      <td>70.00</td>\n",
       "    </tr>\n",
       "    <tr>\n",
       "      <th>1</th>\n",
       "      <td>1002</td>\n",
       "      <td>smart</td>\n",
       "      <td>NaN</td>\n",
       "      <td>NaN</td>\n",
       "      <td>NaN</td>\n",
       "      <td>NaN</td>\n",
       "      <td>NaN</td>\n",
       "      <td>4.00</td>\n",
       "      <td>11.00</td>\n",
       "      <td>13.00</td>\n",
       "      <td>4.00</td>\n",
       "      <td>10.00</td>\n",
       "      <td>16.00</td>\n",
       "      <td>12.00</td>\n",
       "    </tr>\n",
       "    <tr>\n",
       "      <th>2</th>\n",
       "      <td>1003</td>\n",
       "      <td>ultra</td>\n",
       "      <td>NaN</td>\n",
       "      <td>NaN</td>\n",
       "      <td>NaN</td>\n",
       "      <td>NaN</td>\n",
       "      <td>NaN</td>\n",
       "      <td>NaN</td>\n",
       "      <td>NaN</td>\n",
       "      <td>37.00</td>\n",
       "      <td>91.00</td>\n",
       "      <td>83.00</td>\n",
       "      <td>94.00</td>\n",
       "      <td>75.00</td>\n",
       "    </tr>\n",
       "    <tr>\n",
       "      <th>3</th>\n",
       "      <td>1004</td>\n",
       "      <td>ultra</td>\n",
       "      <td>NaN</td>\n",
       "      <td>NaN</td>\n",
       "      <td>NaN</td>\n",
       "      <td>NaN</td>\n",
       "      <td>95.00</td>\n",
       "      <td>134.00</td>\n",
       "      <td>181.00</td>\n",
       "      <td>151.00</td>\n",
       "      <td>146.00</td>\n",
       "      <td>165.00</td>\n",
       "      <td>158.00</td>\n",
       "      <td>162.00</td>\n",
       "    </tr>\n",
       "    <tr>\n",
       "      <th>4</th>\n",
       "      <td>1005</td>\n",
       "      <td>smart</td>\n",
       "      <td>7.00</td>\n",
       "      <td>38.00</td>\n",
       "      <td>56.00</td>\n",
       "      <td>41.00</td>\n",
       "      <td>42.00</td>\n",
       "      <td>47.00</td>\n",
       "      <td>56.00</td>\n",
       "      <td>64.00</td>\n",
       "      <td>52.00</td>\n",
       "      <td>44.00</td>\n",
       "      <td>51.00</td>\n",
       "      <td>54.00</td>\n",
       "    </tr>\n",
       "    <tr>\n",
       "      <th>...</th>\n",
       "      <td>...</td>\n",
       "      <td>...</td>\n",
       "      <td>...</td>\n",
       "      <td>...</td>\n",
       "      <td>...</td>\n",
       "      <td>...</td>\n",
       "      <td>...</td>\n",
       "      <td>...</td>\n",
       "      <td>...</td>\n",
       "      <td>...</td>\n",
       "      <td>...</td>\n",
       "      <td>...</td>\n",
       "      <td>...</td>\n",
       "      <td>...</td>\n",
       "    </tr>\n",
       "    <tr>\n",
       "      <th>421</th>\n",
       "      <td>1495</td>\n",
       "      <td>ultra</td>\n",
       "      <td>NaN</td>\n",
       "      <td>NaN</td>\n",
       "      <td>NaN</td>\n",
       "      <td>NaN</td>\n",
       "      <td>NaN</td>\n",
       "      <td>NaN</td>\n",
       "      <td>NaN</td>\n",
       "      <td>13.00</td>\n",
       "      <td>82.00</td>\n",
       "      <td>82.00</td>\n",
       "      <td>79.00</td>\n",
       "      <td>84.00</td>\n",
       "    </tr>\n",
       "    <tr>\n",
       "      <th>422</th>\n",
       "      <td>1496</td>\n",
       "      <td>smart</td>\n",
       "      <td>9.00</td>\n",
       "      <td>45.00</td>\n",
       "      <td>46.00</td>\n",
       "      <td>49.00</td>\n",
       "      <td>40.00</td>\n",
       "      <td>35.00</td>\n",
       "      <td>42.00</td>\n",
       "      <td>41.00</td>\n",
       "      <td>29.00</td>\n",
       "      <td>35.00</td>\n",
       "      <td>46.00</td>\n",
       "      <td>51.00</td>\n",
       "    </tr>\n",
       "    <tr>\n",
       "      <th>423</th>\n",
       "      <td>1497</td>\n",
       "      <td>smart</td>\n",
       "      <td>NaN</td>\n",
       "      <td>NaN</td>\n",
       "      <td>NaN</td>\n",
       "      <td>NaN</td>\n",
       "      <td>NaN</td>\n",
       "      <td>NaN</td>\n",
       "      <td>NaN</td>\n",
       "      <td>NaN</td>\n",
       "      <td>NaN</td>\n",
       "      <td>20.00</td>\n",
       "      <td>14.00</td>\n",
       "      <td>17.00</td>\n",
       "    </tr>\n",
       "    <tr>\n",
       "      <th>424</th>\n",
       "      <td>1498</td>\n",
       "      <td>smart</td>\n",
       "      <td>NaN</td>\n",
       "      <td>NaN</td>\n",
       "      <td>NaN</td>\n",
       "      <td>NaN</td>\n",
       "      <td>NaN</td>\n",
       "      <td>NaN</td>\n",
       "      <td>20.00</td>\n",
       "      <td>62.00</td>\n",
       "      <td>44.00</td>\n",
       "      <td>42.00</td>\n",
       "      <td>NaN</td>\n",
       "      <td>NaN</td>\n",
       "    </tr>\n",
       "    <tr>\n",
       "      <th>425</th>\n",
       "      <td>1499</td>\n",
       "      <td>smart</td>\n",
       "      <td>NaN</td>\n",
       "      <td>NaN</td>\n",
       "      <td>NaN</td>\n",
       "      <td>NaN</td>\n",
       "      <td>NaN</td>\n",
       "      <td>NaN</td>\n",
       "      <td>NaN</td>\n",
       "      <td>NaN</td>\n",
       "      <td>11.00</td>\n",
       "      <td>48.00</td>\n",
       "      <td>59.00</td>\n",
       "      <td>66.00</td>\n",
       "    </tr>\n",
       "  </tbody>\n",
       "</table>\n",
       "<p>426 rows × 14 columns</p>\n",
       "</div>"
      ],
      "text/plain": [
       "month user_id tariff    1     2     3     4     5      6      7      8      9  \\\n",
       "0        1000  ultra  NaN   NaN   NaN   NaN 22.00  60.00  75.00  81.00  57.00   \n",
       "1        1002  smart  NaN   NaN   NaN   NaN   NaN   4.00  11.00  13.00   4.00   \n",
       "2        1003  ultra  NaN   NaN   NaN   NaN   NaN    NaN    NaN  37.00  91.00   \n",
       "3        1004  ultra  NaN   NaN   NaN   NaN 95.00 134.00 181.00 151.00 146.00   \n",
       "4        1005  smart 7.00 38.00 56.00 41.00 42.00  47.00  56.00  64.00  52.00   \n",
       "..        ...    ...  ...   ...   ...   ...   ...    ...    ...    ...    ...   \n",
       "421      1495  ultra  NaN   NaN   NaN   NaN   NaN    NaN    NaN  13.00  82.00   \n",
       "422      1496  smart 9.00 45.00 46.00 49.00 40.00  35.00  42.00  41.00  29.00   \n",
       "423      1497  smart  NaN   NaN   NaN   NaN   NaN    NaN    NaN    NaN    NaN   \n",
       "424      1498  smart  NaN   NaN   NaN   NaN   NaN    NaN  20.00  62.00  44.00   \n",
       "425      1499  smart  NaN   NaN   NaN   NaN   NaN    NaN    NaN    NaN  11.00   \n",
       "\n",
       "month     10     11     12  \n",
       "0      73.00  58.00  70.00  \n",
       "1      10.00  16.00  12.00  \n",
       "2      83.00  94.00  75.00  \n",
       "3     165.00 158.00 162.00  \n",
       "4      44.00  51.00  54.00  \n",
       "..       ...    ...    ...  \n",
       "421    82.00  79.00  84.00  \n",
       "422    35.00  46.00  51.00  \n",
       "423    20.00  14.00  17.00  \n",
       "424    42.00    NaN    NaN  \n",
       "425    48.00  59.00  66.00  \n",
       "\n",
       "[426 rows x 14 columns]"
      ]
     },
     "execution_count": 31,
     "metadata": {},
     "output_type": "execute_result"
    }
   ],
   "source": [
    "pivot_messages = data_messages.pivot_table(index=['user_id', 'tariff'],\n",
    "                                           columns='month',\n",
    "                                           values='id',\n",
    "                                           aggfunc='count'\n",
    "                                          ).reset_index()\n",
    "pivot_messages"
   ]
  },
  {
   "cell_type": "markdown",
   "metadata": {},
   "source": [
    "объем израсходованного интернет-трафика по месяцам"
   ]
  },
  {
   "cell_type": "code",
   "execution_count": 32,
   "metadata": {},
   "outputs": [],
   "source": [
    "data_internet = data_internet.join(data_users_new.set_index('user_id'), \n",
    "                                   on='user_id')"
   ]
  },
  {
   "cell_type": "code",
   "execution_count": 33,
   "metadata": {},
   "outputs": [
    {
     "data": {
      "text/html": [
       "<div>\n",
       "<style scoped>\n",
       "    .dataframe tbody tr th:only-of-type {\n",
       "        vertical-align: middle;\n",
       "    }\n",
       "\n",
       "    .dataframe tbody tr th {\n",
       "        vertical-align: top;\n",
       "    }\n",
       "\n",
       "    .dataframe thead th {\n",
       "        text-align: right;\n",
       "    }\n",
       "</style>\n",
       "<table border=\"1\" class=\"dataframe\">\n",
       "  <thead>\n",
       "    <tr style=\"text-align: right;\">\n",
       "      <th></th>\n",
       "      <th>Unnamed: 0</th>\n",
       "      <th>id</th>\n",
       "      <th>mb_used</th>\n",
       "      <th>session_date</th>\n",
       "      <th>user_id</th>\n",
       "      <th>tariff</th>\n",
       "      <th>month</th>\n",
       "    </tr>\n",
       "  </thead>\n",
       "  <tbody>\n",
       "    <tr>\n",
       "      <th>46098</th>\n",
       "      <td>46098</td>\n",
       "      <td>1157_610</td>\n",
       "      <td>591.55</td>\n",
       "      <td>2018-08-18</td>\n",
       "      <td>1157</td>\n",
       "      <td>smart</td>\n",
       "      <td>8</td>\n",
       "    </tr>\n",
       "    <tr>\n",
       "      <th>18778</th>\n",
       "      <td>18778</td>\n",
       "      <td>1064_497</td>\n",
       "      <td>154.24</td>\n",
       "      <td>2018-08-23</td>\n",
       "      <td>1064</td>\n",
       "      <td>smart</td>\n",
       "      <td>8</td>\n",
       "    </tr>\n",
       "    <tr>\n",
       "      <th>16154</th>\n",
       "      <td>16154</td>\n",
       "      <td>1055_612</td>\n",
       "      <td>331.84</td>\n",
       "      <td>2018-10-07</td>\n",
       "      <td>1055</td>\n",
       "      <td>smart</td>\n",
       "      <td>10</td>\n",
       "    </tr>\n",
       "    <tr>\n",
       "      <th>15941</th>\n",
       "      <td>15941</td>\n",
       "      <td>1055_399</td>\n",
       "      <td>419.74</td>\n",
       "      <td>2018-09-30</td>\n",
       "      <td>1055</td>\n",
       "      <td>smart</td>\n",
       "      <td>9</td>\n",
       "    </tr>\n",
       "    <tr>\n",
       "      <th>78811</th>\n",
       "      <td>78811</td>\n",
       "      <td>1264_430</td>\n",
       "      <td>99.61</td>\n",
       "      <td>2018-05-07</td>\n",
       "      <td>1264</td>\n",
       "      <td>smart</td>\n",
       "      <td>5</td>\n",
       "    </tr>\n",
       "  </tbody>\n",
       "</table>\n",
       "</div>"
      ],
      "text/plain": [
       "       Unnamed: 0        id  mb_used session_date user_id tariff  month\n",
       "46098       46098  1157_610   591.55   2018-08-18    1157  smart      8\n",
       "18778       18778  1064_497   154.24   2018-08-23    1064  smart      8\n",
       "16154       16154  1055_612   331.84   2018-10-07    1055  smart     10\n",
       "15941       15941  1055_399   419.74   2018-09-30    1055  smart      9\n",
       "78811       78811  1264_430    99.61   2018-05-07    1264  smart      5"
      ]
     },
     "execution_count": 33,
     "metadata": {},
     "output_type": "execute_result"
    }
   ],
   "source": [
    "data_internet['month'] = data_internet['session_date'].dt.month\n",
    "data_internet.sample(5)"
   ]
  },
  {
   "cell_type": "code",
   "execution_count": 34,
   "metadata": {},
   "outputs": [
    {
     "data": {
      "text/html": [
       "<div>\n",
       "<style scoped>\n",
       "    .dataframe tbody tr th:only-of-type {\n",
       "        vertical-align: middle;\n",
       "    }\n",
       "\n",
       "    .dataframe tbody tr th {\n",
       "        vertical-align: top;\n",
       "    }\n",
       "\n",
       "    .dataframe thead th {\n",
       "        text-align: right;\n",
       "    }\n",
       "</style>\n",
       "<table border=\"1\" class=\"dataframe\">\n",
       "  <thead>\n",
       "    <tr style=\"text-align: right;\">\n",
       "      <th>month</th>\n",
       "      <th>user_id</th>\n",
       "      <th>tariff</th>\n",
       "      <th>1</th>\n",
       "      <th>2</th>\n",
       "      <th>3</th>\n",
       "      <th>4</th>\n",
       "      <th>5</th>\n",
       "      <th>6</th>\n",
       "      <th>7</th>\n",
       "      <th>8</th>\n",
       "      <th>9</th>\n",
       "      <th>10</th>\n",
       "      <th>11</th>\n",
       "      <th>12</th>\n",
       "    </tr>\n",
       "  </thead>\n",
       "  <tbody>\n",
       "    <tr>\n",
       "      <th>0</th>\n",
       "      <td>1000</td>\n",
       "      <td>ultra</td>\n",
       "      <td>NaN</td>\n",
       "      <td>NaN</td>\n",
       "      <td>NaN</td>\n",
       "      <td>NaN</td>\n",
       "      <td>2,253.49</td>\n",
       "      <td>23,233.77</td>\n",
       "      <td>14,003.64</td>\n",
       "      <td>14,055.93</td>\n",
       "      <td>14,568.91</td>\n",
       "      <td>14,702.49</td>\n",
       "      <td>14,756.47</td>\n",
       "      <td>9,817.61</td>\n",
       "    </tr>\n",
       "    <tr>\n",
       "      <th>1</th>\n",
       "      <td>1001</td>\n",
       "      <td>smart</td>\n",
       "      <td>NaN</td>\n",
       "      <td>NaN</td>\n",
       "      <td>NaN</td>\n",
       "      <td>NaN</td>\n",
       "      <td>NaN</td>\n",
       "      <td>NaN</td>\n",
       "      <td>NaN</td>\n",
       "      <td>NaN</td>\n",
       "      <td>NaN</td>\n",
       "      <td>NaN</td>\n",
       "      <td>18,429.34</td>\n",
       "      <td>14,036.66</td>\n",
       "    </tr>\n",
       "    <tr>\n",
       "      <th>2</th>\n",
       "      <td>1002</td>\n",
       "      <td>smart</td>\n",
       "      <td>NaN</td>\n",
       "      <td>NaN</td>\n",
       "      <td>NaN</td>\n",
       "      <td>NaN</td>\n",
       "      <td>NaN</td>\n",
       "      <td>10,856.82</td>\n",
       "      <td>17,580.10</td>\n",
       "      <td>20,319.26</td>\n",
       "      <td>16,691.08</td>\n",
       "      <td>13,888.25</td>\n",
       "      <td>18,587.28</td>\n",
       "      <td>18,113.73</td>\n",
       "    </tr>\n",
       "    <tr>\n",
       "      <th>3</th>\n",
       "      <td>1003</td>\n",
       "      <td>ultra</td>\n",
       "      <td>NaN</td>\n",
       "      <td>NaN</td>\n",
       "      <td>NaN</td>\n",
       "      <td>NaN</td>\n",
       "      <td>NaN</td>\n",
       "      <td>NaN</td>\n",
       "      <td>NaN</td>\n",
       "      <td>8,565.21</td>\n",
       "      <td>12,468.87</td>\n",
       "      <td>14,768.14</td>\n",
       "      <td>11,356.89</td>\n",
       "      <td>10,121.53</td>\n",
       "    </tr>\n",
       "    <tr>\n",
       "      <th>4</th>\n",
       "      <td>1004</td>\n",
       "      <td>ultra</td>\n",
       "      <td>NaN</td>\n",
       "      <td>NaN</td>\n",
       "      <td>NaN</td>\n",
       "      <td>NaN</td>\n",
       "      <td>13,403.98</td>\n",
       "      <td>17,600.02</td>\n",
       "      <td>22,229.58</td>\n",
       "      <td>28,584.37</td>\n",
       "      <td>15,109.03</td>\n",
       "      <td>18,475.44</td>\n",
       "      <td>15,616.02</td>\n",
       "      <td>18,021.04</td>\n",
       "    </tr>\n",
       "    <tr>\n",
       "      <th>...</th>\n",
       "      <td>...</td>\n",
       "      <td>...</td>\n",
       "      <td>...</td>\n",
       "      <td>...</td>\n",
       "      <td>...</td>\n",
       "      <td>...</td>\n",
       "      <td>...</td>\n",
       "      <td>...</td>\n",
       "      <td>...</td>\n",
       "      <td>...</td>\n",
       "      <td>...</td>\n",
       "      <td>...</td>\n",
       "      <td>...</td>\n",
       "      <td>...</td>\n",
       "    </tr>\n",
       "    <tr>\n",
       "      <th>492</th>\n",
       "      <td>1495</td>\n",
       "      <td>ultra</td>\n",
       "      <td>NaN</td>\n",
       "      <td>NaN</td>\n",
       "      <td>NaN</td>\n",
       "      <td>NaN</td>\n",
       "      <td>NaN</td>\n",
       "      <td>NaN</td>\n",
       "      <td>NaN</td>\n",
       "      <td>2,614.07</td>\n",
       "      <td>33,067.62</td>\n",
       "      <td>29,363.00</td>\n",
       "      <td>38,939.11</td>\n",
       "      <td>23,426.76</td>\n",
       "    </tr>\n",
       "    <tr>\n",
       "      <th>493</th>\n",
       "      <td>1496</td>\n",
       "      <td>smart</td>\n",
       "      <td>3,762.73</td>\n",
       "      <td>28,489.67</td>\n",
       "      <td>24,959.00</td>\n",
       "      <td>21,074.67</td>\n",
       "      <td>23,709.75</td>\n",
       "      <td>20,134.31</td>\n",
       "      <td>24,364.76</td>\n",
       "      <td>23,530.03</td>\n",
       "      <td>26,934.65</td>\n",
       "      <td>28,183.17</td>\n",
       "      <td>25,063.40</td>\n",
       "      <td>20,736.15</td>\n",
       "    </tr>\n",
       "    <tr>\n",
       "      <th>494</th>\n",
       "      <td>1497</td>\n",
       "      <td>smart</td>\n",
       "      <td>NaN</td>\n",
       "      <td>NaN</td>\n",
       "      <td>NaN</td>\n",
       "      <td>NaN</td>\n",
       "      <td>NaN</td>\n",
       "      <td>NaN</td>\n",
       "      <td>NaN</td>\n",
       "      <td>NaN</td>\n",
       "      <td>NaN</td>\n",
       "      <td>11,500.29</td>\n",
       "      <td>14,156.08</td>\n",
       "      <td>19,918.60</td>\n",
       "    </tr>\n",
       "    <tr>\n",
       "      <th>495</th>\n",
       "      <td>1498</td>\n",
       "      <td>smart</td>\n",
       "      <td>NaN</td>\n",
       "      <td>NaN</td>\n",
       "      <td>NaN</td>\n",
       "      <td>NaN</td>\n",
       "      <td>NaN</td>\n",
       "      <td>NaN</td>\n",
       "      <td>7,476.24</td>\n",
       "      <td>24,235.21</td>\n",
       "      <td>22,134.41</td>\n",
       "      <td>20,579.36</td>\n",
       "      <td>NaN</td>\n",
       "      <td>NaN</td>\n",
       "    </tr>\n",
       "    <tr>\n",
       "      <th>496</th>\n",
       "      <td>1499</td>\n",
       "      <td>smart</td>\n",
       "      <td>NaN</td>\n",
       "      <td>NaN</td>\n",
       "      <td>NaN</td>\n",
       "      <td>NaN</td>\n",
       "      <td>NaN</td>\n",
       "      <td>NaN</td>\n",
       "      <td>NaN</td>\n",
       "      <td>NaN</td>\n",
       "      <td>1,845.75</td>\n",
       "      <td>17,788.51</td>\n",
       "      <td>17,963.31</td>\n",
       "      <td>13,055.58</td>\n",
       "    </tr>\n",
       "  </tbody>\n",
       "</table>\n",
       "<p>497 rows × 14 columns</p>\n",
       "</div>"
      ],
      "text/plain": [
       "month user_id tariff        1         2         3         4         5  \\\n",
       "0        1000  ultra      NaN       NaN       NaN       NaN  2,253.49   \n",
       "1        1001  smart      NaN       NaN       NaN       NaN       NaN   \n",
       "2        1002  smart      NaN       NaN       NaN       NaN       NaN   \n",
       "3        1003  ultra      NaN       NaN       NaN       NaN       NaN   \n",
       "4        1004  ultra      NaN       NaN       NaN       NaN 13,403.98   \n",
       "..        ...    ...      ...       ...       ...       ...       ...   \n",
       "492      1495  ultra      NaN       NaN       NaN       NaN       NaN   \n",
       "493      1496  smart 3,762.73 28,489.67 24,959.00 21,074.67 23,709.75   \n",
       "494      1497  smart      NaN       NaN       NaN       NaN       NaN   \n",
       "495      1498  smart      NaN       NaN       NaN       NaN       NaN   \n",
       "496      1499  smart      NaN       NaN       NaN       NaN       NaN   \n",
       "\n",
       "month         6         7         8         9        10        11        12  \n",
       "0     23,233.77 14,003.64 14,055.93 14,568.91 14,702.49 14,756.47  9,817.61  \n",
       "1           NaN       NaN       NaN       NaN       NaN 18,429.34 14,036.66  \n",
       "2     10,856.82 17,580.10 20,319.26 16,691.08 13,888.25 18,587.28 18,113.73  \n",
       "3           NaN       NaN  8,565.21 12,468.87 14,768.14 11,356.89 10,121.53  \n",
       "4     17,600.02 22,229.58 28,584.37 15,109.03 18,475.44 15,616.02 18,021.04  \n",
       "..          ...       ...       ...       ...       ...       ...       ...  \n",
       "492         NaN       NaN  2,614.07 33,067.62 29,363.00 38,939.11 23,426.76  \n",
       "493   20,134.31 24,364.76 23,530.03 26,934.65 28,183.17 25,063.40 20,736.15  \n",
       "494         NaN       NaN       NaN       NaN 11,500.29 14,156.08 19,918.60  \n",
       "495         NaN  7,476.24 24,235.21 22,134.41 20,579.36       NaN       NaN  \n",
       "496         NaN       NaN       NaN  1,845.75 17,788.51 17,963.31 13,055.58  \n",
       "\n",
       "[497 rows x 14 columns]"
      ]
     },
     "execution_count": 34,
     "metadata": {},
     "output_type": "execute_result"
    }
   ],
   "source": [
    "pivot_internet = data_internet.pivot_table(index=['user_id', 'tariff'],\n",
    "                                           columns='month',\n",
    "                                           values='mb_used',\n",
    "                                           aggfunc='sum'\n",
    "                                          ).reset_index()\n",
    "pivot_internet"
   ]
  },
  {
   "cell_type": "markdown",
   "metadata": {},
   "source": [
    "<div class=\"alert alert-block alert-danger\">\n",
    "<h2> Комментарий ревьюера <a class=\"tocSkip\"></h2>\n",
    "\n",
    "\n",
    "<b>На доработку🤔:</b>\n",
    "    \n",
    "Вспомним задание\n",
    "\n",
    "    Для веб-трафика отдельные сессии не считаются. Вместо этого общая сумма за месяц округляется в бо́льшую сторону. Если абонент использует 1025 мегабайт в этом месяце, с него возьмут плату за 2 гигабайта. "
   ]
  },
  {
   "cell_type": "markdown",
   "metadata": {},
   "source": [
    "<div class=\"alert alert-info\"> я далее округлил гб в большую сторону"
   ]
  },
  {
   "cell_type": "markdown",
   "metadata": {},
   "source": [
    "Считаем месячную прибыль по каждому виду трафика."
   ]
  },
  {
   "cell_type": "code",
   "execution_count": 35,
   "metadata": {},
   "outputs": [],
   "source": [
    "df_calls_profit = pivot_calls_duration.copy()"
   ]
  },
  {
   "cell_type": "markdown",
   "metadata": {},
   "source": [
    "Для того, что посчитать выручку от звонков необходимо в зависемости от тарифа отнять бесплатные минуты."
   ]
  },
  {
   "cell_type": "code",
   "execution_count": 36,
   "metadata": {},
   "outputs": [],
   "source": [
    "df_calls_profit.loc[df_calls_profit.tariff == 'smart',\n",
    "                    range(1, 13)] -= 500\n",
    "\n",
    "df_calls_profit.loc[df_calls_profit.tariff == 'ultra',\n",
    "                    range(1, 13)] -= 3000"
   ]
  },
  {
   "cell_type": "markdown",
   "metadata": {},
   "source": [
    "Полученные отрицательные значения обнулим, чтобы они не влиляли на результат и заменим значения NaN нулями."
   ]
  },
  {
   "cell_type": "code",
   "execution_count": 37,
   "metadata": {},
   "outputs": [],
   "source": [
    "for i in range(1, 13):\n",
    "    df_calls_profit.loc[df_calls_profit[i] < 0, i] = 0\n",
    "df_calls_profit = df_calls_profit.fillna(0)"
   ]
  },
  {
   "cell_type": "markdown",
   "metadata": {},
   "source": [
    "Полученный результат умножим в зависемости от тарифа. Так как в тарифе ultra плата за 1 минуту 1 рубль, то умножать не будем."
   ]
  },
  {
   "cell_type": "code",
   "execution_count": 38,
   "metadata": {},
   "outputs": [],
   "source": [
    "df_calls_profit.loc[df_calls_profit.tariff == 'smart', range(1, 13)] *= 3"
   ]
  },
  {
   "cell_type": "code",
   "execution_count": 39,
   "metadata": {},
   "outputs": [
    {
     "data": {
      "text/html": [
       "<div>\n",
       "<style scoped>\n",
       "    .dataframe tbody tr th:only-of-type {\n",
       "        vertical-align: middle;\n",
       "    }\n",
       "\n",
       "    .dataframe tbody tr th {\n",
       "        vertical-align: top;\n",
       "    }\n",
       "\n",
       "    .dataframe thead th {\n",
       "        text-align: right;\n",
       "    }\n",
       "</style>\n",
       "<table border=\"1\" class=\"dataframe\">\n",
       "  <thead>\n",
       "    <tr style=\"text-align: right;\">\n",
       "      <th>month</th>\n",
       "      <th>user_id</th>\n",
       "      <th>tariff</th>\n",
       "      <th>1</th>\n",
       "      <th>2</th>\n",
       "      <th>3</th>\n",
       "      <th>4</th>\n",
       "      <th>5</th>\n",
       "      <th>6</th>\n",
       "      <th>7</th>\n",
       "      <th>8</th>\n",
       "      <th>9</th>\n",
       "      <th>10</th>\n",
       "      <th>11</th>\n",
       "      <th>12</th>\n",
       "    </tr>\n",
       "  </thead>\n",
       "  <tbody>\n",
       "    <tr>\n",
       "      <th>0</th>\n",
       "      <td>1000</td>\n",
       "      <td>ultra</td>\n",
       "      <td>0.00</td>\n",
       "      <td>0.00</td>\n",
       "      <td>0.00</td>\n",
       "      <td>0.00</td>\n",
       "      <td>0.00</td>\n",
       "      <td>0.00</td>\n",
       "      <td>0.00</td>\n",
       "      <td>0.00</td>\n",
       "      <td>0.00</td>\n",
       "      <td>0.00</td>\n",
       "      <td>0.00</td>\n",
       "      <td>0.00</td>\n",
       "    </tr>\n",
       "    <tr>\n",
       "      <th>1</th>\n",
       "      <td>1001</td>\n",
       "      <td>smart</td>\n",
       "      <td>0.00</td>\n",
       "      <td>0.00</td>\n",
       "      <td>0.00</td>\n",
       "      <td>0.00</td>\n",
       "      <td>0.00</td>\n",
       "      <td>0.00</td>\n",
       "      <td>0.00</td>\n",
       "      <td>0.00</td>\n",
       "      <td>0.00</td>\n",
       "      <td>0.00</td>\n",
       "      <td>0.00</td>\n",
       "      <td>0.00</td>\n",
       "    </tr>\n",
       "    <tr>\n",
       "      <th>2</th>\n",
       "      <td>1002</td>\n",
       "      <td>smart</td>\n",
       "      <td>0.00</td>\n",
       "      <td>0.00</td>\n",
       "      <td>0.00</td>\n",
       "      <td>0.00</td>\n",
       "      <td>0.00</td>\n",
       "      <td>0.00</td>\n",
       "      <td>0.00</td>\n",
       "      <td>0.00</td>\n",
       "      <td>0.00</td>\n",
       "      <td>0.00</td>\n",
       "      <td>0.00</td>\n",
       "      <td>0.00</td>\n",
       "    </tr>\n",
       "    <tr>\n",
       "      <th>3</th>\n",
       "      <td>1003</td>\n",
       "      <td>ultra</td>\n",
       "      <td>0.00</td>\n",
       "      <td>0.00</td>\n",
       "      <td>0.00</td>\n",
       "      <td>0.00</td>\n",
       "      <td>0.00</td>\n",
       "      <td>0.00</td>\n",
       "      <td>0.00</td>\n",
       "      <td>0.00</td>\n",
       "      <td>0.00</td>\n",
       "      <td>0.00</td>\n",
       "      <td>0.00</td>\n",
       "      <td>0.00</td>\n",
       "    </tr>\n",
       "    <tr>\n",
       "      <th>4</th>\n",
       "      <td>1004</td>\n",
       "      <td>ultra</td>\n",
       "      <td>0.00</td>\n",
       "      <td>0.00</td>\n",
       "      <td>0.00</td>\n",
       "      <td>0.00</td>\n",
       "      <td>0.00</td>\n",
       "      <td>0.00</td>\n",
       "      <td>0.00</td>\n",
       "      <td>0.00</td>\n",
       "      <td>0.00</td>\n",
       "      <td>0.00</td>\n",
       "      <td>0.00</td>\n",
       "      <td>0.00</td>\n",
       "    </tr>\n",
       "    <tr>\n",
       "      <th>...</th>\n",
       "      <td>...</td>\n",
       "      <td>...</td>\n",
       "      <td>...</td>\n",
       "      <td>...</td>\n",
       "      <td>...</td>\n",
       "      <td>...</td>\n",
       "      <td>...</td>\n",
       "      <td>...</td>\n",
       "      <td>...</td>\n",
       "      <td>...</td>\n",
       "      <td>...</td>\n",
       "      <td>...</td>\n",
       "      <td>...</td>\n",
       "      <td>...</td>\n",
       "    </tr>\n",
       "    <tr>\n",
       "      <th>487</th>\n",
       "      <td>1495</td>\n",
       "      <td>ultra</td>\n",
       "      <td>0.00</td>\n",
       "      <td>0.00</td>\n",
       "      <td>0.00</td>\n",
       "      <td>0.00</td>\n",
       "      <td>0.00</td>\n",
       "      <td>0.00</td>\n",
       "      <td>0.00</td>\n",
       "      <td>0.00</td>\n",
       "      <td>0.00</td>\n",
       "      <td>0.00</td>\n",
       "      <td>0.00</td>\n",
       "      <td>0.00</td>\n",
       "    </tr>\n",
       "    <tr>\n",
       "      <th>488</th>\n",
       "      <td>1496</td>\n",
       "      <td>smart</td>\n",
       "      <td>0.00</td>\n",
       "      <td>282.00</td>\n",
       "      <td>171.00</td>\n",
       "      <td>63.00</td>\n",
       "      <td>0.00</td>\n",
       "      <td>165.00</td>\n",
       "      <td>246.00</td>\n",
       "      <td>81.00</td>\n",
       "      <td>0.00</td>\n",
       "      <td>0.00</td>\n",
       "      <td>486.00</td>\n",
       "      <td>54.00</td>\n",
       "    </tr>\n",
       "    <tr>\n",
       "      <th>489</th>\n",
       "      <td>1497</td>\n",
       "      <td>smart</td>\n",
       "      <td>0.00</td>\n",
       "      <td>0.00</td>\n",
       "      <td>0.00</td>\n",
       "      <td>0.00</td>\n",
       "      <td>0.00</td>\n",
       "      <td>0.00</td>\n",
       "      <td>0.00</td>\n",
       "      <td>0.00</td>\n",
       "      <td>0.00</td>\n",
       "      <td>0.00</td>\n",
       "      <td>0.00</td>\n",
       "      <td>135.00</td>\n",
       "    </tr>\n",
       "    <tr>\n",
       "      <th>490</th>\n",
       "      <td>1498</td>\n",
       "      <td>smart</td>\n",
       "      <td>0.00</td>\n",
       "      <td>0.00</td>\n",
       "      <td>0.00</td>\n",
       "      <td>0.00</td>\n",
       "      <td>0.00</td>\n",
       "      <td>0.00</td>\n",
       "      <td>0.00</td>\n",
       "      <td>0.00</td>\n",
       "      <td>0.00</td>\n",
       "      <td>0.00</td>\n",
       "      <td>0.00</td>\n",
       "      <td>0.00</td>\n",
       "    </tr>\n",
       "    <tr>\n",
       "      <th>491</th>\n",
       "      <td>1499</td>\n",
       "      <td>smart</td>\n",
       "      <td>0.00</td>\n",
       "      <td>0.00</td>\n",
       "      <td>0.00</td>\n",
       "      <td>0.00</td>\n",
       "      <td>0.00</td>\n",
       "      <td>0.00</td>\n",
       "      <td>0.00</td>\n",
       "      <td>0.00</td>\n",
       "      <td>0.00</td>\n",
       "      <td>0.00</td>\n",
       "      <td>336.00</td>\n",
       "      <td>0.00</td>\n",
       "    </tr>\n",
       "  </tbody>\n",
       "</table>\n",
       "<p>492 rows × 14 columns</p>\n",
       "</div>"
      ],
      "text/plain": [
       "month user_id tariff    1      2      3     4    5      6      7     8    9  \\\n",
       "0        1000  ultra 0.00   0.00   0.00  0.00 0.00   0.00   0.00  0.00 0.00   \n",
       "1        1001  smart 0.00   0.00   0.00  0.00 0.00   0.00   0.00  0.00 0.00   \n",
       "2        1002  smart 0.00   0.00   0.00  0.00 0.00   0.00   0.00  0.00 0.00   \n",
       "3        1003  ultra 0.00   0.00   0.00  0.00 0.00   0.00   0.00  0.00 0.00   \n",
       "4        1004  ultra 0.00   0.00   0.00  0.00 0.00   0.00   0.00  0.00 0.00   \n",
       "..        ...    ...  ...    ...    ...   ...  ...    ...    ...   ...  ...   \n",
       "487      1495  ultra 0.00   0.00   0.00  0.00 0.00   0.00   0.00  0.00 0.00   \n",
       "488      1496  smart 0.00 282.00 171.00 63.00 0.00 165.00 246.00 81.00 0.00   \n",
       "489      1497  smart 0.00   0.00   0.00  0.00 0.00   0.00   0.00  0.00 0.00   \n",
       "490      1498  smart 0.00   0.00   0.00  0.00 0.00   0.00   0.00  0.00 0.00   \n",
       "491      1499  smart 0.00   0.00   0.00  0.00 0.00   0.00   0.00  0.00 0.00   \n",
       "\n",
       "month   10     11     12  \n",
       "0     0.00   0.00   0.00  \n",
       "1     0.00   0.00   0.00  \n",
       "2     0.00   0.00   0.00  \n",
       "3     0.00   0.00   0.00  \n",
       "4     0.00   0.00   0.00  \n",
       "..     ...    ...    ...  \n",
       "487   0.00   0.00   0.00  \n",
       "488   0.00 486.00  54.00  \n",
       "489   0.00   0.00 135.00  \n",
       "490   0.00   0.00   0.00  \n",
       "491   0.00 336.00   0.00  \n",
       "\n",
       "[492 rows x 14 columns]"
      ]
     },
     "execution_count": 39,
     "metadata": {},
     "output_type": "execute_result"
    }
   ],
   "source": [
    "df_calls_profit"
   ]
  },
  {
   "cell_type": "markdown",
   "metadata": {},
   "source": [
    "Посчитаем месячную прибыль за отправленные смс сообщения."
   ]
  },
  {
   "cell_type": "code",
   "execution_count": 40,
   "metadata": {},
   "outputs": [],
   "source": [
    "messages_profit = pivot_messages.copy()"
   ]
  },
  {
   "cell_type": "code",
   "execution_count": 41,
   "metadata": {},
   "outputs": [],
   "source": [
    "messages_profit.loc[messages_profit.tariff == 'ultra', range(1, 13)] -= 1000\n",
    "messages_profit.loc[messages_profit.tariff == 'smart', range(1, 13)] -= 50"
   ]
  },
  {
   "cell_type": "code",
   "execution_count": 42,
   "metadata": {},
   "outputs": [],
   "source": [
    "for i in range(1, 13): \n",
    "    messages_profit.loc[messages_profit[i] < 0, i] = 0\n",
    "messages_profit = messages_profit.fillna(0)"
   ]
  },
  {
   "cell_type": "code",
   "execution_count": 43,
   "metadata": {},
   "outputs": [],
   "source": [
    "messages_profit.loc[messages_profit.tariff == 'smart', range(1, 13)] *= 3"
   ]
  },
  {
   "cell_type": "code",
   "execution_count": 44,
   "metadata": {},
   "outputs": [
    {
     "data": {
      "text/html": [
       "<div>\n",
       "<style scoped>\n",
       "    .dataframe tbody tr th:only-of-type {\n",
       "        vertical-align: middle;\n",
       "    }\n",
       "\n",
       "    .dataframe tbody tr th {\n",
       "        vertical-align: top;\n",
       "    }\n",
       "\n",
       "    .dataframe thead th {\n",
       "        text-align: right;\n",
       "    }\n",
       "</style>\n",
       "<table border=\"1\" class=\"dataframe\">\n",
       "  <thead>\n",
       "    <tr style=\"text-align: right;\">\n",
       "      <th>month</th>\n",
       "      <th>user_id</th>\n",
       "      <th>tariff</th>\n",
       "      <th>1</th>\n",
       "      <th>2</th>\n",
       "      <th>3</th>\n",
       "      <th>4</th>\n",
       "      <th>5</th>\n",
       "      <th>6</th>\n",
       "      <th>7</th>\n",
       "      <th>8</th>\n",
       "      <th>9</th>\n",
       "      <th>10</th>\n",
       "      <th>11</th>\n",
       "      <th>12</th>\n",
       "    </tr>\n",
       "  </thead>\n",
       "  <tbody>\n",
       "    <tr>\n",
       "      <th>0</th>\n",
       "      <td>1000</td>\n",
       "      <td>ultra</td>\n",
       "      <td>0.00</td>\n",
       "      <td>0.00</td>\n",
       "      <td>0.00</td>\n",
       "      <td>0.00</td>\n",
       "      <td>0.00</td>\n",
       "      <td>0.00</td>\n",
       "      <td>0.00</td>\n",
       "      <td>0.00</td>\n",
       "      <td>0.00</td>\n",
       "      <td>0.00</td>\n",
       "      <td>0.00</td>\n",
       "      <td>0.00</td>\n",
       "    </tr>\n",
       "    <tr>\n",
       "      <th>1</th>\n",
       "      <td>1002</td>\n",
       "      <td>smart</td>\n",
       "      <td>0.00</td>\n",
       "      <td>0.00</td>\n",
       "      <td>0.00</td>\n",
       "      <td>0.00</td>\n",
       "      <td>0.00</td>\n",
       "      <td>0.00</td>\n",
       "      <td>0.00</td>\n",
       "      <td>0.00</td>\n",
       "      <td>0.00</td>\n",
       "      <td>0.00</td>\n",
       "      <td>0.00</td>\n",
       "      <td>0.00</td>\n",
       "    </tr>\n",
       "    <tr>\n",
       "      <th>2</th>\n",
       "      <td>1003</td>\n",
       "      <td>ultra</td>\n",
       "      <td>0.00</td>\n",
       "      <td>0.00</td>\n",
       "      <td>0.00</td>\n",
       "      <td>0.00</td>\n",
       "      <td>0.00</td>\n",
       "      <td>0.00</td>\n",
       "      <td>0.00</td>\n",
       "      <td>0.00</td>\n",
       "      <td>0.00</td>\n",
       "      <td>0.00</td>\n",
       "      <td>0.00</td>\n",
       "      <td>0.00</td>\n",
       "    </tr>\n",
       "    <tr>\n",
       "      <th>3</th>\n",
       "      <td>1004</td>\n",
       "      <td>ultra</td>\n",
       "      <td>0.00</td>\n",
       "      <td>0.00</td>\n",
       "      <td>0.00</td>\n",
       "      <td>0.00</td>\n",
       "      <td>0.00</td>\n",
       "      <td>0.00</td>\n",
       "      <td>0.00</td>\n",
       "      <td>0.00</td>\n",
       "      <td>0.00</td>\n",
       "      <td>0.00</td>\n",
       "      <td>0.00</td>\n",
       "      <td>0.00</td>\n",
       "    </tr>\n",
       "    <tr>\n",
       "      <th>4</th>\n",
       "      <td>1005</td>\n",
       "      <td>smart</td>\n",
       "      <td>0.00</td>\n",
       "      <td>0.00</td>\n",
       "      <td>18.00</td>\n",
       "      <td>0.00</td>\n",
       "      <td>0.00</td>\n",
       "      <td>0.00</td>\n",
       "      <td>18.00</td>\n",
       "      <td>42.00</td>\n",
       "      <td>6.00</td>\n",
       "      <td>0.00</td>\n",
       "      <td>3.00</td>\n",
       "      <td>12.00</td>\n",
       "    </tr>\n",
       "    <tr>\n",
       "      <th>...</th>\n",
       "      <td>...</td>\n",
       "      <td>...</td>\n",
       "      <td>...</td>\n",
       "      <td>...</td>\n",
       "      <td>...</td>\n",
       "      <td>...</td>\n",
       "      <td>...</td>\n",
       "      <td>...</td>\n",
       "      <td>...</td>\n",
       "      <td>...</td>\n",
       "      <td>...</td>\n",
       "      <td>...</td>\n",
       "      <td>...</td>\n",
       "      <td>...</td>\n",
       "    </tr>\n",
       "    <tr>\n",
       "      <th>421</th>\n",
       "      <td>1495</td>\n",
       "      <td>ultra</td>\n",
       "      <td>0.00</td>\n",
       "      <td>0.00</td>\n",
       "      <td>0.00</td>\n",
       "      <td>0.00</td>\n",
       "      <td>0.00</td>\n",
       "      <td>0.00</td>\n",
       "      <td>0.00</td>\n",
       "      <td>0.00</td>\n",
       "      <td>0.00</td>\n",
       "      <td>0.00</td>\n",
       "      <td>0.00</td>\n",
       "      <td>0.00</td>\n",
       "    </tr>\n",
       "    <tr>\n",
       "      <th>422</th>\n",
       "      <td>1496</td>\n",
       "      <td>smart</td>\n",
       "      <td>0.00</td>\n",
       "      <td>0.00</td>\n",
       "      <td>0.00</td>\n",
       "      <td>0.00</td>\n",
       "      <td>0.00</td>\n",
       "      <td>0.00</td>\n",
       "      <td>0.00</td>\n",
       "      <td>0.00</td>\n",
       "      <td>0.00</td>\n",
       "      <td>0.00</td>\n",
       "      <td>0.00</td>\n",
       "      <td>3.00</td>\n",
       "    </tr>\n",
       "    <tr>\n",
       "      <th>423</th>\n",
       "      <td>1497</td>\n",
       "      <td>smart</td>\n",
       "      <td>0.00</td>\n",
       "      <td>0.00</td>\n",
       "      <td>0.00</td>\n",
       "      <td>0.00</td>\n",
       "      <td>0.00</td>\n",
       "      <td>0.00</td>\n",
       "      <td>0.00</td>\n",
       "      <td>0.00</td>\n",
       "      <td>0.00</td>\n",
       "      <td>0.00</td>\n",
       "      <td>0.00</td>\n",
       "      <td>0.00</td>\n",
       "    </tr>\n",
       "    <tr>\n",
       "      <th>424</th>\n",
       "      <td>1498</td>\n",
       "      <td>smart</td>\n",
       "      <td>0.00</td>\n",
       "      <td>0.00</td>\n",
       "      <td>0.00</td>\n",
       "      <td>0.00</td>\n",
       "      <td>0.00</td>\n",
       "      <td>0.00</td>\n",
       "      <td>0.00</td>\n",
       "      <td>36.00</td>\n",
       "      <td>0.00</td>\n",
       "      <td>0.00</td>\n",
       "      <td>0.00</td>\n",
       "      <td>0.00</td>\n",
       "    </tr>\n",
       "    <tr>\n",
       "      <th>425</th>\n",
       "      <td>1499</td>\n",
       "      <td>smart</td>\n",
       "      <td>0.00</td>\n",
       "      <td>0.00</td>\n",
       "      <td>0.00</td>\n",
       "      <td>0.00</td>\n",
       "      <td>0.00</td>\n",
       "      <td>0.00</td>\n",
       "      <td>0.00</td>\n",
       "      <td>0.00</td>\n",
       "      <td>0.00</td>\n",
       "      <td>0.00</td>\n",
       "      <td>27.00</td>\n",
       "      <td>48.00</td>\n",
       "    </tr>\n",
       "  </tbody>\n",
       "</table>\n",
       "<p>426 rows × 14 columns</p>\n",
       "</div>"
      ],
      "text/plain": [
       "month user_id tariff    1    2     3    4    5    6     7     8    9   10  \\\n",
       "0        1000  ultra 0.00 0.00  0.00 0.00 0.00 0.00  0.00  0.00 0.00 0.00   \n",
       "1        1002  smart 0.00 0.00  0.00 0.00 0.00 0.00  0.00  0.00 0.00 0.00   \n",
       "2        1003  ultra 0.00 0.00  0.00 0.00 0.00 0.00  0.00  0.00 0.00 0.00   \n",
       "3        1004  ultra 0.00 0.00  0.00 0.00 0.00 0.00  0.00  0.00 0.00 0.00   \n",
       "4        1005  smart 0.00 0.00 18.00 0.00 0.00 0.00 18.00 42.00 6.00 0.00   \n",
       "..        ...    ...  ...  ...   ...  ...  ...  ...   ...   ...  ...  ...   \n",
       "421      1495  ultra 0.00 0.00  0.00 0.00 0.00 0.00  0.00  0.00 0.00 0.00   \n",
       "422      1496  smart 0.00 0.00  0.00 0.00 0.00 0.00  0.00  0.00 0.00 0.00   \n",
       "423      1497  smart 0.00 0.00  0.00 0.00 0.00 0.00  0.00  0.00 0.00 0.00   \n",
       "424      1498  smart 0.00 0.00  0.00 0.00 0.00 0.00  0.00 36.00 0.00 0.00   \n",
       "425      1499  smart 0.00 0.00  0.00 0.00 0.00 0.00  0.00  0.00 0.00 0.00   \n",
       "\n",
       "month    11    12  \n",
       "0      0.00  0.00  \n",
       "1      0.00  0.00  \n",
       "2      0.00  0.00  \n",
       "3      0.00  0.00  \n",
       "4      3.00 12.00  \n",
       "..      ...   ...  \n",
       "421    0.00  0.00  \n",
       "422    0.00  3.00  \n",
       "423    0.00  0.00  \n",
       "424    0.00  0.00  \n",
       "425   27.00 48.00  \n",
       "\n",
       "[426 rows x 14 columns]"
      ]
     },
     "execution_count": 44,
     "metadata": {},
     "output_type": "execute_result"
    }
   ],
   "source": [
    "messages_profit"
   ]
  },
  {
   "cell_type": "markdown",
   "metadata": {},
   "source": [
    "Посчитаем месячную прибыль за интернет."
   ]
  },
  {
   "cell_type": "code",
   "execution_count": 45,
   "metadata": {},
   "outputs": [],
   "source": [
    "internet_profit = pivot_internet.copy()"
   ]
  },
  {
   "cell_type": "code",
   "execution_count": 46,
   "metadata": {},
   "outputs": [],
   "source": [
    "internet_profit.loc[internet_profit.tariff == 'smart', range(1, 13)] -= 15360\n",
    "internet_profit.loc[internet_profit.tariff == 'ultra', range(1, 13)] -= 30720"
   ]
  },
  {
   "cell_type": "code",
   "execution_count": 47,
   "metadata": {},
   "outputs": [],
   "source": [
    "for i in range(1, 13): \n",
    "    internet_profit.loc[internet_profit[i] < 0, i] = 0\n",
    "internet_profit = internet_profit.fillna(0)"
   ]
  },
  {
   "cell_type": "code",
   "execution_count": 48,
   "metadata": {},
   "outputs": [],
   "source": [
    "internet_profit.loc[:, range(1, 13)] /= 1024"
   ]
  },
  {
   "cell_type": "markdown",
   "metadata": {},
   "source": [
    "<div class=\"alert alert-info\"> Здесь округлил гб в большую сторону"
   ]
  },
  {
   "cell_type": "code",
   "execution_count": 49,
   "metadata": {},
   "outputs": [],
   "source": [
    "internet_profit.loc[:, range(1, 13)] = internet_profit.loc[:, range(1, 13)].apply(np.ceil)\n",
    "internet_profit.loc[:, range(1, 13)] = internet_profit.loc[:, range(1, 13)].astype('int')"
   ]
  },
  {
   "cell_type": "markdown",
   "metadata": {},
   "source": [
    "<div class=\"alert alert-success\">\n",
    "<h2> Комментарий ревьюера-2 <a class=\"tocSkip\"> </h2>\n",
    "\n",
    "<b>Все отлично!👍:</b>"
   ]
  },
  {
   "cell_type": "code",
   "execution_count": 50,
   "metadata": {},
   "outputs": [],
   "source": [
    "internet_profit.loc[internet_profit.tariff == 'smart', range(1, 13)] *= 200\n",
    "internet_profit.loc[internet_profit.tariff == 'ultra', range(1, 13)] *= 150"
   ]
  },
  {
   "cell_type": "markdown",
   "metadata": {},
   "source": [
    "Осуществим подсчет абонеской платы помесячно."
   ]
  },
  {
   "cell_type": "code",
   "execution_count": 51,
   "metadata": {},
   "outputs": [],
   "source": [
    "data_users['month_churn'] = data_users['churn_date'].dt.month\n",
    "data_users['month_reg'] = data_users['reg_date'].dt.month"
   ]
  },
  {
   "cell_type": "code",
   "execution_count": 52,
   "metadata": {},
   "outputs": [
    {
     "data": {
      "text/html": [
       "<div>\n",
       "<style scoped>\n",
       "    .dataframe tbody tr th:only-of-type {\n",
       "        vertical-align: middle;\n",
       "    }\n",
       "\n",
       "    .dataframe tbody tr th {\n",
       "        vertical-align: top;\n",
       "    }\n",
       "\n",
       "    .dataframe thead th {\n",
       "        text-align: right;\n",
       "    }\n",
       "</style>\n",
       "<table border=\"1\" class=\"dataframe\">\n",
       "  <thead>\n",
       "    <tr style=\"text-align: right;\">\n",
       "      <th></th>\n",
       "      <th>user_id</th>\n",
       "      <th>age</th>\n",
       "      <th>churn_date</th>\n",
       "      <th>city</th>\n",
       "      <th>first_name</th>\n",
       "      <th>last_name</th>\n",
       "      <th>reg_date</th>\n",
       "      <th>tariff</th>\n",
       "      <th>month_churn</th>\n",
       "      <th>month_reg</th>\n",
       "    </tr>\n",
       "  </thead>\n",
       "  <tbody>\n",
       "    <tr>\n",
       "      <th>0</th>\n",
       "      <td>1000</td>\n",
       "      <td>52</td>\n",
       "      <td>NaT</td>\n",
       "      <td>Краснодар</td>\n",
       "      <td>Рафаил</td>\n",
       "      <td>Верещагин</td>\n",
       "      <td>2018-05-25</td>\n",
       "      <td>ultra</td>\n",
       "      <td>NaN</td>\n",
       "      <td>5</td>\n",
       "    </tr>\n",
       "    <tr>\n",
       "      <th>1</th>\n",
       "      <td>1001</td>\n",
       "      <td>41</td>\n",
       "      <td>NaT</td>\n",
       "      <td>Москва</td>\n",
       "      <td>Иван</td>\n",
       "      <td>Ежов</td>\n",
       "      <td>2018-11-01</td>\n",
       "      <td>smart</td>\n",
       "      <td>NaN</td>\n",
       "      <td>11</td>\n",
       "    </tr>\n",
       "    <tr>\n",
       "      <th>2</th>\n",
       "      <td>1002</td>\n",
       "      <td>59</td>\n",
       "      <td>NaT</td>\n",
       "      <td>Стерлитамак</td>\n",
       "      <td>Евгений</td>\n",
       "      <td>Абрамович</td>\n",
       "      <td>2018-06-17</td>\n",
       "      <td>smart</td>\n",
       "      <td>NaN</td>\n",
       "      <td>6</td>\n",
       "    </tr>\n",
       "    <tr>\n",
       "      <th>3</th>\n",
       "      <td>1003</td>\n",
       "      <td>23</td>\n",
       "      <td>NaT</td>\n",
       "      <td>Москва</td>\n",
       "      <td>Белла</td>\n",
       "      <td>Белякова</td>\n",
       "      <td>2018-08-17</td>\n",
       "      <td>ultra</td>\n",
       "      <td>NaN</td>\n",
       "      <td>8</td>\n",
       "    </tr>\n",
       "    <tr>\n",
       "      <th>4</th>\n",
       "      <td>1004</td>\n",
       "      <td>68</td>\n",
       "      <td>NaT</td>\n",
       "      <td>Новокузнецк</td>\n",
       "      <td>Татьяна</td>\n",
       "      <td>Авдеенко</td>\n",
       "      <td>2018-05-14</td>\n",
       "      <td>ultra</td>\n",
       "      <td>NaN</td>\n",
       "      <td>5</td>\n",
       "    </tr>\n",
       "    <tr>\n",
       "      <th>...</th>\n",
       "      <td>...</td>\n",
       "      <td>...</td>\n",
       "      <td>...</td>\n",
       "      <td>...</td>\n",
       "      <td>...</td>\n",
       "      <td>...</td>\n",
       "      <td>...</td>\n",
       "      <td>...</td>\n",
       "      <td>...</td>\n",
       "      <td>...</td>\n",
       "    </tr>\n",
       "    <tr>\n",
       "      <th>495</th>\n",
       "      <td>1495</td>\n",
       "      <td>65</td>\n",
       "      <td>NaT</td>\n",
       "      <td>Иркутск</td>\n",
       "      <td>Авксентий</td>\n",
       "      <td>Фокин</td>\n",
       "      <td>2018-08-28</td>\n",
       "      <td>ultra</td>\n",
       "      <td>NaN</td>\n",
       "      <td>8</td>\n",
       "    </tr>\n",
       "    <tr>\n",
       "      <th>496</th>\n",
       "      <td>1496</td>\n",
       "      <td>36</td>\n",
       "      <td>NaT</td>\n",
       "      <td>Вологда</td>\n",
       "      <td>Трифон</td>\n",
       "      <td>Блохин</td>\n",
       "      <td>2018-01-27</td>\n",
       "      <td>smart</td>\n",
       "      <td>NaN</td>\n",
       "      <td>1</td>\n",
       "    </tr>\n",
       "    <tr>\n",
       "      <th>497</th>\n",
       "      <td>1497</td>\n",
       "      <td>32</td>\n",
       "      <td>NaT</td>\n",
       "      <td>Челябинск</td>\n",
       "      <td>Каролина</td>\n",
       "      <td>Агеева</td>\n",
       "      <td>2018-10-09</td>\n",
       "      <td>smart</td>\n",
       "      <td>NaN</td>\n",
       "      <td>10</td>\n",
       "    </tr>\n",
       "    <tr>\n",
       "      <th>498</th>\n",
       "      <td>1498</td>\n",
       "      <td>68</td>\n",
       "      <td>2018-10-25</td>\n",
       "      <td>Владикавказ</td>\n",
       "      <td>Всеволод</td>\n",
       "      <td>Акимчин</td>\n",
       "      <td>2018-07-19</td>\n",
       "      <td>smart</td>\n",
       "      <td>10.00</td>\n",
       "      <td>7</td>\n",
       "    </tr>\n",
       "    <tr>\n",
       "      <th>499</th>\n",
       "      <td>1499</td>\n",
       "      <td>35</td>\n",
       "      <td>NaT</td>\n",
       "      <td>Пермь</td>\n",
       "      <td>Гектор</td>\n",
       "      <td>Корнилов</td>\n",
       "      <td>2018-09-27</td>\n",
       "      <td>smart</td>\n",
       "      <td>NaN</td>\n",
       "      <td>9</td>\n",
       "    </tr>\n",
       "  </tbody>\n",
       "</table>\n",
       "<p>500 rows × 10 columns</p>\n",
       "</div>"
      ],
      "text/plain": [
       "    user_id  age churn_date         city first_name  last_name   reg_date  \\\n",
       "0      1000   52        NaT    Краснодар     Рафаил  Верещагин 2018-05-25   \n",
       "1      1001   41        NaT       Москва       Иван       Ежов 2018-11-01   \n",
       "2      1002   59        NaT  Стерлитамак    Евгений  Абрамович 2018-06-17   \n",
       "3      1003   23        NaT       Москва      Белла   Белякова 2018-08-17   \n",
       "4      1004   68        NaT  Новокузнецк    Татьяна   Авдеенко 2018-05-14   \n",
       "..      ...  ...        ...          ...        ...        ...        ...   \n",
       "495    1495   65        NaT      Иркутск  Авксентий      Фокин 2018-08-28   \n",
       "496    1496   36        NaT      Вологда     Трифон     Блохин 2018-01-27   \n",
       "497    1497   32        NaT    Челябинск   Каролина     Агеева 2018-10-09   \n",
       "498    1498   68 2018-10-25  Владикавказ   Всеволод    Акимчин 2018-07-19   \n",
       "499    1499   35        NaT        Пермь     Гектор   Корнилов 2018-09-27   \n",
       "\n",
       "    tariff  month_churn  month_reg  \n",
       "0    ultra          NaN          5  \n",
       "1    smart          NaN         11  \n",
       "2    smart          NaN          6  \n",
       "3    ultra          NaN          8  \n",
       "4    ultra          NaN          5  \n",
       "..     ...          ...        ...  \n",
       "495  ultra          NaN          8  \n",
       "496  smart          NaN          1  \n",
       "497  smart          NaN         10  \n",
       "498  smart        10.00          7  \n",
       "499  smart          NaN          9  \n",
       "\n",
       "[500 rows x 10 columns]"
      ]
     },
     "execution_count": 52,
     "metadata": {},
     "output_type": "execute_result"
    }
   ],
   "source": [
    "data_users"
   ]
  },
  {
   "cell_type": "markdown",
   "metadata": {},
   "source": [
    "Выделем отдельный датасет, в который будет по месячна записана информация об абоненской плате. И на основании которого в дальнейшем будет создан датасет, в котором будут учтены все расходы клиентов."
   ]
  },
  {
   "cell_type": "code",
   "execution_count": 53,
   "metadata": {},
   "outputs": [],
   "source": [
    "df_month_fee = data_users.copy()\n",
    "df_month_fee = df_month_fee[['user_id', 'tariff', 'age', 'city']]\n",
    "df_month_fee[list(range(1, 13))] = 0"
   ]
  },
  {
   "cell_type": "code",
   "execution_count": 54,
   "metadata": {},
   "outputs": [
    {
     "data": {
      "text/html": [
       "<div>\n",
       "<style scoped>\n",
       "    .dataframe tbody tr th:only-of-type {\n",
       "        vertical-align: middle;\n",
       "    }\n",
       "\n",
       "    .dataframe tbody tr th {\n",
       "        vertical-align: top;\n",
       "    }\n",
       "\n",
       "    .dataframe thead th {\n",
       "        text-align: right;\n",
       "    }\n",
       "</style>\n",
       "<table border=\"1\" class=\"dataframe\">\n",
       "  <thead>\n",
       "    <tr style=\"text-align: right;\">\n",
       "      <th></th>\n",
       "      <th>user_id</th>\n",
       "      <th>tariff</th>\n",
       "      <th>age</th>\n",
       "      <th>city</th>\n",
       "      <th>1</th>\n",
       "      <th>2</th>\n",
       "      <th>3</th>\n",
       "      <th>4</th>\n",
       "      <th>5</th>\n",
       "      <th>6</th>\n",
       "      <th>7</th>\n",
       "      <th>8</th>\n",
       "      <th>9</th>\n",
       "      <th>10</th>\n",
       "      <th>11</th>\n",
       "      <th>12</th>\n",
       "    </tr>\n",
       "  </thead>\n",
       "  <tbody>\n",
       "    <tr>\n",
       "      <th>0</th>\n",
       "      <td>1000</td>\n",
       "      <td>ultra</td>\n",
       "      <td>52</td>\n",
       "      <td>Краснодар</td>\n",
       "      <td>0</td>\n",
       "      <td>0</td>\n",
       "      <td>0</td>\n",
       "      <td>0</td>\n",
       "      <td>0</td>\n",
       "      <td>0</td>\n",
       "      <td>0</td>\n",
       "      <td>0</td>\n",
       "      <td>0</td>\n",
       "      <td>0</td>\n",
       "      <td>0</td>\n",
       "      <td>0</td>\n",
       "    </tr>\n",
       "    <tr>\n",
       "      <th>1</th>\n",
       "      <td>1001</td>\n",
       "      <td>smart</td>\n",
       "      <td>41</td>\n",
       "      <td>Москва</td>\n",
       "      <td>0</td>\n",
       "      <td>0</td>\n",
       "      <td>0</td>\n",
       "      <td>0</td>\n",
       "      <td>0</td>\n",
       "      <td>0</td>\n",
       "      <td>0</td>\n",
       "      <td>0</td>\n",
       "      <td>0</td>\n",
       "      <td>0</td>\n",
       "      <td>0</td>\n",
       "      <td>0</td>\n",
       "    </tr>\n",
       "    <tr>\n",
       "      <th>2</th>\n",
       "      <td>1002</td>\n",
       "      <td>smart</td>\n",
       "      <td>59</td>\n",
       "      <td>Стерлитамак</td>\n",
       "      <td>0</td>\n",
       "      <td>0</td>\n",
       "      <td>0</td>\n",
       "      <td>0</td>\n",
       "      <td>0</td>\n",
       "      <td>0</td>\n",
       "      <td>0</td>\n",
       "      <td>0</td>\n",
       "      <td>0</td>\n",
       "      <td>0</td>\n",
       "      <td>0</td>\n",
       "      <td>0</td>\n",
       "    </tr>\n",
       "    <tr>\n",
       "      <th>3</th>\n",
       "      <td>1003</td>\n",
       "      <td>ultra</td>\n",
       "      <td>23</td>\n",
       "      <td>Москва</td>\n",
       "      <td>0</td>\n",
       "      <td>0</td>\n",
       "      <td>0</td>\n",
       "      <td>0</td>\n",
       "      <td>0</td>\n",
       "      <td>0</td>\n",
       "      <td>0</td>\n",
       "      <td>0</td>\n",
       "      <td>0</td>\n",
       "      <td>0</td>\n",
       "      <td>0</td>\n",
       "      <td>0</td>\n",
       "    </tr>\n",
       "    <tr>\n",
       "      <th>4</th>\n",
       "      <td>1004</td>\n",
       "      <td>ultra</td>\n",
       "      <td>68</td>\n",
       "      <td>Новокузнецк</td>\n",
       "      <td>0</td>\n",
       "      <td>0</td>\n",
       "      <td>0</td>\n",
       "      <td>0</td>\n",
       "      <td>0</td>\n",
       "      <td>0</td>\n",
       "      <td>0</td>\n",
       "      <td>0</td>\n",
       "      <td>0</td>\n",
       "      <td>0</td>\n",
       "      <td>0</td>\n",
       "      <td>0</td>\n",
       "    </tr>\n",
       "    <tr>\n",
       "      <th>...</th>\n",
       "      <td>...</td>\n",
       "      <td>...</td>\n",
       "      <td>...</td>\n",
       "      <td>...</td>\n",
       "      <td>...</td>\n",
       "      <td>...</td>\n",
       "      <td>...</td>\n",
       "      <td>...</td>\n",
       "      <td>...</td>\n",
       "      <td>...</td>\n",
       "      <td>...</td>\n",
       "      <td>...</td>\n",
       "      <td>...</td>\n",
       "      <td>...</td>\n",
       "      <td>...</td>\n",
       "      <td>...</td>\n",
       "    </tr>\n",
       "    <tr>\n",
       "      <th>495</th>\n",
       "      <td>1495</td>\n",
       "      <td>ultra</td>\n",
       "      <td>65</td>\n",
       "      <td>Иркутск</td>\n",
       "      <td>0</td>\n",
       "      <td>0</td>\n",
       "      <td>0</td>\n",
       "      <td>0</td>\n",
       "      <td>0</td>\n",
       "      <td>0</td>\n",
       "      <td>0</td>\n",
       "      <td>0</td>\n",
       "      <td>0</td>\n",
       "      <td>0</td>\n",
       "      <td>0</td>\n",
       "      <td>0</td>\n",
       "    </tr>\n",
       "    <tr>\n",
       "      <th>496</th>\n",
       "      <td>1496</td>\n",
       "      <td>smart</td>\n",
       "      <td>36</td>\n",
       "      <td>Вологда</td>\n",
       "      <td>0</td>\n",
       "      <td>0</td>\n",
       "      <td>0</td>\n",
       "      <td>0</td>\n",
       "      <td>0</td>\n",
       "      <td>0</td>\n",
       "      <td>0</td>\n",
       "      <td>0</td>\n",
       "      <td>0</td>\n",
       "      <td>0</td>\n",
       "      <td>0</td>\n",
       "      <td>0</td>\n",
       "    </tr>\n",
       "    <tr>\n",
       "      <th>497</th>\n",
       "      <td>1497</td>\n",
       "      <td>smart</td>\n",
       "      <td>32</td>\n",
       "      <td>Челябинск</td>\n",
       "      <td>0</td>\n",
       "      <td>0</td>\n",
       "      <td>0</td>\n",
       "      <td>0</td>\n",
       "      <td>0</td>\n",
       "      <td>0</td>\n",
       "      <td>0</td>\n",
       "      <td>0</td>\n",
       "      <td>0</td>\n",
       "      <td>0</td>\n",
       "      <td>0</td>\n",
       "      <td>0</td>\n",
       "    </tr>\n",
       "    <tr>\n",
       "      <th>498</th>\n",
       "      <td>1498</td>\n",
       "      <td>smart</td>\n",
       "      <td>68</td>\n",
       "      <td>Владикавказ</td>\n",
       "      <td>0</td>\n",
       "      <td>0</td>\n",
       "      <td>0</td>\n",
       "      <td>0</td>\n",
       "      <td>0</td>\n",
       "      <td>0</td>\n",
       "      <td>0</td>\n",
       "      <td>0</td>\n",
       "      <td>0</td>\n",
       "      <td>0</td>\n",
       "      <td>0</td>\n",
       "      <td>0</td>\n",
       "    </tr>\n",
       "    <tr>\n",
       "      <th>499</th>\n",
       "      <td>1499</td>\n",
       "      <td>smart</td>\n",
       "      <td>35</td>\n",
       "      <td>Пермь</td>\n",
       "      <td>0</td>\n",
       "      <td>0</td>\n",
       "      <td>0</td>\n",
       "      <td>0</td>\n",
       "      <td>0</td>\n",
       "      <td>0</td>\n",
       "      <td>0</td>\n",
       "      <td>0</td>\n",
       "      <td>0</td>\n",
       "      <td>0</td>\n",
       "      <td>0</td>\n",
       "      <td>0</td>\n",
       "    </tr>\n",
       "  </tbody>\n",
       "</table>\n",
       "<p>500 rows × 16 columns</p>\n",
       "</div>"
      ],
      "text/plain": [
       "    user_id tariff  age         city  1  2  3  4  5  6  7  8  9  10  11  12\n",
       "0      1000  ultra   52    Краснодар  0  0  0  0  0  0  0  0  0   0   0   0\n",
       "1      1001  smart   41       Москва  0  0  0  0  0  0  0  0  0   0   0   0\n",
       "2      1002  smart   59  Стерлитамак  0  0  0  0  0  0  0  0  0   0   0   0\n",
       "3      1003  ultra   23       Москва  0  0  0  0  0  0  0  0  0   0   0   0\n",
       "4      1004  ultra   68  Новокузнецк  0  0  0  0  0  0  0  0  0   0   0   0\n",
       "..      ...    ...  ...          ... .. .. .. .. .. .. .. .. ..  ..  ..  ..\n",
       "495    1495  ultra   65      Иркутск  0  0  0  0  0  0  0  0  0   0   0   0\n",
       "496    1496  smart   36      Вологда  0  0  0  0  0  0  0  0  0   0   0   0\n",
       "497    1497  smart   32    Челябинск  0  0  0  0  0  0  0  0  0   0   0   0\n",
       "498    1498  smart   68  Владикавказ  0  0  0  0  0  0  0  0  0   0   0   0\n",
       "499    1499  smart   35        Пермь  0  0  0  0  0  0  0  0  0   0   0   0\n",
       "\n",
       "[500 rows x 16 columns]"
      ]
     },
     "execution_count": 54,
     "metadata": {},
     "output_type": "execute_result"
    }
   ],
   "source": [
    "df_month_fee"
   ]
  },
  {
   "cell_type": "markdown",
   "metadata": {},
   "source": [
    "В колонке month_churn NaN заменим на 12 (это пригодится в дальнейшем)"
   ]
  },
  {
   "cell_type": "code",
   "execution_count": 55,
   "metadata": {},
   "outputs": [
    {
     "data": {
      "text/html": [
       "<div>\n",
       "<style scoped>\n",
       "    .dataframe tbody tr th:only-of-type {\n",
       "        vertical-align: middle;\n",
       "    }\n",
       "\n",
       "    .dataframe tbody tr th {\n",
       "        vertical-align: top;\n",
       "    }\n",
       "\n",
       "    .dataframe thead th {\n",
       "        text-align: right;\n",
       "    }\n",
       "</style>\n",
       "<table border=\"1\" class=\"dataframe\">\n",
       "  <thead>\n",
       "    <tr style=\"text-align: right;\">\n",
       "      <th></th>\n",
       "      <th>user_id</th>\n",
       "      <th>age</th>\n",
       "      <th>churn_date</th>\n",
       "      <th>city</th>\n",
       "      <th>first_name</th>\n",
       "      <th>last_name</th>\n",
       "      <th>reg_date</th>\n",
       "      <th>tariff</th>\n",
       "      <th>month_churn</th>\n",
       "      <th>month_reg</th>\n",
       "    </tr>\n",
       "  </thead>\n",
       "  <tbody>\n",
       "    <tr>\n",
       "      <th>0</th>\n",
       "      <td>1000</td>\n",
       "      <td>52</td>\n",
       "      <td>NaT</td>\n",
       "      <td>Краснодар</td>\n",
       "      <td>Рафаил</td>\n",
       "      <td>Верещагин</td>\n",
       "      <td>2018-05-25</td>\n",
       "      <td>ultra</td>\n",
       "      <td>12</td>\n",
       "      <td>5</td>\n",
       "    </tr>\n",
       "    <tr>\n",
       "      <th>1</th>\n",
       "      <td>1001</td>\n",
       "      <td>41</td>\n",
       "      <td>NaT</td>\n",
       "      <td>Москва</td>\n",
       "      <td>Иван</td>\n",
       "      <td>Ежов</td>\n",
       "      <td>2018-11-01</td>\n",
       "      <td>smart</td>\n",
       "      <td>12</td>\n",
       "      <td>11</td>\n",
       "    </tr>\n",
       "    <tr>\n",
       "      <th>2</th>\n",
       "      <td>1002</td>\n",
       "      <td>59</td>\n",
       "      <td>NaT</td>\n",
       "      <td>Стерлитамак</td>\n",
       "      <td>Евгений</td>\n",
       "      <td>Абрамович</td>\n",
       "      <td>2018-06-17</td>\n",
       "      <td>smart</td>\n",
       "      <td>12</td>\n",
       "      <td>6</td>\n",
       "    </tr>\n",
       "    <tr>\n",
       "      <th>3</th>\n",
       "      <td>1003</td>\n",
       "      <td>23</td>\n",
       "      <td>NaT</td>\n",
       "      <td>Москва</td>\n",
       "      <td>Белла</td>\n",
       "      <td>Белякова</td>\n",
       "      <td>2018-08-17</td>\n",
       "      <td>ultra</td>\n",
       "      <td>12</td>\n",
       "      <td>8</td>\n",
       "    </tr>\n",
       "    <tr>\n",
       "      <th>4</th>\n",
       "      <td>1004</td>\n",
       "      <td>68</td>\n",
       "      <td>NaT</td>\n",
       "      <td>Новокузнецк</td>\n",
       "      <td>Татьяна</td>\n",
       "      <td>Авдеенко</td>\n",
       "      <td>2018-05-14</td>\n",
       "      <td>ultra</td>\n",
       "      <td>12</td>\n",
       "      <td>5</td>\n",
       "    </tr>\n",
       "    <tr>\n",
       "      <th>...</th>\n",
       "      <td>...</td>\n",
       "      <td>...</td>\n",
       "      <td>...</td>\n",
       "      <td>...</td>\n",
       "      <td>...</td>\n",
       "      <td>...</td>\n",
       "      <td>...</td>\n",
       "      <td>...</td>\n",
       "      <td>...</td>\n",
       "      <td>...</td>\n",
       "    </tr>\n",
       "    <tr>\n",
       "      <th>495</th>\n",
       "      <td>1495</td>\n",
       "      <td>65</td>\n",
       "      <td>NaT</td>\n",
       "      <td>Иркутск</td>\n",
       "      <td>Авксентий</td>\n",
       "      <td>Фокин</td>\n",
       "      <td>2018-08-28</td>\n",
       "      <td>ultra</td>\n",
       "      <td>12</td>\n",
       "      <td>8</td>\n",
       "    </tr>\n",
       "    <tr>\n",
       "      <th>496</th>\n",
       "      <td>1496</td>\n",
       "      <td>36</td>\n",
       "      <td>NaT</td>\n",
       "      <td>Вологда</td>\n",
       "      <td>Трифон</td>\n",
       "      <td>Блохин</td>\n",
       "      <td>2018-01-27</td>\n",
       "      <td>smart</td>\n",
       "      <td>12</td>\n",
       "      <td>1</td>\n",
       "    </tr>\n",
       "    <tr>\n",
       "      <th>497</th>\n",
       "      <td>1497</td>\n",
       "      <td>32</td>\n",
       "      <td>NaT</td>\n",
       "      <td>Челябинск</td>\n",
       "      <td>Каролина</td>\n",
       "      <td>Агеева</td>\n",
       "      <td>2018-10-09</td>\n",
       "      <td>smart</td>\n",
       "      <td>12</td>\n",
       "      <td>10</td>\n",
       "    </tr>\n",
       "    <tr>\n",
       "      <th>498</th>\n",
       "      <td>1498</td>\n",
       "      <td>68</td>\n",
       "      <td>2018-10-25</td>\n",
       "      <td>Владикавказ</td>\n",
       "      <td>Всеволод</td>\n",
       "      <td>Акимчин</td>\n",
       "      <td>2018-07-19</td>\n",
       "      <td>smart</td>\n",
       "      <td>10</td>\n",
       "      <td>7</td>\n",
       "    </tr>\n",
       "    <tr>\n",
       "      <th>499</th>\n",
       "      <td>1499</td>\n",
       "      <td>35</td>\n",
       "      <td>NaT</td>\n",
       "      <td>Пермь</td>\n",
       "      <td>Гектор</td>\n",
       "      <td>Корнилов</td>\n",
       "      <td>2018-09-27</td>\n",
       "      <td>smart</td>\n",
       "      <td>12</td>\n",
       "      <td>9</td>\n",
       "    </tr>\n",
       "  </tbody>\n",
       "</table>\n",
       "<p>500 rows × 10 columns</p>\n",
       "</div>"
      ],
      "text/plain": [
       "    user_id  age churn_date         city first_name  last_name   reg_date  \\\n",
       "0      1000   52        NaT    Краснодар     Рафаил  Верещагин 2018-05-25   \n",
       "1      1001   41        NaT       Москва       Иван       Ежов 2018-11-01   \n",
       "2      1002   59        NaT  Стерлитамак    Евгений  Абрамович 2018-06-17   \n",
       "3      1003   23        NaT       Москва      Белла   Белякова 2018-08-17   \n",
       "4      1004   68        NaT  Новокузнецк    Татьяна   Авдеенко 2018-05-14   \n",
       "..      ...  ...        ...          ...        ...        ...        ...   \n",
       "495    1495   65        NaT      Иркутск  Авксентий      Фокин 2018-08-28   \n",
       "496    1496   36        NaT      Вологда     Трифон     Блохин 2018-01-27   \n",
       "497    1497   32        NaT    Челябинск   Каролина     Агеева 2018-10-09   \n",
       "498    1498   68 2018-10-25  Владикавказ   Всеволод    Акимчин 2018-07-19   \n",
       "499    1499   35        NaT        Пермь     Гектор   Корнилов 2018-09-27   \n",
       "\n",
       "    tariff  month_churn  month_reg  \n",
       "0    ultra           12          5  \n",
       "1    smart           12         11  \n",
       "2    smart           12          6  \n",
       "3    ultra           12          8  \n",
       "4    ultra           12          5  \n",
       "..     ...          ...        ...  \n",
       "495  ultra           12          8  \n",
       "496  smart           12          1  \n",
       "497  smart           12         10  \n",
       "498  smart           10          7  \n",
       "499  smart           12          9  \n",
       "\n",
       "[500 rows x 10 columns]"
      ]
     },
     "execution_count": 55,
     "metadata": {},
     "output_type": "execute_result"
    }
   ],
   "source": [
    "data_users_new = data_users.copy()\n",
    "data_users_new['month_churn'] = data_users_new['month_churn'].fillna(12)\n",
    "data_users_new['month_churn'] = data_users_new['month_churn'].astype('int')\n",
    "data_users_new"
   ]
  },
  {
   "cell_type": "markdown",
   "metadata": {},
   "source": [
    "Зачислим абоненскую плату по месяцам в зависимости от тарифа\n",
    "\n",
    "Начисление будет осуществлятся в зависемости от тарифа и месяцев его использования."
   ]
  },
  {
   "cell_type": "code",
   "execution_count": 56,
   "metadata": {},
   "outputs": [],
   "source": [
    "for i in data_users_new['user_id'].unique():\n",
    "    date_start = data_users_new.query('user_id in @i')['month_reg'].item()\n",
    "    date_stop = data_users_new.query('user_id in @i')['month_churn'].item()\n",
    "        \n",
    "    df_month_fee.loc[(df_month_fee['user_id'] == i) & (df_month_fee['tariff'] == 'ultra'), \n",
    "                     range(date_start, int(date_stop) + 1)] = 1950\n",
    "    \n",
    "    df_month_fee.loc[(df_month_fee['user_id'] == i) & (df_month_fee['tariff'] == 'smart'), \n",
    "                     range(date_start, int(date_stop) + 1)] = 500 "
   ]
  },
  {
   "cell_type": "code",
   "execution_count": 57,
   "metadata": {},
   "outputs": [
    {
     "data": {
      "text/html": [
       "<div>\n",
       "<style scoped>\n",
       "    .dataframe tbody tr th:only-of-type {\n",
       "        vertical-align: middle;\n",
       "    }\n",
       "\n",
       "    .dataframe tbody tr th {\n",
       "        vertical-align: top;\n",
       "    }\n",
       "\n",
       "    .dataframe thead th {\n",
       "        text-align: right;\n",
       "    }\n",
       "</style>\n",
       "<table border=\"1\" class=\"dataframe\">\n",
       "  <thead>\n",
       "    <tr style=\"text-align: right;\">\n",
       "      <th></th>\n",
       "      <th>user_id</th>\n",
       "      <th>tariff</th>\n",
       "      <th>age</th>\n",
       "      <th>city</th>\n",
       "      <th>1</th>\n",
       "      <th>2</th>\n",
       "      <th>3</th>\n",
       "      <th>4</th>\n",
       "      <th>5</th>\n",
       "      <th>6</th>\n",
       "      <th>7</th>\n",
       "      <th>8</th>\n",
       "      <th>9</th>\n",
       "      <th>10</th>\n",
       "      <th>11</th>\n",
       "      <th>12</th>\n",
       "    </tr>\n",
       "  </thead>\n",
       "  <tbody>\n",
       "    <tr>\n",
       "      <th>0</th>\n",
       "      <td>1000</td>\n",
       "      <td>ultra</td>\n",
       "      <td>52</td>\n",
       "      <td>Краснодар</td>\n",
       "      <td>0</td>\n",
       "      <td>0</td>\n",
       "      <td>0</td>\n",
       "      <td>0</td>\n",
       "      <td>1950</td>\n",
       "      <td>1950</td>\n",
       "      <td>1950</td>\n",
       "      <td>1950</td>\n",
       "      <td>1950</td>\n",
       "      <td>1950</td>\n",
       "      <td>1950</td>\n",
       "      <td>1950</td>\n",
       "    </tr>\n",
       "    <tr>\n",
       "      <th>1</th>\n",
       "      <td>1001</td>\n",
       "      <td>smart</td>\n",
       "      <td>41</td>\n",
       "      <td>Москва</td>\n",
       "      <td>0</td>\n",
       "      <td>0</td>\n",
       "      <td>0</td>\n",
       "      <td>0</td>\n",
       "      <td>0</td>\n",
       "      <td>0</td>\n",
       "      <td>0</td>\n",
       "      <td>0</td>\n",
       "      <td>0</td>\n",
       "      <td>0</td>\n",
       "      <td>500</td>\n",
       "      <td>500</td>\n",
       "    </tr>\n",
       "    <tr>\n",
       "      <th>2</th>\n",
       "      <td>1002</td>\n",
       "      <td>smart</td>\n",
       "      <td>59</td>\n",
       "      <td>Стерлитамак</td>\n",
       "      <td>0</td>\n",
       "      <td>0</td>\n",
       "      <td>0</td>\n",
       "      <td>0</td>\n",
       "      <td>0</td>\n",
       "      <td>500</td>\n",
       "      <td>500</td>\n",
       "      <td>500</td>\n",
       "      <td>500</td>\n",
       "      <td>500</td>\n",
       "      <td>500</td>\n",
       "      <td>500</td>\n",
       "    </tr>\n",
       "    <tr>\n",
       "      <th>3</th>\n",
       "      <td>1003</td>\n",
       "      <td>ultra</td>\n",
       "      <td>23</td>\n",
       "      <td>Москва</td>\n",
       "      <td>0</td>\n",
       "      <td>0</td>\n",
       "      <td>0</td>\n",
       "      <td>0</td>\n",
       "      <td>0</td>\n",
       "      <td>0</td>\n",
       "      <td>0</td>\n",
       "      <td>1950</td>\n",
       "      <td>1950</td>\n",
       "      <td>1950</td>\n",
       "      <td>1950</td>\n",
       "      <td>1950</td>\n",
       "    </tr>\n",
       "    <tr>\n",
       "      <th>4</th>\n",
       "      <td>1004</td>\n",
       "      <td>ultra</td>\n",
       "      <td>68</td>\n",
       "      <td>Новокузнецк</td>\n",
       "      <td>0</td>\n",
       "      <td>0</td>\n",
       "      <td>0</td>\n",
       "      <td>0</td>\n",
       "      <td>1950</td>\n",
       "      <td>1950</td>\n",
       "      <td>1950</td>\n",
       "      <td>1950</td>\n",
       "      <td>1950</td>\n",
       "      <td>1950</td>\n",
       "      <td>1950</td>\n",
       "      <td>1950</td>\n",
       "    </tr>\n",
       "    <tr>\n",
       "      <th>...</th>\n",
       "      <td>...</td>\n",
       "      <td>...</td>\n",
       "      <td>...</td>\n",
       "      <td>...</td>\n",
       "      <td>...</td>\n",
       "      <td>...</td>\n",
       "      <td>...</td>\n",
       "      <td>...</td>\n",
       "      <td>...</td>\n",
       "      <td>...</td>\n",
       "      <td>...</td>\n",
       "      <td>...</td>\n",
       "      <td>...</td>\n",
       "      <td>...</td>\n",
       "      <td>...</td>\n",
       "      <td>...</td>\n",
       "    </tr>\n",
       "    <tr>\n",
       "      <th>495</th>\n",
       "      <td>1495</td>\n",
       "      <td>ultra</td>\n",
       "      <td>65</td>\n",
       "      <td>Иркутск</td>\n",
       "      <td>0</td>\n",
       "      <td>0</td>\n",
       "      <td>0</td>\n",
       "      <td>0</td>\n",
       "      <td>0</td>\n",
       "      <td>0</td>\n",
       "      <td>0</td>\n",
       "      <td>1950</td>\n",
       "      <td>1950</td>\n",
       "      <td>1950</td>\n",
       "      <td>1950</td>\n",
       "      <td>1950</td>\n",
       "    </tr>\n",
       "    <tr>\n",
       "      <th>496</th>\n",
       "      <td>1496</td>\n",
       "      <td>smart</td>\n",
       "      <td>36</td>\n",
       "      <td>Вологда</td>\n",
       "      <td>500</td>\n",
       "      <td>500</td>\n",
       "      <td>500</td>\n",
       "      <td>500</td>\n",
       "      <td>500</td>\n",
       "      <td>500</td>\n",
       "      <td>500</td>\n",
       "      <td>500</td>\n",
       "      <td>500</td>\n",
       "      <td>500</td>\n",
       "      <td>500</td>\n",
       "      <td>500</td>\n",
       "    </tr>\n",
       "    <tr>\n",
       "      <th>497</th>\n",
       "      <td>1497</td>\n",
       "      <td>smart</td>\n",
       "      <td>32</td>\n",
       "      <td>Челябинск</td>\n",
       "      <td>0</td>\n",
       "      <td>0</td>\n",
       "      <td>0</td>\n",
       "      <td>0</td>\n",
       "      <td>0</td>\n",
       "      <td>0</td>\n",
       "      <td>0</td>\n",
       "      <td>0</td>\n",
       "      <td>0</td>\n",
       "      <td>500</td>\n",
       "      <td>500</td>\n",
       "      <td>500</td>\n",
       "    </tr>\n",
       "    <tr>\n",
       "      <th>498</th>\n",
       "      <td>1498</td>\n",
       "      <td>smart</td>\n",
       "      <td>68</td>\n",
       "      <td>Владикавказ</td>\n",
       "      <td>0</td>\n",
       "      <td>0</td>\n",
       "      <td>0</td>\n",
       "      <td>0</td>\n",
       "      <td>0</td>\n",
       "      <td>0</td>\n",
       "      <td>500</td>\n",
       "      <td>500</td>\n",
       "      <td>500</td>\n",
       "      <td>500</td>\n",
       "      <td>0</td>\n",
       "      <td>0</td>\n",
       "    </tr>\n",
       "    <tr>\n",
       "      <th>499</th>\n",
       "      <td>1499</td>\n",
       "      <td>smart</td>\n",
       "      <td>35</td>\n",
       "      <td>Пермь</td>\n",
       "      <td>0</td>\n",
       "      <td>0</td>\n",
       "      <td>0</td>\n",
       "      <td>0</td>\n",
       "      <td>0</td>\n",
       "      <td>0</td>\n",
       "      <td>0</td>\n",
       "      <td>0</td>\n",
       "      <td>500</td>\n",
       "      <td>500</td>\n",
       "      <td>500</td>\n",
       "      <td>500</td>\n",
       "    </tr>\n",
       "  </tbody>\n",
       "</table>\n",
       "<p>500 rows × 16 columns</p>\n",
       "</div>"
      ],
      "text/plain": [
       "    user_id tariff  age         city    1    2    3    4     5     6     7  \\\n",
       "0      1000  ultra   52    Краснодар    0    0    0    0  1950  1950  1950   \n",
       "1      1001  smart   41       Москва    0    0    0    0     0     0     0   \n",
       "2      1002  smart   59  Стерлитамак    0    0    0    0     0   500   500   \n",
       "3      1003  ultra   23       Москва    0    0    0    0     0     0     0   \n",
       "4      1004  ultra   68  Новокузнецк    0    0    0    0  1950  1950  1950   \n",
       "..      ...    ...  ...          ...  ...  ...  ...  ...   ...   ...   ...   \n",
       "495    1495  ultra   65      Иркутск    0    0    0    0     0     0     0   \n",
       "496    1496  smart   36      Вологда  500  500  500  500   500   500   500   \n",
       "497    1497  smart   32    Челябинск    0    0    0    0     0     0     0   \n",
       "498    1498  smart   68  Владикавказ    0    0    0    0     0     0   500   \n",
       "499    1499  smart   35        Пермь    0    0    0    0     0     0     0   \n",
       "\n",
       "        8     9    10    11    12  \n",
       "0    1950  1950  1950  1950  1950  \n",
       "1       0     0     0   500   500  \n",
       "2     500   500   500   500   500  \n",
       "3    1950  1950  1950  1950  1950  \n",
       "4    1950  1950  1950  1950  1950  \n",
       "..    ...   ...   ...   ...   ...  \n",
       "495  1950  1950  1950  1950  1950  \n",
       "496   500   500   500   500   500  \n",
       "497     0     0   500   500   500  \n",
       "498   500   500   500     0     0  \n",
       "499     0   500   500   500   500  \n",
       "\n",
       "[500 rows x 16 columns]"
      ]
     },
     "execution_count": 57,
     "metadata": {},
     "output_type": "execute_result"
    }
   ],
   "source": [
    "df_month_fee"
   ]
  },
  {
   "cell_type": "markdown",
   "metadata": {},
   "source": [
    "Посчитаем помесячную вырочку с каждого пользователя за все предоставленные услуги.\n",
    "\n",
    "Проидексируем датасеты по user_id"
   ]
  },
  {
   "cell_type": "code",
   "execution_count": 58,
   "metadata": {},
   "outputs": [],
   "source": [
    "df_calls_profit = df_calls_profit.fillna(0)\n",
    "df_calls_profit = df_calls_profit.set_index('user_id')\n",
    "df_calls_profit.columns.name = 0\n",
    "\n",
    "messages_profit = messages_profit.fillna(0)\n",
    "messages_profit = messages_profit.set_index('user_id')\n",
    "messages_profit.columns.name = 0\n",
    "\n",
    "internet_profit = internet_profit.fillna(0)\n",
    "internet_profit = internet_profit.set_index('user_id')\n",
    "internet_profit.columns.name = 0\n",
    "\n",
    "df_month_fee = df_month_fee.set_index('user_id')\n",
    "df_month_fee.columns.name = 0"
   ]
  },
  {
   "cell_type": "markdown",
   "metadata": {},
   "source": [
    "Сформируем датасет со всеми пользователями, который в дальнейшем будет содержать информацию о суммарных расходах клиентов."
   ]
  },
  {
   "cell_type": "code",
   "execution_count": 59,
   "metadata": {},
   "outputs": [],
   "source": [
    "df_total_fee = df_month_fee.copy()"
   ]
  },
  {
   "cell_type": "code",
   "execution_count": 60,
   "metadata": {},
   "outputs": [],
   "source": [
    "df_total_fee.loc[:, 1:12] = 0"
   ]
  },
  {
   "cell_type": "code",
   "execution_count": 61,
   "metadata": {},
   "outputs": [
    {
     "data": {
      "text/html": [
       "<div>\n",
       "<style scoped>\n",
       "    .dataframe tbody tr th:only-of-type {\n",
       "        vertical-align: middle;\n",
       "    }\n",
       "\n",
       "    .dataframe tbody tr th {\n",
       "        vertical-align: top;\n",
       "    }\n",
       "\n",
       "    .dataframe thead th {\n",
       "        text-align: right;\n",
       "    }\n",
       "</style>\n",
       "<table border=\"1\" class=\"dataframe\">\n",
       "  <thead>\n",
       "    <tr style=\"text-align: right;\">\n",
       "      <th></th>\n",
       "      <th>tariff</th>\n",
       "      <th>age</th>\n",
       "      <th>city</th>\n",
       "      <th>1</th>\n",
       "      <th>2</th>\n",
       "      <th>3</th>\n",
       "      <th>4</th>\n",
       "      <th>5</th>\n",
       "      <th>6</th>\n",
       "      <th>7</th>\n",
       "      <th>8</th>\n",
       "      <th>9</th>\n",
       "      <th>10</th>\n",
       "      <th>11</th>\n",
       "      <th>12</th>\n",
       "    </tr>\n",
       "    <tr>\n",
       "      <th>user_id</th>\n",
       "      <th></th>\n",
       "      <th></th>\n",
       "      <th></th>\n",
       "      <th></th>\n",
       "      <th></th>\n",
       "      <th></th>\n",
       "      <th></th>\n",
       "      <th></th>\n",
       "      <th></th>\n",
       "      <th></th>\n",
       "      <th></th>\n",
       "      <th></th>\n",
       "      <th></th>\n",
       "      <th></th>\n",
       "      <th></th>\n",
       "    </tr>\n",
       "  </thead>\n",
       "  <tbody>\n",
       "    <tr>\n",
       "      <th>1000</th>\n",
       "      <td>ultra</td>\n",
       "      <td>52</td>\n",
       "      <td>Краснодар</td>\n",
       "      <td>0</td>\n",
       "      <td>0</td>\n",
       "      <td>0</td>\n",
       "      <td>0</td>\n",
       "      <td>0</td>\n",
       "      <td>0</td>\n",
       "      <td>0</td>\n",
       "      <td>0</td>\n",
       "      <td>0</td>\n",
       "      <td>0</td>\n",
       "      <td>0</td>\n",
       "      <td>0</td>\n",
       "    </tr>\n",
       "    <tr>\n",
       "      <th>1001</th>\n",
       "      <td>smart</td>\n",
       "      <td>41</td>\n",
       "      <td>Москва</td>\n",
       "      <td>0</td>\n",
       "      <td>0</td>\n",
       "      <td>0</td>\n",
       "      <td>0</td>\n",
       "      <td>0</td>\n",
       "      <td>0</td>\n",
       "      <td>0</td>\n",
       "      <td>0</td>\n",
       "      <td>0</td>\n",
       "      <td>0</td>\n",
       "      <td>0</td>\n",
       "      <td>0</td>\n",
       "    </tr>\n",
       "    <tr>\n",
       "      <th>1002</th>\n",
       "      <td>smart</td>\n",
       "      <td>59</td>\n",
       "      <td>Стерлитамак</td>\n",
       "      <td>0</td>\n",
       "      <td>0</td>\n",
       "      <td>0</td>\n",
       "      <td>0</td>\n",
       "      <td>0</td>\n",
       "      <td>0</td>\n",
       "      <td>0</td>\n",
       "      <td>0</td>\n",
       "      <td>0</td>\n",
       "      <td>0</td>\n",
       "      <td>0</td>\n",
       "      <td>0</td>\n",
       "    </tr>\n",
       "    <tr>\n",
       "      <th>1003</th>\n",
       "      <td>ultra</td>\n",
       "      <td>23</td>\n",
       "      <td>Москва</td>\n",
       "      <td>0</td>\n",
       "      <td>0</td>\n",
       "      <td>0</td>\n",
       "      <td>0</td>\n",
       "      <td>0</td>\n",
       "      <td>0</td>\n",
       "      <td>0</td>\n",
       "      <td>0</td>\n",
       "      <td>0</td>\n",
       "      <td>0</td>\n",
       "      <td>0</td>\n",
       "      <td>0</td>\n",
       "    </tr>\n",
       "    <tr>\n",
       "      <th>1004</th>\n",
       "      <td>ultra</td>\n",
       "      <td>68</td>\n",
       "      <td>Новокузнецк</td>\n",
       "      <td>0</td>\n",
       "      <td>0</td>\n",
       "      <td>0</td>\n",
       "      <td>0</td>\n",
       "      <td>0</td>\n",
       "      <td>0</td>\n",
       "      <td>0</td>\n",
       "      <td>0</td>\n",
       "      <td>0</td>\n",
       "      <td>0</td>\n",
       "      <td>0</td>\n",
       "      <td>0</td>\n",
       "    </tr>\n",
       "    <tr>\n",
       "      <th>...</th>\n",
       "      <td>...</td>\n",
       "      <td>...</td>\n",
       "      <td>...</td>\n",
       "      <td>...</td>\n",
       "      <td>...</td>\n",
       "      <td>...</td>\n",
       "      <td>...</td>\n",
       "      <td>...</td>\n",
       "      <td>...</td>\n",
       "      <td>...</td>\n",
       "      <td>...</td>\n",
       "      <td>...</td>\n",
       "      <td>...</td>\n",
       "      <td>...</td>\n",
       "      <td>...</td>\n",
       "    </tr>\n",
       "    <tr>\n",
       "      <th>1495</th>\n",
       "      <td>ultra</td>\n",
       "      <td>65</td>\n",
       "      <td>Иркутск</td>\n",
       "      <td>0</td>\n",
       "      <td>0</td>\n",
       "      <td>0</td>\n",
       "      <td>0</td>\n",
       "      <td>0</td>\n",
       "      <td>0</td>\n",
       "      <td>0</td>\n",
       "      <td>0</td>\n",
       "      <td>0</td>\n",
       "      <td>0</td>\n",
       "      <td>0</td>\n",
       "      <td>0</td>\n",
       "    </tr>\n",
       "    <tr>\n",
       "      <th>1496</th>\n",
       "      <td>smart</td>\n",
       "      <td>36</td>\n",
       "      <td>Вологда</td>\n",
       "      <td>0</td>\n",
       "      <td>0</td>\n",
       "      <td>0</td>\n",
       "      <td>0</td>\n",
       "      <td>0</td>\n",
       "      <td>0</td>\n",
       "      <td>0</td>\n",
       "      <td>0</td>\n",
       "      <td>0</td>\n",
       "      <td>0</td>\n",
       "      <td>0</td>\n",
       "      <td>0</td>\n",
       "    </tr>\n",
       "    <tr>\n",
       "      <th>1497</th>\n",
       "      <td>smart</td>\n",
       "      <td>32</td>\n",
       "      <td>Челябинск</td>\n",
       "      <td>0</td>\n",
       "      <td>0</td>\n",
       "      <td>0</td>\n",
       "      <td>0</td>\n",
       "      <td>0</td>\n",
       "      <td>0</td>\n",
       "      <td>0</td>\n",
       "      <td>0</td>\n",
       "      <td>0</td>\n",
       "      <td>0</td>\n",
       "      <td>0</td>\n",
       "      <td>0</td>\n",
       "    </tr>\n",
       "    <tr>\n",
       "      <th>1498</th>\n",
       "      <td>smart</td>\n",
       "      <td>68</td>\n",
       "      <td>Владикавказ</td>\n",
       "      <td>0</td>\n",
       "      <td>0</td>\n",
       "      <td>0</td>\n",
       "      <td>0</td>\n",
       "      <td>0</td>\n",
       "      <td>0</td>\n",
       "      <td>0</td>\n",
       "      <td>0</td>\n",
       "      <td>0</td>\n",
       "      <td>0</td>\n",
       "      <td>0</td>\n",
       "      <td>0</td>\n",
       "    </tr>\n",
       "    <tr>\n",
       "      <th>1499</th>\n",
       "      <td>smart</td>\n",
       "      <td>35</td>\n",
       "      <td>Пермь</td>\n",
       "      <td>0</td>\n",
       "      <td>0</td>\n",
       "      <td>0</td>\n",
       "      <td>0</td>\n",
       "      <td>0</td>\n",
       "      <td>0</td>\n",
       "      <td>0</td>\n",
       "      <td>0</td>\n",
       "      <td>0</td>\n",
       "      <td>0</td>\n",
       "      <td>0</td>\n",
       "      <td>0</td>\n",
       "    </tr>\n",
       "  </tbody>\n",
       "</table>\n",
       "<p>500 rows × 15 columns</p>\n",
       "</div>"
      ],
      "text/plain": [
       "0       tariff  age         city  1  2  3  4  5  6  7  8  9  10  11  12\n",
       "user_id                                                                \n",
       "1000     ultra   52    Краснодар  0  0  0  0  0  0  0  0  0   0   0   0\n",
       "1001     smart   41       Москва  0  0  0  0  0  0  0  0  0   0   0   0\n",
       "1002     smart   59  Стерлитамак  0  0  0  0  0  0  0  0  0   0   0   0\n",
       "1003     ultra   23       Москва  0  0  0  0  0  0  0  0  0   0   0   0\n",
       "1004     ultra   68  Новокузнецк  0  0  0  0  0  0  0  0  0   0   0   0\n",
       "...        ...  ...          ... .. .. .. .. .. .. .. .. ..  ..  ..  ..\n",
       "1495     ultra   65      Иркутск  0  0  0  0  0  0  0  0  0   0   0   0\n",
       "1496     smart   36      Вологда  0  0  0  0  0  0  0  0  0   0   0   0\n",
       "1497     smart   32    Челябинск  0  0  0  0  0  0  0  0  0   0   0   0\n",
       "1498     smart   68  Владикавказ  0  0  0  0  0  0  0  0  0   0   0   0\n",
       "1499     smart   35        Пермь  0  0  0  0  0  0  0  0  0   0   0   0\n",
       "\n",
       "[500 rows x 15 columns]"
      ]
     },
     "execution_count": 61,
     "metadata": {},
     "output_type": "execute_result"
    }
   ],
   "source": [
    "df_total_fee"
   ]
  },
  {
   "cell_type": "markdown",
   "metadata": {},
   "source": [
    "Создадим функцию, которая будет складывать расходы по клиентам и месяцам."
   ]
  },
  {
   "cell_type": "code",
   "execution_count": 62,
   "metadata": {},
   "outputs": [],
   "source": [
    "def func(df, df_1):\n",
    "    for i in list(df_1.index):\n",
    "        for col in range(1, 13):\n",
    "            df.loc[i, col] +=  df_1.loc[i, col]"
   ]
  },
  {
   "cell_type": "code",
   "execution_count": 63,
   "metadata": {},
   "outputs": [],
   "source": [
    "func(df_total_fee, df_month_fee)"
   ]
  },
  {
   "cell_type": "code",
   "execution_count": 64,
   "metadata": {},
   "outputs": [],
   "source": [
    "func(df_total_fee, df_calls_profit)"
   ]
  },
  {
   "cell_type": "code",
   "execution_count": 65,
   "metadata": {},
   "outputs": [],
   "source": [
    "func(df_total_fee, internet_profit)"
   ]
  },
  {
   "cell_type": "code",
   "execution_count": 66,
   "metadata": {},
   "outputs": [],
   "source": [
    "func(df_total_fee, messages_profit)"
   ]
  },
  {
   "cell_type": "code",
   "execution_count": 67,
   "metadata": {},
   "outputs": [
    {
     "data": {
      "text/html": [
       "<div>\n",
       "<style scoped>\n",
       "    .dataframe tbody tr th:only-of-type {\n",
       "        vertical-align: middle;\n",
       "    }\n",
       "\n",
       "    .dataframe tbody tr th {\n",
       "        vertical-align: top;\n",
       "    }\n",
       "\n",
       "    .dataframe thead th {\n",
       "        text-align: right;\n",
       "    }\n",
       "</style>\n",
       "<table border=\"1\" class=\"dataframe\">\n",
       "  <thead>\n",
       "    <tr style=\"text-align: right;\">\n",
       "      <th></th>\n",
       "      <th>tariff</th>\n",
       "      <th>age</th>\n",
       "      <th>city</th>\n",
       "      <th>1</th>\n",
       "      <th>2</th>\n",
       "      <th>3</th>\n",
       "      <th>4</th>\n",
       "      <th>5</th>\n",
       "      <th>6</th>\n",
       "      <th>7</th>\n",
       "      <th>8</th>\n",
       "      <th>9</th>\n",
       "      <th>10</th>\n",
       "      <th>11</th>\n",
       "      <th>12</th>\n",
       "    </tr>\n",
       "    <tr>\n",
       "      <th>user_id</th>\n",
       "      <th></th>\n",
       "      <th></th>\n",
       "      <th></th>\n",
       "      <th></th>\n",
       "      <th></th>\n",
       "      <th></th>\n",
       "      <th></th>\n",
       "      <th></th>\n",
       "      <th></th>\n",
       "      <th></th>\n",
       "      <th></th>\n",
       "      <th></th>\n",
       "      <th></th>\n",
       "      <th></th>\n",
       "      <th></th>\n",
       "    </tr>\n",
       "  </thead>\n",
       "  <tbody>\n",
       "    <tr>\n",
       "      <th>1000</th>\n",
       "      <td>ultra</td>\n",
       "      <td>52</td>\n",
       "      <td>Краснодар</td>\n",
       "      <td>0.00</td>\n",
       "      <td>0.00</td>\n",
       "      <td>0.00</td>\n",
       "      <td>0.00</td>\n",
       "      <td>1,950.00</td>\n",
       "      <td>1,950.00</td>\n",
       "      <td>1,950.00</td>\n",
       "      <td>1,950.00</td>\n",
       "      <td>1,950.00</td>\n",
       "      <td>1,950.00</td>\n",
       "      <td>1,950.00</td>\n",
       "      <td>1,950.00</td>\n",
       "    </tr>\n",
       "    <tr>\n",
       "      <th>1001</th>\n",
       "      <td>smart</td>\n",
       "      <td>41</td>\n",
       "      <td>Москва</td>\n",
       "      <td>0.00</td>\n",
       "      <td>0.00</td>\n",
       "      <td>0.00</td>\n",
       "      <td>0.00</td>\n",
       "      <td>0.00</td>\n",
       "      <td>0.00</td>\n",
       "      <td>0.00</td>\n",
       "      <td>0.00</td>\n",
       "      <td>0.00</td>\n",
       "      <td>0.00</td>\n",
       "      <td>1,100.00</td>\n",
       "      <td>500.00</td>\n",
       "    </tr>\n",
       "    <tr>\n",
       "      <th>1002</th>\n",
       "      <td>smart</td>\n",
       "      <td>59</td>\n",
       "      <td>Стерлитамак</td>\n",
       "      <td>0.00</td>\n",
       "      <td>0.00</td>\n",
       "      <td>0.00</td>\n",
       "      <td>0.00</td>\n",
       "      <td>0.00</td>\n",
       "      <td>500.00</td>\n",
       "      <td>1,100.00</td>\n",
       "      <td>1,500.00</td>\n",
       "      <td>900.00</td>\n",
       "      <td>500.00</td>\n",
       "      <td>1,300.00</td>\n",
       "      <td>1,100.00</td>\n",
       "    </tr>\n",
       "    <tr>\n",
       "      <th>1003</th>\n",
       "      <td>ultra</td>\n",
       "      <td>23</td>\n",
       "      <td>Москва</td>\n",
       "      <td>0.00</td>\n",
       "      <td>0.00</td>\n",
       "      <td>0.00</td>\n",
       "      <td>0.00</td>\n",
       "      <td>0.00</td>\n",
       "      <td>0.00</td>\n",
       "      <td>0.00</td>\n",
       "      <td>1,950.00</td>\n",
       "      <td>1,950.00</td>\n",
       "      <td>1,950.00</td>\n",
       "      <td>1,950.00</td>\n",
       "      <td>1,950.00</td>\n",
       "    </tr>\n",
       "    <tr>\n",
       "      <th>1004</th>\n",
       "      <td>ultra</td>\n",
       "      <td>68</td>\n",
       "      <td>Новокузнецк</td>\n",
       "      <td>0.00</td>\n",
       "      <td>0.00</td>\n",
       "      <td>0.00</td>\n",
       "      <td>0.00</td>\n",
       "      <td>1,950.00</td>\n",
       "      <td>1,950.00</td>\n",
       "      <td>1,950.00</td>\n",
       "      <td>1,950.00</td>\n",
       "      <td>1,950.00</td>\n",
       "      <td>1,950.00</td>\n",
       "      <td>1,950.00</td>\n",
       "      <td>1,950.00</td>\n",
       "    </tr>\n",
       "    <tr>\n",
       "      <th>...</th>\n",
       "      <td>...</td>\n",
       "      <td>...</td>\n",
       "      <td>...</td>\n",
       "      <td>...</td>\n",
       "      <td>...</td>\n",
       "      <td>...</td>\n",
       "      <td>...</td>\n",
       "      <td>...</td>\n",
       "      <td>...</td>\n",
       "      <td>...</td>\n",
       "      <td>...</td>\n",
       "      <td>...</td>\n",
       "      <td>...</td>\n",
       "      <td>...</td>\n",
       "      <td>...</td>\n",
       "    </tr>\n",
       "    <tr>\n",
       "      <th>1495</th>\n",
       "      <td>ultra</td>\n",
       "      <td>65</td>\n",
       "      <td>Иркутск</td>\n",
       "      <td>0.00</td>\n",
       "      <td>0.00</td>\n",
       "      <td>0.00</td>\n",
       "      <td>0.00</td>\n",
       "      <td>0.00</td>\n",
       "      <td>0.00</td>\n",
       "      <td>0.00</td>\n",
       "      <td>1,950.00</td>\n",
       "      <td>2,400.00</td>\n",
       "      <td>1,950.00</td>\n",
       "      <td>3,300.00</td>\n",
       "      <td>1,950.00</td>\n",
       "    </tr>\n",
       "    <tr>\n",
       "      <th>1496</th>\n",
       "      <td>smart</td>\n",
       "      <td>36</td>\n",
       "      <td>Вологда</td>\n",
       "      <td>500.00</td>\n",
       "      <td>3,382.00</td>\n",
       "      <td>2,671.00</td>\n",
       "      <td>1,763.00</td>\n",
       "      <td>2,300.00</td>\n",
       "      <td>1,665.00</td>\n",
       "      <td>2,546.00</td>\n",
       "      <td>2,181.00</td>\n",
       "      <td>2,900.00</td>\n",
       "      <td>3,100.00</td>\n",
       "      <td>2,986.00</td>\n",
       "      <td>1,757.00</td>\n",
       "    </tr>\n",
       "    <tr>\n",
       "      <th>1497</th>\n",
       "      <td>smart</td>\n",
       "      <td>32</td>\n",
       "      <td>Челябинск</td>\n",
       "      <td>0.00</td>\n",
       "      <td>0.00</td>\n",
       "      <td>0.00</td>\n",
       "      <td>0.00</td>\n",
       "      <td>0.00</td>\n",
       "      <td>0.00</td>\n",
       "      <td>0.00</td>\n",
       "      <td>0.00</td>\n",
       "      <td>0.00</td>\n",
       "      <td>500.00</td>\n",
       "      <td>500.00</td>\n",
       "      <td>1,635.00</td>\n",
       "    </tr>\n",
       "    <tr>\n",
       "      <th>1498</th>\n",
       "      <td>smart</td>\n",
       "      <td>68</td>\n",
       "      <td>Владикавказ</td>\n",
       "      <td>0.00</td>\n",
       "      <td>0.00</td>\n",
       "      <td>0.00</td>\n",
       "      <td>0.00</td>\n",
       "      <td>0.00</td>\n",
       "      <td>0.00</td>\n",
       "      <td>500.00</td>\n",
       "      <td>2,336.00</td>\n",
       "      <td>1,900.00</td>\n",
       "      <td>1,700.00</td>\n",
       "      <td>0.00</td>\n",
       "      <td>0.00</td>\n",
       "    </tr>\n",
       "    <tr>\n",
       "      <th>1499</th>\n",
       "      <td>smart</td>\n",
       "      <td>35</td>\n",
       "      <td>Пермь</td>\n",
       "      <td>0.00</td>\n",
       "      <td>0.00</td>\n",
       "      <td>0.00</td>\n",
       "      <td>0.00</td>\n",
       "      <td>0.00</td>\n",
       "      <td>0.00</td>\n",
       "      <td>0.00</td>\n",
       "      <td>0.00</td>\n",
       "      <td>500.00</td>\n",
       "      <td>1,100.00</td>\n",
       "      <td>1,463.00</td>\n",
       "      <td>548.00</td>\n",
       "    </tr>\n",
       "  </tbody>\n",
       "</table>\n",
       "<p>500 rows × 15 columns</p>\n",
       "</div>"
      ],
      "text/plain": [
       "0       tariff  age         city      1        2        3        4        5  \\\n",
       "user_id                                                                       \n",
       "1000     ultra   52    Краснодар   0.00     0.00     0.00     0.00 1,950.00   \n",
       "1001     smart   41       Москва   0.00     0.00     0.00     0.00     0.00   \n",
       "1002     smart   59  Стерлитамак   0.00     0.00     0.00     0.00     0.00   \n",
       "1003     ultra   23       Москва   0.00     0.00     0.00     0.00     0.00   \n",
       "1004     ultra   68  Новокузнецк   0.00     0.00     0.00     0.00 1,950.00   \n",
       "...        ...  ...          ...    ...      ...      ...      ...      ...   \n",
       "1495     ultra   65      Иркутск   0.00     0.00     0.00     0.00     0.00   \n",
       "1496     smart   36      Вологда 500.00 3,382.00 2,671.00 1,763.00 2,300.00   \n",
       "1497     smart   32    Челябинск   0.00     0.00     0.00     0.00     0.00   \n",
       "1498     smart   68  Владикавказ   0.00     0.00     0.00     0.00     0.00   \n",
       "1499     smart   35        Пермь   0.00     0.00     0.00     0.00     0.00   \n",
       "\n",
       "0              6        7        8        9       10       11       12  \n",
       "user_id                                                                 \n",
       "1000    1,950.00 1,950.00 1,950.00 1,950.00 1,950.00 1,950.00 1,950.00  \n",
       "1001        0.00     0.00     0.00     0.00     0.00 1,100.00   500.00  \n",
       "1002      500.00 1,100.00 1,500.00   900.00   500.00 1,300.00 1,100.00  \n",
       "1003        0.00     0.00 1,950.00 1,950.00 1,950.00 1,950.00 1,950.00  \n",
       "1004    1,950.00 1,950.00 1,950.00 1,950.00 1,950.00 1,950.00 1,950.00  \n",
       "...          ...      ...      ...      ...      ...      ...      ...  \n",
       "1495        0.00     0.00 1,950.00 2,400.00 1,950.00 3,300.00 1,950.00  \n",
       "1496    1,665.00 2,546.00 2,181.00 2,900.00 3,100.00 2,986.00 1,757.00  \n",
       "1497        0.00     0.00     0.00     0.00   500.00   500.00 1,635.00  \n",
       "1498        0.00   500.00 2,336.00 1,900.00 1,700.00     0.00     0.00  \n",
       "1499        0.00     0.00     0.00   500.00 1,100.00 1,463.00   548.00  \n",
       "\n",
       "[500 rows x 15 columns]"
      ]
     },
     "execution_count": 67,
     "metadata": {},
     "output_type": "execute_result"
    }
   ],
   "source": [
    "df_total_fee"
   ]
  },
  {
   "cell_type": "markdown",
   "metadata": {},
   "source": [
    "Проведем проверку"
   ]
  },
  {
   "cell_type": "code",
   "execution_count": 68,
   "metadata": {},
   "outputs": [
    {
     "name": "stdout",
     "output_type": "stream",
     "text": [
      "4805451.0\n"
     ]
    }
   ],
   "source": [
    "print(df_total_fee.loc[:, 1:12].sum().sum())"
   ]
  },
  {
   "cell_type": "code",
   "execution_count": 69,
   "metadata": {},
   "outputs": [
    {
     "data": {
      "text/plain": [
       "4805451.0"
      ]
     },
     "execution_count": 69,
     "metadata": {},
     "output_type": "execute_result"
    }
   ],
   "source": [
    "total_sum = 0\n",
    "for i in [df_calls_profit, messages_profit, internet_profit, df_month_fee]: \n",
    "    total_sum += i.loc[:, 1:12].sum().sum()\n",
    "total_sum"
   ]
  },
  {
   "cell_type": "markdown",
   "metadata": {},
   "source": [
    "<div class=\"alert alert-warning\">\n",
    "<h2> Комментарий ревьюера <a class=\"tocSkip\"> </h2>\n",
    "\n",
    "<b>Некоторые замечания и рекомендации💡:</b>\n",
    "    \n",
    "Вроде бы ты всё сделал правильно (кроме округлений=)), но такой способ очень трудозатратный, тяжело проверяемый, и дальше с такой таблицей очень сложно работать.\n",
    "    \n",
    "Другой способ, более простой - сделать таблицы в такой форме:\n",
    "    \n",
    "| user_id | month | calls_duration | messages | revenue |\n",
    "|---------|-------|----------------|----------|---------|\n",
    "| 1       | 5     | 10             | 10       | 550     |\n",
    "| 1       | 6     | 15             | 20       | 550     |\n",
    "| 1       | 7     | 11             | 23       | 550     |\n",
    "    \n",
    "С такой формой гораздо проще работать, объединять, считать выручку, и потом анализировать.\n",
    "    \n",
    "Предлагаю всё-таки сделать и так, и сравнить свои трудозатраты\n",
    "    \n",
    "    "
   ]
  },
  {
   "cell_type": "markdown",
   "metadata": {},
   "source": [
    "<div class=\"alert alert-info\"> Сейчас попробуем:\n",
    "    \n",
    " </div>"
   ]
  },
  {
   "cell_type": "code",
   "execution_count": 70,
   "metadata": {},
   "outputs": [],
   "source": [
    "new_pivot_calls = data_calls.pivot_table(index=['user_id', 'month', 'tariff'],\n",
    "                                         values='duration',\n",
    "                                         aggfunc='sum'\n",
    "                                        )\n"
   ]
  },
  {
   "cell_type": "code",
   "execution_count": 71,
   "metadata": {},
   "outputs": [],
   "source": [
    "new_pivot_messages = data_messages.pivot_table(index=['user_id', 'month', 'tariff'],\n",
    "                                         values='message_date',\n",
    "                                         aggfunc='count'\n",
    "                                              )\n",
    "\n",
    "new_pivot_messages.columns = ['messages']"
   ]
  },
  {
   "cell_type": "code",
   "execution_count": 72,
   "metadata": {},
   "outputs": [],
   "source": [
    "new_pivot_internet = data_internet.pivot_table(index=['user_id', 'month', 'tariff'],\n",
    "                                         values='mb_used',\n",
    "                                         aggfunc='sum'\n",
    "                                              )\n"
   ]
  },
  {
   "cell_type": "code",
   "execution_count": 73,
   "metadata": {},
   "outputs": [],
   "source": [
    "total = new_pivot_calls.join([new_pivot_messages, new_pivot_internet], how='outer').reset_index()"
   ]
  },
  {
   "cell_type": "code",
   "execution_count": 74,
   "metadata": {},
   "outputs": [
    {
     "data": {
      "text/plain": [
       "123036.0"
      ]
     },
     "execution_count": 74,
     "metadata": {},
     "output_type": "execute_result"
    }
   ],
   "source": [
    "total['messages'].sum()"
   ]
  },
  {
   "cell_type": "code",
   "execution_count": 75,
   "metadata": {},
   "outputs": [
    {
     "data": {
      "text/plain": [
       "123036"
      ]
     },
     "execution_count": 75,
     "metadata": {},
     "output_type": "execute_result"
    }
   ],
   "source": [
    "new_pivot_messages['messages'].sum()"
   ]
  },
  {
   "cell_type": "code",
   "execution_count": 76,
   "metadata": {},
   "outputs": [],
   "source": [
    "def month_board(x):\n",
    "    if x['tariff'] == 'ultra': \n",
    "        return 1950\n",
    "    else: \n",
    "        return 500"
   ]
  },
  {
   "cell_type": "code",
   "execution_count": 77,
   "metadata": {},
   "outputs": [],
   "source": [
    "total['month_board'] = total.apply(month_board, axis=1)"
   ]
  },
  {
   "cell_type": "code",
   "execution_count": 78,
   "metadata": {},
   "outputs": [
    {
     "data": {
      "text/html": [
       "<div>\n",
       "<style scoped>\n",
       "    .dataframe tbody tr th:only-of-type {\n",
       "        vertical-align: middle;\n",
       "    }\n",
       "\n",
       "    .dataframe tbody tr th {\n",
       "        vertical-align: top;\n",
       "    }\n",
       "\n",
       "    .dataframe thead th {\n",
       "        text-align: right;\n",
       "    }\n",
       "</style>\n",
       "<table border=\"1\" class=\"dataframe\">\n",
       "  <thead>\n",
       "    <tr style=\"text-align: right;\">\n",
       "      <th></th>\n",
       "      <th>messages_included</th>\n",
       "      <th>mb_per_month_included</th>\n",
       "      <th>minutes_included</th>\n",
       "      <th>rub_monthly_fee</th>\n",
       "      <th>rub_per_gb</th>\n",
       "      <th>rub_per_message</th>\n",
       "      <th>rub_per_minute</th>\n",
       "      <th>tariff_name</th>\n",
       "    </tr>\n",
       "  </thead>\n",
       "  <tbody>\n",
       "    <tr>\n",
       "      <th>0</th>\n",
       "      <td>50</td>\n",
       "      <td>15360</td>\n",
       "      <td>500</td>\n",
       "      <td>550</td>\n",
       "      <td>200</td>\n",
       "      <td>3</td>\n",
       "      <td>3</td>\n",
       "      <td>smart</td>\n",
       "    </tr>\n",
       "    <tr>\n",
       "      <th>1</th>\n",
       "      <td>1000</td>\n",
       "      <td>30720</td>\n",
       "      <td>3000</td>\n",
       "      <td>1950</td>\n",
       "      <td>150</td>\n",
       "      <td>1</td>\n",
       "      <td>1</td>\n",
       "      <td>ultra</td>\n",
       "    </tr>\n",
       "  </tbody>\n",
       "</table>\n",
       "</div>"
      ],
      "text/plain": [
       "   messages_included  mb_per_month_included  minutes_included  \\\n",
       "0                 50                  15360               500   \n",
       "1               1000                  30720              3000   \n",
       "\n",
       "   rub_monthly_fee  rub_per_gb  rub_per_message  rub_per_minute tariff_name  \n",
       "0              550         200                3               3       smart  \n",
       "1             1950         150                1               1       ultra  "
      ]
     },
     "execution_count": 78,
     "metadata": {},
     "output_type": "execute_result"
    }
   ],
   "source": [
    "data_tariffs"
   ]
  },
  {
   "cell_type": "code",
   "execution_count": 79,
   "metadata": {},
   "outputs": [],
   "source": [
    "total.loc[total.tariff == 'ultra', 'duration'] -= 3000\n",
    "total.loc[total.tariff == 'smart', 'duration'] -= 500\n",
    "total.loc[total.duration < 0, 'duration'] = 0\n",
    "total.loc[total.tariff == 'smart', 'duration'] *= 3"
   ]
  },
  {
   "cell_type": "code",
   "execution_count": 80,
   "metadata": {},
   "outputs": [],
   "source": [
    "total.loc[total.tariff == 'ultra', 'messages'] -= 1000\n",
    "total.loc[total.tariff == 'smart', 'messages'] -= 50\n",
    "total.loc[total.messages < 0, 'messages'] = 0\n",
    "total.loc[total.tariff == 'smart', 'messages'] *= 3"
   ]
  },
  {
   "cell_type": "code",
   "execution_count": 81,
   "metadata": {},
   "outputs": [],
   "source": [
    "total.loc[total.tariff == 'ultra', 'mb_used'] -= 30720\n",
    "total.loc[total.tariff == 'smart', 'mb_used'] -= 15360\n",
    "total.loc[total.mb_used < 0, 'mb_used'] = 0\n",
    "\n",
    "total['mb_used'] /= 1024\n",
    "total['mb_used'] = total['mb_used'].apply(np.ceil)\n",
    "\n",
    "total.loc[total.tariff == 'ultra', 'mb_used'] *= 150\n",
    "total.loc[total.tariff == 'smart', 'mb_used'] *= 200\n"
   ]
  },
  {
   "cell_type": "code",
   "execution_count": 82,
   "metadata": {},
   "outputs": [],
   "source": [
    "total['revenue'] = total['duration'] + total['messages'] + total['mb_used'] + total['month_board']"
   ]
  },
  {
   "cell_type": "markdown",
   "metadata": {},
   "source": [
    "<div class=\"alert alert-info\"> Да, это оказалось раз в 5 проще и быстрее (и это даже не привеулечение). Спасибо за замечание.\n",
    "    \n",
    " </div>"
   ]
  },
  {
   "cell_type": "markdown",
   "metadata": {},
   "source": [
    "<div class=\"alert alert-warning\">\n",
    "<h2> Комментарий ревьюера <a class=\"tocSkip\"> </h2>\n",
    "\n",
    "<b>Некоторые замечания и рекомендации💡-2:</b> \n",
    "    \n",
    "Здорово что ты попробовал!\n",
    "\n",
    "Но, при обьединении всегда полезно проверять корректность объединения. Например, тут можно было проверить что сумма отправленных сообщений в total совпадает с new_pivot_messages.\n",
    "    \n",
    "Сейчас ты теряешь данные, нужно указать в методе джойн как ты хочешь объединять. https://pandas.pydata.org/docs/reference/api/pandas.DataFrame.join.html\n",
    "    \n",
    "В параметре how нужно указать вид объединения, который берет все данные и из \"левой\" таблицы, и из \"правой\". Также стоит указывать по каким параметрам ты объединяешь с помощью on = [айди, месяц]\n",
    "    \n",
    "Проект ты сделал, но давай тут тоже исправишь ошибку и потом я приму проект? Стоит разобраться с объединением данных, это один из самых необходимых навыков=)"
   ]
  },
  {
   "cell_type": "markdown",
   "metadata": {},
   "source": [
    "<div class=\"alert alert-info\"> Исправил, путем добавления how='outer'. Почему-то был уверен, что я его добовлял...\n",
    "    \n",
    " </div>"
   ]
  },
  {
   "cell_type": "markdown",
   "metadata": {},
   "source": [
    "<div class=\"alert alert-success\">\n",
    "<h2> Комментарий ревьюера-3 <a class=\"tocSkip\"> </h2>\n",
    "\n",
    "<b>Все отлично!👍:</b>\n",
    "    \n",
    "Теперь всё верно"
   ]
  },
  {
   "cell_type": "markdown",
   "metadata": {},
   "source": [
    "Результаты совпадают"
   ]
  },
  {
   "cell_type": "code",
   "execution_count": 83,
   "metadata": {},
   "outputs": [
    {
     "data": {
      "text/html": [
       "<div>\n",
       "<style scoped>\n",
       "    .dataframe tbody tr th:only-of-type {\n",
       "        vertical-align: middle;\n",
       "    }\n",
       "\n",
       "    .dataframe tbody tr th {\n",
       "        vertical-align: top;\n",
       "    }\n",
       "\n",
       "    .dataframe thead th {\n",
       "        text-align: right;\n",
       "    }\n",
       "</style>\n",
       "<table border=\"1\" class=\"dataframe\">\n",
       "  <thead>\n",
       "    <tr style=\"text-align: right;\">\n",
       "      <th></th>\n",
       "      <th>tariff</th>\n",
       "      <th>age</th>\n",
       "      <th>city</th>\n",
       "      <th>month</th>\n",
       "      <th>revenue</th>\n",
       "    </tr>\n",
       "  </thead>\n",
       "  <tbody>\n",
       "    <tr>\n",
       "      <th>5</th>\n",
       "      <td>smart</td>\n",
       "      <td>67</td>\n",
       "      <td>Набережные Челны</td>\n",
       "      <td>1</td>\n",
       "      <td>500.00</td>\n",
       "    </tr>\n",
       "    <tr>\n",
       "      <th>32</th>\n",
       "      <td>smart</td>\n",
       "      <td>31</td>\n",
       "      <td>Ульяновск</td>\n",
       "      <td>1</td>\n",
       "      <td>2,300.00</td>\n",
       "    </tr>\n",
       "    <tr>\n",
       "      <th>45</th>\n",
       "      <td>smart</td>\n",
       "      <td>48</td>\n",
       "      <td>Улан-Удэ</td>\n",
       "      <td>1</td>\n",
       "      <td>500.00</td>\n",
       "    </tr>\n",
       "    <tr>\n",
       "      <th>55</th>\n",
       "      <td>smart</td>\n",
       "      <td>39</td>\n",
       "      <td>Казань</td>\n",
       "      <td>1</td>\n",
       "      <td>1,053.00</td>\n",
       "    </tr>\n",
       "    <tr>\n",
       "      <th>71</th>\n",
       "      <td>smart</td>\n",
       "      <td>20</td>\n",
       "      <td>Омск</td>\n",
       "      <td>1</td>\n",
       "      <td>700.00</td>\n",
       "    </tr>\n",
       "    <tr>\n",
       "      <th>...</th>\n",
       "      <td>...</td>\n",
       "      <td>...</td>\n",
       "      <td>...</td>\n",
       "      <td>...</td>\n",
       "      <td>...</td>\n",
       "    </tr>\n",
       "    <tr>\n",
       "      <th>5994</th>\n",
       "      <td>smart</td>\n",
       "      <td>62</td>\n",
       "      <td>Омск</td>\n",
       "      <td>12</td>\n",
       "      <td>1,100.00</td>\n",
       "    </tr>\n",
       "    <tr>\n",
       "      <th>5995</th>\n",
       "      <td>ultra</td>\n",
       "      <td>65</td>\n",
       "      <td>Иркутск</td>\n",
       "      <td>12</td>\n",
       "      <td>1,950.00</td>\n",
       "    </tr>\n",
       "    <tr>\n",
       "      <th>5996</th>\n",
       "      <td>smart</td>\n",
       "      <td>36</td>\n",
       "      <td>Вологда</td>\n",
       "      <td>12</td>\n",
       "      <td>1,757.00</td>\n",
       "    </tr>\n",
       "    <tr>\n",
       "      <th>5997</th>\n",
       "      <td>smart</td>\n",
       "      <td>32</td>\n",
       "      <td>Челябинск</td>\n",
       "      <td>12</td>\n",
       "      <td>1,635.00</td>\n",
       "    </tr>\n",
       "    <tr>\n",
       "      <th>5999</th>\n",
       "      <td>smart</td>\n",
       "      <td>35</td>\n",
       "      <td>Пермь</td>\n",
       "      <td>12</td>\n",
       "      <td>548.00</td>\n",
       "    </tr>\n",
       "  </tbody>\n",
       "</table>\n",
       "<p>3216 rows × 5 columns</p>\n",
       "</div>"
      ],
      "text/plain": [
       "     tariff  age              city month  revenue\n",
       "5     smart   67  Набережные Челны     1   500.00\n",
       "32    smart   31         Ульяновск     1 2,300.00\n",
       "45    smart   48          Улан-Удэ     1   500.00\n",
       "55    smart   39            Казань     1 1,053.00\n",
       "71    smart   20              Омск     1   700.00\n",
       "...     ...  ...               ...   ...      ...\n",
       "5994  smart   62              Омск    12 1,100.00\n",
       "5995  ultra   65           Иркутск    12 1,950.00\n",
       "5996  smart   36           Вологда    12 1,757.00\n",
       "5997  smart   32         Челябинск    12 1,635.00\n",
       "5999  smart   35             Пермь    12   548.00\n",
       "\n",
       "[3216 rows x 5 columns]"
      ]
     },
     "execution_count": 83,
     "metadata": {},
     "output_type": "execute_result"
    }
   ],
   "source": [
    "#Код ревьювера для проверки\n",
    "df_total_fee.melt(id_vars=['tariff', 'age', 'city'], value_vars=[1, 2, 3, 4, 5, 6, 7, 8, 9, 10, 11, 12]) \\\n",
    "    .loc[lambda x: x['value']!=0] \\\n",
    "    .rename(columns={0:'month', 'value':'revenue'})"
   ]
  },
  {
   "cell_type": "markdown",
   "metadata": {},
   "source": [
    "## Проанализируйте данные\n",
    "\n",
    "Опишите поведение клиентов оператора, исходя из выборки. Сколько минут разговора, сколько сообщений и какой объём интернет-трафика требуется пользователям каждого тарифа в месяц? Посчитайте среднее количество, дисперсию и стандартное отклонение. Постройте гистограммы. Опишите распределения."
   ]
  },
  {
   "cell_type": "markdown",
   "metadata": {},
   "source": [
    "Создадим функцию, которая принимает датасет, а возвращает список значений датасета без NAN. Нули необходимо оставить так как клиент мог не пользоваться в определенном месяце какой-либо услугой."
   ]
  },
  {
   "cell_type": "code",
   "execution_count": 84,
   "metadata": {},
   "outputs": [],
   "source": [
    "def make_list(df):\n",
    "    list_value = []\n",
    "    df_copy = df.copy()\n",
    "    for i in df_copy.columns:\n",
    "        list_1 = list(df_copy.loc[:, i])\n",
    "        for k in range(0, len(list_1)):\n",
    "            if list_1[k] > -1:\n",
    "                list_value.append(list_1[k])\n",
    "    return list_value\n",
    "                "
   ]
  },
  {
   "cell_type": "code",
   "execution_count": 85,
   "metadata": {},
   "outputs": [],
   "source": [
    "def stat_info(data):\n",
    "    print(f\"Медиана {stat.median(data)}\")\n",
    "    print(f\"Среднее {stat.mean(data)}\")\n",
    "    print(f\"Дисперсия {np.var(data)}\")\n",
    "    print(f\"Стандартное отклонение {np.sqrt(np.var(data))}\")\n",
    "    sns.displot(data=data, \n",
    "            kde=True)\n",
    "    plt.show()"
   ]
  },
  {
   "cell_type": "code",
   "execution_count": 86,
   "metadata": {},
   "outputs": [],
   "source": [
    "minute_smart = make_list(pivot_calls_duration.query('tariff==\"smart\"').loc[:, 1:12])"
   ]
  },
  {
   "cell_type": "code",
   "execution_count": 87,
   "metadata": {},
   "outputs": [],
   "source": [
    "minute_ultra = make_list(pivot_calls_duration.query('tariff==\"ultra\"').loc[:, 1:12])"
   ]
  },
  {
   "cell_type": "code",
   "execution_count": 88,
   "metadata": {},
   "outputs": [
    {
     "name": "stdout",
     "output_type": "stream",
     "text": [
      "Медиана 423.0\n",
      "Среднее 419.0629779577148\n",
      "Дисперсия 35828.06530953033\n",
      "Стандартное отклонение 189.2830296395594\n"
     ]
    },
    {
     "data": {
      "image/png": "[encoded data removed]",
      "text/plain": [
       "<Figure size 360x360 with 1 Axes>"
      ]
     },
     "metadata": {
      "needs_background": "light"
     },
     "output_type": "display_data"
    }
   ],
   "source": [
    "stat_info(minute_smart)"
   ]
  },
  {
   "cell_type": "markdown",
   "metadata": {},
   "source": [
    "Пользователи тарифа Smart чаще всего тратят 400 минут мобильной связи в месяц. Среднее составляет 395, дисперсия 32038, стандартное отклонение 178."
   ]
  },
  {
   "cell_type": "code",
   "execution_count": 89,
   "metadata": {},
   "outputs": [
    {
     "name": "stdout",
     "output_type": "stream",
     "text": [
      "Медиана 528.0\n",
      "Среднее 545.4511041009464\n",
      "Дисперсия 94104.36117385981\n",
      "Стандартное отклонение 306.7643414314314\n"
     ]
    },
    {
     "data": {
      "image/png": "[encoded data removed]",
      "text/plain": [
       "<Figure size 360x360 with 1 Axes>"
      ]
     },
     "metadata": {
      "needs_background": "light"
     },
     "output_type": "display_data"
    }
   ],
   "source": [
    "stat_info(minute_ultra)"
   ]
  },
  {
   "cell_type": "markdown",
   "metadata": {},
   "source": [
    "Пользователи тарифа Ultra чаще всего тратят 500 минут мобильной связи в месяц. Среднее составляет 514, дисперсия 83914, стандартное отклонение 289."
   ]
  },
  {
   "cell_type": "code",
   "execution_count": 90,
   "metadata": {},
   "outputs": [],
   "source": [
    "messages_smart = make_list(pivot_messages.query('tariff==\"smart\"').loc[:, 1:12])"
   ]
  },
  {
   "cell_type": "code",
   "execution_count": 91,
   "metadata": {},
   "outputs": [],
   "source": [
    "messages_ultra = make_list(pivot_messages.query('tariff==\"ultra\"').loc[:, 1:12])"
   ]
  },
  {
   "cell_type": "code",
   "execution_count": 92,
   "metadata": {},
   "outputs": [
    {
     "name": "stdout",
     "output_type": "stream",
     "text": [
      "Медиана 34.0\n",
      "Среднее 38.71644120707596\n",
      "Дисперсия 717.220843110227\n",
      "Стандартное отклонение 26.780979129042816\n"
     ]
    },
    {
     "data": {
      "image/png": "[encoded data removed]",
      "text/plain": [
       "<Figure size 360x360 with 1 Axes>"
      ]
     },
     "metadata": {
      "needs_background": "light"
     },
     "output_type": "display_data"
    }
   ],
   "source": [
    "stat_info(messages_smart)"
   ]
  },
  {
   "cell_type": "markdown",
   "metadata": {},
   "source": [
    "Пользователи тарифа Smart чаще всего используют около 34 смс-сообщений в месяц. Среднее составляет 38, дисперсия 717, стандартное отклонение 26."
   ]
  },
  {
   "cell_type": "code",
   "execution_count": 93,
   "metadata": {},
   "outputs": [
    {
     "name": "stdout",
     "output_type": "stream",
     "text": [
      "Медиана 51.0\n",
      "Среднее 61.161006289308176\n",
      "Дисперсия 2107.0055235156838\n",
      "Стандартное отклонение 45.90212983637779\n"
     ]
    },
    {
     "data": {
      "image/png": "[encoded data removed]",
      "text/plain": [
       "<Figure size 360x360 with 1 Axes>"
      ]
     },
     "metadata": {
      "needs_background": "light"
     },
     "output_type": "display_data"
    }
   ],
   "source": [
    "stat_info(messages_ultra)"
   ]
  },
  {
   "cell_type": "markdown",
   "metadata": {},
   "source": [
    "Пользователи тарифа Ultra чаще всего используют около 51 смс-сообщение в месяц. Среднее составляет 61, дисперсия 2107, стандартное отклонение 45."
   ]
  },
  {
   "cell_type": "code",
   "execution_count": 94,
   "metadata": {},
   "outputs": [],
   "source": [
    "internet_smart = make_list(pivot_internet.query('tariff==\"smart\"').loc[:, 1:12])"
   ]
  },
  {
   "cell_type": "code",
   "execution_count": 95,
   "metadata": {},
   "outputs": [],
   "source": [
    "internet_ultra = make_list(pivot_internet.query('tariff==\"ultra\"').loc[:, 1:12])"
   ]
  },
  {
   "cell_type": "code",
   "execution_count": 96,
   "metadata": {},
   "outputs": [
    {
     "name": "stdout",
     "output_type": "stream",
     "text": [
      "Медиана 16508.64\n",
      "Среднее 16222.943242029636\n",
      "Дисперсия 34241826.059556894\n",
      "Стандартное отклонение 5851.651566827684\n"
     ]
    },
    {
     "data": {
      "image/png": "[encoded data removed]",
      "text/plain": [
       "<Figure size 360x360 with 1 Axes>"
      ]
     },
     "metadata": {
      "needs_background": "light"
     },
     "output_type": "display_data"
    }
   ],
   "source": [
    "stat_info(internet_smart)"
   ]
  },
  {
   "cell_type": "markdown",
   "metadata": {},
   "source": [
    "Пользователи тарифа Smart чаще всего используют около 16508 мб. интернет-трафика в месяц. Среднее составляет 16222, дисперсия 34241826, стандартное отклонение 5851."
   ]
  },
  {
   "cell_type": "code",
   "execution_count": 97,
   "metadata": {},
   "outputs": [
    {
     "name": "stdout",
     "output_type": "stream",
     "text": [
      "Медиана 19409.025\n",
      "Среднее 19688.678778234087\n",
      "Дисперсия 98466665.28900848\n",
      "Стандартное отклонение 9923.037100052004\n"
     ]
    },
    {
     "data": {
      "image/png": "[encoded data removed]",
      "text/plain": [
       "<Figure size 360x360 with 1 Axes>"
      ]
     },
     "metadata": {
      "needs_background": "light"
     },
     "output_type": "display_data"
    }
   ],
   "source": [
    "stat_info(internet_ultra)"
   ]
  },
  {
   "cell_type": "markdown",
   "metadata": {},
   "source": [
    "Пользователи тарифа Ultra чаще всего используют около 19409 мб. интернет-трафика в месяц. Среднее составляет 19688, дисперсия 98466665, стандартное отклонение 9923."
   ]
  },
  {
   "cell_type": "markdown",
   "metadata": {},
   "source": [
    "<div class=\"alert alert-success\">\n",
    "<h2> Комментарий ревьюера <a class=\"tocSkip\"> </h2>\n",
    "\n",
    "<b>Все отлично!👍:</b>\n",
    "    \n",
    "Всё отлично. Еще на графиках можно изображать два распределения одного признака с разделением по заданному признаку(тариф). Тут есть примеры, обрати внимание на параметр hue. Но его применить к твоим таблицам не получится конечно из-за формы таблиц.https://seaborn.pydata.org/tutorial/categorical.html"
   ]
  },
  {
   "cell_type": "markdown",
   "metadata": {},
   "source": [
    "Шаг 4. Проверьте гипотезы"
   ]
  },
  {
   "cell_type": "markdown",
   "metadata": {},
   "source": [
    "Для проверки нижеуказанных гипотез необходимо применять проверку гипотезы о равенстве среднего двух генеральных совокупностей по взятым из них выборкам. Так мы проверяем соответствие средних показателей всех пользователей определенных тарифов либо жителей определенных городов (генеральные совокупности) по предоставленным нам данным (выборкам)."
   ]
  },
  {
   "cell_type": "markdown",
   "metadata": {},
   "source": [
    "Нулевая гипотеза - средняя выручка пользователей тарифов «Ультра» и «Смарт» не различаются.\n",
    "\n",
    "Альтернативная гипотеза - средняя выручка пользователей тарифов «Ультра» и «Смарт» различаются."
   ]
  },
  {
   "cell_type": "code",
   "execution_count": 98,
   "metadata": {},
   "outputs": [
    {
     "data": {
      "text/html": [
       "<div>\n",
       "<style scoped>\n",
       "    .dataframe tbody tr th:only-of-type {\n",
       "        vertical-align: middle;\n",
       "    }\n",
       "\n",
       "    .dataframe tbody tr th {\n",
       "        vertical-align: top;\n",
       "    }\n",
       "\n",
       "    .dataframe thead th {\n",
       "        text-align: right;\n",
       "    }\n",
       "</style>\n",
       "<table border=\"1\" class=\"dataframe\">\n",
       "  <thead>\n",
       "    <tr style=\"text-align: right;\">\n",
       "      <th></th>\n",
       "      <th>tariff</th>\n",
       "      <th>age</th>\n",
       "      <th>city</th>\n",
       "      <th>1</th>\n",
       "      <th>2</th>\n",
       "      <th>3</th>\n",
       "      <th>4</th>\n",
       "      <th>5</th>\n",
       "      <th>6</th>\n",
       "      <th>7</th>\n",
       "      <th>8</th>\n",
       "      <th>9</th>\n",
       "      <th>10</th>\n",
       "      <th>11</th>\n",
       "      <th>12</th>\n",
       "    </tr>\n",
       "    <tr>\n",
       "      <th>user_id</th>\n",
       "      <th></th>\n",
       "      <th></th>\n",
       "      <th></th>\n",
       "      <th></th>\n",
       "      <th></th>\n",
       "      <th></th>\n",
       "      <th></th>\n",
       "      <th></th>\n",
       "      <th></th>\n",
       "      <th></th>\n",
       "      <th></th>\n",
       "      <th></th>\n",
       "      <th></th>\n",
       "      <th></th>\n",
       "      <th></th>\n",
       "    </tr>\n",
       "  </thead>\n",
       "  <tbody>\n",
       "    <tr>\n",
       "      <th>1000</th>\n",
       "      <td>ultra</td>\n",
       "      <td>52</td>\n",
       "      <td>Краснодар</td>\n",
       "      <td>0.00</td>\n",
       "      <td>0.00</td>\n",
       "      <td>0.00</td>\n",
       "      <td>0.00</td>\n",
       "      <td>1,950.00</td>\n",
       "      <td>1,950.00</td>\n",
       "      <td>1,950.00</td>\n",
       "      <td>1,950.00</td>\n",
       "      <td>1,950.00</td>\n",
       "      <td>1,950.00</td>\n",
       "      <td>1,950.00</td>\n",
       "      <td>1,950.00</td>\n",
       "    </tr>\n",
       "    <tr>\n",
       "      <th>1001</th>\n",
       "      <td>smart</td>\n",
       "      <td>41</td>\n",
       "      <td>Москва</td>\n",
       "      <td>0.00</td>\n",
       "      <td>0.00</td>\n",
       "      <td>0.00</td>\n",
       "      <td>0.00</td>\n",
       "      <td>0.00</td>\n",
       "      <td>0.00</td>\n",
       "      <td>0.00</td>\n",
       "      <td>0.00</td>\n",
       "      <td>0.00</td>\n",
       "      <td>0.00</td>\n",
       "      <td>1,100.00</td>\n",
       "      <td>500.00</td>\n",
       "    </tr>\n",
       "    <tr>\n",
       "      <th>1002</th>\n",
       "      <td>smart</td>\n",
       "      <td>59</td>\n",
       "      <td>Стерлитамак</td>\n",
       "      <td>0.00</td>\n",
       "      <td>0.00</td>\n",
       "      <td>0.00</td>\n",
       "      <td>0.00</td>\n",
       "      <td>0.00</td>\n",
       "      <td>500.00</td>\n",
       "      <td>1,100.00</td>\n",
       "      <td>1,500.00</td>\n",
       "      <td>900.00</td>\n",
       "      <td>500.00</td>\n",
       "      <td>1,300.00</td>\n",
       "      <td>1,100.00</td>\n",
       "    </tr>\n",
       "    <tr>\n",
       "      <th>1003</th>\n",
       "      <td>ultra</td>\n",
       "      <td>23</td>\n",
       "      <td>Москва</td>\n",
       "      <td>0.00</td>\n",
       "      <td>0.00</td>\n",
       "      <td>0.00</td>\n",
       "      <td>0.00</td>\n",
       "      <td>0.00</td>\n",
       "      <td>0.00</td>\n",
       "      <td>0.00</td>\n",
       "      <td>1,950.00</td>\n",
       "      <td>1,950.00</td>\n",
       "      <td>1,950.00</td>\n",
       "      <td>1,950.00</td>\n",
       "      <td>1,950.00</td>\n",
       "    </tr>\n",
       "    <tr>\n",
       "      <th>1004</th>\n",
       "      <td>ultra</td>\n",
       "      <td>68</td>\n",
       "      <td>Новокузнецк</td>\n",
       "      <td>0.00</td>\n",
       "      <td>0.00</td>\n",
       "      <td>0.00</td>\n",
       "      <td>0.00</td>\n",
       "      <td>1,950.00</td>\n",
       "      <td>1,950.00</td>\n",
       "      <td>1,950.00</td>\n",
       "      <td>1,950.00</td>\n",
       "      <td>1,950.00</td>\n",
       "      <td>1,950.00</td>\n",
       "      <td>1,950.00</td>\n",
       "      <td>1,950.00</td>\n",
       "    </tr>\n",
       "    <tr>\n",
       "      <th>...</th>\n",
       "      <td>...</td>\n",
       "      <td>...</td>\n",
       "      <td>...</td>\n",
       "      <td>...</td>\n",
       "      <td>...</td>\n",
       "      <td>...</td>\n",
       "      <td>...</td>\n",
       "      <td>...</td>\n",
       "      <td>...</td>\n",
       "      <td>...</td>\n",
       "      <td>...</td>\n",
       "      <td>...</td>\n",
       "      <td>...</td>\n",
       "      <td>...</td>\n",
       "      <td>...</td>\n",
       "    </tr>\n",
       "    <tr>\n",
       "      <th>1495</th>\n",
       "      <td>ultra</td>\n",
       "      <td>65</td>\n",
       "      <td>Иркутск</td>\n",
       "      <td>0.00</td>\n",
       "      <td>0.00</td>\n",
       "      <td>0.00</td>\n",
       "      <td>0.00</td>\n",
       "      <td>0.00</td>\n",
       "      <td>0.00</td>\n",
       "      <td>0.00</td>\n",
       "      <td>1,950.00</td>\n",
       "      <td>2,400.00</td>\n",
       "      <td>1,950.00</td>\n",
       "      <td>3,300.00</td>\n",
       "      <td>1,950.00</td>\n",
       "    </tr>\n",
       "    <tr>\n",
       "      <th>1496</th>\n",
       "      <td>smart</td>\n",
       "      <td>36</td>\n",
       "      <td>Вологда</td>\n",
       "      <td>500.00</td>\n",
       "      <td>3,382.00</td>\n",
       "      <td>2,671.00</td>\n",
       "      <td>1,763.00</td>\n",
       "      <td>2,300.00</td>\n",
       "      <td>1,665.00</td>\n",
       "      <td>2,546.00</td>\n",
       "      <td>2,181.00</td>\n",
       "      <td>2,900.00</td>\n",
       "      <td>3,100.00</td>\n",
       "      <td>2,986.00</td>\n",
       "      <td>1,757.00</td>\n",
       "    </tr>\n",
       "    <tr>\n",
       "      <th>1497</th>\n",
       "      <td>smart</td>\n",
       "      <td>32</td>\n",
       "      <td>Челябинск</td>\n",
       "      <td>0.00</td>\n",
       "      <td>0.00</td>\n",
       "      <td>0.00</td>\n",
       "      <td>0.00</td>\n",
       "      <td>0.00</td>\n",
       "      <td>0.00</td>\n",
       "      <td>0.00</td>\n",
       "      <td>0.00</td>\n",
       "      <td>0.00</td>\n",
       "      <td>500.00</td>\n",
       "      <td>500.00</td>\n",
       "      <td>1,635.00</td>\n",
       "    </tr>\n",
       "    <tr>\n",
       "      <th>1498</th>\n",
       "      <td>smart</td>\n",
       "      <td>68</td>\n",
       "      <td>Владикавказ</td>\n",
       "      <td>0.00</td>\n",
       "      <td>0.00</td>\n",
       "      <td>0.00</td>\n",
       "      <td>0.00</td>\n",
       "      <td>0.00</td>\n",
       "      <td>0.00</td>\n",
       "      <td>500.00</td>\n",
       "      <td>2,336.00</td>\n",
       "      <td>1,900.00</td>\n",
       "      <td>1,700.00</td>\n",
       "      <td>0.00</td>\n",
       "      <td>0.00</td>\n",
       "    </tr>\n",
       "    <tr>\n",
       "      <th>1499</th>\n",
       "      <td>smart</td>\n",
       "      <td>35</td>\n",
       "      <td>Пермь</td>\n",
       "      <td>0.00</td>\n",
       "      <td>0.00</td>\n",
       "      <td>0.00</td>\n",
       "      <td>0.00</td>\n",
       "      <td>0.00</td>\n",
       "      <td>0.00</td>\n",
       "      <td>0.00</td>\n",
       "      <td>0.00</td>\n",
       "      <td>500.00</td>\n",
       "      <td>1,100.00</td>\n",
       "      <td>1,463.00</td>\n",
       "      <td>548.00</td>\n",
       "    </tr>\n",
       "  </tbody>\n",
       "</table>\n",
       "<p>500 rows × 15 columns</p>\n",
       "</div>"
      ],
      "text/plain": [
       "0       tariff  age         city      1        2        3        4        5  \\\n",
       "user_id                                                                       \n",
       "1000     ultra   52    Краснодар   0.00     0.00     0.00     0.00 1,950.00   \n",
       "1001     smart   41       Москва   0.00     0.00     0.00     0.00     0.00   \n",
       "1002     smart   59  Стерлитамак   0.00     0.00     0.00     0.00     0.00   \n",
       "1003     ultra   23       Москва   0.00     0.00     0.00     0.00     0.00   \n",
       "1004     ultra   68  Новокузнецк   0.00     0.00     0.00     0.00 1,950.00   \n",
       "...        ...  ...          ...    ...      ...      ...      ...      ...   \n",
       "1495     ultra   65      Иркутск   0.00     0.00     0.00     0.00     0.00   \n",
       "1496     smart   36      Вологда 500.00 3,382.00 2,671.00 1,763.00 2,300.00   \n",
       "1497     smart   32    Челябинск   0.00     0.00     0.00     0.00     0.00   \n",
       "1498     smart   68  Владикавказ   0.00     0.00     0.00     0.00     0.00   \n",
       "1499     smart   35        Пермь   0.00     0.00     0.00     0.00     0.00   \n",
       "\n",
       "0              6        7        8        9       10       11       12  \n",
       "user_id                                                                 \n",
       "1000    1,950.00 1,950.00 1,950.00 1,950.00 1,950.00 1,950.00 1,950.00  \n",
       "1001        0.00     0.00     0.00     0.00     0.00 1,100.00   500.00  \n",
       "1002      500.00 1,100.00 1,500.00   900.00   500.00 1,300.00 1,100.00  \n",
       "1003        0.00     0.00 1,950.00 1,950.00 1,950.00 1,950.00 1,950.00  \n",
       "1004    1,950.00 1,950.00 1,950.00 1,950.00 1,950.00 1,950.00 1,950.00  \n",
       "...          ...      ...      ...      ...      ...      ...      ...  \n",
       "1495        0.00     0.00 1,950.00 2,400.00 1,950.00 3,300.00 1,950.00  \n",
       "1496    1,665.00 2,546.00 2,181.00 2,900.00 3,100.00 2,986.00 1,757.00  \n",
       "1497        0.00     0.00     0.00     0.00   500.00   500.00 1,635.00  \n",
       "1498        0.00   500.00 2,336.00 1,900.00 1,700.00     0.00     0.00  \n",
       "1499        0.00     0.00     0.00   500.00 1,100.00 1,463.00   548.00  \n",
       "\n",
       "[500 rows x 15 columns]"
      ]
     },
     "execution_count": 98,
     "metadata": {},
     "output_type": "execute_result"
    }
   ],
   "source": [
    "df_total_fee"
   ]
  },
  {
   "cell_type": "markdown",
   "metadata": {},
   "source": [
    "Создадим функцию, которая принимает датасет, а возвращает список значений датасета без 0. Нули необходимо убрать так как клиент не мог пользоваться услугами компании в тот месяц в которых не оплачивал абоненскую плату."
   ]
  },
  {
   "cell_type": "code",
   "execution_count": 99,
   "metadata": {},
   "outputs": [],
   "source": [
    "def make_list(df):\n",
    "    list_value = []\n",
    "    df_copy = df.copy()\n",
    "    for i in df_copy.columns:\n",
    "        list_1 = list(df_copy.loc[:, i])\n",
    "        for k in range(0, len(list_1)):\n",
    "            if list_1[k] > 0:\n",
    "                list_value.append(list_1[k])\n",
    "    return list_value"
   ]
  },
  {
   "cell_type": "code",
   "execution_count": 100,
   "metadata": {},
   "outputs": [],
   "source": [
    "fee_smart = make_list(df_total_fee.query('tariff==\"smart\"').loc[:, 1:12])"
   ]
  },
  {
   "cell_type": "code",
   "execution_count": 101,
   "metadata": {},
   "outputs": [],
   "source": [
    "fee_ultra = make_list(df_total_fee.query('tariff==\"ultra\"').loc[:, 1:12])"
   ]
  },
  {
   "cell_type": "code",
   "execution_count": 102,
   "metadata": {},
   "outputs": [
    {
     "name": "stdout",
     "output_type": "stream",
     "text": [
      "p-значение: 1.551166958312497e-277\n",
      "Отвергаем нулевую гипотезу\n"
     ]
    }
   ],
   "source": [
    "alpha = 0.05\n",
    "results = st.ttest_ind(fee_smart, \n",
    "                       fee_ultra,\n",
    "                       equal_var = False\n",
    "                      )\n",
    "\n",
    "print('p-значение:', results.pvalue)\n",
    "\n",
    "if results.pvalue < alpha:\n",
    "    print(\"Отвергаем нулевую гипотезу\")\n",
    "else:\n",
    "    print(\"Не получилось отвергнуть нулевую гипотезу\")"
   ]
  },
  {
   "cell_type": "markdown",
   "metadata": {},
   "source": [
    "Принимаем альтернативную гипотезу средняя выручка пользователей тарифов «Ультра» и «Смарт» различаются."
   ]
  },
  {
   "cell_type": "markdown",
   "metadata": {},
   "source": [
    "Нулевая гипотеза - средняя выручка пользователей из Москвы не отличается от выручки пользователей из других регионов.\n",
    "\n",
    "Альтернативная гипотеза - средняя выручка пользователей из Москвы отличается от выручки пользователей из других регионов."
   ]
  },
  {
   "cell_type": "code",
   "execution_count": 103,
   "metadata": {},
   "outputs": [],
   "source": [
    "fee_mos = make_list(df_total_fee.query('city==\"Москва\"').loc[:, 1:12]\n",
    "                   )"
   ]
  },
  {
   "cell_type": "code",
   "execution_count": 104,
   "metadata": {},
   "outputs": [],
   "source": [
    "fee_no_mos = make_list(df_total_fee.query('city!=\"Москва\"').loc[:, 1:12]\n",
    "                      )"
   ]
  },
  {
   "cell_type": "code",
   "execution_count": 105,
   "metadata": {},
   "outputs": [
    {
     "name": "stdout",
     "output_type": "stream",
     "text": [
      "p-значение: 0.47814645359169694\n",
      "Не получилось отвергнуть нулевую гипотезу\n"
     ]
    }
   ],
   "source": [
    "alpha = 0.05\n",
    "results = st.ttest_ind(fee_mos, \n",
    "                       fee_no_mos,\n",
    "                      )\n",
    "\n",
    "print('p-значение:', results.pvalue)\n",
    "\n",
    "if results.pvalue < alpha:\n",
    "    print(\"Отвергаем нулевую гипотезу\")\n",
    "else:\n",
    "    print(\"Не получилось отвергнуть нулевую гипотезу\")"
   ]
  },
  {
   "cell_type": "markdown",
   "metadata": {},
   "source": [
    "Принимаем нулевую гипотезу - средняя выручка пользователей из Москвы не отличается от выручки пользователей из других регионов."
   ]
  },
  {
   "cell_type": "markdown",
   "metadata": {},
   "source": [
    "<div class=\"alert alert-success\">\n",
    "<h2> Комментарий ревьюера <a class=\"tocSkip\"> </h2>\n",
    "\n",
    "<b>Все отлично!👍:</b>\n",
    "\n",
    "Формулировка гипотез, проведение тестов, выводы из них - всё правильно.\n",
    "    \n",
    "</div>"
   ]
  },
  {
   "cell_type": "markdown",
   "metadata": {},
   "source": [
    "Шаг 5. Напишите общий вывод"
   ]
  },
  {
   "cell_type": "markdown",
   "metadata": {},
   "source": [
    "В ходе исследования установлено, что:  \n",
    "- Пользователи тарифа Smart чаще всего используют 400 минут мобильной связи в месяц, отправляют 34 смс-сообщения, тратят 16.01 гб интернет-трафика в месяц, а в среднем 395 минут, 38 смс-сообщений, 15.8 гб. интернет-трафика в месяц соответственно.\n",
    "\n",
    "- Пользователи тарифа Ultra чаще всего используют 500 минут мобильной связи в месяц, отправляют 34 смс-сообщения, тратят 18.9 гб интернет-трафика в месяц, а в среднем 514 минут, 61 смс-сообщений, 19.22 гб. интернет-трафика в месяц соответственно.\n",
    "\n",
    "- Средняя выручка пользователей тарифов Smart и Ultra различаются. Средняя выручка пользователей из Москвы не отличается от пользователей из других населенных пунктов."
   ]
  },
  {
   "cell_type": "markdown",
   "metadata": {},
   "source": [
    "<div class=\"alert alert-block alert-danger\">\n",
    "<h2> Комментарий ревьюера <a class=\"tocSkip\"></h2>\n",
    "\n",
    "\n",
    "<b>На доработку🤔:</b>\n",
    "    \n",
    "Всё ок, но цель проекта была - Нужно проанализировать поведение клиентов и сделать вывод — какой тариф лучше.\n",
    "\n",
    "Допиши какой тариф для компании по твоему мнению лучше"
   ]
  },
  {
   "cell_type": "code",
   "execution_count": 106,
   "metadata": {},
   "outputs": [
    {
     "data": {
      "text/html": [
       "<div>\n",
       "<style scoped>\n",
       "    .dataframe tbody tr th:only-of-type {\n",
       "        vertical-align: middle;\n",
       "    }\n",
       "\n",
       "    .dataframe tbody tr th {\n",
       "        vertical-align: top;\n",
       "    }\n",
       "\n",
       "    .dataframe thead th {\n",
       "        text-align: right;\n",
       "    }\n",
       "</style>\n",
       "<table border=\"1\" class=\"dataframe\">\n",
       "  <thead>\n",
       "    <tr style=\"text-align: right;\">\n",
       "      <th></th>\n",
       "      <th>messages_included</th>\n",
       "      <th>mb_per_month_included</th>\n",
       "      <th>minutes_included</th>\n",
       "      <th>rub_monthly_fee</th>\n",
       "      <th>rub_per_gb</th>\n",
       "      <th>rub_per_message</th>\n",
       "      <th>rub_per_minute</th>\n",
       "      <th>tariff_name</th>\n",
       "    </tr>\n",
       "  </thead>\n",
       "  <tbody>\n",
       "    <tr>\n",
       "      <th>0</th>\n",
       "      <td>50</td>\n",
       "      <td>15360</td>\n",
       "      <td>500</td>\n",
       "      <td>550</td>\n",
       "      <td>200</td>\n",
       "      <td>3</td>\n",
       "      <td>3</td>\n",
       "      <td>smart</td>\n",
       "    </tr>\n",
       "    <tr>\n",
       "      <th>1</th>\n",
       "      <td>1000</td>\n",
       "      <td>30720</td>\n",
       "      <td>3000</td>\n",
       "      <td>1950</td>\n",
       "      <td>150</td>\n",
       "      <td>1</td>\n",
       "      <td>1</td>\n",
       "      <td>ultra</td>\n",
       "    </tr>\n",
       "  </tbody>\n",
       "</table>\n",
       "</div>"
      ],
      "text/plain": [
       "   messages_included  mb_per_month_included  minutes_included  \\\n",
       "0                 50                  15360               500   \n",
       "1               1000                  30720              3000   \n",
       "\n",
       "   rub_monthly_fee  rub_per_gb  rub_per_message  rub_per_minute tariff_name  \n",
       "0              550         200                3               3       smart  \n",
       "1             1950         150                1               1       ultra  "
      ]
     },
     "execution_count": 106,
     "metadata": {},
     "output_type": "execute_result"
    }
   ],
   "source": [
    "data_tariffs"
   ]
  },
  {
   "cell_type": "markdown",
   "metadata": {},
   "source": [
    "<div class=\"alert alert-info\"> Из приведенных данных и без учета расходов на оборудование и инфраструктуру можно сделать вывод, что тариф ultra более прибылен. \n",
    "    Также следует рассмотреть вопрос о необходимости предложения пользователям тарифа smart, чьи месячные расходы более 1950 руб. перейти на тариф ultra, так как их потребности в услугах связи без значительных затрат поверх абонентской платы не могут быть удовлетворены в рамках текущего тарифа. Такие пользователи при самостоятельном поиске более выгодного предложения могут перейти к другому оператору связи.\n",
    "\n",
    " </div>"
   ]
  },
  {
   "cell_type": "markdown",
   "metadata": {},
   "source": [
    "<div class=\"alert alert-success\">\n",
    "<h2> Комментарий ревьюера-2<a class=\"tocSkip\"> </h2>\n",
    "\n",
    "<b>Все отлично!👍:</b>\n",
    "    \n",
    "Всё логично"
   ]
  },
  {
   "cell_type": "markdown",
   "metadata": {},
   "source": [
    "<blockquote>\n",
    "\n",
    "**Общий вывод по проекту**\n",
    "\n",
    "Спасибо за твой проект! Ты приложил много усилий, чтобы довести его до конца, проделана огромная работа, и это видно невооруженным глазом, ты большой молодец! Есть несколько важных моментов, которые я отметил и которые можно было бы улучшить, подсказки ты найдешь в моих комментариях.\n",
    "\n",
    "**Отмечу отдельные положительные моменты проекта**:\n",
    "\n",
    "* На разных шагах проекта ты предлагал очень интересные решения и методы для их реализации. Хорошая работа!\n",
    "* Несмотря на не самый эффективный способ выполнения, всё сделано правильно=)\n",
    "* На каждом шагу есть подробные выводы\n",
    "\n",
    "**Что нужно исправить**\n",
    "* Добавить округление звонков и интернет сессий\n",
    "* Дописать выводы\n",
    "* Остальные *рекомендации* ты найдешь выше\n",
    "    \n",
    "Если есть вопросы, я готов на них ответить.\n",
    "    \n",
    "Для будущего развития в плане визуализации советую обратить внимание на библиотеку seaborn - там графики получаются красивее =) и она содержит много разных видов визуализаций. Тут можно на русском посмотреть примеры кода и графиков \n",
    "https://nbviewer.org/urls/mipt-stats.gitlab.io/courses/python/09_seaborn.ipynb\n",
    "    \n",
    "**Желаю удачи и жду твой проект на повторное ревью!**\n",
    "</blockquote>"
   ]
  },
  {
   "cell_type": "markdown",
   "metadata": {},
   "source": [
    "<blockquote>\n",
    "\n",
    "**Общий вывод по проекту-2**\n",
    "\n",
    "Критичные ошибки исправлены, отправляю на повторное ревью, чтобы исправить ошибку во втором методе объединения данных.\n",
    "\n",
    "Если у тебя скоро дедлайн и нужно побыстрее принять проект, то я его приму при следующей проверке"
   ]
  },
  {
   "cell_type": "markdown",
   "metadata": {},
   "source": [
    "<blockquote>\n",
    "\n",
    "**Общий вывод по проекту-3**\n",
    "\n",
    "Ошибок больше нет, проект принят\n",
    "\n",
    "**Удачи в дальнейшем обучении, у тебя всё получится!**"
   ]
  },
  {
   "cell_type": "code",
   "execution_count": null,
   "metadata": {},
   "outputs": [],
   "source": []
  }
 ],
 "metadata": {
  "ExecuteTimeLog": [
   {
    "duration": 76,
    "start_time": "2022-06-26T10:49:04.503Z"
   },
   {
    "duration": 45,
    "start_time": "2022-06-26T10:55:44.487Z"
   },
   {
    "duration": 8,
    "start_time": "2022-06-26T10:55:52.079Z"
   },
   {
    "duration": 416,
    "start_time": "2022-06-26T10:56:11.125Z"
   },
   {
    "duration": 1108,
    "start_time": "2022-06-26T10:56:12.286Z"
   },
   {
    "duration": 478,
    "start_time": "2022-06-26T10:56:30.564Z"
   },
   {
    "duration": 168,
    "start_time": "2022-06-26T11:04:23.504Z"
   },
   {
    "duration": 195,
    "start_time": "2022-06-26T11:04:57.531Z"
   },
   {
    "duration": 2,
    "start_time": "2022-06-26T11:06:54.900Z"
   },
   {
    "duration": 160,
    "start_time": "2022-06-26T11:07:25.295Z"
   },
   {
    "duration": 127,
    "start_time": "2022-06-26T11:08:16.908Z"
   },
   {
    "duration": 57,
    "start_time": "2022-06-26T11:09:00.016Z"
   },
   {
    "duration": 72,
    "start_time": "2022-06-26T11:09:25.884Z"
   },
   {
    "duration": 54,
    "start_time": "2022-06-26T11:10:00.316Z"
   },
   {
    "duration": 386,
    "start_time": "2022-06-26T11:11:06.760Z"
   },
   {
    "duration": 5,
    "start_time": "2022-06-26T11:11:07.149Z"
   },
   {
    "duration": 5,
    "start_time": "2022-06-26T11:11:07.157Z"
   },
   {
    "duration": 253,
    "start_time": "2022-06-26T11:11:07.165Z"
   },
   {
    "duration": 286,
    "start_time": "2022-06-26T11:11:07.424Z"
   },
   {
    "duration": 162,
    "start_time": "2022-06-26T11:11:07.712Z"
   },
   {
    "duration": 327,
    "start_time": "2022-06-26T11:11:07.876Z"
   },
   {
    "duration": 0,
    "start_time": "2022-06-26T11:11:08.206Z"
   },
   {
    "duration": 234,
    "start_time": "2022-06-26T11:11:32.587Z"
   },
   {
    "duration": 40,
    "start_time": "2022-06-26T11:11:47.376Z"
   },
   {
    "duration": 38,
    "start_time": "2022-06-26T11:11:55.071Z"
   },
   {
    "duration": 60,
    "start_time": "2022-06-26T11:12:04.675Z"
   },
   {
    "duration": 347,
    "start_time": "2022-06-27T00:49:23.079Z"
   },
   {
    "duration": 4,
    "start_time": "2022-06-27T00:49:23.428Z"
   },
   {
    "duration": 6,
    "start_time": "2022-06-27T00:49:23.434Z"
   },
   {
    "duration": 535,
    "start_time": "2022-06-27T00:49:23.442Z"
   },
   {
    "duration": 403,
    "start_time": "2022-06-27T00:49:23.979Z"
   },
   {
    "duration": 297,
    "start_time": "2022-06-27T00:49:24.384Z"
   },
   {
    "duration": 87,
    "start_time": "2022-06-27T00:49:24.683Z"
   },
   {
    "duration": 80,
    "start_time": "2022-06-27T00:49:24.772Z"
   },
   {
    "duration": 72,
    "start_time": "2022-06-27T00:52:58.992Z"
   },
   {
    "duration": 733,
    "start_time": "2022-06-27T00:53:40.946Z"
   },
   {
    "duration": 746,
    "start_time": "2022-06-27T00:53:49.999Z"
   },
   {
    "duration": 774,
    "start_time": "2022-06-27T00:54:11.723Z"
   },
   {
    "duration": 163,
    "start_time": "2022-06-27T00:54:29.108Z"
   },
   {
    "duration": 78,
    "start_time": "2022-06-27T00:55:18.953Z"
   },
   {
    "duration": 77,
    "start_time": "2022-06-27T00:55:33.305Z"
   },
   {
    "duration": 9,
    "start_time": "2022-06-27T01:01:15.152Z"
   },
   {
    "duration": 8,
    "start_time": "2022-06-27T01:01:37.376Z"
   },
   {
    "duration": 144,
    "start_time": "2022-06-27T01:01:43.382Z"
   },
   {
    "duration": 59,
    "start_time": "2022-06-27T01:01:59.087Z"
   },
   {
    "duration": 79,
    "start_time": "2022-06-27T01:06:06.242Z"
   },
   {
    "duration": 9,
    "start_time": "2022-06-27T01:06:14.934Z"
   },
   {
    "duration": 1397,
    "start_time": "2022-06-27T01:15:35.723Z"
   },
   {
    "duration": 46,
    "start_time": "2022-06-27T01:16:04.627Z"
   },
   {
    "duration": 72,
    "start_time": "2022-06-27T01:16:38.627Z"
   },
   {
    "duration": 100,
    "start_time": "2022-06-27T01:19:23.080Z"
   },
   {
    "duration": 121,
    "start_time": "2022-06-27T01:19:46.517Z"
   },
   {
    "duration": 118,
    "start_time": "2022-06-27T01:20:42.723Z"
   },
   {
    "duration": 123,
    "start_time": "2022-06-27T01:30:30.688Z"
   },
   {
    "duration": 58,
    "start_time": "2022-06-27T01:30:49.574Z"
   },
   {
    "duration": 359,
    "start_time": "2022-06-27T01:31:12.173Z"
   },
   {
    "duration": 4,
    "start_time": "2022-06-27T01:31:12.534Z"
   },
   {
    "duration": 4,
    "start_time": "2022-06-27T01:31:12.540Z"
   },
   {
    "duration": 195,
    "start_time": "2022-06-27T01:31:12.546Z"
   },
   {
    "duration": 197,
    "start_time": "2022-06-27T01:31:12.743Z"
   },
   {
    "duration": 154,
    "start_time": "2022-06-27T01:31:12.942Z"
   },
   {
    "duration": 158,
    "start_time": "2022-06-27T01:31:13.098Z"
   },
   {
    "duration": 8,
    "start_time": "2022-06-27T01:31:13.257Z"
   },
   {
    "duration": 74,
    "start_time": "2022-06-27T01:31:13.266Z"
   },
   {
    "duration": 114,
    "start_time": "2022-06-27T01:31:13.342Z"
   },
   {
    "duration": 24,
    "start_time": "2022-06-27T01:31:13.457Z"
   },
   {
    "duration": 19,
    "start_time": "2022-06-27T01:31:13.483Z"
   },
   {
    "duration": 110,
    "start_time": "2022-06-27T01:31:42.223Z"
   },
   {
    "duration": 9,
    "start_time": "2022-06-27T01:31:57.976Z"
   },
   {
    "duration": 16,
    "start_time": "2022-06-27T01:32:27.868Z"
   },
   {
    "duration": 58,
    "start_time": "2022-06-27T01:35:21.503Z"
   },
   {
    "duration": 29,
    "start_time": "2022-06-27T01:35:39.283Z"
   },
   {
    "duration": 56,
    "start_time": "2022-06-27T01:37:44.593Z"
   },
   {
    "duration": 346,
    "start_time": "2022-06-27T01:37:48.986Z"
   },
   {
    "duration": 4,
    "start_time": "2022-06-27T01:37:49.333Z"
   },
   {
    "duration": 7,
    "start_time": "2022-06-27T01:37:49.339Z"
   },
   {
    "duration": 181,
    "start_time": "2022-06-27T01:37:49.347Z"
   },
   {
    "duration": 202,
    "start_time": "2022-06-27T01:37:49.530Z"
   },
   {
    "duration": 145,
    "start_time": "2022-06-27T01:37:49.733Z"
   },
   {
    "duration": 150,
    "start_time": "2022-06-27T01:37:49.879Z"
   },
   {
    "duration": 9,
    "start_time": "2022-06-27T01:37:50.031Z"
   },
   {
    "duration": 101,
    "start_time": "2022-06-27T01:37:50.042Z"
   },
   {
    "duration": 102,
    "start_time": "2022-06-27T01:37:50.145Z"
   },
   {
    "duration": 24,
    "start_time": "2022-06-27T01:37:50.248Z"
   },
   {
    "duration": 18,
    "start_time": "2022-06-27T01:37:50.274Z"
   },
   {
    "duration": 32,
    "start_time": "2022-06-27T01:45:07.213Z"
   },
   {
    "duration": 33,
    "start_time": "2022-06-27T01:46:26.618Z"
   },
   {
    "duration": 76,
    "start_time": "2022-06-27T02:06:53.263Z"
   },
   {
    "duration": 70,
    "start_time": "2022-06-27T02:06:59.884Z"
   },
   {
    "duration": 13,
    "start_time": "2022-06-27T02:07:15.787Z"
   },
   {
    "duration": 12,
    "start_time": "2022-06-27T02:07:18.170Z"
   },
   {
    "duration": 30,
    "start_time": "2022-06-27T02:07:38.059Z"
   },
   {
    "duration": 125,
    "start_time": "2022-06-27T02:08:23.244Z"
   },
   {
    "duration": 84,
    "start_time": "2022-06-27T02:09:58.180Z"
   },
   {
    "duration": 80,
    "start_time": "2022-06-27T02:10:05.197Z"
   },
   {
    "duration": 75,
    "start_time": "2022-06-27T02:11:00.604Z"
   },
   {
    "duration": 9,
    "start_time": "2022-06-27T02:11:09.960Z"
   },
   {
    "duration": 10,
    "start_time": "2022-06-27T02:11:43.006Z"
   },
   {
    "duration": 9,
    "start_time": "2022-06-27T02:12:45.920Z"
   },
   {
    "duration": 325,
    "start_time": "2022-06-27T02:13:05.175Z"
   },
   {
    "duration": 4,
    "start_time": "2022-06-27T02:13:05.502Z"
   },
   {
    "duration": 5,
    "start_time": "2022-06-27T02:13:05.507Z"
   },
   {
    "duration": 179,
    "start_time": "2022-06-27T02:13:05.514Z"
   },
   {
    "duration": 197,
    "start_time": "2022-06-27T02:13:05.695Z"
   },
   {
    "duration": 149,
    "start_time": "2022-06-27T02:13:05.893Z"
   },
   {
    "duration": 149,
    "start_time": "2022-06-27T02:13:06.043Z"
   },
   {
    "duration": 9,
    "start_time": "2022-06-27T02:13:06.194Z"
   },
   {
    "duration": 50,
    "start_time": "2022-06-27T02:13:06.205Z"
   },
   {
    "duration": 57,
    "start_time": "2022-06-27T02:13:06.257Z"
   },
   {
    "duration": 25,
    "start_time": "2022-06-27T02:13:06.315Z"
   },
   {
    "duration": 99,
    "start_time": "2022-06-27T02:13:06.341Z"
   },
   {
    "duration": 143,
    "start_time": "2022-06-27T02:13:06.441Z"
   },
   {
    "duration": 16,
    "start_time": "2022-06-27T02:13:06.585Z"
   },
   {
    "duration": 35,
    "start_time": "2022-06-27T02:13:06.603Z"
   },
   {
    "duration": 20,
    "start_time": "2022-06-27T02:13:06.640Z"
   },
   {
    "duration": 106,
    "start_time": "2022-06-27T02:13:20.143Z"
   },
   {
    "duration": 63,
    "start_time": "2022-06-27T02:13:54.151Z"
   },
   {
    "duration": 66,
    "start_time": "2022-06-27T02:14:00.755Z"
   },
   {
    "duration": 63,
    "start_time": "2022-06-27T02:14:32.979Z"
   },
   {
    "duration": 4,
    "start_time": "2022-06-27T02:18:32.515Z"
   },
   {
    "duration": 5,
    "start_time": "2022-06-27T02:18:33.527Z"
   },
   {
    "duration": 4,
    "start_time": "2022-06-27T02:18:34.096Z"
   },
   {
    "duration": 5,
    "start_time": "2022-06-27T02:19:16.835Z"
   },
   {
    "duration": 14,
    "start_time": "2022-06-27T02:21:33.974Z"
   },
   {
    "duration": 57,
    "start_time": "2022-06-27T02:22:33.751Z"
   },
   {
    "duration": 3,
    "start_time": "2022-06-27T02:22:39.143Z"
   },
   {
    "duration": 3,
    "start_time": "2022-06-27T02:23:49.306Z"
   },
   {
    "duration": 6,
    "start_time": "2022-06-27T02:28:05.096Z"
   },
   {
    "duration": 5,
    "start_time": "2022-06-27T02:28:11.337Z"
   },
   {
    "duration": 7,
    "start_time": "2022-06-27T02:28:27.005Z"
   },
   {
    "duration": 5,
    "start_time": "2022-06-27T02:29:22.888Z"
   },
   {
    "duration": 8,
    "start_time": "2022-06-27T02:29:39.891Z"
   },
   {
    "duration": 6,
    "start_time": "2022-06-27T02:29:42.027Z"
   },
   {
    "duration": 11,
    "start_time": "2022-06-27T02:30:14.997Z"
   },
   {
    "duration": 9,
    "start_time": "2022-06-27T02:30:18.728Z"
   },
   {
    "duration": 9,
    "start_time": "2022-06-27T02:30:31.043Z"
   },
   {
    "duration": 7,
    "start_time": "2022-06-27T02:30:34.686Z"
   },
   {
    "duration": 4,
    "start_time": "2022-06-27T02:30:48.422Z"
   },
   {
    "duration": 6,
    "start_time": "2022-06-27T02:32:00.457Z"
   },
   {
    "duration": 8,
    "start_time": "2022-06-27T02:32:52.449Z"
   },
   {
    "duration": 8,
    "start_time": "2022-06-27T02:33:16.701Z"
   },
   {
    "duration": 7,
    "start_time": "2022-06-27T02:33:44.758Z"
   },
   {
    "duration": 9,
    "start_time": "2022-06-27T02:33:58.034Z"
   },
   {
    "duration": 12,
    "start_time": "2022-06-27T02:35:02.445Z"
   },
   {
    "duration": 7,
    "start_time": "2022-06-27T02:35:31.426Z"
   },
   {
    "duration": 14,
    "start_time": "2022-06-27T02:45:23.592Z"
   },
   {
    "duration": 1427,
    "start_time": "2022-06-27T02:48:56.860Z"
   },
   {
    "duration": 12,
    "start_time": "2022-06-27T02:49:09.666Z"
   },
   {
    "duration": 28,
    "start_time": "2022-06-27T02:49:19.754Z"
   },
   {
    "duration": 25,
    "start_time": "2022-06-27T02:49:37.798Z"
   },
   {
    "duration": 45,
    "start_time": "2022-06-27T02:50:49.805Z"
   },
   {
    "duration": 53,
    "start_time": "2022-06-27T02:50:57.146Z"
   },
   {
    "duration": 72,
    "start_time": "2022-06-27T02:53:30.380Z"
   },
   {
    "duration": 380,
    "start_time": "2022-06-28T00:39:36.242Z"
   },
   {
    "duration": 4,
    "start_time": "2022-06-28T00:39:36.623Z"
   },
   {
    "duration": 5,
    "start_time": "2022-06-28T00:39:36.628Z"
   },
   {
    "duration": 216,
    "start_time": "2022-06-28T00:39:36.634Z"
   },
   {
    "duration": 188,
    "start_time": "2022-06-28T00:39:36.852Z"
   },
   {
    "duration": 280,
    "start_time": "2022-06-28T00:39:37.041Z"
   },
   {
    "duration": 151,
    "start_time": "2022-06-28T00:39:37.323Z"
   },
   {
    "duration": 10,
    "start_time": "2022-06-28T00:39:37.476Z"
   },
   {
    "duration": 60,
    "start_time": "2022-06-28T00:39:37.487Z"
   },
   {
    "duration": 54,
    "start_time": "2022-06-28T00:39:37.548Z"
   },
   {
    "duration": 24,
    "start_time": "2022-06-28T00:39:37.603Z"
   },
   {
    "duration": 92,
    "start_time": "2022-06-28T00:39:37.629Z"
   },
   {
    "duration": 131,
    "start_time": "2022-06-28T00:39:37.723Z"
   },
   {
    "duration": 122,
    "start_time": "2022-06-28T00:39:37.856Z"
   },
   {
    "duration": 39,
    "start_time": "2022-06-28T00:39:37.980Z"
   },
   {
    "duration": 18,
    "start_time": "2022-06-28T00:39:38.020Z"
   },
   {
    "duration": 12,
    "start_time": "2022-06-28T00:39:38.040Z"
   },
   {
    "duration": 10,
    "start_time": "2022-06-28T00:39:38.053Z"
   },
   {
    "duration": 6,
    "start_time": "2022-06-28T00:39:38.064Z"
   },
   {
    "duration": 6,
    "start_time": "2022-06-28T00:39:38.071Z"
   },
   {
    "duration": 6,
    "start_time": "2022-06-28T00:39:38.079Z"
   },
   {
    "duration": 8,
    "start_time": "2022-06-28T00:39:38.086Z"
   },
   {
    "duration": 25,
    "start_time": "2022-06-28T00:39:38.096Z"
   },
   {
    "duration": 35,
    "start_time": "2022-06-28T00:39:38.150Z"
   },
   {
    "duration": 86,
    "start_time": "2022-06-28T00:39:38.187Z"
   },
   {
    "duration": 40,
    "start_time": "2022-06-28T00:41:12.289Z"
   },
   {
    "duration": 72,
    "start_time": "2022-06-28T00:41:46.856Z"
   },
   {
    "duration": 21,
    "start_time": "2022-06-28T00:42:03.977Z"
   },
   {
    "duration": 325,
    "start_time": "2022-06-28T00:42:25.760Z"
   },
   {
    "duration": 20,
    "start_time": "2022-06-28T00:42:41.710Z"
   },
   {
    "duration": 30,
    "start_time": "2022-06-28T00:43:04.145Z"
   },
   {
    "duration": 58,
    "start_time": "2022-06-28T00:50:36.254Z"
   },
   {
    "duration": 63,
    "start_time": "2022-06-28T00:50:38.663Z"
   },
   {
    "duration": 61,
    "start_time": "2022-06-28T00:50:44.102Z"
   },
   {
    "duration": 152,
    "start_time": "2022-06-28T00:52:17.710Z"
   },
   {
    "duration": 189,
    "start_time": "2022-06-28T00:53:33.563Z"
   },
   {
    "duration": 194,
    "start_time": "2022-06-28T01:06:30.234Z"
   },
   {
    "duration": 939,
    "start_time": "2022-06-28T01:10:09.815Z"
   },
   {
    "duration": 399,
    "start_time": "2022-06-28T01:10:19.645Z"
   },
   {
    "duration": 6,
    "start_time": "2022-06-28T01:10:20.046Z"
   },
   {
    "duration": 11,
    "start_time": "2022-06-28T01:10:20.054Z"
   },
   {
    "duration": 230,
    "start_time": "2022-06-28T01:10:20.067Z"
   },
   {
    "duration": 217,
    "start_time": "2022-06-28T01:10:20.299Z"
   },
   {
    "duration": 159,
    "start_time": "2022-06-28T01:10:20.518Z"
   },
   {
    "duration": 166,
    "start_time": "2022-06-28T01:10:20.679Z"
   },
   {
    "duration": 14,
    "start_time": "2022-06-28T01:10:20.846Z"
   },
   {
    "duration": 43,
    "start_time": "2022-06-28T01:10:20.862Z"
   },
   {
    "duration": 80,
    "start_time": "2022-06-28T01:10:20.908Z"
   },
   {
    "duration": 31,
    "start_time": "2022-06-28T01:10:20.989Z"
   },
   {
    "duration": 116,
    "start_time": "2022-06-28T01:10:21.022Z"
   },
   {
    "duration": 129,
    "start_time": "2022-06-28T01:10:21.141Z"
   },
   {
    "duration": 166,
    "start_time": "2022-06-28T01:10:21.272Z"
   },
   {
    "duration": 24,
    "start_time": "2022-06-28T01:10:21.440Z"
   },
   {
    "duration": 29,
    "start_time": "2022-06-28T01:10:21.465Z"
   },
   {
    "duration": 20,
    "start_time": "2022-06-28T01:10:21.496Z"
   },
   {
    "duration": 33,
    "start_time": "2022-06-28T01:10:21.518Z"
   },
   {
    "duration": 6,
    "start_time": "2022-06-28T01:10:21.553Z"
   },
   {
    "duration": 16,
    "start_time": "2022-06-28T01:10:21.561Z"
   },
   {
    "duration": 9,
    "start_time": "2022-06-28T01:10:21.578Z"
   },
   {
    "duration": 11,
    "start_time": "2022-06-28T01:10:21.588Z"
   },
   {
    "duration": 56,
    "start_time": "2022-06-28T01:10:21.600Z"
   },
   {
    "duration": 38,
    "start_time": "2022-06-28T01:10:21.658Z"
   },
   {
    "duration": 246,
    "start_time": "2022-06-28T01:10:21.698Z"
   },
   {
    "duration": 15,
    "start_time": "2022-06-28T01:11:50.737Z"
   },
   {
    "duration": 34,
    "start_time": "2022-06-28T01:12:28.750Z"
   },
   {
    "duration": 793,
    "start_time": "2022-06-28T01:13:25.681Z"
   },
   {
    "duration": 11,
    "start_time": "2022-06-28T01:13:36.519Z"
   },
   {
    "duration": 15,
    "start_time": "2022-06-28T01:13:50.962Z"
   },
   {
    "duration": 15,
    "start_time": "2022-06-28T01:14:11.479Z"
   },
   {
    "duration": 13,
    "start_time": "2022-06-28T01:16:38.423Z"
   },
   {
    "duration": 144,
    "start_time": "2022-06-28T01:16:52.182Z"
   },
   {
    "duration": 140,
    "start_time": "2022-06-28T01:20:15.507Z"
   },
   {
    "duration": 39,
    "start_time": "2022-06-28T01:23:33.531Z"
   },
   {
    "duration": 22,
    "start_time": "2022-06-28T01:24:45.793Z"
   },
   {
    "duration": 21,
    "start_time": "2022-06-28T01:24:56.778Z"
   },
   {
    "duration": 22,
    "start_time": "2022-06-28T01:25:13.268Z"
   },
   {
    "duration": 12,
    "start_time": "2022-06-28T01:25:27.785Z"
   },
   {
    "duration": 7,
    "start_time": "2022-06-28T01:25:38.742Z"
   },
   {
    "duration": 22,
    "start_time": "2022-06-28T01:25:44.700Z"
   },
   {
    "duration": 8,
    "start_time": "2022-06-28T01:28:09.209Z"
   },
   {
    "duration": 39,
    "start_time": "2022-06-28T01:28:12.510Z"
   },
   {
    "duration": 52,
    "start_time": "2022-06-28T01:28:29.448Z"
   },
   {
    "duration": 49,
    "start_time": "2022-06-28T01:28:38.657Z"
   },
   {
    "duration": 136,
    "start_time": "2022-06-28T01:29:01.180Z"
   },
   {
    "duration": 11,
    "start_time": "2022-06-28T01:31:50.807Z"
   },
   {
    "duration": 27,
    "start_time": "2022-06-28T01:32:10.207Z"
   },
   {
    "duration": 40,
    "start_time": "2022-06-28T01:32:10.798Z"
   },
   {
    "duration": 119,
    "start_time": "2022-06-28T01:32:59.409Z"
   },
   {
    "duration": 7,
    "start_time": "2022-06-28T01:47:31.133Z"
   },
   {
    "duration": 10,
    "start_time": "2022-06-28T01:47:37.703Z"
   },
   {
    "duration": 419,
    "start_time": "2022-06-28T01:47:45.958Z"
   },
   {
    "duration": 5,
    "start_time": "2022-06-28T01:47:46.378Z"
   },
   {
    "duration": 7,
    "start_time": "2022-06-28T01:47:46.384Z"
   },
   {
    "duration": 187,
    "start_time": "2022-06-28T01:47:46.393Z"
   },
   {
    "duration": 190,
    "start_time": "2022-06-28T01:47:46.582Z"
   },
   {
    "duration": 150,
    "start_time": "2022-06-28T01:47:46.773Z"
   },
   {
    "duration": 156,
    "start_time": "2022-06-28T01:47:46.924Z"
   },
   {
    "duration": 11,
    "start_time": "2022-06-28T01:47:47.082Z"
   },
   {
    "duration": 55,
    "start_time": "2022-06-28T01:47:47.096Z"
   },
   {
    "duration": 62,
    "start_time": "2022-06-28T01:47:47.153Z"
   },
   {
    "duration": 49,
    "start_time": "2022-06-28T01:47:47.217Z"
   },
   {
    "duration": 94,
    "start_time": "2022-06-28T01:47:47.268Z"
   },
   {
    "duration": 113,
    "start_time": "2022-06-28T01:47:47.364Z"
   },
   {
    "duration": 219,
    "start_time": "2022-06-28T01:47:47.479Z"
   },
   {
    "duration": 25,
    "start_time": "2022-06-28T01:47:47.699Z"
   },
   {
    "duration": 33,
    "start_time": "2022-06-28T01:47:47.726Z"
   },
   {
    "duration": 15,
    "start_time": "2022-06-28T01:47:47.761Z"
   },
   {
    "duration": 11,
    "start_time": "2022-06-28T01:47:47.779Z"
   },
   {
    "duration": 4,
    "start_time": "2022-06-28T01:47:47.792Z"
   },
   {
    "duration": 6,
    "start_time": "2022-06-28T01:47:47.797Z"
   },
   {
    "duration": 47,
    "start_time": "2022-06-28T01:47:47.805Z"
   },
   {
    "duration": 9,
    "start_time": "2022-06-28T01:47:47.853Z"
   },
   {
    "duration": 24,
    "start_time": "2022-06-28T01:47:47.864Z"
   },
   {
    "duration": 71,
    "start_time": "2022-06-28T01:47:47.890Z"
   },
   {
    "duration": 39,
    "start_time": "2022-06-28T01:47:47.962Z"
   },
   {
    "duration": 212,
    "start_time": "2022-06-28T01:47:48.002Z"
   },
   {
    "duration": 153,
    "start_time": "2022-06-28T01:47:48.215Z"
   },
   {
    "duration": 44,
    "start_time": "2022-06-28T01:47:48.370Z"
   },
   {
    "duration": 0,
    "start_time": "2022-06-28T01:47:48.416Z"
   },
   {
    "duration": 0,
    "start_time": "2022-06-28T01:47:48.417Z"
   },
   {
    "duration": 0,
    "start_time": "2022-06-28T01:47:48.418Z"
   },
   {
    "duration": 0,
    "start_time": "2022-06-28T01:47:48.419Z"
   },
   {
    "duration": 0,
    "start_time": "2022-06-28T01:47:48.419Z"
   },
   {
    "duration": 0,
    "start_time": "2022-06-28T01:47:48.420Z"
   },
   {
    "duration": 0,
    "start_time": "2022-06-28T01:47:48.421Z"
   },
   {
    "duration": 20,
    "start_time": "2022-06-28T01:48:23.173Z"
   },
   {
    "duration": 30,
    "start_time": "2022-06-28T01:48:23.880Z"
   },
   {
    "duration": 123,
    "start_time": "2022-06-28T01:48:25.533Z"
   },
   {
    "duration": 23,
    "start_time": "2022-06-28T01:48:27.693Z"
   },
   {
    "duration": 42,
    "start_time": "2022-06-28T01:48:28.339Z"
   },
   {
    "duration": 126,
    "start_time": "2022-06-28T01:48:29.089Z"
   },
   {
    "duration": 4,
    "start_time": "2022-06-28T01:48:32.251Z"
   },
   {
    "duration": 7,
    "start_time": "2022-06-28T01:49:26.096Z"
   },
   {
    "duration": 6,
    "start_time": "2022-06-28T01:49:35.852Z"
   },
   {
    "duration": 108,
    "start_time": "2022-06-28T01:51:13.347Z"
   },
   {
    "duration": 4,
    "start_time": "2022-06-28T01:51:16.695Z"
   },
   {
    "duration": 46,
    "start_time": "2022-06-28T07:18:37.044Z"
   },
   {
    "duration": 430,
    "start_time": "2022-06-28T07:19:03.544Z"
   },
   {
    "duration": 4,
    "start_time": "2022-06-28T07:19:03.976Z"
   },
   {
    "duration": 9,
    "start_time": "2022-06-28T07:19:03.982Z"
   },
   {
    "duration": 258,
    "start_time": "2022-06-28T07:19:03.993Z"
   },
   {
    "duration": 214,
    "start_time": "2022-06-28T07:19:04.252Z"
   },
   {
    "duration": 315,
    "start_time": "2022-06-28T07:19:04.467Z"
   },
   {
    "duration": 183,
    "start_time": "2022-06-28T07:19:04.784Z"
   },
   {
    "duration": 9,
    "start_time": "2022-06-28T07:19:04.969Z"
   },
   {
    "duration": 61,
    "start_time": "2022-06-28T07:19:04.980Z"
   },
   {
    "duration": 60,
    "start_time": "2022-06-28T07:19:05.044Z"
   },
   {
    "duration": 42,
    "start_time": "2022-06-28T07:19:05.105Z"
   },
   {
    "duration": 92,
    "start_time": "2022-06-28T07:19:05.149Z"
   },
   {
    "duration": 149,
    "start_time": "2022-06-28T07:19:05.243Z"
   },
   {
    "duration": 141,
    "start_time": "2022-06-28T07:19:05.393Z"
   },
   {
    "duration": 41,
    "start_time": "2022-06-28T07:19:05.536Z"
   },
   {
    "duration": 23,
    "start_time": "2022-06-28T07:19:05.579Z"
   },
   {
    "duration": 26,
    "start_time": "2022-06-28T07:19:05.604Z"
   },
   {
    "duration": 17,
    "start_time": "2022-06-28T07:19:05.631Z"
   },
   {
    "duration": 5,
    "start_time": "2022-06-28T07:19:05.650Z"
   },
   {
    "duration": 8,
    "start_time": "2022-06-28T07:19:05.656Z"
   },
   {
    "duration": 8,
    "start_time": "2022-06-28T07:19:05.665Z"
   },
   {
    "duration": 14,
    "start_time": "2022-06-28T07:19:05.675Z"
   },
   {
    "duration": 51,
    "start_time": "2022-06-28T07:19:05.691Z"
   },
   {
    "duration": 40,
    "start_time": "2022-06-28T07:19:05.744Z"
   },
   {
    "duration": 62,
    "start_time": "2022-06-28T07:19:05.786Z"
   },
   {
    "duration": 91,
    "start_time": "2022-06-28T07:19:05.850Z"
   },
   {
    "duration": 84,
    "start_time": "2022-06-28T07:19:05.944Z"
   },
   {
    "duration": 22,
    "start_time": "2022-06-28T07:19:06.033Z"
   },
   {
    "duration": 31,
    "start_time": "2022-06-28T07:19:06.057Z"
   },
   {
    "duration": 84,
    "start_time": "2022-06-28T07:19:06.091Z"
   },
   {
    "duration": 26,
    "start_time": "2022-06-28T07:19:06.177Z"
   },
   {
    "duration": 63,
    "start_time": "2022-06-28T07:19:06.205Z"
   },
   {
    "duration": 168,
    "start_time": "2022-06-28T07:19:06.270Z"
   },
   {
    "duration": 6,
    "start_time": "2022-06-28T07:19:06.440Z"
   },
   {
    "duration": 89,
    "start_time": "2022-06-28T07:19:06.447Z"
   },
   {
    "duration": 0,
    "start_time": "2022-06-28T07:19:06.538Z"
   },
   {
    "duration": 7,
    "start_time": "2022-06-28T07:19:26.894Z"
   },
   {
    "duration": 77,
    "start_time": "2022-06-28T07:21:24.987Z"
   },
   {
    "duration": 9,
    "start_time": "2022-06-28T07:21:30.192Z"
   },
   {
    "duration": 9,
    "start_time": "2022-06-28T07:21:34.213Z"
   },
   {
    "duration": 21,
    "start_time": "2022-06-28T07:21:39.045Z"
   },
   {
    "duration": 4,
    "start_time": "2022-06-28T07:23:23.474Z"
   },
   {
    "duration": 12,
    "start_time": "2022-06-28T07:23:37.013Z"
   },
   {
    "duration": 8,
    "start_time": "2022-06-28T07:23:44.233Z"
   },
   {
    "duration": 397,
    "start_time": "2022-06-28T07:23:54.643Z"
   },
   {
    "duration": 4,
    "start_time": "2022-06-28T07:23:55.042Z"
   },
   {
    "duration": 12,
    "start_time": "2022-06-28T07:23:55.048Z"
   },
   {
    "duration": 190,
    "start_time": "2022-06-28T07:23:55.061Z"
   },
   {
    "duration": 216,
    "start_time": "2022-06-28T07:23:55.253Z"
   },
   {
    "duration": 159,
    "start_time": "2022-06-28T07:23:55.470Z"
   },
   {
    "duration": 175,
    "start_time": "2022-06-28T07:23:55.631Z"
   },
   {
    "duration": 20,
    "start_time": "2022-06-28T07:23:55.808Z"
   },
   {
    "duration": 53,
    "start_time": "2022-06-28T07:23:55.829Z"
   },
   {
    "duration": 62,
    "start_time": "2022-06-28T07:23:55.886Z"
   },
   {
    "duration": 30,
    "start_time": "2022-06-28T07:23:55.949Z"
   },
   {
    "duration": 117,
    "start_time": "2022-06-28T07:23:55.981Z"
   },
   {
    "duration": 131,
    "start_time": "2022-06-28T07:23:56.100Z"
   },
   {
    "duration": 186,
    "start_time": "2022-06-28T07:23:56.233Z"
   },
   {
    "duration": 28,
    "start_time": "2022-06-28T07:23:56.422Z"
   },
   {
    "duration": 27,
    "start_time": "2022-06-28T07:23:56.452Z"
   },
   {
    "duration": 53,
    "start_time": "2022-06-28T07:23:56.483Z"
   },
   {
    "duration": 7,
    "start_time": "2022-06-28T07:23:56.538Z"
   },
   {
    "duration": 10,
    "start_time": "2022-06-28T07:23:56.547Z"
   },
   {
    "duration": 11,
    "start_time": "2022-06-28T07:23:56.558Z"
   },
   {
    "duration": 9,
    "start_time": "2022-06-28T07:23:56.571Z"
   },
   {
    "duration": 16,
    "start_time": "2022-06-28T07:23:56.581Z"
   },
   {
    "duration": 26,
    "start_time": "2022-06-28T07:23:56.628Z"
   },
   {
    "duration": 37,
    "start_time": "2022-06-28T07:23:56.656Z"
   },
   {
    "duration": 62,
    "start_time": "2022-06-28T07:23:56.695Z"
   },
   {
    "duration": 97,
    "start_time": "2022-06-28T07:23:56.759Z"
   },
   {
    "duration": 74,
    "start_time": "2022-06-28T07:23:56.858Z"
   },
   {
    "duration": 21,
    "start_time": "2022-06-28T07:23:56.935Z"
   },
   {
    "duration": 33,
    "start_time": "2022-06-28T07:23:56.957Z"
   },
   {
    "duration": 85,
    "start_time": "2022-06-28T07:23:56.991Z"
   },
   {
    "duration": 20,
    "start_time": "2022-06-28T07:23:57.078Z"
   },
   {
    "duration": 48,
    "start_time": "2022-06-28T07:23:57.100Z"
   },
   {
    "duration": 148,
    "start_time": "2022-06-28T07:23:57.150Z"
   },
   {
    "duration": 6,
    "start_time": "2022-06-28T07:23:57.300Z"
   },
   {
    "duration": 27,
    "start_time": "2022-06-28T07:23:57.307Z"
   },
   {
    "duration": 67,
    "start_time": "2022-06-28T07:23:57.336Z"
   },
   {
    "duration": 0,
    "start_time": "2022-06-28T07:23:57.405Z"
   },
   {
    "duration": 0,
    "start_time": "2022-06-28T07:23:57.406Z"
   },
   {
    "duration": 8,
    "start_time": "2022-06-28T07:24:17.701Z"
   },
   {
    "duration": 10,
    "start_time": "2022-06-28T07:24:24.399Z"
   },
   {
    "duration": 4,
    "start_time": "2022-06-28T07:24:40.446Z"
   },
   {
    "duration": 10,
    "start_time": "2022-06-28T07:27:18.201Z"
   },
   {
    "duration": 5,
    "start_time": "2022-06-28T07:27:23.461Z"
   },
   {
    "duration": 8,
    "start_time": "2022-06-28T07:27:28.057Z"
   },
   {
    "duration": 9,
    "start_time": "2022-06-28T07:27:37.365Z"
   },
   {
    "duration": 10,
    "start_time": "2022-06-28T07:27:46.648Z"
   },
   {
    "duration": 23,
    "start_time": "2022-06-28T07:27:48.969Z"
   },
   {
    "duration": 434,
    "start_time": "2022-06-28T07:28:17.597Z"
   },
   {
    "duration": 4,
    "start_time": "2022-06-28T07:28:18.033Z"
   },
   {
    "duration": 9,
    "start_time": "2022-06-28T07:28:18.039Z"
   },
   {
    "duration": 214,
    "start_time": "2022-06-28T07:28:18.049Z"
   },
   {
    "duration": 221,
    "start_time": "2022-06-28T07:28:18.266Z"
   },
   {
    "duration": 161,
    "start_time": "2022-06-28T07:28:18.489Z"
   },
   {
    "duration": 197,
    "start_time": "2022-06-28T07:28:18.652Z"
   },
   {
    "duration": 10,
    "start_time": "2022-06-28T07:28:18.850Z"
   },
   {
    "duration": 41,
    "start_time": "2022-06-28T07:28:18.861Z"
   },
   {
    "duration": 100,
    "start_time": "2022-06-28T07:28:18.904Z"
   },
   {
    "duration": 46,
    "start_time": "2022-06-28T07:28:19.006Z"
   },
   {
    "duration": 101,
    "start_time": "2022-06-28T07:28:19.054Z"
   },
   {
    "duration": 117,
    "start_time": "2022-06-28T07:28:19.157Z"
   },
   {
    "duration": 150,
    "start_time": "2022-06-28T07:28:19.279Z"
   },
   {
    "duration": 23,
    "start_time": "2022-06-28T07:28:19.430Z"
   },
   {
    "duration": 28,
    "start_time": "2022-06-28T07:28:19.454Z"
   },
   {
    "duration": 48,
    "start_time": "2022-06-28T07:28:19.483Z"
   },
   {
    "duration": 19,
    "start_time": "2022-06-28T07:28:19.534Z"
   },
   {
    "duration": 4,
    "start_time": "2022-06-28T07:28:19.555Z"
   },
   {
    "duration": 6,
    "start_time": "2022-06-28T07:28:19.561Z"
   },
   {
    "duration": 6,
    "start_time": "2022-06-28T07:28:19.569Z"
   },
   {
    "duration": 10,
    "start_time": "2022-06-28T07:28:19.576Z"
   },
   {
    "duration": 67,
    "start_time": "2022-06-28T07:28:19.588Z"
   },
   {
    "duration": 46,
    "start_time": "2022-06-28T07:28:19.656Z"
   },
   {
    "duration": 66,
    "start_time": "2022-06-28T07:28:19.704Z"
   },
   {
    "duration": 102,
    "start_time": "2022-06-28T07:28:19.772Z"
   },
   {
    "duration": 83,
    "start_time": "2022-06-28T07:28:19.876Z"
   },
   {
    "duration": 21,
    "start_time": "2022-06-28T07:28:19.961Z"
   },
   {
    "duration": 63,
    "start_time": "2022-06-28T07:28:19.984Z"
   },
   {
    "duration": 59,
    "start_time": "2022-06-28T07:28:20.049Z"
   },
   {
    "duration": 36,
    "start_time": "2022-06-28T07:28:20.110Z"
   },
   {
    "duration": 40,
    "start_time": "2022-06-28T07:28:20.147Z"
   },
   {
    "duration": 170,
    "start_time": "2022-06-28T07:28:20.189Z"
   },
   {
    "duration": 6,
    "start_time": "2022-06-28T07:28:20.360Z"
   },
   {
    "duration": 9,
    "start_time": "2022-06-28T07:28:20.367Z"
   },
   {
    "duration": 8,
    "start_time": "2022-06-28T07:28:20.378Z"
   },
   {
    "duration": 39,
    "start_time": "2022-06-28T07:28:20.388Z"
   },
   {
    "duration": 18,
    "start_time": "2022-06-28T07:28:20.429Z"
   },
   {
    "duration": 58,
    "start_time": "2022-06-28T07:29:49.883Z"
   },
   {
    "duration": 424,
    "start_time": "2022-06-28T07:29:59.896Z"
   },
   {
    "duration": 6,
    "start_time": "2022-06-28T07:30:00.322Z"
   },
   {
    "duration": 14,
    "start_time": "2022-06-28T07:30:00.329Z"
   },
   {
    "duration": 212,
    "start_time": "2022-06-28T07:30:00.346Z"
   },
   {
    "duration": 208,
    "start_time": "2022-06-28T07:30:00.560Z"
   },
   {
    "duration": 160,
    "start_time": "2022-06-28T07:30:00.770Z"
   },
   {
    "duration": 164,
    "start_time": "2022-06-28T07:30:00.932Z"
   },
   {
    "duration": 9,
    "start_time": "2022-06-28T07:30:01.098Z"
   },
   {
    "duration": 48,
    "start_time": "2022-06-28T07:30:01.109Z"
   },
   {
    "duration": 71,
    "start_time": "2022-06-28T07:30:01.159Z"
   },
   {
    "duration": 30,
    "start_time": "2022-06-28T07:30:01.231Z"
   },
   {
    "duration": 114,
    "start_time": "2022-06-28T07:30:01.263Z"
   },
   {
    "duration": 120,
    "start_time": "2022-06-28T07:30:01.378Z"
   },
   {
    "duration": 153,
    "start_time": "2022-06-28T07:30:01.499Z"
   },
   {
    "duration": 22,
    "start_time": "2022-06-28T07:30:01.654Z"
   },
   {
    "duration": 73,
    "start_time": "2022-06-28T07:30:01.679Z"
   },
   {
    "duration": 36,
    "start_time": "2022-06-28T07:30:01.754Z"
   },
   {
    "duration": 37,
    "start_time": "2022-06-28T07:30:01.792Z"
   },
   {
    "duration": 32,
    "start_time": "2022-06-28T07:30:01.831Z"
   },
   {
    "duration": 15,
    "start_time": "2022-06-28T07:30:01.865Z"
   },
   {
    "duration": 26,
    "start_time": "2022-06-28T07:30:01.881Z"
   },
   {
    "duration": 57,
    "start_time": "2022-06-28T07:30:01.909Z"
   },
   {
    "duration": 35,
    "start_time": "2022-06-28T07:30:01.968Z"
   },
   {
    "duration": 57,
    "start_time": "2022-06-28T07:30:02.004Z"
   },
   {
    "duration": 47,
    "start_time": "2022-06-28T07:30:02.063Z"
   },
   {
    "duration": 81,
    "start_time": "2022-06-28T07:30:02.112Z"
   },
   {
    "duration": 82,
    "start_time": "2022-06-28T07:30:02.195Z"
   },
   {
    "duration": 21,
    "start_time": "2022-06-28T07:30:02.280Z"
   },
   {
    "duration": 44,
    "start_time": "2022-06-28T07:30:02.302Z"
   },
   {
    "duration": 48,
    "start_time": "2022-06-28T07:30:02.348Z"
   },
   {
    "duration": 42,
    "start_time": "2022-06-28T07:30:02.398Z"
   },
   {
    "duration": 48,
    "start_time": "2022-06-28T07:30:02.442Z"
   },
   {
    "duration": 120,
    "start_time": "2022-06-28T07:30:02.492Z"
   },
   {
    "duration": 4,
    "start_time": "2022-06-28T07:30:02.613Z"
   },
   {
    "duration": 25,
    "start_time": "2022-06-28T07:30:02.618Z"
   },
   {
    "duration": 11,
    "start_time": "2022-06-28T07:30:02.645Z"
   },
   {
    "duration": 16,
    "start_time": "2022-06-28T07:30:02.657Z"
   },
   {
    "duration": 86,
    "start_time": "2022-06-28T07:30:02.674Z"
   },
   {
    "duration": 13,
    "start_time": "2022-06-28T07:47:37.227Z"
   },
   {
    "duration": 78,
    "start_time": "2022-06-28T07:49:14.328Z"
   },
   {
    "duration": 12,
    "start_time": "2022-06-28T07:49:43.015Z"
   },
   {
    "duration": 18,
    "start_time": "2022-06-28T07:49:45.434Z"
   },
   {
    "duration": 52,
    "start_time": "2022-06-28T07:53:41.487Z"
   },
   {
    "duration": 7,
    "start_time": "2022-06-28T07:53:52.332Z"
   },
   {
    "duration": 289,
    "start_time": "2022-06-28T07:54:01.350Z"
   },
   {
    "duration": 17,
    "start_time": "2022-06-28T08:24:57.758Z"
   },
   {
    "duration": 423,
    "start_time": "2022-06-28T08:25:13.431Z"
   },
   {
    "duration": 5,
    "start_time": "2022-06-28T08:25:13.856Z"
   },
   {
    "duration": 26,
    "start_time": "2022-06-28T08:25:13.862Z"
   },
   {
    "duration": 197,
    "start_time": "2022-06-28T08:25:13.891Z"
   },
   {
    "duration": 202,
    "start_time": "2022-06-28T08:25:14.090Z"
   },
   {
    "duration": 159,
    "start_time": "2022-06-28T08:25:14.293Z"
   },
   {
    "duration": 197,
    "start_time": "2022-06-28T08:25:14.454Z"
   },
   {
    "duration": 11,
    "start_time": "2022-06-28T08:25:14.653Z"
   },
   {
    "duration": 62,
    "start_time": "2022-06-28T08:25:14.666Z"
   },
   {
    "duration": 99,
    "start_time": "2022-06-28T08:25:14.731Z"
   },
   {
    "duration": 37,
    "start_time": "2022-06-28T08:25:14.832Z"
   },
   {
    "duration": 114,
    "start_time": "2022-06-28T08:25:14.872Z"
   },
   {
    "duration": 115,
    "start_time": "2022-06-28T08:25:14.987Z"
   },
   {
    "duration": 152,
    "start_time": "2022-06-28T08:25:15.104Z"
   },
   {
    "duration": 27,
    "start_time": "2022-06-28T08:25:15.258Z"
   },
   {
    "duration": 49,
    "start_time": "2022-06-28T08:25:15.287Z"
   },
   {
    "duration": 18,
    "start_time": "2022-06-28T08:25:15.338Z"
   },
   {
    "duration": 8,
    "start_time": "2022-06-28T08:25:15.358Z"
   },
   {
    "duration": 5,
    "start_time": "2022-06-28T08:25:15.367Z"
   },
   {
    "duration": 7,
    "start_time": "2022-06-28T08:25:15.373Z"
   },
   {
    "duration": 6,
    "start_time": "2022-06-28T08:25:15.426Z"
   },
   {
    "duration": 15,
    "start_time": "2022-06-28T08:25:15.434Z"
   },
   {
    "duration": 28,
    "start_time": "2022-06-28T08:25:15.451Z"
   },
   {
    "duration": 78,
    "start_time": "2022-06-28T08:25:15.481Z"
   },
   {
    "duration": 40,
    "start_time": "2022-06-28T08:25:15.561Z"
   },
   {
    "duration": 100,
    "start_time": "2022-06-28T08:25:15.603Z"
   },
   {
    "duration": 91,
    "start_time": "2022-06-28T08:25:15.705Z"
   },
   {
    "duration": 36,
    "start_time": "2022-06-28T08:25:15.799Z"
   },
   {
    "duration": 35,
    "start_time": "2022-06-28T08:25:15.836Z"
   },
   {
    "duration": 71,
    "start_time": "2022-06-28T08:25:15.872Z"
   },
   {
    "duration": 21,
    "start_time": "2022-06-28T08:25:15.945Z"
   },
   {
    "duration": 37,
    "start_time": "2022-06-28T08:25:15.968Z"
   },
   {
    "duration": 126,
    "start_time": "2022-06-28T08:25:16.028Z"
   },
   {
    "duration": 5,
    "start_time": "2022-06-28T08:25:16.156Z"
   },
   {
    "duration": 12,
    "start_time": "2022-06-28T08:25:16.162Z"
   },
   {
    "duration": 10,
    "start_time": "2022-06-28T08:25:16.176Z"
   },
   {
    "duration": 7,
    "start_time": "2022-06-28T08:25:16.187Z"
   },
   {
    "duration": 4,
    "start_time": "2022-06-28T08:25:16.196Z"
   },
   {
    "duration": 13,
    "start_time": "2022-06-28T08:25:16.227Z"
   },
   {
    "duration": 9,
    "start_time": "2022-06-28T08:25:16.243Z"
   },
   {
    "duration": 28,
    "start_time": "2022-06-28T08:25:16.254Z"
   },
   {
    "duration": 21,
    "start_time": "2022-06-28T08:27:30.274Z"
   },
   {
    "duration": 294,
    "start_time": "2022-06-28T08:29:44.754Z"
   },
   {
    "duration": 48,
    "start_time": "2022-06-28T08:30:05.304Z"
   },
   {
    "duration": 32,
    "start_time": "2022-06-28T08:30:59.918Z"
   },
   {
    "duration": 8,
    "start_time": "2022-06-28T08:33:15.710Z"
   },
   {
    "duration": 216,
    "start_time": "2022-06-28T08:33:33.362Z"
   },
   {
    "duration": 13,
    "start_time": "2022-06-28T08:33:42.849Z"
   },
   {
    "duration": 13,
    "start_time": "2022-06-28T08:33:50.890Z"
   },
   {
    "duration": 13,
    "start_time": "2022-06-28T08:33:58.407Z"
   },
   {
    "duration": 7,
    "start_time": "2022-06-28T08:34:09.661Z"
   },
   {
    "duration": 13,
    "start_time": "2022-06-28T08:35:53.416Z"
   },
   {
    "duration": 9,
    "start_time": "2022-06-28T08:36:09.142Z"
   },
   {
    "duration": 392,
    "start_time": "2022-06-28T23:55:37.598Z"
   },
   {
    "duration": 5,
    "start_time": "2022-06-28T23:55:37.992Z"
   },
   {
    "duration": 7,
    "start_time": "2022-06-28T23:55:37.998Z"
   },
   {
    "duration": 261,
    "start_time": "2022-06-28T23:55:38.007Z"
   },
   {
    "duration": 224,
    "start_time": "2022-06-28T23:55:38.270Z"
   },
   {
    "duration": 322,
    "start_time": "2022-06-28T23:55:38.496Z"
   },
   {
    "duration": 164,
    "start_time": "2022-06-28T23:55:38.820Z"
   },
   {
    "duration": 12,
    "start_time": "2022-06-28T23:55:38.985Z"
   },
   {
    "duration": 63,
    "start_time": "2022-06-28T23:55:38.999Z"
   },
   {
    "duration": 94,
    "start_time": "2022-06-28T23:55:39.064Z"
   },
   {
    "duration": 31,
    "start_time": "2022-06-28T23:55:39.159Z"
   },
   {
    "duration": 162,
    "start_time": "2022-06-28T23:55:39.192Z"
   },
   {
    "duration": 172,
    "start_time": "2022-06-28T23:55:39.355Z"
   },
   {
    "duration": 152,
    "start_time": "2022-06-28T23:55:39.531Z"
   },
   {
    "duration": 43,
    "start_time": "2022-06-28T23:55:39.685Z"
   },
   {
    "duration": 25,
    "start_time": "2022-06-28T23:55:39.730Z"
   },
   {
    "duration": 16,
    "start_time": "2022-06-28T23:55:39.758Z"
   },
   {
    "duration": 9,
    "start_time": "2022-06-28T23:55:39.776Z"
   },
   {
    "duration": 6,
    "start_time": "2022-06-28T23:55:39.787Z"
   },
   {
    "duration": 8,
    "start_time": "2022-06-28T23:55:39.795Z"
   },
   {
    "duration": 8,
    "start_time": "2022-06-28T23:55:39.805Z"
   },
   {
    "duration": 45,
    "start_time": "2022-06-28T23:55:39.815Z"
   },
   {
    "duration": 30,
    "start_time": "2022-06-28T23:55:39.861Z"
   },
   {
    "duration": 67,
    "start_time": "2022-06-28T23:55:39.892Z"
   },
   {
    "duration": 45,
    "start_time": "2022-06-28T23:55:39.960Z"
   },
   {
    "duration": 97,
    "start_time": "2022-06-28T23:55:40.007Z"
   },
   {
    "duration": 85,
    "start_time": "2022-06-28T23:55:40.106Z"
   },
   {
    "duration": 28,
    "start_time": "2022-06-28T23:55:40.193Z"
   },
   {
    "duration": 51,
    "start_time": "2022-06-28T23:55:40.224Z"
   },
   {
    "duration": 61,
    "start_time": "2022-06-28T23:55:40.277Z"
   },
   {
    "duration": 24,
    "start_time": "2022-06-28T23:55:40.351Z"
   },
   {
    "duration": 38,
    "start_time": "2022-06-28T23:55:40.377Z"
   },
   {
    "duration": 146,
    "start_time": "2022-06-28T23:55:40.417Z"
   },
   {
    "duration": 5,
    "start_time": "2022-06-28T23:55:40.565Z"
   },
   {
    "duration": 11,
    "start_time": "2022-06-28T23:55:40.571Z"
   },
   {
    "duration": 11,
    "start_time": "2022-06-28T23:55:40.583Z"
   },
   {
    "duration": 3,
    "start_time": "2022-06-28T23:55:40.596Z"
   },
   {
    "duration": 10,
    "start_time": "2022-06-28T23:55:40.601Z"
   },
   {
    "duration": 5,
    "start_time": "2022-06-28T23:55:40.612Z"
   },
   {
    "duration": 5,
    "start_time": "2022-06-28T23:55:40.619Z"
   },
   {
    "duration": 21,
    "start_time": "2022-06-28T23:55:40.653Z"
   },
   {
    "duration": 346,
    "start_time": "2022-06-28T23:55:40.676Z"
   },
   {
    "duration": 0,
    "start_time": "2022-06-28T23:55:41.024Z"
   },
   {
    "duration": 188,
    "start_time": "2022-06-28T23:57:44.009Z"
   },
   {
    "duration": 199,
    "start_time": "2022-06-28T23:58:23.138Z"
   },
   {
    "duration": 7,
    "start_time": "2022-06-28T23:58:43.751Z"
   },
   {
    "duration": 16,
    "start_time": "2022-06-28T23:59:07.096Z"
   },
   {
    "duration": 19,
    "start_time": "2022-06-28T23:59:17.194Z"
   },
   {
    "duration": 20,
    "start_time": "2022-06-29T00:01:46.477Z"
   },
   {
    "duration": 26,
    "start_time": "2022-06-29T00:01:47.396Z"
   },
   {
    "duration": 57,
    "start_time": "2022-06-29T00:01:47.951Z"
   },
   {
    "duration": 21,
    "start_time": "2022-06-29T00:01:52.565Z"
   },
   {
    "duration": 20,
    "start_time": "2022-06-29T00:01:57.866Z"
   },
   {
    "duration": 777,
    "start_time": "2022-06-29T00:05:34.398Z"
   },
   {
    "duration": 50,
    "start_time": "2022-06-29T00:12:16.431Z"
   },
   {
    "duration": 399,
    "start_time": "2022-06-29T00:13:32.044Z"
   },
   {
    "duration": 7,
    "start_time": "2022-06-29T00:13:32.445Z"
   },
   {
    "duration": 4,
    "start_time": "2022-06-29T00:13:32.454Z"
   },
   {
    "duration": 178,
    "start_time": "2022-06-29T00:13:32.459Z"
   },
   {
    "duration": 185,
    "start_time": "2022-06-29T00:13:32.639Z"
   },
   {
    "duration": 143,
    "start_time": "2022-06-29T00:13:32.826Z"
   },
   {
    "duration": 144,
    "start_time": "2022-06-29T00:13:32.970Z"
   },
   {
    "duration": 9,
    "start_time": "2022-06-29T00:13:33.116Z"
   },
   {
    "duration": 50,
    "start_time": "2022-06-29T00:13:33.127Z"
   },
   {
    "duration": 60,
    "start_time": "2022-06-29T00:13:33.178Z"
   },
   {
    "duration": 35,
    "start_time": "2022-06-29T00:13:33.240Z"
   },
   {
    "duration": 96,
    "start_time": "2022-06-29T00:13:33.277Z"
   },
   {
    "duration": 98,
    "start_time": "2022-06-29T00:13:33.375Z"
   },
   {
    "duration": 137,
    "start_time": "2022-06-29T00:13:33.476Z"
   },
   {
    "duration": 24,
    "start_time": "2022-06-29T00:13:33.614Z"
   },
   {
    "duration": 23,
    "start_time": "2022-06-29T00:13:33.639Z"
   },
   {
    "duration": 12,
    "start_time": "2022-06-29T00:13:33.664Z"
   },
   {
    "duration": 23,
    "start_time": "2022-06-29T00:13:33.678Z"
   },
   {
    "duration": 14,
    "start_time": "2022-06-29T00:13:33.702Z"
   },
   {
    "duration": 6,
    "start_time": "2022-06-29T00:13:33.717Z"
   },
   {
    "duration": 12,
    "start_time": "2022-06-29T00:13:33.724Z"
   },
   {
    "duration": 19,
    "start_time": "2022-06-29T00:13:33.737Z"
   },
   {
    "duration": 38,
    "start_time": "2022-06-29T00:13:33.758Z"
   },
   {
    "duration": 2,
    "start_time": "2022-06-29T00:13:33.798Z"
   },
   {
    "duration": 19,
    "start_time": "2022-06-29T00:13:33.801Z"
   },
   {
    "duration": 71,
    "start_time": "2022-06-29T00:13:33.821Z"
   },
   {
    "duration": 70,
    "start_time": "2022-06-29T00:13:33.893Z"
   },
   {
    "duration": 0,
    "start_time": "2022-06-29T00:13:33.965Z"
   },
   {
    "duration": 0,
    "start_time": "2022-06-29T00:13:33.966Z"
   },
   {
    "duration": 0,
    "start_time": "2022-06-29T00:13:33.967Z"
   },
   {
    "duration": 0,
    "start_time": "2022-06-29T00:13:33.968Z"
   },
   {
    "duration": 0,
    "start_time": "2022-06-29T00:13:33.968Z"
   },
   {
    "duration": 0,
    "start_time": "2022-06-29T00:13:33.969Z"
   },
   {
    "duration": 0,
    "start_time": "2022-06-29T00:13:33.970Z"
   },
   {
    "duration": 0,
    "start_time": "2022-06-29T00:13:33.971Z"
   },
   {
    "duration": 0,
    "start_time": "2022-06-29T00:13:33.972Z"
   },
   {
    "duration": 0,
    "start_time": "2022-06-29T00:13:33.973Z"
   },
   {
    "duration": 0,
    "start_time": "2022-06-29T00:13:33.974Z"
   },
   {
    "duration": 0,
    "start_time": "2022-06-29T00:13:33.974Z"
   },
   {
    "duration": 0,
    "start_time": "2022-06-29T00:13:33.975Z"
   },
   {
    "duration": 0,
    "start_time": "2022-06-29T00:13:33.976Z"
   },
   {
    "duration": 113,
    "start_time": "2022-06-29T00:16:39.790Z"
   },
   {
    "duration": 193,
    "start_time": "2022-06-29T00:16:56.537Z"
   },
   {
    "duration": 20850,
    "start_time": "2022-06-29T00:18:27.454Z"
   },
   {
    "duration": 168,
    "start_time": "2022-06-29T00:21:46.636Z"
   },
   {
    "duration": 2149,
    "start_time": "2022-06-29T00:22:02.232Z"
   },
   {
    "duration": 3579,
    "start_time": "2022-06-29T00:23:17.699Z"
   },
   {
    "duration": 1994,
    "start_time": "2022-06-29T00:23:31.365Z"
   },
   {
    "duration": 154,
    "start_time": "2022-06-29T00:24:02.589Z"
   },
   {
    "duration": 173,
    "start_time": "2022-06-29T00:24:28.373Z"
   },
   {
    "duration": 21,
    "start_time": "2022-06-29T00:24:36.198Z"
   },
   {
    "duration": 422,
    "start_time": "2022-06-29T00:26:58.668Z"
   },
   {
    "duration": 4,
    "start_time": "2022-06-29T00:26:59.092Z"
   },
   {
    "duration": 180,
    "start_time": "2022-06-29T00:26:59.098Z"
   },
   {
    "duration": 206,
    "start_time": "2022-06-29T00:26:59.279Z"
   },
   {
    "duration": 29,
    "start_time": "2022-06-29T00:26:59.488Z"
   },
   {
    "duration": 162,
    "start_time": "2022-06-29T00:26:59.519Z"
   },
   {
    "duration": 154,
    "start_time": "2022-06-29T00:26:59.683Z"
   },
   {
    "duration": 15,
    "start_time": "2022-06-29T00:26:59.839Z"
   },
   {
    "duration": 40,
    "start_time": "2022-06-29T00:26:59.856Z"
   },
   {
    "duration": 69,
    "start_time": "2022-06-29T00:26:59.897Z"
   },
   {
    "duration": 29,
    "start_time": "2022-06-29T00:26:59.967Z"
   },
   {
    "duration": 97,
    "start_time": "2022-06-29T00:26:59.998Z"
   },
   {
    "duration": 118,
    "start_time": "2022-06-29T00:27:00.097Z"
   },
   {
    "duration": 155,
    "start_time": "2022-06-29T00:27:00.219Z"
   },
   {
    "duration": 27,
    "start_time": "2022-06-29T00:27:00.376Z"
   },
   {
    "duration": 21,
    "start_time": "2022-06-29T00:27:00.404Z"
   },
   {
    "duration": 14,
    "start_time": "2022-06-29T00:27:00.427Z"
   },
   {
    "duration": 7,
    "start_time": "2022-06-29T00:27:00.451Z"
   },
   {
    "duration": 4,
    "start_time": "2022-06-29T00:27:00.460Z"
   },
   {
    "duration": 4,
    "start_time": "2022-06-29T00:27:00.465Z"
   },
   {
    "duration": 6,
    "start_time": "2022-06-29T00:27:00.471Z"
   },
   {
    "duration": 12,
    "start_time": "2022-06-29T00:27:00.479Z"
   },
   {
    "duration": 35,
    "start_time": "2022-06-29T00:27:00.492Z"
   },
   {
    "duration": 37,
    "start_time": "2022-06-29T00:27:00.552Z"
   },
   {
    "duration": 16,
    "start_time": "2022-06-29T00:27:00.590Z"
   },
   {
    "duration": 110,
    "start_time": "2022-06-29T00:27:00.607Z"
   },
   {
    "duration": 72,
    "start_time": "2022-06-29T00:27:00.718Z"
   },
   {
    "duration": 23,
    "start_time": "2022-06-29T00:27:00.791Z"
   },
   {
    "duration": 50,
    "start_time": "2022-06-29T00:27:00.815Z"
   },
   {
    "duration": 54,
    "start_time": "2022-06-29T00:27:00.867Z"
   },
   {
    "duration": 33,
    "start_time": "2022-06-29T00:27:00.923Z"
   },
   {
    "duration": 42,
    "start_time": "2022-06-29T00:27:00.957Z"
   },
   {
    "duration": 143,
    "start_time": "2022-06-29T00:27:01.000Z"
   },
   {
    "duration": 9,
    "start_time": "2022-06-29T00:27:01.145Z"
   },
   {
    "duration": 16,
    "start_time": "2022-06-29T00:27:01.155Z"
   },
   {
    "duration": 22,
    "start_time": "2022-06-29T00:27:01.172Z"
   },
   {
    "duration": 37,
    "start_time": "2022-06-29T00:27:01.196Z"
   },
   {
    "duration": 29,
    "start_time": "2022-06-29T00:27:01.235Z"
   },
   {
    "duration": 24,
    "start_time": "2022-06-29T00:27:01.266Z"
   },
   {
    "duration": 29,
    "start_time": "2022-06-29T00:27:01.292Z"
   },
   {
    "duration": 22,
    "start_time": "2022-06-29T00:27:01.324Z"
   },
   {
    "duration": 14,
    "start_time": "2022-06-29T00:43:20.579Z"
   },
   {
    "duration": 15,
    "start_time": "2022-06-29T00:44:27.798Z"
   },
   {
    "duration": 47,
    "start_time": "2022-06-29T00:49:02.820Z"
   },
   {
    "duration": 17,
    "start_time": "2022-06-29T00:49:13.927Z"
   },
   {
    "duration": 63,
    "start_time": "2022-06-29T00:49:14.548Z"
   },
   {
    "duration": 9,
    "start_time": "2022-06-29T00:49:27.534Z"
   },
   {
    "duration": 11,
    "start_time": "2022-06-29T00:49:30.698Z"
   },
   {
    "duration": 14,
    "start_time": "2022-06-29T00:49:32.751Z"
   },
   {
    "duration": 16,
    "start_time": "2022-06-29T01:04:34.347Z"
   },
   {
    "duration": 17,
    "start_time": "2022-06-29T01:10:37.827Z"
   },
   {
    "duration": 10,
    "start_time": "2022-06-29T01:10:38.382Z"
   },
   {
    "duration": 18,
    "start_time": "2022-06-29T01:10:38.869Z"
   },
   {
    "duration": 15,
    "start_time": "2022-06-29T01:10:39.246Z"
   },
   {
    "duration": 9,
    "start_time": "2022-06-29T01:15:21.279Z"
   },
   {
    "duration": 406,
    "start_time": "2022-06-29T01:19:30.539Z"
   },
   {
    "duration": 6,
    "start_time": "2022-06-29T01:19:30.947Z"
   },
   {
    "duration": 194,
    "start_time": "2022-06-29T01:19:30.954Z"
   },
   {
    "duration": 188,
    "start_time": "2022-06-29T01:19:31.151Z"
   },
   {
    "duration": 24,
    "start_time": "2022-06-29T01:19:31.351Z"
   },
   {
    "duration": 149,
    "start_time": "2022-06-29T01:19:31.377Z"
   },
   {
    "duration": 158,
    "start_time": "2022-06-29T01:19:31.528Z"
   },
   {
    "duration": 9,
    "start_time": "2022-06-29T01:19:31.688Z"
   },
   {
    "duration": 39,
    "start_time": "2022-06-29T01:19:31.698Z"
   },
   {
    "duration": 61,
    "start_time": "2022-06-29T01:19:31.750Z"
   },
   {
    "duration": 46,
    "start_time": "2022-06-29T01:19:31.812Z"
   },
   {
    "duration": 92,
    "start_time": "2022-06-29T01:19:31.860Z"
   },
   {
    "duration": 103,
    "start_time": "2022-06-29T01:19:31.954Z"
   },
   {
    "duration": 140,
    "start_time": "2022-06-29T01:19:32.060Z"
   },
   {
    "duration": 26,
    "start_time": "2022-06-29T01:19:32.201Z"
   },
   {
    "duration": 26,
    "start_time": "2022-06-29T01:19:32.228Z"
   },
   {
    "duration": 15,
    "start_time": "2022-06-29T01:19:32.256Z"
   },
   {
    "duration": 9,
    "start_time": "2022-06-29T01:19:32.273Z"
   },
   {
    "duration": 5,
    "start_time": "2022-06-29T01:19:32.283Z"
   },
   {
    "duration": 7,
    "start_time": "2022-06-29T01:19:32.290Z"
   },
   {
    "duration": 16,
    "start_time": "2022-06-29T01:19:32.299Z"
   },
   {
    "duration": 9,
    "start_time": "2022-06-29T01:19:32.350Z"
   },
   {
    "duration": 35,
    "start_time": "2022-06-29T01:19:32.360Z"
   },
   {
    "duration": 157,
    "start_time": "2022-06-29T01:19:32.396Z"
   },
   {
    "duration": 12,
    "start_time": "2022-06-29T01:19:32.555Z"
   },
   {
    "duration": 69,
    "start_time": "2022-06-29T01:19:32.568Z"
   },
   {
    "duration": 78,
    "start_time": "2022-06-29T01:19:32.638Z"
   },
   {
    "duration": 0,
    "start_time": "2022-06-29T01:19:32.718Z"
   },
   {
    "duration": 0,
    "start_time": "2022-06-29T01:19:32.719Z"
   },
   {
    "duration": 0,
    "start_time": "2022-06-29T01:19:32.719Z"
   },
   {
    "duration": 0,
    "start_time": "2022-06-29T01:19:32.720Z"
   },
   {
    "duration": 0,
    "start_time": "2022-06-29T01:19:32.721Z"
   },
   {
    "duration": 0,
    "start_time": "2022-06-29T01:19:32.722Z"
   },
   {
    "duration": 0,
    "start_time": "2022-06-29T01:19:32.723Z"
   },
   {
    "duration": 0,
    "start_time": "2022-06-29T01:19:32.724Z"
   },
   {
    "duration": 0,
    "start_time": "2022-06-29T01:19:32.725Z"
   },
   {
    "duration": 1,
    "start_time": "2022-06-29T01:19:32.751Z"
   },
   {
    "duration": 0,
    "start_time": "2022-06-29T01:19:32.753Z"
   },
   {
    "duration": 0,
    "start_time": "2022-06-29T01:19:32.754Z"
   },
   {
    "duration": 0,
    "start_time": "2022-06-29T01:19:32.755Z"
   },
   {
    "duration": 0,
    "start_time": "2022-06-29T01:19:32.756Z"
   },
   {
    "duration": 0,
    "start_time": "2022-06-29T01:19:32.757Z"
   },
   {
    "duration": 1,
    "start_time": "2022-06-29T01:19:32.757Z"
   },
   {
    "duration": 0,
    "start_time": "2022-06-29T01:19:32.758Z"
   },
   {
    "duration": 0,
    "start_time": "2022-06-29T01:19:32.759Z"
   },
   {
    "duration": 0,
    "start_time": "2022-06-29T01:19:32.760Z"
   },
   {
    "duration": 0,
    "start_time": "2022-06-29T01:19:32.761Z"
   },
   {
    "duration": 0,
    "start_time": "2022-06-29T01:19:32.762Z"
   },
   {
    "duration": 0,
    "start_time": "2022-06-29T01:19:32.763Z"
   },
   {
    "duration": 0,
    "start_time": "2022-06-29T01:19:32.764Z"
   },
   {
    "duration": 0,
    "start_time": "2022-06-29T01:19:32.765Z"
   },
   {
    "duration": 0,
    "start_time": "2022-06-29T01:19:32.766Z"
   },
   {
    "duration": 0,
    "start_time": "2022-06-29T01:19:32.767Z"
   },
   {
    "duration": 0,
    "start_time": "2022-06-29T01:19:32.768Z"
   },
   {
    "duration": 14,
    "start_time": "2022-06-29T01:20:19.701Z"
   },
   {
    "duration": 108,
    "start_time": "2022-06-29T01:20:38.467Z"
   },
   {
    "duration": 109,
    "start_time": "2022-06-29T01:20:43.926Z"
   },
   {
    "duration": 106,
    "start_time": "2022-06-29T01:20:49.438Z"
   },
   {
    "duration": 129,
    "start_time": "2022-06-29T01:20:57.293Z"
   },
   {
    "duration": 77,
    "start_time": "2022-06-29T01:21:14.012Z"
   },
   {
    "duration": 73,
    "start_time": "2022-06-29T01:22:03.869Z"
   },
   {
    "duration": 99,
    "start_time": "2022-06-29T01:22:17.752Z"
   },
   {
    "duration": 62,
    "start_time": "2022-06-29T01:23:19.066Z"
   },
   {
    "duration": 21,
    "start_time": "2022-06-29T01:23:21.251Z"
   },
   {
    "duration": 78,
    "start_time": "2022-06-29T01:23:33.589Z"
   },
   {
    "duration": 27,
    "start_time": "2022-06-29T01:24:08.990Z"
   },
   {
    "duration": 345,
    "start_time": "2022-06-29T01:25:15.900Z"
   },
   {
    "duration": 6,
    "start_time": "2022-06-29T01:25:16.247Z"
   },
   {
    "duration": 178,
    "start_time": "2022-06-29T01:25:16.255Z"
   },
   {
    "duration": 184,
    "start_time": "2022-06-29T01:25:16.435Z"
   },
   {
    "duration": 37,
    "start_time": "2022-06-29T01:25:16.621Z"
   },
   {
    "duration": 141,
    "start_time": "2022-06-29T01:25:16.659Z"
   },
   {
    "duration": 149,
    "start_time": "2022-06-29T01:25:16.802Z"
   },
   {
    "duration": 9,
    "start_time": "2022-06-29T01:25:16.953Z"
   },
   {
    "duration": 39,
    "start_time": "2022-06-29T01:25:16.963Z"
   },
   {
    "duration": 75,
    "start_time": "2022-06-29T01:25:17.005Z"
   },
   {
    "duration": 26,
    "start_time": "2022-06-29T01:25:17.081Z"
   },
   {
    "duration": 105,
    "start_time": "2022-06-29T01:25:17.108Z"
   },
   {
    "duration": 105,
    "start_time": "2022-06-29T01:25:17.215Z"
   },
   {
    "duration": 136,
    "start_time": "2022-06-29T01:25:17.322Z"
   },
   {
    "duration": 33,
    "start_time": "2022-06-29T01:25:17.460Z"
   },
   {
    "duration": 25,
    "start_time": "2022-06-29T01:25:17.494Z"
   },
   {
    "duration": 13,
    "start_time": "2022-06-29T01:25:17.520Z"
   },
   {
    "duration": 7,
    "start_time": "2022-06-29T01:25:17.551Z"
   },
   {
    "duration": 4,
    "start_time": "2022-06-29T01:25:17.559Z"
   },
   {
    "duration": 6,
    "start_time": "2022-06-29T01:25:17.565Z"
   },
   {
    "duration": 5,
    "start_time": "2022-06-29T01:25:17.573Z"
   },
   {
    "duration": 9,
    "start_time": "2022-06-29T01:25:17.580Z"
   },
   {
    "duration": 76,
    "start_time": "2022-06-29T01:25:17.591Z"
   },
   {
    "duration": 44,
    "start_time": "2022-06-29T01:25:17.669Z"
   },
   {
    "duration": 14,
    "start_time": "2022-06-29T01:25:17.715Z"
   },
   {
    "duration": 101,
    "start_time": "2022-06-29T01:25:17.751Z"
   },
   {
    "duration": 64,
    "start_time": "2022-06-29T01:25:17.854Z"
   },
   {
    "duration": 35,
    "start_time": "2022-06-29T01:25:17.921Z"
   },
   {
    "duration": 33,
    "start_time": "2022-06-29T01:25:17.957Z"
   },
   {
    "duration": 96,
    "start_time": "2022-06-29T01:25:17.992Z"
   },
   {
    "duration": 20,
    "start_time": "2022-06-29T01:25:18.090Z"
   },
   {
    "duration": 54,
    "start_time": "2022-06-29T01:25:18.112Z"
   },
   {
    "duration": 45,
    "start_time": "2022-06-29T01:25:18.167Z"
   },
   {
    "duration": 4,
    "start_time": "2022-06-29T01:25:18.214Z"
   },
   {
    "duration": 32,
    "start_time": "2022-06-29T01:25:18.220Z"
   },
   {
    "duration": 50,
    "start_time": "2022-06-29T01:25:18.254Z"
   },
   {
    "duration": 0,
    "start_time": "2022-06-29T01:25:18.306Z"
   },
   {
    "duration": 0,
    "start_time": "2022-06-29T01:25:18.307Z"
   },
   {
    "duration": 0,
    "start_time": "2022-06-29T01:25:18.309Z"
   },
   {
    "duration": 0,
    "start_time": "2022-06-29T01:25:18.310Z"
   },
   {
    "duration": 0,
    "start_time": "2022-06-29T01:25:18.311Z"
   },
   {
    "duration": 0,
    "start_time": "2022-06-29T01:25:18.312Z"
   },
   {
    "duration": 0,
    "start_time": "2022-06-29T01:25:18.313Z"
   },
   {
    "duration": 0,
    "start_time": "2022-06-29T01:25:18.314Z"
   },
   {
    "duration": 0,
    "start_time": "2022-06-29T01:25:18.315Z"
   },
   {
    "duration": 0,
    "start_time": "2022-06-29T01:25:18.316Z"
   },
   {
    "duration": 0,
    "start_time": "2022-06-29T01:25:18.317Z"
   },
   {
    "duration": 0,
    "start_time": "2022-06-29T01:25:18.318Z"
   },
   {
    "duration": 0,
    "start_time": "2022-06-29T01:25:18.319Z"
   },
   {
    "duration": 0,
    "start_time": "2022-06-29T01:25:18.320Z"
   },
   {
    "duration": 0,
    "start_time": "2022-06-29T01:25:18.320Z"
   },
   {
    "duration": 0,
    "start_time": "2022-06-29T01:25:18.321Z"
   },
   {
    "duration": 0,
    "start_time": "2022-06-29T01:25:18.322Z"
   },
   {
    "duration": 0,
    "start_time": "2022-06-29T01:25:18.323Z"
   },
   {
    "duration": 22,
    "start_time": "2022-06-29T01:25:36.202Z"
   },
   {
    "duration": 17,
    "start_time": "2022-06-29T01:25:39.842Z"
   },
   {
    "duration": 22,
    "start_time": "2022-06-29T01:25:40.806Z"
   },
   {
    "duration": 14,
    "start_time": "2022-06-29T01:25:42.370Z"
   },
   {
    "duration": 22,
    "start_time": "2022-06-29T01:25:42.781Z"
   },
   {
    "duration": 45,
    "start_time": "2022-06-29T01:25:43.279Z"
   },
   {
    "duration": 15,
    "start_time": "2022-06-29T01:25:48.614Z"
   },
   {
    "duration": 18,
    "start_time": "2022-06-29T01:25:49.443Z"
   },
   {
    "duration": 10,
    "start_time": "2022-06-29T01:25:50.651Z"
   },
   {
    "duration": 10,
    "start_time": "2022-06-29T01:25:51.066Z"
   },
   {
    "duration": 17,
    "start_time": "2022-06-29T01:25:51.472Z"
   },
   {
    "duration": 15,
    "start_time": "2022-06-29T01:25:57.372Z"
   },
   {
    "duration": 18,
    "start_time": "2022-06-29T01:25:57.775Z"
   },
   {
    "duration": 10,
    "start_time": "2022-06-29T01:25:58.474Z"
   },
   {
    "duration": 19,
    "start_time": "2022-06-29T01:25:58.952Z"
   },
   {
    "duration": 14,
    "start_time": "2022-06-29T01:25:59.415Z"
   },
   {
    "duration": 16,
    "start_time": "2022-06-29T01:26:00.093Z"
   },
   {
    "duration": 12,
    "start_time": "2022-06-29T01:40:20.587Z"
   },
   {
    "duration": 5,
    "start_time": "2022-06-29T01:41:23.690Z"
   },
   {
    "duration": 24,
    "start_time": "2022-06-29T01:41:29.366Z"
   },
   {
    "duration": 19,
    "start_time": "2022-06-29T01:44:06.993Z"
   },
   {
    "duration": 72,
    "start_time": "2022-06-29T01:49:53.668Z"
   },
   {
    "duration": 54,
    "start_time": "2022-06-29T01:55:31.599Z"
   },
   {
    "duration": 17,
    "start_time": "2022-06-29T01:55:40.748Z"
   },
   {
    "duration": 19,
    "start_time": "2022-06-29T01:56:01.172Z"
   },
   {
    "duration": 24,
    "start_time": "2022-06-29T01:56:18.840Z"
   },
   {
    "duration": 22,
    "start_time": "2022-06-29T01:56:50.389Z"
   },
   {
    "duration": 22,
    "start_time": "2022-06-29T01:57:34.531Z"
   },
   {
    "duration": 17,
    "start_time": "2022-06-29T01:59:08.317Z"
   },
   {
    "duration": 18,
    "start_time": "2022-06-29T01:59:46.833Z"
   },
   {
    "duration": 18,
    "start_time": "2022-06-29T02:00:33.153Z"
   },
   {
    "duration": 2857,
    "start_time": "2022-06-29T02:02:38.377Z"
   },
   {
    "duration": 1156,
    "start_time": "2022-06-29T02:03:42.626Z"
   },
   {
    "duration": 1002,
    "start_time": "2022-06-29T02:04:08.881Z"
   },
   {
    "duration": 12,
    "start_time": "2022-06-29T02:04:44.722Z"
   },
   {
    "duration": 8,
    "start_time": "2022-06-29T02:05:42.145Z"
   },
   {
    "duration": 11,
    "start_time": "2022-06-29T02:05:53.591Z"
   },
   {
    "duration": 2,
    "start_time": "2022-06-29T02:06:26.723Z"
   },
   {
    "duration": 13,
    "start_time": "2022-06-29T02:06:33.365Z"
   },
   {
    "duration": 913,
    "start_time": "2022-06-29T02:07:23.968Z"
   },
   {
    "duration": 956,
    "start_time": "2022-06-29T02:07:57.831Z"
   },
   {
    "duration": 861,
    "start_time": "2022-06-29T02:08:01.549Z"
   },
   {
    "duration": 13,
    "start_time": "2022-06-29T02:09:46.615Z"
   },
   {
    "duration": 60,
    "start_time": "2022-06-29T02:10:58.315Z"
   },
   {
    "duration": 12,
    "start_time": "2022-06-29T02:11:03.406Z"
   },
   {
    "duration": 15,
    "start_time": "2022-06-29T02:11:50.923Z"
   },
   {
    "duration": 13,
    "start_time": "2022-06-29T02:12:17.694Z"
   },
   {
    "duration": 7,
    "start_time": "2022-06-29T02:13:01.799Z"
   },
   {
    "duration": 19,
    "start_time": "2022-06-29T02:13:03.801Z"
   },
   {
    "duration": 6,
    "start_time": "2022-06-29T02:13:14.065Z"
   },
   {
    "duration": 22,
    "start_time": "2022-06-29T02:13:15.932Z"
   },
   {
    "duration": 21,
    "start_time": "2022-06-29T02:13:43.146Z"
   },
   {
    "duration": 12,
    "start_time": "2022-06-29T02:13:57.629Z"
   },
   {
    "duration": 13,
    "start_time": "2022-06-29T02:14:17.325Z"
   },
   {
    "duration": 22,
    "start_time": "2022-06-29T02:15:05.835Z"
   },
   {
    "duration": 26,
    "start_time": "2022-06-29T02:15:36.045Z"
   },
   {
    "duration": 14,
    "start_time": "2022-06-29T02:16:12.992Z"
   },
   {
    "duration": 17,
    "start_time": "2022-06-29T02:16:40.231Z"
   },
   {
    "duration": 13,
    "start_time": "2022-06-29T02:16:53.718Z"
   },
   {
    "duration": 17,
    "start_time": "2022-06-29T02:18:38.699Z"
   },
   {
    "duration": 19,
    "start_time": "2022-06-29T02:19:06.039Z"
   },
   {
    "duration": 13,
    "start_time": "2022-06-29T02:19:23.765Z"
   },
   {
    "duration": 18,
    "start_time": "2022-06-29T02:19:31.080Z"
   },
   {
    "duration": 2959,
    "start_time": "2022-06-29T02:19:33.608Z"
   },
   {
    "duration": 13,
    "start_time": "2022-06-29T02:19:41.695Z"
   },
   {
    "duration": 14,
    "start_time": "2022-06-29T02:33:45.127Z"
   },
   {
    "duration": 3,
    "start_time": "2022-06-29T02:33:51.229Z"
   },
   {
    "duration": 10,
    "start_time": "2022-06-29T02:33:52.739Z"
   },
   {
    "duration": 14,
    "start_time": "2022-06-29T02:33:56.543Z"
   },
   {
    "duration": 5,
    "start_time": "2022-06-29T02:35:31.372Z"
   },
   {
    "duration": 2,
    "start_time": "2022-06-29T02:35:33.170Z"
   },
   {
    "duration": 10,
    "start_time": "2022-06-29T02:35:34.217Z"
   },
   {
    "duration": 16,
    "start_time": "2022-06-29T02:35:36.615Z"
   },
   {
    "duration": 7,
    "start_time": "2022-06-29T02:36:16.116Z"
   },
   {
    "duration": 15,
    "start_time": "2022-06-29T02:36:18.000Z"
   },
   {
    "duration": 3,
    "start_time": "2022-06-29T02:36:22.231Z"
   },
   {
    "duration": 9,
    "start_time": "2022-06-29T02:36:23.764Z"
   },
   {
    "duration": 15,
    "start_time": "2022-06-29T02:36:25.417Z"
   },
   {
    "duration": 21,
    "start_time": "2022-06-29T02:36:47.153Z"
   },
   {
    "duration": 8,
    "start_time": "2022-06-29T02:38:12.124Z"
   },
   {
    "duration": 13,
    "start_time": "2022-06-29T02:38:14.585Z"
   },
   {
    "duration": 3,
    "start_time": "2022-06-29T02:38:22.570Z"
   },
   {
    "duration": 15,
    "start_time": "2022-06-29T02:38:24.471Z"
   },
   {
    "duration": 13,
    "start_time": "2022-06-29T02:38:27.653Z"
   },
   {
    "duration": 10,
    "start_time": "2022-06-29T02:39:26.312Z"
   },
   {
    "duration": 13,
    "start_time": "2022-06-29T02:39:34.932Z"
   },
   {
    "duration": 4,
    "start_time": "2022-06-29T02:39:37.585Z"
   },
   {
    "duration": 14,
    "start_time": "2022-06-29T02:39:39.367Z"
   },
   {
    "duration": 13,
    "start_time": "2022-06-29T02:39:54.167Z"
   },
   {
    "duration": 5,
    "start_time": "2022-06-29T02:40:02.300Z"
   },
   {
    "duration": 14,
    "start_time": "2022-06-29T02:40:03.717Z"
   },
   {
    "duration": 15,
    "start_time": "2022-06-29T02:41:36.667Z"
   },
   {
    "duration": 13,
    "start_time": "2022-06-29T02:41:38.420Z"
   },
   {
    "duration": 56,
    "start_time": "2022-06-29T02:42:34.051Z"
   },
   {
    "duration": 58,
    "start_time": "2022-06-29T02:42:47.389Z"
   },
   {
    "duration": 58,
    "start_time": "2022-06-29T02:45:56.001Z"
   },
   {
    "duration": 52,
    "start_time": "2022-06-29T02:47:25.265Z"
   },
   {
    "duration": 52,
    "start_time": "2022-06-29T02:47:31.865Z"
   },
   {
    "duration": 58,
    "start_time": "2022-06-29T02:49:08.844Z"
   },
   {
    "duration": 55,
    "start_time": "2022-06-29T02:51:07.552Z"
   },
   {
    "duration": 58,
    "start_time": "2022-06-29T02:51:32.077Z"
   },
   {
    "duration": 58,
    "start_time": "2022-06-29T02:52:47.785Z"
   },
   {
    "duration": 53,
    "start_time": "2022-06-29T02:53:57.852Z"
   },
   {
    "duration": 10,
    "start_time": "2022-06-29T02:56:04.417Z"
   },
   {
    "duration": 7,
    "start_time": "2022-06-29T02:56:12.240Z"
   },
   {
    "duration": 20,
    "start_time": "2022-06-29T02:56:20.085Z"
   },
   {
    "duration": 29,
    "start_time": "2022-06-29T02:57:08.266Z"
   },
   {
    "duration": 50,
    "start_time": "2022-06-29T02:57:25.584Z"
   },
   {
    "duration": 53,
    "start_time": "2022-06-29T02:57:30.678Z"
   },
   {
    "duration": 60,
    "start_time": "2022-06-29T02:57:37.731Z"
   },
   {
    "duration": 59,
    "start_time": "2022-06-29T02:57:53.808Z"
   },
   {
    "duration": 53,
    "start_time": "2022-06-29T02:58:27.494Z"
   },
   {
    "duration": 53,
    "start_time": "2022-06-29T02:58:39.316Z"
   },
   {
    "duration": 60,
    "start_time": "2022-06-29T02:58:50.577Z"
   },
   {
    "duration": 60,
    "start_time": "2022-06-29T03:00:03.516Z"
   },
   {
    "duration": 51,
    "start_time": "2022-06-29T03:00:15.325Z"
   },
   {
    "duration": 67,
    "start_time": "2022-06-29T03:00:21.436Z"
   },
   {
    "duration": 6,
    "start_time": "2022-06-29T03:00:49.876Z"
   },
   {
    "duration": 14,
    "start_time": "2022-06-29T03:00:51.902Z"
   },
   {
    "duration": 5,
    "start_time": "2022-06-29T03:01:08.387Z"
   },
   {
    "duration": 17,
    "start_time": "2022-06-29T03:01:10.206Z"
   },
   {
    "duration": 65,
    "start_time": "2022-06-29T04:11:29.307Z"
   },
   {
    "duration": 66,
    "start_time": "2022-06-29T04:11:31.594Z"
   },
   {
    "duration": 64,
    "start_time": "2022-06-29T04:12:05.566Z"
   },
   {
    "duration": 75,
    "start_time": "2022-06-29T04:12:15.130Z"
   },
   {
    "duration": 61,
    "start_time": "2022-06-29T04:12:31.185Z"
   },
   {
    "duration": 59,
    "start_time": "2022-06-29T04:12:58.283Z"
   },
   {
    "duration": 70,
    "start_time": "2022-06-29T04:13:13.979Z"
   },
   {
    "duration": 84,
    "start_time": "2022-06-29T04:13:27.256Z"
   },
   {
    "duration": 57,
    "start_time": "2022-06-29T04:14:43.692Z"
   },
   {
    "duration": 71,
    "start_time": "2022-06-29T04:15:00.862Z"
   },
   {
    "duration": 67,
    "start_time": "2022-06-29T04:15:13.397Z"
   },
   {
    "duration": 69,
    "start_time": "2022-06-29T04:15:25.134Z"
   },
   {
    "duration": 65,
    "start_time": "2022-06-29T04:15:39.642Z"
   },
   {
    "duration": 77,
    "start_time": "2022-06-29T04:16:12.922Z"
   },
   {
    "duration": 76,
    "start_time": "2022-06-29T04:16:21.833Z"
   },
   {
    "duration": 10,
    "start_time": "2022-06-29T04:17:00.588Z"
   },
   {
    "duration": 21,
    "start_time": "2022-06-29T04:17:09.239Z"
   },
   {
    "duration": 6,
    "start_time": "2022-06-29T04:17:23.687Z"
   },
   {
    "duration": 14,
    "start_time": "2022-06-29T04:17:25.628Z"
   },
   {
    "duration": 12,
    "start_time": "2022-06-29T04:19:32.864Z"
   },
   {
    "duration": 4,
    "start_time": "2022-06-29T04:19:56.071Z"
   },
   {
    "duration": 426,
    "start_time": "2022-06-29T04:20:33.640Z"
   },
   {
    "duration": 4,
    "start_time": "2022-06-29T04:20:34.068Z"
   },
   {
    "duration": 202,
    "start_time": "2022-06-29T04:20:34.074Z"
   },
   {
    "duration": 244,
    "start_time": "2022-06-29T04:20:34.279Z"
   },
   {
    "duration": 49,
    "start_time": "2022-06-29T04:20:34.526Z"
   },
   {
    "duration": 169,
    "start_time": "2022-06-29T04:20:34.577Z"
   },
   {
    "duration": 162,
    "start_time": "2022-06-29T04:20:34.747Z"
   },
   {
    "duration": 10,
    "start_time": "2022-06-29T04:20:34.911Z"
   },
   {
    "duration": 63,
    "start_time": "2022-06-29T04:20:34.923Z"
   },
   {
    "duration": 81,
    "start_time": "2022-06-29T04:20:34.988Z"
   },
   {
    "duration": 32,
    "start_time": "2022-06-29T04:20:35.072Z"
   },
   {
    "duration": 114,
    "start_time": "2022-06-29T04:20:35.107Z"
   },
   {
    "duration": 113,
    "start_time": "2022-06-29T04:20:35.223Z"
   },
   {
    "duration": 157,
    "start_time": "2022-06-29T04:20:35.338Z"
   },
   {
    "duration": 22,
    "start_time": "2022-06-29T04:20:35.497Z"
   },
   {
    "duration": 46,
    "start_time": "2022-06-29T04:20:35.520Z"
   },
   {
    "duration": 16,
    "start_time": "2022-06-29T04:20:35.568Z"
   },
   {
    "duration": 11,
    "start_time": "2022-06-29T04:20:35.586Z"
   },
   {
    "duration": 7,
    "start_time": "2022-06-29T04:20:35.598Z"
   },
   {
    "duration": 4,
    "start_time": "2022-06-29T04:20:35.607Z"
   },
   {
    "duration": 42,
    "start_time": "2022-06-29T04:20:35.613Z"
   },
   {
    "duration": 19,
    "start_time": "2022-06-29T04:20:35.658Z"
   },
   {
    "duration": 32,
    "start_time": "2022-06-29T04:20:35.678Z"
   },
   {
    "duration": 54,
    "start_time": "2022-06-29T04:20:35.712Z"
   },
   {
    "duration": 15,
    "start_time": "2022-06-29T04:20:35.768Z"
   },
   {
    "duration": 105,
    "start_time": "2022-06-29T04:20:35.784Z"
   },
   {
    "duration": 74,
    "start_time": "2022-06-29T04:20:35.890Z"
   },
   {
    "duration": 26,
    "start_time": "2022-06-29T04:20:35.966Z"
   },
   {
    "duration": 33,
    "start_time": "2022-06-29T04:20:35.994Z"
   },
   {
    "duration": 73,
    "start_time": "2022-06-29T04:20:36.029Z"
   },
   {
    "duration": 22,
    "start_time": "2022-06-29T04:20:36.104Z"
   },
   {
    "duration": 58,
    "start_time": "2022-06-29T04:20:36.127Z"
   },
   {
    "duration": 80,
    "start_time": "2022-06-29T04:20:36.187Z"
   },
   {
    "duration": 7,
    "start_time": "2022-06-29T04:20:36.269Z"
   },
   {
    "duration": 15,
    "start_time": "2022-06-29T04:20:36.278Z"
   },
   {
    "duration": 17,
    "start_time": "2022-06-29T04:20:36.295Z"
   },
   {
    "duration": 48,
    "start_time": "2022-06-29T04:20:36.313Z"
   },
   {
    "duration": 43,
    "start_time": "2022-06-29T04:20:36.364Z"
   },
   {
    "duration": 14,
    "start_time": "2022-06-29T04:20:36.410Z"
   },
   {
    "duration": 30,
    "start_time": "2022-06-29T04:20:36.425Z"
   },
   {
    "duration": 25,
    "start_time": "2022-06-29T04:20:36.459Z"
   },
   {
    "duration": 22,
    "start_time": "2022-06-29T04:20:36.486Z"
   },
   {
    "duration": 11,
    "start_time": "2022-06-29T04:20:36.510Z"
   },
   {
    "duration": 16,
    "start_time": "2022-06-29T04:20:36.552Z"
   },
   {
    "duration": 16,
    "start_time": "2022-06-29T04:20:36.570Z"
   },
   {
    "duration": 17,
    "start_time": "2022-06-29T04:20:36.587Z"
   },
   {
    "duration": 46,
    "start_time": "2022-06-29T04:20:36.606Z"
   },
   {
    "duration": 15,
    "start_time": "2022-06-29T04:20:36.657Z"
   },
   {
    "duration": 23,
    "start_time": "2022-06-29T04:20:36.673Z"
   },
   {
    "duration": 17,
    "start_time": "2022-06-29T04:20:36.698Z"
   },
   {
    "duration": 19,
    "start_time": "2022-06-29T04:20:36.716Z"
   },
   {
    "duration": 21,
    "start_time": "2022-06-29T04:20:36.751Z"
   },
   {
    "duration": 8,
    "start_time": "2022-06-29T04:20:36.774Z"
   },
   {
    "duration": 19,
    "start_time": "2022-06-29T04:20:36.784Z"
   },
   {
    "duration": 16,
    "start_time": "2022-06-29T04:20:36.805Z"
   },
   {
    "duration": 22,
    "start_time": "2022-06-29T04:20:36.851Z"
   },
   {
    "duration": 3423,
    "start_time": "2022-06-29T04:20:36.875Z"
   },
   {
    "duration": 15,
    "start_time": "2022-06-29T04:20:40.300Z"
   },
   {
    "duration": 41,
    "start_time": "2022-06-29T04:20:40.317Z"
   },
   {
    "duration": 18,
    "start_time": "2022-06-29T04:20:40.359Z"
   },
   {
    "duration": 9,
    "start_time": "2022-06-29T04:20:40.379Z"
   },
   {
    "duration": 21,
    "start_time": "2022-06-29T04:20:40.390Z"
   },
   {
    "duration": 74,
    "start_time": "2022-06-29T04:20:40.413Z"
   },
   {
    "duration": 13,
    "start_time": "2022-06-29T04:20:40.489Z"
   },
   {
    "duration": 16,
    "start_time": "2022-06-29T04:22:16.282Z"
   },
   {
    "duration": 92,
    "start_time": "2022-06-29T04:23:18.836Z"
   },
   {
    "duration": 15,
    "start_time": "2022-06-29T04:23:22.667Z"
   },
   {
    "duration": 24,
    "start_time": "2022-06-29T04:23:34.227Z"
   },
   {
    "duration": 15,
    "start_time": "2022-06-29T04:24:28.990Z"
   },
   {
    "duration": 14,
    "start_time": "2022-06-29T04:24:49.166Z"
   },
   {
    "duration": 15,
    "start_time": "2022-06-29T04:25:00.769Z"
   },
   {
    "duration": 12,
    "start_time": "2022-06-29T04:26:01.154Z"
   },
   {
    "duration": 14,
    "start_time": "2022-06-29T04:26:02.827Z"
   },
   {
    "duration": 404,
    "start_time": "2022-06-29T04:28:07.327Z"
   },
   {
    "duration": 4,
    "start_time": "2022-06-29T04:28:07.732Z"
   },
   {
    "duration": 183,
    "start_time": "2022-06-29T04:28:07.738Z"
   },
   {
    "duration": 202,
    "start_time": "2022-06-29T04:28:07.922Z"
   },
   {
    "duration": 34,
    "start_time": "2022-06-29T04:28:08.126Z"
   },
   {
    "duration": 151,
    "start_time": "2022-06-29T04:28:08.162Z"
   },
   {
    "duration": 163,
    "start_time": "2022-06-29T04:28:08.315Z"
   },
   {
    "duration": 11,
    "start_time": "2022-06-29T04:28:08.480Z"
   },
   {
    "duration": 41,
    "start_time": "2022-06-29T04:28:08.493Z"
   },
   {
    "duration": 67,
    "start_time": "2022-06-29T04:28:08.550Z"
   },
   {
    "duration": 47,
    "start_time": "2022-06-29T04:28:08.618Z"
   },
   {
    "duration": 101,
    "start_time": "2022-06-29T04:28:08.667Z"
   },
   {
    "duration": 112,
    "start_time": "2022-06-29T04:28:08.770Z"
   },
   {
    "duration": 174,
    "start_time": "2022-06-29T04:28:08.883Z"
   },
   {
    "duration": 23,
    "start_time": "2022-06-29T04:28:09.059Z"
   },
   {
    "duration": 26,
    "start_time": "2022-06-29T04:28:09.084Z"
   },
   {
    "duration": 53,
    "start_time": "2022-06-29T04:28:09.112Z"
   },
   {
    "duration": 11,
    "start_time": "2022-06-29T04:28:09.167Z"
   },
   {
    "duration": 5,
    "start_time": "2022-06-29T04:28:09.181Z"
   },
   {
    "duration": 7,
    "start_time": "2022-06-29T04:28:09.187Z"
   },
   {
    "duration": 6,
    "start_time": "2022-06-29T04:28:09.195Z"
   },
   {
    "duration": 50,
    "start_time": "2022-06-29T04:28:09.203Z"
   },
   {
    "duration": 31,
    "start_time": "2022-06-29T04:28:09.256Z"
   },
   {
    "duration": 34,
    "start_time": "2022-06-29T04:28:09.289Z"
   },
   {
    "duration": 40,
    "start_time": "2022-06-29T04:28:09.325Z"
   },
   {
    "duration": 116,
    "start_time": "2022-06-29T04:28:09.367Z"
   },
   {
    "duration": 66,
    "start_time": "2022-06-29T04:28:09.485Z"
   },
   {
    "duration": 20,
    "start_time": "2022-06-29T04:28:09.555Z"
   },
   {
    "duration": 33,
    "start_time": "2022-06-29T04:28:09.576Z"
   },
   {
    "duration": 76,
    "start_time": "2022-06-29T04:28:09.611Z"
   },
   {
    "duration": 21,
    "start_time": "2022-06-29T04:28:09.689Z"
   },
   {
    "duration": 57,
    "start_time": "2022-06-29T04:28:09.711Z"
   },
   {
    "duration": 45,
    "start_time": "2022-06-29T04:28:09.770Z"
   },
   {
    "duration": 5,
    "start_time": "2022-06-29T04:28:09.817Z"
   },
   {
    "duration": 33,
    "start_time": "2022-06-29T04:28:09.823Z"
   },
   {
    "duration": 16,
    "start_time": "2022-06-29T04:28:09.857Z"
   },
   {
    "duration": 17,
    "start_time": "2022-06-29T04:28:09.875Z"
   },
   {
    "duration": 23,
    "start_time": "2022-06-29T04:28:09.893Z"
   },
   {
    "duration": 37,
    "start_time": "2022-06-29T04:28:09.918Z"
   },
   {
    "duration": 14,
    "start_time": "2022-06-29T04:28:09.957Z"
   },
   {
    "duration": 18,
    "start_time": "2022-06-29T04:28:09.973Z"
   },
   {
    "duration": 19,
    "start_time": "2022-06-29T04:28:09.992Z"
   },
   {
    "duration": 38,
    "start_time": "2022-06-29T04:28:10.013Z"
   },
   {
    "duration": 13,
    "start_time": "2022-06-29T04:28:10.052Z"
   },
   {
    "duration": 19,
    "start_time": "2022-06-29T04:28:10.066Z"
   },
   {
    "duration": 15,
    "start_time": "2022-06-29T04:28:10.086Z"
   },
   {
    "duration": 16,
    "start_time": "2022-06-29T04:28:10.103Z"
   },
   {
    "duration": 33,
    "start_time": "2022-06-29T04:28:10.120Z"
   },
   {
    "duration": 22,
    "start_time": "2022-06-29T04:28:10.155Z"
   },
   {
    "duration": 16,
    "start_time": "2022-06-29T04:28:10.179Z"
   },
   {
    "duration": 22,
    "start_time": "2022-06-29T04:28:10.197Z"
   },
   {
    "duration": 44,
    "start_time": "2022-06-29T04:28:10.221Z"
   },
   {
    "duration": 16,
    "start_time": "2022-06-29T04:28:10.267Z"
   },
   {
    "duration": 20,
    "start_time": "2022-06-29T04:28:10.285Z"
   },
   {
    "duration": 17,
    "start_time": "2022-06-29T04:28:10.307Z"
   },
   {
    "duration": 40,
    "start_time": "2022-06-29T04:28:10.325Z"
   },
   {
    "duration": 3266,
    "start_time": "2022-06-29T04:28:10.366Z"
   },
   {
    "duration": 20,
    "start_time": "2022-06-29T04:28:13.634Z"
   },
   {
    "duration": 52,
    "start_time": "2022-06-29T04:28:13.656Z"
   },
   {
    "duration": 0,
    "start_time": "2022-06-29T04:28:13.710Z"
   },
   {
    "duration": 0,
    "start_time": "2022-06-29T04:28:13.711Z"
   },
   {
    "duration": 0,
    "start_time": "2022-06-29T04:28:13.712Z"
   },
   {
    "duration": 0,
    "start_time": "2022-06-29T04:28:13.713Z"
   },
   {
    "duration": 0,
    "start_time": "2022-06-29T04:28:13.714Z"
   },
   {
    "duration": 0,
    "start_time": "2022-06-29T04:28:13.715Z"
   },
   {
    "duration": 0,
    "start_time": "2022-06-29T04:28:13.716Z"
   },
   {
    "duration": 0,
    "start_time": "2022-06-29T04:28:13.717Z"
   },
   {
    "duration": 0,
    "start_time": "2022-06-29T04:28:13.718Z"
   },
   {
    "duration": 22,
    "start_time": "2022-06-29T04:28:21.720Z"
   },
   {
    "duration": 4,
    "start_time": "2022-06-29T04:29:49.579Z"
   },
   {
    "duration": 19,
    "start_time": "2022-06-29T04:29:50.222Z"
   },
   {
    "duration": 15,
    "start_time": "2022-06-29T04:29:50.942Z"
   },
   {
    "duration": 11,
    "start_time": "2022-06-29T04:30:05.936Z"
   },
   {
    "duration": 14,
    "start_time": "2022-06-29T04:30:06.553Z"
   },
   {
    "duration": 14,
    "start_time": "2022-06-29T04:31:00.233Z"
   },
   {
    "duration": 14,
    "start_time": "2022-06-29T04:31:01.264Z"
   },
   {
    "duration": 23,
    "start_time": "2022-06-29T04:55:45.362Z"
   },
   {
    "duration": 11,
    "start_time": "2022-06-29T04:56:47.991Z"
   },
   {
    "duration": 16,
    "start_time": "2022-06-29T05:05:04.333Z"
   },
   {
    "duration": 6,
    "start_time": "2022-06-29T05:05:06.835Z"
   },
   {
    "duration": 13,
    "start_time": "2022-06-29T05:05:08.915Z"
   },
   {
    "duration": 54,
    "start_time": "2022-06-29T05:06:03.517Z"
   },
   {
    "duration": 4,
    "start_time": "2022-06-29T05:06:07.631Z"
   },
   {
    "duration": 245,
    "start_time": "2022-06-29T05:06:08.946Z"
   },
   {
    "duration": 14,
    "start_time": "2022-06-29T05:06:13.172Z"
   },
   {
    "duration": 4,
    "start_time": "2022-06-29T05:06:36.078Z"
   },
   {
    "duration": 1205,
    "start_time": "2022-06-29T05:06:37.684Z"
   },
   {
    "duration": 18,
    "start_time": "2022-06-29T05:06:43.322Z"
   },
   {
    "duration": 2781,
    "start_time": "2022-06-29T05:07:18.893Z"
   },
   {
    "duration": 0,
    "start_time": "2022-06-29T05:07:21.676Z"
   },
   {
    "duration": 371,
    "start_time": "2022-06-29T05:08:58.562Z"
   },
   {
    "duration": 4,
    "start_time": "2022-06-29T05:08:58.934Z"
   },
   {
    "duration": 163,
    "start_time": "2022-06-29T05:08:58.939Z"
   },
   {
    "duration": 182,
    "start_time": "2022-06-29T05:08:59.104Z"
   },
   {
    "duration": 21,
    "start_time": "2022-06-29T05:08:59.288Z"
   },
   {
    "duration": 141,
    "start_time": "2022-06-29T05:08:59.310Z"
   },
   {
    "duration": 148,
    "start_time": "2022-06-29T05:08:59.453Z"
   },
   {
    "duration": 9,
    "start_time": "2022-06-29T05:08:59.602Z"
   },
   {
    "duration": 43,
    "start_time": "2022-06-29T05:08:59.612Z"
   },
   {
    "duration": 56,
    "start_time": "2022-06-29T05:08:59.656Z"
   },
   {
    "duration": 45,
    "start_time": "2022-06-29T05:08:59.713Z"
   },
   {
    "duration": 72,
    "start_time": "2022-06-29T05:08:59.759Z"
   },
   {
    "duration": 107,
    "start_time": "2022-06-29T05:08:59.833Z"
   },
   {
    "duration": 157,
    "start_time": "2022-06-29T05:08:59.942Z"
   },
   {
    "duration": 24,
    "start_time": "2022-06-29T05:09:00.100Z"
   },
   {
    "duration": 31,
    "start_time": "2022-06-29T05:09:00.126Z"
   },
   {
    "duration": 17,
    "start_time": "2022-06-29T05:09:00.160Z"
   },
   {
    "duration": 14,
    "start_time": "2022-06-29T05:09:00.179Z"
   },
   {
    "duration": 5,
    "start_time": "2022-06-29T05:09:00.195Z"
   },
   {
    "duration": 32,
    "start_time": "2022-06-29T05:09:00.202Z"
   },
   {
    "duration": 18,
    "start_time": "2022-06-29T05:09:00.236Z"
   },
   {
    "duration": 11,
    "start_time": "2022-06-29T05:09:00.257Z"
   },
   {
    "duration": 39,
    "start_time": "2022-06-29T05:09:00.270Z"
   },
   {
    "duration": 52,
    "start_time": "2022-06-29T05:09:00.310Z"
   },
   {
    "duration": 13,
    "start_time": "2022-06-29T05:09:00.364Z"
   },
   {
    "duration": 92,
    "start_time": "2022-06-29T05:09:00.379Z"
   },
   {
    "duration": 59,
    "start_time": "2022-06-29T05:09:00.473Z"
   },
   {
    "duration": 42,
    "start_time": "2022-06-29T05:09:00.534Z"
   },
   {
    "duration": 41,
    "start_time": "2022-06-29T05:09:00.578Z"
   },
   {
    "duration": 78,
    "start_time": "2022-06-29T05:09:00.621Z"
   },
   {
    "duration": 20,
    "start_time": "2022-06-29T05:09:00.701Z"
   },
   {
    "duration": 60,
    "start_time": "2022-06-29T05:09:00.723Z"
   },
   {
    "duration": 48,
    "start_time": "2022-06-29T05:09:00.784Z"
   },
   {
    "duration": 17,
    "start_time": "2022-06-29T05:09:00.834Z"
   },
   {
    "duration": 8,
    "start_time": "2022-06-29T05:09:00.852Z"
   },
   {
    "duration": 18,
    "start_time": "2022-06-29T05:09:00.862Z"
   },
   {
    "duration": 22,
    "start_time": "2022-06-29T05:09:00.881Z"
   },
   {
    "duration": 47,
    "start_time": "2022-06-29T05:09:00.904Z"
   },
   {
    "duration": 18,
    "start_time": "2022-06-29T05:09:00.952Z"
   },
   {
    "duration": 20,
    "start_time": "2022-06-29T05:09:00.972Z"
   },
   {
    "duration": 24,
    "start_time": "2022-06-29T05:09:00.995Z"
   },
   {
    "duration": 25,
    "start_time": "2022-06-29T05:09:01.020Z"
   },
   {
    "duration": 24,
    "start_time": "2022-06-29T05:09:01.047Z"
   },
   {
    "duration": 38,
    "start_time": "2022-06-29T05:09:01.072Z"
   },
   {
    "duration": 21,
    "start_time": "2022-06-29T05:09:01.112Z"
   },
   {
    "duration": 24,
    "start_time": "2022-06-29T05:09:01.134Z"
   },
   {
    "duration": 20,
    "start_time": "2022-06-29T05:09:01.160Z"
   },
   {
    "duration": 18,
    "start_time": "2022-06-29T05:09:01.182Z"
   },
   {
    "duration": 33,
    "start_time": "2022-06-29T05:09:01.201Z"
   },
   {
    "duration": 20,
    "start_time": "2022-06-29T05:09:01.236Z"
   },
   {
    "duration": 28,
    "start_time": "2022-06-29T05:09:01.258Z"
   },
   {
    "duration": 18,
    "start_time": "2022-06-29T05:09:01.287Z"
   },
   {
    "duration": 6,
    "start_time": "2022-06-29T05:09:01.307Z"
   },
   {
    "duration": 26,
    "start_time": "2022-06-29T05:09:01.314Z"
   },
   {
    "duration": 15,
    "start_time": "2022-06-29T05:09:01.341Z"
   },
   {
    "duration": 35,
    "start_time": "2022-06-29T05:09:01.357Z"
   },
   {
    "duration": 3099,
    "start_time": "2022-06-29T05:09:01.394Z"
   },
   {
    "duration": 17,
    "start_time": "2022-06-29T05:09:04.495Z"
   },
   {
    "duration": 38,
    "start_time": "2022-06-29T05:09:04.513Z"
   },
   {
    "duration": 3,
    "start_time": "2022-06-29T05:09:04.553Z"
   },
   {
    "duration": 6,
    "start_time": "2022-06-29T05:09:04.557Z"
   },
   {
    "duration": 14,
    "start_time": "2022-06-29T05:09:04.565Z"
   },
   {
    "duration": 3,
    "start_time": "2022-06-29T05:09:04.580Z"
   },
   {
    "duration": 1104,
    "start_time": "2022-06-29T05:09:04.585Z"
   },
   {
    "duration": 1423,
    "start_time": "2022-06-29T05:09:05.690Z"
   },
   {
    "duration": 0,
    "start_time": "2022-06-29T05:09:07.114Z"
   },
   {
    "duration": 0,
    "start_time": "2022-06-29T05:09:07.115Z"
   },
   {
    "duration": 0,
    "start_time": "2022-06-29T05:09:07.116Z"
   },
   {
    "duration": 0,
    "start_time": "2022-06-29T05:09:07.117Z"
   },
   {
    "duration": 0,
    "start_time": "2022-06-29T05:09:07.118Z"
   },
   {
    "duration": 0,
    "start_time": "2022-06-29T05:09:07.119Z"
   },
   {
    "duration": 0,
    "start_time": "2022-06-29T05:09:07.120Z"
   },
   {
    "duration": 0,
    "start_time": "2022-06-29T05:09:07.120Z"
   },
   {
    "duration": 0,
    "start_time": "2022-06-29T05:09:07.121Z"
   },
   {
    "duration": 0,
    "start_time": "2022-06-29T05:09:07.122Z"
   },
   {
    "duration": 0,
    "start_time": "2022-06-29T05:09:07.123Z"
   },
   {
    "duration": 7,
    "start_time": "2022-06-29T05:10:54.165Z"
   },
   {
    "duration": 3,
    "start_time": "2022-06-29T05:11:38.421Z"
   },
   {
    "duration": 3,
    "start_time": "2022-06-29T05:11:41.504Z"
   },
   {
    "duration": 17,
    "start_time": "2022-06-29T05:20:17.932Z"
   },
   {
    "duration": 6,
    "start_time": "2022-06-29T05:21:40.312Z"
   },
   {
    "duration": 12,
    "start_time": "2022-06-29T05:21:48.949Z"
   },
   {
    "duration": 5,
    "start_time": "2022-06-29T05:22:02.565Z"
   },
   {
    "duration": 13,
    "start_time": "2022-06-29T05:22:08.461Z"
   },
   {
    "duration": 6,
    "start_time": "2022-06-29T05:22:18.562Z"
   },
   {
    "duration": 12,
    "start_time": "2022-06-29T05:22:19.214Z"
   },
   {
    "duration": 10,
    "start_time": "2022-06-29T05:22:35.261Z"
   },
   {
    "duration": 19,
    "start_time": "2022-06-29T05:22:36.863Z"
   },
   {
    "duration": 490,
    "start_time": "2022-06-29T07:39:56.926Z"
   },
   {
    "duration": 4,
    "start_time": "2022-06-29T07:39:57.419Z"
   },
   {
    "duration": 303,
    "start_time": "2022-06-29T07:39:57.425Z"
   },
   {
    "duration": 202,
    "start_time": "2022-06-29T07:39:57.730Z"
   },
   {
    "duration": 36,
    "start_time": "2022-06-29T07:39:57.934Z"
   },
   {
    "duration": 359,
    "start_time": "2022-06-29T07:39:57.972Z"
   },
   {
    "duration": 150,
    "start_time": "2022-06-29T07:39:58.332Z"
   },
   {
    "duration": 10,
    "start_time": "2022-06-29T07:39:58.483Z"
   },
   {
    "duration": 77,
    "start_time": "2022-06-29T07:39:58.495Z"
   },
   {
    "duration": 64,
    "start_time": "2022-06-29T07:39:58.574Z"
   },
   {
    "duration": 39,
    "start_time": "2022-06-29T07:39:58.650Z"
   },
   {
    "duration": 105,
    "start_time": "2022-06-29T07:39:58.691Z"
   },
   {
    "duration": 169,
    "start_time": "2022-06-29T07:39:58.797Z"
   },
   {
    "duration": 143,
    "start_time": "2022-06-29T07:39:58.969Z"
   },
   {
    "duration": 50,
    "start_time": "2022-06-29T07:39:59.114Z"
   },
   {
    "duration": 25,
    "start_time": "2022-06-29T07:39:59.166Z"
   },
   {
    "duration": 15,
    "start_time": "2022-06-29T07:39:59.192Z"
   },
   {
    "duration": 9,
    "start_time": "2022-06-29T07:39:59.209Z"
   },
   {
    "duration": 10,
    "start_time": "2022-06-29T07:39:59.219Z"
   },
   {
    "duration": 7,
    "start_time": "2022-06-29T07:39:59.230Z"
   },
   {
    "duration": 8,
    "start_time": "2022-06-29T07:39:59.252Z"
   },
   {
    "duration": 13,
    "start_time": "2022-06-29T07:39:59.262Z"
   },
   {
    "duration": 35,
    "start_time": "2022-06-29T07:39:59.276Z"
   },
   {
    "duration": 35,
    "start_time": "2022-06-29T07:39:59.313Z"
   },
   {
    "duration": 16,
    "start_time": "2022-06-29T07:39:59.351Z"
   },
   {
    "duration": 88,
    "start_time": "2022-06-29T07:39:59.368Z"
   },
   {
    "duration": 105,
    "start_time": "2022-06-29T07:39:59.457Z"
   },
   {
    "duration": 22,
    "start_time": "2022-06-29T07:39:59.566Z"
   },
   {
    "duration": 34,
    "start_time": "2022-06-29T07:39:59.589Z"
   },
   {
    "duration": 111,
    "start_time": "2022-06-29T07:39:59.652Z"
   },
   {
    "duration": 20,
    "start_time": "2022-06-29T07:39:59.765Z"
   },
   {
    "duration": 78,
    "start_time": "2022-06-29T07:39:59.787Z"
   },
   {
    "duration": 44,
    "start_time": "2022-06-29T07:39:59.867Z"
   },
   {
    "duration": 5,
    "start_time": "2022-06-29T07:39:59.912Z"
   },
   {
    "duration": 12,
    "start_time": "2022-06-29T07:39:59.919Z"
   },
   {
    "duration": 43,
    "start_time": "2022-06-29T07:39:59.932Z"
   },
   {
    "duration": 19,
    "start_time": "2022-06-29T07:39:59.979Z"
   },
   {
    "duration": 30,
    "start_time": "2022-06-29T07:40:00.000Z"
   },
   {
    "duration": 24,
    "start_time": "2022-06-29T07:40:00.032Z"
   },
   {
    "duration": 36,
    "start_time": "2022-06-29T07:40:00.058Z"
   },
   {
    "duration": 16,
    "start_time": "2022-06-29T07:40:00.098Z"
   },
   {
    "duration": 26,
    "start_time": "2022-06-29T07:40:00.115Z"
   },
   {
    "duration": 35,
    "start_time": "2022-06-29T07:40:00.143Z"
   },
   {
    "duration": 29,
    "start_time": "2022-06-29T07:40:00.179Z"
   },
   {
    "duration": 52,
    "start_time": "2022-06-29T07:40:00.210Z"
   },
   {
    "duration": 48,
    "start_time": "2022-06-29T07:40:00.264Z"
   },
   {
    "duration": 48,
    "start_time": "2022-06-29T07:40:00.313Z"
   },
   {
    "duration": 23,
    "start_time": "2022-06-29T07:40:00.363Z"
   },
   {
    "duration": 30,
    "start_time": "2022-06-29T07:40:00.388Z"
   },
   {
    "duration": 30,
    "start_time": "2022-06-29T07:40:00.420Z"
   },
   {
    "duration": 37,
    "start_time": "2022-06-29T07:40:00.452Z"
   },
   {
    "duration": 33,
    "start_time": "2022-06-29T07:40:00.491Z"
   },
   {
    "duration": 50,
    "start_time": "2022-06-29T07:40:00.526Z"
   },
   {
    "duration": 63,
    "start_time": "2022-06-29T07:40:00.577Z"
   },
   {
    "duration": 35,
    "start_time": "2022-06-29T07:40:00.642Z"
   },
   {
    "duration": 46,
    "start_time": "2022-06-29T07:40:00.679Z"
   },
   {
    "duration": 64,
    "start_time": "2022-06-29T07:40:00.727Z"
   },
   {
    "duration": 36,
    "start_time": "2022-06-29T07:40:00.793Z"
   },
   {
    "duration": 3558,
    "start_time": "2022-06-29T07:40:00.831Z"
   },
   {
    "duration": 19,
    "start_time": "2022-06-29T07:40:04.390Z"
   },
   {
    "duration": 19,
    "start_time": "2022-06-29T07:40:04.411Z"
   },
   {
    "duration": 21,
    "start_time": "2022-06-29T07:40:04.431Z"
   },
   {
    "duration": 26,
    "start_time": "2022-06-29T07:40:04.457Z"
   },
   {
    "duration": 22,
    "start_time": "2022-06-29T07:40:04.486Z"
   },
   {
    "duration": 7,
    "start_time": "2022-06-29T07:40:04.510Z"
   },
   {
    "duration": 1210,
    "start_time": "2022-06-29T07:40:04.519Z"
   },
   {
    "duration": 4,
    "start_time": "2022-06-29T07:40:05.730Z"
   },
   {
    "duration": 17,
    "start_time": "2022-06-29T07:40:05.735Z"
   },
   {
    "duration": 1726,
    "start_time": "2022-06-29T07:40:05.753Z"
   },
   {
    "duration": 0,
    "start_time": "2022-06-29T07:40:07.481Z"
   },
   {
    "duration": 0,
    "start_time": "2022-06-29T07:40:07.483Z"
   },
   {
    "duration": 0,
    "start_time": "2022-06-29T07:40:07.484Z"
   },
   {
    "duration": 0,
    "start_time": "2022-06-29T07:40:07.485Z"
   },
   {
    "duration": 0,
    "start_time": "2022-06-29T07:40:07.486Z"
   },
   {
    "duration": 0,
    "start_time": "2022-06-29T07:40:07.487Z"
   },
   {
    "duration": 0,
    "start_time": "2022-06-29T07:40:07.488Z"
   },
   {
    "duration": 0,
    "start_time": "2022-06-29T07:40:07.490Z"
   },
   {
    "duration": 0,
    "start_time": "2022-06-29T07:40:07.491Z"
   },
   {
    "duration": 0,
    "start_time": "2022-06-29T07:40:07.492Z"
   },
   {
    "duration": 0,
    "start_time": "2022-06-29T07:40:07.494Z"
   },
   {
    "duration": 366,
    "start_time": "2022-06-29T07:41:05.511Z"
   },
   {
    "duration": 5,
    "start_time": "2022-06-29T07:41:05.879Z"
   },
   {
    "duration": 213,
    "start_time": "2022-06-29T07:41:05.885Z"
   },
   {
    "duration": 222,
    "start_time": "2022-06-29T07:41:06.100Z"
   },
   {
    "duration": 42,
    "start_time": "2022-06-29T07:41:06.324Z"
   },
   {
    "duration": 152,
    "start_time": "2022-06-29T07:41:06.368Z"
   },
   {
    "duration": 178,
    "start_time": "2022-06-29T07:41:06.522Z"
   },
   {
    "duration": 11,
    "start_time": "2022-06-29T07:41:06.702Z"
   },
   {
    "duration": 50,
    "start_time": "2022-06-29T07:41:06.715Z"
   },
   {
    "duration": 60,
    "start_time": "2022-06-29T07:41:06.767Z"
   },
   {
    "duration": 53,
    "start_time": "2022-06-29T07:41:06.828Z"
   },
   {
    "duration": 93,
    "start_time": "2022-06-29T07:41:06.883Z"
   },
   {
    "duration": 116,
    "start_time": "2022-06-29T07:41:06.978Z"
   },
   {
    "duration": 149,
    "start_time": "2022-06-29T07:41:07.098Z"
   },
   {
    "duration": 30,
    "start_time": "2022-06-29T07:41:07.250Z"
   },
   {
    "duration": 21,
    "start_time": "2022-06-29T07:41:07.281Z"
   },
   {
    "duration": 16,
    "start_time": "2022-06-29T07:41:07.304Z"
   },
   {
    "duration": 18,
    "start_time": "2022-06-29T07:41:07.321Z"
   },
   {
    "duration": 9,
    "start_time": "2022-06-29T07:41:07.359Z"
   },
   {
    "duration": 5,
    "start_time": "2022-06-29T07:41:07.370Z"
   },
   {
    "duration": 8,
    "start_time": "2022-06-29T07:41:07.376Z"
   },
   {
    "duration": 18,
    "start_time": "2022-06-29T07:41:07.386Z"
   },
   {
    "duration": 54,
    "start_time": "2022-06-29T07:41:07.406Z"
   },
   {
    "duration": 41,
    "start_time": "2022-06-29T07:41:07.467Z"
   },
   {
    "duration": 19,
    "start_time": "2022-06-29T07:41:07.510Z"
   },
   {
    "duration": 102,
    "start_time": "2022-06-29T07:41:07.531Z"
   },
   {
    "duration": 65,
    "start_time": "2022-06-29T07:41:07.635Z"
   },
   {
    "duration": 21,
    "start_time": "2022-06-29T07:41:07.702Z"
   },
   {
    "duration": 52,
    "start_time": "2022-06-29T07:41:07.725Z"
   },
   {
    "duration": 52,
    "start_time": "2022-06-29T07:41:07.779Z"
   },
   {
    "duration": 36,
    "start_time": "2022-06-29T07:41:07.832Z"
   },
   {
    "duration": 43,
    "start_time": "2022-06-29T07:41:07.869Z"
   },
   {
    "duration": 64,
    "start_time": "2022-06-29T07:41:07.914Z"
   },
   {
    "duration": 5,
    "start_time": "2022-06-29T07:41:07.980Z"
   },
   {
    "duration": 19,
    "start_time": "2022-06-29T07:41:07.986Z"
   },
   {
    "duration": 21,
    "start_time": "2022-06-29T07:41:08.007Z"
   },
   {
    "duration": 32,
    "start_time": "2022-06-29T07:41:08.029Z"
   },
   {
    "duration": 30,
    "start_time": "2022-06-29T07:41:08.063Z"
   },
   {
    "duration": 17,
    "start_time": "2022-06-29T07:41:08.095Z"
   },
   {
    "duration": 19,
    "start_time": "2022-06-29T07:41:08.114Z"
   },
   {
    "duration": 18,
    "start_time": "2022-06-29T07:41:08.137Z"
   },
   {
    "duration": 33,
    "start_time": "2022-06-29T07:41:08.157Z"
   },
   {
    "duration": 22,
    "start_time": "2022-06-29T07:41:08.191Z"
   },
   {
    "duration": 18,
    "start_time": "2022-06-29T07:41:08.214Z"
   },
   {
    "duration": 29,
    "start_time": "2022-06-29T07:41:08.234Z"
   },
   {
    "duration": 21,
    "start_time": "2022-06-29T07:41:08.264Z"
   },
   {
    "duration": 29,
    "start_time": "2022-06-29T07:41:08.287Z"
   },
   {
    "duration": 12,
    "start_time": "2022-06-29T07:41:08.318Z"
   },
   {
    "duration": 34,
    "start_time": "2022-06-29T07:41:08.331Z"
   },
   {
    "duration": 22,
    "start_time": "2022-06-29T07:41:08.367Z"
   },
   {
    "duration": 26,
    "start_time": "2022-06-29T07:41:08.390Z"
   },
   {
    "duration": 14,
    "start_time": "2022-06-29T07:41:08.417Z"
   },
   {
    "duration": 13,
    "start_time": "2022-06-29T07:41:08.433Z"
   },
   {
    "duration": 36,
    "start_time": "2022-06-29T07:41:08.448Z"
   },
   {
    "duration": 12,
    "start_time": "2022-06-29T07:41:08.486Z"
   },
   {
    "duration": 19,
    "start_time": "2022-06-29T07:41:08.500Z"
   },
   {
    "duration": 10,
    "start_time": "2022-06-29T07:41:08.520Z"
   },
   {
    "duration": 28,
    "start_time": "2022-06-29T07:41:08.532Z"
   },
   {
    "duration": 3422,
    "start_time": "2022-06-29T07:41:08.563Z"
   },
   {
    "duration": 17,
    "start_time": "2022-06-29T07:41:11.986Z"
   },
   {
    "duration": 22,
    "start_time": "2022-06-29T07:41:12.004Z"
   },
   {
    "duration": 33,
    "start_time": "2022-06-29T07:41:12.028Z"
   },
   {
    "duration": 24,
    "start_time": "2022-06-29T07:41:12.062Z"
   },
   {
    "duration": 21,
    "start_time": "2022-06-29T07:41:12.088Z"
   },
   {
    "duration": 6,
    "start_time": "2022-06-29T07:41:12.111Z"
   },
   {
    "duration": 1247,
    "start_time": "2022-06-29T07:41:12.119Z"
   },
   {
    "duration": 4,
    "start_time": "2022-06-29T07:41:13.368Z"
   },
   {
    "duration": 9,
    "start_time": "2022-06-29T07:41:13.374Z"
   },
   {
    "duration": 1293,
    "start_time": "2022-06-29T07:41:13.384Z"
   },
   {
    "duration": 16,
    "start_time": "2022-06-29T07:41:14.679Z"
   },
   {
    "duration": 2,
    "start_time": "2022-06-29T07:41:14.697Z"
   },
   {
    "duration": 6,
    "start_time": "2022-06-29T07:41:14.701Z"
   },
   {
    "duration": 7,
    "start_time": "2022-06-29T07:41:14.708Z"
   },
   {
    "duration": 5,
    "start_time": "2022-06-29T07:41:14.716Z"
   },
   {
    "duration": 3,
    "start_time": "2022-06-29T07:41:14.722Z"
   },
   {
    "duration": 4,
    "start_time": "2022-06-29T07:41:14.727Z"
   },
   {
    "duration": 6,
    "start_time": "2022-06-29T07:41:14.732Z"
   },
   {
    "duration": 8,
    "start_time": "2022-06-29T07:41:14.752Z"
   },
   {
    "duration": 9,
    "start_time": "2022-06-29T07:41:14.761Z"
   },
   {
    "duration": 4,
    "start_time": "2022-06-29T07:41:14.771Z"
   },
   {
    "duration": 1216,
    "start_time": "2022-06-29T07:43:38.176Z"
   },
   {
    "duration": 1064,
    "start_time": "2022-06-29T07:43:39.393Z"
   },
   {
    "duration": 20,
    "start_time": "2022-06-29T07:43:40.466Z"
   },
   {
    "duration": 14,
    "start_time": "2022-06-29T08:08:18.974Z"
   },
   {
    "duration": 11,
    "start_time": "2022-06-29T08:09:24.349Z"
   },
   {
    "duration": 355,
    "start_time": "2022-06-29T08:16:21.974Z"
   },
   {
    "duration": 159,
    "start_time": "2022-06-29T08:16:22.330Z"
   },
   {
    "duration": 181,
    "start_time": "2022-06-29T08:16:22.491Z"
   },
   {
    "duration": 19,
    "start_time": "2022-06-29T08:16:22.674Z"
   },
   {
    "duration": 122,
    "start_time": "2022-06-29T08:16:22.695Z"
   },
   {
    "duration": 142,
    "start_time": "2022-06-29T08:16:22.818Z"
   },
   {
    "duration": 8,
    "start_time": "2022-06-29T08:16:22.962Z"
   },
   {
    "duration": 43,
    "start_time": "2022-06-29T08:16:22.972Z"
   },
   {
    "duration": 59,
    "start_time": "2022-06-29T08:16:23.017Z"
   },
   {
    "duration": 24,
    "start_time": "2022-06-29T08:16:23.078Z"
   },
   {
    "duration": 82,
    "start_time": "2022-06-29T08:16:23.104Z"
   },
   {
    "duration": 94,
    "start_time": "2022-06-29T08:16:23.188Z"
   },
   {
    "duration": 128,
    "start_time": "2022-06-29T08:16:23.283Z"
   },
   {
    "duration": 25,
    "start_time": "2022-06-29T08:16:23.412Z"
   },
   {
    "duration": 24,
    "start_time": "2022-06-29T08:16:23.438Z"
   },
   {
    "duration": 14,
    "start_time": "2022-06-29T08:16:23.463Z"
   },
   {
    "duration": 19,
    "start_time": "2022-06-29T08:16:23.478Z"
   },
   {
    "duration": 10,
    "start_time": "2022-06-29T08:16:23.498Z"
   },
   {
    "duration": 6,
    "start_time": "2022-06-29T08:16:23.509Z"
   },
   {
    "duration": 7,
    "start_time": "2022-06-29T08:16:23.516Z"
   },
   {
    "duration": 8,
    "start_time": "2022-06-29T08:16:23.524Z"
   },
   {
    "duration": 40,
    "start_time": "2022-06-29T08:16:23.534Z"
   },
   {
    "duration": 31,
    "start_time": "2022-06-29T08:16:23.576Z"
   },
   {
    "duration": 13,
    "start_time": "2022-06-29T08:16:23.608Z"
   },
   {
    "duration": 92,
    "start_time": "2022-06-29T08:16:23.622Z"
   },
   {
    "duration": 53,
    "start_time": "2022-06-29T08:16:23.716Z"
   },
   {
    "duration": 13,
    "start_time": "2022-06-29T08:16:23.770Z"
   },
   {
    "duration": 28,
    "start_time": "2022-06-29T08:16:23.786Z"
   },
   {
    "duration": 36,
    "start_time": "2022-06-29T08:16:23.815Z"
   },
   {
    "duration": 46,
    "start_time": "2022-06-29T08:16:23.853Z"
   },
   {
    "duration": 18,
    "start_time": "2022-06-29T08:16:23.901Z"
   },
   {
    "duration": 48,
    "start_time": "2022-06-29T08:16:23.920Z"
   },
   {
    "duration": 41,
    "start_time": "2022-06-29T08:16:23.970Z"
   },
   {
    "duration": 2,
    "start_time": "2022-06-29T08:16:24.013Z"
   },
   {
    "duration": 34,
    "start_time": "2022-06-29T08:16:24.016Z"
   },
   {
    "duration": 867,
    "start_time": "2022-06-29T08:16:24.052Z"
   },
   {
    "duration": 0,
    "start_time": "2022-06-29T08:16:24.920Z"
   },
   {
    "duration": 0,
    "start_time": "2022-06-29T08:16:24.921Z"
   },
   {
    "duration": 0,
    "start_time": "2022-06-29T08:16:24.922Z"
   },
   {
    "duration": 0,
    "start_time": "2022-06-29T08:16:24.924Z"
   },
   {
    "duration": 0,
    "start_time": "2022-06-29T08:16:24.924Z"
   },
   {
    "duration": 0,
    "start_time": "2022-06-29T08:16:24.925Z"
   },
   {
    "duration": 0,
    "start_time": "2022-06-29T08:16:24.926Z"
   },
   {
    "duration": 0,
    "start_time": "2022-06-29T08:16:24.927Z"
   },
   {
    "duration": 0,
    "start_time": "2022-06-29T08:16:24.928Z"
   },
   {
    "duration": 0,
    "start_time": "2022-06-29T08:16:24.929Z"
   },
   {
    "duration": 0,
    "start_time": "2022-06-29T08:16:24.930Z"
   },
   {
    "duration": 0,
    "start_time": "2022-06-29T08:16:24.931Z"
   },
   {
    "duration": 0,
    "start_time": "2022-06-29T08:16:24.932Z"
   },
   {
    "duration": 0,
    "start_time": "2022-06-29T08:16:24.933Z"
   },
   {
    "duration": 0,
    "start_time": "2022-06-29T08:16:24.934Z"
   },
   {
    "duration": 0,
    "start_time": "2022-06-29T08:16:24.934Z"
   },
   {
    "duration": 0,
    "start_time": "2022-06-29T08:16:24.935Z"
   },
   {
    "duration": 0,
    "start_time": "2022-06-29T08:16:24.936Z"
   },
   {
    "duration": 0,
    "start_time": "2022-06-29T08:16:24.937Z"
   },
   {
    "duration": 0,
    "start_time": "2022-06-29T08:16:24.939Z"
   },
   {
    "duration": 0,
    "start_time": "2022-06-29T08:16:24.940Z"
   },
   {
    "duration": 0,
    "start_time": "2022-06-29T08:16:24.941Z"
   },
   {
    "duration": 0,
    "start_time": "2022-06-29T08:16:24.943Z"
   },
   {
    "duration": 0,
    "start_time": "2022-06-29T08:16:24.944Z"
   },
   {
    "duration": 0,
    "start_time": "2022-06-29T08:16:24.945Z"
   },
   {
    "duration": 0,
    "start_time": "2022-06-29T08:16:24.946Z"
   },
   {
    "duration": 0,
    "start_time": "2022-06-29T08:16:24.947Z"
   },
   {
    "duration": 0,
    "start_time": "2022-06-29T08:16:24.948Z"
   },
   {
    "duration": 0,
    "start_time": "2022-06-29T08:16:24.950Z"
   },
   {
    "duration": 0,
    "start_time": "2022-06-29T08:16:24.951Z"
   },
   {
    "duration": 0,
    "start_time": "2022-06-29T08:16:24.952Z"
   },
   {
    "duration": 0,
    "start_time": "2022-06-29T08:16:24.953Z"
   },
   {
    "duration": 383,
    "start_time": "2022-06-29T08:17:07.568Z"
   },
   {
    "duration": 179,
    "start_time": "2022-06-29T08:17:07.952Z"
   },
   {
    "duration": 182,
    "start_time": "2022-06-29T08:17:08.133Z"
   },
   {
    "duration": 21,
    "start_time": "2022-06-29T08:17:08.316Z"
   },
   {
    "duration": 146,
    "start_time": "2022-06-29T08:17:08.339Z"
   },
   {
    "duration": 146,
    "start_time": "2022-06-29T08:17:08.486Z"
   },
   {
    "duration": 17,
    "start_time": "2022-06-29T08:17:08.633Z"
   },
   {
    "duration": 44,
    "start_time": "2022-06-29T08:17:08.652Z"
   },
   {
    "duration": 61,
    "start_time": "2022-06-29T08:17:08.697Z"
   },
   {
    "duration": 30,
    "start_time": "2022-06-29T08:17:08.760Z"
   },
   {
    "duration": 90,
    "start_time": "2022-06-29T08:17:08.791Z"
   },
   {
    "duration": 94,
    "start_time": "2022-06-29T08:17:08.883Z"
   },
   {
    "duration": 134,
    "start_time": "2022-06-29T08:17:08.979Z"
   },
   {
    "duration": 25,
    "start_time": "2022-06-29T08:17:09.116Z"
   },
   {
    "duration": 22,
    "start_time": "2022-06-29T08:17:09.142Z"
   },
   {
    "duration": 12,
    "start_time": "2022-06-29T08:17:09.165Z"
   },
   {
    "duration": 12,
    "start_time": "2022-06-29T08:17:09.179Z"
   },
   {
    "duration": 9,
    "start_time": "2022-06-29T08:17:09.193Z"
   },
   {
    "duration": 18,
    "start_time": "2022-06-29T08:17:09.203Z"
   },
   {
    "duration": 16,
    "start_time": "2022-06-29T08:17:09.223Z"
   },
   {
    "duration": 19,
    "start_time": "2022-06-29T08:17:09.240Z"
   },
   {
    "duration": 50,
    "start_time": "2022-06-29T08:17:09.261Z"
   },
   {
    "duration": 32,
    "start_time": "2022-06-29T08:17:09.312Z"
   },
   {
    "duration": 13,
    "start_time": "2022-06-29T08:17:09.345Z"
   },
   {
    "duration": 88,
    "start_time": "2022-06-29T08:17:09.359Z"
   },
   {
    "duration": 53,
    "start_time": "2022-06-29T08:17:09.448Z"
   },
   {
    "duration": 14,
    "start_time": "2022-06-29T08:17:09.502Z"
   },
   {
    "duration": 32,
    "start_time": "2022-06-29T08:17:09.518Z"
   },
   {
    "duration": 36,
    "start_time": "2022-06-29T08:17:09.552Z"
   },
   {
    "duration": 46,
    "start_time": "2022-06-29T08:17:09.589Z"
   },
   {
    "duration": 28,
    "start_time": "2022-06-29T08:17:09.636Z"
   },
   {
    "duration": 40,
    "start_time": "2022-06-29T08:17:09.666Z"
   },
   {
    "duration": 55,
    "start_time": "2022-06-29T08:17:09.708Z"
   },
   {
    "duration": 2,
    "start_time": "2022-06-29T08:17:09.765Z"
   },
   {
    "duration": 25,
    "start_time": "2022-06-29T08:17:09.769Z"
   },
   {
    "duration": 25,
    "start_time": "2022-06-29T08:17:09.796Z"
   },
   {
    "duration": 24,
    "start_time": "2022-06-29T08:17:09.822Z"
   },
   {
    "duration": 39,
    "start_time": "2022-06-29T08:17:09.848Z"
   },
   {
    "duration": 24,
    "start_time": "2022-06-29T08:17:09.889Z"
   },
   {
    "duration": 16,
    "start_time": "2022-06-29T08:17:09.915Z"
   },
   {
    "duration": 16,
    "start_time": "2022-06-29T08:17:09.935Z"
   },
   {
    "duration": 22,
    "start_time": "2022-06-29T08:17:09.953Z"
   },
   {
    "duration": 22,
    "start_time": "2022-06-29T08:17:09.977Z"
   },
   {
    "duration": 31,
    "start_time": "2022-06-29T08:17:10.000Z"
   },
   {
    "duration": 31,
    "start_time": "2022-06-29T08:17:10.032Z"
   },
   {
    "duration": 14,
    "start_time": "2022-06-29T08:17:10.064Z"
   },
   {
    "duration": 25,
    "start_time": "2022-06-29T08:17:10.079Z"
   },
   {
    "duration": 13,
    "start_time": "2022-06-29T08:17:10.106Z"
   },
   {
    "duration": 32,
    "start_time": "2022-06-29T08:17:10.121Z"
   },
   {
    "duration": 15,
    "start_time": "2022-06-29T08:17:10.154Z"
   },
   {
    "duration": 6,
    "start_time": "2022-06-29T08:17:10.171Z"
   },
   {
    "duration": 38,
    "start_time": "2022-06-29T08:17:10.179Z"
   },
   {
    "duration": 27,
    "start_time": "2022-06-29T08:17:10.219Z"
   },
   {
    "duration": 49,
    "start_time": "2022-06-29T08:17:10.248Z"
   },
   {
    "duration": 9,
    "start_time": "2022-06-29T08:17:10.298Z"
   },
   {
    "duration": 37,
    "start_time": "2022-06-29T08:17:10.308Z"
   },
   {
    "duration": 2917,
    "start_time": "2022-06-29T08:17:10.346Z"
   },
   {
    "duration": 15,
    "start_time": "2022-06-29T08:17:13.264Z"
   },
   {
    "duration": 57,
    "start_time": "2022-06-29T08:17:13.280Z"
   },
   {
    "duration": 0,
    "start_time": "2022-06-29T08:17:13.350Z"
   },
   {
    "duration": 0,
    "start_time": "2022-06-29T08:17:13.351Z"
   },
   {
    "duration": 0,
    "start_time": "2022-06-29T08:17:13.352Z"
   },
   {
    "duration": 0,
    "start_time": "2022-06-29T08:17:13.353Z"
   },
   {
    "duration": 0,
    "start_time": "2022-06-29T08:17:13.354Z"
   },
   {
    "duration": 0,
    "start_time": "2022-06-29T08:17:13.355Z"
   },
   {
    "duration": 0,
    "start_time": "2022-06-29T08:17:13.356Z"
   },
   {
    "duration": 0,
    "start_time": "2022-06-29T08:17:13.357Z"
   },
   {
    "duration": 0,
    "start_time": "2022-06-29T08:17:13.358Z"
   },
   {
    "duration": 378,
    "start_time": "2022-06-29T08:18:47.458Z"
   },
   {
    "duration": 177,
    "start_time": "2022-06-29T08:18:47.838Z"
   },
   {
    "duration": 184,
    "start_time": "2022-06-29T08:18:48.016Z"
   },
   {
    "duration": 20,
    "start_time": "2022-06-29T08:18:48.202Z"
   },
   {
    "duration": 139,
    "start_time": "2022-06-29T08:18:48.224Z"
   },
   {
    "duration": 149,
    "start_time": "2022-06-29T08:18:48.364Z"
   },
   {
    "duration": 9,
    "start_time": "2022-06-29T08:18:48.514Z"
   },
   {
    "duration": 40,
    "start_time": "2022-06-29T08:18:48.524Z"
   },
   {
    "duration": 57,
    "start_time": "2022-06-29T08:18:48.566Z"
   },
   {
    "duration": 41,
    "start_time": "2022-06-29T08:18:48.624Z"
   },
   {
    "duration": 75,
    "start_time": "2022-06-29T08:18:48.666Z"
   },
   {
    "duration": 89,
    "start_time": "2022-06-29T08:18:48.750Z"
   },
   {
    "duration": 128,
    "start_time": "2022-06-29T08:18:48.840Z"
   },
   {
    "duration": 26,
    "start_time": "2022-06-29T08:18:48.970Z"
   },
   {
    "duration": 19,
    "start_time": "2022-06-29T08:18:48.997Z"
   },
   {
    "duration": 12,
    "start_time": "2022-06-29T08:18:49.017Z"
   },
   {
    "duration": 24,
    "start_time": "2022-06-29T08:18:49.030Z"
   },
   {
    "duration": 4,
    "start_time": "2022-06-29T08:18:49.056Z"
   },
   {
    "duration": 15,
    "start_time": "2022-06-29T08:18:49.061Z"
   },
   {
    "duration": 5,
    "start_time": "2022-06-29T08:18:49.078Z"
   },
   {
    "duration": 10,
    "start_time": "2022-06-29T08:18:49.085Z"
   },
   {
    "duration": 27,
    "start_time": "2022-06-29T08:18:49.096Z"
   },
   {
    "duration": 45,
    "start_time": "2022-06-29T08:18:49.124Z"
   },
   {
    "duration": 13,
    "start_time": "2022-06-29T08:18:49.170Z"
   },
   {
    "duration": 92,
    "start_time": "2022-06-29T08:18:49.185Z"
   },
   {
    "duration": 51,
    "start_time": "2022-06-29T08:18:49.279Z"
   },
   {
    "duration": 23,
    "start_time": "2022-06-29T08:18:49.332Z"
   },
   {
    "duration": 20,
    "start_time": "2022-06-29T08:18:49.357Z"
   },
   {
    "duration": 31,
    "start_time": "2022-06-29T08:18:49.379Z"
   },
   {
    "duration": 72,
    "start_time": "2022-06-29T08:18:49.412Z"
   },
   {
    "duration": 20,
    "start_time": "2022-06-29T08:18:49.486Z"
   },
   {
    "duration": 44,
    "start_time": "2022-06-29T08:18:49.507Z"
   },
   {
    "duration": 41,
    "start_time": "2022-06-29T08:18:49.553Z"
   },
   {
    "duration": 3,
    "start_time": "2022-06-29T08:18:49.596Z"
   },
   {
    "duration": 17,
    "start_time": "2022-06-29T08:18:49.600Z"
   },
   {
    "duration": 42,
    "start_time": "2022-06-29T08:18:49.618Z"
   },
   {
    "duration": 11,
    "start_time": "2022-06-29T08:18:49.661Z"
   },
   {
    "duration": 13,
    "start_time": "2022-06-29T08:18:49.674Z"
   },
   {
    "duration": 21,
    "start_time": "2022-06-29T08:18:49.688Z"
   },
   {
    "duration": 19,
    "start_time": "2022-06-29T08:18:49.710Z"
   },
   {
    "duration": 8,
    "start_time": "2022-06-29T08:18:49.750Z"
   },
   {
    "duration": 13,
    "start_time": "2022-06-29T08:18:49.760Z"
   },
   {
    "duration": 15,
    "start_time": "2022-06-29T08:18:49.774Z"
   },
   {
    "duration": 13,
    "start_time": "2022-06-29T08:18:49.791Z"
   },
   {
    "duration": 15,
    "start_time": "2022-06-29T08:18:49.806Z"
   },
   {
    "duration": 10,
    "start_time": "2022-06-29T08:18:49.822Z"
   },
   {
    "duration": 16,
    "start_time": "2022-06-29T08:18:49.850Z"
   },
   {
    "duration": 12,
    "start_time": "2022-06-29T08:18:49.867Z"
   },
   {
    "duration": 13,
    "start_time": "2022-06-29T08:18:49.880Z"
   },
   {
    "duration": 11,
    "start_time": "2022-06-29T08:18:49.894Z"
   },
   {
    "duration": 6,
    "start_time": "2022-06-29T08:18:49.906Z"
   },
   {
    "duration": 40,
    "start_time": "2022-06-29T08:18:49.913Z"
   },
   {
    "duration": 8,
    "start_time": "2022-06-29T08:18:49.955Z"
   },
   {
    "duration": 14,
    "start_time": "2022-06-29T08:18:49.964Z"
   },
   {
    "duration": 2,
    "start_time": "2022-06-29T08:18:49.979Z"
   },
   {
    "duration": 20,
    "start_time": "2022-06-29T08:18:49.982Z"
   },
   {
    "duration": 2975,
    "start_time": "2022-06-29T08:18:50.003Z"
   },
   {
    "duration": 14,
    "start_time": "2022-06-29T08:18:52.980Z"
   },
   {
    "duration": 65,
    "start_time": "2022-06-29T08:18:52.996Z"
   },
   {
    "duration": 0,
    "start_time": "2022-06-29T08:18:53.063Z"
   },
   {
    "duration": 0,
    "start_time": "2022-06-29T08:18:53.064Z"
   },
   {
    "duration": 0,
    "start_time": "2022-06-29T08:18:53.065Z"
   },
   {
    "duration": 0,
    "start_time": "2022-06-29T08:18:53.066Z"
   },
   {
    "duration": 0,
    "start_time": "2022-06-29T08:18:53.067Z"
   },
   {
    "duration": 0,
    "start_time": "2022-06-29T08:18:53.068Z"
   },
   {
    "duration": 0,
    "start_time": "2022-06-29T08:18:53.068Z"
   },
   {
    "duration": 0,
    "start_time": "2022-06-29T08:18:53.070Z"
   },
   {
    "duration": 0,
    "start_time": "2022-06-29T08:18:53.102Z"
   },
   {
    "duration": 352,
    "start_time": "2022-06-29T08:19:55.678Z"
   },
   {
    "duration": 171,
    "start_time": "2022-06-29T08:19:56.032Z"
   },
   {
    "duration": 199,
    "start_time": "2022-06-29T08:19:56.205Z"
   },
   {
    "duration": 20,
    "start_time": "2022-06-29T08:19:56.406Z"
   },
   {
    "duration": 149,
    "start_time": "2022-06-29T08:19:56.427Z"
   },
   {
    "duration": 147,
    "start_time": "2022-06-29T08:19:56.578Z"
   },
   {
    "duration": 9,
    "start_time": "2022-06-29T08:19:56.726Z"
   },
   {
    "duration": 39,
    "start_time": "2022-06-29T08:19:56.736Z"
   },
   {
    "duration": 58,
    "start_time": "2022-06-29T08:19:56.776Z"
   },
   {
    "duration": 43,
    "start_time": "2022-06-29T08:19:56.836Z"
   },
   {
    "duration": 99,
    "start_time": "2022-06-29T08:19:56.881Z"
   },
   {
    "duration": 101,
    "start_time": "2022-06-29T08:19:56.981Z"
   },
   {
    "duration": 139,
    "start_time": "2022-06-29T08:19:57.083Z"
   },
   {
    "duration": 27,
    "start_time": "2022-06-29T08:19:57.223Z"
   },
   {
    "duration": 32,
    "start_time": "2022-06-29T08:19:57.251Z"
   },
   {
    "duration": 12,
    "start_time": "2022-06-29T08:19:57.285Z"
   },
   {
    "duration": 8,
    "start_time": "2022-06-29T08:19:57.299Z"
   },
   {
    "duration": 4,
    "start_time": "2022-06-29T08:19:57.308Z"
   },
   {
    "duration": 6,
    "start_time": "2022-06-29T08:19:57.313Z"
   },
   {
    "duration": 5,
    "start_time": "2022-06-29T08:19:57.320Z"
   },
   {
    "duration": 29,
    "start_time": "2022-06-29T08:19:57.326Z"
   },
   {
    "duration": 31,
    "start_time": "2022-06-29T08:19:57.356Z"
   },
   {
    "duration": 34,
    "start_time": "2022-06-29T08:19:57.389Z"
   },
   {
    "duration": 33,
    "start_time": "2022-06-29T08:19:57.424Z"
   },
   {
    "duration": 82,
    "start_time": "2022-06-29T08:19:57.458Z"
   },
   {
    "duration": 54,
    "start_time": "2022-06-29T08:19:57.551Z"
   },
   {
    "duration": 13,
    "start_time": "2022-06-29T08:19:57.606Z"
   },
   {
    "duration": 34,
    "start_time": "2022-06-29T08:19:57.622Z"
   },
   {
    "duration": 34,
    "start_time": "2022-06-29T08:19:57.658Z"
   },
   {
    "duration": 63,
    "start_time": "2022-06-29T08:19:57.694Z"
   },
   {
    "duration": 24,
    "start_time": "2022-06-29T08:19:57.759Z"
   },
   {
    "duration": 37,
    "start_time": "2022-06-29T08:19:57.784Z"
   },
   {
    "duration": 72,
    "start_time": "2022-06-29T08:19:57.822Z"
   },
   {
    "duration": 3,
    "start_time": "2022-06-29T08:19:57.896Z"
   },
   {
    "duration": 16,
    "start_time": "2022-06-29T08:19:57.900Z"
   },
   {
    "duration": 25,
    "start_time": "2022-06-29T08:19:57.917Z"
   },
   {
    "duration": 16,
    "start_time": "2022-06-29T08:19:57.943Z"
   },
   {
    "duration": 16,
    "start_time": "2022-06-29T08:19:57.961Z"
   },
   {
    "duration": 18,
    "start_time": "2022-06-29T08:19:57.978Z"
   },
   {
    "duration": 16,
    "start_time": "2022-06-29T08:19:57.998Z"
   },
   {
    "duration": 11,
    "start_time": "2022-06-29T08:19:58.016Z"
   },
   {
    "duration": 22,
    "start_time": "2022-06-29T08:19:58.029Z"
   },
   {
    "duration": 23,
    "start_time": "2022-06-29T08:19:58.052Z"
   },
   {
    "duration": 15,
    "start_time": "2022-06-29T08:19:58.077Z"
   },
   {
    "duration": 20,
    "start_time": "2022-06-29T08:19:58.094Z"
   },
   {
    "duration": 9,
    "start_time": "2022-06-29T08:19:58.115Z"
   },
   {
    "duration": 38,
    "start_time": "2022-06-29T08:19:58.126Z"
   },
   {
    "duration": 16,
    "start_time": "2022-06-29T08:19:58.166Z"
   },
   {
    "duration": 15,
    "start_time": "2022-06-29T08:19:58.183Z"
   },
   {
    "duration": 12,
    "start_time": "2022-06-29T08:19:58.200Z"
   },
   {
    "duration": 5,
    "start_time": "2022-06-29T08:19:58.213Z"
   },
   {
    "duration": 17,
    "start_time": "2022-06-29T08:19:58.219Z"
   },
   {
    "duration": 20,
    "start_time": "2022-06-29T08:19:58.237Z"
   },
   {
    "duration": 15,
    "start_time": "2022-06-29T08:19:58.259Z"
   },
   {
    "duration": 2,
    "start_time": "2022-06-29T08:19:58.276Z"
   },
   {
    "duration": 18,
    "start_time": "2022-06-29T08:19:58.279Z"
   },
   {
    "duration": 3245,
    "start_time": "2022-06-29T08:19:58.298Z"
   },
   {
    "duration": 22,
    "start_time": "2022-06-29T08:20:01.545Z"
   },
   {
    "duration": 64,
    "start_time": "2022-06-29T08:20:01.569Z"
   },
   {
    "duration": 0,
    "start_time": "2022-06-29T08:20:01.634Z"
   },
   {
    "duration": 0,
    "start_time": "2022-06-29T08:20:01.635Z"
   },
   {
    "duration": 0,
    "start_time": "2022-06-29T08:20:01.636Z"
   },
   {
    "duration": 0,
    "start_time": "2022-06-29T08:20:01.637Z"
   },
   {
    "duration": 0,
    "start_time": "2022-06-29T08:20:01.638Z"
   },
   {
    "duration": 0,
    "start_time": "2022-06-29T08:20:01.639Z"
   },
   {
    "duration": 0,
    "start_time": "2022-06-29T08:20:01.650Z"
   },
   {
    "duration": 0,
    "start_time": "2022-06-29T08:20:01.651Z"
   },
   {
    "duration": 0,
    "start_time": "2022-06-29T08:20:01.652Z"
   },
   {
    "duration": 412,
    "start_time": "2022-06-29T08:22:00.543Z"
   },
   {
    "duration": 178,
    "start_time": "2022-06-29T08:22:00.957Z"
   },
   {
    "duration": 178,
    "start_time": "2022-06-29T08:22:01.137Z"
   },
   {
    "duration": 20,
    "start_time": "2022-06-29T08:22:01.317Z"
   },
   {
    "duration": 144,
    "start_time": "2022-06-29T08:22:01.339Z"
   },
   {
    "duration": 146,
    "start_time": "2022-06-29T08:22:01.485Z"
   },
   {
    "duration": 8,
    "start_time": "2022-06-29T08:22:01.633Z"
   },
   {
    "duration": 39,
    "start_time": "2022-06-29T08:22:01.642Z"
   },
   {
    "duration": 57,
    "start_time": "2022-06-29T08:22:01.682Z"
   },
   {
    "duration": 25,
    "start_time": "2022-06-29T08:22:01.751Z"
   },
   {
    "duration": 89,
    "start_time": "2022-06-29T08:22:01.778Z"
   },
   {
    "duration": 104,
    "start_time": "2022-06-29T08:22:01.869Z"
   },
   {
    "duration": 128,
    "start_time": "2022-06-29T08:22:01.974Z"
   },
   {
    "duration": 27,
    "start_time": "2022-06-29T08:22:02.105Z"
   },
   {
    "duration": 18,
    "start_time": "2022-06-29T08:22:02.134Z"
   },
   {
    "duration": 11,
    "start_time": "2022-06-29T08:22:02.154Z"
   },
   {
    "duration": 10,
    "start_time": "2022-06-29T08:22:02.167Z"
   },
   {
    "duration": 19,
    "start_time": "2022-06-29T08:22:02.178Z"
   },
   {
    "duration": 8,
    "start_time": "2022-06-29T08:22:02.198Z"
   },
   {
    "duration": 10,
    "start_time": "2022-06-29T08:22:02.207Z"
   },
   {
    "duration": 10,
    "start_time": "2022-06-29T08:22:02.218Z"
   },
   {
    "duration": 30,
    "start_time": "2022-06-29T08:22:02.229Z"
   },
   {
    "duration": 32,
    "start_time": "2022-06-29T08:22:02.260Z"
   },
   {
    "duration": 13,
    "start_time": "2022-06-29T08:22:02.294Z"
   },
   {
    "duration": 96,
    "start_time": "2022-06-29T08:22:02.308Z"
   },
   {
    "duration": 69,
    "start_time": "2022-06-29T08:22:02.406Z"
   },
   {
    "duration": 15,
    "start_time": "2022-06-29T08:22:02.477Z"
   },
   {
    "duration": 21,
    "start_time": "2022-06-29T08:22:02.493Z"
   },
   {
    "duration": 37,
    "start_time": "2022-06-29T08:22:02.515Z"
   },
   {
    "duration": 47,
    "start_time": "2022-06-29T08:22:02.554Z"
   },
   {
    "duration": 19,
    "start_time": "2022-06-29T08:22:02.603Z"
   },
   {
    "duration": 53,
    "start_time": "2022-06-29T08:22:02.623Z"
   },
   {
    "duration": 42,
    "start_time": "2022-06-29T08:22:02.678Z"
   },
   {
    "duration": 4,
    "start_time": "2022-06-29T08:22:02.721Z"
   },
   {
    "duration": 33,
    "start_time": "2022-06-29T08:22:02.726Z"
   },
   {
    "duration": 10,
    "start_time": "2022-06-29T08:22:02.761Z"
   },
   {
    "duration": 13,
    "start_time": "2022-06-29T08:22:02.773Z"
   },
   {
    "duration": 17,
    "start_time": "2022-06-29T08:22:02.787Z"
   },
   {
    "duration": 8,
    "start_time": "2022-06-29T08:22:02.805Z"
   },
   {
    "duration": 18,
    "start_time": "2022-06-29T08:22:02.815Z"
   },
   {
    "duration": 15,
    "start_time": "2022-06-29T08:22:02.836Z"
   },
   {
    "duration": 9,
    "start_time": "2022-06-29T08:22:02.852Z"
   },
   {
    "duration": 15,
    "start_time": "2022-06-29T08:22:02.862Z"
   },
   {
    "duration": 5,
    "start_time": "2022-06-29T08:22:02.878Z"
   },
   {
    "duration": 17,
    "start_time": "2022-06-29T08:22:02.884Z"
   },
   {
    "duration": 67,
    "start_time": "2022-06-29T08:22:02.902Z"
   },
   {
    "duration": 0,
    "start_time": "2022-06-29T08:22:02.970Z"
   },
   {
    "duration": 0,
    "start_time": "2022-06-29T08:22:02.971Z"
   },
   {
    "duration": 0,
    "start_time": "2022-06-29T08:22:02.972Z"
   },
   {
    "duration": 0,
    "start_time": "2022-06-29T08:22:02.973Z"
   },
   {
    "duration": 0,
    "start_time": "2022-06-29T08:22:02.974Z"
   },
   {
    "duration": 0,
    "start_time": "2022-06-29T08:22:02.975Z"
   },
   {
    "duration": 0,
    "start_time": "2022-06-29T08:22:02.976Z"
   },
   {
    "duration": 0,
    "start_time": "2022-06-29T08:22:02.978Z"
   },
   {
    "duration": 0,
    "start_time": "2022-06-29T08:22:02.979Z"
   },
   {
    "duration": 0,
    "start_time": "2022-06-29T08:22:02.980Z"
   },
   {
    "duration": 0,
    "start_time": "2022-06-29T08:22:02.981Z"
   },
   {
    "duration": 0,
    "start_time": "2022-06-29T08:22:02.982Z"
   },
   {
    "duration": 0,
    "start_time": "2022-06-29T08:22:02.983Z"
   },
   {
    "duration": 0,
    "start_time": "2022-06-29T08:22:02.983Z"
   },
   {
    "duration": 0,
    "start_time": "2022-06-29T08:22:02.985Z"
   },
   {
    "duration": 0,
    "start_time": "2022-06-29T08:22:02.985Z"
   },
   {
    "duration": 0,
    "start_time": "2022-06-29T08:22:02.986Z"
   },
   {
    "duration": 0,
    "start_time": "2022-06-29T08:22:02.987Z"
   },
   {
    "duration": 0,
    "start_time": "2022-06-29T08:22:02.988Z"
   },
   {
    "duration": 0,
    "start_time": "2022-06-29T08:22:02.989Z"
   },
   {
    "duration": 0,
    "start_time": "2022-06-29T08:22:02.989Z"
   },
   {
    "duration": 0,
    "start_time": "2022-06-29T08:22:02.990Z"
   },
   {
    "duration": 10,
    "start_time": "2022-06-29T08:22:14.235Z"
   },
   {
    "duration": 16,
    "start_time": "2022-06-29T08:22:16.529Z"
   },
   {
    "duration": 13,
    "start_time": "2022-06-29T08:22:16.925Z"
   },
   {
    "duration": 10,
    "start_time": "2022-06-29T08:23:01.225Z"
   },
   {
    "duration": 16,
    "start_time": "2022-06-29T08:23:02.235Z"
   },
   {
    "duration": 13,
    "start_time": "2022-06-29T08:23:03.195Z"
   },
   {
    "duration": 389,
    "start_time": "2022-06-29T08:23:09.436Z"
   },
   {
    "duration": 166,
    "start_time": "2022-06-29T08:23:09.826Z"
   },
   {
    "duration": 178,
    "start_time": "2022-06-29T08:23:09.993Z"
   },
   {
    "duration": 20,
    "start_time": "2022-06-29T08:23:10.173Z"
   },
   {
    "duration": 152,
    "start_time": "2022-06-29T08:23:10.194Z"
   },
   {
    "duration": 136,
    "start_time": "2022-06-29T08:23:10.350Z"
   },
   {
    "duration": 9,
    "start_time": "2022-06-29T08:23:10.488Z"
   },
   {
    "duration": 40,
    "start_time": "2022-06-29T08:23:10.498Z"
   },
   {
    "duration": 62,
    "start_time": "2022-06-29T08:23:10.539Z"
   },
   {
    "duration": 25,
    "start_time": "2022-06-29T08:23:10.604Z"
   },
   {
    "duration": 91,
    "start_time": "2022-06-29T08:23:10.630Z"
   },
   {
    "duration": 92,
    "start_time": "2022-06-29T08:23:10.723Z"
   },
   {
    "duration": 125,
    "start_time": "2022-06-29T08:23:10.817Z"
   },
   {
    "duration": 25,
    "start_time": "2022-06-29T08:23:10.944Z"
   },
   {
    "duration": 18,
    "start_time": "2022-06-29T08:23:10.970Z"
   },
   {
    "duration": 12,
    "start_time": "2022-06-29T08:23:10.989Z"
   },
   {
    "duration": 8,
    "start_time": "2022-06-29T08:23:11.002Z"
   },
   {
    "duration": 3,
    "start_time": "2022-06-29T08:23:11.012Z"
   },
   {
    "duration": 6,
    "start_time": "2022-06-29T08:23:11.016Z"
   },
   {
    "duration": 7,
    "start_time": "2022-06-29T08:23:11.023Z"
   },
   {
    "duration": 26,
    "start_time": "2022-06-29T08:23:11.031Z"
   },
   {
    "duration": 29,
    "start_time": "2022-06-29T08:23:11.058Z"
   },
   {
    "duration": 32,
    "start_time": "2022-06-29T08:23:11.088Z"
   },
   {
    "duration": 31,
    "start_time": "2022-06-29T08:23:11.121Z"
   },
   {
    "duration": 78,
    "start_time": "2022-06-29T08:23:11.153Z"
   },
   {
    "duration": 65,
    "start_time": "2022-06-29T08:23:11.232Z"
   },
   {
    "duration": 12,
    "start_time": "2022-06-29T08:23:11.299Z"
   },
   {
    "duration": 29,
    "start_time": "2022-06-29T08:23:11.315Z"
   },
   {
    "duration": 31,
    "start_time": "2022-06-29T08:23:11.351Z"
   },
   {
    "duration": 46,
    "start_time": "2022-06-29T08:23:11.384Z"
   },
   {
    "duration": 32,
    "start_time": "2022-06-29T08:23:11.431Z"
   },
   {
    "duration": 37,
    "start_time": "2022-06-29T08:23:11.464Z"
   },
   {
    "duration": 60,
    "start_time": "2022-06-29T08:23:11.502Z"
   },
   {
    "duration": 2,
    "start_time": "2022-06-29T08:23:11.564Z"
   },
   {
    "duration": 21,
    "start_time": "2022-06-29T08:23:11.567Z"
   },
   {
    "duration": 10,
    "start_time": "2022-06-29T08:23:11.589Z"
   },
   {
    "duration": 13,
    "start_time": "2022-06-29T08:23:11.600Z"
   },
   {
    "duration": 17,
    "start_time": "2022-06-29T08:23:11.614Z"
   },
   {
    "duration": 19,
    "start_time": "2022-06-29T08:23:11.632Z"
   },
   {
    "duration": 17,
    "start_time": "2022-06-29T08:23:11.652Z"
   },
   {
    "duration": 15,
    "start_time": "2022-06-29T08:23:11.671Z"
   },
   {
    "duration": 12,
    "start_time": "2022-06-29T08:23:11.688Z"
   },
   {
    "duration": 17,
    "start_time": "2022-06-29T08:23:11.702Z"
   },
   {
    "duration": 4,
    "start_time": "2022-06-29T08:23:11.720Z"
   },
   {
    "duration": 26,
    "start_time": "2022-06-29T08:23:11.726Z"
   },
   {
    "duration": 10,
    "start_time": "2022-06-29T08:23:11.754Z"
   },
   {
    "duration": 17,
    "start_time": "2022-06-29T08:23:11.766Z"
   },
   {
    "duration": 16,
    "start_time": "2022-06-29T08:23:11.784Z"
   },
   {
    "duration": 18,
    "start_time": "2022-06-29T08:23:11.801Z"
   },
   {
    "duration": 9,
    "start_time": "2022-06-29T08:23:11.820Z"
   },
   {
    "duration": 23,
    "start_time": "2022-06-29T08:23:11.830Z"
   },
   {
    "duration": 17,
    "start_time": "2022-06-29T08:23:11.855Z"
   },
   {
    "duration": 7,
    "start_time": "2022-06-29T08:23:11.874Z"
   },
   {
    "duration": 15,
    "start_time": "2022-06-29T08:23:11.882Z"
   },
   {
    "duration": 2,
    "start_time": "2022-06-29T08:23:11.898Z"
   },
   {
    "duration": 20,
    "start_time": "2022-06-29T08:23:11.902Z"
   },
   {
    "duration": 2979,
    "start_time": "2022-06-29T08:23:11.923Z"
   },
   {
    "duration": 13,
    "start_time": "2022-06-29T08:23:14.904Z"
   },
   {
    "duration": 64,
    "start_time": "2022-06-29T08:23:14.918Z"
   },
   {
    "duration": 0,
    "start_time": "2022-06-29T08:23:14.983Z"
   },
   {
    "duration": 0,
    "start_time": "2022-06-29T08:23:14.984Z"
   },
   {
    "duration": 0,
    "start_time": "2022-06-29T08:23:14.985Z"
   },
   {
    "duration": 0,
    "start_time": "2022-06-29T08:23:14.986Z"
   },
   {
    "duration": 0,
    "start_time": "2022-06-29T08:23:14.987Z"
   },
   {
    "duration": 0,
    "start_time": "2022-06-29T08:23:14.988Z"
   },
   {
    "duration": 0,
    "start_time": "2022-06-29T08:23:14.989Z"
   },
   {
    "duration": 0,
    "start_time": "2022-06-29T08:23:14.990Z"
   },
   {
    "duration": 0,
    "start_time": "2022-06-29T08:23:14.991Z"
   },
   {
    "duration": 8,
    "start_time": "2022-06-29T08:34:59.608Z"
   },
   {
    "duration": 21,
    "start_time": "2022-06-29T08:35:19.503Z"
   },
   {
    "duration": 3,
    "start_time": "2022-06-29T08:40:52.687Z"
   },
   {
    "duration": 5,
    "start_time": "2022-06-29T08:40:53.221Z"
   },
   {
    "duration": 15,
    "start_time": "2022-06-29T08:40:54.170Z"
   },
   {
    "duration": 5,
    "start_time": "2022-06-29T08:40:58.443Z"
   },
   {
    "duration": 1179,
    "start_time": "2022-06-29T08:40:59.011Z"
   },
   {
    "duration": 6,
    "start_time": "2022-06-29T08:41:00.192Z"
   },
   {
    "duration": 0,
    "start_time": "2022-06-29T08:41:00.199Z"
   },
   {
    "duration": 1247,
    "start_time": "2022-06-29T08:41:15.390Z"
   },
   {
    "duration": 1282,
    "start_time": "2022-06-29T08:41:17.445Z"
   },
   {
    "duration": 1046,
    "start_time": "2022-06-29T08:41:19.228Z"
   },
   {
    "duration": 22,
    "start_time": "2022-06-29T08:41:22.434Z"
   },
   {
    "duration": 6,
    "start_time": "2022-06-29T08:42:02.624Z"
   },
   {
    "duration": 9,
    "start_time": "2022-06-29T08:43:54.912Z"
   },
   {
    "duration": 9,
    "start_time": "2022-06-29T08:44:08.294Z"
   },
   {
    "duration": 25,
    "start_time": "2022-06-29T08:51:02.146Z"
   },
   {
    "duration": 18,
    "start_time": "2022-06-29T08:52:06.724Z"
   },
   {
    "duration": 19,
    "start_time": "2022-06-29T08:53:19.982Z"
   },
   {
    "duration": 12,
    "start_time": "2022-06-29T08:54:00.784Z"
   },
   {
    "duration": 14,
    "start_time": "2022-06-29T08:54:12.184Z"
   },
   {
    "duration": 364,
    "start_time": "2022-06-29T08:54:22.024Z"
   },
   {
    "duration": 186,
    "start_time": "2022-06-29T08:54:22.390Z"
   },
   {
    "duration": 193,
    "start_time": "2022-06-29T08:54:22.579Z"
   },
   {
    "duration": 22,
    "start_time": "2022-06-29T08:54:22.775Z"
   },
   {
    "duration": 135,
    "start_time": "2022-06-29T08:54:22.799Z"
   },
   {
    "duration": 161,
    "start_time": "2022-06-29T08:54:22.936Z"
   },
   {
    "duration": 8,
    "start_time": "2022-06-29T08:54:23.098Z"
   },
   {
    "duration": 45,
    "start_time": "2022-06-29T08:54:23.107Z"
   },
   {
    "duration": 60,
    "start_time": "2022-06-29T08:54:23.160Z"
   },
   {
    "duration": 33,
    "start_time": "2022-06-29T08:54:23.221Z"
   },
   {
    "duration": 86,
    "start_time": "2022-06-29T08:54:23.256Z"
   },
   {
    "duration": 111,
    "start_time": "2022-06-29T08:54:23.350Z"
   },
   {
    "duration": 139,
    "start_time": "2022-06-29T08:54:23.463Z"
   },
   {
    "duration": 27,
    "start_time": "2022-06-29T08:54:23.605Z"
   },
   {
    "duration": 25,
    "start_time": "2022-06-29T08:54:23.633Z"
   },
   {
    "duration": 23,
    "start_time": "2022-06-29T08:54:23.661Z"
   },
   {
    "duration": 8,
    "start_time": "2022-06-29T08:54:23.686Z"
   },
   {
    "duration": 5,
    "start_time": "2022-06-29T08:54:23.695Z"
   },
   {
    "duration": 4,
    "start_time": "2022-06-29T08:54:23.701Z"
   },
   {
    "duration": 11,
    "start_time": "2022-06-29T08:54:23.706Z"
   },
   {
    "duration": 11,
    "start_time": "2022-06-29T08:54:23.718Z"
   },
   {
    "duration": 41,
    "start_time": "2022-06-29T08:54:23.730Z"
   },
   {
    "duration": 34,
    "start_time": "2022-06-29T08:54:23.772Z"
   },
   {
    "duration": 13,
    "start_time": "2022-06-29T08:54:23.808Z"
   },
   {
    "duration": 92,
    "start_time": "2022-06-29T08:54:23.823Z"
   },
   {
    "duration": 67,
    "start_time": "2022-06-29T08:54:23.917Z"
   },
   {
    "duration": 14,
    "start_time": "2022-06-29T08:54:23.986Z"
   },
   {
    "duration": 22,
    "start_time": "2022-06-29T08:54:24.002Z"
   },
   {
    "duration": 50,
    "start_time": "2022-06-29T08:54:24.026Z"
   },
   {
    "duration": 49,
    "start_time": "2022-06-29T08:54:24.081Z"
   },
   {
    "duration": 48,
    "start_time": "2022-06-29T08:54:24.131Z"
   },
   {
    "duration": 40,
    "start_time": "2022-06-29T08:54:24.182Z"
   },
   {
    "duration": 52,
    "start_time": "2022-06-29T08:54:24.224Z"
   },
   {
    "duration": 3,
    "start_time": "2022-06-29T08:54:24.277Z"
   },
   {
    "duration": 20,
    "start_time": "2022-06-29T08:54:24.282Z"
   },
   {
    "duration": 12,
    "start_time": "2022-06-29T08:54:24.303Z"
   },
   {
    "duration": 11,
    "start_time": "2022-06-29T08:54:24.316Z"
   },
   {
    "duration": 31,
    "start_time": "2022-06-29T08:54:24.328Z"
   },
   {
    "duration": 34,
    "start_time": "2022-06-29T08:54:24.360Z"
   },
   {
    "duration": 33,
    "start_time": "2022-06-29T08:54:24.396Z"
   },
   {
    "duration": 12,
    "start_time": "2022-06-29T08:54:24.433Z"
   },
   {
    "duration": 34,
    "start_time": "2022-06-29T08:54:24.447Z"
   },
   {
    "duration": 24,
    "start_time": "2022-06-29T08:54:24.484Z"
   },
   {
    "duration": 7,
    "start_time": "2022-06-29T08:54:24.509Z"
   },
   {
    "duration": 25,
    "start_time": "2022-06-29T08:54:24.517Z"
   },
   {
    "duration": 13,
    "start_time": "2022-06-29T08:54:24.544Z"
   },
   {
    "duration": 63,
    "start_time": "2022-06-29T08:54:24.558Z"
   },
   {
    "duration": 26,
    "start_time": "2022-06-29T08:54:24.624Z"
   },
   {
    "duration": 46,
    "start_time": "2022-06-29T08:54:24.661Z"
   },
   {
    "duration": 14,
    "start_time": "2022-06-29T08:54:24.709Z"
   },
   {
    "duration": 20,
    "start_time": "2022-06-29T08:54:24.725Z"
   },
   {
    "duration": 15,
    "start_time": "2022-06-29T08:54:24.747Z"
   },
   {
    "duration": 39,
    "start_time": "2022-06-29T08:54:24.765Z"
   },
   {
    "duration": 20,
    "start_time": "2022-06-29T08:54:24.806Z"
   },
   {
    "duration": 67,
    "start_time": "2022-06-29T08:54:24.828Z"
   },
   {
    "duration": 0,
    "start_time": "2022-06-29T08:54:24.896Z"
   },
   {
    "duration": 0,
    "start_time": "2022-06-29T08:54:24.897Z"
   },
   {
    "duration": 0,
    "start_time": "2022-06-29T08:54:24.898Z"
   },
   {
    "duration": 0,
    "start_time": "2022-06-29T08:54:24.899Z"
   },
   {
    "duration": 0,
    "start_time": "2022-06-29T08:54:24.900Z"
   },
   {
    "duration": 0,
    "start_time": "2022-06-29T08:54:24.902Z"
   },
   {
    "duration": 0,
    "start_time": "2022-06-29T08:54:24.903Z"
   },
   {
    "duration": 0,
    "start_time": "2022-06-29T08:54:24.904Z"
   },
   {
    "duration": 0,
    "start_time": "2022-06-29T08:54:24.905Z"
   },
   {
    "duration": 0,
    "start_time": "2022-06-29T08:54:24.906Z"
   },
   {
    "duration": 0,
    "start_time": "2022-06-29T08:54:24.906Z"
   },
   {
    "duration": 0,
    "start_time": "2022-06-29T08:54:24.908Z"
   },
   {
    "duration": 0,
    "start_time": "2022-06-29T08:54:24.909Z"
   },
   {
    "duration": 0,
    "start_time": "2022-06-29T08:54:24.910Z"
   },
   {
    "duration": 0,
    "start_time": "2022-06-29T08:54:24.912Z"
   },
   {
    "duration": 359,
    "start_time": "2022-06-29T08:54:37.881Z"
   },
   {
    "duration": 180,
    "start_time": "2022-06-29T08:54:38.242Z"
   },
   {
    "duration": 206,
    "start_time": "2022-06-29T08:54:38.423Z"
   },
   {
    "duration": 35,
    "start_time": "2022-06-29T08:54:38.631Z"
   },
   {
    "duration": 138,
    "start_time": "2022-06-29T08:54:38.675Z"
   },
   {
    "duration": 167,
    "start_time": "2022-06-29T08:54:38.814Z"
   },
   {
    "duration": 9,
    "start_time": "2022-06-29T08:54:38.982Z"
   },
   {
    "duration": 40,
    "start_time": "2022-06-29T08:54:38.993Z"
   },
   {
    "duration": 62,
    "start_time": "2022-06-29T08:54:39.034Z"
   },
   {
    "duration": 25,
    "start_time": "2022-06-29T08:54:39.097Z"
   },
   {
    "duration": 90,
    "start_time": "2022-06-29T08:54:39.124Z"
   },
   {
    "duration": 104,
    "start_time": "2022-06-29T08:54:39.216Z"
   },
   {
    "duration": 158,
    "start_time": "2022-06-29T08:54:39.321Z"
   },
   {
    "duration": 27,
    "start_time": "2022-06-29T08:54:39.482Z"
   },
   {
    "duration": 18,
    "start_time": "2022-06-29T08:54:39.510Z"
   },
   {
    "duration": 12,
    "start_time": "2022-06-29T08:54:39.530Z"
   },
   {
    "duration": 16,
    "start_time": "2022-06-29T08:54:39.543Z"
   },
   {
    "duration": 22,
    "start_time": "2022-06-29T08:54:39.565Z"
   },
   {
    "duration": 5,
    "start_time": "2022-06-29T08:54:39.588Z"
   },
   {
    "duration": 11,
    "start_time": "2022-06-29T08:54:39.595Z"
   },
   {
    "duration": 9,
    "start_time": "2022-06-29T08:54:39.608Z"
   },
   {
    "duration": 38,
    "start_time": "2022-06-29T08:54:39.619Z"
   },
   {
    "duration": 42,
    "start_time": "2022-06-29T08:54:39.658Z"
   },
   {
    "duration": 13,
    "start_time": "2022-06-29T08:54:39.702Z"
   },
   {
    "duration": 92,
    "start_time": "2022-06-29T08:54:39.716Z"
   },
   {
    "duration": 71,
    "start_time": "2022-06-29T08:54:39.810Z"
   },
   {
    "duration": 17,
    "start_time": "2022-06-29T08:54:39.883Z"
   },
   {
    "duration": 21,
    "start_time": "2022-06-29T08:54:39.901Z"
   },
   {
    "duration": 53,
    "start_time": "2022-06-29T08:54:39.923Z"
   },
   {
    "duration": 51,
    "start_time": "2022-06-29T08:54:39.981Z"
   },
   {
    "duration": 27,
    "start_time": "2022-06-29T08:54:40.033Z"
   },
   {
    "duration": 41,
    "start_time": "2022-06-29T08:54:40.063Z"
   },
   {
    "duration": 60,
    "start_time": "2022-06-29T08:54:40.106Z"
   },
   {
    "duration": 9,
    "start_time": "2022-06-29T08:54:40.172Z"
   },
   {
    "duration": 24,
    "start_time": "2022-06-29T08:54:40.183Z"
   },
   {
    "duration": 20,
    "start_time": "2022-06-29T08:54:40.209Z"
   },
   {
    "duration": 25,
    "start_time": "2022-06-29T08:54:40.231Z"
   },
   {
    "duration": 38,
    "start_time": "2022-06-29T08:54:40.257Z"
   },
   {
    "duration": 7,
    "start_time": "2022-06-29T08:54:40.297Z"
   },
   {
    "duration": 17,
    "start_time": "2022-06-29T08:54:40.305Z"
   },
   {
    "duration": 12,
    "start_time": "2022-06-29T08:54:40.326Z"
   },
   {
    "duration": 12,
    "start_time": "2022-06-29T08:54:40.339Z"
   },
   {
    "duration": 38,
    "start_time": "2022-06-29T08:54:40.355Z"
   },
   {
    "duration": 4,
    "start_time": "2022-06-29T08:54:40.395Z"
   },
   {
    "duration": 21,
    "start_time": "2022-06-29T08:54:40.400Z"
   },
   {
    "duration": 13,
    "start_time": "2022-06-29T08:54:40.423Z"
   },
   {
    "duration": 17,
    "start_time": "2022-06-29T08:54:40.437Z"
   },
   {
    "duration": 18,
    "start_time": "2022-06-29T08:54:40.456Z"
   },
   {
    "duration": 26,
    "start_time": "2022-06-29T08:54:40.475Z"
   },
   {
    "duration": 6,
    "start_time": "2022-06-29T08:54:40.502Z"
   },
   {
    "duration": 17,
    "start_time": "2022-06-29T08:54:40.509Z"
   },
   {
    "duration": 9,
    "start_time": "2022-06-29T08:54:40.527Z"
   },
   {
    "duration": 30,
    "start_time": "2022-06-29T08:54:40.537Z"
   },
   {
    "duration": 20,
    "start_time": "2022-06-29T08:54:40.572Z"
   },
   {
    "duration": 3105,
    "start_time": "2022-06-29T08:54:40.593Z"
   },
   {
    "duration": 14,
    "start_time": "2022-06-29T08:54:43.700Z"
   },
   {
    "duration": 11,
    "start_time": "2022-06-29T08:54:43.715Z"
   },
   {
    "duration": 3,
    "start_time": "2022-06-29T08:54:43.727Z"
   },
   {
    "duration": 29,
    "start_time": "2022-06-29T08:54:43.731Z"
   },
   {
    "duration": 29,
    "start_time": "2022-06-29T08:54:43.766Z"
   },
   {
    "duration": 3,
    "start_time": "2022-06-29T08:54:43.796Z"
   },
   {
    "duration": 1221,
    "start_time": "2022-06-29T08:54:43.800Z"
   },
   {
    "duration": 1179,
    "start_time": "2022-06-29T08:54:45.023Z"
   },
   {
    "duration": 1186,
    "start_time": "2022-06-29T08:54:46.203Z"
   },
   {
    "duration": 1021,
    "start_time": "2022-06-29T08:54:47.391Z"
   },
   {
    "duration": 16,
    "start_time": "2022-06-29T08:54:48.414Z"
   },
   {
    "duration": 7,
    "start_time": "2022-06-29T08:54:48.432Z"
   },
   {
    "duration": 28,
    "start_time": "2022-06-29T08:54:48.453Z"
   },
   {
    "duration": 12,
    "start_time": "2022-06-29T08:54:48.482Z"
   },
   {
    "duration": 14,
    "start_time": "2022-06-29T08:56:09.190Z"
   },
   {
    "duration": 6,
    "start_time": "2022-06-29T08:56:20.622Z"
   },
   {
    "duration": 63,
    "start_time": "2022-06-29T08:56:47.611Z"
   },
   {
    "duration": 8,
    "start_time": "2022-06-29T08:57:39.287Z"
   },
   {
    "duration": 6,
    "start_time": "2022-06-29T08:57:52.292Z"
   },
   {
    "duration": 7,
    "start_time": "2022-06-29T08:58:16.863Z"
   },
   {
    "duration": 18,
    "start_time": "2022-06-29T08:58:21.865Z"
   },
   {
    "duration": 19,
    "start_time": "2022-06-29T08:58:26.412Z"
   },
   {
    "duration": 18,
    "start_time": "2022-06-29T08:58:38.268Z"
   },
   {
    "duration": 830,
    "start_time": "2022-06-29T08:59:28.592Z"
   },
   {
    "duration": 817,
    "start_time": "2022-06-29T08:59:37.533Z"
   },
   {
    "duration": 7,
    "start_time": "2022-06-29T08:59:43.596Z"
   },
   {
    "duration": 19,
    "start_time": "2022-06-29T08:59:47.953Z"
   },
   {
    "duration": 7,
    "start_time": "2022-06-29T09:00:13.087Z"
   },
   {
    "duration": 5,
    "start_time": "2022-06-29T09:00:33.414Z"
   },
   {
    "duration": 6,
    "start_time": "2022-06-29T09:00:43.980Z"
   },
   {
    "duration": 6,
    "start_time": "2022-06-29T09:00:51.839Z"
   },
   {
    "duration": 6,
    "start_time": "2022-06-29T09:02:21.766Z"
   },
   {
    "duration": 5,
    "start_time": "2022-06-29T09:02:27.524Z"
   },
   {
    "duration": 6,
    "start_time": "2022-06-29T09:02:44.525Z"
   },
   {
    "duration": 10,
    "start_time": "2022-06-29T09:03:47.190Z"
   },
   {
    "duration": 4,
    "start_time": "2022-06-29T09:03:56.934Z"
   },
   {
    "duration": 5,
    "start_time": "2022-06-29T09:07:47.105Z"
   },
   {
    "duration": 3,
    "start_time": "2022-06-29T09:12:40.091Z"
   },
   {
    "duration": 1336,
    "start_time": "2022-06-29T09:12:40.812Z"
   },
   {
    "duration": 13,
    "start_time": "2022-06-29T09:12:46.224Z"
   },
   {
    "duration": 3,
    "start_time": "2022-06-29T09:13:20.873Z"
   },
   {
    "duration": 1309,
    "start_time": "2022-06-29T09:13:21.662Z"
   },
   {
    "duration": 13,
    "start_time": "2022-06-29T09:13:22.973Z"
   },
   {
    "duration": 3,
    "start_time": "2022-06-29T09:13:47.374Z"
   },
   {
    "duration": 1304,
    "start_time": "2022-06-29T09:13:47.901Z"
   },
   {
    "duration": 14,
    "start_time": "2022-06-29T09:13:49.207Z"
   },
   {
    "duration": 4,
    "start_time": "2022-06-29T09:14:57.664Z"
   },
   {
    "duration": 377,
    "start_time": "2022-06-29T09:14:58.125Z"
   },
   {
    "duration": 13,
    "start_time": "2022-06-29T09:14:58.793Z"
   },
   {
    "duration": 3,
    "start_time": "2022-06-29T10:07:53.767Z"
   },
   {
    "duration": 425,
    "start_time": "2022-06-29T10:07:54.200Z"
   },
   {
    "duration": 13,
    "start_time": "2022-06-29T10:07:59.977Z"
   },
   {
    "duration": 4,
    "start_time": "2022-06-29T10:08:13.186Z"
   },
   {
    "duration": 369,
    "start_time": "2022-06-29T10:08:13.558Z"
   },
   {
    "duration": 13,
    "start_time": "2022-06-29T10:08:14.232Z"
   },
   {
    "duration": 4,
    "start_time": "2022-06-29T10:08:49.709Z"
   },
   {
    "duration": 394,
    "start_time": "2022-06-29T10:08:50.152Z"
   },
   {
    "duration": 426,
    "start_time": "2022-06-29T10:09:54.479Z"
   },
   {
    "duration": 1159,
    "start_time": "2022-06-29T10:10:17.372Z"
   },
   {
    "duration": 393,
    "start_time": "2022-06-29T10:10:26.643Z"
   },
   {
    "duration": 367,
    "start_time": "2022-06-29T10:10:43.170Z"
   },
   {
    "duration": 162,
    "start_time": "2022-06-29T10:10:43.539Z"
   },
   {
    "duration": 174,
    "start_time": "2022-06-29T10:10:43.703Z"
   },
   {
    "duration": 22,
    "start_time": "2022-06-29T10:10:43.879Z"
   },
   {
    "duration": 137,
    "start_time": "2022-06-29T10:10:43.903Z"
   },
   {
    "duration": 139,
    "start_time": "2022-06-29T10:10:44.042Z"
   },
   {
    "duration": 10,
    "start_time": "2022-06-29T10:10:44.183Z"
   },
   {
    "duration": 42,
    "start_time": "2022-06-29T10:10:44.194Z"
   },
   {
    "duration": 66,
    "start_time": "2022-06-29T10:10:44.237Z"
   },
   {
    "duration": 26,
    "start_time": "2022-06-29T10:10:44.306Z"
   },
   {
    "duration": 103,
    "start_time": "2022-06-29T10:10:44.333Z"
   },
   {
    "duration": 118,
    "start_time": "2022-06-29T10:10:44.438Z"
   },
   {
    "duration": 133,
    "start_time": "2022-06-29T10:10:44.558Z"
   },
   {
    "duration": 25,
    "start_time": "2022-06-29T10:10:44.692Z"
   },
   {
    "duration": 18,
    "start_time": "2022-06-29T10:10:44.719Z"
   },
   {
    "duration": 18,
    "start_time": "2022-06-29T10:10:44.739Z"
   },
   {
    "duration": 8,
    "start_time": "2022-06-29T10:10:44.760Z"
   },
   {
    "duration": 6,
    "start_time": "2022-06-29T10:10:44.769Z"
   },
   {
    "duration": 9,
    "start_time": "2022-06-29T10:10:44.777Z"
   },
   {
    "duration": 5,
    "start_time": "2022-06-29T10:10:44.787Z"
   },
   {
    "duration": 9,
    "start_time": "2022-06-29T10:10:44.793Z"
   },
   {
    "duration": 50,
    "start_time": "2022-06-29T10:10:44.803Z"
   },
   {
    "duration": 34,
    "start_time": "2022-06-29T10:10:44.854Z"
   },
   {
    "duration": 17,
    "start_time": "2022-06-29T10:10:44.890Z"
   },
   {
    "duration": 97,
    "start_time": "2022-06-29T10:10:44.908Z"
   },
   {
    "duration": 65,
    "start_time": "2022-06-29T10:10:45.007Z"
   },
   {
    "duration": 15,
    "start_time": "2022-06-29T10:10:45.073Z"
   },
   {
    "duration": 20,
    "start_time": "2022-06-29T10:10:45.092Z"
   },
   {
    "duration": 51,
    "start_time": "2022-06-29T10:10:45.113Z"
   },
   {
    "duration": 51,
    "start_time": "2022-06-29T10:10:45.165Z"
   },
   {
    "duration": 42,
    "start_time": "2022-06-29T10:10:45.218Z"
   },
   {
    "duration": 43,
    "start_time": "2022-06-29T10:10:45.262Z"
   },
   {
    "duration": 53,
    "start_time": "2022-06-29T10:10:45.307Z"
   },
   {
    "duration": 2,
    "start_time": "2022-06-29T10:10:45.362Z"
   },
   {
    "duration": 19,
    "start_time": "2022-06-29T10:10:45.366Z"
   },
   {
    "duration": 11,
    "start_time": "2022-06-29T10:10:45.387Z"
   },
   {
    "duration": 11,
    "start_time": "2022-06-29T10:10:45.399Z"
   },
   {
    "duration": 14,
    "start_time": "2022-06-29T10:10:45.412Z"
   },
   {
    "duration": 24,
    "start_time": "2022-06-29T10:10:45.428Z"
   },
   {
    "duration": 19,
    "start_time": "2022-06-29T10:10:45.454Z"
   },
   {
    "duration": 15,
    "start_time": "2022-06-29T10:10:45.474Z"
   },
   {
    "duration": 22,
    "start_time": "2022-06-29T10:10:45.491Z"
   },
   {
    "duration": 17,
    "start_time": "2022-06-29T10:10:45.515Z"
   },
   {
    "duration": 5,
    "start_time": "2022-06-29T10:10:45.533Z"
   },
   {
    "duration": 23,
    "start_time": "2022-06-29T10:10:45.540Z"
   },
   {
    "duration": 9,
    "start_time": "2022-06-29T10:10:45.564Z"
   },
   {
    "duration": 20,
    "start_time": "2022-06-29T10:10:45.574Z"
   },
   {
    "duration": 14,
    "start_time": "2022-06-29T10:10:45.596Z"
   },
   {
    "duration": 18,
    "start_time": "2022-06-29T10:10:45.612Z"
   },
   {
    "duration": 20,
    "start_time": "2022-06-29T10:10:45.631Z"
   },
   {
    "duration": 18,
    "start_time": "2022-06-29T10:10:45.652Z"
   },
   {
    "duration": 7,
    "start_time": "2022-06-29T10:10:45.672Z"
   },
   {
    "duration": 15,
    "start_time": "2022-06-29T10:10:45.681Z"
   },
   {
    "duration": 17,
    "start_time": "2022-06-29T10:10:45.698Z"
   },
   {
    "duration": 3076,
    "start_time": "2022-06-29T10:10:45.717Z"
   },
   {
    "duration": 17,
    "start_time": "2022-06-29T10:10:48.795Z"
   },
   {
    "duration": 9,
    "start_time": "2022-06-29T10:10:48.814Z"
   },
   {
    "duration": 5,
    "start_time": "2022-06-29T10:10:48.824Z"
   },
   {
    "duration": 20,
    "start_time": "2022-06-29T10:10:48.831Z"
   },
   {
    "duration": 15,
    "start_time": "2022-06-29T10:10:48.853Z"
   },
   {
    "duration": 3,
    "start_time": "2022-06-29T10:10:48.869Z"
   },
   {
    "duration": 1151,
    "start_time": "2022-06-29T10:10:48.873Z"
   },
   {
    "duration": 1127,
    "start_time": "2022-06-29T10:10:50.026Z"
   },
   {
    "duration": 1180,
    "start_time": "2022-06-29T10:10:51.154Z"
   },
   {
    "duration": 1066,
    "start_time": "2022-06-29T10:10:52.335Z"
   },
   {
    "duration": 16,
    "start_time": "2022-06-29T10:10:53.403Z"
   },
   {
    "duration": 25,
    "start_time": "2022-06-29T10:10:53.421Z"
   },
   {
    "duration": 18,
    "start_time": "2022-06-29T10:10:53.447Z"
   },
   {
    "duration": 27,
    "start_time": "2022-06-29T10:10:53.466Z"
   },
   {
    "duration": 465,
    "start_time": "2022-06-29T10:10:53.494Z"
   },
   {
    "duration": 390,
    "start_time": "2022-06-29T10:11:05.284Z"
   },
   {
    "duration": 394,
    "start_time": "2022-06-29T10:11:20.931Z"
   },
   {
    "duration": 385,
    "start_time": "2022-06-29T10:14:04.014Z"
   },
   {
    "duration": 3,
    "start_time": "2022-06-29T10:14:13.365Z"
   },
   {
    "duration": 422,
    "start_time": "2022-06-29T10:14:14.364Z"
   },
   {
    "duration": 7,
    "start_time": "2022-06-29T10:17:01.604Z"
   },
   {
    "duration": 4,
    "start_time": "2022-06-29T10:17:06.177Z"
   },
   {
    "duration": 372,
    "start_time": "2022-06-29T10:17:06.651Z"
   },
   {
    "duration": 948,
    "start_time": "2022-06-29T10:18:25.666Z"
   },
   {
    "duration": 0,
    "start_time": "2022-06-29T10:18:26.615Z"
   },
   {
    "duration": 367,
    "start_time": "2022-06-29T10:18:53.452Z"
   },
   {
    "duration": 1022,
    "start_time": "2022-06-29T10:18:58.112Z"
   },
   {
    "duration": 3,
    "start_time": "2022-06-29T10:19:03.806Z"
   },
   {
    "duration": 442,
    "start_time": "2022-06-29T10:19:04.317Z"
   },
   {
    "duration": 837,
    "start_time": "2022-06-29T10:19:05.038Z"
   },
   {
    "duration": 307,
    "start_time": "2022-06-29T10:19:33.538Z"
   },
   {
    "duration": 9,
    "start_time": "2022-06-29T10:19:38.648Z"
   },
   {
    "duration": 3,
    "start_time": "2022-06-29T10:20:17.778Z"
   },
   {
    "duration": 405,
    "start_time": "2022-06-29T10:20:18.602Z"
   },
   {
    "duration": 9,
    "start_time": "2022-06-29T10:20:23.682Z"
   },
   {
    "duration": 317,
    "start_time": "2022-06-29T10:20:35.709Z"
   },
   {
    "duration": 9,
    "start_time": "2022-06-29T10:20:38.102Z"
   },
   {
    "duration": 14,
    "start_time": "2022-06-29T10:20:52.483Z"
   },
   {
    "duration": 4,
    "start_time": "2022-06-29T10:22:05.301Z"
   },
   {
    "duration": 374,
    "start_time": "2022-06-29T10:22:06.122Z"
   },
   {
    "duration": 11,
    "start_time": "2022-06-29T10:22:07.501Z"
   },
   {
    "duration": 349,
    "start_time": "2022-06-29T10:22:10.889Z"
   },
   {
    "duration": 13,
    "start_time": "2022-06-29T10:22:12.218Z"
   },
   {
    "duration": 373,
    "start_time": "2022-06-29T10:22:17.966Z"
   },
   {
    "duration": 160,
    "start_time": "2022-06-29T10:22:18.340Z"
   },
   {
    "duration": 170,
    "start_time": "2022-06-29T10:22:18.502Z"
   },
   {
    "duration": 20,
    "start_time": "2022-06-29T10:22:18.674Z"
   },
   {
    "duration": 137,
    "start_time": "2022-06-29T10:22:18.697Z"
   },
   {
    "duration": 144,
    "start_time": "2022-06-29T10:22:18.836Z"
   },
   {
    "duration": 9,
    "start_time": "2022-06-29T10:22:18.982Z"
   },
   {
    "duration": 38,
    "start_time": "2022-06-29T10:22:18.993Z"
   },
   {
    "duration": 63,
    "start_time": "2022-06-29T10:22:19.032Z"
   },
   {
    "duration": 27,
    "start_time": "2022-06-29T10:22:19.097Z"
   },
   {
    "duration": 101,
    "start_time": "2022-06-29T10:22:19.125Z"
   },
   {
    "duration": 92,
    "start_time": "2022-06-29T10:22:19.228Z"
   },
   {
    "duration": 121,
    "start_time": "2022-06-29T10:22:19.322Z"
   },
   {
    "duration": 30,
    "start_time": "2022-06-29T10:22:19.450Z"
   },
   {
    "duration": 24,
    "start_time": "2022-06-29T10:22:19.481Z"
   },
   {
    "duration": 16,
    "start_time": "2022-06-29T10:22:19.507Z"
   },
   {
    "duration": 11,
    "start_time": "2022-06-29T10:22:19.525Z"
   },
   {
    "duration": 16,
    "start_time": "2022-06-29T10:22:19.537Z"
   },
   {
    "duration": 6,
    "start_time": "2022-06-29T10:22:19.554Z"
   },
   {
    "duration": 5,
    "start_time": "2022-06-29T10:22:19.562Z"
   },
   {
    "duration": 9,
    "start_time": "2022-06-29T10:22:19.568Z"
   },
   {
    "duration": 29,
    "start_time": "2022-06-29T10:22:19.579Z"
   },
   {
    "duration": 55,
    "start_time": "2022-06-29T10:22:19.610Z"
   },
   {
    "duration": 14,
    "start_time": "2022-06-29T10:22:19.667Z"
   },
   {
    "duration": 97,
    "start_time": "2022-06-29T10:22:19.682Z"
   },
   {
    "duration": 49,
    "start_time": "2022-06-29T10:22:19.781Z"
   },
   {
    "duration": 24,
    "start_time": "2022-06-29T10:22:19.832Z"
   },
   {
    "duration": 20,
    "start_time": "2022-06-29T10:22:19.858Z"
   },
   {
    "duration": 31,
    "start_time": "2022-06-29T10:22:19.879Z"
   },
   {
    "duration": 65,
    "start_time": "2022-06-29T10:22:19.912Z"
   },
   {
    "duration": 18,
    "start_time": "2022-06-29T10:22:19.979Z"
   },
   {
    "duration": 35,
    "start_time": "2022-06-29T10:22:19.999Z"
   },
   {
    "duration": 42,
    "start_time": "2022-06-29T10:22:20.050Z"
   },
   {
    "duration": 2,
    "start_time": "2022-06-29T10:22:20.094Z"
   },
   {
    "duration": 18,
    "start_time": "2022-06-29T10:22:20.097Z"
   },
   {
    "duration": 11,
    "start_time": "2022-06-29T10:22:20.117Z"
   },
   {
    "duration": 27,
    "start_time": "2022-06-29T10:22:20.129Z"
   },
   {
    "duration": 15,
    "start_time": "2022-06-29T10:22:20.158Z"
   },
   {
    "duration": 3,
    "start_time": "2022-06-29T10:22:20.175Z"
   },
   {
    "duration": 22,
    "start_time": "2022-06-29T10:22:20.180Z"
   },
   {
    "duration": 12,
    "start_time": "2022-06-29T10:22:20.207Z"
   },
   {
    "duration": 32,
    "start_time": "2022-06-29T10:22:20.220Z"
   },
   {
    "duration": 17,
    "start_time": "2022-06-29T10:22:20.254Z"
   },
   {
    "duration": 5,
    "start_time": "2022-06-29T10:22:20.272Z"
   },
   {
    "duration": 18,
    "start_time": "2022-06-29T10:22:20.279Z"
   },
   {
    "duration": 8,
    "start_time": "2022-06-29T10:22:20.299Z"
   },
   {
    "duration": 17,
    "start_time": "2022-06-29T10:22:20.309Z"
   },
   {
    "duration": 30,
    "start_time": "2022-06-29T10:22:20.327Z"
   },
   {
    "duration": 15,
    "start_time": "2022-06-29T10:22:20.358Z"
   },
   {
    "duration": 4,
    "start_time": "2022-06-29T10:22:20.375Z"
   },
   {
    "duration": 17,
    "start_time": "2022-06-29T10:22:20.381Z"
   },
   {
    "duration": 7,
    "start_time": "2022-06-29T10:22:20.399Z"
   },
   {
    "duration": 24,
    "start_time": "2022-06-29T10:22:20.407Z"
   },
   {
    "duration": 26,
    "start_time": "2022-06-29T10:22:20.433Z"
   },
   {
    "duration": 2925,
    "start_time": "2022-06-29T10:22:20.461Z"
   },
   {
    "duration": 14,
    "start_time": "2022-06-29T10:22:23.388Z"
   },
   {
    "duration": 10,
    "start_time": "2022-06-29T10:22:23.403Z"
   },
   {
    "duration": 3,
    "start_time": "2022-06-29T10:22:23.414Z"
   },
   {
    "duration": 7,
    "start_time": "2022-06-29T10:22:23.418Z"
   },
   {
    "duration": 27,
    "start_time": "2022-06-29T10:22:23.426Z"
   },
   {
    "duration": 2,
    "start_time": "2022-06-29T10:22:23.454Z"
   },
   {
    "duration": 1181,
    "start_time": "2022-06-29T10:22:23.457Z"
   },
   {
    "duration": 1115,
    "start_time": "2022-06-29T10:22:24.640Z"
   },
   {
    "duration": 1289,
    "start_time": "2022-06-29T10:22:25.757Z"
   },
   {
    "duration": 1023,
    "start_time": "2022-06-29T10:22:27.048Z"
   },
   {
    "duration": 17,
    "start_time": "2022-06-29T10:22:28.073Z"
   },
   {
    "duration": 5,
    "start_time": "2022-06-29T10:22:28.092Z"
   },
   {
    "duration": 10,
    "start_time": "2022-06-29T10:22:28.098Z"
   },
   {
    "duration": 4,
    "start_time": "2022-06-29T10:22:28.109Z"
   },
   {
    "duration": 403,
    "start_time": "2022-06-29T10:22:28.114Z"
   },
   {
    "duration": 9,
    "start_time": "2022-06-29T10:22:28.518Z"
   },
   {
    "duration": 330,
    "start_time": "2022-06-29T10:22:28.529Z"
   },
   {
    "duration": 14,
    "start_time": "2022-06-29T10:22:28.860Z"
   },
   {
    "duration": 9,
    "start_time": "2022-06-29T10:22:28.875Z"
   },
   {
    "duration": 376,
    "start_time": "2022-06-29T10:25:15.235Z"
   },
   {
    "duration": 65,
    "start_time": "2022-06-29T10:29:19.677Z"
   },
   {
    "duration": 11,
    "start_time": "2022-06-29T10:29:37.127Z"
   },
   {
    "duration": 4,
    "start_time": "2022-06-29T10:29:45.994Z"
   },
   {
    "duration": 9,
    "start_time": "2022-06-29T10:29:50.390Z"
   },
   {
    "duration": 9,
    "start_time": "2022-06-29T10:29:56.334Z"
   },
   {
    "duration": 4,
    "start_time": "2022-06-29T10:30:03.475Z"
   },
   {
    "duration": 10,
    "start_time": "2022-06-29T10:30:17.112Z"
   },
   {
    "duration": 4,
    "start_time": "2022-06-29T10:30:28.108Z"
   },
   {
    "duration": 11,
    "start_time": "2022-06-29T10:30:38.349Z"
   },
   {
    "duration": 6,
    "start_time": "2022-06-29T10:31:37.408Z"
   },
   {
    "duration": 12,
    "start_time": "2022-06-29T10:31:40.237Z"
   },
   {
    "duration": 8,
    "start_time": "2022-06-29T10:31:53.953Z"
   },
   {
    "duration": 9,
    "start_time": "2022-06-29T10:32:03.510Z"
   },
   {
    "duration": 15,
    "start_time": "2022-06-29T10:33:25.282Z"
   },
   {
    "duration": 11,
    "start_time": "2022-06-29T10:35:20.646Z"
   },
   {
    "duration": 4,
    "start_time": "2022-06-29T10:35:44.108Z"
   },
   {
    "duration": 13,
    "start_time": "2022-06-29T10:35:44.776Z"
   },
   {
    "duration": 4,
    "start_time": "2022-06-29T10:35:53.343Z"
   },
   {
    "duration": 345,
    "start_time": "2022-06-29T10:35:53.789Z"
   },
   {
    "duration": 384,
    "start_time": "2022-06-29T10:35:54.275Z"
   },
   {
    "duration": 378,
    "start_time": "2022-06-29T10:35:54.660Z"
   },
   {
    "duration": 4,
    "start_time": "2022-06-29T10:35:55.306Z"
   },
   {
    "duration": 7,
    "start_time": "2022-06-29T10:35:56.282Z"
   },
   {
    "duration": 12,
    "start_time": "2022-06-29T10:36:02.701Z"
   },
   {
    "duration": 14,
    "start_time": "2022-06-29T10:39:08.143Z"
   },
   {
    "duration": 15,
    "start_time": "2022-06-29T10:39:26.185Z"
   },
   {
    "duration": 5,
    "start_time": "2022-06-29T10:40:00.756Z"
   },
   {
    "duration": 4,
    "start_time": "2022-06-29T10:40:01.684Z"
   },
   {
    "duration": 460,
    "start_time": "2022-06-29T10:41:11.646Z"
   },
   {
    "duration": 3,
    "start_time": "2022-06-29T10:41:19.810Z"
   },
   {
    "duration": 123,
    "start_time": "2022-06-29T10:41:24.099Z"
   },
   {
    "duration": 124,
    "start_time": "2022-06-29T10:41:46.965Z"
   },
   {
    "duration": 1328,
    "start_time": "2022-06-29T23:58:42.743Z"
   },
   {
    "duration": 243,
    "start_time": "2022-06-29T23:58:44.073Z"
   },
   {
    "duration": 239,
    "start_time": "2022-06-29T23:58:44.318Z"
   },
   {
    "duration": 26,
    "start_time": "2022-06-29T23:58:44.560Z"
   },
   {
    "duration": 316,
    "start_time": "2022-06-29T23:58:44.588Z"
   },
   {
    "duration": 161,
    "start_time": "2022-06-29T23:58:44.906Z"
   },
   {
    "duration": 11,
    "start_time": "2022-06-29T23:58:45.068Z"
   },
   {
    "duration": 63,
    "start_time": "2022-06-29T23:58:45.081Z"
   },
   {
    "duration": 77,
    "start_time": "2022-06-29T23:58:45.146Z"
   },
   {
    "duration": 42,
    "start_time": "2022-06-29T23:58:45.226Z"
   },
   {
    "duration": 112,
    "start_time": "2022-06-29T23:58:45.270Z"
   },
   {
    "duration": 161,
    "start_time": "2022-06-29T23:58:45.383Z"
   },
   {
    "duration": 148,
    "start_time": "2022-06-29T23:58:45.546Z"
   },
   {
    "duration": 41,
    "start_time": "2022-06-29T23:58:45.696Z"
   },
   {
    "duration": 24,
    "start_time": "2022-06-29T23:58:45.738Z"
   },
   {
    "duration": 16,
    "start_time": "2022-06-29T23:58:45.764Z"
   },
   {
    "duration": 11,
    "start_time": "2022-06-29T23:58:45.782Z"
   },
   {
    "duration": 11,
    "start_time": "2022-06-29T23:58:45.795Z"
   },
   {
    "duration": 8,
    "start_time": "2022-06-29T23:58:45.808Z"
   },
   {
    "duration": 6,
    "start_time": "2022-06-29T23:58:45.818Z"
   },
   {
    "duration": 32,
    "start_time": "2022-06-29T23:58:45.826Z"
   },
   {
    "duration": 37,
    "start_time": "2022-06-29T23:58:45.859Z"
   },
   {
    "duration": 53,
    "start_time": "2022-06-29T23:58:45.898Z"
   },
   {
    "duration": 16,
    "start_time": "2022-06-29T23:58:45.953Z"
   },
   {
    "duration": 108,
    "start_time": "2022-06-29T23:58:45.970Z"
   },
   {
    "duration": 60,
    "start_time": "2022-06-29T23:58:46.079Z"
   },
   {
    "duration": 23,
    "start_time": "2022-06-29T23:58:46.141Z"
   },
   {
    "duration": 23,
    "start_time": "2022-06-29T23:58:46.168Z"
   },
   {
    "duration": 60,
    "start_time": "2022-06-29T23:58:46.192Z"
   },
   {
    "duration": 56,
    "start_time": "2022-06-29T23:58:46.253Z"
   },
   {
    "duration": 22,
    "start_time": "2022-06-29T23:58:46.311Z"
   },
   {
    "duration": 42,
    "start_time": "2022-06-29T23:58:46.350Z"
   },
   {
    "duration": 64,
    "start_time": "2022-06-29T23:58:46.394Z"
   },
   {
    "duration": 3,
    "start_time": "2022-06-29T23:58:46.460Z"
   },
   {
    "duration": 23,
    "start_time": "2022-06-29T23:58:46.464Z"
   },
   {
    "duration": 15,
    "start_time": "2022-06-29T23:58:46.489Z"
   },
   {
    "duration": 11,
    "start_time": "2022-06-29T23:58:46.506Z"
   },
   {
    "duration": 32,
    "start_time": "2022-06-29T23:58:46.519Z"
   },
   {
    "duration": 3,
    "start_time": "2022-06-29T23:58:46.553Z"
   },
   {
    "duration": 20,
    "start_time": "2022-06-29T23:58:46.558Z"
   },
   {
    "duration": 15,
    "start_time": "2022-06-29T23:58:46.579Z"
   },
   {
    "duration": 13,
    "start_time": "2022-06-29T23:58:46.595Z"
   },
   {
    "duration": 15,
    "start_time": "2022-06-29T23:58:46.610Z"
   },
   {
    "duration": 3,
    "start_time": "2022-06-29T23:58:46.652Z"
   },
   {
    "duration": 21,
    "start_time": "2022-06-29T23:58:46.656Z"
   },
   {
    "duration": 13,
    "start_time": "2022-06-29T23:58:46.678Z"
   },
   {
    "duration": 19,
    "start_time": "2022-06-29T23:58:46.693Z"
   },
   {
    "duration": 39,
    "start_time": "2022-06-29T23:58:46.714Z"
   },
   {
    "duration": 18,
    "start_time": "2022-06-29T23:58:46.755Z"
   },
   {
    "duration": 9,
    "start_time": "2022-06-29T23:58:46.775Z"
   },
   {
    "duration": 27,
    "start_time": "2022-06-29T23:58:46.786Z"
   },
   {
    "duration": 9,
    "start_time": "2022-06-29T23:58:46.814Z"
   },
   {
    "duration": 38,
    "start_time": "2022-06-29T23:58:46.825Z"
   },
   {
    "duration": 22,
    "start_time": "2022-06-29T23:58:46.865Z"
   },
   {
    "duration": 3451,
    "start_time": "2022-06-29T23:58:46.888Z"
   },
   {
    "duration": 23,
    "start_time": "2022-06-29T23:58:50.340Z"
   },
   {
    "duration": 10,
    "start_time": "2022-06-29T23:58:50.365Z"
   },
   {
    "duration": 5,
    "start_time": "2022-06-29T23:58:50.376Z"
   },
   {
    "duration": 6,
    "start_time": "2022-06-29T23:58:50.382Z"
   },
   {
    "duration": 23,
    "start_time": "2022-06-29T23:58:50.390Z"
   },
   {
    "duration": 4,
    "start_time": "2022-06-29T23:58:50.415Z"
   },
   {
    "duration": 1364,
    "start_time": "2022-06-29T23:58:50.421Z"
   },
   {
    "duration": 1286,
    "start_time": "2022-06-29T23:58:51.787Z"
   },
   {
    "duration": 1295,
    "start_time": "2022-06-29T23:58:53.074Z"
   },
   {
    "duration": 1143,
    "start_time": "2022-06-29T23:58:54.371Z"
   },
   {
    "duration": 19,
    "start_time": "2022-06-29T23:58:55.516Z"
   },
   {
    "duration": 17,
    "start_time": "2022-06-29T23:58:55.537Z"
   },
   {
    "duration": 10,
    "start_time": "2022-06-29T23:58:55.556Z"
   },
   {
    "duration": 4,
    "start_time": "2022-06-29T23:58:55.568Z"
   },
   {
    "duration": 442,
    "start_time": "2022-06-29T23:58:55.573Z"
   },
   {
    "duration": 391,
    "start_time": "2022-06-29T23:58:56.017Z"
   },
   {
    "duration": 441,
    "start_time": "2022-06-29T23:58:56.410Z"
   },
   {
    "duration": 5,
    "start_time": "2022-06-29T23:58:56.852Z"
   },
   {
    "duration": 10,
    "start_time": "2022-06-29T23:58:56.858Z"
   },
   {
    "duration": 16,
    "start_time": "2022-06-29T23:58:56.869Z"
   },
   {
    "duration": 6,
    "start_time": "2022-06-29T23:58:56.887Z"
   },
   {
    "duration": 8,
    "start_time": "2022-06-29T23:58:56.895Z"
   },
   {
    "duration": 383,
    "start_time": "2022-06-29T23:58:56.904Z"
   },
   {
    "duration": 3,
    "start_time": "2022-06-29T23:58:57.289Z"
   },
   {
    "duration": 284,
    "start_time": "2022-06-29T23:59:15.975Z"
   },
   {
    "duration": 332,
    "start_time": "2022-06-29T23:59:23.453Z"
   },
   {
    "duration": 303,
    "start_time": "2022-06-29T23:59:41.250Z"
   },
   {
    "duration": 299,
    "start_time": "2022-06-30T00:04:33.230Z"
   },
   {
    "duration": 98,
    "start_time": "2022-06-30T00:13:48.446Z"
   },
   {
    "duration": 4,
    "start_time": "2022-06-30T00:13:50.381Z"
   },
   {
    "duration": 5,
    "start_time": "2022-06-30T00:13:51.070Z"
   },
   {
    "duration": 5,
    "start_time": "2022-06-30T00:13:51.466Z"
   },
   {
    "duration": 5,
    "start_time": "2022-06-30T00:13:51.928Z"
   },
   {
    "duration": 5,
    "start_time": "2022-06-30T00:15:35.103Z"
   },
   {
    "duration": 4,
    "start_time": "2022-06-30T00:18:44.831Z"
   },
   {
    "duration": 304,
    "start_time": "2022-06-30T00:18:58.764Z"
   },
   {
    "duration": 5,
    "start_time": "2022-06-30T00:19:23.602Z"
   },
   {
    "duration": 342,
    "start_time": "2022-06-30T00:19:35.208Z"
   },
   {
    "duration": 411,
    "start_time": "2022-06-30T00:20:31.142Z"
   },
   {
    "duration": 424,
    "start_time": "2022-06-30T00:20:36.583Z"
   },
   {
    "duration": 298,
    "start_time": "2022-06-30T00:20:50.384Z"
   },
   {
    "duration": 435,
    "start_time": "2022-06-30T00:21:02.063Z"
   },
   {
    "duration": 286,
    "start_time": "2022-06-30T00:21:09.067Z"
   },
   {
    "duration": 314,
    "start_time": "2022-06-30T00:24:14.950Z"
   },
   {
    "duration": 431,
    "start_time": "2022-06-30T00:24:31.287Z"
   },
   {
    "duration": 314,
    "start_time": "2022-06-30T00:24:46.839Z"
   },
   {
    "duration": 4,
    "start_time": "2022-06-30T00:26:02.361Z"
   },
   {
    "duration": 6,
    "start_time": "2022-06-30T00:26:37.817Z"
   },
   {
    "duration": 401,
    "start_time": "2022-06-30T00:28:16.441Z"
   },
   {
    "duration": 5,
    "start_time": "2022-06-30T00:28:19.510Z"
   },
   {
    "duration": 6,
    "start_time": "2022-06-30T00:28:46.958Z"
   },
   {
    "duration": 19,
    "start_time": "2022-06-30T00:33:15.425Z"
   },
   {
    "duration": 7,
    "start_time": "2022-06-30T00:36:32.617Z"
   },
   {
    "duration": 11,
    "start_time": "2022-06-30T00:37:41.110Z"
   },
   {
    "duration": 1122,
    "start_time": "2022-06-30T00:37:56.982Z"
   },
   {
    "duration": 4,
    "start_time": "2022-06-30T00:38:40.737Z"
   },
   {
    "duration": 1018,
    "start_time": "2022-06-30T00:38:41.392Z"
   },
   {
    "duration": 5,
    "start_time": "2022-06-30T00:39:24.306Z"
   },
   {
    "duration": 1815,
    "start_time": "2022-06-30T00:39:24.898Z"
   },
   {
    "duration": 4,
    "start_time": "2022-06-30T00:40:08.517Z"
   },
   {
    "duration": 480,
    "start_time": "2022-06-30T00:40:09.007Z"
   },
   {
    "duration": 16,
    "start_time": "2022-06-30T00:40:14.873Z"
   },
   {
    "duration": 10,
    "start_time": "2022-06-30T00:40:36.947Z"
   },
   {
    "duration": 563,
    "start_time": "2022-06-30T00:40:37.379Z"
   },
   {
    "duration": 24,
    "start_time": "2022-06-30T00:40:37.944Z"
   },
   {
    "duration": 9,
    "start_time": "2022-06-30T00:41:38.904Z"
   },
   {
    "duration": 18,
    "start_time": "2022-06-30T00:41:42.728Z"
   },
   {
    "duration": 339,
    "start_time": "2022-06-30T00:48:25.526Z"
   },
   {
    "duration": 8,
    "start_time": "2022-06-30T00:54:36.419Z"
   },
   {
    "duration": 4,
    "start_time": "2022-06-30T00:54:45.100Z"
   },
   {
    "duration": 11,
    "start_time": "2022-06-30T00:54:49.215Z"
   },
   {
    "duration": 6,
    "start_time": "2022-06-30T00:54:55.700Z"
   },
   {
    "duration": 6,
    "start_time": "2022-06-30T00:55:19.318Z"
   },
   {
    "duration": 5,
    "start_time": "2022-06-30T00:55:22.375Z"
   },
   {
    "duration": 9,
    "start_time": "2022-06-30T00:55:30.450Z"
   },
   {
    "duration": 6,
    "start_time": "2022-06-30T00:56:05.750Z"
   },
   {
    "duration": 12,
    "start_time": "2022-06-30T00:56:07.945Z"
   },
   {
    "duration": 7,
    "start_time": "2022-06-30T00:58:14.514Z"
   },
   {
    "duration": 9,
    "start_time": "2022-06-30T01:00:44.577Z"
   },
   {
    "duration": 5,
    "start_time": "2022-06-30T01:01:19.790Z"
   },
   {
    "duration": 21,
    "start_time": "2022-06-30T01:13:41.462Z"
   },
   {
    "duration": 15,
    "start_time": "2022-06-30T01:14:20.034Z"
   },
   {
    "duration": 8,
    "start_time": "2022-06-30T01:14:33.046Z"
   },
   {
    "duration": 6,
    "start_time": "2022-06-30T01:14:42.620Z"
   },
   {
    "duration": 13,
    "start_time": "2022-06-30T01:14:50.163Z"
   },
   {
    "duration": 16,
    "start_time": "2022-06-30T01:16:52.299Z"
   },
   {
    "duration": 4,
    "start_time": "2022-06-30T01:25:18.207Z"
   },
   {
    "duration": 14,
    "start_time": "2022-06-30T01:25:18.589Z"
   },
   {
    "duration": 982,
    "start_time": "2022-06-30T01:25:59.516Z"
   },
   {
    "duration": 13,
    "start_time": "2022-06-30T01:26:11.892Z"
   },
   {
    "duration": 4,
    "start_time": "2022-06-30T01:26:20.801Z"
   },
   {
    "duration": 15,
    "start_time": "2022-06-30T01:26:21.338Z"
   },
   {
    "duration": 4,
    "start_time": "2022-06-30T01:26:31.601Z"
   },
   {
    "duration": 24,
    "start_time": "2022-06-30T01:26:32.046Z"
   },
   {
    "duration": 3,
    "start_time": "2022-06-30T01:29:04.019Z"
   },
   {
    "duration": 13,
    "start_time": "2022-06-30T01:29:04.621Z"
   },
   {
    "duration": 5,
    "start_time": "2022-06-30T01:29:16.267Z"
   },
   {
    "duration": 13,
    "start_time": "2022-06-30T01:29:16.678Z"
   },
   {
    "duration": 17,
    "start_time": "2022-06-30T01:32:05.753Z"
   },
   {
    "duration": 6,
    "start_time": "2022-06-30T01:32:10.263Z"
   },
   {
    "duration": 15,
    "start_time": "2022-06-30T01:32:11.693Z"
   },
   {
    "duration": 6,
    "start_time": "2022-06-30T01:32:22.104Z"
   },
   {
    "duration": 22,
    "start_time": "2022-06-30T01:44:33.921Z"
   },
   {
    "duration": 24,
    "start_time": "2022-06-30T01:45:54.416Z"
   },
   {
    "duration": 4,
    "start_time": "2022-06-30T01:46:11.931Z"
   },
   {
    "duration": 14,
    "start_time": "2022-06-30T01:46:21.975Z"
   },
   {
    "duration": 9,
    "start_time": "2022-06-30T01:47:34.675Z"
   },
   {
    "duration": 9,
    "start_time": "2022-06-30T01:47:37.237Z"
   },
   {
    "duration": 4,
    "start_time": "2022-06-30T01:49:56.480Z"
   },
   {
    "duration": 7,
    "start_time": "2022-06-30T01:49:57.332Z"
   },
   {
    "duration": 13,
    "start_time": "2022-06-30T01:49:57.761Z"
   },
   {
    "duration": 4,
    "start_time": "2022-06-30T01:50:35.911Z"
   },
   {
    "duration": 9,
    "start_time": "2022-06-30T01:50:36.399Z"
   },
   {
    "duration": 17,
    "start_time": "2022-06-30T01:50:37.745Z"
   },
   {
    "duration": 5,
    "start_time": "2022-06-30T01:50:43.824Z"
   },
   {
    "duration": 4,
    "start_time": "2022-06-30T01:50:54.938Z"
   },
   {
    "duration": 7,
    "start_time": "2022-06-30T01:50:57.642Z"
   },
   {
    "duration": 19,
    "start_time": "2022-06-30T01:50:57.922Z"
   },
   {
    "duration": 3,
    "start_time": "2022-06-30T01:51:11.230Z"
   },
   {
    "duration": 9,
    "start_time": "2022-06-30T01:51:11.678Z"
   },
   {
    "duration": 397,
    "start_time": "2022-06-30T01:51:11.967Z"
   },
   {
    "duration": 11,
    "start_time": "2022-06-30T01:51:40.791Z"
   },
   {
    "duration": 375,
    "start_time": "2022-06-30T01:51:42.150Z"
   },
   {
    "duration": 4,
    "start_time": "2022-06-30T01:51:52.979Z"
   },
   {
    "duration": 372,
    "start_time": "2022-06-30T01:52:11.042Z"
   },
   {
    "duration": 363,
    "start_time": "2022-06-30T01:52:35.099Z"
   },
   {
    "duration": 8,
    "start_time": "2022-06-30T01:55:32.430Z"
   },
   {
    "duration": 9,
    "start_time": "2022-06-30T01:55:35.606Z"
   },
   {
    "duration": 8,
    "start_time": "2022-06-30T01:55:36.042Z"
   },
   {
    "duration": 18,
    "start_time": "2022-06-30T01:55:37.011Z"
   },
   {
    "duration": 7,
    "start_time": "2022-06-30T01:55:47.823Z"
   },
   {
    "duration": 6,
    "start_time": "2022-06-30T01:55:48.212Z"
   },
   {
    "duration": 336,
    "start_time": "2022-06-30T01:55:48.886Z"
   },
   {
    "duration": 339,
    "start_time": "2022-06-30T01:56:43.729Z"
   },
   {
    "duration": 8,
    "start_time": "2022-06-30T01:57:52.412Z"
   },
   {
    "duration": 8,
    "start_time": "2022-06-30T01:57:52.836Z"
   },
   {
    "duration": 350,
    "start_time": "2022-06-30T01:57:53.319Z"
   },
   {
    "duration": 15,
    "start_time": "2022-06-30T01:58:01.245Z"
   },
   {
    "duration": 8,
    "start_time": "2022-06-30T01:58:06.498Z"
   },
   {
    "duration": 7,
    "start_time": "2022-06-30T01:58:08.025Z"
   },
   {
    "duration": 386,
    "start_time": "2022-06-30T01:58:08.596Z"
   },
   {
    "duration": 366,
    "start_time": "2022-06-30T01:59:12.205Z"
   },
   {
    "duration": 442,
    "start_time": "2022-06-30T01:59:20.730Z"
   },
   {
    "duration": 10,
    "start_time": "2022-06-30T02:02:04.882Z"
   },
   {
    "duration": 8,
    "start_time": "2022-06-30T02:02:29.867Z"
   },
   {
    "duration": 5,
    "start_time": "2022-06-30T02:02:58.409Z"
   },
   {
    "duration": 5,
    "start_time": "2022-06-30T02:03:26.083Z"
   },
   {
    "duration": 5,
    "start_time": "2022-06-30T02:04:16.432Z"
   },
   {
    "duration": 10,
    "start_time": "2022-06-30T02:04:16.924Z"
   },
   {
    "duration": 5,
    "start_time": "2022-06-30T02:04:17.700Z"
   },
   {
    "duration": 8,
    "start_time": "2022-06-30T02:04:29.303Z"
   },
   {
    "duration": 6,
    "start_time": "2022-06-30T02:04:29.825Z"
   },
   {
    "duration": 5,
    "start_time": "2022-06-30T02:04:32.293Z"
   },
   {
    "duration": 7,
    "start_time": "2022-06-30T02:04:43.085Z"
   },
   {
    "duration": 4,
    "start_time": "2022-06-30T02:05:17.109Z"
   },
   {
    "duration": 4,
    "start_time": "2022-06-30T02:05:26.071Z"
   },
   {
    "duration": 5,
    "start_time": "2022-06-30T02:05:39.167Z"
   },
   {
    "duration": 6,
    "start_time": "2022-06-30T02:05:44.976Z"
   },
   {
    "duration": 5,
    "start_time": "2022-06-30T02:08:18.784Z"
   },
   {
    "duration": 4,
    "start_time": "2022-06-30T02:08:21.778Z"
   },
   {
    "duration": 6,
    "start_time": "2022-06-30T02:08:25.659Z"
   },
   {
    "duration": 5,
    "start_time": "2022-06-30T02:09:03.974Z"
   },
   {
    "duration": 7,
    "start_time": "2022-06-30T02:10:30.021Z"
   },
   {
    "duration": 8,
    "start_time": "2022-06-30T02:10:30.387Z"
   },
   {
    "duration": 5,
    "start_time": "2022-06-30T02:10:55.915Z"
   },
   {
    "duration": 5,
    "start_time": "2022-06-30T02:10:58.361Z"
   },
   {
    "duration": 6,
    "start_time": "2022-06-30T02:11:25.817Z"
   },
   {
    "duration": 5,
    "start_time": "2022-06-30T02:11:31.629Z"
   },
   {
    "duration": 4,
    "start_time": "2022-06-30T02:11:46.646Z"
   },
   {
    "duration": 11,
    "start_time": "2022-06-30T02:32:05.685Z"
   },
   {
    "duration": 1272,
    "start_time": "2022-06-30T03:04:18.763Z"
   },
   {
    "duration": 219,
    "start_time": "2022-06-30T03:04:20.039Z"
   },
   {
    "duration": 254,
    "start_time": "2022-06-30T03:04:20.260Z"
   },
   {
    "duration": 37,
    "start_time": "2022-06-30T03:04:20.516Z"
   },
   {
    "duration": 176,
    "start_time": "2022-06-30T03:04:20.555Z"
   },
   {
    "duration": 224,
    "start_time": "2022-06-30T03:04:20.734Z"
   },
   {
    "duration": 11,
    "start_time": "2022-06-30T03:04:20.960Z"
   },
   {
    "duration": 45,
    "start_time": "2022-06-30T03:04:20.972Z"
   },
   {
    "duration": 91,
    "start_time": "2022-06-30T03:04:21.019Z"
   },
   {
    "duration": 55,
    "start_time": "2022-06-30T03:04:21.114Z"
   },
   {
    "duration": 111,
    "start_time": "2022-06-30T03:04:21.172Z"
   },
   {
    "duration": 122,
    "start_time": "2022-06-30T03:04:21.285Z"
   },
   {
    "duration": 306,
    "start_time": "2022-06-30T03:04:21.409Z"
   },
   {
    "duration": 37,
    "start_time": "2022-06-30T03:04:21.717Z"
   },
   {
    "duration": 32,
    "start_time": "2022-06-30T03:04:21.757Z"
   },
   {
    "duration": 67,
    "start_time": "2022-06-30T03:04:21.790Z"
   },
   {
    "duration": 12,
    "start_time": "2022-06-30T03:04:21.859Z"
   },
   {
    "duration": 5,
    "start_time": "2022-06-30T03:04:21.873Z"
   },
   {
    "duration": 6,
    "start_time": "2022-06-30T03:04:21.880Z"
   },
   {
    "duration": 6,
    "start_time": "2022-06-30T03:04:21.888Z"
   },
   {
    "duration": 64,
    "start_time": "2022-06-30T03:04:21.896Z"
   },
   {
    "duration": 51,
    "start_time": "2022-06-30T03:04:21.962Z"
   },
   {
    "duration": 71,
    "start_time": "2022-06-30T03:04:22.016Z"
   },
   {
    "duration": 22,
    "start_time": "2022-06-30T03:04:22.090Z"
   },
   {
    "duration": 170,
    "start_time": "2022-06-30T03:04:22.114Z"
   },
   {
    "duration": 96,
    "start_time": "2022-06-30T03:04:22.286Z"
   },
   {
    "duration": 18,
    "start_time": "2022-06-30T03:04:22.384Z"
   },
   {
    "duration": 44,
    "start_time": "2022-06-30T03:04:22.408Z"
   },
   {
    "duration": 41,
    "start_time": "2022-06-30T03:04:22.453Z"
   },
   {
    "duration": 86,
    "start_time": "2022-06-30T03:04:22.497Z"
   },
   {
    "duration": 33,
    "start_time": "2022-06-30T03:04:22.585Z"
   },
   {
    "duration": 69,
    "start_time": "2022-06-30T03:04:22.621Z"
   },
   {
    "duration": 60,
    "start_time": "2022-06-30T03:04:22.692Z"
   },
   {
    "duration": 4,
    "start_time": "2022-06-30T03:04:22.753Z"
   },
   {
    "duration": 32,
    "start_time": "2022-06-30T03:04:22.759Z"
   },
   {
    "duration": 14,
    "start_time": "2022-06-30T03:04:22.793Z"
   },
   {
    "duration": 49,
    "start_time": "2022-06-30T03:04:22.809Z"
   },
   {
    "duration": 24,
    "start_time": "2022-06-30T03:04:22.861Z"
   },
   {
    "duration": 7,
    "start_time": "2022-06-30T03:04:22.887Z"
   },
   {
    "duration": 27,
    "start_time": "2022-06-30T03:04:22.895Z"
   },
   {
    "duration": 33,
    "start_time": "2022-06-30T03:04:22.924Z"
   },
   {
    "duration": 14,
    "start_time": "2022-06-30T03:04:22.959Z"
   },
   {
    "duration": 22,
    "start_time": "2022-06-30T03:04:22.976Z"
   },
   {
    "duration": 5,
    "start_time": "2022-06-30T03:04:23.001Z"
   },
   {
    "duration": 53,
    "start_time": "2022-06-30T03:04:23.008Z"
   },
   {
    "duration": 18,
    "start_time": "2022-06-30T03:04:23.063Z"
   },
   {
    "duration": 32,
    "start_time": "2022-06-30T03:04:23.084Z"
   },
   {
    "duration": 43,
    "start_time": "2022-06-30T03:04:23.118Z"
   },
   {
    "duration": 7,
    "start_time": "2022-06-30T03:04:23.163Z"
   },
   {
    "duration": 27,
    "start_time": "2022-06-30T03:04:23.172Z"
   },
   {
    "duration": 11,
    "start_time": "2022-06-30T03:04:23.202Z"
   },
   {
    "duration": 51,
    "start_time": "2022-06-30T03:04:23.220Z"
   },
   {
    "duration": 31,
    "start_time": "2022-06-30T03:04:23.273Z"
   },
   {
    "duration": 3997,
    "start_time": "2022-06-30T03:04:23.306Z"
   },
   {
    "duration": 21,
    "start_time": "2022-06-30T03:04:27.305Z"
   },
   {
    "duration": 25,
    "start_time": "2022-06-30T03:04:27.327Z"
   },
   {
    "duration": 4,
    "start_time": "2022-06-30T03:04:27.354Z"
   },
   {
    "duration": 12,
    "start_time": "2022-06-30T03:04:27.360Z"
   },
   {
    "duration": 24,
    "start_time": "2022-06-30T03:04:27.375Z"
   },
   {
    "duration": 4,
    "start_time": "2022-06-30T03:04:27.402Z"
   },
   {
    "duration": 1544,
    "start_time": "2022-06-30T03:04:27.408Z"
   },
   {
    "duration": 1555,
    "start_time": "2022-06-30T03:04:28.954Z"
   },
   {
    "duration": 1463,
    "start_time": "2022-06-30T03:04:30.511Z"
   },
   {
    "duration": 1263,
    "start_time": "2022-06-30T03:04:31.976Z"
   },
   {
    "duration": 26,
    "start_time": "2022-06-30T03:04:33.243Z"
   },
   {
    "duration": 19,
    "start_time": "2022-06-30T03:04:33.273Z"
   },
   {
    "duration": 21,
    "start_time": "2022-06-30T03:04:33.295Z"
   },
   {
    "duration": 4,
    "start_time": "2022-06-30T03:04:33.320Z"
   },
   {
    "duration": 9,
    "start_time": "2022-06-30T03:04:33.326Z"
   },
   {
    "duration": 11,
    "start_time": "2022-06-30T03:04:33.350Z"
   },
   {
    "duration": 18,
    "start_time": "2022-06-30T03:04:33.364Z"
   },
   {
    "duration": 491,
    "start_time": "2022-06-30T03:04:33.384Z"
   },
   {
    "duration": 445,
    "start_time": "2022-06-30T03:04:33.878Z"
   },
   {
    "duration": 9,
    "start_time": "2022-06-30T03:04:34.326Z"
   },
   {
    "duration": 8,
    "start_time": "2022-06-30T03:04:34.351Z"
   },
   {
    "duration": 444,
    "start_time": "2022-06-30T03:04:34.361Z"
   },
   {
    "duration": 347,
    "start_time": "2022-06-30T03:04:34.807Z"
   },
   {
    "duration": 12,
    "start_time": "2022-06-30T03:04:35.157Z"
   },
   {
    "duration": 19,
    "start_time": "2022-06-30T03:04:35.172Z"
   },
   {
    "duration": 460,
    "start_time": "2022-06-30T03:04:35.194Z"
   },
   {
    "duration": 312,
    "start_time": "2022-06-30T03:04:35.656Z"
   },
   {
    "duration": 30,
    "start_time": "2022-06-30T03:04:35.974Z"
   },
   {
    "duration": 4,
    "start_time": "2022-06-30T03:04:36.006Z"
   },
   {
    "duration": 15,
    "start_time": "2022-06-30T03:04:36.012Z"
   },
   {
    "duration": 30,
    "start_time": "2022-06-30T03:04:36.030Z"
   },
   {
    "duration": 9,
    "start_time": "2022-06-30T03:04:36.062Z"
   },
   {
    "duration": 19,
    "start_time": "2022-06-30T03:04:36.073Z"
   },
   {
    "duration": 15,
    "start_time": "2022-06-30T03:04:36.094Z"
   },
   {
    "duration": 7,
    "start_time": "2022-06-30T03:04:36.112Z"
   },
   {
    "duration": 262,
    "start_time": "2022-06-30T03:33:48.564Z"
   },
   {
    "duration": 1278,
    "start_time": "2022-06-30T03:39:03.841Z"
   },
   {
    "duration": 213,
    "start_time": "2022-06-30T03:39:05.121Z"
   },
   {
    "duration": 167,
    "start_time": "2022-06-30T03:39:05.335Z"
   },
   {
    "duration": 21,
    "start_time": "2022-06-30T03:39:05.503Z"
   },
   {
    "duration": 277,
    "start_time": "2022-06-30T03:39:05.525Z"
   },
   {
    "duration": 133,
    "start_time": "2022-06-30T03:39:05.804Z"
   },
   {
    "duration": 15,
    "start_time": "2022-06-30T03:39:05.939Z"
   },
   {
    "duration": 56,
    "start_time": "2022-06-30T03:39:05.955Z"
   },
   {
    "duration": 54,
    "start_time": "2022-06-30T03:39:06.013Z"
   },
   {
    "duration": 25,
    "start_time": "2022-06-30T03:39:06.069Z"
   },
   {
    "duration": 85,
    "start_time": "2022-06-30T03:39:06.095Z"
   },
   {
    "duration": 128,
    "start_time": "2022-06-30T03:39:06.181Z"
   },
   {
    "duration": 119,
    "start_time": "2022-06-30T03:39:06.310Z"
   },
   {
    "duration": 38,
    "start_time": "2022-06-30T03:39:06.433Z"
   },
   {
    "duration": 20,
    "start_time": "2022-06-30T03:39:06.472Z"
   },
   {
    "duration": 12,
    "start_time": "2022-06-30T03:39:06.494Z"
   },
   {
    "duration": 13,
    "start_time": "2022-06-30T03:39:06.508Z"
   },
   {
    "duration": 15,
    "start_time": "2022-06-30T03:39:06.523Z"
   },
   {
    "duration": 6,
    "start_time": "2022-06-30T03:39:06.540Z"
   },
   {
    "duration": 12,
    "start_time": "2022-06-30T03:39:06.551Z"
   },
   {
    "duration": 14,
    "start_time": "2022-06-30T03:39:06.565Z"
   },
   {
    "duration": 29,
    "start_time": "2022-06-30T03:39:06.581Z"
   },
   {
    "duration": 38,
    "start_time": "2022-06-30T03:39:06.612Z"
   },
   {
    "duration": 14,
    "start_time": "2022-06-30T03:39:06.652Z"
   },
   {
    "duration": 90,
    "start_time": "2022-06-30T03:39:06.668Z"
   },
   {
    "duration": 52,
    "start_time": "2022-06-30T03:39:06.760Z"
   },
   {
    "duration": 38,
    "start_time": "2022-06-30T03:39:06.813Z"
   },
   {
    "duration": 26,
    "start_time": "2022-06-30T03:39:06.853Z"
   },
   {
    "duration": 32,
    "start_time": "2022-06-30T03:39:06.881Z"
   },
   {
    "duration": 76,
    "start_time": "2022-06-30T03:39:06.914Z"
   },
   {
    "duration": 19,
    "start_time": "2022-06-30T03:39:06.992Z"
   },
   {
    "duration": 40,
    "start_time": "2022-06-30T03:39:07.012Z"
   },
   {
    "duration": 41,
    "start_time": "2022-06-30T03:39:07.053Z"
   },
   {
    "duration": 3,
    "start_time": "2022-06-30T03:39:07.096Z"
   },
   {
    "duration": 22,
    "start_time": "2022-06-30T03:39:07.101Z"
   },
   {
    "duration": 31,
    "start_time": "2022-06-30T03:39:07.124Z"
   },
   {
    "duration": 11,
    "start_time": "2022-06-30T03:39:07.156Z"
   },
   {
    "duration": 16,
    "start_time": "2022-06-30T03:39:07.168Z"
   },
   {
    "duration": 3,
    "start_time": "2022-06-30T03:39:07.186Z"
   },
   {
    "duration": 16,
    "start_time": "2022-06-30T03:39:07.191Z"
   },
   {
    "duration": 14,
    "start_time": "2022-06-30T03:39:07.212Z"
   },
   {
    "duration": 29,
    "start_time": "2022-06-30T03:39:07.228Z"
   },
   {
    "duration": 16,
    "start_time": "2022-06-30T03:39:07.258Z"
   },
   {
    "duration": 3,
    "start_time": "2022-06-30T03:39:07.276Z"
   },
   {
    "duration": 16,
    "start_time": "2022-06-30T03:39:07.281Z"
   },
   {
    "duration": 10,
    "start_time": "2022-06-30T03:39:07.298Z"
   },
   {
    "duration": 17,
    "start_time": "2022-06-30T03:39:07.310Z"
   },
   {
    "duration": 29,
    "start_time": "2022-06-30T03:39:07.328Z"
   },
   {
    "duration": 8,
    "start_time": "2022-06-30T03:39:07.358Z"
   },
   {
    "duration": 19,
    "start_time": "2022-06-30T03:39:07.368Z"
   },
   {
    "duration": 26,
    "start_time": "2022-06-30T03:39:07.389Z"
   },
   {
    "duration": 18,
    "start_time": "2022-06-30T03:39:07.416Z"
   },
   {
    "duration": 33,
    "start_time": "2022-06-30T03:39:07.436Z"
   },
   {
    "duration": 2890,
    "start_time": "2022-06-30T03:39:07.471Z"
   },
   {
    "duration": 19,
    "start_time": "2022-06-30T03:39:10.362Z"
   },
   {
    "duration": 11,
    "start_time": "2022-06-30T03:39:10.382Z"
   },
   {
    "duration": 2,
    "start_time": "2022-06-30T03:39:10.394Z"
   },
   {
    "duration": 10,
    "start_time": "2022-06-30T03:39:10.398Z"
   },
   {
    "duration": 16,
    "start_time": "2022-06-30T03:39:10.409Z"
   },
   {
    "duration": 3,
    "start_time": "2022-06-30T03:39:10.426Z"
   },
   {
    "duration": 1131,
    "start_time": "2022-06-30T03:39:10.450Z"
   },
   {
    "duration": 1135,
    "start_time": "2022-06-30T03:39:11.582Z"
   },
   {
    "duration": 1111,
    "start_time": "2022-06-30T03:39:12.719Z"
   },
   {
    "duration": 1122,
    "start_time": "2022-06-30T03:39:13.831Z"
   },
   {
    "duration": 16,
    "start_time": "2022-06-30T03:39:14.954Z"
   },
   {
    "duration": 6,
    "start_time": "2022-06-30T03:39:14.971Z"
   },
   {
    "duration": 13,
    "start_time": "2022-06-30T03:39:14.979Z"
   },
   {
    "duration": 16,
    "start_time": "2022-06-30T03:39:14.993Z"
   },
   {
    "duration": 17,
    "start_time": "2022-06-30T03:39:15.010Z"
   },
   {
    "duration": 15,
    "start_time": "2022-06-30T03:39:15.028Z"
   },
   {
    "duration": 9,
    "start_time": "2022-06-30T03:39:15.045Z"
   },
   {
    "duration": 384,
    "start_time": "2022-06-30T03:39:15.055Z"
   },
   {
    "duration": 304,
    "start_time": "2022-06-30T03:39:15.440Z"
   },
   {
    "duration": 7,
    "start_time": "2022-06-30T03:39:15.751Z"
   },
   {
    "duration": 9,
    "start_time": "2022-06-30T03:39:15.759Z"
   },
   {
    "duration": 288,
    "start_time": "2022-06-30T03:39:15.769Z"
   },
   {
    "duration": 263,
    "start_time": "2022-06-30T03:39:16.058Z"
   },
   {
    "duration": 7,
    "start_time": "2022-06-30T03:39:16.322Z"
   },
   {
    "duration": 20,
    "start_time": "2022-06-30T03:39:16.330Z"
   },
   {
    "duration": 314,
    "start_time": "2022-06-30T03:39:16.352Z"
   },
   {
    "duration": 257,
    "start_time": "2022-06-30T03:39:16.668Z"
   },
   {
    "duration": 27,
    "start_time": "2022-06-30T03:39:16.927Z"
   },
   {
    "duration": 6,
    "start_time": "2022-06-30T03:39:16.956Z"
   },
   {
    "duration": 12,
    "start_time": "2022-06-30T03:39:16.964Z"
   },
   {
    "duration": 12,
    "start_time": "2022-06-30T03:39:16.977Z"
   },
   {
    "duration": 9,
    "start_time": "2022-06-30T03:39:16.991Z"
   },
   {
    "duration": 11,
    "start_time": "2022-06-30T03:39:17.001Z"
   },
   {
    "duration": 8,
    "start_time": "2022-06-30T03:39:17.014Z"
   },
   {
    "duration": 9,
    "start_time": "2022-06-30T03:39:17.024Z"
   },
   {
    "duration": 20,
    "start_time": "2022-06-30T03:39:40.572Z"
   },
   {
    "duration": 20,
    "start_time": "2022-06-30T03:50:44.506Z"
   },
   {
    "duration": 4,
    "start_time": "2022-06-30T03:50:51.575Z"
   },
   {
    "duration": 18,
    "start_time": "2022-06-30T03:51:31.624Z"
   },
   {
    "duration": 16,
    "start_time": "2022-06-30T03:51:50.704Z"
   },
   {
    "duration": 67,
    "start_time": "2022-06-30T03:52:16.728Z"
   },
   {
    "duration": 19,
    "start_time": "2022-06-30T03:52:20.215Z"
   },
   {
    "duration": 91,
    "start_time": "2022-06-30T03:52:40.412Z"
   },
   {
    "duration": 14,
    "start_time": "2022-06-30T03:52:43.775Z"
   },
   {
    "duration": 17,
    "start_time": "2022-06-30T03:52:48.056Z"
   },
   {
    "duration": 20,
    "start_time": "2022-06-30T03:52:53.556Z"
   },
   {
    "duration": 25,
    "start_time": "2022-06-30T03:53:10.735Z"
   },
   {
    "duration": 11,
    "start_time": "2022-06-30T03:54:34.279Z"
   },
   {
    "duration": 11,
    "start_time": "2022-06-30T03:54:41.582Z"
   },
   {
    "duration": 13,
    "start_time": "2022-06-30T03:54:52.357Z"
   },
   {
    "duration": 9,
    "start_time": "2022-06-30T03:57:06.735Z"
   },
   {
    "duration": 8,
    "start_time": "2022-06-30T03:57:16.949Z"
   },
   {
    "duration": 3,
    "start_time": "2022-06-30T03:57:29.401Z"
   },
   {
    "duration": 4,
    "start_time": "2022-06-30T03:57:34.245Z"
   },
   {
    "duration": 3,
    "start_time": "2022-06-30T03:57:50.517Z"
   },
   {
    "duration": 4,
    "start_time": "2022-06-30T03:57:58.602Z"
   },
   {
    "duration": 6,
    "start_time": "2022-06-30T03:58:04.451Z"
   },
   {
    "duration": 4,
    "start_time": "2022-06-30T03:58:55.115Z"
   },
   {
    "duration": 58,
    "start_time": "2022-06-30T04:19:13.866Z"
   },
   {
    "duration": 99,
    "start_time": "2022-06-30T04:22:01.385Z"
   },
   {
    "duration": 4,
    "start_time": "2022-06-30T04:22:47.389Z"
   },
   {
    "duration": 19,
    "start_time": "2022-06-30T04:22:53.753Z"
   },
   {
    "duration": 1078,
    "start_time": "2022-06-30T04:23:14.310Z"
   },
   {
    "duration": 178,
    "start_time": "2022-06-30T04:23:15.390Z"
   },
   {
    "duration": 10,
    "start_time": "2022-06-30T04:23:15.570Z"
   },
   {
    "duration": 7,
    "start_time": "2022-06-30T04:23:15.581Z"
   },
   {
    "duration": 13,
    "start_time": "2022-06-30T04:23:15.590Z"
   },
   {
    "duration": 219,
    "start_time": "2022-06-30T04:23:15.605Z"
   },
   {
    "duration": 34,
    "start_time": "2022-06-30T04:23:15.826Z"
   },
   {
    "duration": 140,
    "start_time": "2022-06-30T04:23:15.862Z"
   },
   {
    "duration": 166,
    "start_time": "2022-06-30T04:23:16.003Z"
   },
   {
    "duration": 9,
    "start_time": "2022-06-30T04:23:16.171Z"
   },
   {
    "duration": 38,
    "start_time": "2022-06-30T04:23:16.182Z"
   },
   {
    "duration": 83,
    "start_time": "2022-06-30T04:23:16.221Z"
   },
   {
    "duration": 26,
    "start_time": "2022-06-30T04:23:16.305Z"
   },
   {
    "duration": 102,
    "start_time": "2022-06-30T04:23:16.334Z"
   },
   {
    "duration": 98,
    "start_time": "2022-06-30T04:23:16.437Z"
   },
   {
    "duration": 131,
    "start_time": "2022-06-30T04:23:16.536Z"
   },
   {
    "duration": 26,
    "start_time": "2022-06-30T04:23:16.669Z"
   },
   {
    "duration": 17,
    "start_time": "2022-06-30T04:23:16.697Z"
   },
   {
    "duration": 12,
    "start_time": "2022-06-30T04:23:16.716Z"
   },
   {
    "duration": 26,
    "start_time": "2022-06-30T04:23:16.730Z"
   },
   {
    "duration": 8,
    "start_time": "2022-06-30T04:23:16.758Z"
   },
   {
    "duration": 7,
    "start_time": "2022-06-30T04:23:16.767Z"
   },
   {
    "duration": 9,
    "start_time": "2022-06-30T04:23:16.776Z"
   },
   {
    "duration": 13,
    "start_time": "2022-06-30T04:23:16.786Z"
   },
   {
    "duration": 31,
    "start_time": "2022-06-30T04:23:16.801Z"
   },
   {
    "duration": 49,
    "start_time": "2022-06-30T04:23:16.833Z"
   },
   {
    "duration": 15,
    "start_time": "2022-06-30T04:23:16.884Z"
   },
   {
    "duration": 105,
    "start_time": "2022-06-30T04:23:16.900Z"
   },
   {
    "duration": 69,
    "start_time": "2022-06-30T04:23:17.007Z"
   },
   {
    "duration": 13,
    "start_time": "2022-06-30T04:23:17.077Z"
   },
   {
    "duration": 21,
    "start_time": "2022-06-30T04:23:17.091Z"
   },
   {
    "duration": 51,
    "start_time": "2022-06-30T04:23:17.113Z"
   },
   {
    "duration": 60,
    "start_time": "2022-06-30T04:23:17.165Z"
   },
   {
    "duration": 39,
    "start_time": "2022-06-30T04:23:17.226Z"
   },
   {
    "duration": 37,
    "start_time": "2022-06-30T04:23:17.268Z"
   },
   {
    "duration": 77,
    "start_time": "2022-06-30T04:23:17.307Z"
   },
   {
    "duration": 3,
    "start_time": "2022-06-30T04:23:17.385Z"
   },
   {
    "duration": 18,
    "start_time": "2022-06-30T04:23:17.390Z"
   },
   {
    "duration": 11,
    "start_time": "2022-06-30T04:23:17.410Z"
   },
   {
    "duration": 36,
    "start_time": "2022-06-30T04:23:17.422Z"
   },
   {
    "duration": 20,
    "start_time": "2022-06-30T04:23:17.464Z"
   },
   {
    "duration": 11,
    "start_time": "2022-06-30T04:23:17.486Z"
   },
   {
    "duration": 21,
    "start_time": "2022-06-30T04:23:17.499Z"
   },
   {
    "duration": 11,
    "start_time": "2022-06-30T04:23:17.521Z"
   },
   {
    "duration": 18,
    "start_time": "2022-06-30T04:23:17.533Z"
   },
   {
    "duration": 18,
    "start_time": "2022-06-30T04:23:17.552Z"
   },
   {
    "duration": 5,
    "start_time": "2022-06-30T04:23:17.572Z"
   },
   {
    "duration": 16,
    "start_time": "2022-06-30T04:23:17.578Z"
   },
   {
    "duration": 10,
    "start_time": "2022-06-30T04:23:17.596Z"
   },
   {
    "duration": 24,
    "start_time": "2022-06-30T04:23:17.607Z"
   },
   {
    "duration": 29,
    "start_time": "2022-06-30T04:23:17.633Z"
   },
   {
    "duration": 7,
    "start_time": "2022-06-30T04:23:17.664Z"
   },
   {
    "duration": 24,
    "start_time": "2022-06-30T04:23:17.673Z"
   },
   {
    "duration": 8,
    "start_time": "2022-06-30T04:23:17.699Z"
   },
   {
    "duration": 16,
    "start_time": "2022-06-30T04:23:17.708Z"
   },
   {
    "duration": 41,
    "start_time": "2022-06-30T04:23:17.725Z"
   },
   {
    "duration": 3049,
    "start_time": "2022-06-30T04:23:17.768Z"
   },
   {
    "duration": 14,
    "start_time": "2022-06-30T04:23:20.819Z"
   },
   {
    "duration": 33,
    "start_time": "2022-06-30T04:23:20.834Z"
   },
   {
    "duration": 21,
    "start_time": "2022-06-30T04:23:20.872Z"
   },
   {
    "duration": 17,
    "start_time": "2022-06-30T04:23:20.894Z"
   },
   {
    "duration": 19,
    "start_time": "2022-06-30T04:23:20.913Z"
   },
   {
    "duration": 3,
    "start_time": "2022-06-30T04:23:20.933Z"
   },
   {
    "duration": 1169,
    "start_time": "2022-06-30T04:23:20.937Z"
   },
   {
    "duration": 1079,
    "start_time": "2022-06-30T04:23:22.107Z"
   },
   {
    "duration": 1295,
    "start_time": "2022-06-30T04:23:23.187Z"
   },
   {
    "duration": 1051,
    "start_time": "2022-06-30T04:23:24.484Z"
   },
   {
    "duration": 19,
    "start_time": "2022-06-30T04:23:25.536Z"
   },
   {
    "duration": 6,
    "start_time": "2022-06-30T04:23:25.557Z"
   },
   {
    "duration": 17,
    "start_time": "2022-06-30T04:23:25.564Z"
   },
   {
    "duration": 17,
    "start_time": "2022-06-30T04:23:25.583Z"
   },
   {
    "duration": 3,
    "start_time": "2022-06-30T04:23:25.601Z"
   },
   {
    "duration": 8,
    "start_time": "2022-06-30T04:23:25.606Z"
   },
   {
    "duration": 8,
    "start_time": "2022-06-30T04:23:25.615Z"
   },
   {
    "duration": 9,
    "start_time": "2022-06-30T04:23:25.650Z"
   },
   {
    "duration": 349,
    "start_time": "2022-06-30T04:23:25.661Z"
   },
   {
    "duration": 364,
    "start_time": "2022-06-30T04:23:26.011Z"
   },
   {
    "duration": 9,
    "start_time": "2022-06-30T04:23:26.376Z"
   },
   {
    "duration": 8,
    "start_time": "2022-06-30T04:23:26.387Z"
   },
   {
    "duration": 403,
    "start_time": "2022-06-30T04:23:26.397Z"
   },
   {
    "duration": 376,
    "start_time": "2022-06-30T04:23:26.802Z"
   },
   {
    "duration": 8,
    "start_time": "2022-06-30T04:23:27.180Z"
   },
   {
    "duration": 10,
    "start_time": "2022-06-30T04:23:27.190Z"
   },
   {
    "duration": 453,
    "start_time": "2022-06-30T04:23:27.201Z"
   },
   {
    "duration": 344,
    "start_time": "2022-06-30T04:23:27.657Z"
   },
   {
    "duration": 19,
    "start_time": "2022-06-30T04:23:28.003Z"
   },
   {
    "duration": 5,
    "start_time": "2022-06-30T04:23:28.023Z"
   },
   {
    "duration": 23,
    "start_time": "2022-06-30T04:23:28.030Z"
   },
   {
    "duration": 25,
    "start_time": "2022-06-30T04:23:28.055Z"
   },
   {
    "duration": 10,
    "start_time": "2022-06-30T04:23:28.083Z"
   },
   {
    "duration": 10,
    "start_time": "2022-06-30T04:23:28.095Z"
   },
   {
    "duration": 11,
    "start_time": "2022-06-30T04:23:28.107Z"
   },
   {
    "duration": 12,
    "start_time": "2022-06-30T04:23:28.119Z"
   },
   {
    "duration": 1119,
    "start_time": "2022-06-30T04:32:57.015Z"
   },
   {
    "duration": 175,
    "start_time": "2022-06-30T04:32:58.136Z"
   },
   {
    "duration": 5,
    "start_time": "2022-06-30T04:32:58.312Z"
   },
   {
    "duration": 174,
    "start_time": "2022-06-30T04:32:58.319Z"
   },
   {
    "duration": 59,
    "start_time": "2022-06-30T04:32:58.495Z"
   },
   {
    "duration": 126,
    "start_time": "2022-06-30T04:32:58.556Z"
   },
   {
    "duration": 212,
    "start_time": "2022-06-30T04:32:58.683Z"
   },
   {
    "duration": 55,
    "start_time": "2022-06-30T04:32:58.897Z"
   },
   {
    "duration": 54,
    "start_time": "2022-06-30T04:32:58.954Z"
   },
   {
    "duration": 100,
    "start_time": "2022-06-30T04:32:59.010Z"
   },
   {
    "duration": 43,
    "start_time": "2022-06-30T04:32:59.112Z"
   },
   {
    "duration": 73,
    "start_time": "2022-06-30T04:32:59.157Z"
   },
   {
    "duration": 107,
    "start_time": "2022-06-30T04:32:59.231Z"
   },
   {
    "duration": 151,
    "start_time": "2022-06-30T04:32:59.340Z"
   },
   {
    "duration": 25,
    "start_time": "2022-06-30T04:32:59.493Z"
   },
   {
    "duration": 34,
    "start_time": "2022-06-30T04:32:59.520Z"
   },
   {
    "duration": 19,
    "start_time": "2022-06-30T04:32:59.556Z"
   },
   {
    "duration": 7,
    "start_time": "2022-06-30T04:32:59.577Z"
   },
   {
    "duration": 4,
    "start_time": "2022-06-30T04:32:59.585Z"
   },
   {
    "duration": 5,
    "start_time": "2022-06-30T04:32:59.591Z"
   },
   {
    "duration": 7,
    "start_time": "2022-06-30T04:32:59.597Z"
   },
   {
    "duration": 9,
    "start_time": "2022-06-30T04:32:59.605Z"
   },
   {
    "duration": 64,
    "start_time": "2022-06-30T04:32:59.615Z"
   },
   {
    "duration": 35,
    "start_time": "2022-06-30T04:32:59.680Z"
   },
   {
    "duration": 13,
    "start_time": "2022-06-30T04:32:59.716Z"
   },
   {
    "duration": 77,
    "start_time": "2022-06-30T04:32:59.750Z"
   },
   {
    "duration": 70,
    "start_time": "2022-06-30T04:32:59.829Z"
   },
   {
    "duration": 13,
    "start_time": "2022-06-30T04:32:59.902Z"
   },
   {
    "duration": 33,
    "start_time": "2022-06-30T04:32:59.917Z"
   },
   {
    "duration": 35,
    "start_time": "2022-06-30T04:32:59.952Z"
   },
   {
    "duration": 46,
    "start_time": "2022-06-30T04:32:59.988Z"
   },
   {
    "duration": 36,
    "start_time": "2022-06-30T04:33:00.035Z"
   },
   {
    "duration": 32,
    "start_time": "2022-06-30T04:33:00.073Z"
   },
   {
    "duration": 71,
    "start_time": "2022-06-30T04:33:00.106Z"
   },
   {
    "duration": 3,
    "start_time": "2022-06-30T04:33:00.179Z"
   },
   {
    "duration": 30,
    "start_time": "2022-06-30T04:33:00.183Z"
   },
   {
    "duration": 15,
    "start_time": "2022-06-30T04:33:00.215Z"
   },
   {
    "duration": 30,
    "start_time": "2022-06-30T04:33:00.231Z"
   },
   {
    "duration": 35,
    "start_time": "2022-06-30T04:33:00.263Z"
   },
   {
    "duration": 7,
    "start_time": "2022-06-30T04:33:00.300Z"
   },
   {
    "duration": 22,
    "start_time": "2022-06-30T04:33:00.309Z"
   },
   {
    "duration": 27,
    "start_time": "2022-06-30T04:33:00.333Z"
   },
   {
    "duration": 28,
    "start_time": "2022-06-30T04:33:00.361Z"
   },
   {
    "duration": 28,
    "start_time": "2022-06-30T04:33:00.390Z"
   },
   {
    "duration": 12,
    "start_time": "2022-06-30T04:33:00.420Z"
   },
   {
    "duration": 17,
    "start_time": "2022-06-30T04:33:00.434Z"
   },
   {
    "duration": 26,
    "start_time": "2022-06-30T04:33:00.453Z"
   },
   {
    "duration": 12,
    "start_time": "2022-06-30T04:33:00.481Z"
   },
   {
    "duration": 11,
    "start_time": "2022-06-30T04:33:00.494Z"
   },
   {
    "duration": 16,
    "start_time": "2022-06-30T04:33:00.507Z"
   },
   {
    "duration": 15,
    "start_time": "2022-06-30T04:33:00.524Z"
   },
   {
    "duration": 13,
    "start_time": "2022-06-30T04:33:00.541Z"
   },
   {
    "duration": 5,
    "start_time": "2022-06-30T04:33:00.556Z"
   },
   {
    "duration": 41,
    "start_time": "2022-06-30T04:33:00.563Z"
   },
   {
    "duration": 11,
    "start_time": "2022-06-30T04:33:00.606Z"
   },
   {
    "duration": 38,
    "start_time": "2022-06-30T04:33:00.619Z"
   },
   {
    "duration": 27,
    "start_time": "2022-06-30T04:33:00.659Z"
   },
   {
    "duration": 3348,
    "start_time": "2022-06-30T04:33:00.687Z"
   },
   {
    "duration": 18,
    "start_time": "2022-06-30T04:33:04.037Z"
   },
   {
    "duration": 26,
    "start_time": "2022-06-30T04:33:04.057Z"
   },
   {
    "duration": 5,
    "start_time": "2022-06-30T04:33:04.084Z"
   },
   {
    "duration": 9,
    "start_time": "2022-06-30T04:33:04.091Z"
   },
   {
    "duration": 18,
    "start_time": "2022-06-30T04:33:04.101Z"
   },
   {
    "duration": 3,
    "start_time": "2022-06-30T04:33:04.120Z"
   },
   {
    "duration": 1302,
    "start_time": "2022-06-30T04:33:04.125Z"
   },
   {
    "duration": 1194,
    "start_time": "2022-06-30T04:33:05.428Z"
   },
   {
    "duration": 1217,
    "start_time": "2022-06-30T04:33:06.623Z"
   },
   {
    "duration": 1008,
    "start_time": "2022-06-30T04:33:07.841Z"
   },
   {
    "duration": 19,
    "start_time": "2022-06-30T04:33:08.851Z"
   },
   {
    "duration": 11,
    "start_time": "2022-06-30T04:33:08.872Z"
   },
   {
    "duration": 11,
    "start_time": "2022-06-30T04:33:08.884Z"
   },
   {
    "duration": 17,
    "start_time": "2022-06-30T04:33:08.897Z"
   },
   {
    "duration": 2,
    "start_time": "2022-06-30T04:33:08.916Z"
   },
   {
    "duration": 6,
    "start_time": "2022-06-30T04:33:08.920Z"
   },
   {
    "duration": 10,
    "start_time": "2022-06-30T04:33:08.951Z"
   },
   {
    "duration": 26,
    "start_time": "2022-06-30T04:33:08.965Z"
   },
   {
    "duration": 361,
    "start_time": "2022-06-30T04:33:08.992Z"
   },
   {
    "duration": 313,
    "start_time": "2022-06-30T04:33:09.356Z"
   },
   {
    "duration": 6,
    "start_time": "2022-06-30T04:33:09.672Z"
   },
   {
    "duration": 7,
    "start_time": "2022-06-30T04:33:09.680Z"
   },
   {
    "duration": 305,
    "start_time": "2022-06-30T04:33:09.689Z"
   },
   {
    "duration": 299,
    "start_time": "2022-06-30T04:33:09.999Z"
   },
   {
    "duration": 8,
    "start_time": "2022-06-30T04:33:10.299Z"
   },
   {
    "duration": 10,
    "start_time": "2022-06-30T04:33:10.307Z"
   },
   {
    "duration": 374,
    "start_time": "2022-06-30T04:33:10.318Z"
   },
   {
    "duration": 291,
    "start_time": "2022-06-30T04:33:10.693Z"
   },
   {
    "duration": 15,
    "start_time": "2022-06-30T04:33:10.986Z"
   },
   {
    "duration": 3,
    "start_time": "2022-06-30T04:33:11.003Z"
   },
   {
    "duration": 11,
    "start_time": "2022-06-30T04:33:11.008Z"
   },
   {
    "duration": 8,
    "start_time": "2022-06-30T04:33:11.020Z"
   },
   {
    "duration": 25,
    "start_time": "2022-06-30T04:33:11.030Z"
   },
   {
    "duration": 15,
    "start_time": "2022-06-30T04:33:11.057Z"
   },
   {
    "duration": 12,
    "start_time": "2022-06-30T04:33:11.074Z"
   },
   {
    "duration": 6,
    "start_time": "2022-06-30T04:33:11.087Z"
   },
   {
    "duration": 13,
    "start_time": "2022-06-30T04:36:56.234Z"
   },
   {
    "duration": 83,
    "start_time": "2022-06-30T04:39:17.310Z"
   },
   {
    "duration": 8,
    "start_time": "2022-06-30T04:39:17.757Z"
   },
   {
    "duration": 35,
    "start_time": "2022-06-30T04:39:24.579Z"
   },
   {
    "duration": 11,
    "start_time": "2022-06-30T04:39:25.091Z"
   },
   {
    "duration": 11,
    "start_time": "2022-06-30T04:41:32.578Z"
   },
   {
    "duration": 22,
    "start_time": "2022-06-30T04:42:36.223Z"
   },
   {
    "duration": 10,
    "start_time": "2022-06-30T04:42:37.874Z"
   },
   {
    "duration": 3,
    "start_time": "2022-06-30T04:43:30.135Z"
   },
   {
    "duration": 10,
    "start_time": "2022-06-30T04:43:35.994Z"
   },
   {
    "duration": 15,
    "start_time": "2022-06-30T04:44:12.144Z"
   },
   {
    "duration": 11,
    "start_time": "2022-06-30T04:44:43.600Z"
   },
   {
    "duration": 22,
    "start_time": "2022-06-30T04:44:56.851Z"
   },
   {
    "duration": 23,
    "start_time": "2022-06-30T04:45:01.355Z"
   },
   {
    "duration": 8,
    "start_time": "2022-06-30T04:45:08.351Z"
   },
   {
    "duration": 23,
    "start_time": "2022-06-30T04:45:11.353Z"
   },
   {
    "duration": 10,
    "start_time": "2022-06-30T04:45:11.814Z"
   },
   {
    "duration": 12,
    "start_time": "2022-06-30T04:47:38.010Z"
   },
   {
    "duration": 36,
    "start_time": "2022-06-30T04:49:05.171Z"
   },
   {
    "duration": 8,
    "start_time": "2022-06-30T04:49:07.586Z"
   },
   {
    "duration": 214,
    "start_time": "2022-06-30T04:50:09.711Z"
   },
   {
    "duration": 28,
    "start_time": "2022-06-30T04:50:10.118Z"
   },
   {
    "duration": 19,
    "start_time": "2022-06-30T04:50:15.184Z"
   },
   {
    "duration": 234,
    "start_time": "2022-06-30T04:50:53.345Z"
   },
   {
    "duration": 27,
    "start_time": "2022-06-30T04:51:42.727Z"
   },
   {
    "duration": 27,
    "start_time": "2022-06-30T04:52:20.174Z"
   },
   {
    "duration": 23,
    "start_time": "2022-06-30T04:52:22.595Z"
   },
   {
    "duration": 24,
    "start_time": "2022-06-30T04:52:25.166Z"
   },
   {
    "duration": 19,
    "start_time": "2022-06-30T04:52:26.117Z"
   },
   {
    "duration": 18,
    "start_time": "2022-06-30T04:52:46.791Z"
   },
   {
    "duration": 41,
    "start_time": "2022-06-30T04:53:17.633Z"
   },
   {
    "duration": 10,
    "start_time": "2022-06-30T04:53:26.017Z"
   },
   {
    "duration": 35,
    "start_time": "2022-06-30T04:54:46.604Z"
   },
   {
    "duration": 10,
    "start_time": "2022-06-30T04:54:47.161Z"
   },
   {
    "duration": 21,
    "start_time": "2022-06-30T04:54:49.553Z"
   },
   {
    "duration": 27,
    "start_time": "2022-06-30T04:54:50.154Z"
   },
   {
    "duration": 88,
    "start_time": "2022-06-30T04:54:51.757Z"
   },
   {
    "duration": 12,
    "start_time": "2022-06-30T04:54:53.072Z"
   },
   {
    "duration": 45,
    "start_time": "2022-06-30T04:56:32.961Z"
   },
   {
    "duration": 10,
    "start_time": "2022-06-30T04:56:33.673Z"
   },
   {
    "duration": 28,
    "start_time": "2022-06-30T04:56:36.063Z"
   },
   {
    "duration": 28,
    "start_time": "2022-06-30T04:56:36.793Z"
   },
   {
    "duration": 24,
    "start_time": "2022-06-30T04:56:38.343Z"
   },
   {
    "duration": 14,
    "start_time": "2022-06-30T04:56:41.353Z"
   },
   {
    "duration": 9,
    "start_time": "2022-06-30T04:57:20.890Z"
   },
   {
    "duration": 17,
    "start_time": "2022-06-30T04:57:28.603Z"
   },
   {
    "duration": 27,
    "start_time": "2022-06-30T04:58:26.213Z"
   },
   {
    "duration": 12,
    "start_time": "2022-06-30T04:58:26.786Z"
   },
   {
    "duration": 3,
    "start_time": "2022-06-30T05:01:09.706Z"
   },
   {
    "duration": 819,
    "start_time": "2022-06-30T05:01:10.242Z"
   },
   {
    "duration": 13,
    "start_time": "2022-06-30T05:01:44.651Z"
   },
   {
    "duration": 5,
    "start_time": "2022-06-30T05:01:54.504Z"
   },
   {
    "duration": 16,
    "start_time": "2022-06-30T05:01:57.359Z"
   },
   {
    "duration": 21,
    "start_time": "2022-06-30T05:02:22.780Z"
   },
   {
    "duration": 15,
    "start_time": "2022-06-30T05:02:26.438Z"
   },
   {
    "duration": 45,
    "start_time": "2022-06-30T05:04:17.698Z"
   },
   {
    "duration": 8,
    "start_time": "2022-06-30T05:08:02.823Z"
   },
   {
    "duration": 150,
    "start_time": "2022-06-30T05:10:18.365Z"
   },
   {
    "duration": 17,
    "start_time": "2022-06-30T05:10:25.317Z"
   },
   {
    "duration": 16,
    "start_time": "2022-06-30T05:11:41.210Z"
   },
   {
    "duration": 23,
    "start_time": "2022-06-30T05:14:19.775Z"
   },
   {
    "duration": 427,
    "start_time": "2022-06-30T05:14:43.952Z"
   },
   {
    "duration": 26,
    "start_time": "2022-06-30T05:14:55.467Z"
   },
   {
    "duration": 14,
    "start_time": "2022-06-30T05:15:12.612Z"
   },
   {
    "duration": 13,
    "start_time": "2022-06-30T05:15:57.135Z"
   },
   {
    "duration": 22,
    "start_time": "2022-06-30T05:16:05.267Z"
   },
   {
    "duration": 18,
    "start_time": "2022-06-30T05:16:37.842Z"
   },
   {
    "duration": 16,
    "start_time": "2022-06-30T05:16:50.547Z"
   },
   {
    "duration": 67,
    "start_time": "2022-06-30T05:17:45.200Z"
   },
   {
    "duration": 50,
    "start_time": "2022-06-30T05:18:08.293Z"
   },
   {
    "duration": 12,
    "start_time": "2022-06-30T05:18:08.764Z"
   },
   {
    "duration": 32,
    "start_time": "2022-06-30T05:18:13.291Z"
   },
   {
    "duration": 34,
    "start_time": "2022-06-30T05:18:13.799Z"
   },
   {
    "duration": 28,
    "start_time": "2022-06-30T05:18:15.060Z"
   },
   {
    "duration": 3,
    "start_time": "2022-06-30T05:18:15.594Z"
   },
   {
    "duration": 26,
    "start_time": "2022-06-30T05:18:16.742Z"
   },
   {
    "duration": 7,
    "start_time": "2022-06-30T05:18:17.331Z"
   },
   {
    "duration": 12,
    "start_time": "2022-06-30T05:18:21.497Z"
   },
   {
    "duration": 8,
    "start_time": "2022-06-30T05:18:22.165Z"
   },
   {
    "duration": 22,
    "start_time": "2022-06-30T05:18:23.296Z"
   },
   {
    "duration": 5,
    "start_time": "2022-06-30T05:19:31.627Z"
   },
   {
    "duration": 18,
    "start_time": "2022-06-30T05:19:32.222Z"
   },
   {
    "duration": 139,
    "start_time": "2022-06-30T05:20:18.272Z"
   },
   {
    "duration": 13,
    "start_time": "2022-06-30T05:20:22.152Z"
   },
   {
    "duration": 48,
    "start_time": "2022-06-30T05:20:34.150Z"
   },
   {
    "duration": 36,
    "start_time": "2022-06-30T05:20:34.511Z"
   },
   {
    "duration": 31,
    "start_time": "2022-06-30T05:20:34.881Z"
   },
   {
    "duration": 25,
    "start_time": "2022-06-30T05:20:35.300Z"
   },
   {
    "duration": 2,
    "start_time": "2022-06-30T05:20:35.721Z"
   },
   {
    "duration": 22,
    "start_time": "2022-06-30T05:20:36.133Z"
   },
   {
    "duration": 8,
    "start_time": "2022-06-30T05:20:36.611Z"
   },
   {
    "duration": 9,
    "start_time": "2022-06-30T05:20:37.171Z"
   },
   {
    "duration": 8,
    "start_time": "2022-06-30T05:20:37.860Z"
   },
   {
    "duration": 11,
    "start_time": "2022-06-30T05:20:38.208Z"
   },
   {
    "duration": 5,
    "start_time": "2022-06-30T05:20:38.914Z"
   },
   {
    "duration": 18,
    "start_time": "2022-06-30T05:20:46.547Z"
   },
   {
    "duration": 7,
    "start_time": "2022-06-30T05:21:47.092Z"
   },
   {
    "duration": 7,
    "start_time": "2022-06-30T05:23:29.454Z"
   },
   {
    "duration": 13,
    "start_time": "2022-06-30T05:23:46.105Z"
   },
   {
    "duration": 11,
    "start_time": "2022-06-30T05:24:12.519Z"
   },
   {
    "duration": 13,
    "start_time": "2022-06-30T05:24:20.931Z"
   },
   {
    "duration": 11,
    "start_time": "2022-06-30T05:24:47.987Z"
   },
   {
    "duration": 10,
    "start_time": "2022-06-30T05:25:11.329Z"
   },
   {
    "duration": 12,
    "start_time": "2022-06-30T05:26:23.079Z"
   },
   {
    "duration": 53,
    "start_time": "2022-06-30T05:28:09.226Z"
   },
   {
    "duration": 1060,
    "start_time": "2022-06-30T05:29:52.486Z"
   },
   {
    "duration": 180,
    "start_time": "2022-06-30T05:29:53.548Z"
   },
   {
    "duration": 5,
    "start_time": "2022-06-30T05:29:53.730Z"
   },
   {
    "duration": 215,
    "start_time": "2022-06-30T05:29:53.737Z"
   },
   {
    "duration": 25,
    "start_time": "2022-06-30T05:29:53.953Z"
   },
   {
    "duration": 146,
    "start_time": "2022-06-30T05:29:53.980Z"
   },
   {
    "duration": 144,
    "start_time": "2022-06-30T05:29:54.128Z"
   },
   {
    "duration": 9,
    "start_time": "2022-06-30T05:29:54.273Z"
   },
   {
    "duration": 39,
    "start_time": "2022-06-30T05:29:54.283Z"
   },
   {
    "duration": 72,
    "start_time": "2022-06-30T05:29:54.325Z"
   },
   {
    "duration": 33,
    "start_time": "2022-06-30T05:29:54.399Z"
   },
   {
    "duration": 102,
    "start_time": "2022-06-30T05:29:54.451Z"
   },
   {
    "duration": 100,
    "start_time": "2022-06-30T05:29:54.555Z"
   },
   {
    "duration": 124,
    "start_time": "2022-06-30T05:29:54.656Z"
   },
   {
    "duration": 20,
    "start_time": "2022-06-30T05:29:54.781Z"
   },
   {
    "duration": 21,
    "start_time": "2022-06-30T05:29:54.802Z"
   },
   {
    "duration": 33,
    "start_time": "2022-06-30T05:29:54.824Z"
   },
   {
    "duration": 10,
    "start_time": "2022-06-30T05:29:54.858Z"
   },
   {
    "duration": 4,
    "start_time": "2022-06-30T05:29:54.870Z"
   },
   {
    "duration": 7,
    "start_time": "2022-06-30T05:29:54.875Z"
   },
   {
    "duration": 4,
    "start_time": "2022-06-30T05:29:54.884Z"
   },
   {
    "duration": 9,
    "start_time": "2022-06-30T05:29:54.890Z"
   },
   {
    "duration": 56,
    "start_time": "2022-06-30T05:29:54.900Z"
   },
   {
    "duration": 32,
    "start_time": "2022-06-30T05:29:54.958Z"
   },
   {
    "duration": 14,
    "start_time": "2022-06-30T05:29:54.991Z"
   },
   {
    "duration": 98,
    "start_time": "2022-06-30T05:29:55.007Z"
   },
   {
    "duration": 50,
    "start_time": "2022-06-30T05:29:55.107Z"
   },
   {
    "duration": 14,
    "start_time": "2022-06-30T05:29:55.162Z"
   },
   {
    "duration": 22,
    "start_time": "2022-06-30T05:29:55.178Z"
   },
   {
    "duration": 30,
    "start_time": "2022-06-30T05:29:55.201Z"
   },
   {
    "duration": 44,
    "start_time": "2022-06-30T05:29:55.250Z"
   },
   {
    "duration": 19,
    "start_time": "2022-06-30T05:29:55.296Z"
   },
   {
    "duration": 49,
    "start_time": "2022-06-30T05:29:55.317Z"
   },
   {
    "duration": 41,
    "start_time": "2022-06-30T05:29:55.367Z"
   },
   {
    "duration": 2,
    "start_time": "2022-06-30T05:29:55.409Z"
   },
   {
    "duration": 18,
    "start_time": "2022-06-30T05:29:55.413Z"
   },
   {
    "duration": 23,
    "start_time": "2022-06-30T05:29:55.432Z"
   },
   {
    "duration": 11,
    "start_time": "2022-06-30T05:29:55.456Z"
   },
   {
    "duration": 21,
    "start_time": "2022-06-30T05:29:55.468Z"
   },
   {
    "duration": 7,
    "start_time": "2022-06-30T05:29:55.491Z"
   },
   {
    "duration": 17,
    "start_time": "2022-06-30T05:29:55.499Z"
   },
   {
    "duration": 14,
    "start_time": "2022-06-30T05:29:55.518Z"
   },
   {
    "duration": 21,
    "start_time": "2022-06-30T05:29:55.533Z"
   },
   {
    "duration": 14,
    "start_time": "2022-06-30T05:29:55.556Z"
   },
   {
    "duration": 8,
    "start_time": "2022-06-30T05:29:55.572Z"
   },
   {
    "duration": 21,
    "start_time": "2022-06-30T05:29:55.582Z"
   },
   {
    "duration": 13,
    "start_time": "2022-06-30T05:29:55.604Z"
   },
   {
    "duration": 10,
    "start_time": "2022-06-30T05:29:55.619Z"
   },
   {
    "duration": 22,
    "start_time": "2022-06-30T05:29:55.630Z"
   },
   {
    "duration": 15,
    "start_time": "2022-06-30T05:29:55.654Z"
   },
   {
    "duration": 5,
    "start_time": "2022-06-30T05:29:55.671Z"
   },
   {
    "duration": 18,
    "start_time": "2022-06-30T05:29:55.677Z"
   },
   {
    "duration": 9,
    "start_time": "2022-06-30T05:29:55.696Z"
   },
   {
    "duration": 44,
    "start_time": "2022-06-30T05:29:55.707Z"
   },
   {
    "duration": 18,
    "start_time": "2022-06-30T05:29:55.753Z"
   },
   {
    "duration": 3032,
    "start_time": "2022-06-30T05:29:55.772Z"
   },
   {
    "duration": 15,
    "start_time": "2022-06-30T05:29:58.806Z"
   },
   {
    "duration": 15,
    "start_time": "2022-06-30T05:29:58.822Z"
   },
   {
    "duration": 18,
    "start_time": "2022-06-30T05:29:58.839Z"
   },
   {
    "duration": 19,
    "start_time": "2022-06-30T05:29:58.859Z"
   },
   {
    "duration": 28,
    "start_time": "2022-06-30T05:29:58.880Z"
   },
   {
    "duration": 9,
    "start_time": "2022-06-30T05:29:58.910Z"
   },
   {
    "duration": 1249,
    "start_time": "2022-06-30T05:29:58.920Z"
   },
   {
    "duration": 1236,
    "start_time": "2022-06-30T05:30:00.170Z"
   },
   {
    "duration": 1321,
    "start_time": "2022-06-30T05:30:01.408Z"
   },
   {
    "duration": 1073,
    "start_time": "2022-06-30T05:30:02.730Z"
   },
   {
    "duration": 17,
    "start_time": "2022-06-30T05:30:03.804Z"
   },
   {
    "duration": 7,
    "start_time": "2022-06-30T05:30:03.823Z"
   },
   {
    "duration": 25,
    "start_time": "2022-06-30T05:30:03.831Z"
   },
   {
    "duration": 42,
    "start_time": "2022-06-30T05:30:03.857Z"
   },
   {
    "duration": 29,
    "start_time": "2022-06-30T05:30:03.901Z"
   },
   {
    "duration": 46,
    "start_time": "2022-06-30T05:30:03.932Z"
   },
   {
    "duration": 30,
    "start_time": "2022-06-30T05:30:03.979Z"
   },
   {
    "duration": 3,
    "start_time": "2022-06-30T05:30:04.010Z"
   },
   {
    "duration": 48,
    "start_time": "2022-06-30T05:30:04.015Z"
   },
   {
    "duration": 9,
    "start_time": "2022-06-30T05:30:04.065Z"
   },
   {
    "duration": 15,
    "start_time": "2022-06-30T05:30:04.075Z"
   },
   {
    "duration": 12,
    "start_time": "2022-06-30T05:30:04.091Z"
   },
   {
    "duration": 14,
    "start_time": "2022-06-30T05:30:04.104Z"
   },
   {
    "duration": 4,
    "start_time": "2022-06-30T05:30:04.119Z"
   },
   {
    "duration": 2862,
    "start_time": "2022-06-30T05:30:04.125Z"
   },
   {
    "duration": 0,
    "start_time": "2022-06-30T05:30:06.989Z"
   },
   {
    "duration": 0,
    "start_time": "2022-06-30T05:30:06.990Z"
   },
   {
    "duration": 0,
    "start_time": "2022-06-30T05:30:06.991Z"
   },
   {
    "duration": 0,
    "start_time": "2022-06-30T05:30:06.992Z"
   },
   {
    "duration": 0,
    "start_time": "2022-06-30T05:30:06.993Z"
   },
   {
    "duration": 0,
    "start_time": "2022-06-30T05:30:06.994Z"
   },
   {
    "duration": 0,
    "start_time": "2022-06-30T05:30:06.995Z"
   },
   {
    "duration": 0,
    "start_time": "2022-06-30T05:30:06.996Z"
   },
   {
    "duration": 0,
    "start_time": "2022-06-30T05:30:06.998Z"
   },
   {
    "duration": 0,
    "start_time": "2022-06-30T05:30:06.998Z"
   },
   {
    "duration": 0,
    "start_time": "2022-06-30T05:30:07.000Z"
   },
   {
    "duration": 0,
    "start_time": "2022-06-30T05:30:07.000Z"
   },
   {
    "duration": 0,
    "start_time": "2022-06-30T05:30:07.001Z"
   },
   {
    "duration": 0,
    "start_time": "2022-06-30T05:30:07.002Z"
   },
   {
    "duration": 0,
    "start_time": "2022-06-30T05:30:07.003Z"
   },
   {
    "duration": 0,
    "start_time": "2022-06-30T05:30:07.004Z"
   },
   {
    "duration": 0,
    "start_time": "2022-06-30T05:30:07.005Z"
   },
   {
    "duration": 0,
    "start_time": "2022-06-30T05:30:07.006Z"
   },
   {
    "duration": 0,
    "start_time": "2022-06-30T05:30:07.007Z"
   },
   {
    "duration": 0,
    "start_time": "2022-06-30T05:30:07.008Z"
   },
   {
    "duration": 0,
    "start_time": "2022-06-30T05:30:07.009Z"
   },
   {
    "duration": 0,
    "start_time": "2022-06-30T05:30:07.010Z"
   },
   {
    "duration": 0,
    "start_time": "2022-06-30T05:30:07.011Z"
   },
   {
    "duration": 0,
    "start_time": "2022-06-30T05:30:07.012Z"
   },
   {
    "duration": 1140,
    "start_time": "2022-06-30T05:30:38.827Z"
   },
   {
    "duration": 174,
    "start_time": "2022-06-30T05:30:39.969Z"
   },
   {
    "duration": 7,
    "start_time": "2022-06-30T05:30:40.145Z"
   },
   {
    "duration": 213,
    "start_time": "2022-06-30T05:30:40.153Z"
   },
   {
    "duration": 23,
    "start_time": "2022-06-30T05:30:40.368Z"
   },
   {
    "duration": 145,
    "start_time": "2022-06-30T05:30:40.393Z"
   },
   {
    "duration": 148,
    "start_time": "2022-06-30T05:30:40.540Z"
   },
   {
    "duration": 9,
    "start_time": "2022-06-30T05:30:40.690Z"
   },
   {
    "duration": 40,
    "start_time": "2022-06-30T05:30:40.700Z"
   },
   {
    "duration": 70,
    "start_time": "2022-06-30T05:30:40.743Z"
   },
   {
    "duration": 48,
    "start_time": "2022-06-30T05:30:40.815Z"
   },
   {
    "duration": 88,
    "start_time": "2022-06-30T05:30:40.864Z"
   },
   {
    "duration": 97,
    "start_time": "2022-06-30T05:30:40.954Z"
   },
   {
    "duration": 133,
    "start_time": "2022-06-30T05:30:41.055Z"
   },
   {
    "duration": 25,
    "start_time": "2022-06-30T05:30:41.189Z"
   },
   {
    "duration": 20,
    "start_time": "2022-06-30T05:30:41.216Z"
   },
   {
    "duration": 23,
    "start_time": "2022-06-30T05:30:41.238Z"
   },
   {
    "duration": 7,
    "start_time": "2022-06-30T05:30:41.263Z"
   },
   {
    "duration": 5,
    "start_time": "2022-06-30T05:30:41.272Z"
   },
   {
    "duration": 4,
    "start_time": "2022-06-30T05:30:41.279Z"
   },
   {
    "duration": 7,
    "start_time": "2022-06-30T05:30:41.285Z"
   },
   {
    "duration": 9,
    "start_time": "2022-06-30T05:30:41.294Z"
   },
   {
    "duration": 68,
    "start_time": "2022-06-30T05:30:41.304Z"
   },
   {
    "duration": 33,
    "start_time": "2022-06-30T05:30:41.374Z"
   },
   {
    "duration": 14,
    "start_time": "2022-06-30T05:30:41.409Z"
   },
   {
    "duration": 100,
    "start_time": "2022-06-30T05:30:41.425Z"
   },
   {
    "duration": 56,
    "start_time": "2022-06-30T05:30:41.527Z"
   },
   {
    "duration": 15,
    "start_time": "2022-06-30T05:30:41.585Z"
   },
   {
    "duration": 25,
    "start_time": "2022-06-30T05:30:41.601Z"
   },
   {
    "duration": 45,
    "start_time": "2022-06-30T05:30:41.627Z"
   },
   {
    "duration": 49,
    "start_time": "2022-06-30T05:30:41.673Z"
   },
   {
    "duration": 35,
    "start_time": "2022-06-30T05:30:41.723Z"
   },
   {
    "duration": 35,
    "start_time": "2022-06-30T05:30:41.759Z"
   },
   {
    "duration": 62,
    "start_time": "2022-06-30T05:30:41.795Z"
   },
   {
    "duration": 2,
    "start_time": "2022-06-30T05:30:41.859Z"
   },
   {
    "duration": 23,
    "start_time": "2022-06-30T05:30:41.863Z"
   },
   {
    "duration": 15,
    "start_time": "2022-06-30T05:30:41.888Z"
   },
   {
    "duration": 17,
    "start_time": "2022-06-30T05:30:41.905Z"
   },
   {
    "duration": 16,
    "start_time": "2022-06-30T05:30:41.923Z"
   },
   {
    "duration": 11,
    "start_time": "2022-06-30T05:30:41.940Z"
   },
   {
    "duration": 16,
    "start_time": "2022-06-30T05:30:41.955Z"
   },
   {
    "duration": 9,
    "start_time": "2022-06-30T05:30:41.973Z"
   },
   {
    "duration": 15,
    "start_time": "2022-06-30T05:30:41.983Z"
   },
   {
    "duration": 15,
    "start_time": "2022-06-30T05:30:41.999Z"
   },
   {
    "duration": 5,
    "start_time": "2022-06-30T05:30:42.015Z"
   },
   {
    "duration": 42,
    "start_time": "2022-06-30T05:30:42.021Z"
   },
   {
    "duration": 12,
    "start_time": "2022-06-30T05:30:42.064Z"
   },
   {
    "duration": 17,
    "start_time": "2022-06-30T05:30:42.078Z"
   },
   {
    "duration": 14,
    "start_time": "2022-06-30T05:30:42.097Z"
   },
   {
    "duration": 17,
    "start_time": "2022-06-30T05:30:42.112Z"
   },
   {
    "duration": 12,
    "start_time": "2022-06-30T05:30:42.130Z"
   },
   {
    "duration": 17,
    "start_time": "2022-06-30T05:30:42.150Z"
   },
   {
    "duration": 8,
    "start_time": "2022-06-30T05:30:42.169Z"
   },
   {
    "duration": 16,
    "start_time": "2022-06-30T05:30:42.178Z"
   },
   {
    "duration": 19,
    "start_time": "2022-06-30T05:30:42.196Z"
   },
   {
    "duration": 3232,
    "start_time": "2022-06-30T05:30:42.216Z"
   },
   {
    "duration": 14,
    "start_time": "2022-06-30T05:30:45.451Z"
   },
   {
    "duration": 9,
    "start_time": "2022-06-30T05:30:45.467Z"
   },
   {
    "duration": 12,
    "start_time": "2022-06-30T05:30:45.478Z"
   },
   {
    "duration": 8,
    "start_time": "2022-06-30T05:30:45.491Z"
   },
   {
    "duration": 23,
    "start_time": "2022-06-30T05:30:45.501Z"
   },
   {
    "duration": 8,
    "start_time": "2022-06-30T05:30:45.526Z"
   },
   {
    "duration": 1261,
    "start_time": "2022-06-30T05:30:45.550Z"
   },
   {
    "duration": 1208,
    "start_time": "2022-06-30T05:30:46.812Z"
   },
   {
    "duration": 1154,
    "start_time": "2022-06-30T05:30:48.021Z"
   },
   {
    "duration": 1034,
    "start_time": "2022-06-30T05:30:49.176Z"
   },
   {
    "duration": 19,
    "start_time": "2022-06-30T05:30:50.212Z"
   },
   {
    "duration": 19,
    "start_time": "2022-06-30T05:30:50.234Z"
   },
   {
    "duration": 17,
    "start_time": "2022-06-30T05:30:50.255Z"
   },
   {
    "duration": 55,
    "start_time": "2022-06-30T05:30:50.274Z"
   },
   {
    "duration": 40,
    "start_time": "2022-06-30T05:30:50.330Z"
   },
   {
    "duration": 32,
    "start_time": "2022-06-30T05:30:50.371Z"
   },
   {
    "duration": 27,
    "start_time": "2022-06-30T05:30:50.404Z"
   },
   {
    "duration": 3,
    "start_time": "2022-06-30T05:30:50.451Z"
   },
   {
    "duration": 33,
    "start_time": "2022-06-30T05:30:50.456Z"
   },
   {
    "duration": 9,
    "start_time": "2022-06-30T05:30:50.491Z"
   },
   {
    "duration": 12,
    "start_time": "2022-06-30T05:30:50.502Z"
   },
   {
    "duration": 8,
    "start_time": "2022-06-30T05:30:50.516Z"
   },
   {
    "duration": 32,
    "start_time": "2022-06-30T05:30:50.525Z"
   },
   {
    "duration": 4,
    "start_time": "2022-06-30T05:30:50.559Z"
   },
   {
    "duration": 15,
    "start_time": "2022-06-30T05:30:50.565Z"
   },
   {
    "duration": 19,
    "start_time": "2022-06-30T05:30:50.582Z"
   },
   {
    "duration": 3,
    "start_time": "2022-06-30T05:30:50.603Z"
   },
   {
    "duration": 9,
    "start_time": "2022-06-30T05:30:50.607Z"
   },
   {
    "duration": 11,
    "start_time": "2022-06-30T05:30:50.617Z"
   },
   {
    "duration": 26,
    "start_time": "2022-06-30T05:30:50.629Z"
   },
   {
    "duration": 348,
    "start_time": "2022-06-30T05:30:50.656Z"
   },
   {
    "duration": 333,
    "start_time": "2022-06-30T05:30:51.005Z"
   },
   {
    "duration": 14,
    "start_time": "2022-06-30T05:30:51.340Z"
   },
   {
    "duration": 12,
    "start_time": "2022-06-30T05:30:51.355Z"
   },
   {
    "duration": 317,
    "start_time": "2022-06-30T05:30:51.369Z"
   },
   {
    "duration": 365,
    "start_time": "2022-06-30T05:30:51.688Z"
   },
   {
    "duration": 8,
    "start_time": "2022-06-30T05:30:52.054Z"
   },
   {
    "duration": 9,
    "start_time": "2022-06-30T05:30:52.063Z"
   },
   {
    "duration": 327,
    "start_time": "2022-06-30T05:30:52.073Z"
   },
   {
    "duration": 332,
    "start_time": "2022-06-30T05:30:52.402Z"
   },
   {
    "duration": 28,
    "start_time": "2022-06-30T05:30:52.736Z"
   },
   {
    "duration": 11,
    "start_time": "2022-06-30T05:30:52.765Z"
   },
   {
    "duration": 13,
    "start_time": "2022-06-30T05:30:52.777Z"
   },
   {
    "duration": 23,
    "start_time": "2022-06-30T05:30:52.792Z"
   },
   {
    "duration": 9,
    "start_time": "2022-06-30T05:30:52.817Z"
   },
   {
    "duration": 11,
    "start_time": "2022-06-30T05:30:52.827Z"
   },
   {
    "duration": 11,
    "start_time": "2022-06-30T05:30:52.840Z"
   },
   {
    "duration": 6,
    "start_time": "2022-06-30T05:30:52.852Z"
   },
   {
    "duration": 18,
    "start_time": "2022-06-30T05:32:20.438Z"
   },
   {
    "duration": 8,
    "start_time": "2022-06-30T05:37:10.173Z"
   },
   {
    "duration": 1444,
    "start_time": "2022-06-30T11:49:26.002Z"
   },
   {
    "duration": 264,
    "start_time": "2022-06-30T11:49:27.449Z"
   },
   {
    "duration": 6,
    "start_time": "2022-06-30T11:49:27.715Z"
   },
   {
    "duration": 238,
    "start_time": "2022-06-30T11:49:27.722Z"
   },
   {
    "duration": 26,
    "start_time": "2022-06-30T11:49:27.963Z"
   },
   {
    "duration": 347,
    "start_time": "2022-06-30T11:49:27.991Z"
   },
   {
    "duration": 167,
    "start_time": "2022-06-30T11:49:28.340Z"
   },
   {
    "duration": 20,
    "start_time": "2022-06-30T11:49:28.510Z"
   },
   {
    "duration": 108,
    "start_time": "2022-06-30T11:49:28.531Z"
   },
   {
    "duration": 69,
    "start_time": "2022-06-30T11:49:28.641Z"
   },
   {
    "duration": 45,
    "start_time": "2022-06-30T11:49:28.711Z"
   },
   {
    "duration": 110,
    "start_time": "2022-06-30T11:49:28.758Z"
   },
   {
    "duration": 149,
    "start_time": "2022-06-30T11:49:28.870Z"
   },
   {
    "duration": 146,
    "start_time": "2022-06-30T11:49:29.022Z"
   },
   {
    "duration": 41,
    "start_time": "2022-06-30T11:49:29.169Z"
   },
   {
    "duration": 22,
    "start_time": "2022-06-30T11:49:29.212Z"
   },
   {
    "duration": 20,
    "start_time": "2022-06-30T11:49:29.236Z"
   },
   {
    "duration": 16,
    "start_time": "2022-06-30T11:49:29.258Z"
   },
   {
    "duration": 6,
    "start_time": "2022-06-30T11:49:29.275Z"
   },
   {
    "duration": 12,
    "start_time": "2022-06-30T11:49:29.282Z"
   },
   {
    "duration": 12,
    "start_time": "2022-06-30T11:49:29.295Z"
   },
   {
    "duration": 17,
    "start_time": "2022-06-30T11:49:29.309Z"
   },
   {
    "duration": 32,
    "start_time": "2022-06-30T11:49:29.328Z"
   },
   {
    "duration": 39,
    "start_time": "2022-06-30T11:49:29.361Z"
   },
   {
    "duration": 35,
    "start_time": "2022-06-30T11:49:29.401Z"
   },
   {
    "duration": 102,
    "start_time": "2022-06-30T11:49:29.438Z"
   },
   {
    "duration": 54,
    "start_time": "2022-06-30T11:49:29.542Z"
   },
   {
    "duration": 31,
    "start_time": "2022-06-30T11:49:29.598Z"
   },
   {
    "duration": 42,
    "start_time": "2022-06-30T11:49:29.631Z"
   },
   {
    "duration": 39,
    "start_time": "2022-06-30T11:49:29.675Z"
   },
   {
    "duration": 57,
    "start_time": "2022-06-30T11:49:29.716Z"
   },
   {
    "duration": 23,
    "start_time": "2022-06-30T11:49:29.774Z"
   },
   {
    "duration": 52,
    "start_time": "2022-06-30T11:49:29.799Z"
   },
   {
    "duration": 48,
    "start_time": "2022-06-30T11:49:29.853Z"
   },
   {
    "duration": 3,
    "start_time": "2022-06-30T11:49:29.902Z"
   },
   {
    "duration": 30,
    "start_time": "2022-06-30T11:49:29.906Z"
   },
   {
    "duration": 27,
    "start_time": "2022-06-30T11:49:29.938Z"
   },
   {
    "duration": 26,
    "start_time": "2022-06-30T11:49:29.967Z"
   },
   {
    "duration": 33,
    "start_time": "2022-06-30T11:49:29.994Z"
   },
   {
    "duration": 30,
    "start_time": "2022-06-30T11:49:30.029Z"
   },
   {
    "duration": 24,
    "start_time": "2022-06-30T11:49:30.065Z"
   },
   {
    "duration": 17,
    "start_time": "2022-06-30T11:49:30.091Z"
   },
   {
    "duration": 21,
    "start_time": "2022-06-30T11:49:30.110Z"
   },
   {
    "duration": 27,
    "start_time": "2022-06-30T11:49:30.132Z"
   },
   {
    "duration": 11,
    "start_time": "2022-06-30T11:49:30.161Z"
   },
   {
    "duration": 31,
    "start_time": "2022-06-30T11:49:30.174Z"
   },
   {
    "duration": 18,
    "start_time": "2022-06-30T11:49:30.207Z"
   },
   {
    "duration": 33,
    "start_time": "2022-06-30T11:49:30.227Z"
   },
   {
    "duration": 37,
    "start_time": "2022-06-30T11:49:30.262Z"
   },
   {
    "duration": 23,
    "start_time": "2022-06-30T11:49:30.301Z"
   },
   {
    "duration": 10,
    "start_time": "2022-06-30T11:49:30.326Z"
   },
   {
    "duration": 56,
    "start_time": "2022-06-30T11:49:30.338Z"
   },
   {
    "duration": 28,
    "start_time": "2022-06-30T11:49:30.395Z"
   },
   {
    "duration": 44,
    "start_time": "2022-06-30T11:49:30.424Z"
   },
   {
    "duration": 45,
    "start_time": "2022-06-30T11:49:30.469Z"
   },
   {
    "duration": 3237,
    "start_time": "2022-06-30T11:49:30.516Z"
   },
   {
    "duration": 18,
    "start_time": "2022-06-30T11:49:33.754Z"
   },
   {
    "duration": 12,
    "start_time": "2022-06-30T11:49:33.773Z"
   },
   {
    "duration": 15,
    "start_time": "2022-06-30T11:49:33.787Z"
   },
   {
    "duration": 23,
    "start_time": "2022-06-30T11:49:33.805Z"
   },
   {
    "duration": 24,
    "start_time": "2022-06-30T11:49:33.830Z"
   },
   {
    "duration": 9,
    "start_time": "2022-06-30T11:49:33.856Z"
   },
   {
    "duration": 1377,
    "start_time": "2022-06-30T11:49:33.867Z"
   },
   {
    "duration": 1199,
    "start_time": "2022-06-30T11:49:35.246Z"
   },
   {
    "duration": 1320,
    "start_time": "2022-06-30T11:49:36.446Z"
   },
   {
    "duration": 1178,
    "start_time": "2022-06-30T11:49:37.768Z"
   },
   {
    "duration": 18,
    "start_time": "2022-06-30T11:49:38.948Z"
   },
   {
    "duration": 12,
    "start_time": "2022-06-30T11:49:38.967Z"
   },
   {
    "duration": 24,
    "start_time": "2022-06-30T11:49:38.980Z"
   },
   {
    "duration": 62,
    "start_time": "2022-06-30T11:49:39.006Z"
   },
   {
    "duration": 32,
    "start_time": "2022-06-30T11:49:39.070Z"
   },
   {
    "duration": 45,
    "start_time": "2022-06-30T11:49:39.104Z"
   },
   {
    "duration": 30,
    "start_time": "2022-06-30T11:49:39.151Z"
   },
   {
    "duration": 3,
    "start_time": "2022-06-30T11:49:39.183Z"
   },
   {
    "duration": 48,
    "start_time": "2022-06-30T11:49:39.187Z"
   },
   {
    "duration": 9,
    "start_time": "2022-06-30T11:49:39.236Z"
   },
   {
    "duration": 14,
    "start_time": "2022-06-30T11:49:39.246Z"
   },
   {
    "duration": 16,
    "start_time": "2022-06-30T11:49:39.262Z"
   },
   {
    "duration": 25,
    "start_time": "2022-06-30T11:49:39.280Z"
   },
   {
    "duration": 22,
    "start_time": "2022-06-30T11:49:39.307Z"
   },
   {
    "duration": 57,
    "start_time": "2022-06-30T11:49:39.331Z"
   },
   {
    "duration": 9,
    "start_time": "2022-06-30T11:49:39.390Z"
   },
   {
    "duration": 50,
    "start_time": "2022-06-30T11:49:39.401Z"
   },
   {
    "duration": 28,
    "start_time": "2022-06-30T11:49:39.453Z"
   },
   {
    "duration": 31,
    "start_time": "2022-06-30T11:49:39.483Z"
   },
   {
    "duration": 472,
    "start_time": "2022-06-30T11:49:39.516Z"
   },
   {
    "duration": 367,
    "start_time": "2022-06-30T11:49:39.990Z"
   },
   {
    "duration": 11,
    "start_time": "2022-06-30T11:49:40.359Z"
   },
   {
    "duration": 31,
    "start_time": "2022-06-30T11:49:40.372Z"
   },
   {
    "duration": 467,
    "start_time": "2022-06-30T11:49:40.405Z"
   },
   {
    "duration": 362,
    "start_time": "2022-06-30T11:49:40.875Z"
   },
   {
    "duration": 10,
    "start_time": "2022-06-30T11:49:41.240Z"
   },
   {
    "duration": 24,
    "start_time": "2022-06-30T11:49:41.252Z"
   },
   {
    "duration": 437,
    "start_time": "2022-06-30T11:49:41.278Z"
   },
   {
    "duration": 334,
    "start_time": "2022-06-30T11:49:41.717Z"
   },
   {
    "duration": 18,
    "start_time": "2022-06-30T11:49:42.053Z"
   },
   {
    "duration": 6,
    "start_time": "2022-06-30T11:49:42.073Z"
   },
   {
    "duration": 11,
    "start_time": "2022-06-30T11:49:42.081Z"
   },
   {
    "duration": 10,
    "start_time": "2022-06-30T11:49:42.094Z"
   },
   {
    "duration": 22,
    "start_time": "2022-06-30T11:49:42.105Z"
   },
   {
    "duration": 7,
    "start_time": "2022-06-30T11:49:42.129Z"
   },
   {
    "duration": 28,
    "start_time": "2022-06-30T11:49:42.138Z"
   },
   {
    "duration": 9,
    "start_time": "2022-06-30T11:49:42.168Z"
   },
   {
    "duration": 12,
    "start_time": "2022-06-30T11:49:42.178Z"
   },
   {
    "duration": 16,
    "start_time": "2022-06-30T11:50:02.226Z"
   },
   {
    "duration": 17,
    "start_time": "2022-06-30T11:51:56.727Z"
   },
   {
    "duration": 1307,
    "start_time": "2022-06-30T12:01:33.459Z"
   },
   {
    "duration": 725,
    "start_time": "2022-06-30T12:01:34.768Z"
   },
   {
    "duration": 5,
    "start_time": "2022-06-30T12:01:35.494Z"
   },
   {
    "duration": 261,
    "start_time": "2022-06-30T12:01:35.500Z"
   },
   {
    "duration": 26,
    "start_time": "2022-06-30T12:01:35.769Z"
   },
   {
    "duration": 593,
    "start_time": "2022-06-30T12:01:35.796Z"
   },
   {
    "duration": 177,
    "start_time": "2022-06-30T12:01:36.391Z"
   },
   {
    "duration": 10,
    "start_time": "2022-06-30T12:01:36.570Z"
   },
   {
    "duration": 130,
    "start_time": "2022-06-30T12:01:36.581Z"
   },
   {
    "duration": 72,
    "start_time": "2022-06-30T12:01:36.712Z"
   },
   {
    "duration": 28,
    "start_time": "2022-06-30T12:01:36.786Z"
   },
   {
    "duration": 91,
    "start_time": "2022-06-30T12:01:36.816Z"
   },
   {
    "duration": 417,
    "start_time": "2022-06-30T12:01:36.909Z"
   },
   {
    "duration": 168,
    "start_time": "2022-06-30T12:01:37.334Z"
   },
   {
    "duration": 87,
    "start_time": "2022-06-30T12:01:37.504Z"
   },
   {
    "duration": 18,
    "start_time": "2022-06-30T12:01:37.593Z"
   },
   {
    "duration": 13,
    "start_time": "2022-06-30T12:01:37.612Z"
   },
   {
    "duration": 46,
    "start_time": "2022-06-30T12:01:37.626Z"
   },
   {
    "duration": 12,
    "start_time": "2022-06-30T12:01:37.674Z"
   },
   {
    "duration": 6,
    "start_time": "2022-06-30T12:01:37.687Z"
   },
   {
    "duration": 5,
    "start_time": "2022-06-30T12:01:37.694Z"
   },
   {
    "duration": 12,
    "start_time": "2022-06-30T12:01:37.701Z"
   },
   {
    "duration": 35,
    "start_time": "2022-06-30T12:01:37.714Z"
   },
   {
    "duration": 40,
    "start_time": "2022-06-30T12:01:37.750Z"
   },
   {
    "duration": 14,
    "start_time": "2022-06-30T12:01:37.792Z"
   },
   {
    "duration": 99,
    "start_time": "2022-06-30T12:01:37.807Z"
   },
   {
    "duration": 62,
    "start_time": "2022-06-30T12:01:37.907Z"
   },
   {
    "duration": 15,
    "start_time": "2022-06-30T12:01:37.971Z"
   },
   {
    "duration": 25,
    "start_time": "2022-06-30T12:01:37.987Z"
   },
   {
    "duration": 49,
    "start_time": "2022-06-30T12:01:38.013Z"
   },
   {
    "duration": 50,
    "start_time": "2022-06-30T12:01:38.070Z"
   },
   {
    "duration": 35,
    "start_time": "2022-06-30T12:01:38.121Z"
   },
   {
    "duration": 46,
    "start_time": "2022-06-30T12:01:38.158Z"
   },
   {
    "duration": 60,
    "start_time": "2022-06-30T12:01:38.205Z"
   },
   {
    "duration": 5,
    "start_time": "2022-06-30T12:01:38.268Z"
   },
   {
    "duration": 16,
    "start_time": "2022-06-30T12:01:38.275Z"
   },
   {
    "duration": 14,
    "start_time": "2022-06-30T12:01:38.292Z"
   },
   {
    "duration": 19,
    "start_time": "2022-06-30T12:01:38.307Z"
   },
   {
    "duration": 50,
    "start_time": "2022-06-30T12:01:38.329Z"
   },
   {
    "duration": 4,
    "start_time": "2022-06-30T12:01:38.381Z"
   },
   {
    "duration": 17,
    "start_time": "2022-06-30T12:01:38.389Z"
   },
   {
    "duration": 14,
    "start_time": "2022-06-30T12:01:38.408Z"
   },
   {
    "duration": 25,
    "start_time": "2022-06-30T12:01:38.423Z"
   },
   {
    "duration": 38,
    "start_time": "2022-06-30T12:01:38.451Z"
   },
   {
    "duration": 5,
    "start_time": "2022-06-30T12:01:38.490Z"
   },
   {
    "duration": 21,
    "start_time": "2022-06-30T12:01:38.496Z"
   },
   {
    "duration": 29,
    "start_time": "2022-06-30T12:01:38.518Z"
   },
   {
    "duration": 29,
    "start_time": "2022-06-30T12:01:38.548Z"
   },
   {
    "duration": 14,
    "start_time": "2022-06-30T12:01:38.579Z"
   },
   {
    "duration": 17,
    "start_time": "2022-06-30T12:01:38.594Z"
   },
   {
    "duration": 5,
    "start_time": "2022-06-30T12:01:38.612Z"
   },
   {
    "duration": 28,
    "start_time": "2022-06-30T12:01:38.618Z"
   },
   {
    "duration": 26,
    "start_time": "2022-06-30T12:01:38.648Z"
   },
   {
    "duration": 18,
    "start_time": "2022-06-30T12:01:38.676Z"
   },
   {
    "duration": 22,
    "start_time": "2022-06-30T12:01:38.696Z"
   },
   {
    "duration": 3607,
    "start_time": "2022-06-30T12:01:38.720Z"
   },
   {
    "duration": 28,
    "start_time": "2022-06-30T12:01:42.328Z"
   },
   {
    "duration": 26,
    "start_time": "2022-06-30T12:01:42.358Z"
   },
   {
    "duration": 3,
    "start_time": "2022-06-30T12:01:42.385Z"
   },
   {
    "duration": 9,
    "start_time": "2022-06-30T12:01:42.390Z"
   },
   {
    "duration": 21,
    "start_time": "2022-06-30T12:01:42.400Z"
   },
   {
    "duration": 44,
    "start_time": "2022-06-30T12:01:42.422Z"
   },
   {
    "duration": 1494,
    "start_time": "2022-06-30T12:01:42.468Z"
   },
   {
    "duration": 1502,
    "start_time": "2022-06-30T12:01:43.965Z"
   },
   {
    "duration": 1579,
    "start_time": "2022-06-30T12:01:45.473Z"
   },
   {
    "duration": 1094,
    "start_time": "2022-06-30T12:01:47.055Z"
   },
   {
    "duration": 23,
    "start_time": "2022-06-30T12:01:48.151Z"
   },
   {
    "duration": 6,
    "start_time": "2022-06-30T12:01:48.175Z"
   },
   {
    "duration": 9,
    "start_time": "2022-06-30T12:01:48.183Z"
   },
   {
    "duration": 74,
    "start_time": "2022-06-30T12:01:48.194Z"
   },
   {
    "duration": 29,
    "start_time": "2022-06-30T12:01:48.270Z"
   },
   {
    "duration": 42,
    "start_time": "2022-06-30T12:01:48.301Z"
   },
   {
    "duration": 36,
    "start_time": "2022-06-30T12:01:48.345Z"
   },
   {
    "duration": 2,
    "start_time": "2022-06-30T12:01:48.383Z"
   },
   {
    "duration": 27,
    "start_time": "2022-06-30T12:01:48.387Z"
   },
   {
    "duration": 6,
    "start_time": "2022-06-30T12:01:48.415Z"
   },
   {
    "duration": 18,
    "start_time": "2022-06-30T12:01:48.429Z"
   },
   {
    "duration": 30,
    "start_time": "2022-06-30T12:01:48.451Z"
   },
   {
    "duration": 11,
    "start_time": "2022-06-30T12:01:48.483Z"
   },
   {
    "duration": 5,
    "start_time": "2022-06-30T12:01:48.495Z"
   },
   {
    "duration": 23,
    "start_time": "2022-06-30T12:01:48.502Z"
   },
   {
    "duration": 9,
    "start_time": "2022-06-30T12:01:48.526Z"
   },
   {
    "duration": 35,
    "start_time": "2022-06-30T12:01:48.540Z"
   },
   {
    "duration": 11,
    "start_time": "2022-06-30T12:01:48.576Z"
   },
   {
    "duration": 10,
    "start_time": "2022-06-30T12:01:48.588Z"
   },
   {
    "duration": 414,
    "start_time": "2022-06-30T12:01:48.600Z"
   },
   {
    "duration": 326,
    "start_time": "2022-06-30T12:01:49.015Z"
   },
   {
    "duration": 9,
    "start_time": "2022-06-30T12:01:49.343Z"
   },
   {
    "duration": 22,
    "start_time": "2022-06-30T12:01:49.353Z"
   },
   {
    "duration": 330,
    "start_time": "2022-06-30T12:01:49.377Z"
   },
   {
    "duration": 405,
    "start_time": "2022-06-30T12:01:49.709Z"
   },
   {
    "duration": 41,
    "start_time": "2022-06-30T12:01:50.116Z"
   },
   {
    "duration": 29,
    "start_time": "2022-06-30T12:01:50.161Z"
   },
   {
    "duration": 402,
    "start_time": "2022-06-30T12:01:50.192Z"
   },
   {
    "duration": 329,
    "start_time": "2022-06-30T12:01:50.595Z"
   },
   {
    "duration": 37,
    "start_time": "2022-06-30T12:01:50.934Z"
   },
   {
    "duration": 6,
    "start_time": "2022-06-30T12:01:50.973Z"
   },
   {
    "duration": 16,
    "start_time": "2022-06-30T12:01:50.981Z"
   },
   {
    "duration": 11,
    "start_time": "2022-06-30T12:01:50.998Z"
   },
   {
    "duration": 24,
    "start_time": "2022-06-30T12:01:51.010Z"
   },
   {
    "duration": 38,
    "start_time": "2022-06-30T12:01:51.038Z"
   },
   {
    "duration": 14,
    "start_time": "2022-06-30T12:01:51.077Z"
   },
   {
    "duration": 14,
    "start_time": "2022-06-30T12:01:51.092Z"
   },
   {
    "duration": 8,
    "start_time": "2022-06-30T12:01:51.107Z"
   },
   {
    "duration": 15,
    "start_time": "2022-06-30T12:02:29.512Z"
   },
   {
    "duration": 12,
    "start_time": "2022-06-30T12:02:57.287Z"
   },
   {
    "duration": 7,
    "start_time": "2022-06-30T12:03:10.846Z"
   },
   {
    "duration": 1213,
    "start_time": "2022-06-30T12:03:19.213Z"
   },
   {
    "duration": 220,
    "start_time": "2022-06-30T12:03:20.428Z"
   },
   {
    "duration": 6,
    "start_time": "2022-06-30T12:03:20.649Z"
   },
   {
    "duration": 227,
    "start_time": "2022-06-30T12:03:20.656Z"
   },
   {
    "duration": 22,
    "start_time": "2022-06-30T12:03:20.885Z"
   },
   {
    "duration": 170,
    "start_time": "2022-06-30T12:03:20.908Z"
   },
   {
    "duration": 166,
    "start_time": "2022-06-30T12:03:21.079Z"
   },
   {
    "duration": 24,
    "start_time": "2022-06-30T12:03:21.246Z"
   },
   {
    "duration": 49,
    "start_time": "2022-06-30T12:03:21.272Z"
   },
   {
    "duration": 70,
    "start_time": "2022-06-30T12:03:21.323Z"
   },
   {
    "duration": 27,
    "start_time": "2022-06-30T12:03:21.394Z"
   },
   {
    "duration": 92,
    "start_time": "2022-06-30T12:03:21.423Z"
   },
   {
    "duration": 154,
    "start_time": "2022-06-30T12:03:21.517Z"
   },
   {
    "duration": 142,
    "start_time": "2022-06-30T12:03:21.675Z"
   },
   {
    "duration": 57,
    "start_time": "2022-06-30T12:03:21.818Z"
   },
   {
    "duration": 20,
    "start_time": "2022-06-30T12:03:21.877Z"
   },
   {
    "duration": 13,
    "start_time": "2022-06-30T12:03:21.898Z"
   },
   {
    "duration": 10,
    "start_time": "2022-06-30T12:03:21.913Z"
   },
   {
    "duration": 10,
    "start_time": "2022-06-30T12:03:21.924Z"
   },
   {
    "duration": 27,
    "start_time": "2022-06-30T12:03:21.942Z"
   },
   {
    "duration": 6,
    "start_time": "2022-06-30T12:03:21.970Z"
   },
   {
    "duration": 11,
    "start_time": "2022-06-30T12:03:21.978Z"
   },
   {
    "duration": 32,
    "start_time": "2022-06-30T12:03:21.990Z"
   },
   {
    "duration": 43,
    "start_time": "2022-06-30T12:03:22.023Z"
   },
   {
    "duration": 18,
    "start_time": "2022-06-30T12:03:22.068Z"
   },
   {
    "duration": 107,
    "start_time": "2022-06-30T12:03:22.087Z"
   },
   {
    "duration": 54,
    "start_time": "2022-06-30T12:03:22.195Z"
   },
   {
    "duration": 22,
    "start_time": "2022-06-30T12:03:22.251Z"
   },
   {
    "duration": 21,
    "start_time": "2022-06-30T12:03:22.276Z"
   },
   {
    "duration": 45,
    "start_time": "2022-06-30T12:03:22.298Z"
   },
   {
    "duration": 60,
    "start_time": "2022-06-30T12:03:22.344Z"
   },
   {
    "duration": 25,
    "start_time": "2022-06-30T12:03:22.406Z"
   },
   {
    "duration": 38,
    "start_time": "2022-06-30T12:03:22.433Z"
   },
   {
    "duration": 60,
    "start_time": "2022-06-30T12:03:22.473Z"
   },
   {
    "duration": 4,
    "start_time": "2022-06-30T12:03:22.535Z"
   },
   {
    "duration": 46,
    "start_time": "2022-06-30T12:03:22.541Z"
   },
   {
    "duration": 14,
    "start_time": "2022-06-30T12:03:22.588Z"
   },
   {
    "duration": 11,
    "start_time": "2022-06-30T12:03:22.603Z"
   },
   {
    "duration": 24,
    "start_time": "2022-06-30T12:03:22.616Z"
   },
   {
    "duration": 25,
    "start_time": "2022-06-30T12:03:22.642Z"
   },
   {
    "duration": 18,
    "start_time": "2022-06-30T12:03:22.671Z"
   },
   {
    "duration": 11,
    "start_time": "2022-06-30T12:03:22.690Z"
   },
   {
    "duration": 16,
    "start_time": "2022-06-30T12:03:22.703Z"
   },
   {
    "duration": 34,
    "start_time": "2022-06-30T12:03:22.720Z"
   },
   {
    "duration": 24,
    "start_time": "2022-06-30T12:03:22.756Z"
   },
   {
    "duration": 18,
    "start_time": "2022-06-30T12:03:22.782Z"
   },
   {
    "duration": 11,
    "start_time": "2022-06-30T12:03:22.802Z"
   },
   {
    "duration": 9,
    "start_time": "2022-06-30T12:03:22.814Z"
   },
   {
    "duration": 19,
    "start_time": "2022-06-30T12:03:22.825Z"
   },
   {
    "duration": 40,
    "start_time": "2022-06-30T12:03:22.850Z"
   },
   {
    "duration": 7,
    "start_time": "2022-06-30T12:03:22.893Z"
   },
   {
    "duration": 22,
    "start_time": "2022-06-30T12:03:22.901Z"
   },
   {
    "duration": 22,
    "start_time": "2022-06-30T12:03:22.924Z"
   },
   {
    "duration": 28,
    "start_time": "2022-06-30T12:03:22.957Z"
   },
   {
    "duration": 19,
    "start_time": "2022-06-30T12:03:22.988Z"
   },
   {
    "duration": 3608,
    "start_time": "2022-06-30T12:03:23.009Z"
   },
   {
    "duration": 27,
    "start_time": "2022-06-30T12:03:26.619Z"
   },
   {
    "duration": 15,
    "start_time": "2022-06-30T12:03:26.656Z"
   },
   {
    "duration": 18,
    "start_time": "2022-06-30T12:03:26.675Z"
   },
   {
    "duration": 29,
    "start_time": "2022-06-30T12:03:26.695Z"
   },
   {
    "duration": 71,
    "start_time": "2022-06-30T12:03:26.726Z"
   },
   {
    "duration": 15,
    "start_time": "2022-06-30T12:03:26.799Z"
   },
   {
    "duration": 1477,
    "start_time": "2022-06-30T12:03:26.815Z"
   },
   {
    "duration": 1318,
    "start_time": "2022-06-30T12:03:28.294Z"
   },
   {
    "duration": 1303,
    "start_time": "2022-06-30T12:03:29.614Z"
   },
   {
    "duration": 1103,
    "start_time": "2022-06-30T12:03:30.919Z"
   },
   {
    "duration": 27,
    "start_time": "2022-06-30T12:03:32.024Z"
   },
   {
    "duration": 24,
    "start_time": "2022-06-30T12:03:32.052Z"
   },
   {
    "duration": 21,
    "start_time": "2022-06-30T12:03:32.077Z"
   },
   {
    "duration": 56,
    "start_time": "2022-06-30T12:03:32.100Z"
   },
   {
    "duration": 31,
    "start_time": "2022-06-30T12:03:32.157Z"
   },
   {
    "duration": 31,
    "start_time": "2022-06-30T12:03:32.190Z"
   },
   {
    "duration": 37,
    "start_time": "2022-06-30T12:03:32.232Z"
   },
   {
    "duration": 5,
    "start_time": "2022-06-30T12:03:32.271Z"
   },
   {
    "duration": 7,
    "start_time": "2022-06-30T12:03:32.277Z"
   },
   {
    "duration": 7,
    "start_time": "2022-06-30T12:03:32.286Z"
   },
   {
    "duration": 23,
    "start_time": "2022-06-30T12:03:32.295Z"
   },
   {
    "duration": 23,
    "start_time": "2022-06-30T12:03:32.320Z"
   },
   {
    "duration": 29,
    "start_time": "2022-06-30T12:03:32.346Z"
   },
   {
    "duration": 8,
    "start_time": "2022-06-30T12:03:32.377Z"
   },
   {
    "duration": 11,
    "start_time": "2022-06-30T12:03:32.386Z"
   },
   {
    "duration": 4,
    "start_time": "2022-06-30T12:03:32.398Z"
   },
   {
    "duration": 20,
    "start_time": "2022-06-30T12:03:32.403Z"
   },
   {
    "duration": 3,
    "start_time": "2022-06-30T12:03:32.425Z"
   },
   {
    "duration": 36,
    "start_time": "2022-06-30T12:03:32.431Z"
   },
   {
    "duration": 11,
    "start_time": "2022-06-30T12:03:32.468Z"
   },
   {
    "duration": 12,
    "start_time": "2022-06-30T12:03:32.481Z"
   },
   {
    "duration": 378,
    "start_time": "2022-06-30T12:03:32.495Z"
   },
   {
    "duration": 346,
    "start_time": "2022-06-30T12:03:32.874Z"
   },
   {
    "duration": 20,
    "start_time": "2022-06-30T12:03:33.222Z"
   },
   {
    "duration": 33,
    "start_time": "2022-06-30T12:03:33.247Z"
   },
   {
    "duration": 334,
    "start_time": "2022-06-30T12:03:33.281Z"
   },
   {
    "duration": 399,
    "start_time": "2022-06-30T12:03:33.616Z"
   },
   {
    "duration": 24,
    "start_time": "2022-06-30T12:03:34.017Z"
   },
   {
    "duration": 23,
    "start_time": "2022-06-30T12:03:34.053Z"
   },
   {
    "duration": 397,
    "start_time": "2022-06-30T12:03:34.077Z"
   },
   {
    "duration": 299,
    "start_time": "2022-06-30T12:03:34.476Z"
   },
   {
    "duration": 15,
    "start_time": "2022-06-30T12:03:34.777Z"
   },
   {
    "duration": 5,
    "start_time": "2022-06-30T12:03:34.793Z"
   },
   {
    "duration": 9,
    "start_time": "2022-06-30T12:03:34.799Z"
   },
   {
    "duration": 58,
    "start_time": "2022-06-30T12:03:34.809Z"
   },
   {
    "duration": 8,
    "start_time": "2022-06-30T12:03:34.869Z"
   },
   {
    "duration": 7,
    "start_time": "2022-06-30T12:03:34.879Z"
   },
   {
    "duration": 8,
    "start_time": "2022-06-30T12:03:34.887Z"
   },
   {
    "duration": 6,
    "start_time": "2022-06-30T12:03:34.896Z"
   },
   {
    "duration": 10,
    "start_time": "2022-06-30T12:03:34.903Z"
   },
   {
    "duration": 100,
    "start_time": "2022-06-30T12:04:24.254Z"
   },
   {
    "duration": 165,
    "start_time": "2022-06-30T12:04:32.324Z"
   },
   {
    "duration": 417,
    "start_time": "2022-06-30T14:06:56.443Z"
   }
  ],
  "kernelspec": {
   "display_name": "Python 3 (ipykernel)",
   "language": "python",
   "name": "python3"
  },
  "language_info": {
   "codemirror_mode": {
    "name": "ipython",
    "version": 3
   },
   "file_extension": ".py",
   "mimetype": "text/x-python",
   "name": "python",
   "nbconvert_exporter": "python",
   "pygments_lexer": "ipython3",
   "version": "3.9.5"
  },
  "toc": {
   "base_numbering": 1,
   "nav_menu": {},
   "number_sections": true,
   "sideBar": true,
   "skip_h1_title": true,
   "title_cell": "Table of Contents",
   "title_sidebar": "Contents",
   "toc_cell": false,
   "toc_position": {},
   "toc_section_display": true,
   "toc_window_display": false
  }
 },
 "nbformat": 4,
 "nbformat_minor": 2
}
