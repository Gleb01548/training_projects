{
 "cells": [
  {
   "attachments": {},
   "cell_type": "markdown",
   "metadata": {
    "toc": true
   },
   "source": [
    "<h1>Содержание<span class=\"tocSkip\"></span></h1>\n",
    "<div class=\"toc\"><ul class=\"toc-item\"><li><span><a href=\"#Загрузка-данных\" data-toc-modified-id=\"Загрузка-данных-1\"><span class=\"toc-item-num\">1&nbsp;&nbsp;</span>Загрузка данных</a></span></li><li><span><a href=\"#Умножение-матриц\" data-toc-modified-id=\"Умножение-матриц-2\"><span class=\"toc-item-num\">2&nbsp;&nbsp;</span>Умножение матриц</a></span></li><li><span><a href=\"#Алгоритм-преобразования\" data-toc-modified-id=\"Алгоритм-преобразования-3\"><span class=\"toc-item-num\">3&nbsp;&nbsp;</span>Алгоритм преобразования</a></span></li><li><span><a href=\"#Проверка-алгоритма\" data-toc-modified-id=\"Проверка-алгоритма-4\"><span class=\"toc-item-num\">4&nbsp;&nbsp;</span>Проверка алгоритма</a></span></li><li><span><a href=\"#Чек-лист-проверки\" data-toc-modified-id=\"Чек-лист-проверки-5\"><span class=\"toc-item-num\">5&nbsp;&nbsp;</span>Чек-лист проверки</a></span></li></ul></div>"
   ]
  },
  {
   "attachments": {},
   "cell_type": "markdown",
   "metadata": {},
   "source": [
    "# Защита персональных данных клиентов"
   ]
  },
  {
   "attachments": {},
   "cell_type": "markdown",
   "metadata": {},
   "source": [
    "Вам нужно защитить данные клиентов страховой компании «Хоть потоп». Разработайте такой метод преобразования данных, чтобы по ним было сложно восстановить персональную информацию. Обоснуйте корректность его работы.\n",
    "\n",
    "Нужно защитить данные, чтобы при преобразовании качество моделей машинного обучения не ухудшилось. Подбирать наилучшую модель не требуется."
   ]
  },
  {
   "attachments": {},
   "cell_type": "markdown",
   "metadata": {},
   "source": [
    "## Загрузка данных"
   ]
  },
  {
   "cell_type": "code",
   "execution_count": 31,
   "metadata": {},
   "outputs": [],
   "source": [
    "import pandas as pd\n",
    "import numpy as np\n",
    "import random\n",
    "from numpy.linalg import inv\n",
    "from sklearn.model_selection import train_test_split\n",
    "from sklearn.linear_model import LinearRegression\n",
    "\n",
    "from sklearn.preprocessing import StandardScaler"
   ]
  },
  {
   "cell_type": "code",
   "execution_count": 2,
   "metadata": {},
   "outputs": [],
   "source": [
    "df = pd.read_csv('/datasets/insurance.csv')"
   ]
  },
  {
   "cell_type": "code",
   "execution_count": 17,
   "metadata": {},
   "outputs": [
    {
     "data": {
      "text/plain": [
       "Пол                  0\n",
       "Возраст              0\n",
       "Зарплата             0\n",
       "Члены семьи          0\n",
       "Страховые выплаты    0\n",
       "dtype: int64"
      ]
     },
     "execution_count": 17,
     "metadata": {},
     "output_type": "execute_result"
    }
   ],
   "source": [
    "df.isna().sum()"
   ]
  },
  {
   "cell_type": "code",
   "execution_count": 20,
   "metadata": {},
   "outputs": [
    {
     "data": {
      "text/plain": [
       "153"
      ]
     },
     "execution_count": 20,
     "metadata": {},
     "output_type": "execute_result"
    }
   ],
   "source": [
    "df.duplicated().sum()"
   ]
  },
  {
   "cell_type": "code",
   "execution_count": 24,
   "metadata": {},
   "outputs": [
    {
     "data": {
      "text/plain": [
       "0"
      ]
     },
     "execution_count": 24,
     "metadata": {},
     "output_type": "execute_result"
    }
   ],
   "source": [
    "df = df.drop_duplicates()\n",
    "df.duplicated().sum()"
   ]
  },
  {
   "cell_type": "code",
   "execution_count": 3,
   "metadata": {},
   "outputs": [],
   "source": [
    "X = df.drop('Страховые выплаты', axis=1).values\n",
    "y = df['Страховые выплаты'].values"
   ]
  },
  {
   "attachments": {},
   "cell_type": "markdown",
   "metadata": {},
   "source": [
    "<div class=\"alert alert-block alert-info\">\n",
    "При изучении датасета найдены дубликаты, которые удалены. \n",
    "</div>"
   ]
  },
  {
   "attachments": {},
   "cell_type": "markdown",
   "metadata": {},
   "source": [
    "## Умножение матриц"
   ]
  },
  {
   "attachments": {},
   "cell_type": "markdown",
   "metadata": {},
   "source": [
    "В этом задании вы можете записывать формулы в *Jupyter Notebook.*\n",
    "\n",
    "Чтобы записать формулу внутри текста, окружите её символами доллара \\\\$; если снаружи —  двойными символами \\\\$\\\\$. Эти формулы записываются на языке вёрстки *LaTeX.* \n",
    "\n",
    "Для примера мы записали формулы линейной регрессии. Можете их скопировать и отредактировать, чтобы решить задачу.\n",
    "\n",
    "Работать в *LaTeX* необязательно."
   ]
  },
  {
   "attachments": {},
   "cell_type": "markdown",
   "metadata": {},
   "source": [
    "Обозначения:\n",
    "\n",
    "- $X$ — матрица признаков (нулевой столбец состоит из единиц)\n",
    "\n",
    "- $y$ — вектор целевого признака\n",
    "\n",
    "- $P$ — матрица, на которую умножаются признаки\n",
    "\n",
    "- $w$ — вектор весов линейной регрессии (нулевой элемент равен сдвигу)"
   ]
  },
  {
   "attachments": {},
   "cell_type": "markdown",
   "metadata": {},
   "source": [
    "Предсказания:\n",
    "\n",
    "$$\n",
    "a = Xw\n",
    "$$\n",
    "\n",
    "Задача обучения:\n",
    "\n",
    "$$\n",
    "w = \\arg\\min_w MSE(Xw, y)\n",
    "$$\n",
    "\n",
    "Формула обучения:\n",
    "\n",
    "$$\n",
    "w = (X^T X)^{-1} X^T y\n",
    "$$"
   ]
  },
  {
   "attachments": {},
   "cell_type": "markdown",
   "metadata": {},
   "source": [
    "## Алгоритм преобразования"
   ]
  },
  {
   "attachments": {},
   "cell_type": "markdown",
   "metadata": {},
   "source": [
    "**Алгоритм**\n",
    "\n",
    "Обозначения: \n",
    "- $X$ - оригинальная матрица признаков \n",
    "- $X_1$ -  преобразованая матрица признаков\n",
    "- $const$ - случайные велечины\n",
    "\n",
    "$$\n",
    "X_1 = (X + const_1)*const_2/const_3\n",
    "$$"
   ]
  },
  {
   "attachments": {},
   "cell_type": "markdown",
   "metadata": {},
   "source": [
    "**Обоснование**\n",
    "\n",
    "Почеленные арифметические действия с матрицами не влияют на соотношение данных в датасете, что важно для алгоритма, но в то же время затрудняют воспориятие данных человеком.\n"
   ]
  },
  {
   "attachments": {},
   "cell_type": "markdown",
   "metadata": {},
   "source": [
    "<div class=\"alert alert-block alert-info\">\n",
    "\n",
    "**Алгоритм**\n",
    "\n",
    "Обозначения: \n",
    "- $X$ - оригинальная матрица признаков \n",
    "- $X_1$ -  преобразованая матрица признаков\n",
    "- $P$ - случайная обратимая матрица\n",
    "\n",
    "$$\n",
    "X_1 = X * P\n",
    "$$"
   ]
  },
  {
   "attachments": {},
   "cell_type": "markdown",
   "metadata": {},
   "source": [
    "<div class=\"alert alert-block alert-info\">\n",
    "\n",
    "**Обоснование**\n",
    "\n",
    "Домножение матрицы признаков на случайную обратимую матрицу не должно сказаться на качестве модели, как доказано выше."
   ]
  },
  {
   "attachments": {},
   "cell_type": "markdown",
   "metadata": {},
   "source": [
    "<div class=\"alert alert-block alert-success\">\n",
    "<b>Комментарий ревьюера V.2👍:</b> Верно\n",
    "</div>"
   ]
  },
  {
   "attachments": {},
   "cell_type": "markdown",
   "metadata": {},
   "source": [
    "## Проверка алгоритма"
   ]
  },
  {
   "cell_type": "code",
   "execution_count": 40,
   "metadata": {},
   "outputs": [],
   "source": [
    "class TransformData():   \n",
    "    \n",
    "    def __init__(self):\n",
    "        self.y_train = None\n",
    "        self.y_test = None\n",
    "        self.new_data = None\n",
    "        self.old_data = None\n",
    "        \n",
    "    def transform(self, X, y):\n",
    "        random_matrix = np.random.randint(10, size=(X.shape[1], X.shape[1]))\n",
    "        X_train, X_test, y_train, y_test = train_test_split(X, y, test_size = 0.2)\n",
    "        self.y_train = y_train\n",
    "        self.y_test = y_test\n",
    "        self.old_data = [X_train, X_test]\n",
    "        self.new_data = [X_train @ random_matrix, X_test @ random_matrix]\n",
    "    \n",
    "    def make_predict(self):\n",
    "        scores = []\n",
    "        for X, name_data in zip([self.old_data, self.new_data], ['оригинальных данных', 'преобразованных данных']):\n",
    "            model = LinearRegression()\n",
    "            model.fit(X[0], self.y_train)\n",
    "            score = model.score(X[1], self.y_test)\n",
    "            scores.append(score)\n",
    "            print(f'Метрика для {name_data}:', score)"
   ]
  },
  {
   "cell_type": "code",
   "execution_count": 41,
   "metadata": {},
   "outputs": [
    {
     "name": "stdout",
     "output_type": "stream",
     "text": [
      "Метрика для оригинальных данных: 0.4341843951687452\n",
      "Метрика для преобразованных данных: 0.4341843951687494\n"
     ]
    }
   ],
   "source": [
    "qw = TransformData()\n",
    "qw.transform(X, y)\n",
    "qw.make_predict()"
   ]
  },
  {
   "attachments": {},
   "cell_type": "markdown",
   "metadata": {},
   "source": [
    "## Чек-лист проверки"
   ]
  },
  {
   "attachments": {},
   "cell_type": "markdown",
   "metadata": {},
   "source": [
    "Поставьте 'x' в выполненных пунктах. Далее нажмите Shift+Enter."
   ]
  },
  {
   "attachments": {},
   "cell_type": "markdown",
   "metadata": {},
   "source": [
    "- [x]  Jupyter Notebook открыт\n",
    "- [ ]  Весь код выполняется без ошибок\n",
    "- [ ]  Ячейки с кодом расположены в порядке исполнения\n",
    "- [ ]  Выполнен шаг 1: данные загружены\n",
    "- [ ]  Выполнен шаг 2: получен ответ на вопрос об умножении матриц\n",
    "    - [ ]  Указан правильный вариант ответа\n",
    "    - [ ]  Вариант обоснован\n",
    "- [ ]  Выполнен шаг 3: предложен алгоритм преобразования\n",
    "    - [ ]  Алгоритм описан\n",
    "    - [ ]  Алгоритм обоснован\n",
    "- [ ]  Выполнен шаг 4: алгоритм проверен\n",
    "    - [ ]  Алгоритм реализован\n",
    "    - [ ]  Проведено сравнение качества моделей до и после преобразования"
   ]
  },
  {
   "attachments": {},
   "cell_type": "markdown",
   "metadata": {},
   "source": [
    "# Вывод"
   ]
  },
  {
   "attachments": {},
   "cell_type": "markdown",
   "metadata": {},
   "source": [
    "<div class=\"alert alert-block alert-info\">\n",
    "В результате работы создан и проверен метод преобразования для шифровки персональных данных. Проверка этого метода показала, что его применение не влияет на качество предсказаний линейной регрессии."
   ]
  }
 ],
 "metadata": {
  "ExecuteTimeLog": [
   {
    "duration": 58,
    "start_time": "2022-12-10T09:10:41.644Z"
   },
   {
    "duration": 393,
    "start_time": "2022-12-10T09:10:55.282Z"
   },
   {
    "duration": 109,
    "start_time": "2022-12-10T09:10:55.677Z"
   },
   {
    "duration": 39,
    "start_time": "2022-12-10T09:11:29.735Z"
   },
   {
    "duration": 8,
    "start_time": "2022-12-10T09:35:39.517Z"
   },
   {
    "duration": 3,
    "start_time": "2022-12-10T09:35:46.112Z"
   },
   {
    "duration": 29,
    "start_time": "2022-12-10T09:35:47.955Z"
   },
   {
    "duration": 17,
    "start_time": "2022-12-10T09:35:48.262Z"
   },
   {
    "duration": 10,
    "start_time": "2022-12-10T09:35:53.081Z"
   },
   {
    "duration": 4,
    "start_time": "2022-12-10T09:41:43.532Z"
   },
   {
    "duration": 5,
    "start_time": "2022-12-10T09:41:49.099Z"
   },
   {
    "duration": 5,
    "start_time": "2022-12-10T09:42:19.559Z"
   },
   {
    "duration": 8,
    "start_time": "2022-12-10T09:44:48.607Z"
   },
   {
    "duration": 853,
    "start_time": "2022-12-10T09:44:57.414Z"
   },
   {
    "duration": 5,
    "start_time": "2022-12-10T09:45:12.202Z"
   },
   {
    "duration": 5,
    "start_time": "2022-12-10T09:45:22.862Z"
   },
   {
    "duration": 508,
    "start_time": "2022-12-10T09:45:34.624Z"
   },
   {
    "duration": 514,
    "start_time": "2022-12-10T09:46:20.663Z"
   },
   {
    "duration": 7,
    "start_time": "2022-12-10T09:49:35.580Z"
   },
   {
    "duration": 3,
    "start_time": "2022-12-10T09:49:55.451Z"
   },
   {
    "duration": 16388,
    "start_time": "2022-12-10T09:50:00.030Z"
   },
   {
    "duration": 17099,
    "start_time": "2022-12-10T09:51:02.749Z"
   },
   {
    "duration": 34155,
    "start_time": "2022-12-10T09:51:39.269Z"
   },
   {
    "duration": 963,
    "start_time": "2022-12-10T10:07:49.334Z"
   },
   {
    "duration": 9,
    "start_time": "2022-12-10T10:08:03.286Z"
   },
   {
    "duration": 16,
    "start_time": "2022-12-10T10:08:34.668Z"
   },
   {
    "duration": 9,
    "start_time": "2022-12-10T10:09:01.060Z"
   },
   {
    "duration": 20,
    "start_time": "2022-12-10T10:09:04.823Z"
   },
   {
    "duration": 6,
    "start_time": "2022-12-10T11:04:59.609Z"
   },
   {
    "duration": 5,
    "start_time": "2022-12-10T11:05:01.630Z"
   },
   {
    "duration": 30,
    "start_time": "2022-12-10T11:05:01.932Z"
   },
   {
    "duration": 4,
    "start_time": "2022-12-10T11:05:02.251Z"
   },
   {
    "duration": 15,
    "start_time": "2022-12-10T11:05:10.228Z"
   },
   {
    "duration": 6,
    "start_time": "2022-12-10T11:05:19.675Z"
   },
   {
    "duration": 8,
    "start_time": "2022-12-10T11:05:31.003Z"
   },
   {
    "duration": 31,
    "start_time": "2022-12-10T11:15:03.028Z"
   },
   {
    "duration": 491,
    "start_time": "2022-12-10T11:15:10.743Z"
   },
   {
    "duration": 31,
    "start_time": "2022-12-10T11:15:11.236Z"
   },
   {
    "duration": 4,
    "start_time": "2022-12-10T11:15:11.269Z"
   },
   {
    "duration": 27,
    "start_time": "2022-12-10T11:15:11.276Z"
   },
   {
    "duration": 4,
    "start_time": "2022-12-10T11:15:11.306Z"
   },
   {
    "duration": 9,
    "start_time": "2022-12-10T11:15:11.312Z"
   },
   {
    "duration": 28211,
    "start_time": "2022-12-10T11:15:11.323Z"
   },
   {
    "duration": 38196,
    "start_time": "2022-12-10T11:15:39.536Z"
   },
   {
    "duration": 853,
    "start_time": "2022-12-10T11:16:17.734Z"
   },
   {
    "duration": 5,
    "start_time": "2022-12-10T11:16:40.531Z"
   },
   {
    "duration": 23571,
    "start_time": "2022-12-10T11:16:55.948Z"
   },
   {
    "duration": 75,
    "start_time": "2022-12-10T11:18:38.744Z"
   },
   {
    "duration": 6,
    "start_time": "2022-12-10T11:18:46.466Z"
   },
   {
    "duration": 3,
    "start_time": "2022-12-10T11:18:46.936Z"
   },
   {
    "duration": 16398,
    "start_time": "2022-12-10T11:18:47.452Z"
   },
   {
    "duration": 108,
    "start_time": "2022-12-10T11:19:08.401Z"
   },
   {
    "duration": 3,
    "start_time": "2022-12-10T11:19:46.701Z"
   },
   {
    "duration": 20,
    "start_time": "2022-12-10T11:19:51.931Z"
   },
   {
    "duration": 5,
    "start_time": "2022-12-10T11:30:15.960Z"
   },
   {
    "duration": 3,
    "start_time": "2022-12-10T11:30:17.026Z"
   },
   {
    "duration": 16391,
    "start_time": "2022-12-10T11:30:17.413Z"
   },
   {
    "duration": 146151,
    "start_time": "2022-12-10T11:30:33.806Z"
   },
   {
    "duration": 6,
    "start_time": "2022-12-10T11:33:43.060Z"
   },
   {
    "duration": 4,
    "start_time": "2022-12-10T11:33:43.527Z"
   },
   {
    "duration": 16989,
    "start_time": "2022-12-10T11:33:44.093Z"
   },
   {
    "duration": 5,
    "start_time": "2022-12-10T11:34:01.084Z"
   },
   {
    "duration": 5,
    "start_time": "2022-12-10T11:34:08.900Z"
   },
   {
    "duration": 5,
    "start_time": "2022-12-10T11:34:17.264Z"
   },
   {
    "duration": 4,
    "start_time": "2022-12-10T11:34:27.184Z"
   },
   {
    "duration": 5,
    "start_time": "2022-12-10T11:34:37.006Z"
   },
   {
    "duration": 3,
    "start_time": "2022-12-10T11:39:03.075Z"
   },
   {
    "duration": 16371,
    "start_time": "2022-12-10T11:39:03.444Z"
   },
   {
    "duration": 4,
    "start_time": "2022-12-10T11:39:23.730Z"
   },
   {
    "duration": 4,
    "start_time": "2022-12-10T11:39:34.445Z"
   },
   {
    "duration": 5,
    "start_time": "2022-12-10T11:39:57.315Z"
   },
   {
    "duration": 6,
    "start_time": "2022-12-10T11:48:35.067Z"
   },
   {
    "duration": 7,
    "start_time": "2022-12-10T11:57:17.513Z"
   },
   {
    "duration": 6,
    "start_time": "2022-12-10T11:57:18.371Z"
   },
   {
    "duration": 10,
    "start_time": "2022-12-10T11:57:20.676Z"
   },
   {
    "duration": 15,
    "start_time": "2022-12-10T11:57:36.700Z"
   },
   {
    "duration": 6,
    "start_time": "2022-12-10T12:01:17.905Z"
   },
   {
    "duration": 4,
    "start_time": "2022-12-10T12:01:19.679Z"
   },
   {
    "duration": 12,
    "start_time": "2022-12-10T12:01:20.914Z"
   },
   {
    "duration": 3,
    "start_time": "2022-12-10T12:01:35.279Z"
   },
   {
    "duration": 7,
    "start_time": "2022-12-10T12:01:38.721Z"
   },
   {
    "duration": 3,
    "start_time": "2022-12-10T12:01:39.229Z"
   },
   {
    "duration": 8,
    "start_time": "2022-12-10T12:01:39.657Z"
   },
   {
    "duration": 17,
    "start_time": "2022-12-10T12:01:40.472Z"
   },
   {
    "duration": 7,
    "start_time": "2022-12-10T12:02:39.671Z"
   },
   {
    "duration": 2,
    "start_time": "2022-12-10T12:02:39.961Z"
   },
   {
    "duration": 7,
    "start_time": "2022-12-10T12:02:40.231Z"
   },
   {
    "duration": 14,
    "start_time": "2022-12-10T12:02:40.740Z"
   },
   {
    "duration": 9,
    "start_time": "2022-12-10T12:06:09.729Z"
   },
   {
    "duration": 3,
    "start_time": "2022-12-10T12:06:09.990Z"
   },
   {
    "duration": 8,
    "start_time": "2022-12-10T12:06:10.294Z"
   },
   {
    "duration": 16,
    "start_time": "2022-12-10T12:06:10.648Z"
   },
   {
    "duration": 7,
    "start_time": "2022-12-10T12:06:19.437Z"
   },
   {
    "duration": 4,
    "start_time": "2022-12-10T12:06:19.769Z"
   },
   {
    "duration": 10,
    "start_time": "2022-12-10T12:06:20.151Z"
   },
   {
    "duration": 17,
    "start_time": "2022-12-10T12:06:20.615Z"
   },
   {
    "duration": 7,
    "start_time": "2022-12-10T12:11:57.114Z"
   },
   {
    "duration": 3,
    "start_time": "2022-12-10T12:11:57.504Z"
   },
   {
    "duration": 8,
    "start_time": "2022-12-10T12:11:57.871Z"
   },
   {
    "duration": 14,
    "start_time": "2022-12-10T12:11:58.505Z"
   },
   {
    "duration": 7,
    "start_time": "2022-12-10T12:12:14.449Z"
   },
   {
    "duration": 2,
    "start_time": "2022-12-10T12:12:14.764Z"
   },
   {
    "duration": 7,
    "start_time": "2022-12-10T12:12:15.091Z"
   },
   {
    "duration": 16,
    "start_time": "2022-12-10T12:12:15.488Z"
   },
   {
    "duration": 13,
    "start_time": "2022-12-10T12:33:00.520Z"
   },
   {
    "duration": 5,
    "start_time": "2022-12-10T12:34:15.078Z"
   },
   {
    "duration": 6,
    "start_time": "2022-12-10T12:34:21.169Z"
   },
   {
    "duration": 11,
    "start_time": "2022-12-10T12:35:39.114Z"
   },
   {
    "duration": 13,
    "start_time": "2022-12-10T12:35:43.040Z"
   },
   {
    "duration": 6,
    "start_time": "2022-12-10T12:35:55.415Z"
   },
   {
    "duration": 5,
    "start_time": "2022-12-10T12:36:01.281Z"
   },
   {
    "duration": 3,
    "start_time": "2022-12-10T12:42:59.507Z"
   },
   {
    "duration": 8,
    "start_time": "2022-12-10T12:46:39.504Z"
   },
   {
    "duration": 3,
    "start_time": "2022-12-10T12:46:39.842Z"
   },
   {
    "duration": 4,
    "start_time": "2022-12-10T12:46:40.140Z"
   },
   {
    "duration": 31,
    "start_time": "2022-12-10T12:46:44.147Z"
   },
   {
    "duration": 8,
    "start_time": "2022-12-10T12:47:44.113Z"
   },
   {
    "duration": 3,
    "start_time": "2022-12-10T12:47:44.399Z"
   },
   {
    "duration": 5,
    "start_time": "2022-12-10T12:47:44.675Z"
   },
   {
    "duration": 13,
    "start_time": "2022-12-10T12:47:44.993Z"
   },
   {
    "duration": 11,
    "start_time": "2022-12-10T12:47:54.790Z"
   },
   {
    "duration": 4,
    "start_time": "2022-12-10T12:47:55.003Z"
   },
   {
    "duration": 6,
    "start_time": "2022-12-10T12:47:55.212Z"
   },
   {
    "duration": 14,
    "start_time": "2022-12-10T12:47:55.470Z"
   },
   {
    "duration": 17,
    "start_time": "2022-12-10T12:48:41.644Z"
   },
   {
    "duration": 5,
    "start_time": "2022-12-10T12:48:42.144Z"
   },
   {
    "duration": 6,
    "start_time": "2022-12-10T12:48:42.489Z"
   },
   {
    "duration": 8,
    "start_time": "2022-12-10T12:48:43.074Z"
   },
   {
    "duration": 9,
    "start_time": "2022-12-10T12:54:53.989Z"
   },
   {
    "duration": 3,
    "start_time": "2022-12-10T12:54:54.189Z"
   },
   {
    "duration": 5,
    "start_time": "2022-12-10T12:54:54.399Z"
   },
   {
    "duration": 7,
    "start_time": "2022-12-10T12:54:54.940Z"
   },
   {
    "duration": 7,
    "start_time": "2022-12-10T13:07:48.007Z"
   },
   {
    "duration": 4,
    "start_time": "2022-12-10T13:07:49.197Z"
   },
   {
    "duration": 19,
    "start_time": "2022-12-10T13:07:49.638Z"
   },
   {
    "duration": 9,
    "start_time": "2022-12-10T13:08:17.661Z"
   },
   {
    "duration": 3,
    "start_time": "2022-12-10T13:08:17.943Z"
   },
   {
    "duration": 10,
    "start_time": "2022-12-10T13:08:18.238Z"
   },
   {
    "duration": 9,
    "start_time": "2022-12-10T13:08:19.761Z"
   },
   {
    "duration": 10,
    "start_time": "2022-12-10T13:08:22.563Z"
   },
   {
    "duration": 3,
    "start_time": "2022-12-10T13:08:22.893Z"
   },
   {
    "duration": 16,
    "start_time": "2022-12-10T13:08:23.137Z"
   },
   {
    "duration": 8,
    "start_time": "2022-12-10T13:08:23.618Z"
   },
   {
    "duration": 5,
    "start_time": "2022-12-10T13:09:18.565Z"
   },
   {
    "duration": 6,
    "start_time": "2022-12-10T13:10:50.338Z"
   },
   {
    "duration": 4,
    "start_time": "2022-12-10T13:10:50.608Z"
   },
   {
    "duration": 5,
    "start_time": "2022-12-10T13:10:50.892Z"
   },
   {
    "duration": 5,
    "start_time": "2022-12-10T13:10:51.364Z"
   },
   {
    "duration": 7,
    "start_time": "2022-12-10T13:11:36.097Z"
   },
   {
    "duration": 6,
    "start_time": "2022-12-10T13:11:40.978Z"
   },
   {
    "duration": 3,
    "start_time": "2022-12-10T13:11:41.162Z"
   },
   {
    "duration": 4,
    "start_time": "2022-12-10T13:11:41.442Z"
   },
   {
    "duration": 8,
    "start_time": "2022-12-10T13:11:41.710Z"
   },
   {
    "duration": 1000,
    "start_time": "2022-12-12T06:16:38.335Z"
   },
   {
    "duration": 77,
    "start_time": "2022-12-12T06:16:39.337Z"
   },
   {
    "duration": 4,
    "start_time": "2022-12-12T06:16:39.415Z"
   },
   {
    "duration": 18,
    "start_time": "2022-12-12T06:16:39.534Z"
   },
   {
    "duration": 7,
    "start_time": "2022-12-12T06:20:01.946Z"
   },
   {
    "duration": 109,
    "start_time": "2022-12-12T06:20:19.983Z"
   },
   {
    "duration": 3,
    "start_time": "2022-12-12T06:20:41.455Z"
   },
   {
    "duration": 3,
    "start_time": "2022-12-12T06:20:46.618Z"
   },
   {
    "duration": 6,
    "start_time": "2022-12-12T06:21:23.945Z"
   },
   {
    "duration": 7,
    "start_time": "2022-12-12T06:21:24.317Z"
   },
   {
    "duration": 4,
    "start_time": "2022-12-12T06:21:53.197Z"
   },
   {
    "duration": 5,
    "start_time": "2022-12-12T06:22:16.209Z"
   },
   {
    "duration": 7,
    "start_time": "2022-12-12T06:22:16.618Z"
   },
   {
    "duration": 5,
    "start_time": "2022-12-12T06:22:20.131Z"
   },
   {
    "duration": 7,
    "start_time": "2022-12-12T06:22:20.374Z"
   },
   {
    "duration": 11,
    "start_time": "2022-12-12T06:23:01.420Z"
   },
   {
    "duration": 5,
    "start_time": "2022-12-12T06:23:07.495Z"
   },
   {
    "duration": 11,
    "start_time": "2022-12-12T06:23:19.131Z"
   },
   {
    "duration": 7,
    "start_time": "2022-12-12T06:23:34.903Z"
   },
   {
    "duration": 6,
    "start_time": "2022-12-12T06:23:41.209Z"
   },
   {
    "duration": 8,
    "start_time": "2022-12-12T06:24:06.886Z"
   },
   {
    "duration": 9,
    "start_time": "2022-12-12T06:24:21.364Z"
   },
   {
    "duration": 5,
    "start_time": "2022-12-12T06:24:33.178Z"
   },
   {
    "duration": 7,
    "start_time": "2022-12-12T06:24:38.862Z"
   },
   {
    "duration": 47,
    "start_time": "2022-12-12T06:27:29.544Z"
   },
   {
    "duration": 6,
    "start_time": "2022-12-12T06:53:31.861Z"
   },
   {
    "duration": 15,
    "start_time": "2022-12-12T06:53:32.425Z"
   },
   {
    "duration": 20,
    "start_time": "2022-12-12T06:53:38.318Z"
   },
   {
    "duration": 6,
    "start_time": "2022-12-12T06:53:43.354Z"
   },
   {
    "duration": 12,
    "start_time": "2022-12-12T06:53:43.664Z"
   },
   {
    "duration": 3,
    "start_time": "2022-12-12T06:53:56.056Z"
   },
   {
    "duration": 5,
    "start_time": "2022-12-12T06:53:59.606Z"
   },
   {
    "duration": 39,
    "start_time": "2022-12-12T06:54:00.063Z"
   },
   {
    "duration": 6,
    "start_time": "2022-12-12T06:54:04.713Z"
   },
   {
    "duration": 8,
    "start_time": "2022-12-12T06:54:04.947Z"
   },
   {
    "duration": 50,
    "start_time": "2022-12-12T06:57:15.766Z"
   },
   {
    "duration": 5,
    "start_time": "2022-12-12T06:58:18.473Z"
   },
   {
    "duration": 8,
    "start_time": "2022-12-12T06:58:18.838Z"
   },
   {
    "duration": 255,
    "start_time": "2022-12-12T07:00:03.115Z"
   },
   {
    "duration": 5,
    "start_time": "2022-12-12T07:11:44.364Z"
   },
   {
    "duration": 8,
    "start_time": "2022-12-12T07:11:44.666Z"
   }
  ],
  "kernelspec": {
   "display_name": "Python 3 (ipykernel)",
   "language": "python",
   "name": "python3"
  },
  "language_info": {
   "codemirror_mode": {
    "name": "ipython",
    "version": 3
   },
   "file_extension": ".py",
   "mimetype": "text/x-python",
   "name": "python",
   "nbconvert_exporter": "python",
   "pygments_lexer": "ipython3",
   "version": "3.9.5"
  },
  "toc": {
   "base_numbering": 1,
   "nav_menu": {},
   "number_sections": true,
   "sideBar": true,
   "skip_h1_title": true,
   "title_cell": "Содержание",
   "title_sidebar": "Contents",
   "toc_cell": true,
   "toc_position": {
    "height": "calc(100% - 180px)",
    "left": "10px",
    "top": "150px",
    "width": "289.438px"
   },
   "toc_section_display": true,
   "toc_window_display": true
  }
 },
 "nbformat": 4,
 "nbformat_minor": 2
}
