{
 "cells": [
  {
   "attachments": {},
   "cell_type": "markdown",
   "metadata": {},
   "source": [
    "# Проект для «Викишоп»"
   ]
  },
  {
   "cell_type": "code",
   "execution_count": 14,
   "metadata": {
    "ExecuteTime": {
     "end_time": "2023-04-27T16:59:36.986755Z",
     "start_time": "2023-04-27T16:59:24.216828Z"
    }
   },
   "outputs": [],
   "source": [
    "import random\n",
    "\n",
    "import numpy as np\n",
    "import pandas as pd\n",
    "import torch\n",
    "from torch.utils.data import Dataset\n",
    "from torch.utils.data import DataLoader\n",
    "import torch.nn as nn\n",
    "\n",
    "from sklearn.linear_model import LogisticRegression\n",
    "from sklearn.model_selection import train_test_split\n",
    "from sklearn.model_selection import RandomizedSearchCV\n",
    "from sklearn.metrics import f1_score\n",
    "from scipy.stats import uniform\n",
    "from transformers import AutoTokenizer, AutoModel\n",
    "from catboost import CatBoostClassifier\n",
    "\n",
    "SEED = 1234\n",
    "\n",
    "random.seed(SEED)\n",
    "np.random.seed(SEED)\n",
    "torch.manual_seed(SEED)\n",
    "torch.cuda.manual_seed(SEED)\n",
    "torch.backends.cudnn.deterministic = True"
   ]
  },
  {
   "cell_type": "code",
   "execution_count": 15,
   "metadata": {},
   "outputs": [
    {
     "data": {
      "text/html": [
       "<div>\n",
       "<style scoped>\n",
       "    .dataframe tbody tr th:only-of-type {\n",
       "        vertical-align: middle;\n",
       "    }\n",
       "\n",
       "    .dataframe tbody tr th {\n",
       "        vertical-align: top;\n",
       "    }\n",
       "\n",
       "    .dataframe thead th {\n",
       "        text-align: right;\n",
       "    }\n",
       "</style>\n",
       "<table border=\"1\" class=\"dataframe\">\n",
       "  <thead>\n",
       "    <tr style=\"text-align: right;\">\n",
       "      <th></th>\n",
       "      <th>text</th>\n",
       "      <th>toxic</th>\n",
       "    </tr>\n",
       "  </thead>\n",
       "  <tbody>\n",
       "    <tr>\n",
       "      <th>74995</th>\n",
       "      <td>\"\\n\\nWhat you've been told seems to be erroneo...</td>\n",
       "      <td>0</td>\n",
       "    </tr>\n",
       "    <tr>\n",
       "      <th>112381</th>\n",
       "      <td>\"\\n\\nI've added the \"\"\"\" template to the artic...</td>\n",
       "      <td>0</td>\n",
       "    </tr>\n",
       "    <tr>\n",
       "      <th>13200</th>\n",
       "      <td>Criticism is supposed to be critical, that doe...</td>\n",
       "      <td>0</td>\n",
       "    </tr>\n",
       "  </tbody>\n",
       "</table>\n",
       "</div>"
      ],
      "text/plain": [
       "                                                     text  toxic\n",
       "74995   \"\\n\\nWhat you've been told seems to be erroneo...      0\n",
       "112381  \"\\n\\nI've added the \"\"\"\" template to the artic...      0\n",
       "13200   Criticism is supposed to be critical, that doe...      0"
      ]
     },
     "execution_count": 15,
     "metadata": {},
     "output_type": "execute_result"
    }
   ],
   "source": [
    "df = pd.read_csv(\"data/toxic_comments.csv\", index_col=0)\n",
    "df.sample(3)"
   ]
  },
  {
   "cell_type": "code",
   "execution_count": 16,
   "metadata": {},
   "outputs": [
    {
     "data": {
      "text/plain": [
       "toxic\n",
       "0    143106\n",
       "1     16186\n",
       "Name: count, dtype: int64"
      ]
     },
     "execution_count": 16,
     "metadata": {},
     "output_type": "execute_result"
    }
   ],
   "source": [
    "df[\"toxic\"].value_counts()"
   ]
  },
  {
   "cell_type": "code",
   "execution_count": 17,
   "metadata": {},
   "outputs": [
    {
     "data": {
      "text/plain": [
       "(159292, 2)"
      ]
     },
     "execution_count": 17,
     "metadata": {},
     "output_type": "execute_result"
    }
   ],
   "source": [
    "df.shape"
   ]
  },
  {
   "attachments": {},
   "cell_type": "markdown",
   "metadata": {},
   "source": [
    "Имеется серьезный дисбаланс классов, поэтому необходимо использовать соответствующие алгоритмы."
   ]
  },
  {
   "attachments": {},
   "cell_type": "markdown",
   "metadata": {},
   "source": [
    "## Предсказываем с помощью эмбедингов."
   ]
  },
  {
   "attachments": {},
   "cell_type": "markdown",
   "metadata": {},
   "source": [
    "Для классификации будем использовать эмбединги, полученные из модели bert-large-uncased. Возьмем предобученную модель из библиотеки transformers и напишим свой дочерний класс Dataset библиотеки torch."
   ]
  },
  {
   "cell_type": "code",
   "execution_count": 18,
   "metadata": {},
   "outputs": [
    {
     "name": "stderr",
     "output_type": "stream",
     "text": [
      "Some weights of the model checkpoint at unitary/toxic-bert were not used when initializing BertModel: ['classifier.bias', 'classifier.weight']\n",
      "- This IS expected if you are initializing BertModel from the checkpoint of a model trained on another task or with another architecture (e.g. initializing a BertForSequenceClassification model from a BertForPreTraining model).\n",
      "- This IS NOT expected if you are initializing BertModel from the checkpoint of a model that you expect to be exactly identical (initializing a BertForSequenceClassification model from a BertForSequenceClassification model).\n"
     ]
    }
   ],
   "source": [
    "tokenizer = AutoTokenizer.from_pretrained(\"unitary/toxic-bert\")\n",
    "\n",
    "model = AutoModel.from_pretrained(\"unitary/toxic-bert\").to(\"cuda:0\")\n"
   ]
  },
  {
   "cell_type": "code",
   "execution_count": 19,
   "metadata": {},
   "outputs": [],
   "source": [
    "df.reset_index(drop=True, inplace=True)"
   ]
  },
  {
   "cell_type": "code",
   "execution_count": 20,
   "metadata": {},
   "outputs": [],
   "source": [
    "class BuildDataset(Dataset):\n",
    "    def __init__(self, df):\n",
    "        super().__init__()\n",
    "        self.df = df\n",
    "        self.list_text_size = []\n",
    "        self.max_len = 512\n",
    "\n",
    "    def set_len_text(self):\n",
    "        self.list_text_size = self.df[\"text\"].apply(\n",
    "            lambda x: len(tokenizer.encode(x, add_special_tokens=True))\n",
    "        )\n",
    "\n",
    "        if max(self.list_text_size) < self.max_len:\n",
    "            self.max_len = max(self.list_text_size)\n",
    "\n",
    "    def __len__(self):\n",
    "        return len(self.df)\n",
    "\n",
    "    def __getitem__(self, index):\n",
    "        target = self.df.loc[index, \"toxic\"]\n",
    "        token = tokenizer(\n",
    "            self.df.loc[index, \"text\"],\n",
    "            max_length=self.max_len,\n",
    "            padding=\"max_length\",\n",
    "            truncation=True,\n",
    "            return_tensors=\"pt\",\n",
    "            add_special_tokens=True,\n",
    "        )\n",
    "\n",
    "        return {\n",
    "            \"input_ids\": token[\"input_ids\"],\n",
    "            \"attention_mask\": token[\"attention_mask\"],\n",
    "            \"target\": target,\n",
    "        }"
   ]
  },
  {
   "cell_type": "code",
   "execution_count": 21,
   "metadata": {},
   "outputs": [
    {
     "name": "stderr",
     "output_type": "stream",
     "text": [
      "Token indices sequence length is longer than the specified maximum sequence length for this model (631 > 512). Running this sequence through the model will result in indexing errors\n"
     ]
    },
    {
     "data": {
      "text/plain": [
       "<Axes: >"
      ]
     },
     "execution_count": 21,
     "metadata": {},
     "output_type": "execute_result"
    },
    {
     "data": {
      "image/png": "[encoded data removed]",
      "text/plain": [
       "<Figure size 640x480 with 1 Axes>"
      ]
     },
     "metadata": {},
     "output_type": "display_data"
    }
   ],
   "source": [
    "data = BuildDataset(df)\n",
    "data.set_len_text()\n",
    "data.list_text_size.hist()"
   ]
  },
  {
   "cell_type": "code",
   "execution_count": 22,
   "metadata": {},
   "outputs": [
    {
     "data": {
      "text/plain": [
       "(94.7983514551892, 52.0)"
      ]
     },
     "execution_count": 22,
     "metadata": {},
     "output_type": "execute_result"
    }
   ],
   "source": [
    "data.list_text_size.mean(), data.list_text_size.median()"
   ]
  },
  {
   "attachments": {},
   "cell_type": "markdown",
   "metadata": {},
   "source": [
    "Есть очень большие сообщения более 5 тыс. токенов, однако большинство меньше 100."
   ]
  },
  {
   "cell_type": "code",
   "execution_count": 23,
   "metadata": {},
   "outputs": [
    {
     "name": "stdout",
     "output_type": "stream",
     "text": [
      "266/266\r"
     ]
    }
   ],
   "source": [
    "batch_size = 600\n",
    "\n",
    "train_load = DataLoader(data, batch_size=batch_size, num_workers=0)\n",
    "embeddings = {\"emb\": [], \"target\": []}\n",
    "num = 0\n",
    "for batch in train_load:\n",
    "    num += 1\n",
    "    print(f\"{num}/{len(train_load)}\", end=\"\\r\")\n",
    "    with torch.no_grad():\n",
    "        token = torch.squeeze(batch[\"input_ids\"], dim=1).to(\"cuda:0\")\n",
    "        mask = torch.squeeze(batch[\"attention_mask\"], dim=1).to(\"cuda:0\")\n",
    "\n",
    "        batch_embeddings = model(token, attention_mask=mask)\n",
    "\n",
    "    embeddings[\"emb\"].append(batch_embeddings[0][:, 0, :].cpu().numpy())\n",
    "    embeddings[\"target\"].append(batch[\"target\"].cpu().numpy())"
   ]
  },
  {
   "cell_type": "code",
   "execution_count": 24,
   "metadata": {},
   "outputs": [],
   "source": [
    "embed = embeddings[\"emb\"]\n",
    "target = embeddings[\"target\"]"
   ]
  },
  {
   "cell_type": "code",
   "execution_count": 25,
   "metadata": {},
   "outputs": [],
   "source": [
    "embed_np = np.concatenate(embed)\n",
    "target_np = np.concatenate(target)"
   ]
  },
  {
   "cell_type": "code",
   "execution_count": 26,
   "metadata": {},
   "outputs": [
    {
     "data": {
      "text/plain": [
       "((159292, 768), (159292,))"
      ]
     },
     "execution_count": 26,
     "metadata": {},
     "output_type": "execute_result"
    }
   ],
   "source": [
    "embed_np.shape, target_np.shape"
   ]
  },
  {
   "cell_type": "code",
   "execution_count": 27,
   "metadata": {},
   "outputs": [],
   "source": [
    "df_emb_toxic = pd.DataFrame(embed_np)\n",
    "df_emb_toxic['target'] = target_np\n",
    "df_emb_toxic.to_csv('data/df_emb_toxic.csv')"
   ]
  },
  {
   "attachments": {},
   "cell_type": "markdown",
   "metadata": {},
   "source": [
    "### Предсказываем с помощью логистической регрессии"
   ]
  },
  {
   "cell_type": "code",
   "execution_count": 28,
   "metadata": {},
   "outputs": [],
   "source": [
    "new_df = pd.read_csv(\"data/df_emb_toxic.csv\", index_col=0)"
   ]
  },
  {
   "cell_type": "code",
   "execution_count": 29,
   "metadata": {},
   "outputs": [],
   "source": [
    "X = new_df.drop(\"target\", axis=1)\n",
    "y = new_df[\"target\"]\n",
    "\n",
    "X_train, X_test, y_train, y_test = train_test_split(\n",
    "    X, y, test_size=0.2, shuffle=True, stratify=y\n",
    ")"
   ]
  },
  {
   "cell_type": "code",
   "execution_count": 30,
   "metadata": {},
   "outputs": [
    {
     "name": "stdout",
     "output_type": "stream",
     "text": [
      "huggingface/tokenizers: The current process just got forked, after parallelism has already been used. Disabling parallelism to avoid deadlocks...\n",
      "To disable this warning, you can either:\n",
      "\t- Avoid using `tokenizers` before the fork if possible\n",
      "\t- Explicitly set the environment variable TOKENIZERS_PARALLELISM=(true | false)\n",
      "huggingface/tokenizers: The current process just got forked, after parallelism has already been used. Disabling parallelism to avoid deadlocks...\n",
      "To disable this warning, you can either:\n",
      "\t- Avoid using `tokenizers` before the fork if possible\n",
      "\t- Explicitly set the environment variable TOKENIZERS_PARALLELISM=(true | false)\n",
      "huggingface/tokenizers: The current process just got forked, after parallelism has already been used. Disabling parallelism to avoid deadlocks...\n",
      "To disable this warning, you can either:\n",
      "\t- Avoid using `tokenizers` before the fork if possible\n",
      "\t- Explicitly set the environment variable TOKENIZERS_PARALLELISM=(true | false)\n",
      "huggingface/tokenizers: The current process just got forked, after parallelism has already been used. Disabling parallelism to avoid deadlocks...\n",
      "To disable this warning, you can either:\n",
      "\t- Avoid using `tokenizers` before the fork if possible\n",
      "\t- Explicitly set the environment variable TOKENIZERS_PARALLELISM=(true | false)\n",
      "huggingface/tokenizers: The current process just got forked, after parallelism has already been used. Disabling parallelism to avoid deadlocks...\n",
      "To disable this warning, you can either:\n",
      "\t- Avoid using `tokenizers` before the fork if possible\n",
      "\t- Explicitly set the environment variable TOKENIZERS_PARALLELISM=(true | false)\n",
      "huggingface/tokenizers: The current process just got forked, after parallelism has already been used. Disabling parallelism to avoid deadlocks...\n",
      "To disable this warning, you can either:\n",
      "\t- Avoid using `tokenizers` before the fork if possible\n",
      "\t- Explicitly set the environment variable TOKENIZERS_PARALLELISM=(true | false)\n",
      "Лучшие параметры:\n",
      "{'C': 1.6095611723001302}\n",
      "Лучшая метрика на валидационных данных:\n",
      "0.9240423774118766\n"
     ]
    }
   ],
   "source": [
    "model = LogisticRegression(max_iter=3000, penalty=\"l2\", class_weight='balanced')\n",
    "distributions = dict(C=uniform(loc=0, scale=10))\n",
    "\n",
    "random_search_linear = RandomizedSearchCV(\n",
    "    model, distributions, cv=5, n_jobs=5, n_iter=10, refit=\"f1\", scoring=\"f1\"\n",
    ")\n",
    "random_search_linear.fit(X_train, y_train)\n",
    "print(\"Лучшие параметры:\")\n",
    "print(random_search_linear.best_params_)\n",
    "print(\"Лучшая метрика на валидационных данных:\")\n",
    "print(random_search_linear.best_score_)"
   ]
  },
  {
   "attachments": {},
   "cell_type": "markdown",
   "metadata": {},
   "source": [
    "### Используем catboost"
   ]
  },
  {
   "cell_type": "code",
   "execution_count": 31,
   "metadata": {},
   "outputs": [
    {
     "data": {
      "application/vnd.jupyter.widget-view+json": {
       "model_id": "d20fd7002d63409a8107c74f11e48028",
       "version_major": 2,
       "version_minor": 0
      },
      "text/plain": [
       "MetricVisualizer(layout=Layout(align_self='stretch', height='500px'))"
      ]
     },
     "metadata": {},
     "output_type": "display_data"
    },
    {
     "name": "stderr",
     "output_type": "stream",
     "text": [
      "Warning: less than 75% gpu memory available for training. Free: 1631 Total: 24255.5\n"
     ]
    },
    {
     "name": "stdout",
     "output_type": "stream",
     "text": [
      "bestTest = 0.9833705798\n",
      "bestIteration = 624\n",
      "0:\tloss: 0.9833706\tbest: 0.9833706 (0)\ttotal: 7m 34s\tremaining: 22m 44s\n",
      "bestTest = 0.9833858173\n",
      "bestIteration = 8594\n",
      "1:\tloss: 0.9833858\tbest: 0.9833858 (1)\ttotal: 15m 3s\tremaining: 15m 3s\n",
      "bestTest = 0.9835369557\n",
      "bestIteration = 621\n",
      "2:\tloss: 0.9835370\tbest: 0.9835370 (2)\ttotal: 22m 30s\tremaining: 7m 30s\n",
      "bestTest = 0.9833646446\n",
      "bestIteration = 6965\n",
      "3:\tloss: 0.9833646\tbest: 0.9835370 (2)\ttotal: 30m\tremaining: 0us\n",
      "Estimating final quality...\n",
      "Training on fold [0/5]\n"
     ]
    },
    {
     "name": "stderr",
     "output_type": "stream",
     "text": [
      "Warning: less than 75% gpu memory available for training. Free: 1629 Total: 24255.5\n"
     ]
    },
    {
     "name": "stdout",
     "output_type": "stream",
     "text": [
      "bestTest = 0.9840493136\n",
      "bestIteration = 148\n",
      "Training on fold [1/5]\n",
      "bestTest = 0.981807809\n",
      "bestIteration = 11\n",
      "Training on fold [2/5]\n",
      "bestTest = 0.9847832282\n",
      "bestIteration = 324\n",
      "Training on fold [3/5]\n",
      "bestTest = 0.9828466995\n",
      "bestIteration = 205\n",
      "Training on fold [4/5]\n",
      "bestTest = 0.9835113414\n",
      "bestIteration = 860\n"
     ]
    },
    {
     "name": "stderr",
     "output_type": "stream",
     "text": [
      "Warning: less than 75% gpu memory available for training. Free: 1629 Total: 24255.5\n"
     ]
    }
   ],
   "source": [
    "model = CatBoostClassifier(\n",
    "    iterations=10000,\n",
    "    verbose=False,\n",
    "    eval_metric=\"F1\",\n",
    "    task_type=\"GPU\",\n",
    "    devices=\"0\",\n",
    "    auto_class_weights=\"Balanced\",\n",
    "    boosting_type=\"Ordered\",\n",
    "    leaf_estimation_method=\"Newton\",\n",
    ")\n",
    "\n",
    "param = {\n",
    "    \"l2_leaf_reg\": [0.5, 2],\n",
    "    \"depth\": [6],\n",
    "    \"learning_rate\": [0.03, 0.003],\n",
    "}\n",
    "\n",
    "grid_search = model.grid_search(\n",
    "    param,\n",
    "    X=X_train,\n",
    "    y=y_train,\n",
    "    train_size=0.8,\n",
    "    refit=True,\n",
    "    cv=5,\n",
    "    calc_cv_statistics=False,\n",
    "    verbose=True,\n",
    "    plot=True,\n",
    ")"
   ]
  },
  {
   "attachments": {},
   "cell_type": "markdown",
   "metadata": {},
   "source": [
    "Catboost показал себя лучше, чем логистическая регрессия, проверим алгоритм на тестовых данных. "
   ]
  },
  {
   "cell_type": "code",
   "execution_count": 32,
   "metadata": {},
   "outputs": [
    {
     "data": {
      "text/plain": [
       "0.9401072705601908"
      ]
     },
     "execution_count": 32,
     "metadata": {},
     "output_type": "execute_result"
    }
   ],
   "source": [
    "pred = model.predict(X_test)\n",
    "f1_score(pred, y_test)"
   ]
  },
  {
   "attachments": {},
   "cell_type": "markdown",
   "metadata": {},
   "source": [
    "## Вывод"
   ]
  },
  {
   "attachments": {},
   "cell_type": "markdown",
   "metadata": {},
   "source": [
    "Используя эмбединги берта, предобученного на токсичных комментариях и catboost удалось получить метрику f1 0.94."
   ]
  }
 ],
 "metadata": {
  "kernelspec": {
   "display_name": "Python 3 (ipykernel)",
   "language": "python",
   "name": "python3"
  },
  "language_info": {
   "codemirror_mode": {
    "name": "ipython",
    "version": 3
   },
   "file_extension": ".py",
   "mimetype": "text/x-python",
   "name": "python",
   "nbconvert_exporter": "python",
   "pygments_lexer": "ipython3",
   "version": "3.9.5"
  },
  "toc": {
   "base_numbering": 1,
   "nav_menu": {},
   "number_sections": true,
   "sideBar": true,
   "skip_h1_title": true,
   "title_cell": "Table of Contents",
   "title_sidebar": "Contents",
   "toc_cell": false,
   "toc_position": {},
   "toc_section_display": true,
   "toc_window_display": false
  }
 },
 "nbformat": 4,
 "nbformat_minor": 2
}
