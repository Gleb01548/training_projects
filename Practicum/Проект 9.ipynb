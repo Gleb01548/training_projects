{
 "cells": [
  {
   "cell_type": "markdown",
   "id": "23b1f026",
   "metadata": {},
   "source": [
    "<div style=\"border:solid green 2px; padding: 20px\">\n",
    "<b>Привет, Глеб!</b>\n",
    "\n",
    "Меня зовут Александр Пономаренко, и я буду проверять твой проект. Предлагаю общаться на «ты» :) Но если это не удобно - дай знать, и мы перейдем на \"вы\". \n",
    "\n",
    "Моя основная цель — не указать на совершенные тобою ошибки, а поделиться своим опытом и помочь тебе стать data science. Ты уже проделал большую работу над проектом, но давай сделаем его еще лучше. Ниже ты найдешь мои комментарии - **пожалуйста, не перемещай, не изменяй и не удаляй их**. Увидев у тебя ошибку, в первый раз я лишь укажу на ее наличие и дам тебе возможность самой найти и исправить ее. На реальной работе твой начальник будет поступать так же, а я пытаюсь подготовить тебя именно к работе аналитиком. Но если ты пока не справишься с такой задачей - при следующей проверке я дам более точную подсказку. Я буду использовать цветовую разметку:\n",
    "\n",
    "<div class=\"alert alert-danger\">\n",
    "<b>Комментарий ревьюера ❌:</b> Так выделены самые важные замечания. Без их отработки проект не будет принят. </div>\n",
    "\n",
    "<div class=\"alert alert-warning\">\n",
    "<b>Комментарий ревьюера ⚠️:</b> Так выделены небольшие замечания. Я надеюсь, что их ты тоже учтешь - твой проект от этого станет только лучше. Но настаивать на их отработке не буду.\n",
    "\n",
    "</div>\n",
    "\n",
    "<div class=\"alert alert-success\">\n",
    "<b>Комментарий ревьюера ✔️:</b> Так я выделяю все остальные комментарии.</div>\n",
    "\n",
    "Давай работать над проектом в диалоге: **если ты что-то меняешь в проекте или отвечаешь на мои комменатри — пиши об этом.** Мне будет легче отследить изменения, если ты выделишь свои комментарии:\n",
    "<div class=\"alert alert-info\"> <b>Комментарий студента:</b> Например, вот так.</div>\n",
    "\n",
    "Всё это поможет выполнить повторную проверку твоего проекта оперативнее. "
   ]
  },
  {
   "cell_type": "markdown",
   "id": "GEqQaHzsZ_bA",
   "metadata": {
    "id": "GEqQaHzsZ_bA"
   },
   "source": [
    "## Предсказание стоимости жилья\n",
    "\n",
    "В проекте вам нужно обучить модель линейной регрессии на данных о жилье в Калифорнии в 1990 году. На основе данных нужно предсказать медианную стоимость дома в жилом массиве. Обучите модель и сделайте предсказания на тестовой выборке. Для оценки качества модели используйте метрики RMSE, MAE и R2."
   ]
  },
  {
   "cell_type": "markdown",
   "id": "53871372",
   "metadata": {
    "id": "53871372"
   },
   "source": [
    "# Подготовка данных"
   ]
  },
  {
   "cell_type": "code",
   "execution_count": 1,
   "id": "df92e3ec",
   "metadata": {
    "id": "df92e3ec"
   },
   "outputs": [],
   "source": [
    "import pandas as pd \n",
    "import numpy as np\n",
    "\n",
    "import pyspark\n",
    "from pyspark.sql import SparkSession\n",
    "from pyspark.sql.types import *\n",
    "import pyspark.sql.functions as F\n",
    "from pyspark.ml.regression import LinearRegression\n",
    "from pyspark.ml.evaluation import RegressionEvaluator\n",
    "\n",
    "from pyspark.ml.feature import StringIndexer, VectorAssembler, StandardScaler\n",
    "from pyspark.ml.classification import LogisticRegression\n",
    "from pyspark.ml.evaluation import BinaryClassificationEvaluator, MulticlassClassificationEvaluator\n",
    "\n",
    "from pyspark.sql.functions import isnan, when, count, col\n",
    "from pyspark.sql.functions import mean\n",
    "from pyspark.sql.functions import lit\n",
    "\n",
    "pyspark_version = pyspark.__version__\n",
    "if int(pyspark_version[:1]) == 3:\n",
    "    from pyspark.ml.feature import OneHotEncoder    \n",
    "elif int(pyspark_version[:1]) == 2:\n",
    "    from pyspark.ml.feature import OneHotEncodeEstimator\n",
    "        \n",
    "RANDOM_SEED = 2022\n",
    "\n",
    "spark = SparkSession.builder \\\n",
    "                    .master(\"local\") \\\n",
    "                    .appName(\"california - Logistic regression\") \\\n",
    "                    .getOrCreate()"
   ]
  },
  {
   "cell_type": "code",
   "execution_count": 2,
   "id": "e606eba8",
   "metadata": {},
   "outputs": [
    {
     "name": "stderr",
     "output_type": "stream",
     "text": [
      "                                                                                \r"
     ]
    }
   ],
   "source": [
    "df = spark.read.option('header', 'true').csv('/datasets/housing.csv', inferSchema = True) "
   ]
  },
  {
   "cell_type": "markdown",
   "id": "d89b64d6",
   "metadata": {},
   "source": [
    "<div class=\"alert alert-success\">\n",
    "<b>Комментарий ревьюера ✔️:</b> Огонь, данные на месте:)</div>"
   ]
  },
  {
   "cell_type": "code",
   "execution_count": 3,
   "id": "a0d0ef1a",
   "metadata": {},
   "outputs": [
    {
     "name": "stdout",
     "output_type": "stream",
     "text": [
      "               column    type\n",
      "0           longitude  double\n",
      "1            latitude  double\n",
      "2  housing_median_age  double\n",
      "3         total_rooms  double\n",
      "4      total_bedrooms  double\n",
      "5          population  double\n",
      "6          households  double\n",
      "7       median_income  double\n",
      "8  median_house_value  double\n",
      "9     ocean_proximity  string\n"
     ]
    }
   ],
   "source": [
    "print(pd.DataFrame(df.dtypes, columns=['column', 'type']).head(10))"
   ]
  },
  {
   "cell_type": "code",
   "execution_count": 4,
   "id": "896d556d",
   "metadata": {},
   "outputs": [
    {
     "name": "stdout",
     "output_type": "stream",
     "text": [
      "+---------+--------+------------------+-----------+--------------+----------+----------+-------------+------------------+---------------+\n",
      "|longitude|latitude|housing_median_age|total_rooms|total_bedrooms|population|households|median_income|median_house_value|ocean_proximity|\n",
      "+---------+--------+------------------+-----------+--------------+----------+----------+-------------+------------------+---------------+\n",
      "|  -122.23|   37.88|              41.0|      880.0|         129.0|     322.0|     126.0|       8.3252|          452600.0|       NEAR BAY|\n",
      "|  -122.22|   37.86|              21.0|     7099.0|        1106.0|    2401.0|    1138.0|       8.3014|          358500.0|       NEAR BAY|\n",
      "|  -122.24|   37.85|              52.0|     1467.0|         190.0|     496.0|     177.0|       7.2574|          352100.0|       NEAR BAY|\n",
      "|  -122.25|   37.85|              52.0|     1274.0|         235.0|     558.0|     219.0|       5.6431|          341300.0|       NEAR BAY|\n",
      "|  -122.25|   37.85|              52.0|     1627.0|         280.0|     565.0|     259.0|       3.8462|          342200.0|       NEAR BAY|\n",
      "+---------+--------+------------------+-----------+--------------+----------+----------+-------------+------------------+---------------+\n",
      "only showing top 5 rows\n",
      "\n"
     ]
    }
   ],
   "source": [
    "df.show(5)"
   ]
  },
  {
   "cell_type": "code",
   "execution_count": 5,
   "id": "7049754d",
   "metadata": {},
   "outputs": [],
   "source": [
    "columns = df.columns\n",
    "columns.remove('ocean_proximity')"
   ]
  },
  {
   "cell_type": "code",
   "execution_count": 6,
   "id": "0db8c7f8",
   "metadata": {},
   "outputs": [],
   "source": [
    "for i in columns:\n",
    "    df = df.withColumn(i, \n",
    "                       df[i]\n",
    "                       .cast('float'))"
   ]
  },
  {
   "cell_type": "code",
   "execution_count": 7,
   "id": "61b97d42",
   "metadata": {},
   "outputs": [
    {
     "name": "stdout",
     "output_type": "stream",
     "text": [
      "               column    type\n",
      "0           longitude   float\n",
      "1            latitude   float\n",
      "2  housing_median_age   float\n",
      "3         total_rooms   float\n",
      "4      total_bedrooms   float\n",
      "5          population   float\n",
      "6          households   float\n",
      "7       median_income   float\n",
      "8  median_house_value   float\n",
      "9     ocean_proximity  string\n"
     ]
    }
   ],
   "source": [
    "print(pd.DataFrame(df.dtypes, columns=['column', 'type']).head(10))"
   ]
  },
  {
   "cell_type": "code",
   "execution_count": 8,
   "id": "e018a5e2",
   "metadata": {},
   "outputs": [
    {
     "name": "stderr",
     "output_type": "stream",
     "text": [
      "[Stage 3:>                                                          (0 + 1) / 1]\r"
     ]
    },
    {
     "name": "stdout",
     "output_type": "stream",
     "text": [
      "+---------+--------+------------------+-----------+--------------+----------+----------+-------------+------------------+---------------+\n",
      "|longitude|latitude|housing_median_age|total_rooms|total_bedrooms|population|households|median_income|median_house_value|ocean_proximity|\n",
      "+---------+--------+------------------+-----------+--------------+----------+----------+-------------+------------------+---------------+\n",
      "|        0|       0|                 0|          0|           207|         0|         0|            0|                 0|              0|\n",
      "+---------+--------+------------------+-----------+--------------+----------+----------+-------------+------------------+---------------+\n",
      "\n"
     ]
    },
    {
     "name": "stderr",
     "output_type": "stream",
     "text": [
      "                                                                                \r"
     ]
    }
   ],
   "source": [
    "df.select([count(when(isnan(c) | col(c).isNull(), c)).alias(c) for c in df.columns]).show()"
   ]
  },
  {
   "cell_type": "markdown",
   "id": "448e270e",
   "metadata": {},
   "source": [
    "Пропуски имеются только в 'total_bedrooms', заполним их медианным значением. "
   ]
  },
  {
   "cell_type": "code",
   "execution_count": 9,
   "id": "7d22d4f8",
   "metadata": {},
   "outputs": [],
   "source": [
    "median = df.approxQuantile(\"total_bedrooms\", [0.5], 0.25)[0]\n",
    "df = df.na.fill({'total_bedrooms':median})"
   ]
  },
  {
   "cell_type": "code",
   "execution_count": 10,
   "id": "f5ae1901",
   "metadata": {},
   "outputs": [
    {
     "name": "stdout",
     "output_type": "stream",
     "text": [
      "+---------+--------+------------------+-----------+--------------+----------+----------+-------------+------------------+---------------+\n",
      "|longitude|latitude|housing_median_age|total_rooms|total_bedrooms|population|households|median_income|median_house_value|ocean_proximity|\n",
      "+---------+--------+------------------+-----------+--------------+----------+----------+-------------+------------------+---------------+\n",
      "|        0|       0|                 0|          0|             0|         0|         0|            0|                 0|              0|\n",
      "+---------+--------+------------------+-----------+--------------+----------+----------+-------------+------------------+---------------+\n",
      "\n"
     ]
    }
   ],
   "source": [
    "df.select([count(when(isnan(c) | col(c).isNull(), c)).alias(c) for c in df.columns]).show()"
   ]
  },
  {
   "cell_type": "markdown",
   "id": "461623e5",
   "metadata": {},
   "source": [
    "<div class=\"alert alert-success\">\n",
    "<b>Комментарий ревьюера ✔️:</b> Да, хорошо;)</div>"
   ]
  },
  {
   "cell_type": "code",
   "execution_count": 11,
   "id": "d00249e9",
   "metadata": {},
   "outputs": [
    {
     "name": "stderr",
     "output_type": "stream",
     "text": [
      "                                                                                \r"
     ]
    }
   ],
   "source": [
    "indexer = StringIndexer(inputCols=['ocean_proximity'], \n",
    "                        outputCols=['ocean_proximity_idx']) \n",
    "df = indexer.fit(df).transform(df)"
   ]
  },
  {
   "cell_type": "code",
   "execution_count": 12,
   "id": "1da6134b",
   "metadata": {},
   "outputs": [],
   "source": [
    "encoder = OneHotEncoder(inputCols=['ocean_proximity_idx'],\n",
    "                        outputCols=['ocean_proximity_ohe'])"
   ]
  },
  {
   "cell_type": "code",
   "execution_count": 13,
   "id": "e878b320",
   "metadata": {},
   "outputs": [],
   "source": [
    "df = encoder.fit(df).transform(df)"
   ]
  },
  {
   "cell_type": "markdown",
   "id": "c5844dff",
   "metadata": {},
   "source": [
    "<div class=\"alert alert-success\">\n",
    "<b>Комментарий ревьюера ✔️:</b> Отлично, категориальные данные готовы)</div>"
   ]
  },
  {
   "cell_type": "markdown",
   "id": "2a3cb591",
   "metadata": {},
   "source": [
    "Вектор, созданный на основе категориальных признаков у нас только один - ocean_proximity_ohe"
   ]
  },
  {
   "cell_type": "markdown",
   "id": "3e337670",
   "metadata": {},
   "source": [
    "Обработаем числовые признаки, используем массив columns, удалив таргет (median_house_value)"
   ]
  },
  {
   "cell_type": "code",
   "execution_count": 14,
   "id": "f164bc8d",
   "metadata": {},
   "outputs": [],
   "source": [
    "columns.remove('median_house_value')"
   ]
  },
  {
   "cell_type": "code",
   "execution_count": 15,
   "id": "a2425e6e",
   "metadata": {},
   "outputs": [],
   "source": [
    "numerical_assembler = VectorAssembler(inputCols=columns,\n",
    "                                      outputCol=\"numerical_features\")\n",
    "df = numerical_assembler.transform(df) "
   ]
  },
  {
   "cell_type": "code",
   "execution_count": 16,
   "id": "982bf310",
   "metadata": {},
   "outputs": [
    {
     "name": "stderr",
     "output_type": "stream",
     "text": [
      "                                                                                \r"
     ]
    }
   ],
   "source": [
    "standardScaler = StandardScaler(inputCol='numerical_features',\n",
    "                                outputCol=\"numerical_features_scaled\")\n",
    "df = standardScaler.fit(df).transform(df) "
   ]
  },
  {
   "cell_type": "code",
   "execution_count": 17,
   "id": "d8cd5084",
   "metadata": {},
   "outputs": [
    {
     "name": "stdout",
     "output_type": "stream",
     "text": [
      "['longitude', 'latitude', 'housing_median_age', 'total_rooms', 'total_bedrooms', 'population', 'households', 'median_income', 'median_house_value', 'ocean_proximity', 'ocean_proximity_idx', 'ocean_proximity_ohe', 'numerical_features', 'numerical_features_scaled']\n"
     ]
    }
   ],
   "source": [
    "print(df.columns)"
   ]
  },
  {
   "cell_type": "markdown",
   "id": "5d6df182",
   "metadata": {},
   "source": [
    "<div class=\"alert alert-success\">\n",
    "<b>Комментарий ревьюера ✔️:</b> Отмасштабировал корректно;)</div>"
   ]
  },
  {
   "cell_type": "code",
   "execution_count": 18,
   "id": "4a2ba38b",
   "metadata": {},
   "outputs": [
    {
     "name": "stdout",
     "output_type": "stream",
     "text": [
      "+-------------------+-------------------------+\n",
      "|ocean_proximity_ohe|numerical_features_scaled|\n",
      "+-------------------+-------------------------+\n",
      "|      (4,[3],[1.0])|     [-61.007270679927...|\n",
      "|      (4,[3],[1.0])|     [-61.002278427488...|\n",
      "|      (4,[3],[1.0])|     [-61.012259124393...|\n",
      "+-------------------+-------------------------+\n",
      "only showing top 3 rows\n",
      "\n"
     ]
    }
   ],
   "source": [
    "all_features = ['ocean_proximity_ohe','numerical_features_scaled']\n",
    "\n",
    "final_assembler = VectorAssembler(inputCols=all_features, \n",
    "                                  outputCol=\"features\") \n",
    "df = final_assembler.transform(df)\n",
    "\n",
    "df.select(all_features).show(3) "
   ]
  },
  {
   "cell_type": "code",
   "execution_count": 19,
   "id": "386b1e9b",
   "metadata": {},
   "outputs": [
    {
     "name": "stderr",
     "output_type": "stream",
     "text": [
      "                                                                                \r"
     ]
    },
    {
     "data": {
      "text/html": [
       "<div>\n",
       "<style scoped>\n",
       "    .dataframe tbody tr th:only-of-type {\n",
       "        vertical-align: middle;\n",
       "    }\n",
       "\n",
       "    .dataframe tbody tr th {\n",
       "        vertical-align: top;\n",
       "    }\n",
       "\n",
       "    .dataframe thead th {\n",
       "        text-align: right;\n",
       "    }\n",
       "</style>\n",
       "<table border=\"1\" class=\"dataframe\">\n",
       "  <thead>\n",
       "    <tr style=\"text-align: right;\">\n",
       "      <th></th>\n",
       "      <th>longitude</th>\n",
       "      <th>latitude</th>\n",
       "      <th>housing_median_age</th>\n",
       "      <th>total_rooms</th>\n",
       "      <th>total_bedrooms</th>\n",
       "      <th>population</th>\n",
       "      <th>households</th>\n",
       "      <th>median_income</th>\n",
       "      <th>median_house_value</th>\n",
       "      <th>ocean_proximity</th>\n",
       "      <th>ocean_proximity_idx</th>\n",
       "      <th>ocean_proximity_ohe</th>\n",
       "      <th>numerical_features</th>\n",
       "      <th>numerical_features_scaled</th>\n",
       "      <th>features</th>\n",
       "    </tr>\n",
       "  </thead>\n",
       "  <tbody>\n",
       "    <tr>\n",
       "      <th>0</th>\n",
       "      <td>-122.230003</td>\n",
       "      <td>37.880001</td>\n",
       "      <td>41.0</td>\n",
       "      <td>880.0</td>\n",
       "      <td>129.0</td>\n",
       "      <td>322.0</td>\n",
       "      <td>126.0</td>\n",
       "      <td>8.3252</td>\n",
       "      <td>452600.0</td>\n",
       "      <td>NEAR BAY</td>\n",
       "      <td>3.0</td>\n",
       "      <td>(0.0, 0.0, 0.0, 1.0)</td>\n",
       "      <td>[-122.2300033569336, 37.880001068115234, 41.0,...</td>\n",
       "      <td>[-61.00727067992717, 17.73447826464273, 3.2577...</td>\n",
       "      <td>[0.0, 0.0, 0.0, 1.0, -61.00727067992717, 17.73...</td>\n",
       "    </tr>\n",
       "    <tr>\n",
       "      <th>1</th>\n",
       "      <td>-122.220001</td>\n",
       "      <td>37.860001</td>\n",
       "      <td>21.0</td>\n",
       "      <td>7099.0</td>\n",
       "      <td>1106.0</td>\n",
       "      <td>2401.0</td>\n",
       "      <td>1138.0</td>\n",
       "      <td>8.3014</td>\n",
       "      <td>358500.0</td>\n",
       "      <td>NEAR BAY</td>\n",
       "      <td>3.0</td>\n",
       "      <td>(0.0, 0.0, 0.0, 1.0)</td>\n",
       "      <td>[-122.22000122070312, 37.86000061035156, 21.0,...</td>\n",
       "      <td>[-61.00227842748807, 17.725114545701565, 1.668...</td>\n",
       "      <td>[0.0, 0.0, 0.0, 1.0, -61.00227842748807, 17.72...</td>\n",
       "    </tr>\n",
       "    <tr>\n",
       "      <th>2</th>\n",
       "      <td>-122.239998</td>\n",
       "      <td>37.849998</td>\n",
       "      <td>52.0</td>\n",
       "      <td>1467.0</td>\n",
       "      <td>190.0</td>\n",
       "      <td>496.0</td>\n",
       "      <td>177.0</td>\n",
       "      <td>7.2574</td>\n",
       "      <td>352100.0</td>\n",
       "      <td>NEAR BAY</td>\n",
       "      <td>3.0</td>\n",
       "      <td>(0.0, 0.0, 0.0, 1.0)</td>\n",
       "      <td>[-122.23999786376953, 37.849998474121094, 52.0...</td>\n",
       "      <td>[-61.012259124393395, 17.720431793257596, 4.13...</td>\n",
       "      <td>[0.0, 0.0, 0.0, 1.0, -61.012259124393395, 17.7...</td>\n",
       "    </tr>\n",
       "    <tr>\n",
       "      <th>3</th>\n",
       "      <td>-122.250000</td>\n",
       "      <td>37.849998</td>\n",
       "      <td>52.0</td>\n",
       "      <td>1274.0</td>\n",
       "      <td>235.0</td>\n",
       "      <td>558.0</td>\n",
       "      <td>219.0</td>\n",
       "      <td>5.6431</td>\n",
       "      <td>341300.0</td>\n",
       "      <td>NEAR BAY</td>\n",
       "      <td>3.0</td>\n",
       "      <td>(0.0, 0.0, 0.0, 1.0)</td>\n",
       "      <td>[-122.25, 37.849998474121094, 52.0, 1274.0, 23...</td>\n",
       "      <td>[-61.01725137683249, 17.720431793257596, 4.131...</td>\n",
       "      <td>[0.0, 0.0, 0.0, 1.0, -61.01725137683249, 17.72...</td>\n",
       "    </tr>\n",
       "    <tr>\n",
       "      <th>4</th>\n",
       "      <td>-122.250000</td>\n",
       "      <td>37.849998</td>\n",
       "      <td>52.0</td>\n",
       "      <td>1627.0</td>\n",
       "      <td>280.0</td>\n",
       "      <td>565.0</td>\n",
       "      <td>259.0</td>\n",
       "      <td>3.8462</td>\n",
       "      <td>342200.0</td>\n",
       "      <td>NEAR BAY</td>\n",
       "      <td>3.0</td>\n",
       "      <td>(0.0, 0.0, 0.0, 1.0)</td>\n",
       "      <td>[-122.25, 37.849998474121094, 52.0, 1627.0, 28...</td>\n",
       "      <td>[-61.01725137683249, 17.720431793257596, 4.131...</td>\n",
       "      <td>[0.0, 0.0, 0.0, 1.0, -61.01725137683249, 17.72...</td>\n",
       "    </tr>\n",
       "    <tr>\n",
       "      <th>...</th>\n",
       "      <td>...</td>\n",
       "      <td>...</td>\n",
       "      <td>...</td>\n",
       "      <td>...</td>\n",
       "      <td>...</td>\n",
       "      <td>...</td>\n",
       "      <td>...</td>\n",
       "      <td>...</td>\n",
       "      <td>...</td>\n",
       "      <td>...</td>\n",
       "      <td>...</td>\n",
       "      <td>...</td>\n",
       "      <td>...</td>\n",
       "      <td>...</td>\n",
       "      <td>...</td>\n",
       "    </tr>\n",
       "    <tr>\n",
       "      <th>20635</th>\n",
       "      <td>-121.089996</td>\n",
       "      <td>39.480000</td>\n",
       "      <td>25.0</td>\n",
       "      <td>1665.0</td>\n",
       "      <td>374.0</td>\n",
       "      <td>845.0</td>\n",
       "      <td>330.0</td>\n",
       "      <td>1.5603</td>\n",
       "      <td>78100.0</td>\n",
       "      <td>INLAND</td>\n",
       "      <td>1.0</td>\n",
       "      <td>(0.0, 1.0, 0.0, 0.0)</td>\n",
       "      <td>[-121.08999633789062, 39.47999954223633, 25.0,...</td>\n",
       "      <td>[-60.43827194902902, 18.48355792046793, 1.9864...</td>\n",
       "      <td>[0.0, 1.0, 0.0, 0.0, -60.43827194902902, 18.48...</td>\n",
       "    </tr>\n",
       "    <tr>\n",
       "      <th>20636</th>\n",
       "      <td>-121.209999</td>\n",
       "      <td>39.490002</td>\n",
       "      <td>18.0</td>\n",
       "      <td>697.0</td>\n",
       "      <td>150.0</td>\n",
       "      <td>356.0</td>\n",
       "      <td>114.0</td>\n",
       "      <td>2.5568</td>\n",
       "      <td>77100.0</td>\n",
       "      <td>INLAND</td>\n",
       "      <td>1.0</td>\n",
       "      <td>(0.0, 1.0, 0.0, 0.0)</td>\n",
       "      <td>[-121.20999908447266, 39.4900016784668, 18.0, ...</td>\n",
       "      <td>[-60.498167554379584, 18.4882406729119, 1.4302...</td>\n",
       "      <td>[0.0, 1.0, 0.0, 0.0, -60.498167554379584, 18.4...</td>\n",
       "    </tr>\n",
       "    <tr>\n",
       "      <th>20637</th>\n",
       "      <td>-121.220001</td>\n",
       "      <td>39.430000</td>\n",
       "      <td>17.0</td>\n",
       "      <td>2254.0</td>\n",
       "      <td>485.0</td>\n",
       "      <td>1007.0</td>\n",
       "      <td>433.0</td>\n",
       "      <td>1.7000</td>\n",
       "      <td>92300.0</td>\n",
       "      <td>INLAND</td>\n",
       "      <td>1.0</td>\n",
       "      <td>(0.0, 1.0, 0.0, 0.0)</td>\n",
       "      <td>[-121.22000122070312, 39.43000030517578, 17.0,...</td>\n",
       "      <td>[-60.50315980681869, 18.460149516088414, 1.350...</td>\n",
       "      <td>[0.0, 1.0, 0.0, 0.0, -60.50315980681869, 18.46...</td>\n",
       "    </tr>\n",
       "    <tr>\n",
       "      <th>20638</th>\n",
       "      <td>-121.320000</td>\n",
       "      <td>39.430000</td>\n",
       "      <td>18.0</td>\n",
       "      <td>1860.0</td>\n",
       "      <td>409.0</td>\n",
       "      <td>741.0</td>\n",
       "      <td>349.0</td>\n",
       "      <td>1.8672</td>\n",
       "      <td>84700.0</td>\n",
       "      <td>INLAND</td>\n",
       "      <td>1.0</td>\n",
       "      <td>(0.0, 1.0, 0.0, 0.0)</td>\n",
       "      <td>[-121.31999969482422, 39.43000030517578, 18.0,...</td>\n",
       "      <td>[-60.55307090729105, 18.460149516088414, 1.430...</td>\n",
       "      <td>[0.0, 1.0, 0.0, 0.0, -60.55307090729105, 18.46...</td>\n",
       "    </tr>\n",
       "    <tr>\n",
       "      <th>20639</th>\n",
       "      <td>-121.239998</td>\n",
       "      <td>39.369999</td>\n",
       "      <td>16.0</td>\n",
       "      <td>2785.0</td>\n",
       "      <td>616.0</td>\n",
       "      <td>1387.0</td>\n",
       "      <td>530.0</td>\n",
       "      <td>2.3886</td>\n",
       "      <td>89400.0</td>\n",
       "      <td>INLAND</td>\n",
       "      <td>1.0</td>\n",
       "      <td>(0.0, 1.0, 0.0, 0.0)</td>\n",
       "      <td>[-121.23999786376953, 39.369998931884766, 16.0...</td>\n",
       "      <td>[-60.51314050372401, 18.43205835926493, 1.2712...</td>\n",
       "      <td>[0.0, 1.0, 0.0, 0.0, -60.51314050372401, 18.43...</td>\n",
       "    </tr>\n",
       "  </tbody>\n",
       "</table>\n",
       "<p>20640 rows × 15 columns</p>\n",
       "</div>"
      ],
      "text/plain": [
       "        longitude   latitude  housing_median_age  total_rooms  total_bedrooms  \\\n",
       "0     -122.230003  37.880001                41.0        880.0           129.0   \n",
       "1     -122.220001  37.860001                21.0       7099.0          1106.0   \n",
       "2     -122.239998  37.849998                52.0       1467.0           190.0   \n",
       "3     -122.250000  37.849998                52.0       1274.0           235.0   \n",
       "4     -122.250000  37.849998                52.0       1627.0           280.0   \n",
       "...           ...        ...                 ...          ...             ...   \n",
       "20635 -121.089996  39.480000                25.0       1665.0           374.0   \n",
       "20636 -121.209999  39.490002                18.0        697.0           150.0   \n",
       "20637 -121.220001  39.430000                17.0       2254.0           485.0   \n",
       "20638 -121.320000  39.430000                18.0       1860.0           409.0   \n",
       "20639 -121.239998  39.369999                16.0       2785.0           616.0   \n",
       "\n",
       "       population  households  median_income  median_house_value  \\\n",
       "0           322.0       126.0         8.3252            452600.0   \n",
       "1          2401.0      1138.0         8.3014            358500.0   \n",
       "2           496.0       177.0         7.2574            352100.0   \n",
       "3           558.0       219.0         5.6431            341300.0   \n",
       "4           565.0       259.0         3.8462            342200.0   \n",
       "...           ...         ...            ...                 ...   \n",
       "20635       845.0       330.0         1.5603             78100.0   \n",
       "20636       356.0       114.0         2.5568             77100.0   \n",
       "20637      1007.0       433.0         1.7000             92300.0   \n",
       "20638       741.0       349.0         1.8672             84700.0   \n",
       "20639      1387.0       530.0         2.3886             89400.0   \n",
       "\n",
       "      ocean_proximity  ocean_proximity_idx   ocean_proximity_ohe  \\\n",
       "0            NEAR BAY                  3.0  (0.0, 0.0, 0.0, 1.0)   \n",
       "1            NEAR BAY                  3.0  (0.0, 0.0, 0.0, 1.0)   \n",
       "2            NEAR BAY                  3.0  (0.0, 0.0, 0.0, 1.0)   \n",
       "3            NEAR BAY                  3.0  (0.0, 0.0, 0.0, 1.0)   \n",
       "4            NEAR BAY                  3.0  (0.0, 0.0, 0.0, 1.0)   \n",
       "...               ...                  ...                   ...   \n",
       "20635          INLAND                  1.0  (0.0, 1.0, 0.0, 0.0)   \n",
       "20636          INLAND                  1.0  (0.0, 1.0, 0.0, 0.0)   \n",
       "20637          INLAND                  1.0  (0.0, 1.0, 0.0, 0.0)   \n",
       "20638          INLAND                  1.0  (0.0, 1.0, 0.0, 0.0)   \n",
       "20639          INLAND                  1.0  (0.0, 1.0, 0.0, 0.0)   \n",
       "\n",
       "                                      numerical_features  \\\n",
       "0      [-122.2300033569336, 37.880001068115234, 41.0,...   \n",
       "1      [-122.22000122070312, 37.86000061035156, 21.0,...   \n",
       "2      [-122.23999786376953, 37.849998474121094, 52.0...   \n",
       "3      [-122.25, 37.849998474121094, 52.0, 1274.0, 23...   \n",
       "4      [-122.25, 37.849998474121094, 52.0, 1627.0, 28...   \n",
       "...                                                  ...   \n",
       "20635  [-121.08999633789062, 39.47999954223633, 25.0,...   \n",
       "20636  [-121.20999908447266, 39.4900016784668, 18.0, ...   \n",
       "20637  [-121.22000122070312, 39.43000030517578, 17.0,...   \n",
       "20638  [-121.31999969482422, 39.43000030517578, 18.0,...   \n",
       "20639  [-121.23999786376953, 39.369998931884766, 16.0...   \n",
       "\n",
       "                               numerical_features_scaled  \\\n",
       "0      [-61.00727067992717, 17.73447826464273, 3.2577...   \n",
       "1      [-61.00227842748807, 17.725114545701565, 1.668...   \n",
       "2      [-61.012259124393395, 17.720431793257596, 4.13...   \n",
       "3      [-61.01725137683249, 17.720431793257596, 4.131...   \n",
       "4      [-61.01725137683249, 17.720431793257596, 4.131...   \n",
       "...                                                  ...   \n",
       "20635  [-60.43827194902902, 18.48355792046793, 1.9864...   \n",
       "20636  [-60.498167554379584, 18.4882406729119, 1.4302...   \n",
       "20637  [-60.50315980681869, 18.460149516088414, 1.350...   \n",
       "20638  [-60.55307090729105, 18.460149516088414, 1.430...   \n",
       "20639  [-60.51314050372401, 18.43205835926493, 1.2712...   \n",
       "\n",
       "                                                features  \n",
       "0      [0.0, 0.0, 0.0, 1.0, -61.00727067992717, 17.73...  \n",
       "1      [0.0, 0.0, 0.0, 1.0, -61.00227842748807, 17.72...  \n",
       "2      [0.0, 0.0, 0.0, 1.0, -61.012259124393395, 17.7...  \n",
       "3      [0.0, 0.0, 0.0, 1.0, -61.01725137683249, 17.72...  \n",
       "4      [0.0, 0.0, 0.0, 1.0, -61.01725137683249, 17.72...  \n",
       "...                                                  ...  \n",
       "20635  [0.0, 1.0, 0.0, 0.0, -60.43827194902902, 18.48...  \n",
       "20636  [0.0, 1.0, 0.0, 0.0, -60.498167554379584, 18.4...  \n",
       "20637  [0.0, 1.0, 0.0, 0.0, -60.50315980681869, 18.46...  \n",
       "20638  [0.0, 1.0, 0.0, 0.0, -60.55307090729105, 18.46...  \n",
       "20639  [0.0, 1.0, 0.0, 0.0, -60.51314050372401, 18.43...  \n",
       "\n",
       "[20640 rows x 15 columns]"
      ]
     },
     "execution_count": 19,
     "metadata": {},
     "output_type": "execute_result"
    }
   ],
   "source": [
    "df.toPandas()"
   ]
  },
  {
   "cell_type": "markdown",
   "id": "9f0a82f3",
   "metadata": {
    "id": "9f0a82f3"
   },
   "source": [
    "# Обучение моделей"
   ]
  },
  {
   "cell_type": "code",
   "execution_count": 20,
   "id": "bddb08c4",
   "metadata": {
    "id": "bddb08c4"
   },
   "outputs": [
    {
     "name": "stderr",
     "output_type": "stream",
     "text": [
      "                                                                                \r"
     ]
    },
    {
     "name": "stdout",
     "output_type": "stream",
     "text": [
      "16418 4222\n"
     ]
    },
    {
     "name": "stderr",
     "output_type": "stream",
     "text": [
      "                                                                                \r"
     ]
    }
   ],
   "source": [
    "train_data, test_data = df.randomSplit([.8,.2], seed=RANDOM_SEED)\n",
    "print(train_data.count(), test_data.count()) "
   ]
  },
  {
   "cell_type": "code",
   "execution_count": 21,
   "id": "84237e54",
   "metadata": {},
   "outputs": [
    {
     "name": "stderr",
     "output_type": "stream",
     "text": [
      "22/11/21 10:02:31 WARN Instrumentation: [4dd82a13] regParam is zero, which might cause numerical instability and overfitting.\n",
      "22/11/21 10:02:32 WARN BLAS: Failed to load implementation from: com.github.fommil.netlib.NativeSystemBLAS\n",
      "22/11/21 10:02:32 WARN BLAS: Failed to load implementation from: com.github.fommil.netlib.NativeRefBLAS\n",
      "22/11/21 10:02:32 WARN LAPACK: Failed to load implementation from: com.github.fommil.netlib.NativeSystemLAPACK\n",
      "22/11/21 10:02:32 WARN LAPACK: Failed to load implementation from: com.github.fommil.netlib.NativeRefLAPACK\n",
      "22/11/21 10:02:32 WARN Instrumentation: [4dd82a13] Cholesky solver failed due to singular covariance matrix. Retrying with Quasi-Newton solver.\n",
      "22/11/21 10:02:33 ERROR LBFGS: Failure! Resetting history: breeze.optimize.FirstOrderException: Line search zoom failed\n",
      "                                                                                \r"
     ]
    }
   ],
   "source": [
    "lr = LinearRegression(labelCol='median_house_value', featuresCol='features')\n",
    "\n",
    "model = lr.fit(train_data) "
   ]
  },
  {
   "cell_type": "code",
   "execution_count": 22,
   "id": "8fe0d166",
   "metadata": {},
   "outputs": [
    {
     "name": "stderr",
     "output_type": "stream",
     "text": [
      "22/11/21 10:02:36 WARN Instrumentation: [9c81712d] regParam is zero, which might cause numerical instability and overfitting.\n"
     ]
    }
   ],
   "source": [
    "lr_numer = LinearRegression(labelCol='median_house_value', featuresCol='numerical_features_scaled')\n",
    "\n",
    "model_numer = lr_numer.fit(train_data) "
   ]
  },
  {
   "cell_type": "markdown",
   "id": "757fd103",
   "metadata": {
    "id": "757fd103"
   },
   "source": [
    "# Анализ результатов"
   ]
  },
  {
   "cell_type": "markdown",
   "id": "2d5d768c",
   "metadata": {},
   "source": [
    "Получим предсказания модели, а также создадим константное предсказание"
   ]
  },
  {
   "cell_type": "code",
   "execution_count": 23,
   "id": "4d0cac39",
   "metadata": {},
   "outputs": [
    {
     "name": "stderr",
     "output_type": "stream",
     "text": [
      "                                                                                \r"
     ]
    }
   ],
   "source": [
    "predictions = model.transform(test_data)\n",
    "predictions_numer = model_numer.transform(test_data)\n",
    "\n",
    "\n",
    "predictions_constant = predictions.alias('predictions_constant')\n",
    "constant = predictions_constant.select(mean('median_house_value')).collect()[0][0]\n",
    "predictions_constant = predictions_constant.withColumn(\"prediction\", lit(constant))"
   ]
  },
  {
   "cell_type": "code",
   "execution_count": 25,
   "id": "07d9333d",
   "metadata": {},
   "outputs": [
    {
     "name": "stdout",
     "output_type": "stream",
     "text": [
      "Метрика mse для predictions 68501.14555631217\n",
      "Метрика rmse для predictions 4692406942.527067\n",
      "Метрика r2 для predictions 0.6534123623947419\n",
      "\n",
      "Метрика mse для predictions_numer 69227.01279503122\n",
      "Метрика rmse для predictions_numer 4792379300.523416\n",
      "Метрика r2 для predictions_numer 0.6460282663842793\n",
      "\n",
      "Метрика mse для predictions_constant 116356.67447012724\n",
      "Метрика rmse для predictions_constant 13538875693.747162\n",
      "Метрика r2 для predictions_constant -2.220446049250313e-15\n",
      "\n"
     ]
    }
   ],
   "source": [
    "for df, name in zip([predictions, predictions_numer, predictions_constant], ['predictions', 'predictions_numer', 'predictions_constant']):\n",
    "    print(f'Метрика mse для {name}', RegressionEvaluator(\n",
    "                                    labelCol=\"median_house_value\", predictionCol=\"prediction\", metricName=\"rmse\").evaluate(df))\n",
    "    print(f'Метрика rmse для {name}', RegressionEvaluator(\n",
    "                                    labelCol=\"median_house_value\", predictionCol=\"prediction\", metricName=\"mse\").evaluate(df))\n",
    "    print(f'Метрика r2 для {name}', RegressionEvaluator(\n",
    "                                    labelCol=\"median_house_value\", predictionCol=\"prediction\", metricName=\"r2\").evaluate(df))\n",
    "    print('')"
   ]
  },
  {
   "cell_type": "markdown",
   "id": "646918cb",
   "metadata": {},
   "source": [
    "<div class=\"alert alert-success\">\n",
    "<b>Комментарий ревьюера ✔️:</b>  Да, огонь, протестировал корректно:)\n",
    "\n",
    "\n",
    "</div>"
   ]
  },
  {
   "cell_type": "markdown",
   "id": "3be7d6fc",
   "metadata": {},
   "source": [
    "# Вывод"
   ]
  },
  {
   "cell_type": "markdown",
   "id": "50eccaad",
   "metadata": {},
   "source": [
    "Метрика r2 моделей линейной регрессии отличаются незначительно 0.65 для модели обученной на всех данных и 0.64 для модели обученной только на числовых данных, метрики mse и rmse отличаются также незначительно. \n",
    "\n",
    "Также стоит заметить, что прогнозы моделей значительно лучше константных. "
   ]
  },
  {
   "cell_type": "markdown",
   "id": "a10c4cf6",
   "metadata": {},
   "source": [
    "<div class=\"alert alert-success\">\n",
    "<b>Комментарий ревьюера ✔️:</b>  Немного полезного материала:\n",
    "\n",
    "Немного полезной информации:\n",
    "+  https://www.tutorialspoint.com/pyspark/index.htm\n",
    "+  https://www.guru99.com/pyspark-tutorial.html\n",
    "+  https://databricks.com/spark/getting-started-with-apache-spark/machine-learning#load-sample-data\n",
    "\n",
    "\n",
    "</div>"
   ]
  },
  {
   "cell_type": "markdown",
   "id": "abc2be4c",
   "metadata": {},
   "source": [
    "<font color='blue'><b>Итоговый комментарий ревьюера</b></font>\n",
    "<div class=\"alert alert-success\">\n",
    "<b>Комментарий ревьюера ✔️:</b>Глеб, спасибо за хороший проект!!! Я готов принять работу, но хочу убедиться, что тебе все понятно.<br>\n",
    "Если есть какие либо вопросы я с удовольствием на них отвечу:)</div>\n"
   ]
  },
  {
   "cell_type": "markdown",
   "id": "3adf373e",
   "metadata": {},
   "source": [
    "<div class=\"alert alert-info\">\n",
    "\n",
    "Привет! Спасибо, что проверил работу, у меня вопрос не по проекту, если не ответишь на него - ничего страшного. Ты не знаешь какие-нибудь руководства по catboost (кроме документации)? Там просто много вариантов и нюансов по части настройки, как подбирать гиперпараметры и т.п."
   ]
  },
  {
   "cell_type": "markdown",
   "id": "af8e7db6",
   "metadata": {},
   "source": [
    "<div class=\"alert alert-success\">\n",
    "<b>Комментарий ревьюера V2✔️:</b>\n",
    "\n",
    "\n",
    "+  https://habr.com/ru/company/otus/blog/527554/\n",
    "+  https://www.youtube.com/watch?v=UYDwhuyWYSo&ab_channel=ComputerScienceCenter\n",
    "+  https://www.youtube.com/watch?v=ZaP5qFSIcIw&t=4398s&ab_channel=Разработка\n",
    "+  https://dzen.ru/video/watch/62441bf19fcc6f30379205e4\n",
    "+  https://medium.com/whats-your-data/working-with-categorical-data-catboost-8b5e11267a37\n",
    "    \n",
    "Такс, вроде собрал;) Но прям вот прям руководства кроме документации нет. Читаешь, смотришь, решаешь;)\n",
    "    \n",
    "    \n",
    "Удачи в следующем проекте!!!\n",
    "</div>"
   ]
  }
 ],
 "metadata": {
  "ExecuteTimeLog": [
   {
    "duration": 16489,
    "start_time": "2022-11-14T04:49:12.182Z"
   },
   {
    "duration": 18,
    "start_time": "2022-11-14T04:49:44.975Z"
   },
   {
    "duration": 410,
    "start_time": "2022-11-14T04:50:21.173Z"
   },
   {
    "duration": 10339,
    "start_time": "2022-11-14T04:50:37.640Z"
   },
   {
    "duration": 1855,
    "start_time": "2022-11-14T04:50:58.107Z"
   },
   {
    "duration": 10,
    "start_time": "2022-11-14T04:51:36.524Z"
   },
   {
    "duration": 9,
    "start_time": "2022-11-14T04:51:43.063Z"
   },
   {
    "duration": 11,
    "start_time": "2022-11-14T04:51:48.834Z"
   },
   {
    "duration": 11,
    "start_time": "2022-11-14T04:51:51.129Z"
   },
   {
    "duration": 9,
    "start_time": "2022-11-14T04:53:07.425Z"
   },
   {
    "duration": 7,
    "start_time": "2022-11-14T04:53:12.536Z"
   },
   {
    "duration": 461,
    "start_time": "2022-11-14T04:53:31.395Z"
   },
   {
    "duration": 377,
    "start_time": "2022-11-14T04:53:36.789Z"
   },
   {
    "duration": 4,
    "start_time": "2022-11-14T09:18:51.666Z"
   },
   {
    "duration": 15311,
    "start_time": "2022-11-16T06:06:35.797Z"
   },
   {
    "duration": 8966,
    "start_time": "2022-11-16T06:06:51.111Z"
   },
   {
    "duration": 99,
    "start_time": "2022-11-16T06:07:00.079Z"
   },
   {
    "duration": 620,
    "start_time": "2022-11-16T06:07:00.180Z"
   },
   {
    "duration": 9,
    "start_time": "2022-11-16T06:07:00.802Z"
   },
   {
    "duration": 3,
    "start_time": "2022-11-16T06:07:54.932Z"
   },
   {
    "duration": 2,
    "start_time": "2022-11-16T06:10:09.438Z"
   },
   {
    "duration": 2,
    "start_time": "2022-11-16T06:10:12.504Z"
   },
   {
    "duration": 69,
    "start_time": "2022-11-16T06:10:22.192Z"
   },
   {
    "duration": 3,
    "start_time": "2022-11-16T06:10:35.501Z"
   },
   {
    "duration": 4,
    "start_time": "2022-11-16T06:10:35.863Z"
   },
   {
    "duration": 2,
    "start_time": "2022-11-16T06:10:44.352Z"
   },
   {
    "duration": 3,
    "start_time": "2022-11-16T06:10:49.398Z"
   },
   {
    "duration": 427,
    "start_time": "2022-11-16T06:12:50.673Z"
   },
   {
    "duration": 9,
    "start_time": "2022-11-16T06:13:10.652Z"
   },
   {
    "duration": 6,
    "start_time": "2022-11-16T06:13:23.376Z"
   },
   {
    "duration": 12,
    "start_time": "2022-11-16T06:15:22.496Z"
   },
   {
    "duration": 6,
    "start_time": "2022-11-16T06:15:47.160Z"
   },
   {
    "duration": 1857,
    "start_time": "2022-11-16T06:15:51.043Z"
   },
   {
    "duration": 11,
    "start_time": "2022-11-16T06:17:40.094Z"
   },
   {
    "duration": 760,
    "start_time": "2022-11-16T06:19:31.946Z"
   },
   {
    "duration": 320,
    "start_time": "2022-11-16T06:20:02.898Z"
   },
   {
    "duration": 412,
    "start_time": "2022-11-16T06:21:09.067Z"
   },
   {
    "duration": 334,
    "start_time": "2022-11-16T06:21:32.869Z"
   },
   {
    "duration": 286,
    "start_time": "2022-11-16T06:21:42.019Z"
   },
   {
    "duration": 1029,
    "start_time": "2022-11-16T06:21:57.954Z"
   },
   {
    "duration": 117,
    "start_time": "2022-11-16T06:44:35.410Z"
   },
   {
    "duration": 8,
    "start_time": "2022-11-16T06:45:09.363Z"
   },
   {
    "duration": 3,
    "start_time": "2022-11-16T06:45:13.032Z"
   },
   {
    "duration": 86,
    "start_time": "2022-11-16T06:45:58.485Z"
   },
   {
    "duration": 9,
    "start_time": "2022-11-16T06:46:03.978Z"
   },
   {
    "duration": 75,
    "start_time": "2022-11-16T06:46:04.475Z"
   },
   {
    "duration": 26,
    "start_time": "2022-11-16T06:47:46.705Z"
   },
   {
    "duration": 16,
    "start_time": "2022-11-16T06:47:58.726Z"
   },
   {
    "duration": 1417,
    "start_time": "2022-11-16T06:48:28.367Z"
   },
   {
    "duration": 383,
    "start_time": "2022-11-16T06:48:39.698Z"
   },
   {
    "duration": 11,
    "start_time": "2022-11-16T06:49:13.548Z"
   },
   {
    "duration": 897,
    "start_time": "2022-11-16T06:49:19.580Z"
   },
   {
    "duration": 8,
    "start_time": "2022-11-16T06:49:45.321Z"
   },
   {
    "duration": 71,
    "start_time": "2022-11-16T06:49:45.640Z"
   },
   {
    "duration": 7,
    "start_time": "2022-11-16T06:49:56.024Z"
   },
   {
    "duration": 196,
    "start_time": "2022-11-16T06:49:56.492Z"
   },
   {
    "duration": 1490,
    "start_time": "2022-11-16T06:50:47.935Z"
   },
   {
    "duration": 49,
    "start_time": "2022-11-16T06:54:40.627Z"
   },
   {
    "duration": 1107,
    "start_time": "2022-11-16T06:54:53.803Z"
   },
   {
    "duration": 4,
    "start_time": "2022-11-16T06:55:05.468Z"
   },
   {
    "duration": 409,
    "start_time": "2022-11-16T06:56:49.476Z"
   },
   {
    "duration": 3573,
    "start_time": "2022-11-16T06:57:36.490Z"
   },
   {
    "duration": 2065,
    "start_time": "2022-11-16T06:58:33.025Z"
   },
   {
    "duration": 7,
    "start_time": "2022-11-16T06:58:50.227Z"
   },
   {
    "duration": 5837707,
    "start_time": "2022-11-16T07:00:13.392Z"
   },
   {
    "duration": 0,
    "start_time": "2022-11-16T08:37:31.101Z"
   },
   {
    "duration": 0,
    "start_time": "2022-11-16T08:37:31.102Z"
   },
   {
    "duration": 0,
    "start_time": "2022-11-16T08:37:31.105Z"
   },
   {
    "duration": 16,
    "start_time": "2022-11-16T08:57:38.603Z"
   },
   {
    "duration": 14802,
    "start_time": "2022-11-16T08:57:53.628Z"
   },
   {
    "duration": 7507,
    "start_time": "2022-11-16T08:58:08.476Z"
   },
   {
    "duration": 96,
    "start_time": "2022-11-16T08:58:15.986Z"
   },
   {
    "duration": 623,
    "start_time": "2022-11-16T08:58:16.084Z"
   },
   {
    "duration": 2,
    "start_time": "2022-11-16T08:58:16.709Z"
   },
   {
    "duration": 568,
    "start_time": "2022-11-16T08:58:16.713Z"
   },
   {
    "duration": 7,
    "start_time": "2022-11-16T08:58:17.282Z"
   },
   {
    "duration": 2009,
    "start_time": "2022-11-16T08:58:17.290Z"
   },
   {
    "duration": 810,
    "start_time": "2022-11-16T08:58:19.301Z"
   },
   {
    "duration": 1175,
    "start_time": "2022-11-16T08:58:20.113Z"
   },
   {
    "duration": 1787,
    "start_time": "2022-11-16T08:58:21.290Z"
   },
   {
    "duration": 12,
    "start_time": "2022-11-16T08:58:23.080Z"
   },
   {
    "duration": 223,
    "start_time": "2022-11-16T08:58:23.094Z"
   },
   {
    "duration": 166,
    "start_time": "2022-11-16T08:58:23.319Z"
   },
   {
    "duration": 1413,
    "start_time": "2022-11-16T08:58:23.486Z"
   },
   {
    "duration": 8,
    "start_time": "2022-11-16T08:58:24.900Z"
   },
   {
    "duration": 678,
    "start_time": "2022-11-16T08:58:24.910Z"
   },
   {
    "duration": 3948,
    "start_time": "2022-11-16T08:58:25.590Z"
   },
   {
    "duration": 2346,
    "start_time": "2022-11-16T08:58:29.539Z"
   },
   {
    "duration": 5812626,
    "start_time": "2022-11-16T08:58:31.887Z"
   },
   {
    "duration": 0,
    "start_time": "2022-11-16T10:35:24.515Z"
   },
   {
    "duration": 0,
    "start_time": "2022-11-16T10:35:24.516Z"
   },
   {
    "duration": 17193,
    "start_time": "2022-11-18T15:56:28.962Z"
   },
   {
    "duration": 8970,
    "start_time": "2022-11-18T15:56:46.158Z"
   },
   {
    "duration": 119,
    "start_time": "2022-11-18T15:56:55.132Z"
   },
   {
    "duration": 783,
    "start_time": "2022-11-18T15:56:55.253Z"
   },
   {
    "duration": 3,
    "start_time": "2022-11-18T15:56:56.039Z"
   },
   {
    "duration": 810,
    "start_time": "2022-11-18T15:56:56.043Z"
   },
   {
    "duration": 71,
    "start_time": "2022-11-18T15:56:56.855Z"
   },
   {
    "duration": 2302,
    "start_time": "2022-11-18T15:56:56.928Z"
   },
   {
    "duration": 1109,
    "start_time": "2022-11-18T15:56:59.232Z"
   },
   {
    "duration": 1409,
    "start_time": "2022-11-18T15:57:00.343Z"
   },
   {
    "duration": 2002,
    "start_time": "2022-11-18T15:57:01.754Z"
   },
   {
    "duration": 23,
    "start_time": "2022-11-18T15:57:03.820Z"
   },
   {
    "duration": 277,
    "start_time": "2022-11-18T15:57:03.845Z"
   },
   {
    "duration": 116,
    "start_time": "2022-11-18T15:57:04.126Z"
   },
   {
    "duration": 1588,
    "start_time": "2022-11-18T15:57:04.247Z"
   },
   {
    "duration": 8,
    "start_time": "2022-11-18T15:57:05.837Z"
   },
   {
    "duration": 581,
    "start_time": "2022-11-18T15:57:05.847Z"
   },
   {
    "duration": 4536,
    "start_time": "2022-11-18T15:57:06.430Z"
   },
   {
    "duration": 2588,
    "start_time": "2022-11-18T15:57:10.968Z"
   },
   {
    "duration": 51467,
    "start_time": "2022-11-18T15:57:13.559Z"
   },
   {
    "duration": 0,
    "start_time": "2022-11-18T15:58:05.029Z"
   },
   {
    "duration": 0,
    "start_time": "2022-11-18T15:58:05.030Z"
   },
   {
    "duration": 21,
    "start_time": "2022-11-18T15:59:32.869Z"
   },
   {
    "duration": 1322217,
    "start_time": "2022-11-18T15:59:46.419Z"
   },
   {
    "duration": 17402,
    "start_time": "2022-11-19T07:06:36.786Z"
   },
   {
    "duration": 10077,
    "start_time": "2022-11-19T07:06:54.191Z"
   },
   {
    "duration": 101,
    "start_time": "2022-11-19T07:07:04.270Z"
   },
   {
    "duration": 718,
    "start_time": "2022-11-19T07:07:04.374Z"
   },
   {
    "duration": 8,
    "start_time": "2022-11-19T07:07:05.152Z"
   },
   {
    "duration": 813,
    "start_time": "2022-11-19T07:07:05.161Z"
   },
   {
    "duration": 7,
    "start_time": "2022-11-19T07:07:05.976Z"
   },
   {
    "duration": 2873,
    "start_time": "2022-11-19T07:07:05.985Z"
   },
   {
    "duration": 1322,
    "start_time": "2022-11-19T07:07:08.860Z"
   },
   {
    "duration": 1590,
    "start_time": "2022-11-19T07:07:10.185Z"
   },
   {
    "duration": 1784,
    "start_time": "2022-11-19T07:07:11.777Z"
   },
   {
    "duration": 13,
    "start_time": "2022-11-19T07:07:13.563Z"
   },
   {
    "duration": 291,
    "start_time": "2022-11-19T07:07:13.578Z"
   },
   {
    "duration": 105,
    "start_time": "2022-11-19T07:07:13.871Z"
   },
   {
    "duration": 1787,
    "start_time": "2022-11-19T07:07:13.978Z"
   },
   {
    "duration": 11,
    "start_time": "2022-11-19T07:07:15.770Z"
   },
   {
    "duration": 689,
    "start_time": "2022-11-19T07:07:15.783Z"
   },
   {
    "duration": 6114,
    "start_time": "2022-11-19T07:07:16.473Z"
   },
   {
    "duration": 2973,
    "start_time": "2022-11-19T07:07:22.589Z"
   },
   {
    "duration": 4927,
    "start_time": "2022-11-19T07:07:25.563Z"
   },
   {
    "duration": 3152,
    "start_time": "2022-11-19T07:07:30.550Z"
   },
   {
    "duration": 1842,
    "start_time": "2022-11-19T07:07:33.753Z"
   },
   {
    "duration": 16191,
    "start_time": "2022-11-19T07:08:12.614Z"
   },
   {
    "duration": 10037,
    "start_time": "2022-11-19T07:08:28.857Z"
   },
   {
    "duration": 96,
    "start_time": "2022-11-19T07:08:38.896Z"
   },
   {
    "duration": 1000,
    "start_time": "2022-11-19T07:08:38.994Z"
   },
   {
    "duration": 58,
    "start_time": "2022-11-19T07:08:40.001Z"
   },
   {
    "duration": 811,
    "start_time": "2022-11-19T07:08:40.061Z"
   },
   {
    "duration": 9,
    "start_time": "2022-11-19T07:08:40.874Z"
   },
   {
    "duration": 2783,
    "start_time": "2022-11-19T07:08:40.885Z"
   },
   {
    "duration": 1606,
    "start_time": "2022-11-19T07:08:43.669Z"
   },
   {
    "duration": 1890,
    "start_time": "2022-11-19T07:08:45.281Z"
   },
   {
    "duration": 2390,
    "start_time": "2022-11-19T07:08:47.172Z"
   },
   {
    "duration": 18,
    "start_time": "2022-11-19T07:08:49.564Z"
   },
   {
    "duration": 384,
    "start_time": "2022-11-19T07:08:49.584Z"
   },
   {
    "duration": 121,
    "start_time": "2022-11-19T07:08:49.969Z"
   },
   {
    "duration": 1886,
    "start_time": "2022-11-19T07:08:50.093Z"
   },
   {
    "duration": 85,
    "start_time": "2022-11-19T07:08:51.980Z"
   },
   {
    "duration": 704,
    "start_time": "2022-11-19T07:08:52.071Z"
   },
   {
    "duration": 6337,
    "start_time": "2022-11-19T07:08:52.776Z"
   },
   {
    "duration": 4666,
    "start_time": "2022-11-19T07:08:59.115Z"
   },
   {
    "duration": 5699,
    "start_time": "2022-11-19T07:09:03.783Z"
   },
   {
    "duration": 3402,
    "start_time": "2022-11-19T07:09:09.485Z"
   },
   {
    "duration": 2695,
    "start_time": "2022-11-19T07:09:12.889Z"
   },
   {
    "duration": 108,
    "start_time": "2022-11-19T07:15:53.578Z"
   },
   {
    "duration": 247,
    "start_time": "2022-11-19T07:16:42.380Z"
   },
   {
    "duration": 138,
    "start_time": "2022-11-19T07:16:53.687Z"
   },
   {
    "duration": 3447,
    "start_time": "2022-11-19T07:17:02.439Z"
   },
   {
    "duration": 204,
    "start_time": "2022-11-19T07:22:17.767Z"
   },
   {
    "duration": 13,
    "start_time": "2022-11-19T07:32:48.227Z"
   },
   {
    "duration": 9,
    "start_time": "2022-11-19T07:33:26.978Z"
   },
   {
    "duration": 1687,
    "start_time": "2022-11-19T07:33:31.125Z"
   },
   {
    "duration": 1664,
    "start_time": "2022-11-19T07:34:49.340Z"
   },
   {
    "duration": 1667,
    "start_time": "2022-11-19T07:35:05.419Z"
   },
   {
    "duration": 18584,
    "start_time": "2022-11-21T09:12:06.689Z"
   },
   {
    "duration": 10096,
    "start_time": "2022-11-21T09:12:25.276Z"
   },
   {
    "duration": 104,
    "start_time": "2022-11-21T09:12:35.375Z"
   },
   {
    "duration": 875,
    "start_time": "2022-11-21T09:12:35.481Z"
   },
   {
    "duration": 7,
    "start_time": "2022-11-21T09:12:36.359Z"
   },
   {
    "duration": 807,
    "start_time": "2022-11-21T09:12:36.368Z"
   },
   {
    "duration": 10,
    "start_time": "2022-11-21T09:12:37.178Z"
   },
   {
    "duration": 2774,
    "start_time": "2022-11-21T09:12:37.190Z"
   },
   {
    "duration": 1301,
    "start_time": "2022-11-21T09:12:39.966Z"
   },
   {
    "duration": 1794,
    "start_time": "2022-11-21T09:12:41.269Z"
   },
   {
    "duration": 2287,
    "start_time": "2022-11-21T09:12:43.067Z"
   },
   {
    "duration": 35,
    "start_time": "2022-11-21T09:12:45.357Z"
   },
   {
    "duration": 305,
    "start_time": "2022-11-21T09:12:45.452Z"
   },
   {
    "duration": 98,
    "start_time": "2022-11-21T09:12:45.761Z"
   },
   {
    "duration": 1617,
    "start_time": "2022-11-21T09:12:45.862Z"
   },
   {
    "duration": 9,
    "start_time": "2022-11-21T09:12:47.481Z"
   },
   {
    "duration": 669,
    "start_time": "2022-11-21T09:12:47.492Z"
   },
   {
    "duration": 5414,
    "start_time": "2022-11-21T09:12:48.163Z"
   },
   {
    "duration": 3092,
    "start_time": "2022-11-21T09:12:53.579Z"
   },
   {
    "duration": 5395,
    "start_time": "2022-11-21T09:12:56.674Z"
   },
   {
    "duration": 2990,
    "start_time": "2022-11-21T09:13:02.071Z"
   },
   {
    "duration": 1801,
    "start_time": "2022-11-21T09:13:05.063Z"
   },
   {
    "duration": 310,
    "start_time": "2022-11-21T09:13:06.866Z"
   },
   {
    "duration": 2334,
    "start_time": "2022-11-21T09:13:57.134Z"
   },
   {
    "duration": 2286,
    "start_time": "2022-11-21T09:14:30.079Z"
   },
   {
    "duration": 2,
    "start_time": "2022-11-21T09:17:33.098Z"
   },
   {
    "duration": 4,
    "start_time": "2022-11-21T09:17:44.007Z"
   },
   {
    "duration": 15921,
    "start_time": "2022-11-21T09:18:17.260Z"
   },
   {
    "duration": 8391,
    "start_time": "2022-11-21T09:18:33.184Z"
   },
   {
    "duration": 110,
    "start_time": "2022-11-21T09:18:41.577Z"
   },
   {
    "duration": 683,
    "start_time": "2022-11-21T09:18:41.689Z"
   },
   {
    "duration": 78,
    "start_time": "2022-11-21T09:18:42.375Z"
   },
   {
    "duration": 721,
    "start_time": "2022-11-21T09:18:42.456Z"
   },
   {
    "duration": 6,
    "start_time": "2022-11-21T09:18:43.179Z"
   },
   {
    "duration": 2215,
    "start_time": "2022-11-21T09:18:43.252Z"
   },
   {
    "duration": 894,
    "start_time": "2022-11-21T09:18:45.468Z"
   },
   {
    "duration": 1195,
    "start_time": "2022-11-21T09:18:46.364Z"
   },
   {
    "duration": 1625,
    "start_time": "2022-11-21T09:18:47.561Z"
   },
   {
    "duration": 74,
    "start_time": "2022-11-21T09:18:49.189Z"
   },
   {
    "duration": 289,
    "start_time": "2022-11-21T09:18:49.264Z"
   },
   {
    "duration": 2,
    "start_time": "2022-11-21T09:18:49.556Z"
   },
   {
    "duration": 106,
    "start_time": "2022-11-21T09:18:49.560Z"
   },
   {
    "duration": 1487,
    "start_time": "2022-11-21T09:18:49.668Z"
   },
   {
    "duration": 8,
    "start_time": "2022-11-21T09:18:51.156Z"
   },
   {
    "duration": 558,
    "start_time": "2022-11-21T09:18:51.166Z"
   },
   {
    "duration": 4458,
    "start_time": "2022-11-21T09:18:51.726Z"
   },
   {
    "duration": 2301,
    "start_time": "2022-11-21T09:18:56.185Z"
   },
   {
    "duration": 4196,
    "start_time": "2022-11-21T09:18:58.488Z"
   },
   {
    "duration": 2977,
    "start_time": "2022-11-21T09:19:02.686Z"
   },
   {
    "duration": 2099,
    "start_time": "2022-11-21T09:19:05.665Z"
   },
   {
    "duration": 1799,
    "start_time": "2022-11-21T09:19:07.766Z"
   },
   {
    "duration": 1130,
    "start_time": "2022-11-21T09:19:50.062Z"
   },
   {
    "duration": 1227,
    "start_time": "2022-11-21T09:20:03.752Z"
   },
   {
    "duration": 3067,
    "start_time": "2022-11-21T09:21:04.543Z"
   },
   {
    "duration": 86,
    "start_time": "2022-11-21T09:35:28.630Z"
   },
   {
    "duration": 9,
    "start_time": "2022-11-21T09:36:36.320Z"
   },
   {
    "duration": 8,
    "start_time": "2022-11-21T09:41:01.083Z"
   },
   {
    "duration": 7,
    "start_time": "2022-11-21T09:41:41.638Z"
   },
   {
    "duration": 3,
    "start_time": "2022-11-21T09:42:19.829Z"
   },
   {
    "duration": 815,
    "start_time": "2022-11-21T09:42:23.378Z"
   },
   {
    "duration": 14,
    "start_time": "2022-11-21T09:42:28.056Z"
   },
   {
    "duration": 506,
    "start_time": "2022-11-21T09:42:39.004Z"
   },
   {
    "duration": 456,
    "start_time": "2022-11-21T09:42:44.797Z"
   },
   {
    "duration": 437,
    "start_time": "2022-11-21T09:42:51.418Z"
   },
   {
    "duration": 503,
    "start_time": "2022-11-21T09:43:09.368Z"
   },
   {
    "duration": 544,
    "start_time": "2022-11-21T09:43:27.120Z"
   },
   {
    "duration": 5,
    "start_time": "2022-11-21T09:43:48.581Z"
   },
   {
    "duration": 6,
    "start_time": "2022-11-21T09:43:56.086Z"
   },
   {
    "duration": 386,
    "start_time": "2022-11-21T09:45:23.173Z"
   },
   {
    "duration": 355,
    "start_time": "2022-11-21T09:46:07.553Z"
   },
   {
    "duration": 4,
    "start_time": "2022-11-21T09:46:11.979Z"
   },
   {
    "duration": 9,
    "start_time": "2022-11-21T09:46:16.819Z"
   },
   {
    "duration": 8,
    "start_time": "2022-11-21T09:47:07.327Z"
   },
   {
    "duration": 5,
    "start_time": "2022-11-21T09:47:29.952Z"
   },
   {
    "duration": 4,
    "start_time": "2022-11-21T09:47:38.144Z"
   },
   {
    "duration": 9,
    "start_time": "2022-11-21T09:49:02.489Z"
   },
   {
    "duration": 7,
    "start_time": "2022-11-21T09:49:15.047Z"
   },
   {
    "duration": 11,
    "start_time": "2022-11-21T09:49:35.111Z"
   },
   {
    "duration": 7,
    "start_time": "2022-11-21T09:49:35.477Z"
   },
   {
    "duration": 8,
    "start_time": "2022-11-21T09:49:37.445Z"
   },
   {
    "duration": 5,
    "start_time": "2022-11-21T09:49:51.807Z"
   },
   {
    "duration": 392,
    "start_time": "2022-11-21T09:49:52.201Z"
   },
   {
    "duration": 3,
    "start_time": "2022-11-21T09:50:26.293Z"
   },
   {
    "duration": 5,
    "start_time": "2022-11-21T09:50:26.922Z"
   },
   {
    "duration": 307,
    "start_time": "2022-11-21T09:50:27.199Z"
   },
   {
    "duration": 48,
    "start_time": "2022-11-21T09:50:27.508Z"
   },
   {
    "duration": 15810,
    "start_time": "2022-11-21T09:52:06.650Z"
   },
   {
    "duration": 8403,
    "start_time": "2022-11-21T09:52:22.463Z"
   },
   {
    "duration": 100,
    "start_time": "2022-11-21T09:52:30.868Z"
   },
   {
    "duration": 694,
    "start_time": "2022-11-21T09:52:30.971Z"
   },
   {
    "duration": 2,
    "start_time": "2022-11-21T09:52:31.667Z"
   },
   {
    "duration": 714,
    "start_time": "2022-11-21T09:52:31.671Z"
   },
   {
    "duration": 8,
    "start_time": "2022-11-21T09:52:32.453Z"
   },
   {
    "duration": 2308,
    "start_time": "2022-11-21T09:52:32.464Z"
   },
   {
    "duration": 1004,
    "start_time": "2022-11-21T09:52:34.774Z"
   },
   {
    "duration": 1298,
    "start_time": "2022-11-21T09:52:35.781Z"
   },
   {
    "duration": 1982,
    "start_time": "2022-11-21T09:52:37.081Z"
   },
   {
    "duration": 15,
    "start_time": "2022-11-21T09:52:39.065Z"
   },
   {
    "duration": 307,
    "start_time": "2022-11-21T09:52:39.083Z"
   },
   {
    "duration": 58,
    "start_time": "2022-11-21T09:52:39.394Z"
   },
   {
    "duration": 117,
    "start_time": "2022-11-21T09:52:39.455Z"
   },
   {
    "duration": 1696,
    "start_time": "2022-11-21T09:52:39.573Z"
   },
   {
    "duration": 12,
    "start_time": "2022-11-21T09:52:41.271Z"
   },
   {
    "duration": 617,
    "start_time": "2022-11-21T09:52:41.353Z"
   },
   {
    "duration": 4699,
    "start_time": "2022-11-21T09:52:41.972Z"
   },
   {
    "duration": 2497,
    "start_time": "2022-11-21T09:52:46.672Z"
   },
   {
    "duration": 3985,
    "start_time": "2022-11-21T09:52:49.171Z"
   },
   {
    "duration": 2518,
    "start_time": "2022-11-21T09:52:53.158Z"
   },
   {
    "duration": 1094,
    "start_time": "2022-11-21T09:52:55.678Z"
   },
   {
    "duration": 4183,
    "start_time": "2022-11-21T09:52:56.774Z"
   },
   {
    "duration": 1466,
    "start_time": "2022-11-21T09:53:18.437Z"
   },
   {
    "duration": 669,
    "start_time": "2022-11-21T09:54:34.725Z"
   },
   {
    "duration": 1090,
    "start_time": "2022-11-21T09:54:38.118Z"
   },
   {
    "duration": 559,
    "start_time": "2022-11-21T09:54:55.519Z"
   },
   {
    "duration": 880,
    "start_time": "2022-11-21T09:55:00.250Z"
   },
   {
    "duration": 501,
    "start_time": "2022-11-21T09:55:10.069Z"
   },
   {
    "duration": 1096,
    "start_time": "2022-11-21T09:55:13.031Z"
   },
   {
    "duration": 16,
    "start_time": "2022-11-21T09:55:20.968Z"
   },
   {
    "duration": 914,
    "start_time": "2022-11-21T09:55:24.339Z"
   },
   {
    "duration": 11,
    "start_time": "2022-11-21T09:55:31.958Z"
   },
   {
    "duration": 1178,
    "start_time": "2022-11-21T09:55:35.699Z"
   },
   {
    "duration": 501,
    "start_time": "2022-11-21T09:55:54.166Z"
   },
   {
    "duration": 848,
    "start_time": "2022-11-21T09:55:56.404Z"
   },
   {
    "duration": 4594,
    "start_time": "2022-11-21T09:56:15.174Z"
   },
   {
    "duration": 2,
    "start_time": "2022-11-21T09:56:53.402Z"
   },
   {
    "duration": 15904,
    "start_time": "2022-11-21T10:01:48.383Z"
   },
   {
    "duration": 8863,
    "start_time": "2022-11-21T10:02:04.290Z"
   },
   {
    "duration": 41,
    "start_time": "2022-11-21T10:02:13.155Z"
   },
   {
    "duration": 760,
    "start_time": "2022-11-21T10:02:13.197Z"
   },
   {
    "duration": 3,
    "start_time": "2022-11-21T10:02:13.959Z"
   },
   {
    "duration": 619,
    "start_time": "2022-11-21T10:02:13.964Z"
   },
   {
    "duration": 75,
    "start_time": "2022-11-21T10:02:14.585Z"
   },
   {
    "duration": 2207,
    "start_time": "2022-11-21T10:02:14.661Z"
   },
   {
    "duration": 1096,
    "start_time": "2022-11-21T10:02:16.870Z"
   },
   {
    "duration": 1210,
    "start_time": "2022-11-21T10:02:17.969Z"
   },
   {
    "duration": 1679,
    "start_time": "2022-11-21T10:02:19.181Z"
   },
   {
    "duration": 12,
    "start_time": "2022-11-21T10:02:20.862Z"
   },
   {
    "duration": 305,
    "start_time": "2022-11-21T10:02:20.876Z"
   },
   {
    "duration": 3,
    "start_time": "2022-11-21T10:02:21.183Z"
   },
   {
    "duration": 182,
    "start_time": "2022-11-21T10:02:21.187Z"
   },
   {
    "duration": 1211,
    "start_time": "2022-11-21T10:02:21.371Z"
   },
   {
    "duration": 73,
    "start_time": "2022-11-21T10:02:22.584Z"
   },
   {
    "duration": 560,
    "start_time": "2022-11-21T10:02:22.659Z"
   },
   {
    "duration": 5361,
    "start_time": "2022-11-21T10:02:23.221Z"
   },
   {
    "duration": 2392,
    "start_time": "2022-11-21T10:02:28.584Z"
   },
   {
    "duration": 4780,
    "start_time": "2022-11-21T10:02:30.978Z"
   },
   {
    "duration": 2605,
    "start_time": "2022-11-21T10:02:35.760Z"
   },
   {
    "duration": 1096,
    "start_time": "2022-11-21T10:02:38.367Z"
   },
   {
    "duration": 5707,
    "start_time": "2022-11-21T10:02:39.465Z"
   },
   {
    "duration": 4617,
    "start_time": "2022-11-21T10:02:49.760Z"
   }
  ],
  "colab": {
   "name": "PySparkSprint.ipynb",
   "provenance": []
  },
  "kernelspec": {
   "display_name": "Python 3 (ipykernel)",
   "language": "python",
   "name": "python3"
  },
  "language_info": {
   "codemirror_mode": {
    "name": "ipython",
    "version": 3
   },
   "file_extension": ".py",
   "mimetype": "text/x-python",
   "name": "python",
   "nbconvert_exporter": "python",
   "pygments_lexer": "ipython3",
   "version": "3.9.5"
  },
  "toc": {
   "base_numbering": 1,
   "nav_menu": {},
   "number_sections": true,
   "sideBar": true,
   "skip_h1_title": true,
   "title_cell": "Table of Contents",
   "title_sidebar": "Contents",
   "toc_cell": false,
   "toc_position": {},
   "toc_section_display": true,
   "toc_window_display": false
  }
 },
 "nbformat": 4,
 "nbformat_minor": 5
}
