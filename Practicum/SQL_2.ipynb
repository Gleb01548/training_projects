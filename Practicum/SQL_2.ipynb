{
 "cells": [
  {
   "attachments": {},
   "cell_type": "markdown",
   "metadata": {
    "id": "sRW85nPMDWKb"
   },
   "source": [
    "В этой части проекта вам нужно написать несколько SQL-запросов в Jupyter Notebook. Эти задания проверят вручную, и вы получите комментарии к составленным запросам. \n",
    "\n",
    "Необходимые данные находятся в таблицах схемы `stackoverflow`. Не забудьте подключиться к базе с помощью SQLAlchemy. Вспомните инструкцию из [урока про представление результатов](https://practicum.yandex.ru/learn/data-analyst-plus/courses/96ccbf7a-b65d-4f51-b5f3-18360ad1e301/sprints/6116/topics/27f7c9a7-a474-4a82-8392-b3f069b26f69/lessons/e12d84bb-ffa8-490c-8bde-0935d86ceccb/). Пример кода для подключения к базе и выгрузки результатов вы найдёте и в этой тетрадке. \n",
    "\n",
    "Некоторые задания включают дополнительные вопросы — не пропустите их. На часть вопросов можно ответить текстом, а для некоторых понадобится визуализация. Помните, что результат запроса можно выгрузить в датафрейм. \n",
    "\n",
    "Чтобы ожидаемый результат было легче представить, мы добавили к каждому заданию небольшой фрагмент итоговой таблицы. В запросах вы можете использовать любые подходящие названия полей."
   ]
  },
  {
   "cell_type": "code",
   "execution_count": 4,
   "metadata": {
    "id": "nlZBlglMDWKe"
   },
   "outputs": [],
   "source": [
    "import pandas as pd\n",
    "import matplotlib.pyplot as plt\n",
    "from sqlalchemy import create_engine "
   ]
  },
  {
   "attachments": {},
   "cell_type": "markdown",
   "metadata": {
    "id": "XnOE3n28DWKg"
   },
   "source": [
    "### Конфигурация для подключения к базе данных `data-analyst-advanced-sql`\n",
    "Эта база данных содержит схему `stackoverflow`, с которой вы будете работать в проекте"
   ]
  },
  {
   "cell_type": "code",
   "execution_count": 5,
   "metadata": {
    "id": "6p-yGp7qDWKg"
   },
   "outputs": [],
   "source": [
    "db_config = {\n",
    "    'user': '****8', # имя пользователя\n",
    "    'pwd': '', # пароль\n",
    "    'host': '****',\n",
    "    'port': '****', # порт подключения\n",
    "    'db': 'data-analyst-advanced-sql' # название базы данных\n",
    "}  \n",
    "\n",
    "connection_string = 'postgresql://{}:{}@{}:{}/{}'.format(\n",
    "    db_config['user'],\n",
    "    db_config['pwd'],\n",
    "    db_config['host'],\n",
    "    db_config['port'],\n",
    "    db_config['db'],\n",
    ")"
   ]
  },
  {
   "attachments": {},
   "cell_type": "markdown",
   "metadata": {
    "id": "2Rg8ZpS0DWKh"
   },
   "source": [
    "Создание подключения"
   ]
  },
  {
   "cell_type": "code",
   "execution_count": 6,
   "metadata": {
    "id": "DamCUTR6DWKi"
   },
   "outputs": [],
   "source": [
    "engine = create_engine(connection_string) "
   ]
  },
  {
   "attachments": {},
   "cell_type": "markdown",
   "metadata": {
    "id": "bel8XeSlDWKj"
   },
   "source": [
    "Пример запроса к базе данных\n",
    "\n",
    "`sample_df` является pandas-датафреймом."
   ]
  },
  {
   "cell_type": "code",
   "execution_count": 4,
   "metadata": {
    "id": "6Z_fw0yLDWKk"
   },
   "outputs": [],
   "source": [
    "query = '''\n",
    "SELECT *\n",
    "FROM stackoverflow.users\n",
    "LIMIT 10;\n",
    "'''\n",
    "\n",
    "sample_df = pd.read_sql_query(query, con=engine) "
   ]
  },
  {
   "cell_type": "code",
   "execution_count": 5,
   "metadata": {
    "id": "ZpuZ290oDWKk",
    "outputId": "22785a0a-e2bc-4559-ec3c-4879c4b377eb"
   },
   "outputs": [
    {
     "data": {
      "text/html": [
       "<div>\n",
       "<style scoped>\n",
       "    .dataframe tbody tr th:only-of-type {\n",
       "        vertical-align: middle;\n",
       "    }\n",
       "\n",
       "    .dataframe tbody tr th {\n",
       "        vertical-align: top;\n",
       "    }\n",
       "\n",
       "    .dataframe thead th {\n",
       "        text-align: right;\n",
       "    }\n",
       "</style>\n",
       "<table border=\"1\" class=\"dataframe\">\n",
       "  <thead>\n",
       "    <tr style=\"text-align: right;\">\n",
       "      <th></th>\n",
       "      <th>id</th>\n",
       "      <th>creation_date</th>\n",
       "      <th>display_name</th>\n",
       "      <th>last_access_date</th>\n",
       "      <th>location</th>\n",
       "      <th>reputation</th>\n",
       "      <th>views</th>\n",
       "    </tr>\n",
       "  </thead>\n",
       "  <tbody>\n",
       "    <tr>\n",
       "      <th>0</th>\n",
       "      <td>1</td>\n",
       "      <td>2008-07-31 14:22:31</td>\n",
       "      <td>Jeff Atwood</td>\n",
       "      <td>2018-08-29 02:34:23</td>\n",
       "      <td>El Cerrito, CA</td>\n",
       "      <td>44300</td>\n",
       "      <td>408587</td>\n",
       "    </tr>\n",
       "    <tr>\n",
       "      <th>1</th>\n",
       "      <td>2</td>\n",
       "      <td>2008-07-31 14:22:31</td>\n",
       "      <td>Geoff Dalgas</td>\n",
       "      <td>2018-08-23 17:31:56</td>\n",
       "      <td>Corvallis, OR</td>\n",
       "      <td>3491</td>\n",
       "      <td>23966</td>\n",
       "    </tr>\n",
       "    <tr>\n",
       "      <th>2</th>\n",
       "      <td>3</td>\n",
       "      <td>2008-07-31 14:22:31</td>\n",
       "      <td>Jarrod Dixon</td>\n",
       "      <td>2018-08-30 20:56:24</td>\n",
       "      <td>Raleigh, NC, United States</td>\n",
       "      <td>13418</td>\n",
       "      <td>24396</td>\n",
       "    </tr>\n",
       "    <tr>\n",
       "      <th>3</th>\n",
       "      <td>4</td>\n",
       "      <td>2008-07-31 14:22:31</td>\n",
       "      <td>Joel Spolsky</td>\n",
       "      <td>2018-08-14 22:18:15</td>\n",
       "      <td>New York, NY</td>\n",
       "      <td>28768</td>\n",
       "      <td>73755</td>\n",
       "    </tr>\n",
       "    <tr>\n",
       "      <th>4</th>\n",
       "      <td>5</td>\n",
       "      <td>2008-07-31 14:22:31</td>\n",
       "      <td>Jon Galloway</td>\n",
       "      <td>2018-08-29 16:48:36</td>\n",
       "      <td>San Diego, CA</td>\n",
       "      <td>39172</td>\n",
       "      <td>11700</td>\n",
       "    </tr>\n",
       "    <tr>\n",
       "      <th>5</th>\n",
       "      <td>8</td>\n",
       "      <td>2008-07-31 21:33:24</td>\n",
       "      <td>Eggs McLaren</td>\n",
       "      <td>2018-04-09 02:04:56</td>\n",
       "      <td>None</td>\n",
       "      <td>942</td>\n",
       "      <td>6372</td>\n",
       "    </tr>\n",
       "    <tr>\n",
       "      <th>6</th>\n",
       "      <td>9</td>\n",
       "      <td>2008-07-31 21:35:27</td>\n",
       "      <td>Kevin Dente</td>\n",
       "      <td>2018-08-30 18:18:03</td>\n",
       "      <td>Oakland, CA</td>\n",
       "      <td>14337</td>\n",
       "      <td>4949</td>\n",
       "    </tr>\n",
       "    <tr>\n",
       "      <th>7</th>\n",
       "      <td>11</td>\n",
       "      <td>2008-08-01 00:59:11</td>\n",
       "      <td>Anonymous User</td>\n",
       "      <td>2008-08-01 00:59:11</td>\n",
       "      <td>None</td>\n",
       "      <td>1890</td>\n",
       "      <td>2123</td>\n",
       "    </tr>\n",
       "    <tr>\n",
       "      <th>8</th>\n",
       "      <td>13</td>\n",
       "      <td>2008-08-01 04:18:05</td>\n",
       "      <td>Chris Jester-Young</td>\n",
       "      <td>2018-08-30 02:47:23</td>\n",
       "      <td>Raleigh, NC, United States</td>\n",
       "      <td>177138</td>\n",
       "      <td>35414</td>\n",
       "    </tr>\n",
       "    <tr>\n",
       "      <th>9</th>\n",
       "      <td>17</td>\n",
       "      <td>2008-08-01 12:02:22</td>\n",
       "      <td>Nick Berardi</td>\n",
       "      <td>2018-01-22 01:35:38</td>\n",
       "      <td>Issaquah, WA</td>\n",
       "      <td>44443</td>\n",
       "      <td>4786</td>\n",
       "    </tr>\n",
       "  </tbody>\n",
       "</table>\n",
       "</div>"
      ],
      "text/plain": [
       "   id       creation_date        display_name    last_access_date  \\\n",
       "0   1 2008-07-31 14:22:31         Jeff Atwood 2018-08-29 02:34:23   \n",
       "1   2 2008-07-31 14:22:31        Geoff Dalgas 2018-08-23 17:31:56   \n",
       "2   3 2008-07-31 14:22:31        Jarrod Dixon 2018-08-30 20:56:24   \n",
       "3   4 2008-07-31 14:22:31        Joel Spolsky 2018-08-14 22:18:15   \n",
       "4   5 2008-07-31 14:22:31        Jon Galloway 2018-08-29 16:48:36   \n",
       "5   8 2008-07-31 21:33:24        Eggs McLaren 2018-04-09 02:04:56   \n",
       "6   9 2008-07-31 21:35:27         Kevin Dente 2018-08-30 18:18:03   \n",
       "7  11 2008-08-01 00:59:11      Anonymous User 2008-08-01 00:59:11   \n",
       "8  13 2008-08-01 04:18:05  Chris Jester-Young 2018-08-30 02:47:23   \n",
       "9  17 2008-08-01 12:02:22        Nick Berardi 2018-01-22 01:35:38   \n",
       "\n",
       "                     location  reputation   views  \n",
       "0              El Cerrito, CA       44300  408587  \n",
       "1               Corvallis, OR        3491   23966  \n",
       "2  Raleigh, NC, United States       13418   24396  \n",
       "3                New York, NY       28768   73755  \n",
       "4               San Diego, CA       39172   11700  \n",
       "5                        None         942    6372  \n",
       "6                 Oakland, CA       14337    4949  \n",
       "7                        None        1890    2123  \n",
       "8  Raleigh, NC, United States      177138   35414  \n",
       "9                Issaquah, WA       44443    4786  "
      ]
     },
     "execution_count": 5,
     "metadata": {},
     "output_type": "execute_result"
    }
   ],
   "source": [
    "sample_df"
   ]
  },
  {
   "attachments": {},
   "cell_type": "markdown",
   "metadata": {
    "id": "gnBMXkDBDWKm"
   },
   "source": [
    "# Задание 1"
   ]
  },
  {
   "attachments": {},
   "cell_type": "markdown",
   "metadata": {
    "id": "vHsfOrrNDWKn"
   },
   "source": [
    "Выведите общую сумму просмотров постов за каждый месяц 2008 года. Если данных за какой-либо месяц в базе нет, такой месяц можно пропустить. Результат отсортируйте по убыванию общего количества просмотров."
   ]
  },
  {
   "attachments": {},
   "cell_type": "markdown",
   "metadata": {
    "id": "N5rTgGNmDWKn"
   },
   "source": [
    "| month_date  | total_views |\n",
    "| ------------- | ------------- |\n",
    "| 2008-09-01  | 452928568  |\n",
    "| 2008-10-01  | 365400138  |\n",
    "| ...         | ... |"
   ]
  },
  {
   "cell_type": "code",
   "execution_count": 6,
   "metadata": {
    "id": "eWvykcXTDWKo"
   },
   "outputs": [],
   "source": [
    "# напишите запрос\n",
    "query = '''\n",
    "SELECT DATE_TRUNC('month', creation_date::date)::date AS month_date,\n",
    "       SUM(views_count) AS total_views\n",
    "FROM stackoverflow.posts \n",
    "WHERE DATE_PART('year', creation_date::date) = 2008\n",
    "GROUP BY DATE_TRUNC('month', creation_date::date)\n",
    "ORDER BY SUM(views_count) DESC\n",
    "'''\n",
    "\n",
    "# выполните запрос\n",
    "sample_df = pd.read_sql_query(query, con=engine) "
   ]
  },
  {
   "cell_type": "code",
   "execution_count": 7,
   "metadata": {},
   "outputs": [
    {
     "data": {
      "text/html": [
       "<div>\n",
       "<style scoped>\n",
       "    .dataframe tbody tr th:only-of-type {\n",
       "        vertical-align: middle;\n",
       "    }\n",
       "\n",
       "    .dataframe tbody tr th {\n",
       "        vertical-align: top;\n",
       "    }\n",
       "\n",
       "    .dataframe thead th {\n",
       "        text-align: right;\n",
       "    }\n",
       "</style>\n",
       "<table border=\"1\" class=\"dataframe\">\n",
       "  <thead>\n",
       "    <tr style=\"text-align: right;\">\n",
       "      <th></th>\n",
       "      <th>month_date</th>\n",
       "      <th>total_views</th>\n",
       "    </tr>\n",
       "  </thead>\n",
       "  <tbody>\n",
       "    <tr>\n",
       "      <th>0</th>\n",
       "      <td>2008-09-01</td>\n",
       "      <td>452928568</td>\n",
       "    </tr>\n",
       "    <tr>\n",
       "      <th>1</th>\n",
       "      <td>2008-10-01</td>\n",
       "      <td>365400138</td>\n",
       "    </tr>\n",
       "    <tr>\n",
       "      <th>2</th>\n",
       "      <td>2008-11-01</td>\n",
       "      <td>221759651</td>\n",
       "    </tr>\n",
       "    <tr>\n",
       "      <th>3</th>\n",
       "      <td>2008-12-01</td>\n",
       "      <td>197792841</td>\n",
       "    </tr>\n",
       "    <tr>\n",
       "      <th>4</th>\n",
       "      <td>2008-08-01</td>\n",
       "      <td>131367083</td>\n",
       "    </tr>\n",
       "    <tr>\n",
       "      <th>5</th>\n",
       "      <td>2008-07-01</td>\n",
       "      <td>669895</td>\n",
       "    </tr>\n",
       "  </tbody>\n",
       "</table>\n",
       "</div>"
      ],
      "text/plain": [
       "   month_date  total_views\n",
       "0  2008-09-01    452928568\n",
       "1  2008-10-01    365400138\n",
       "2  2008-11-01    221759651\n",
       "3  2008-12-01    197792841\n",
       "4  2008-08-01    131367083\n",
       "5  2008-07-01       669895"
      ]
     },
     "execution_count": 7,
     "metadata": {},
     "output_type": "execute_result"
    }
   ],
   "source": [
    "sample_df"
   ]
  },
  {
   "cell_type": "code",
   "execution_count": 8,
   "metadata": {},
   "outputs": [
    {
     "data": {
      "text/plain": [
       "Text(0, 0.5, 'month_date')"
      ]
     },
     "execution_count": 8,
     "metadata": {},
     "output_type": "execute_result"
    },
    {
     "data": {
      "image/png": "[encoded data removed]",
      "text/plain": [
       "<Figure size 432x288 with 1 Axes>"
      ]
     },
     "metadata": {
      "needs_background": "light"
     },
     "output_type": "display_data"
    }
   ],
   "source": [
    "ax = sample_df.plot.bar(x='month_date', y='total_views')\n",
    "ax.set_title('Total views in month')\n",
    "\n",
    "ax.set_xlabel('total_views')\n",
    "ax.set_ylabel('month_date')"
   ]
  },
  {
   "attachments": {},
   "cell_type": "markdown",
   "metadata": {
    "id": "I_ZvhOxkDWKp"
   },
   "source": [
    "Проанализируйте итоговую таблицу. Отличаются ли данные за разные месяцы? С чем могут быть связаны отличия?"
   ]
  },
  {
   "attachments": {},
   "cell_type": "markdown",
   "metadata": {
    "id": "luxSj17oDWKq"
   },
   "source": [
    "Изминения по месяцам очень резкие, скорее всего в данных имеется ошибка. Не думаю, что осенью у всех много вопросов по IT (в сравнении с другими месяцами), а в июле все в отпусках. "
   ]
  },
  {
   "attachments": {},
   "cell_type": "markdown",
   "metadata": {
    "id": "FziIXkn5DWKr"
   },
   "source": [
    "# Задание 2"
   ]
  },
  {
   "attachments": {},
   "cell_type": "markdown",
   "metadata": {
    "id": "fTGESZvYDWKr"
   },
   "source": [
    "Выведите имена самых активных пользователей, которые в первый месяц после регистрации (включая день регистрации) дали больше 100 ответов. Вопросы, которые задавали пользователи, не учитывайте. Для каждого имени пользователя выведите количество уникальных значений `user_id`. Отсортируйте результат по полю с именами в лексикографическом порядке."
   ]
  },
  {
   "attachments": {},
   "cell_type": "markdown",
   "metadata": {
    "id": "W5-tv6Y3DWKs"
   },
   "source": [
    "| display_name | count |\n",
    "| ------------ | ----- |\n",
    "| 1800 INFORMATION | 1 |\n",
    "| Adam Bellaire | 1 |\n",
    "| Adam Davis | 1 |\n",
    "| ... | ... |"
   ]
  },
  {
   "cell_type": "code",
   "execution_count": 9,
   "metadata": {},
   "outputs": [],
   "source": [
    "query = '''\n",
    "WITH tab AS (\n",
    "SELECT u.display_name AS name, \n",
    "       u.id, \n",
    "       COUNT(*) OVER (PARTITION BY u.id) AS num_posts\n",
    "FROM stackoverflow.users AS u\n",
    "LEFT JOIN stackoverflow.posts p ON p.user_id = u.id \n",
    "LEFT JOIN stackoverflow.post_types AS t ON p.post_type_id = t.id\n",
    "WHERE t.type = 'Answer' AND p.creation_date < (u.creation_date + INTERVAL '1 month')\n",
    ")\n",
    "\n",
    "SELECT name, \n",
    "       COUNT(name)\n",
    "FROM tab\n",
    "WHERE num_posts > 100\n",
    "GROUP BY name\n",
    "ORDER BY name\n",
    "'''\n",
    "\n",
    "# выполните запрос\n",
    "sample_df = pd.read_sql_query(query, con=engine) "
   ]
  },
  {
   "cell_type": "code",
   "execution_count": 10,
   "metadata": {},
   "outputs": [
    {
     "data": {
      "text/html": [
       "<div>\n",
       "<style scoped>\n",
       "    .dataframe tbody tr th:only-of-type {\n",
       "        vertical-align: middle;\n",
       "    }\n",
       "\n",
       "    .dataframe tbody tr th {\n",
       "        vertical-align: top;\n",
       "    }\n",
       "\n",
       "    .dataframe thead th {\n",
       "        text-align: right;\n",
       "    }\n",
       "</style>\n",
       "<table border=\"1\" class=\"dataframe\">\n",
       "  <thead>\n",
       "    <tr style=\"text-align: right;\">\n",
       "      <th></th>\n",
       "      <th>name</th>\n",
       "      <th>count</th>\n",
       "    </tr>\n",
       "  </thead>\n",
       "  <tbody>\n",
       "    <tr>\n",
       "      <th>0</th>\n",
       "      <td>1800 INFORMATION</td>\n",
       "      <td>101</td>\n",
       "    </tr>\n",
       "    <tr>\n",
       "      <th>1</th>\n",
       "      <td>Adam Bellaire</td>\n",
       "      <td>104</td>\n",
       "    </tr>\n",
       "    <tr>\n",
       "      <th>2</th>\n",
       "      <td>Adam Davis</td>\n",
       "      <td>126</td>\n",
       "    </tr>\n",
       "    <tr>\n",
       "      <th>3</th>\n",
       "      <td>Adam Liss</td>\n",
       "      <td>114</td>\n",
       "    </tr>\n",
       "    <tr>\n",
       "      <th>4</th>\n",
       "      <td>Amy B</td>\n",
       "      <td>133</td>\n",
       "    </tr>\n",
       "    <tr>\n",
       "      <th>...</th>\n",
       "      <td>...</td>\n",
       "      <td>...</td>\n",
       "    </tr>\n",
       "    <tr>\n",
       "      <th>57</th>\n",
       "      <td>leppie</td>\n",
       "      <td>110</td>\n",
       "    </tr>\n",
       "    <tr>\n",
       "      <th>58</th>\n",
       "      <td>lomaxx</td>\n",
       "      <td>108</td>\n",
       "    </tr>\n",
       "    <tr>\n",
       "      <th>59</th>\n",
       "      <td>mattlant</td>\n",
       "      <td>159</td>\n",
       "    </tr>\n",
       "    <tr>\n",
       "      <th>60</th>\n",
       "      <td>paxdiablo</td>\n",
       "      <td>117</td>\n",
       "    </tr>\n",
       "    <tr>\n",
       "      <th>61</th>\n",
       "      <td>tzot</td>\n",
       "      <td>107</td>\n",
       "    </tr>\n",
       "  </tbody>\n",
       "</table>\n",
       "<p>62 rows × 2 columns</p>\n",
       "</div>"
      ],
      "text/plain": [
       "                name  count\n",
       "0   1800 INFORMATION    101\n",
       "1      Adam Bellaire    104\n",
       "2         Adam Davis    126\n",
       "3          Adam Liss    114\n",
       "4              Amy B    133\n",
       "..               ...    ...\n",
       "57            leppie    110\n",
       "58            lomaxx    108\n",
       "59          mattlant    159\n",
       "60         paxdiablo    117\n",
       "61              tzot    107\n",
       "\n",
       "[62 rows x 2 columns]"
      ]
     },
     "execution_count": 10,
     "metadata": {},
     "output_type": "execute_result"
    }
   ],
   "source": [
    "sample_df"
   ]
  },
  {
   "cell_type": "code",
   "execution_count": 7,
   "metadata": {},
   "outputs": [
    {
     "data": {
      "text/html": [
       "<div>\n",
       "<style scoped>\n",
       "    .dataframe tbody tr th:only-of-type {\n",
       "        vertical-align: middle;\n",
       "    }\n",
       "\n",
       "    .dataframe tbody tr th {\n",
       "        vertical-align: top;\n",
       "    }\n",
       "\n",
       "    .dataframe thead th {\n",
       "        text-align: right;\n",
       "    }\n",
       "</style>\n",
       "<table border=\"1\" class=\"dataframe\">\n",
       "  <thead>\n",
       "    <tr style=\"text-align: right;\">\n",
       "      <th></th>\n",
       "      <th>name</th>\n",
       "      <th>count</th>\n",
       "    </tr>\n",
       "  </thead>\n",
       "  <tbody>\n",
       "    <tr>\n",
       "      <th>0</th>\n",
       "      <td>1800 INFORMATION</td>\n",
       "      <td>1</td>\n",
       "    </tr>\n",
       "    <tr>\n",
       "      <th>1</th>\n",
       "      <td>Adam Bellaire</td>\n",
       "      <td>1</td>\n",
       "    </tr>\n",
       "    <tr>\n",
       "      <th>2</th>\n",
       "      <td>Adam Davis</td>\n",
       "      <td>1</td>\n",
       "    </tr>\n",
       "    <tr>\n",
       "      <th>3</th>\n",
       "      <td>Adam Liss</td>\n",
       "      <td>1</td>\n",
       "    </tr>\n",
       "    <tr>\n",
       "      <th>4</th>\n",
       "      <td>Alan</td>\n",
       "      <td>8</td>\n",
       "    </tr>\n",
       "    <tr>\n",
       "      <th>...</th>\n",
       "      <td>...</td>\n",
       "      <td>...</td>\n",
       "    </tr>\n",
       "    <tr>\n",
       "      <th>74</th>\n",
       "      <td>lomaxx</td>\n",
       "      <td>1</td>\n",
       "    </tr>\n",
       "    <tr>\n",
       "      <th>75</th>\n",
       "      <td>mattlant</td>\n",
       "      <td>1</td>\n",
       "    </tr>\n",
       "    <tr>\n",
       "      <th>76</th>\n",
       "      <td>paxdiablo</td>\n",
       "      <td>1</td>\n",
       "    </tr>\n",
       "    <tr>\n",
       "      <th>77</th>\n",
       "      <td>tvanfosson</td>\n",
       "      <td>1</td>\n",
       "    </tr>\n",
       "    <tr>\n",
       "      <th>78</th>\n",
       "      <td>tzot</td>\n",
       "      <td>1</td>\n",
       "    </tr>\n",
       "  </tbody>\n",
       "</table>\n",
       "<p>79 rows × 2 columns</p>\n",
       "</div>"
      ],
      "text/plain": [
       "                name  count\n",
       "0   1800 INFORMATION      1\n",
       "1      Adam Bellaire      1\n",
       "2         Adam Davis      1\n",
       "3          Adam Liss      1\n",
       "4               Alan      8\n",
       "..               ...    ...\n",
       "74            lomaxx      1\n",
       "75          mattlant      1\n",
       "76         paxdiablo      1\n",
       "77        tvanfosson      1\n",
       "78              tzot      1\n",
       "\n",
       "[79 rows x 2 columns]"
      ]
     },
     "execution_count": 7,
     "metadata": {},
     "output_type": "execute_result"
    }
   ],
   "source": [
    "#КОД РЕВЬЮЕРА\n",
    "query = '''\n",
    "WITH tab AS (\n",
    "SELECT u.display_name AS name, \n",
    "       u.id AS id, \n",
    "       COUNT(*) OVER (PARTITION BY u.display_name) AS num_posts\n",
    "FROM stackoverflow.posts p\n",
    "JOIN stackoverflow.post_types t ON p.post_type_id = t.id\n",
    "JOIN stackoverflow.users u ON u.id = p.user_id\n",
    "WHERE DATE_TRUNC('day', p.creation_date) >= DATE_TRUNC('day', u.creation_date)\n",
    "  AND DATE_TRUNC('day', p.creation_date) <= DATE_TRUNC('day', u.creation_date) + INTERVAL '1 month'\n",
    "  AND t.type = 'Answer'\n",
    ")\n",
    "\n",
    "SELECT name, \n",
    "       COUNT(DISTINCT id)\n",
    "FROM tab\n",
    "WHERE num_posts > 100\n",
    "GROUP BY name\n",
    "ORDER BY name\n",
    "'''\n",
    "\n",
    "# выполните запрос\n",
    "sample_df = pd.read_sql_query(query, con=engine) \n",
    "sample_df"
   ]
  },
  {
   "cell_type": "code",
   "execution_count": 8,
   "metadata": {},
   "outputs": [
    {
     "data": {
      "text/html": [
       "<div>\n",
       "<style scoped>\n",
       "    .dataframe tbody tr th:only-of-type {\n",
       "        vertical-align: middle;\n",
       "    }\n",
       "\n",
       "    .dataframe tbody tr th {\n",
       "        vertical-align: top;\n",
       "    }\n",
       "\n",
       "    .dataframe thead th {\n",
       "        text-align: right;\n",
       "    }\n",
       "</style>\n",
       "<table border=\"1\" class=\"dataframe\">\n",
       "  <thead>\n",
       "    <tr style=\"text-align: right;\">\n",
       "      <th></th>\n",
       "      <th>display_name</th>\n",
       "      <th>count</th>\n",
       "    </tr>\n",
       "  </thead>\n",
       "  <tbody>\n",
       "    <tr>\n",
       "      <th>0</th>\n",
       "      <td>1800 INFORMATION</td>\n",
       "      <td>1</td>\n",
       "    </tr>\n",
       "    <tr>\n",
       "      <th>1</th>\n",
       "      <td>Adam Bellaire</td>\n",
       "      <td>1</td>\n",
       "    </tr>\n",
       "    <tr>\n",
       "      <th>2</th>\n",
       "      <td>Adam Davis</td>\n",
       "      <td>1</td>\n",
       "    </tr>\n",
       "    <tr>\n",
       "      <th>3</th>\n",
       "      <td>Adam Liss</td>\n",
       "      <td>1</td>\n",
       "    </tr>\n",
       "    <tr>\n",
       "      <th>4</th>\n",
       "      <td>Alan</td>\n",
       "      <td>8</td>\n",
       "    </tr>\n",
       "    <tr>\n",
       "      <th>...</th>\n",
       "      <td>...</td>\n",
       "      <td>...</td>\n",
       "    </tr>\n",
       "    <tr>\n",
       "      <th>74</th>\n",
       "      <td>lomaxx</td>\n",
       "      <td>1</td>\n",
       "    </tr>\n",
       "    <tr>\n",
       "      <th>75</th>\n",
       "      <td>mattlant</td>\n",
       "      <td>1</td>\n",
       "    </tr>\n",
       "    <tr>\n",
       "      <th>76</th>\n",
       "      <td>paxdiablo</td>\n",
       "      <td>1</td>\n",
       "    </tr>\n",
       "    <tr>\n",
       "      <th>77</th>\n",
       "      <td>tvanfosson</td>\n",
       "      <td>1</td>\n",
       "    </tr>\n",
       "    <tr>\n",
       "      <th>78</th>\n",
       "      <td>tzot</td>\n",
       "      <td>1</td>\n",
       "    </tr>\n",
       "  </tbody>\n",
       "</table>\n",
       "<p>79 rows × 2 columns</p>\n",
       "</div>"
      ],
      "text/plain": [
       "        display_name  count\n",
       "0   1800 INFORMATION      1\n",
       "1      Adam Bellaire      1\n",
       "2         Adam Davis      1\n",
       "3          Adam Liss      1\n",
       "4               Alan      8\n",
       "..               ...    ...\n",
       "74            lomaxx      1\n",
       "75          mattlant      1\n",
       "76         paxdiablo      1\n",
       "77        tvanfosson      1\n",
       "78              tzot      1\n",
       "\n",
       "[79 rows x 2 columns]"
      ]
     },
     "execution_count": 8,
     "metadata": {},
     "output_type": "execute_result"
    }
   ],
   "source": [
    "#КОД РЕВЬЮЕРА\n",
    "query = '''\n",
    "SELECT u.display_name,\n",
    "       COUNT(DISTINCT user_id)\n",
    "FROM stackoverflow.posts p\n",
    "JOIN stackoverflow.post_types t ON p.post_type_id = t.id\n",
    "JOIN stackoverflow.users u ON u.id = p.user_id\n",
    "WHERE DATE_TRUNC('day', p.creation_date) >= DATE_TRUNC('day', u.creation_date)\n",
    "  AND DATE_TRUNC('day', p.creation_date) <= DATE_TRUNC('day', u.creation_date) + INTERVAL '1 month'\n",
    "  AND t.type = 'Answer'\n",
    "GROUP BY u.display_name\n",
    "HAVING COUNT(*) > 100\n",
    "ORDER BY display_name;\n",
    "'''\n",
    "\n",
    "# выполните запрос\n",
    "sample_df = pd.read_sql_query(query, con=engine) \n",
    "sample_df"
   ]
  },
  {
   "cell_type": "code",
   "execution_count": 13,
   "metadata": {},
   "outputs": [
    {
     "data": {
      "text/html": [
       "<div>\n",
       "<style scoped>\n",
       "    .dataframe tbody tr th:only-of-type {\n",
       "        vertical-align: middle;\n",
       "    }\n",
       "\n",
       "    .dataframe tbody tr th {\n",
       "        vertical-align: top;\n",
       "    }\n",
       "\n",
       "    .dataframe thead th {\n",
       "        text-align: right;\n",
       "    }\n",
       "</style>\n",
       "<table border=\"1\" class=\"dataframe\">\n",
       "  <thead>\n",
       "    <tr style=\"text-align: right;\">\n",
       "      <th></th>\n",
       "      <th>display_name</th>\n",
       "      <th>count</th>\n",
       "    </tr>\n",
       "  </thead>\n",
       "  <tbody>\n",
       "    <tr>\n",
       "      <th>45</th>\n",
       "      <td>Matt</td>\n",
       "      <td>29</td>\n",
       "    </tr>\n",
       "    <tr>\n",
       "      <th>10</th>\n",
       "      <td>Chris</td>\n",
       "      <td>29</td>\n",
       "    </tr>\n",
       "    <tr>\n",
       "      <th>14</th>\n",
       "      <td>Dan</td>\n",
       "      <td>21</td>\n",
       "    </tr>\n",
       "    <tr>\n",
       "      <th>64</th>\n",
       "      <td>Tom</td>\n",
       "      <td>19</td>\n",
       "    </tr>\n",
       "    <tr>\n",
       "      <th>41</th>\n",
       "      <td>Mark</td>\n",
       "      <td>17</td>\n",
       "    </tr>\n",
       "    <tr>\n",
       "      <th>...</th>\n",
       "      <td>...</td>\n",
       "      <td>...</td>\n",
       "    </tr>\n",
       "    <tr>\n",
       "      <th>38</th>\n",
       "      <td>Lasse Vågsæther Karlsen</td>\n",
       "      <td>1</td>\n",
       "    </tr>\n",
       "    <tr>\n",
       "      <th>1</th>\n",
       "      <td>Adam Bellaire</td>\n",
       "      <td>1</td>\n",
       "    </tr>\n",
       "    <tr>\n",
       "      <th>40</th>\n",
       "      <td>Marc Gravell</td>\n",
       "      <td>1</td>\n",
       "    </tr>\n",
       "    <tr>\n",
       "      <th>42</th>\n",
       "      <td>Mark Cidade</td>\n",
       "      <td>1</td>\n",
       "    </tr>\n",
       "    <tr>\n",
       "      <th>78</th>\n",
       "      <td>tzot</td>\n",
       "      <td>1</td>\n",
       "    </tr>\n",
       "  </tbody>\n",
       "</table>\n",
       "<p>79 rows × 2 columns</p>\n",
       "</div>"
      ],
      "text/plain": [
       "               display_name  count\n",
       "45                     Matt     29\n",
       "10                    Chris     29\n",
       "14                      Dan     21\n",
       "64                      Tom     19\n",
       "41                     Mark     17\n",
       "..                      ...    ...\n",
       "38  Lasse Vågsæther Karlsen      1\n",
       "1             Adam Bellaire      1\n",
       "40             Marc Gravell      1\n",
       "42              Mark Cidade      1\n",
       "78                     tzot      1\n",
       "\n",
       "[79 rows x 2 columns]"
      ]
     },
     "execution_count": 13,
     "metadata": {},
     "output_type": "execute_result"
    }
   ],
   "source": [
    "sample_df.sort_values('count', ascending=False)"
   ]
  },
  {
   "attachments": {},
   "cell_type": "markdown",
   "metadata": {
    "id": "YIqqc-7HDWKt"
   },
   "source": [
    "<details>\n",
    "\n",
    "<summary>Подсказка</summary>\n",
    "Вам нужно присоединить несколько таблиц — изучите внимательнее описание базы. Чтобы добавить промежуток времени к дате, используйте ключевое слово INTERVAL, например, так: <дата> + INTERVAL '1 year 2 months 3 days'\n",
    ".</details>"
   ]
  },
  {
   "attachments": {},
   "cell_type": "markdown",
   "metadata": {
    "id": "I3Wr82TplKpI"
   },
   "source": [
    "Какие аномалии наблюдаются в данных? О чём они говорят?"
   ]
  },
  {
   "attachments": {},
   "cell_type": "markdown",
   "metadata": {},
   "source": [
    "<div class=\"alert alert-info\">\n",
    "Простые имена (без фамилии) встречаются намного чаще, что логично, так как случаев совпадений имен и фамилий должно быть меньше, чем просто имен. "
   ]
  },
  {
   "attachments": {},
   "cell_type": "markdown",
   "metadata": {},
   "source": [
    "Страно то что все имена одинаковые, наверное уникальность имени это условие регистрации. "
   ]
  },
  {
   "attachments": {},
   "cell_type": "markdown",
   "metadata": {
    "id": "JhM2xXj5DWKu"
   },
   "source": [
    "# Задание 3"
   ]
  },
  {
   "attachments": {},
   "cell_type": "markdown",
   "metadata": {
    "id": "IS6xPqyyDWKu"
   },
   "source": [
    "Выведите количество постов за 2008 год по месяцам. Отберите посты от пользователей, которые зарегистрировались в сентябре 2008 года и сделали хотя бы один пост в декабре того же года. Отсортируйте таблицу по значению месяца по убыванию."
   ]
  },
  {
   "attachments": {},
   "cell_type": "markdown",
   "metadata": {
    "id": "WmjhjV2xDWKv"
   },
   "source": [
    "| month | count |\n",
    "| ------|------ |\n",
    "| 2008-12-01 | 17641 |\n",
    "| 2008-11-01 | 18294 |\n",
    "| ... | ... |"
   ]
  },
  {
   "cell_type": "code",
   "execution_count": 13,
   "metadata": {
    "id": "kVu0FB8WDWKv"
   },
   "outputs": [],
   "source": [
    "# напишите запрос\n",
    "query = '''\n",
    "SELECT DATE_TRUNC('month', p.creation_date::date)::date AS month,\n",
    "       COUNT(*)\n",
    "FROM stackoverflow.posts AS p\n",
    "LEFT JOIN stackoverflow.users u ON p.user_id = u.id\n",
    "WHERE DATE_TRUNC('month', u.creation_date::date) = '2008-09-01' AND user_id IN (SELECT DISTINCT user_id\n",
    "                                                                              FROM stackoverflow.posts \n",
    "                                                                              WHERE DATE_TRUNC('month', creation_date::date) = '2008-12-01')\n",
    "GROUP BY DATE_TRUNC('month', p.creation_date::date)::date\n",
    "ORDER BY month DESC\n",
    "\n",
    "'''\n",
    "\n",
    "# выполните запрос\n",
    "sample_df = pd.read_sql_query(query, con=engine) "
   ]
  },
  {
   "cell_type": "code",
   "execution_count": 14,
   "metadata": {},
   "outputs": [
    {
     "data": {
      "text/html": [
       "<div>\n",
       "<style scoped>\n",
       "    .dataframe tbody tr th:only-of-type {\n",
       "        vertical-align: middle;\n",
       "    }\n",
       "\n",
       "    .dataframe tbody tr th {\n",
       "        vertical-align: top;\n",
       "    }\n",
       "\n",
       "    .dataframe thead th {\n",
       "        text-align: right;\n",
       "    }\n",
       "</style>\n",
       "<table border=\"1\" class=\"dataframe\">\n",
       "  <thead>\n",
       "    <tr style=\"text-align: right;\">\n",
       "      <th></th>\n",
       "      <th>month</th>\n",
       "      <th>count</th>\n",
       "    </tr>\n",
       "  </thead>\n",
       "  <tbody>\n",
       "    <tr>\n",
       "      <th>0</th>\n",
       "      <td>2008-12-01</td>\n",
       "      <td>17641</td>\n",
       "    </tr>\n",
       "    <tr>\n",
       "      <th>1</th>\n",
       "      <td>2008-11-01</td>\n",
       "      <td>18294</td>\n",
       "    </tr>\n",
       "    <tr>\n",
       "      <th>2</th>\n",
       "      <td>2008-10-01</td>\n",
       "      <td>27171</td>\n",
       "    </tr>\n",
       "    <tr>\n",
       "      <th>3</th>\n",
       "      <td>2008-09-01</td>\n",
       "      <td>24870</td>\n",
       "    </tr>\n",
       "    <tr>\n",
       "      <th>4</th>\n",
       "      <td>2008-08-01</td>\n",
       "      <td>32</td>\n",
       "    </tr>\n",
       "  </tbody>\n",
       "</table>\n",
       "</div>"
      ],
      "text/plain": [
       "        month  count\n",
       "0  2008-12-01  17641\n",
       "1  2008-11-01  18294\n",
       "2  2008-10-01  27171\n",
       "3  2008-09-01  24870\n",
       "4  2008-08-01     32"
      ]
     },
     "execution_count": 14,
     "metadata": {},
     "output_type": "execute_result"
    }
   ],
   "source": [
    "sample_df"
   ]
  },
  {
   "attachments": {},
   "cell_type": "markdown",
   "metadata": {
    "id": "nWf0JsTMDWKx"
   },
   "source": [
    "<details>\n",
    "\n",
    "<summary>Подсказка</summary>\n",
    "Сначала найдите идентификаторы пользователей, которые зарегистрировались в сентябре 2008 года и оставили хотя бы один пост в декабре. Затем используйте результат для среза и посчитайте посты по месяцам.</details>"
   ]
  },
  {
   "attachments": {},
   "cell_type": "markdown",
   "metadata": {
    "id": "Vnxn9DVHDWKx"
   },
   "source": [
    "Изучите данные: есть ли в них аномалии? Предположите, почему могли появиться аномальные значения."
   ]
  },
  {
   "attachments": {},
   "cell_type": "markdown",
   "metadata": {
    "id": "MMVIz4yMlKpN"
   },
   "source": [
    "Страно, что имеются посты в августе, когда мы регистрировались в декабре. "
   ]
  },
  {
   "cell_type": "code",
   "execution_count": 15,
   "metadata": {},
   "outputs": [],
   "source": [
    "query = '''\n",
    "SELECT p.creation_date AS date_post,\n",
    "       u.creation_date AS date_user, \n",
    "       p.user_id, \n",
    "       COUNT(*) OVER (PARTITION BY p.user_id)\n",
    "FROM stackoverflow.posts AS p\n",
    "LEFT JOIN stackoverflow.users u ON p.user_id = u.id\n",
    "WHERE DATE_TRUNC('month', u.creation_date::date) = '2008-09-01' AND DATE_TRUNC('month', p.creation_date::date) = '2008-08-01' AND user_id IN (SELECT DISTINCT user_id\n",
    "                                                                              FROM stackoverflow.posts \n",
    "                                                                              WHERE DATE_TRUNC('month', creation_date::date) = '2008-12-01')\n",
    "LIMIT 10\n",
    "'''\n",
    "sample_df = pd.read_sql_query(query, con=engine) "
   ]
  },
  {
   "cell_type": "code",
   "execution_count": 16,
   "metadata": {},
   "outputs": [
    {
     "data": {
      "text/html": [
       "<div>\n",
       "<style scoped>\n",
       "    .dataframe tbody tr th:only-of-type {\n",
       "        vertical-align: middle;\n",
       "    }\n",
       "\n",
       "    .dataframe tbody tr th {\n",
       "        vertical-align: top;\n",
       "    }\n",
       "\n",
       "    .dataframe thead th {\n",
       "        text-align: right;\n",
       "    }\n",
       "</style>\n",
       "<table border=\"1\" class=\"dataframe\">\n",
       "  <thead>\n",
       "    <tr style=\"text-align: right;\">\n",
       "      <th></th>\n",
       "      <th>date_post</th>\n",
       "      <th>date_user</th>\n",
       "      <th>user_id</th>\n",
       "      <th>count</th>\n",
       "    </tr>\n",
       "  </thead>\n",
       "  <tbody>\n",
       "    <tr>\n",
       "      <th>0</th>\n",
       "      <td>2008-08-30 15:20:15</td>\n",
       "      <td>2008-09-03 10:48:17</td>\n",
       "      <td>4381</td>\n",
       "      <td>2</td>\n",
       "    </tr>\n",
       "    <tr>\n",
       "      <th>1</th>\n",
       "      <td>2008-08-30 15:27:35</td>\n",
       "      <td>2008-09-03 10:48:17</td>\n",
       "      <td>4381</td>\n",
       "      <td>2</td>\n",
       "    </tr>\n",
       "    <tr>\n",
       "      <th>2</th>\n",
       "      <td>2008-08-12 16:32:25</td>\n",
       "      <td>2008-09-01 00:00:00</td>\n",
       "      <td>31505</td>\n",
       "      <td>30</td>\n",
       "    </tr>\n",
       "    <tr>\n",
       "      <th>3</th>\n",
       "      <td>2008-08-31 14:27:32</td>\n",
       "      <td>2008-09-01 00:00:00</td>\n",
       "      <td>31505</td>\n",
       "      <td>30</td>\n",
       "    </tr>\n",
       "    <tr>\n",
       "      <th>4</th>\n",
       "      <td>2008-08-20 20:42:05</td>\n",
       "      <td>2008-09-01 00:00:00</td>\n",
       "      <td>31505</td>\n",
       "      <td>30</td>\n",
       "    </tr>\n",
       "    <tr>\n",
       "      <th>5</th>\n",
       "      <td>2008-08-12 14:39:20</td>\n",
       "      <td>2008-09-01 00:00:00</td>\n",
       "      <td>31505</td>\n",
       "      <td>30</td>\n",
       "    </tr>\n",
       "    <tr>\n",
       "      <th>6</th>\n",
       "      <td>2008-08-12 14:16:42</td>\n",
       "      <td>2008-09-01 00:00:00</td>\n",
       "      <td>31505</td>\n",
       "      <td>30</td>\n",
       "    </tr>\n",
       "    <tr>\n",
       "      <th>7</th>\n",
       "      <td>2008-08-12 13:15:47</td>\n",
       "      <td>2008-09-01 00:00:00</td>\n",
       "      <td>31505</td>\n",
       "      <td>30</td>\n",
       "    </tr>\n",
       "    <tr>\n",
       "      <th>8</th>\n",
       "      <td>2008-08-14 10:36:04</td>\n",
       "      <td>2008-09-01 00:00:00</td>\n",
       "      <td>31505</td>\n",
       "      <td>30</td>\n",
       "    </tr>\n",
       "    <tr>\n",
       "      <th>9</th>\n",
       "      <td>2008-08-13 14:03:39</td>\n",
       "      <td>2008-09-01 00:00:00</td>\n",
       "      <td>31505</td>\n",
       "      <td>30</td>\n",
       "    </tr>\n",
       "  </tbody>\n",
       "</table>\n",
       "</div>"
      ],
      "text/plain": [
       "            date_post           date_user  user_id  count\n",
       "0 2008-08-30 15:20:15 2008-09-03 10:48:17     4381      2\n",
       "1 2008-08-30 15:27:35 2008-09-03 10:48:17     4381      2\n",
       "2 2008-08-12 16:32:25 2008-09-01 00:00:00    31505     30\n",
       "3 2008-08-31 14:27:32 2008-09-01 00:00:00    31505     30\n",
       "4 2008-08-20 20:42:05 2008-09-01 00:00:00    31505     30\n",
       "5 2008-08-12 14:39:20 2008-09-01 00:00:00    31505     30\n",
       "6 2008-08-12 14:16:42 2008-09-01 00:00:00    31505     30\n",
       "7 2008-08-12 13:15:47 2008-09-01 00:00:00    31505     30\n",
       "8 2008-08-14 10:36:04 2008-09-01 00:00:00    31505     30\n",
       "9 2008-08-13 14:03:39 2008-09-01 00:00:00    31505     30"
      ]
     },
     "execution_count": 16,
     "metadata": {},
     "output_type": "execute_result"
    }
   ],
   "source": [
    "sample_df"
   ]
  },
  {
   "attachments": {},
   "cell_type": "markdown",
   "metadata": {},
   "source": [
    "У нас тут два путешественника во времени, может имеется возможность (либо была) написать пост до регистрации (и id сразу присваивался по ip до регистрации). А возможно с этих IP происходит тестирование сайта."
   ]
  },
  {
   "attachments": {},
   "cell_type": "markdown",
   "metadata": {
    "id": "5Pcizm0DDWKz"
   },
   "source": [
    "# Задание 4"
   ]
  },
  {
   "attachments": {},
   "cell_type": "markdown",
   "metadata": {
    "id": "KUZPF6vHDWKz"
   },
   "source": [
    "Используя данные о постах, выведите несколько полей:\n",
    "\n",
    "- идентификатор пользователя, который написал пост;\n",
    "- дата создания поста;\n",
    "- количество просмотров у текущего поста;\n",
    "- сумму просмотров постов автора с накоплением.\n",
    "\n",
    "Данные в таблице должны быть отсортированы по возрастанию идентификаторов пользователей, а данные об одном и том же пользователе — по возрастанию даты создания поста."
   ]
  },
  {
   "attachments": {},
   "cell_type": "markdown",
   "metadata": {
    "id": "ZpsTUVDYDWK0"
   },
   "source": [
    "| user_id | creation_date | views_count | cumulative_count |\n",
    "| ------ | -------------- | ----------- | ---------------- |\n",
    "| 1 | 2008-07-31 23:41:00  | 480476   | 480476  |\n",
    "| 1 | 2008-07-31 23:55:38  | 136033 | 616509  | \n",
    "| 1 | 2008-07-31 23:56:41  | 0 |  616509  |\n",
    "| ... | ... | ... | ... |\n",
    "| 2 | 2008-07-31 23:56:41 | 79087  | 79087 |\n",
    "| 2 | 2008-08-01 05:09:56 | 65443 | 144530 |\n",
    "| ... | ...  | ...  | ...  |"
   ]
  },
  {
   "cell_type": "code",
   "execution_count": 17,
   "metadata": {
    "id": "hDoJhMzfDWK0"
   },
   "outputs": [],
   "source": [
    "# напишите запрос\n",
    "query = '''\n",
    "SELECT user_id, \n",
    "       creation_date,\n",
    "       views_count,\n",
    "       SUM(views_count) OVER (PARTITION BY user_id ORDER BY creation_date)\n",
    "FROM stackoverflow.posts\n",
    "ORDER BY user_id, creation_date\n",
    "\n",
    "'''\n",
    "\n",
    "# выполните запрос\n",
    "sample_df = pd.read_sql_query(query, con=engine) "
   ]
  },
  {
   "cell_type": "code",
   "execution_count": 18,
   "metadata": {},
   "outputs": [
    {
     "data": {
      "text/html": [
       "<div>\n",
       "<style scoped>\n",
       "    .dataframe tbody tr th:only-of-type {\n",
       "        vertical-align: middle;\n",
       "    }\n",
       "\n",
       "    .dataframe tbody tr th {\n",
       "        vertical-align: top;\n",
       "    }\n",
       "\n",
       "    .dataframe thead th {\n",
       "        text-align: right;\n",
       "    }\n",
       "</style>\n",
       "<table border=\"1\" class=\"dataframe\">\n",
       "  <thead>\n",
       "    <tr style=\"text-align: right;\">\n",
       "      <th></th>\n",
       "      <th>user_id</th>\n",
       "      <th>creation_date</th>\n",
       "      <th>views_count</th>\n",
       "      <th>sum</th>\n",
       "    </tr>\n",
       "  </thead>\n",
       "  <tbody>\n",
       "    <tr>\n",
       "      <th>0</th>\n",
       "      <td>1</td>\n",
       "      <td>2008-07-31 23:41:00</td>\n",
       "      <td>480476</td>\n",
       "      <td>480476</td>\n",
       "    </tr>\n",
       "    <tr>\n",
       "      <th>1</th>\n",
       "      <td>1</td>\n",
       "      <td>2008-07-31 23:55:38</td>\n",
       "      <td>136033</td>\n",
       "      <td>616509</td>\n",
       "    </tr>\n",
       "    <tr>\n",
       "      <th>2</th>\n",
       "      <td>1</td>\n",
       "      <td>2008-07-31 23:56:41</td>\n",
       "      <td>0</td>\n",
       "      <td>616509</td>\n",
       "    </tr>\n",
       "    <tr>\n",
       "      <th>3</th>\n",
       "      <td>1</td>\n",
       "      <td>2008-08-04 02:45:08</td>\n",
       "      <td>0</td>\n",
       "      <td>616509</td>\n",
       "    </tr>\n",
       "    <tr>\n",
       "      <th>4</th>\n",
       "      <td>1</td>\n",
       "      <td>2008-08-04 04:31:03</td>\n",
       "      <td>0</td>\n",
       "      <td>616509</td>\n",
       "    </tr>\n",
       "    <tr>\n",
       "      <th>...</th>\n",
       "      <td>...</td>\n",
       "      <td>...</td>\n",
       "      <td>...</td>\n",
       "      <td>...</td>\n",
       "    </tr>\n",
       "    <tr>\n",
       "      <th>243791</th>\n",
       "      <td>5696608</td>\n",
       "      <td>2008-12-23 16:00:37</td>\n",
       "      <td>0</td>\n",
       "      <td>2804</td>\n",
       "    </tr>\n",
       "    <tr>\n",
       "      <th>243792</th>\n",
       "      <td>5696608</td>\n",
       "      <td>2008-12-23 17:35:09</td>\n",
       "      <td>0</td>\n",
       "      <td>2804</td>\n",
       "    </tr>\n",
       "    <tr>\n",
       "      <th>243793</th>\n",
       "      <td>5696608</td>\n",
       "      <td>2008-12-24 01:02:48</td>\n",
       "      <td>0</td>\n",
       "      <td>2804</td>\n",
       "    </tr>\n",
       "    <tr>\n",
       "      <th>243794</th>\n",
       "      <td>5696608</td>\n",
       "      <td>2008-12-30 14:34:45</td>\n",
       "      <td>0</td>\n",
       "      <td>2804</td>\n",
       "    </tr>\n",
       "    <tr>\n",
       "      <th>243795</th>\n",
       "      <td>5696608</td>\n",
       "      <td>2008-12-30 16:32:12</td>\n",
       "      <td>0</td>\n",
       "      <td>2804</td>\n",
       "    </tr>\n",
       "  </tbody>\n",
       "</table>\n",
       "<p>243796 rows × 4 columns</p>\n",
       "</div>"
      ],
      "text/plain": [
       "        user_id       creation_date  views_count     sum\n",
       "0             1 2008-07-31 23:41:00       480476  480476\n",
       "1             1 2008-07-31 23:55:38       136033  616509\n",
       "2             1 2008-07-31 23:56:41            0  616509\n",
       "3             1 2008-08-04 02:45:08            0  616509\n",
       "4             1 2008-08-04 04:31:03            0  616509\n",
       "...         ...                 ...          ...     ...\n",
       "243791  5696608 2008-12-23 16:00:37            0    2804\n",
       "243792  5696608 2008-12-23 17:35:09            0    2804\n",
       "243793  5696608 2008-12-24 01:02:48            0    2804\n",
       "243794  5696608 2008-12-30 14:34:45            0    2804\n",
       "243795  5696608 2008-12-30 16:32:12            0    2804\n",
       "\n",
       "[243796 rows x 4 columns]"
      ]
     },
     "execution_count": 18,
     "metadata": {},
     "output_type": "execute_result"
    }
   ],
   "source": [
    "sample_df"
   ]
  },
  {
   "attachments": {},
   "cell_type": "markdown",
   "metadata": {},
   "source": [
    "<div class=\"alert alert-info\"> \n",
    "Переделал запрос. "
   ]
  },
  {
   "attachments": {},
   "cell_type": "markdown",
   "metadata": {
    "id": "toidOivXDWK1"
   },
   "source": [
    "<details>\n",
    "\n",
    "<summary>Подсказка</summary>\n",
    "Для подсчёта суммы с накоплением используйте оконную функцию.\n",
    "</details>"
   ]
  },
  {
   "attachments": {},
   "cell_type": "markdown",
   "metadata": {
    "id": "N0kHRHvIDWK2"
   },
   "source": [
    "# Задание 5"
   ]
  },
  {
   "attachments": {},
   "cell_type": "markdown",
   "metadata": {
    "id": "gBgvmPtODWK2"
   },
   "source": [
    "Найдите среднее количество постов пользователей в день за август 2008 года. Отберите данные о пользователях, которые опубликовали больше 120 постов за август. Дни без публикаций не учитывайте. \n",
    "\n",
    "Отсортируйте результат по возрастанию среднего количества постов. Значения можно не округлять."
   ]
  },
  {
   "attachments": {},
   "cell_type": "markdown",
   "metadata": {
    "id": "nfzR08BODWK3"
   },
   "source": [
    "| user_id | avg_daily |\n",
    "| ------- | --------- |\n",
    "| 116     | 4.777778  |\n",
    "| 234     | 5.208333  |\n",
    "| ...     | ... |"
   ]
  },
  {
   "cell_type": "code",
   "execution_count": 19,
   "metadata": {},
   "outputs": [],
   "source": [
    "# напишите запрос\n",
    "query = '''\n",
    "WITH tab AS (\n",
    "SELECT user_id,\n",
    "       COUNT(*) AS total, \n",
    "       COUNT(DISTINCT creation_date::date) AS day_with_post\n",
    "FROM stackoverflow.posts\n",
    "WHERE DATE_TRUNC('month', creation_date) = '2008-08-01'\n",
    "GROUP BY user_id\n",
    ")\n",
    "\n",
    "SELECT user_id, \n",
    "       CAST(total AS float) / day_with_post AS avg_daily\n",
    "FROM tab\n",
    "WHERE total > 120\n",
    "ORDER BY avg_daily\n",
    "'''\n",
    "\n",
    "# выполните запрос\n",
    "sample_df = pd.read_sql_query(query, con=engine) "
   ]
  },
  {
   "cell_type": "code",
   "execution_count": 20,
   "metadata": {},
   "outputs": [
    {
     "data": {
      "text/html": [
       "<div>\n",
       "<style scoped>\n",
       "    .dataframe tbody tr th:only-of-type {\n",
       "        vertical-align: middle;\n",
       "    }\n",
       "\n",
       "    .dataframe tbody tr th {\n",
       "        vertical-align: top;\n",
       "    }\n",
       "\n",
       "    .dataframe thead th {\n",
       "        text-align: right;\n",
       "    }\n",
       "</style>\n",
       "<table border=\"1\" class=\"dataframe\">\n",
       "  <thead>\n",
       "    <tr style=\"text-align: right;\">\n",
       "      <th></th>\n",
       "      <th>user_id</th>\n",
       "      <th>avg_daily</th>\n",
       "    </tr>\n",
       "  </thead>\n",
       "  <tbody>\n",
       "    <tr>\n",
       "      <th>0</th>\n",
       "      <td>116</td>\n",
       "      <td>4.777778</td>\n",
       "    </tr>\n",
       "    <tr>\n",
       "      <th>1</th>\n",
       "      <td>234</td>\n",
       "      <td>5.208333</td>\n",
       "    </tr>\n",
       "    <tr>\n",
       "      <th>2</th>\n",
       "      <td>91</td>\n",
       "      <td>5.681818</td>\n",
       "    </tr>\n",
       "    <tr>\n",
       "      <th>3</th>\n",
       "      <td>905</td>\n",
       "      <td>7.000000</td>\n",
       "    </tr>\n",
       "    <tr>\n",
       "      <th>4</th>\n",
       "      <td>383</td>\n",
       "      <td>7.277778</td>\n",
       "    </tr>\n",
       "  </tbody>\n",
       "</table>\n",
       "</div>"
      ],
      "text/plain": [
       "   user_id  avg_daily\n",
       "0      116   4.777778\n",
       "1      234   5.208333\n",
       "2       91   5.681818\n",
       "3      905   7.000000\n",
       "4      383   7.277778"
      ]
     },
     "execution_count": 20,
     "metadata": {},
     "output_type": "execute_result"
    }
   ],
   "source": [
    "sample_df"
   ]
  },
  {
   "attachments": {},
   "cell_type": "markdown",
   "metadata": {
    "id": "5Gs8kiJvDWK4"
   },
   "source": [
    "<details>\n",
    "\n",
    "<summary>Подсказка</summary>\n",
    "Сначала найдите идентификаторы пользователей, которые написали более 120 постов за август. Используя этот запрос в качестве подзапроса для среза, найдите и сохраните во временную таблицу идентификаторы нужных пользователей, дни августа и количество постов в день. В основном запросе сгруппируйте данные по пользователям и найдите для каждого из них среднее количество постов.\n",
    "</details>"
   ]
  },
  {
   "attachments": {},
   "cell_type": "markdown",
   "metadata": {
    "id": "EQ0dcFH4DWK5"
   },
   "source": [
    "# Задание 6"
   ]
  },
  {
   "attachments": {},
   "cell_type": "markdown",
   "metadata": {
    "id": "c7flfg_hDWK5"
   },
   "source": [
    "Сколько в среднем дней в период с 1 по 7 декабря 2008 года пользователи взаимодействовали с платформой? Для каждого пользователя отберите дни, в которые он или она опубликовали хотя бы один пост. Нужно получить одно целое число — не забудьте округлить результат. "
   ]
  },
  {
   "attachments": {},
   "cell_type": "markdown",
   "metadata": {
    "id": "RC1Ibzm9DWK6"
   },
   "source": [
    "| result |\n",
    "| -----  |\n",
    "| <целое число> |"
   ]
  },
  {
   "cell_type": "code",
   "execution_count": 21,
   "metadata": {
    "id": "kZ7LXTr6DWK6"
   },
   "outputs": [],
   "source": [
    "# напишите запрос\n",
    "query = '''\n",
    "WITH tab AS (\n",
    "            SELECT CAST(COUNT( DISTINCT creation_date::date) AS float) AS total_posts\n",
    "            FROM stackoverflow.posts\n",
    "            WHERE creation_date::date BETWEEN '2008-12-01' AND '2008-12-7'\n",
    "            GROUP BY user_id\n",
    "            )\n",
    "SELECT AVG(total_posts)::int\n",
    "FROM tab\n",
    "'''\n",
    "\n",
    "# выполните запрос\n",
    "sample_df = pd.read_sql_query(query, con=engine) "
   ]
  },
  {
   "cell_type": "code",
   "execution_count": 22,
   "metadata": {},
   "outputs": [
    {
     "data": {
      "text/html": [
       "<div>\n",
       "<style scoped>\n",
       "    .dataframe tbody tr th:only-of-type {\n",
       "        vertical-align: middle;\n",
       "    }\n",
       "\n",
       "    .dataframe tbody tr th {\n",
       "        vertical-align: top;\n",
       "    }\n",
       "\n",
       "    .dataframe thead th {\n",
       "        text-align: right;\n",
       "    }\n",
       "</style>\n",
       "<table border=\"1\" class=\"dataframe\">\n",
       "  <thead>\n",
       "    <tr style=\"text-align: right;\">\n",
       "      <th></th>\n",
       "      <th>avg</th>\n",
       "    </tr>\n",
       "  </thead>\n",
       "  <tbody>\n",
       "    <tr>\n",
       "      <th>0</th>\n",
       "      <td>2</td>\n",
       "    </tr>\n",
       "  </tbody>\n",
       "</table>\n",
       "</div>"
      ],
      "text/plain": [
       "   avg\n",
       "0    2"
      ]
     },
     "execution_count": 22,
     "metadata": {},
     "output_type": "execute_result"
    }
   ],
   "source": [
    "sample_df"
   ]
  },
  {
   "attachments": {},
   "cell_type": "markdown",
   "metadata": {
    "id": "2K5G3xuBDWK7"
   },
   "source": [
    "<details>\n",
    "\n",
    "<summary>Подсказка</summary>\n",
    "Посчитайте, сколько активных дней было у каждого пользователя. Добавьте данные во временную таблицу и используйте в основном запросе.\n",
    "</details>"
   ]
  },
  {
   "attachments": {},
   "cell_type": "markdown",
   "metadata": {
    "id": "UJFtNNggDWK7"
   },
   "source": [
    "Проанализируйте итоговую таблицу — какие выводы можно сделать?"
   ]
  },
  {
   "attachments": {},
   "cell_type": "markdown",
   "metadata": {
    "id": "LfUuYz-1DWK8"
   },
   "source": [
    "Из 7 дней пользователи взаимодействовали в среднем в двух днях,значит платформа востребованная."
   ]
  },
  {
   "attachments": {},
   "cell_type": "markdown",
   "metadata": {
    "id": "wfOmqmfLDWK8"
   },
   "source": [
    "# Задание 7"
   ]
  },
  {
   "attachments": {},
   "cell_type": "markdown",
   "metadata": {
    "id": "X4ARQimADWK9"
   },
   "source": [
    "Выведите историю активности каждого пользователя в таком виде: идентификатор пользователя, дата публикации поста. Отсортируйте вывод по возрастанию идентификаторов пользователей, а для каждого пользователя — по возрастанию даты публикации.\n",
    "\n",
    "Добавьте в таблицу новое поле: для каждого поста в нём будет указано название месяца предпоследней публикации пользователя относительно текущей. Если такой публикации нет, укажите `NULL`.  Python автоматически поменяет `NULL` на `None`, но дополнительно преобразовывать значения `None` вам не нужно.\n",
    "\n",
    "Посмотрите внимательно на образец таблицы: для первых двух постов предпоследней публикации нет, но, начиная с третьего поста, в новое поле входит нужный месяц. Для следующего пользователя в первые две записи поля `second_last_month` тоже войдёт `NULL`."
   ]
  },
  {
   "attachments": {},
   "cell_type": "markdown",
   "metadata": {
    "id": "IGPjRP01DWK9"
   },
   "source": [
    "| user_id | creation_date | second_last_month |\n",
    "| ------- | ------------- | ----------------- |\n",
    "| 1       | 2008-07-31 23:41:00 | None |\n",
    "| 1       | 2008-07-31 23:55:38 | None |\n",
    "| 1       | 2008-07-31 23:56:41 | July |\n",
    "| 1       | 2008-08-04 02:45:08 | July |\n",
    "| 1       | 2008-08-04 04:31:03 | July |\n",
    "| 1       | 2008-08-04 08:04:42 | August |\n",
    "| ... | ... | ... |"
   ]
  },
  {
   "cell_type": "code",
   "execution_count": 23,
   "metadata": {
    "id": "HzI1vhaMDWK-"
   },
   "outputs": [],
   "source": [
    "# напишите запрос\n",
    "query = '''\n",
    "SELECT user_id,\n",
    "       creation_date, \n",
    "       LAG(to_char(to_timestamp (DATE_PART('month', creation_date)::text, 'MM'), 'Month'), 2, NULL) OVER (PARTITION BY user_id ORDER BY creation_date)\n",
    "FROM stackoverflow.posts\n",
    "ORDER BY user_id, creation_date\n",
    "\n",
    "'''\n",
    "\n",
    "# выполните запрос\n",
    "sample_df = pd.read_sql_query(query, con=engine) "
   ]
  },
  {
   "cell_type": "code",
   "execution_count": 24,
   "metadata": {},
   "outputs": [
    {
     "data": {
      "text/html": [
       "<div>\n",
       "<style scoped>\n",
       "    .dataframe tbody tr th:only-of-type {\n",
       "        vertical-align: middle;\n",
       "    }\n",
       "\n",
       "    .dataframe tbody tr th {\n",
       "        vertical-align: top;\n",
       "    }\n",
       "\n",
       "    .dataframe thead th {\n",
       "        text-align: right;\n",
       "    }\n",
       "</style>\n",
       "<table border=\"1\" class=\"dataframe\">\n",
       "  <thead>\n",
       "    <tr style=\"text-align: right;\">\n",
       "      <th></th>\n",
       "      <th>user_id</th>\n",
       "      <th>creation_date</th>\n",
       "      <th>lag</th>\n",
       "    </tr>\n",
       "  </thead>\n",
       "  <tbody>\n",
       "    <tr>\n",
       "      <th>0</th>\n",
       "      <td>1</td>\n",
       "      <td>2008-07-31 23:41:00</td>\n",
       "      <td>None</td>\n",
       "    </tr>\n",
       "    <tr>\n",
       "      <th>1</th>\n",
       "      <td>1</td>\n",
       "      <td>2008-07-31 23:55:38</td>\n",
       "      <td>None</td>\n",
       "    </tr>\n",
       "    <tr>\n",
       "      <th>2</th>\n",
       "      <td>1</td>\n",
       "      <td>2008-07-31 23:56:41</td>\n",
       "      <td>July</td>\n",
       "    </tr>\n",
       "    <tr>\n",
       "      <th>3</th>\n",
       "      <td>1</td>\n",
       "      <td>2008-08-04 02:45:08</td>\n",
       "      <td>July</td>\n",
       "    </tr>\n",
       "    <tr>\n",
       "      <th>4</th>\n",
       "      <td>1</td>\n",
       "      <td>2008-08-04 04:31:03</td>\n",
       "      <td>July</td>\n",
       "    </tr>\n",
       "    <tr>\n",
       "      <th>...</th>\n",
       "      <td>...</td>\n",
       "      <td>...</td>\n",
       "      <td>...</td>\n",
       "    </tr>\n",
       "    <tr>\n",
       "      <th>243791</th>\n",
       "      <td>5696608</td>\n",
       "      <td>2008-12-23 16:00:37</td>\n",
       "      <td>December</td>\n",
       "    </tr>\n",
       "    <tr>\n",
       "      <th>243792</th>\n",
       "      <td>5696608</td>\n",
       "      <td>2008-12-23 17:35:09</td>\n",
       "      <td>December</td>\n",
       "    </tr>\n",
       "    <tr>\n",
       "      <th>243793</th>\n",
       "      <td>5696608</td>\n",
       "      <td>2008-12-24 01:02:48</td>\n",
       "      <td>December</td>\n",
       "    </tr>\n",
       "    <tr>\n",
       "      <th>243794</th>\n",
       "      <td>5696608</td>\n",
       "      <td>2008-12-30 14:34:45</td>\n",
       "      <td>December</td>\n",
       "    </tr>\n",
       "    <tr>\n",
       "      <th>243795</th>\n",
       "      <td>5696608</td>\n",
       "      <td>2008-12-30 16:32:12</td>\n",
       "      <td>December</td>\n",
       "    </tr>\n",
       "  </tbody>\n",
       "</table>\n",
       "<p>243796 rows × 3 columns</p>\n",
       "</div>"
      ],
      "text/plain": [
       "        user_id       creation_date        lag\n",
       "0             1 2008-07-31 23:41:00       None\n",
       "1             1 2008-07-31 23:55:38       None\n",
       "2             1 2008-07-31 23:56:41  July     \n",
       "3             1 2008-08-04 02:45:08  July     \n",
       "4             1 2008-08-04 04:31:03  July     \n",
       "...         ...                 ...        ...\n",
       "243791  5696608 2008-12-23 16:00:37  December \n",
       "243792  5696608 2008-12-23 17:35:09  December \n",
       "243793  5696608 2008-12-24 01:02:48  December \n",
       "243794  5696608 2008-12-30 14:34:45  December \n",
       "243795  5696608 2008-12-30 16:32:12  December \n",
       "\n",
       "[243796 rows x 3 columns]"
      ]
     },
     "execution_count": 24,
     "metadata": {},
     "output_type": "execute_result"
    }
   ],
   "source": [
    "sample_df"
   ]
  },
  {
   "attachments": {},
   "cell_type": "markdown",
   "metadata": {
    "id": "7dqoKkncDWK_"
   },
   "source": [
    "<details>\n",
    "\n",
    "<summary>Подсказка</summary>\n",
    "Преобразовать результат оконной функции в нужное значение вам поможет аналог условного оператора в SQL: CASE <поле> WHEN <старое значение> THEN <новое значение> END.\n",
    "</details>"
   ]
  },
  {
   "attachments": {},
   "cell_type": "markdown",
   "metadata": {
    "id": "tf9qq2yzDWK_"
   },
   "source": [
    "# Задание 8"
   ]
  },
  {
   "attachments": {},
   "cell_type": "markdown",
   "metadata": {
    "id": "gfwLVXBYDWLA"
   },
   "source": [
    "Рассчитайте аналог Retention Rate по месяцам для пользователей StackOverflow. Объедините пользователей в когорты по месяцу их первого поста. Возвращение определяйте по наличию поста в текущем месяце. "
   ]
  },
  {
   "attachments": {},
   "cell_type": "markdown",
   "metadata": {
    "id": "kN2ic39WlKpl"
   },
   "source": [
    "| cohort_dt | session_date | users_cnt | cohort_users_cnt | retention_rate |\n",
    "| --- | --- | --- | --- | --- |\n",
    "| 2008-07-01 00:00:00 | 2008-07-01 00:00:00 | 3 | 3 | 100 |\n",
    "| 2008-07-01 00:00:00 | 2008-08-01 00:00:00 | 2 | 3 | 66,67 |\n",
    "| 2008-07-01 00:00:00 | 2008-09-01 00:00:00 | 1 | 3 | 33,33 |\n",
    "| 2008-07-01 00:00:00 | 2008-10-01 00:00:00 | 2 | 3 | 66,67 |\n",
    "| 2008-07-01 00:00:00 | 2008-11-01 00:00:00 | 1 | 3 | 33,33 |\n",
    "| 2008-07-01 00:00:00 | 2008-12-01 00:00:00 | 2 | 3 | 66,67 |\n",
    "| 2008-08-01 00:00:00 | 2008-08-01 00:00:00 | 2151 | 2151 | 100 |\n",
    "| ... | ... | ... | ... | ... |"
   ]
  },
  {
   "cell_type": "code",
   "execution_count": 25,
   "metadata": {},
   "outputs": [
    {
     "data": {
      "text/html": [
       "<div>\n",
       "<style scoped>\n",
       "    .dataframe tbody tr th:only-of-type {\n",
       "        vertical-align: middle;\n",
       "    }\n",
       "\n",
       "    .dataframe tbody tr th {\n",
       "        vertical-align: top;\n",
       "    }\n",
       "\n",
       "    .dataframe thead th {\n",
       "        text-align: right;\n",
       "    }\n",
       "</style>\n",
       "<table border=\"1\" class=\"dataframe\">\n",
       "  <thead>\n",
       "    <tr style=\"text-align: right;\">\n",
       "      <th></th>\n",
       "      <th>reg</th>\n",
       "      <th>month_date</th>\n",
       "      <th>cnt</th>\n",
       "      <th>users_reg</th>\n",
       "      <th>retention_rate</th>\n",
       "    </tr>\n",
       "  </thead>\n",
       "  <tbody>\n",
       "    <tr>\n",
       "      <th>0</th>\n",
       "      <td>2008-07-01</td>\n",
       "      <td>2008-07-01</td>\n",
       "      <td>3</td>\n",
       "      <td>3</td>\n",
       "      <td>100</td>\n",
       "    </tr>\n",
       "    <tr>\n",
       "      <th>1</th>\n",
       "      <td>2008-07-01</td>\n",
       "      <td>2008-08-01</td>\n",
       "      <td>2</td>\n",
       "      <td>3</td>\n",
       "      <td>66</td>\n",
       "    </tr>\n",
       "    <tr>\n",
       "      <th>2</th>\n",
       "      <td>2008-07-01</td>\n",
       "      <td>2008-09-01</td>\n",
       "      <td>1</td>\n",
       "      <td>3</td>\n",
       "      <td>33</td>\n",
       "    </tr>\n",
       "    <tr>\n",
       "      <th>3</th>\n",
       "      <td>2008-07-01</td>\n",
       "      <td>2008-10-01</td>\n",
       "      <td>2</td>\n",
       "      <td>3</td>\n",
       "      <td>66</td>\n",
       "    </tr>\n",
       "    <tr>\n",
       "      <th>4</th>\n",
       "      <td>2008-07-01</td>\n",
       "      <td>2008-11-01</td>\n",
       "      <td>1</td>\n",
       "      <td>3</td>\n",
       "      <td>33</td>\n",
       "    </tr>\n",
       "    <tr>\n",
       "      <th>5</th>\n",
       "      <td>2008-07-01</td>\n",
       "      <td>2008-12-01</td>\n",
       "      <td>2</td>\n",
       "      <td>3</td>\n",
       "      <td>66</td>\n",
       "    </tr>\n",
       "    <tr>\n",
       "      <th>6</th>\n",
       "      <td>2008-08-01</td>\n",
       "      <td>2008-08-01</td>\n",
       "      <td>2151</td>\n",
       "      <td>2151</td>\n",
       "      <td>100</td>\n",
       "    </tr>\n",
       "    <tr>\n",
       "      <th>7</th>\n",
       "      <td>2008-08-01</td>\n",
       "      <td>2008-09-01</td>\n",
       "      <td>1571</td>\n",
       "      <td>2151</td>\n",
       "      <td>73</td>\n",
       "    </tr>\n",
       "    <tr>\n",
       "      <th>8</th>\n",
       "      <td>2008-08-01</td>\n",
       "      <td>2008-10-01</td>\n",
       "      <td>1275</td>\n",
       "      <td>2151</td>\n",
       "      <td>59</td>\n",
       "    </tr>\n",
       "    <tr>\n",
       "      <th>9</th>\n",
       "      <td>2008-08-01</td>\n",
       "      <td>2008-11-01</td>\n",
       "      <td>1050</td>\n",
       "      <td>2151</td>\n",
       "      <td>48</td>\n",
       "    </tr>\n",
       "    <tr>\n",
       "      <th>10</th>\n",
       "      <td>2008-08-01</td>\n",
       "      <td>2008-12-01</td>\n",
       "      <td>894</td>\n",
       "      <td>2151</td>\n",
       "      <td>41</td>\n",
       "    </tr>\n",
       "    <tr>\n",
       "      <th>11</th>\n",
       "      <td>2008-09-01</td>\n",
       "      <td>2008-09-01</td>\n",
       "      <td>7678</td>\n",
       "      <td>7678</td>\n",
       "      <td>100</td>\n",
       "    </tr>\n",
       "    <tr>\n",
       "      <th>12</th>\n",
       "      <td>2008-09-01</td>\n",
       "      <td>2008-10-01</td>\n",
       "      <td>4132</td>\n",
       "      <td>7678</td>\n",
       "      <td>53</td>\n",
       "    </tr>\n",
       "    <tr>\n",
       "      <th>13</th>\n",
       "      <td>2008-09-01</td>\n",
       "      <td>2008-11-01</td>\n",
       "      <td>2966</td>\n",
       "      <td>7678</td>\n",
       "      <td>38</td>\n",
       "    </tr>\n",
       "    <tr>\n",
       "      <th>14</th>\n",
       "      <td>2008-09-01</td>\n",
       "      <td>2008-12-01</td>\n",
       "      <td>2500</td>\n",
       "      <td>7678</td>\n",
       "      <td>32</td>\n",
       "    </tr>\n",
       "    <tr>\n",
       "      <th>15</th>\n",
       "      <td>2008-10-01</td>\n",
       "      <td>2008-10-01</td>\n",
       "      <td>3629</td>\n",
       "      <td>3629</td>\n",
       "      <td>100</td>\n",
       "    </tr>\n",
       "    <tr>\n",
       "      <th>16</th>\n",
       "      <td>2008-10-01</td>\n",
       "      <td>2008-11-01</td>\n",
       "      <td>1640</td>\n",
       "      <td>3629</td>\n",
       "      <td>45</td>\n",
       "    </tr>\n",
       "    <tr>\n",
       "      <th>17</th>\n",
       "      <td>2008-10-01</td>\n",
       "      <td>2008-12-01</td>\n",
       "      <td>1221</td>\n",
       "      <td>3629</td>\n",
       "      <td>33</td>\n",
       "    </tr>\n",
       "    <tr>\n",
       "      <th>18</th>\n",
       "      <td>2008-11-01</td>\n",
       "      <td>2008-11-01</td>\n",
       "      <td>2852</td>\n",
       "      <td>2852</td>\n",
       "      <td>100</td>\n",
       "    </tr>\n",
       "    <tr>\n",
       "      <th>19</th>\n",
       "      <td>2008-11-01</td>\n",
       "      <td>2008-12-01</td>\n",
       "      <td>1151</td>\n",
       "      <td>2852</td>\n",
       "      <td>40</td>\n",
       "    </tr>\n",
       "    <tr>\n",
       "      <th>20</th>\n",
       "      <td>2008-12-01</td>\n",
       "      <td>2008-12-01</td>\n",
       "      <td>2536</td>\n",
       "      <td>2536</td>\n",
       "      <td>100</td>\n",
       "    </tr>\n",
       "  </tbody>\n",
       "</table>\n",
       "</div>"
      ],
      "text/plain": [
       "          reg month_date   cnt  users_reg  retention_rate\n",
       "0  2008-07-01 2008-07-01     3          3             100\n",
       "1  2008-07-01 2008-08-01     2          3              66\n",
       "2  2008-07-01 2008-09-01     1          3              33\n",
       "3  2008-07-01 2008-10-01     2          3              66\n",
       "4  2008-07-01 2008-11-01     1          3              33\n",
       "5  2008-07-01 2008-12-01     2          3              66\n",
       "6  2008-08-01 2008-08-01  2151       2151             100\n",
       "7  2008-08-01 2008-09-01  1571       2151              73\n",
       "8  2008-08-01 2008-10-01  1275       2151              59\n",
       "9  2008-08-01 2008-11-01  1050       2151              48\n",
       "10 2008-08-01 2008-12-01   894       2151              41\n",
       "11 2008-09-01 2008-09-01  7678       7678             100\n",
       "12 2008-09-01 2008-10-01  4132       7678              53\n",
       "13 2008-09-01 2008-11-01  2966       7678              38\n",
       "14 2008-09-01 2008-12-01  2500       7678              32\n",
       "15 2008-10-01 2008-10-01  3629       3629             100\n",
       "16 2008-10-01 2008-11-01  1640       3629              45\n",
       "17 2008-10-01 2008-12-01  1221       3629              33\n",
       "18 2008-11-01 2008-11-01  2852       2852             100\n",
       "19 2008-11-01 2008-12-01  1151       2852              40\n",
       "20 2008-12-01 2008-12-01  2536       2536             100"
      ]
     },
     "execution_count": 25,
     "metadata": {},
     "output_type": "execute_result"
    }
   ],
   "source": [
    "# напишите запрос\n",
    "query = '''\n",
    "WITH tab AS (\n",
    "SELECT DISTINCT user_id, \n",
    "       DATE_TRUNC('month', FIRST_VALUE(creation_date) OVER (PARTITION BY user_id ORDER BY creation_date)) AS reg,\n",
    "       DATE_TRUNC('month', creation_date) AS month_date\n",
    "FROM stackoverflow.posts \n",
    "),\n",
    "\n",
    "tab1 AS (\n",
    "SELECT reg, \n",
    "       COUNT(DISTINCT user_id) AS users_reg\n",
    "FROM tab\n",
    "GROUP BY reg\n",
    "),\n",
    "\n",
    "tab2 AS (\n",
    "SELECT reg,\n",
    "       month_date,\n",
    "       COUNT(DISTINCT user_id) AS cnt\n",
    "FROM tab\n",
    "GROUP BY reg, month_date)\n",
    "\n",
    "SELECT t2.reg,\n",
    "       t2.month_date, \n",
    "       t2.cnt, \n",
    "       t1.users_reg, \n",
    "       t2.cnt * 100 / t1.users_reg AS retention_rate\n",
    "FROM tab2 AS t2\n",
    "LEFT JOIN tab1 AS t1 ON t2.reg = t1.reg\n",
    "\n",
    "\n",
    "'''\n",
    "\n",
    "# выполните запрос\n",
    "sample_df = pd.read_sql_query(query, con=engine) \n",
    "sample_df"
   ]
  },
  {
   "attachments": {},
   "cell_type": "markdown",
   "metadata": {
    "id": "Yavb5o9JDWLB"
   },
   "source": [
    "<details>\n",
    "\n",
    "<summary>Подсказка</summary>\n",
    "Вспомните, как выглядел запрос для расчёта Retention Rate в теории. Создайте две временные таблицы: `profile` и `sessions` (в ней будет информация о публикациях), а затем используйте их в основном запросе.\n",
    "\n",
    "Во временной таблице `profile` вам понадобятся три поля:\n",
    "\n",
    "- идентификатор пользователя;\n",
    "- дата первого поста пользователя, усечённая до месяца (признак начала когорты);\n",
    "- количество пользователей этой когорты.\n",
    "</details>"
   ]
  },
  {
   "attachments": {},
   "cell_type": "markdown",
   "metadata": {
    "id": "_msBtnb2DWLC"
   },
   "source": [
    "Постройте тепловую карту Retention Rate. Какие аномалии или другие необычные явления удалось выявить? Сформулируйте гипотезы о возможных причинах."
   ]
  },
  {
   "cell_type": "code",
   "execution_count": 26,
   "metadata": {},
   "outputs": [
    {
     "data": {
      "text/plain": [
       "Text(0.5, 1.0, 'Percent retention_rate')"
      ]
     },
     "execution_count": 26,
     "metadata": {},
     "output_type": "execute_result"
    },
    {
     "data": {
      "image/png": "[encoded data removed]",
      "text/plain": [
       "<Figure size 432x288 with 2 Axes>"
      ]
     },
     "metadata": {
      "needs_background": "light"
     },
     "output_type": "display_data"
    }
   ],
   "source": [
    "from seaborn import heatmap\n",
    "sample_df[['reg', 'month_date']] = sample_df[['reg', 'month_date']].astype('str')\n",
    "ax = heatmap(sample_df.pivot('reg', 'month_date', 'retention_rate'), annot=True)\n",
    "ax.set_title('Percent retention_rate')"
   ]
  },
  {
   "attachments": {},
   "cell_type": "markdown",
   "metadata": {
    "id": "1k7oPWt5DWLK"
   },
   "source": [
    "# Задание 9\n"
   ]
  },
  {
   "attachments": {},
   "cell_type": "markdown",
   "metadata": {
    "id": "ALsYVSyRDWLM"
   },
   "source": [
    "На сколько процентов менялось количество постов ежемесячно с 1 сентября по 31 декабря 2008 года? Отобразите таблицу со следующими полями:\n",
    "\n",
    "- номер месяца;\n",
    "- количество постов за месяц;\n",
    "- процент, который показывает, насколько изменилось количество постов в текущем месяце по сравнению с предыдущим.\n",
    "\n",
    "Если постов стало меньше, значение процента должно быть отрицательным, если больше — положительным. Округлите значение процента до двух знаков после запятой.\n",
    "\n",
    "Напомним, что при делении одного целого числа на другое в PostgreSQL в результате получится целое число, округлённое до ближайшего целого вниз. Чтобы этого избежать, переведите делимое в тип `numeric`."
   ]
  },
  {
   "attachments": {},
   "cell_type": "markdown",
   "metadata": {
    "id": "u4E2zF8DDWLM"
   },
   "source": [
    "| creation_month | posts_count | percentage |\n",
    "| -------------- | ----------- | ---------- |\n",
    "| 9 | 70731 | Nan |\n",
    "| 10 | 63102 | -10.33 |\n",
    "| ... | ... | ... |"
   ]
  },
  {
   "cell_type": "code",
   "execution_count": 28,
   "metadata": {
    "id": "Mb5pShStDWLN"
   },
   "outputs": [],
   "source": [
    "# напишите запрос\n",
    "query = '''\n",
    "WITH tab AS (\n",
    "SELECT DATE_PART('month', creation_date)::int AS date,\n",
    "       COUNT(*) AS post_month\n",
    "FROM stackoverflow.posts\n",
    "WHERE creation_date BETWEEN '2008-09-01' AND '2008-12-31'\n",
    "GROUP BY DATE_PART('month', creation_date)\n",
    ")\n",
    "\n",
    "SELECT date, \n",
    "       post_month, \n",
    "       (CAST(post_month AS FLOAT) - LAG(post_month) OVER())*100 / post_month\n",
    "FROM tab\n",
    "\n",
    "'''\n",
    "\n",
    "# выполните запрос\n",
    "sample_df = pd.read_sql_query(query, con=engine) "
   ]
  },
  {
   "cell_type": "code",
   "execution_count": 29,
   "metadata": {},
   "outputs": [],
   "source": [
    "sample_df = sample_df.set_index('date')"
   ]
  },
  {
   "cell_type": "code",
   "execution_count": 30,
   "metadata": {},
   "outputs": [
    {
     "data": {
      "text/html": [
       "<div>\n",
       "<style scoped>\n",
       "    .dataframe tbody tr th:only-of-type {\n",
       "        vertical-align: middle;\n",
       "    }\n",
       "\n",
       "    .dataframe tbody tr th {\n",
       "        vertical-align: top;\n",
       "    }\n",
       "\n",
       "    .dataframe thead th {\n",
       "        text-align: right;\n",
       "    }\n",
       "</style>\n",
       "<table border=\"1\" class=\"dataframe\">\n",
       "  <thead>\n",
       "    <tr style=\"text-align: right;\">\n",
       "      <th></th>\n",
       "      <th>post_month</th>\n",
       "      <th>?column?</th>\n",
       "    </tr>\n",
       "    <tr>\n",
       "      <th>date</th>\n",
       "      <th></th>\n",
       "      <th></th>\n",
       "    </tr>\n",
       "  </thead>\n",
       "  <tbody>\n",
       "    <tr>\n",
       "      <th>9</th>\n",
       "      <td>70371</td>\n",
       "      <td>NaN</td>\n",
       "    </tr>\n",
       "    <tr>\n",
       "      <th>10</th>\n",
       "      <td>63102</td>\n",
       "      <td>-11.519445</td>\n",
       "    </tr>\n",
       "    <tr>\n",
       "      <th>11</th>\n",
       "      <td>46975</td>\n",
       "      <td>-34.331027</td>\n",
       "    </tr>\n",
       "    <tr>\n",
       "      <th>12</th>\n",
       "      <td>44592</td>\n",
       "      <td>-5.344008</td>\n",
       "    </tr>\n",
       "  </tbody>\n",
       "</table>\n",
       "</div>"
      ],
      "text/plain": [
       "      post_month   ?column?\n",
       "date                       \n",
       "9          70371        NaN\n",
       "10         63102 -11.519445\n",
       "11         46975 -34.331027\n",
       "12         44592  -5.344008"
      ]
     },
     "execution_count": 30,
     "metadata": {},
     "output_type": "execute_result"
    }
   ],
   "source": [
    "sample_df"
   ]
  },
  {
   "attachments": {},
   "cell_type": "markdown",
   "metadata": {
    "id": "G0VSDL4HDWLO"
   },
   "source": [
    "<details>\n",
    "\n",
    "<summary>Подсказка</summary>\n",
    "Эту задачу стоит декомпозировать. Сформируйте запрос, который отобразит номер месяца и количество постов. Затем можно использовать оконную функцию, которая вернёт значение за предыдущий месяц, и посчитать процент.\n",
    "</details>"
   ]
  },
  {
   "attachments": {},
   "cell_type": "markdown",
   "metadata": {
    "id": "9NQE2y_MDWLP"
   },
   "source": [
    "Постройте круговую диаграмму с количеством постов по месяцам."
   ]
  },
  {
   "cell_type": "code",
   "execution_count": 31,
   "metadata": {
    "id": "377ABjiVDWLP"
   },
   "outputs": [
    {
     "data": {
      "text/plain": [
       "Text(0.5, 1.0, 'Posts in month')"
      ]
     },
     "execution_count": 31,
     "metadata": {},
     "output_type": "execute_result"
    },
    {
     "data": {
      "image/png": "[encoded data removed]",
      "text/plain": [
       "<Figure size 720x720 with 1 Axes>"
      ]
     },
     "metadata": {},
     "output_type": "display_data"
    }
   ],
   "source": [
    "def autopct(pct): # only show the label when it's > 10%\n",
    "    return ('%.2f' % pct) if pct > 10 else ''\n",
    "\n",
    "ax = sample_df.plot.pie(y='post_month', figsize=(10, 10), autopct=autopct)\n",
    "ax.set_title('Posts in month')"
   ]
  },
  {
   "attachments": {},
   "cell_type": "markdown",
   "metadata": {},
   "source": [
    "<div class=\"alert alert-info\"> Поменял"
   ]
  },
  {
   "attachments": {},
   "cell_type": "markdown",
   "metadata": {
    "id": "uw7qMtafDWLP"
   },
   "source": [
    "# Задание 10"
   ]
  },
  {
   "attachments": {},
   "cell_type": "markdown",
   "metadata": {
    "id": "oRBpWKx3DWLQ"
   },
   "source": [
    "Выгрузите данные активности пользователя, который опубликовал больше всего постов за всё время. Выведите данные за октябрь 2008 года в таком виде:\n",
    "\n",
    "- номер недели;\n",
    "- дата и время последнего поста, опубликованного на этой неделе."
   ]
  },
  {
   "attachments": {},
   "cell_type": "markdown",
   "metadata": {
    "id": "XjAWSn_3DWLQ"
   },
   "source": [
    "| week_creation | creation_date |\n",
    "| ------------- | ------------- |\n",
    "| 40 | 2008-10-05 09:00:58 |\n",
    "| 41 | 2008-10-12 21:22:23 |\n",
    "| ... | ... |"
   ]
  },
  {
   "cell_type": "code",
   "execution_count": 32,
   "metadata": {},
   "outputs": [
    {
     "data": {
      "text/html": [
       "<div>\n",
       "<style scoped>\n",
       "    .dataframe tbody tr th:only-of-type {\n",
       "        vertical-align: middle;\n",
       "    }\n",
       "\n",
       "    .dataframe tbody tr th {\n",
       "        vertical-align: top;\n",
       "    }\n",
       "\n",
       "    .dataframe thead th {\n",
       "        text-align: right;\n",
       "    }\n",
       "</style>\n",
       "<table border=\"1\" class=\"dataframe\">\n",
       "  <thead>\n",
       "    <tr style=\"text-align: right;\">\n",
       "      <th></th>\n",
       "      <th>week</th>\n",
       "      <th>max</th>\n",
       "    </tr>\n",
       "  </thead>\n",
       "  <tbody>\n",
       "    <tr>\n",
       "      <th>0</th>\n",
       "      <td>40</td>\n",
       "      <td>2008-10-05 09:00:58</td>\n",
       "    </tr>\n",
       "    <tr>\n",
       "      <th>1</th>\n",
       "      <td>41</td>\n",
       "      <td>2008-10-12 21:22:23</td>\n",
       "    </tr>\n",
       "    <tr>\n",
       "      <th>2</th>\n",
       "      <td>42</td>\n",
       "      <td>2008-10-19 06:49:30</td>\n",
       "    </tr>\n",
       "    <tr>\n",
       "      <th>3</th>\n",
       "      <td>43</td>\n",
       "      <td>2008-10-26 21:44:36</td>\n",
       "    </tr>\n",
       "    <tr>\n",
       "      <th>4</th>\n",
       "      <td>44</td>\n",
       "      <td>2008-10-31 22:16:01</td>\n",
       "    </tr>\n",
       "  </tbody>\n",
       "</table>\n",
       "</div>"
      ],
      "text/plain": [
       "   week                 max\n",
       "0    40 2008-10-05 09:00:58\n",
       "1    41 2008-10-12 21:22:23\n",
       "2    42 2008-10-19 06:49:30\n",
       "3    43 2008-10-26 21:44:36\n",
       "4    44 2008-10-31 22:16:01"
      ]
     },
     "execution_count": 32,
     "metadata": {},
     "output_type": "execute_result"
    }
   ],
   "source": [
    "# напишите запрос\n",
    "query = '''\n",
    "WITH tab AS (\n",
    "SELECT user_id, \n",
    "       COUNT(*)\n",
    "FROM stackoverflow.posts\n",
    "GROUP BY user_id\n",
    "ORDER BY count DESC\n",
    "LIMIT 1),\n",
    "\n",
    "tab1 AS (\n",
    "SELECT DATE_PART('week', creation_date)::int AS week, \n",
    "       creation_date AS date\n",
    "FROM stackoverflow.posts\n",
    "WHERE user_id IN (SELECT user_id\n",
    "                   FROM tab) AND DATE_TRUNC('month', creation_date) = '2008-10-01'\n",
    ")\n",
    "\n",
    "SELECT DISTINCT week, \n",
    "       MAX(date) OVER (PARTITION BY week)\n",
    "FROM tab1\n",
    "ORDER BY week\n",
    "\n",
    "'''\n",
    "\n",
    "# выполните запрос\n",
    "sample_df = pd.read_sql_query(query, con=engine) \n",
    "sample_df"
   ]
  },
  {
   "attachments": {},
   "cell_type": "markdown",
   "metadata": {},
   "source": [
    "У меня вопрос, почему не 'LAST_VALUE(date) OVER (PARTITION BY week ORDER BY date)' не работает так как 'MAX(date) OVER (PARTITION BY week)'? Мы же создаем окно основываясь на значениях week и сортируем данные внутри окна опираясь на данные из date, разве нет? "
   ]
  },
  {
   "cell_type": "code",
   "execution_count": 33,
   "metadata": {},
   "outputs": [
    {
     "data": {
      "text/html": [
       "<div>\n",
       "<style scoped>\n",
       "    .dataframe tbody tr th:only-of-type {\n",
       "        vertical-align: middle;\n",
       "    }\n",
       "\n",
       "    .dataframe tbody tr th {\n",
       "        vertical-align: top;\n",
       "    }\n",
       "\n",
       "    .dataframe thead th {\n",
       "        text-align: right;\n",
       "    }\n",
       "</style>\n",
       "<table border=\"1\" class=\"dataframe\">\n",
       "  <thead>\n",
       "    <tr style=\"text-align: right;\">\n",
       "      <th></th>\n",
       "      <th>week</th>\n",
       "      <th>last_value</th>\n",
       "    </tr>\n",
       "  </thead>\n",
       "  <tbody>\n",
       "    <tr>\n",
       "      <th>0</th>\n",
       "      <td>40</td>\n",
       "      <td>2008-10-01 05:23:11</td>\n",
       "    </tr>\n",
       "    <tr>\n",
       "      <th>1</th>\n",
       "      <td>40</td>\n",
       "      <td>2008-10-01 06:21:00</td>\n",
       "    </tr>\n",
       "    <tr>\n",
       "      <th>2</th>\n",
       "      <td>40</td>\n",
       "      <td>2008-10-01 06:35:08</td>\n",
       "    </tr>\n",
       "    <tr>\n",
       "      <th>3</th>\n",
       "      <td>40</td>\n",
       "      <td>2008-10-01 09:16:35</td>\n",
       "    </tr>\n",
       "    <tr>\n",
       "      <th>4</th>\n",
       "      <td>40</td>\n",
       "      <td>2008-10-01 10:59:31</td>\n",
       "    </tr>\n",
       "    <tr>\n",
       "      <th>...</th>\n",
       "      <td>...</td>\n",
       "      <td>...</td>\n",
       "    </tr>\n",
       "    <tr>\n",
       "      <th>435</th>\n",
       "      <td>44</td>\n",
       "      <td>2008-10-31 17:41:20</td>\n",
       "    </tr>\n",
       "    <tr>\n",
       "      <th>436</th>\n",
       "      <td>44</td>\n",
       "      <td>2008-10-31 20:22:25</td>\n",
       "    </tr>\n",
       "    <tr>\n",
       "      <th>437</th>\n",
       "      <td>44</td>\n",
       "      <td>2008-10-31 20:50:12</td>\n",
       "    </tr>\n",
       "    <tr>\n",
       "      <th>438</th>\n",
       "      <td>44</td>\n",
       "      <td>2008-10-31 21:54:56</td>\n",
       "    </tr>\n",
       "    <tr>\n",
       "      <th>439</th>\n",
       "      <td>44</td>\n",
       "      <td>2008-10-31 22:16:01</td>\n",
       "    </tr>\n",
       "  </tbody>\n",
       "</table>\n",
       "<p>440 rows × 2 columns</p>\n",
       "</div>"
      ],
      "text/plain": [
       "     week          last_value\n",
       "0      40 2008-10-01 05:23:11\n",
       "1      40 2008-10-01 06:21:00\n",
       "2      40 2008-10-01 06:35:08\n",
       "3      40 2008-10-01 09:16:35\n",
       "4      40 2008-10-01 10:59:31\n",
       "..    ...                 ...\n",
       "435    44 2008-10-31 17:41:20\n",
       "436    44 2008-10-31 20:22:25\n",
       "437    44 2008-10-31 20:50:12\n",
       "438    44 2008-10-31 21:54:56\n",
       "439    44 2008-10-31 22:16:01\n",
       "\n",
       "[440 rows x 2 columns]"
      ]
     },
     "execution_count": 33,
     "metadata": {},
     "output_type": "execute_result"
    }
   ],
   "source": [
    "query = '''\n",
    "WITH tab AS (\n",
    "SELECT user_id, \n",
    "       COUNT(*)\n",
    "FROM stackoverflow.posts\n",
    "GROUP BY user_id\n",
    "ORDER BY count DESC\n",
    "LIMIT 1),\n",
    "\n",
    "tab1 AS (\n",
    "SELECT DATE_PART('week', creation_date)::int AS week, \n",
    "       creation_date AS date\n",
    "FROM stackoverflow.posts\n",
    "WHERE user_id IN (SELECT user_id\n",
    "                   FROM tab) AND DATE_TRUNC('month', creation_date) = '2008-10-01'\n",
    ")\n",
    "\n",
    "SELECT DISTINCT week, \n",
    "       LAST_VALUE(date) OVER (PARTITION BY week ORDER BY date)\n",
    "FROM tab1\n",
    "ORDER BY week\n",
    "'''\n",
    "\n",
    "# выполните запрос\n",
    "sample_df = pd.read_sql_query(query, con=engine) \n",
    "sample_df"
   ]
  },
  {
   "cell_type": "code",
   "execution_count": 34,
   "metadata": {},
   "outputs": [
    {
     "data": {
      "text/html": [
       "<div>\n",
       "<style scoped>\n",
       "    .dataframe tbody tr th:only-of-type {\n",
       "        vertical-align: middle;\n",
       "    }\n",
       "\n",
       "    .dataframe tbody tr th {\n",
       "        vertical-align: top;\n",
       "    }\n",
       "\n",
       "    .dataframe thead th {\n",
       "        text-align: right;\n",
       "    }\n",
       "</style>\n",
       "<table border=\"1\" class=\"dataframe\">\n",
       "  <thead>\n",
       "    <tr style=\"text-align: right;\">\n",
       "      <th></th>\n",
       "      <th>week_creation</th>\n",
       "      <th>creation_date</th>\n",
       "    </tr>\n",
       "  </thead>\n",
       "  <tbody>\n",
       "    <tr>\n",
       "      <th>0</th>\n",
       "      <td>40.0</td>\n",
       "      <td>2008-10-05 08:16:26</td>\n",
       "    </tr>\n",
       "    <tr>\n",
       "      <th>1</th>\n",
       "      <td>41.0</td>\n",
       "      <td>2008-10-12 21:22:23</td>\n",
       "    </tr>\n",
       "    <tr>\n",
       "      <th>2</th>\n",
       "      <td>42.0</td>\n",
       "      <td>2008-10-19 06:49:30</td>\n",
       "    </tr>\n",
       "    <tr>\n",
       "      <th>3</th>\n",
       "      <td>43.0</td>\n",
       "      <td>2008-10-26 20:51:12</td>\n",
       "    </tr>\n",
       "    <tr>\n",
       "      <th>4</th>\n",
       "      <td>44.0</td>\n",
       "      <td>2008-10-31 22:16:01</td>\n",
       "    </tr>\n",
       "  </tbody>\n",
       "</table>\n",
       "</div>"
      ],
      "text/plain": [
       "   week_creation       creation_date\n",
       "0           40.0 2008-10-05 08:16:26\n",
       "1           41.0 2008-10-12 21:22:23\n",
       "2           42.0 2008-10-19 06:49:30\n",
       "3           43.0 2008-10-26 20:51:12\n",
       "4           44.0 2008-10-31 22:16:01"
      ]
     },
     "execution_count": 34,
     "metadata": {},
     "output_type": "execute_result"
    }
   ],
   "source": [
    "#КОД РЕВЬЮЕРА\n",
    "query = '''\n",
    "WITH f AS\n",
    "(SELECT user_id\n",
    "FROM stackoverflow.posts\n",
    "GROUP BY user_id\n",
    "ORDER BY COUNT(id) DESC\n",
    "LIMIT 1)\n",
    "\n",
    "SELECT DISTINCT(EXTRACT(WEEK FROM creation_date)) AS week_creation,\n",
    "       LAST_VALUE(creation_date) OVER(ORDER BY (EXTRACT(WEEK FROM creation_date))) AS creation_date\n",
    "FROM stackoverflow.posts\n",
    "WHERE user_id IN (SELECT user_id FROM f) AND  DATE_TRUNC('month', creation_date) = '2008-10-01'\n",
    "\n",
    "'''\n",
    "\n",
    "# выполните запрос\n",
    "sample_df = pd.read_sql_query(query, con=engine) \n",
    "sample_df"
   ]
  },
  {
   "attachments": {},
   "cell_type": "markdown",
   "metadata": {
    "id": "KAcmxvLgDWLR"
   },
   "source": [
    "<details>\n",
    "\n",
    "<summary>Подсказка</summary>\n",
    "Декомпозируйте задачу:\n",
    "1) Найдите пользователя, который опубликовал больше всего постов. 2) Найдите дату и время создания каждого поста этого пользователя и номер недели. \n",
    "3) Отобразите данные только о последних постах пользователя. Для этого можно использовать оконную функцию.\n",
    "</details>"
   ]
  }
 ],
 "metadata": {
  "ExecuteTimeLog": [
   {
    "duration": 840,
    "start_time": "2023-02-11T09:05:14.879Z"
   },
   {
    "duration": 3,
    "start_time": "2023-02-11T09:05:15.832Z"
   },
   {
    "duration": 5238,
    "start_time": "2023-02-11T09:05:23.272Z"
   },
   {
    "duration": 216,
    "start_time": "2023-02-11T09:05:29.640Z"
   },
   {
    "duration": 14,
    "start_time": "2023-02-11T09:05:30.078Z"
   },
   {
    "duration": 166,
    "start_time": "2023-02-11T09:39:47.322Z"
   },
   {
    "duration": 96,
    "start_time": "2023-02-11T09:40:12.459Z"
   },
   {
    "duration": 66,
    "start_time": "2023-02-11T09:40:33.535Z"
   },
   {
    "duration": 6,
    "start_time": "2023-02-11T09:40:39.398Z"
   },
   {
    "duration": 149,
    "start_time": "2023-02-11T09:41:11.206Z"
   },
   {
    "duration": 68,
    "start_time": "2023-02-11T09:41:23.759Z"
   },
   {
    "duration": 5,
    "start_time": "2023-02-11T09:41:25.849Z"
   },
   {
    "duration": 668,
    "start_time": "2023-02-11T09:41:36.241Z"
   },
   {
    "duration": 9,
    "start_time": "2023-02-11T09:41:38.026Z"
   },
   {
    "duration": 115,
    "start_time": "2023-02-11T09:42:01.415Z"
   },
   {
    "duration": 6,
    "start_time": "2023-02-11T09:42:02.633Z"
   },
   {
    "duration": 114,
    "start_time": "2023-02-11T09:42:16.373Z"
   },
   {
    "duration": 6,
    "start_time": "2023-02-11T09:42:16.831Z"
   },
   {
    "duration": 101,
    "start_time": "2023-02-11T09:42:42.363Z"
   },
   {
    "duration": 7,
    "start_time": "2023-02-11T09:42:42.951Z"
   },
   {
    "duration": 114,
    "start_time": "2023-02-11T09:42:48.872Z"
   },
   {
    "duration": 6,
    "start_time": "2023-02-11T09:42:49.682Z"
   },
   {
    "duration": 103,
    "start_time": "2023-02-11T09:43:42.578Z"
   },
   {
    "duration": 103,
    "start_time": "2023-02-11T09:43:47.873Z"
   },
   {
    "duration": 143,
    "start_time": "2023-02-11T09:43:57.044Z"
   },
   {
    "duration": 134,
    "start_time": "2023-02-11T09:44:07.076Z"
   },
   {
    "duration": 132,
    "start_time": "2023-02-11T09:44:36.459Z"
   },
   {
    "duration": 114,
    "start_time": "2023-02-11T09:44:58.326Z"
   },
   {
    "duration": 6,
    "start_time": "2023-02-11T09:44:58.840Z"
   },
   {
    "duration": 11,
    "start_time": "2023-02-11T09:46:21.151Z"
   },
   {
    "duration": 142,
    "start_time": "2023-02-11T09:46:48.492Z"
   },
   {
    "duration": 9,
    "start_time": "2023-02-11T09:47:00.093Z"
   },
   {
    "duration": 39,
    "start_time": "2023-02-11T09:55:30.938Z"
   },
   {
    "duration": 6,
    "start_time": "2023-02-11T09:55:35.617Z"
   },
   {
    "duration": 108,
    "start_time": "2023-02-11T09:57:03.960Z"
   },
   {
    "duration": 100,
    "start_time": "2023-02-11T09:57:17.786Z"
   },
   {
    "duration": 97,
    "start_time": "2023-02-11T09:58:40.770Z"
   },
   {
    "duration": 98,
    "start_time": "2023-02-11T09:59:23.566Z"
   },
   {
    "duration": 221,
    "start_time": "2023-02-11T10:00:10.478Z"
   },
   {
    "duration": 9,
    "start_time": "2023-02-11T10:00:16.078Z"
   },
   {
    "duration": 98,
    "start_time": "2023-02-11T10:02:07.918Z"
   },
   {
    "duration": 97,
    "start_time": "2023-02-11T10:02:50.981Z"
   },
   {
    "duration": 662,
    "start_time": "2023-02-11T10:03:34.274Z"
   },
   {
    "duration": 8,
    "start_time": "2023-02-11T10:03:37.836Z"
   },
   {
    "duration": 641,
    "start_time": "2023-02-11T10:03:54.130Z"
   },
   {
    "duration": 10,
    "start_time": "2023-02-11T10:03:55.891Z"
   },
   {
    "duration": 675,
    "start_time": "2023-02-11T10:04:02.124Z"
   },
   {
    "duration": 13,
    "start_time": "2023-02-11T10:04:02.801Z"
   },
   {
    "duration": 90,
    "start_time": "2023-02-11T10:04:49.491Z"
   },
   {
    "duration": 566,
    "start_time": "2023-02-11T10:05:34.230Z"
   },
   {
    "duration": 11,
    "start_time": "2023-02-11T10:05:35.404Z"
   },
   {
    "duration": 349,
    "start_time": "2023-02-11T10:06:06.037Z"
   },
   {
    "duration": 8,
    "start_time": "2023-02-11T10:06:06.820Z"
   },
   {
    "duration": 2,
    "start_time": "2023-02-11T10:12:23.542Z"
   },
   {
    "duration": 101,
    "start_time": "2023-02-11T10:12:31.287Z"
   },
   {
    "duration": 99,
    "start_time": "2023-02-11T10:12:41.675Z"
   },
   {
    "duration": 176,
    "start_time": "2023-02-11T10:13:02.681Z"
   },
   {
    "duration": 6,
    "start_time": "2023-02-11T10:13:07.682Z"
   },
   {
    "duration": 160,
    "start_time": "2023-02-11T10:13:25.943Z"
   },
   {
    "duration": 6,
    "start_time": "2023-02-11T10:13:26.444Z"
   },
   {
    "duration": 109,
    "start_time": "2023-02-11T10:20:37.667Z"
   },
   {
    "duration": 97,
    "start_time": "2023-02-11T10:20:58.219Z"
   },
   {
    "duration": 99,
    "start_time": "2023-02-11T10:21:36.566Z"
   },
   {
    "duration": 115,
    "start_time": "2023-02-11T10:22:30.727Z"
   },
   {
    "duration": 1111,
    "start_time": "2023-02-11T10:22:46.037Z"
   },
   {
    "duration": 12,
    "start_time": "2023-02-11T10:22:50.968Z"
   },
   {
    "duration": 97,
    "start_time": "2023-02-11T10:23:45.609Z"
   },
   {
    "duration": 1065,
    "start_time": "2023-02-11T10:23:50.874Z"
   },
   {
    "duration": 14,
    "start_time": "2023-02-11T10:23:51.941Z"
   },
   {
    "duration": 1060,
    "start_time": "2023-02-11T10:23:55.966Z"
   },
   {
    "duration": 12,
    "start_time": "2023-02-11T10:23:57.028Z"
   },
   {
    "duration": 103,
    "start_time": "2023-02-11T10:24:26.031Z"
   },
   {
    "duration": 56,
    "start_time": "2023-02-11T10:24:40.468Z"
   },
   {
    "duration": 7,
    "start_time": "2023-02-11T10:24:41.826Z"
   },
   {
    "duration": 1119,
    "start_time": "2023-02-11T10:24:55.391Z"
   },
   {
    "duration": 11,
    "start_time": "2023-02-11T10:24:56.512Z"
   },
   {
    "duration": 98,
    "start_time": "2023-02-11T10:33:11.474Z"
   },
   {
    "duration": 130,
    "start_time": "2023-02-11T10:33:17.809Z"
   },
   {
    "duration": 7,
    "start_time": "2023-02-11T10:33:22.982Z"
   },
   {
    "duration": 170,
    "start_time": "2023-02-11T12:29:31.497Z"
   },
   {
    "duration": 11,
    "start_time": "2023-02-11T12:29:32.898Z"
   },
   {
    "duration": 104,
    "start_time": "2023-02-11T12:30:52.240Z"
   },
   {
    "duration": 209,
    "start_time": "2023-02-11T12:31:04.018Z"
   },
   {
    "duration": 11,
    "start_time": "2023-02-11T12:31:05.356Z"
   },
   {
    "duration": 111,
    "start_time": "2023-02-11T12:31:17.016Z"
   },
   {
    "duration": 162,
    "start_time": "2023-02-11T12:31:29.991Z"
   },
   {
    "duration": 8,
    "start_time": "2023-02-11T12:31:33.210Z"
   },
   {
    "duration": 123,
    "start_time": "2023-02-11T12:33:55.766Z"
   },
   {
    "duration": 213,
    "start_time": "2023-02-11T12:34:09.784Z"
   },
   {
    "duration": 91,
    "start_time": "2023-02-11T12:34:40.922Z"
   },
   {
    "duration": 129,
    "start_time": "2023-02-11T12:37:56.457Z"
   },
   {
    "duration": 7,
    "start_time": "2023-02-11T12:37:58.159Z"
   },
   {
    "duration": 91,
    "start_time": "2023-02-11T12:38:16.810Z"
   },
   {
    "duration": 8,
    "start_time": "2023-02-11T12:38:18.293Z"
   },
   {
    "duration": 91,
    "start_time": "2023-02-11T12:38:34.299Z"
   },
   {
    "duration": 9,
    "start_time": "2023-02-11T12:38:34.873Z"
   },
   {
    "duration": 103,
    "start_time": "2023-02-11T12:39:20.413Z"
   },
   {
    "duration": 90,
    "start_time": "2023-02-11T12:39:31.384Z"
   },
   {
    "duration": 9,
    "start_time": "2023-02-11T12:39:33.301Z"
   },
   {
    "duration": 90,
    "start_time": "2023-02-11T12:39:53.459Z"
   },
   {
    "duration": 9,
    "start_time": "2023-02-11T12:39:54.243Z"
   },
   {
    "duration": 111,
    "start_time": "2023-02-11T12:40:13.037Z"
   },
   {
    "duration": 10,
    "start_time": "2023-02-11T12:40:13.551Z"
   },
   {
    "duration": 95,
    "start_time": "2023-02-11T12:41:31.814Z"
   },
   {
    "duration": 11,
    "start_time": "2023-02-11T12:41:38.937Z"
   },
   {
    "duration": 96,
    "start_time": "2023-02-11T12:42:57.490Z"
   },
   {
    "duration": 8,
    "start_time": "2023-02-11T12:42:58.071Z"
   },
   {
    "duration": 85,
    "start_time": "2023-02-11T12:43:11.291Z"
   },
   {
    "duration": 8,
    "start_time": "2023-02-11T12:43:11.965Z"
   },
   {
    "duration": 107,
    "start_time": "2023-02-11T12:44:11.438Z"
   },
   {
    "duration": 10,
    "start_time": "2023-02-11T12:44:11.916Z"
   },
   {
    "duration": 87,
    "start_time": "2023-02-11T12:44:30.676Z"
   },
   {
    "duration": 8,
    "start_time": "2023-02-11T12:44:31.316Z"
   },
   {
    "duration": 108,
    "start_time": "2023-02-11T12:44:47.976Z"
   },
   {
    "duration": 8,
    "start_time": "2023-02-11T12:44:48.567Z"
   },
   {
    "duration": 86,
    "start_time": "2023-02-11T12:44:57.340Z"
   },
   {
    "duration": 8,
    "start_time": "2023-02-11T12:44:57.959Z"
   },
   {
    "duration": 87,
    "start_time": "2023-02-11T12:46:03.730Z"
   },
   {
    "duration": 9,
    "start_time": "2023-02-11T12:46:04.287Z"
   },
   {
    "duration": 85,
    "start_time": "2023-02-11T12:46:42.558Z"
   },
   {
    "duration": 8,
    "start_time": "2023-02-11T12:46:43.074Z"
   },
   {
    "duration": 66,
    "start_time": "2023-02-11T12:48:44.456Z"
   },
   {
    "duration": 8,
    "start_time": "2023-02-11T12:48:45.172Z"
   },
   {
    "duration": 78,
    "start_time": "2023-02-11T12:49:17.799Z"
   },
   {
    "duration": 7,
    "start_time": "2023-02-11T12:49:18.219Z"
   },
   {
    "duration": 3,
    "start_time": "2023-02-11T12:53:39.824Z"
   },
   {
    "duration": 159,
    "start_time": "2023-02-11T12:53:46.205Z"
   },
   {
    "duration": 9,
    "start_time": "2023-02-11T12:53:50.843Z"
   },
   {
    "duration": 88,
    "start_time": "2023-02-11T12:55:08.767Z"
   },
   {
    "duration": 8,
    "start_time": "2023-02-11T12:55:09.341Z"
   },
   {
    "duration": 101,
    "start_time": "2023-02-11T12:57:13.662Z"
   },
   {
    "duration": 7,
    "start_time": "2023-02-11T12:57:14.222Z"
   },
   {
    "duration": 178,
    "start_time": "2023-02-11T12:57:42.746Z"
   },
   {
    "duration": 8,
    "start_time": "2023-02-11T12:57:43.307Z"
   },
   {
    "duration": 107,
    "start_time": "2023-02-11T12:57:48.177Z"
   },
   {
    "duration": 8,
    "start_time": "2023-02-11T12:57:48.787Z"
   },
   {
    "duration": 98,
    "start_time": "2023-02-11T12:58:06.559Z"
   },
   {
    "duration": 95,
    "start_time": "2023-02-11T12:58:20.972Z"
   },
   {
    "duration": 9,
    "start_time": "2023-02-11T12:58:21.533Z"
   },
   {
    "duration": 135,
    "start_time": "2023-02-11T12:58:30.300Z"
   },
   {
    "duration": 7,
    "start_time": "2023-02-11T12:58:30.872Z"
   },
   {
    "duration": 86,
    "start_time": "2023-02-11T12:58:38.924Z"
   },
   {
    "duration": 10,
    "start_time": "2023-02-11T12:58:39.269Z"
   },
   {
    "duration": 84,
    "start_time": "2023-02-11T12:58:54.608Z"
   },
   {
    "duration": 12,
    "start_time": "2023-02-11T12:58:55.238Z"
   },
   {
    "duration": 97,
    "start_time": "2023-02-11T12:58:59.782Z"
   },
   {
    "duration": 12,
    "start_time": "2023-02-11T12:59:00.389Z"
   },
   {
    "duration": 101,
    "start_time": "2023-02-11T13:00:23.456Z"
   },
   {
    "duration": 109,
    "start_time": "2023-02-11T13:00:31.773Z"
   },
   {
    "duration": 11,
    "start_time": "2023-02-11T13:00:32.509Z"
   },
   {
    "duration": 60,
    "start_time": "2023-02-11T13:00:42.711Z"
   },
   {
    "duration": 6,
    "start_time": "2023-02-11T13:00:43.454Z"
   },
   {
    "duration": 105,
    "start_time": "2023-02-11T13:00:50.391Z"
   },
   {
    "duration": 61,
    "start_time": "2023-02-11T13:01:21.448Z"
   },
   {
    "duration": 7,
    "start_time": "2023-02-11T13:01:22.436Z"
   },
   {
    "duration": 948,
    "start_time": "2023-02-12T00:06:32.500Z"
   },
   {
    "duration": 4,
    "start_time": "2023-02-12T00:06:33.451Z"
   },
   {
    "duration": 3,
    "start_time": "2023-02-12T00:12:30.282Z"
   },
   {
    "duration": 4,
    "start_time": "2023-02-12T00:12:31.631Z"
   },
   {
    "duration": 87,
    "start_time": "2023-02-12T00:12:41.607Z"
   },
   {
    "duration": 9,
    "start_time": "2023-02-12T00:12:42.019Z"
   },
   {
    "duration": 8,
    "start_time": "2023-02-12T00:12:47.919Z"
   },
   {
    "duration": 7,
    "start_time": "2023-02-12T00:12:51.346Z"
   },
   {
    "duration": 5484,
    "start_time": "2023-02-12T00:12:51.903Z"
   },
   {
    "duration": 245,
    "start_time": "2023-02-12T00:12:57.390Z"
   },
   {
    "duration": 18,
    "start_time": "2023-02-12T00:13:01.244Z"
   },
   {
    "duration": 64,
    "start_time": "2023-02-12T00:13:07.800Z"
   },
   {
    "duration": 8,
    "start_time": "2023-02-12T00:13:08.436Z"
   },
   {
    "duration": 62,
    "start_time": "2023-02-12T00:14:06.349Z"
   },
   {
    "duration": 13,
    "start_time": "2023-02-12T00:14:06.940Z"
   },
   {
    "duration": 60,
    "start_time": "2023-02-12T00:14:19.502Z"
   },
   {
    "duration": 7,
    "start_time": "2023-02-12T00:14:20.025Z"
   },
   {
    "duration": 73,
    "start_time": "2023-02-12T00:14:25.978Z"
   },
   {
    "duration": 8,
    "start_time": "2023-02-12T00:14:26.421Z"
   },
   {
    "duration": 66,
    "start_time": "2023-02-12T00:15:08.087Z"
   },
   {
    "duration": 7,
    "start_time": "2023-02-12T00:15:08.652Z"
   },
   {
    "duration": 68,
    "start_time": "2023-02-12T00:15:15.383Z"
   },
   {
    "duration": 7,
    "start_time": "2023-02-12T00:15:15.773Z"
   },
   {
    "duration": 116,
    "start_time": "2023-02-12T00:17:29.683Z"
   },
   {
    "duration": 110,
    "start_time": "2023-02-12T00:17:39.989Z"
   },
   {
    "duration": 1090,
    "start_time": "2023-02-12T00:17:54.572Z"
   },
   {
    "duration": 11,
    "start_time": "2023-02-12T00:17:55.664Z"
   },
   {
    "duration": 129,
    "start_time": "2023-02-12T00:18:24.235Z"
   },
   {
    "duration": 14,
    "start_time": "2023-02-12T00:18:24.775Z"
   },
   {
    "duration": 1069,
    "start_time": "2023-02-12T00:18:32.857Z"
   },
   {
    "duration": 25,
    "start_time": "2023-02-12T00:18:33.929Z"
   },
   {
    "duration": 1307,
    "start_time": "2023-02-12T00:21:12.593Z"
   },
   {
    "duration": 9,
    "start_time": "2023-02-12T00:21:13.903Z"
   },
   {
    "duration": 1202,
    "start_time": "2023-02-12T00:21:46.910Z"
   },
   {
    "duration": 13,
    "start_time": "2023-02-12T00:21:48.115Z"
   },
   {
    "duration": 107,
    "start_time": "2023-02-12T00:22:34.134Z"
   },
   {
    "duration": 116,
    "start_time": "2023-02-12T00:23:35.105Z"
   },
   {
    "duration": 122,
    "start_time": "2023-02-12T00:25:50.928Z"
   },
   {
    "duration": 10,
    "start_time": "2023-02-12T00:25:51.676Z"
   },
   {
    "duration": 127,
    "start_time": "2023-02-12T00:26:08.288Z"
   },
   {
    "duration": 107,
    "start_time": "2023-02-12T00:26:48.965Z"
   },
   {
    "duration": 104,
    "start_time": "2023-02-12T00:27:29.085Z"
   },
   {
    "duration": 1092,
    "start_time": "2023-02-12T00:30:17.056Z"
   },
   {
    "duration": 12,
    "start_time": "2023-02-12T00:30:26.464Z"
   },
   {
    "duration": 1137,
    "start_time": "2023-02-12T00:33:50.360Z"
   },
   {
    "duration": 11,
    "start_time": "2023-02-12T00:33:51.499Z"
   },
   {
    "duration": 101,
    "start_time": "2023-02-12T00:34:30.927Z"
   },
   {
    "duration": 12,
    "start_time": "2023-02-12T00:34:31.532Z"
   },
   {
    "duration": 110,
    "start_time": "2023-02-12T00:35:39.518Z"
   },
   {
    "duration": 1196,
    "start_time": "2023-02-12T00:35:46.278Z"
   },
   {
    "duration": 11,
    "start_time": "2023-02-12T00:35:47.476Z"
   },
   {
    "duration": 1339,
    "start_time": "2023-02-12T00:35:58.350Z"
   },
   {
    "duration": 11,
    "start_time": "2023-02-12T00:35:59.691Z"
   },
   {
    "duration": 1346,
    "start_time": "2023-02-12T00:36:23.579Z"
   },
   {
    "duration": 10,
    "start_time": "2023-02-12T00:36:24.927Z"
   },
   {
    "duration": 1355,
    "start_time": "2023-02-12T00:37:15.935Z"
   },
   {
    "duration": 12,
    "start_time": "2023-02-12T00:37:17.292Z"
   },
   {
    "duration": 109,
    "start_time": "2023-02-12T00:48:03.029Z"
   },
   {
    "duration": 965,
    "start_time": "2023-02-12T00:48:09.479Z"
   },
   {
    "duration": 10,
    "start_time": "2023-02-12T00:48:12.865Z"
   },
   {
    "duration": 400,
    "start_time": "2023-02-12T00:48:27.590Z"
   },
   {
    "duration": 13,
    "start_time": "2023-02-12T00:48:28.370Z"
   },
   {
    "duration": 106,
    "start_time": "2023-02-12T00:49:25.209Z"
   },
   {
    "duration": 104,
    "start_time": "2023-02-12T00:49:46.061Z"
   },
   {
    "duration": 99,
    "start_time": "2023-02-12T00:50:15.509Z"
   },
   {
    "duration": 102,
    "start_time": "2023-02-12T00:50:32.547Z"
   },
   {
    "duration": 400,
    "start_time": "2023-02-12T00:50:58.882Z"
   },
   {
    "duration": 10,
    "start_time": "2023-02-12T00:51:00.576Z"
   },
   {
    "duration": 120,
    "start_time": "2023-02-12T00:51:16.234Z"
   },
   {
    "duration": 10,
    "start_time": "2023-02-12T00:51:16.822Z"
   },
   {
    "duration": 1195,
    "start_time": "2023-02-12T00:52:50.608Z"
   },
   {
    "duration": 10,
    "start_time": "2023-02-12T00:52:51.806Z"
   },
   {
    "duration": 117,
    "start_time": "2023-02-12T00:54:56.395Z"
   },
   {
    "duration": 10,
    "start_time": "2023-02-12T00:54:56.976Z"
   },
   {
    "duration": 97,
    "start_time": "2023-02-12T00:55:08.432Z"
   },
   {
    "duration": 100,
    "start_time": "2023-02-12T00:55:38.741Z"
   },
   {
    "duration": 12,
    "start_time": "2023-02-12T00:55:39.327Z"
   },
   {
    "duration": 109,
    "start_time": "2023-02-12T00:56:35.233Z"
   },
   {
    "duration": 1125,
    "start_time": "2023-02-12T00:56:47.254Z"
   },
   {
    "duration": 12,
    "start_time": "2023-02-12T00:56:48.382Z"
   },
   {
    "duration": 95,
    "start_time": "2023-02-12T01:08:48.784Z"
   },
   {
    "duration": 104,
    "start_time": "2023-02-12T01:08:55.256Z"
   },
   {
    "duration": 1068,
    "start_time": "2023-02-12T01:09:24.791Z"
   },
   {
    "duration": 8,
    "start_time": "2023-02-12T01:09:25.861Z"
   },
   {
    "duration": 1022,
    "start_time": "2023-02-12T01:09:48.045Z"
   },
   {
    "duration": 10,
    "start_time": "2023-02-12T01:09:49.069Z"
   },
   {
    "duration": 1370,
    "start_time": "2023-02-12T01:10:17.513Z"
   },
   {
    "duration": 10,
    "start_time": "2023-02-12T01:10:18.885Z"
   },
   {
    "duration": 1189,
    "start_time": "2023-02-12T01:10:30.390Z"
   },
   {
    "duration": 10,
    "start_time": "2023-02-12T01:10:31.581Z"
   },
   {
    "duration": 1264,
    "start_time": "2023-02-12T01:10:47.330Z"
   },
   {
    "duration": 10,
    "start_time": "2023-02-12T01:10:48.596Z"
   },
   {
    "duration": 97,
    "start_time": "2023-02-12T01:13:22.740Z"
   },
   {
    "duration": 10,
    "start_time": "2023-02-12T01:13:23.360Z"
   },
   {
    "duration": 1432,
    "start_time": "2023-02-12T01:13:31.706Z"
   },
   {
    "duration": 11,
    "start_time": "2023-02-12T01:13:33.140Z"
   },
   {
    "duration": 1550,
    "start_time": "2023-02-12T01:14:04.180Z"
   },
   {
    "duration": 12,
    "start_time": "2023-02-12T01:14:05.732Z"
   },
   {
    "duration": 636,
    "start_time": "2023-02-12T01:14:23.768Z"
   },
   {
    "duration": 13,
    "start_time": "2023-02-12T01:14:24.406Z"
   },
   {
    "duration": 115,
    "start_time": "2023-02-12T01:30:24.893Z"
   },
   {
    "duration": 12,
    "start_time": "2023-02-12T01:30:25.463Z"
   },
   {
    "duration": 96,
    "start_time": "2023-02-12T01:30:32.424Z"
   },
   {
    "duration": 11,
    "start_time": "2023-02-12T01:30:32.948Z"
   },
   {
    "duration": 477,
    "start_time": "2023-02-12T01:30:38.489Z"
   },
   {
    "duration": 11,
    "start_time": "2023-02-12T01:30:38.968Z"
   },
   {
    "duration": 397,
    "start_time": "2023-02-12T01:36:48.839Z"
   },
   {
    "duration": 11,
    "start_time": "2023-02-12T01:36:49.370Z"
   },
   {
    "duration": 1470,
    "start_time": "2023-02-12T01:37:27.413Z"
   },
   {
    "duration": 10,
    "start_time": "2023-02-12T01:37:28.885Z"
   },
   {
    "duration": 459,
    "start_time": "2023-02-12T01:37:47.534Z"
   },
   {
    "duration": 10,
    "start_time": "2023-02-12T01:37:48.063Z"
   },
   {
    "duration": 101,
    "start_time": "2023-02-12T01:41:07.804Z"
   },
   {
    "duration": 87,
    "start_time": "2023-02-12T01:41:30.158Z"
   },
   {
    "duration": 8,
    "start_time": "2023-02-12T01:41:35.227Z"
   },
   {
    "duration": 93,
    "start_time": "2023-02-12T01:41:44.969Z"
   },
   {
    "duration": 7,
    "start_time": "2023-02-12T01:41:45.398Z"
   },
   {
    "duration": 37,
    "start_time": "2023-02-12T01:43:00.720Z"
   },
   {
    "duration": 6,
    "start_time": "2023-02-12T01:43:01.376Z"
   },
   {
    "duration": 88,
    "start_time": "2023-02-12T01:43:10.496Z"
   },
   {
    "duration": 7,
    "start_time": "2023-02-12T01:43:10.700Z"
   },
   {
    "duration": 101,
    "start_time": "2023-02-12T01:44:21.154Z"
   },
   {
    "duration": 90,
    "start_time": "2023-02-12T01:44:31.110Z"
   },
   {
    "duration": 9,
    "start_time": "2023-02-12T01:44:31.775Z"
   },
   {
    "duration": 87,
    "start_time": "2023-02-12T01:48:40.419Z"
   },
   {
    "duration": 9,
    "start_time": "2023-02-12T01:48:40.983Z"
   },
   {
    "duration": 89,
    "start_time": "2023-02-12T01:48:53.910Z"
   },
   {
    "duration": 8,
    "start_time": "2023-02-12T01:48:54.434Z"
   },
   {
    "duration": 89,
    "start_time": "2023-02-12T01:49:15.303Z"
   },
   {
    "duration": 9,
    "start_time": "2023-02-12T01:49:16.082Z"
   },
   {
    "duration": 87,
    "start_time": "2023-02-12T01:49:34.416Z"
   },
   {
    "duration": 8,
    "start_time": "2023-02-12T01:49:34.795Z"
   },
   {
    "duration": 87,
    "start_time": "2023-02-12T01:50:28.798Z"
   },
   {
    "duration": 11,
    "start_time": "2023-02-12T01:50:29.086Z"
   },
   {
    "duration": 110,
    "start_time": "2023-02-12T01:51:08.829Z"
   },
   {
    "duration": 10,
    "start_time": "2023-02-12T01:51:09.220Z"
   },
   {
    "duration": 90,
    "start_time": "2023-02-12T01:51:19.614Z"
   },
   {
    "duration": 11,
    "start_time": "2023-02-12T01:51:20.238Z"
   },
   {
    "duration": 90,
    "start_time": "2023-02-12T01:51:25.742Z"
   },
   {
    "duration": 9,
    "start_time": "2023-02-12T01:51:26.229Z"
   },
   {
    "duration": 95,
    "start_time": "2023-02-12T01:52:15.736Z"
   },
   {
    "duration": 10,
    "start_time": "2023-02-12T01:52:16.172Z"
   },
   {
    "duration": 88,
    "start_time": "2023-02-12T01:52:33.330Z"
   },
   {
    "duration": 10,
    "start_time": "2023-02-12T01:52:33.912Z"
   },
   {
    "duration": 858,
    "start_time": "2023-02-15T08:27:04.606Z"
   },
   {
    "duration": 4,
    "start_time": "2023-02-15T08:27:06.584Z"
   },
   {
    "duration": 7865,
    "start_time": "2023-02-15T08:27:09.107Z"
   },
   {
    "duration": 90,
    "start_time": "2023-02-15T08:27:16.975Z"
   },
   {
    "duration": 15,
    "start_time": "2023-02-15T08:27:17.067Z"
   },
   {
    "duration": 86,
    "start_time": "2023-02-15T08:29:00.864Z"
   },
   {
    "duration": 8,
    "start_time": "2023-02-15T08:29:01.628Z"
   },
   {
    "duration": 149,
    "start_time": "2023-02-15T08:29:09.114Z"
   },
   {
    "duration": 128,
    "start_time": "2023-02-15T08:47:54.636Z"
   },
   {
    "duration": 8,
    "start_time": "2023-02-15T08:48:00.467Z"
   },
   {
    "duration": 130,
    "start_time": "2023-02-15T08:48:18.385Z"
   },
   {
    "duration": 7,
    "start_time": "2023-02-15T08:48:18.862Z"
   },
   {
    "duration": 748,
    "start_time": "2023-02-15T08:53:34.956Z"
   },
   {
    "duration": 7,
    "start_time": "2023-02-15T08:53:35.759Z"
   },
   {
    "duration": 124,
    "start_time": "2023-02-15T08:53:45.572Z"
   },
   {
    "duration": 7,
    "start_time": "2023-02-15T08:53:47.104Z"
   },
   {
    "duration": 207,
    "start_time": "2023-02-15T08:55:24.216Z"
   },
   {
    "duration": 124,
    "start_time": "2023-02-15T08:55:34.031Z"
   },
   {
    "duration": 3743,
    "start_time": "2023-02-15T08:55:43.062Z"
   },
   {
    "duration": 22,
    "start_time": "2023-02-15T08:55:54.274Z"
   },
   {
    "duration": 2231,
    "start_time": "2023-02-15T08:57:07.302Z"
   },
   {
    "duration": 12,
    "start_time": "2023-02-15T08:57:09.535Z"
   },
   {
    "duration": 2204,
    "start_time": "2023-02-15T08:57:36.810Z"
   },
   {
    "duration": 10,
    "start_time": "2023-02-15T08:57:39.016Z"
   },
   {
    "duration": 2110,
    "start_time": "2023-02-15T08:58:05.411Z"
   },
   {
    "duration": 8,
    "start_time": "2023-02-15T08:58:07.522Z"
   },
   {
    "duration": 2144,
    "start_time": "2023-02-15T08:58:54.360Z"
   },
   {
    "duration": 10,
    "start_time": "2023-02-15T08:58:56.507Z"
   },
   {
    "duration": 94,
    "start_time": "2023-02-15T09:00:13.865Z"
   },
   {
    "duration": 13,
    "start_time": "2023-02-15T09:00:14.459Z"
   },
   {
    "duration": 60,
    "start_time": "2023-02-15T09:20:02.205Z"
   },
   {
    "duration": 14,
    "start_time": "2023-02-15T09:20:02.697Z"
   },
   {
    "duration": 60,
    "start_time": "2023-02-15T09:21:40.174Z"
   },
   {
    "duration": 9,
    "start_time": "2023-02-15T09:21:40.659Z"
   },
   {
    "duration": 166,
    "start_time": "2023-02-15T09:22:43.978Z"
   },
   {
    "duration": 11,
    "start_time": "2023-02-15T09:22:44.377Z"
   },
   {
    "duration": 102,
    "start_time": "2023-02-15T09:23:07.214Z"
   },
   {
    "duration": 134,
    "start_time": "2023-02-15T09:23:25.747Z"
   },
   {
    "duration": 63,
    "start_time": "2023-02-15T09:23:28.702Z"
   },
   {
    "duration": 12,
    "start_time": "2023-02-15T09:23:29.437Z"
   },
   {
    "duration": 87,
    "start_time": "2023-02-15T09:24:10.210Z"
   },
   {
    "duration": 7,
    "start_time": "2023-02-15T09:24:10.622Z"
   },
   {
    "duration": 61,
    "start_time": "2023-02-15T09:24:23.159Z"
   },
   {
    "duration": 11,
    "start_time": "2023-02-15T09:24:23.798Z"
   },
   {
    "duration": 117,
    "start_time": "2023-02-15T09:25:52.869Z"
   },
   {
    "duration": 9,
    "start_time": "2023-02-15T09:25:53.261Z"
   },
   {
    "duration": 59,
    "start_time": "2023-02-15T09:26:23.873Z"
   },
   {
    "duration": 8,
    "start_time": "2023-02-15T09:26:25.024Z"
   },
   {
    "duration": 58,
    "start_time": "2023-02-15T09:27:07.646Z"
   },
   {
    "duration": 10,
    "start_time": "2023-02-15T09:27:08.380Z"
   },
   {
    "duration": 70,
    "start_time": "2023-02-15T09:27:40.782Z"
   },
   {
    "duration": 7,
    "start_time": "2023-02-15T09:27:41.129Z"
   },
   {
    "duration": 11,
    "start_time": "2023-02-15T09:28:22.551Z"
   },
   {
    "duration": 14,
    "start_time": "2023-02-15T09:28:40.781Z"
   },
   {
    "duration": 272,
    "start_time": "2023-02-15T09:29:01.232Z"
   },
   {
    "duration": 187,
    "start_time": "2023-02-15T09:29:10.494Z"
   },
   {
    "duration": 221,
    "start_time": "2023-02-15T09:29:25.886Z"
   },
   {
    "duration": 326,
    "start_time": "2023-02-15T09:29:31.612Z"
   },
   {
    "duration": 160,
    "start_time": "2023-02-15T09:32:14.865Z"
   },
   {
    "duration": 9,
    "start_time": "2023-02-15T09:32:19.681Z"
   },
   {
    "duration": 100,
    "start_time": "2023-02-15T09:32:26.930Z"
   },
   {
    "duration": 12,
    "start_time": "2023-02-15T09:32:27.364Z"
   },
   {
    "duration": 63,
    "start_time": "2023-02-15T09:32:39.625Z"
   },
   {
    "duration": 11,
    "start_time": "2023-02-15T09:32:41.037Z"
   },
   {
    "duration": 100,
    "start_time": "2023-02-15T09:34:02.386Z"
   },
   {
    "duration": 1421,
    "start_time": "2023-02-15T09:34:38.216Z"
   },
   {
    "duration": 20,
    "start_time": "2023-02-15T09:34:40.720Z"
   },
   {
    "duration": 103,
    "start_time": "2023-02-15T09:35:00.331Z"
   },
   {
    "duration": 135,
    "start_time": "2023-02-15T09:36:00.916Z"
   },
   {
    "duration": 68,
    "start_time": "2023-02-15T09:36:06.307Z"
   },
   {
    "duration": 6,
    "start_time": "2023-02-15T09:36:06.446Z"
   },
   {
    "duration": 69,
    "start_time": "2023-02-15T09:37:05.610Z"
   },
   {
    "duration": 190,
    "start_time": "2023-02-15T09:40:22.424Z"
   },
   {
    "duration": 63,
    "start_time": "2023-02-15T09:40:36.519Z"
   },
   {
    "duration": 5,
    "start_time": "2023-02-15T09:40:46.270Z"
   },
   {
    "duration": 101,
    "start_time": "2023-02-15T09:41:06.566Z"
   },
   {
    "duration": 93,
    "start_time": "2023-02-15T09:41:47.492Z"
   },
   {
    "duration": 19,
    "start_time": "2023-02-15T09:41:48.258Z"
   },
   {
    "duration": 95,
    "start_time": "2023-02-15T09:49:06.572Z"
   },
   {
    "duration": 9,
    "start_time": "2023-02-15T09:49:07.301Z"
   },
   {
    "duration": 110,
    "start_time": "2023-02-15T09:49:15.201Z"
   },
   {
    "duration": 8,
    "start_time": "2023-02-15T09:49:15.831Z"
   },
   {
    "duration": 98,
    "start_time": "2023-02-15T09:50:07.970Z"
   },
   {
    "duration": 21,
    "start_time": "2023-02-15T09:50:08.387Z"
   },
   {
    "duration": 97,
    "start_time": "2023-02-15T09:51:03.439Z"
   },
   {
    "duration": 11,
    "start_time": "2023-02-15T09:51:04.256Z"
   },
   {
    "duration": 95,
    "start_time": "2023-02-15T09:51:41.984Z"
   },
   {
    "duration": 10,
    "start_time": "2023-02-15T09:51:42.568Z"
   },
   {
    "duration": 93,
    "start_time": "2023-02-15T09:53:43.380Z"
   },
   {
    "duration": 10,
    "start_time": "2023-02-15T09:53:48.403Z"
   },
   {
    "duration": 99,
    "start_time": "2023-02-15T09:54:37.176Z"
   },
   {
    "duration": 13,
    "start_time": "2023-02-15T09:54:38.258Z"
   },
   {
    "duration": 93,
    "start_time": "2023-02-15T09:58:06.864Z"
   },
   {
    "duration": 8,
    "start_time": "2023-02-15T09:58:07.458Z"
   },
   {
    "duration": 95,
    "start_time": "2023-02-15T09:59:12.970Z"
   },
   {
    "duration": 11,
    "start_time": "2023-02-15T09:59:13.660Z"
   },
   {
    "duration": 85,
    "start_time": "2023-02-15T10:01:05.857Z"
   },
   {
    "duration": 10,
    "start_time": "2023-02-15T10:01:06.375Z"
   },
   {
    "duration": 97,
    "start_time": "2023-02-15T10:01:18.194Z"
   },
   {
    "duration": 11,
    "start_time": "2023-02-15T10:01:18.759Z"
   },
   {
    "duration": 97,
    "start_time": "2023-02-15T10:01:30.087Z"
   },
   {
    "duration": 10,
    "start_time": "2023-02-15T10:01:30.513Z"
   },
   {
    "duration": 95,
    "start_time": "2023-02-15T10:02:05.379Z"
   },
   {
    "duration": 10,
    "start_time": "2023-02-15T10:02:06.246Z"
   },
   {
    "duration": 96,
    "start_time": "2023-02-15T10:02:10.642Z"
   },
   {
    "duration": 10,
    "start_time": "2023-02-15T10:02:11.168Z"
   },
   {
    "duration": 104,
    "start_time": "2023-02-15T10:02:24.526Z"
   },
   {
    "duration": 10,
    "start_time": "2023-02-15T10:02:25.275Z"
   },
   {
    "duration": 95,
    "start_time": "2023-02-15T10:02:34.552Z"
   },
   {
    "duration": 10,
    "start_time": "2023-02-15T10:02:35.161Z"
   },
   {
    "duration": 9,
    "start_time": "2023-02-15T10:03:03.421Z"
   },
   {
    "duration": 94,
    "start_time": "2023-02-15T10:04:26.889Z"
   },
   {
    "duration": 91,
    "start_time": "2023-02-15T10:04:27.455Z"
   },
   {
    "duration": 10,
    "start_time": "2023-02-15T10:04:33.430Z"
   },
   {
    "duration": 95,
    "start_time": "2023-02-15T10:28:40.148Z"
   },
   {
    "duration": 12,
    "start_time": "2023-02-15T10:28:40.671Z"
   },
   {
    "duration": 95,
    "start_time": "2023-02-15T10:28:52.420Z"
   },
   {
    "duration": 10,
    "start_time": "2023-02-15T10:28:53.048Z"
   },
   {
    "duration": 95,
    "start_time": "2023-02-15T10:29:02.229Z"
   },
   {
    "duration": 11,
    "start_time": "2023-02-15T10:29:05.162Z"
   },
   {
    "duration": 100,
    "start_time": "2023-02-15T10:30:25.638Z"
   },
   {
    "duration": 10,
    "start_time": "2023-02-15T10:30:26.224Z"
   },
   {
    "duration": 413,
    "start_time": "2023-02-15T10:30:33.190Z"
   },
   {
    "duration": 11,
    "start_time": "2023-02-15T10:30:33.609Z"
   },
   {
    "duration": 96,
    "start_time": "2023-02-15T10:30:50.526Z"
   },
   {
    "duration": 9,
    "start_time": "2023-02-15T10:30:50.877Z"
   },
   {
    "duration": 96,
    "start_time": "2023-02-15T10:30:57.789Z"
   },
   {
    "duration": 11,
    "start_time": "2023-02-15T10:30:58.136Z"
   },
   {
    "duration": 375,
    "start_time": "2023-02-15T10:32:02.792Z"
   },
   {
    "duration": 10,
    "start_time": "2023-02-15T10:32:03.175Z"
   },
   {
    "duration": 92,
    "start_time": "2023-02-15T10:36:04.871Z"
   },
   {
    "duration": 97,
    "start_time": "2023-02-15T10:36:14.133Z"
   },
   {
    "duration": 885,
    "start_time": "2023-02-15T10:36:32.535Z"
   },
   {
    "duration": 9,
    "start_time": "2023-02-15T10:36:33.422Z"
   },
   {
    "duration": 107,
    "start_time": "2023-02-15T10:36:49.029Z"
   },
   {
    "duration": 9,
    "start_time": "2023-02-15T10:36:49.633Z"
   },
   {
    "duration": 825,
    "start_time": "2023-02-15T10:36:57.096Z"
   },
   {
    "duration": 9,
    "start_time": "2023-02-15T10:36:57.923Z"
   },
   {
    "duration": 296,
    "start_time": "2023-02-15T10:37:05.367Z"
   },
   {
    "duration": 11,
    "start_time": "2023-02-15T10:37:05.975Z"
   },
   {
    "duration": 86,
    "start_time": "2023-02-15T10:39:59.400Z"
   },
   {
    "duration": 9,
    "start_time": "2023-02-15T10:39:59.952Z"
   },
   {
    "duration": 685,
    "start_time": "2023-02-15T10:40:27.512Z"
   },
   {
    "duration": 10,
    "start_time": "2023-02-15T10:40:28.551Z"
   },
   {
    "duration": 338,
    "start_time": "2023-02-15T10:40:45.393Z"
   },
   {
    "duration": 10,
    "start_time": "2023-02-15T10:40:46.145Z"
   },
   {
    "duration": 495,
    "start_time": "2023-02-15T10:41:12.348Z"
   },
   {
    "duration": 10,
    "start_time": "2023-02-15T10:41:13.125Z"
   },
   {
    "duration": 123,
    "start_time": "2023-02-15T10:42:20.470Z"
   },
   {
    "duration": 427,
    "start_time": "2023-02-15T10:42:25.874Z"
   },
   {
    "duration": 10,
    "start_time": "2023-02-15T10:42:26.509Z"
   },
   {
    "duration": 85,
    "start_time": "2023-02-15T10:43:25.445Z"
   },
   {
    "duration": 492,
    "start_time": "2023-02-15T10:43:31.558Z"
   },
   {
    "duration": 9,
    "start_time": "2023-02-15T10:43:32.182Z"
   },
   {
    "duration": 136,
    "start_time": "2023-02-15T10:45:36.331Z"
   },
   {
    "duration": 373,
    "start_time": "2023-02-15T10:46:03.774Z"
   },
   {
    "duration": 8,
    "start_time": "2023-02-15T10:46:04.901Z"
   },
   {
    "duration": 937,
    "start_time": "2023-02-16T04:37:16.265Z"
   },
   {
    "duration": 4,
    "start_time": "2023-02-16T04:37:17.205Z"
   },
   {
    "duration": 5855,
    "start_time": "2023-02-16T04:37:19.946Z"
   },
   {
    "duration": 276,
    "start_time": "2023-02-16T04:37:25.803Z"
   },
   {
    "duration": 18,
    "start_time": "2023-02-16T04:37:26.081Z"
   },
   {
    "duration": 118,
    "start_time": "2023-02-16T04:37:26.101Z"
   },
   {
    "duration": 8,
    "start_time": "2023-02-16T04:37:26.221Z"
   },
   {
    "duration": 157,
    "start_time": "2023-02-16T04:37:26.231Z"
   },
   {
    "duration": 179,
    "start_time": "2023-02-16T04:42:19.074Z"
   },
   {
    "duration": 2332,
    "start_time": "2023-02-16T04:42:28.066Z"
   },
   {
    "duration": 28,
    "start_time": "2023-02-16T04:42:34.379Z"
   },
   {
    "duration": 104,
    "start_time": "2023-02-16T04:49:15.742Z"
   },
   {
    "duration": 99,
    "start_time": "2023-02-16T04:49:54.515Z"
   },
   {
    "duration": 2749,
    "start_time": "2023-02-16T04:50:44.189Z"
   },
   {
    "duration": 199,
    "start_time": "2023-02-16T04:50:46.941Z"
   },
   {
    "duration": 108,
    "start_time": "2023-02-16T04:51:19.270Z"
   },
   {
    "duration": 2589,
    "start_time": "2023-02-16T04:51:31.056Z"
   },
   {
    "duration": 184,
    "start_time": "2023-02-16T04:51:33.647Z"
   },
   {
    "duration": 2530,
    "start_time": "2023-02-16T04:51:42.282Z"
   },
   {
    "duration": 179,
    "start_time": "2023-02-16T04:51:44.814Z"
   },
   {
    "duration": 118,
    "start_time": "2023-02-16T04:52:53.112Z"
   },
   {
    "duration": 619,
    "start_time": "2023-02-16T04:53:09.219Z"
   },
   {
    "duration": 9,
    "start_time": "2023-02-16T04:53:10.070Z"
   },
   {
    "duration": 832,
    "start_time": "2023-02-16T05:14:50.814Z"
   },
   {
    "duration": 9,
    "start_time": "2023-02-16T05:14:51.649Z"
   },
   {
    "duration": 111,
    "start_time": "2023-02-16T05:15:43.276Z"
   },
   {
    "duration": 313,
    "start_time": "2023-02-16T05:15:58.196Z"
   },
   {
    "duration": 10,
    "start_time": "2023-02-16T05:15:58.914Z"
   },
   {
    "duration": 95,
    "start_time": "2023-02-16T05:16:24.109Z"
   },
   {
    "duration": 97,
    "start_time": "2023-02-16T05:16:55.792Z"
   },
   {
    "duration": 115,
    "start_time": "2023-02-16T05:17:01.648Z"
   },
   {
    "duration": 785,
    "start_time": "2023-02-16T05:17:19.936Z"
   },
   {
    "duration": 16,
    "start_time": "2023-02-16T05:17:20.723Z"
   },
   {
    "duration": 416,
    "start_time": "2023-02-16T05:17:38.130Z"
   },
   {
    "duration": 11,
    "start_time": "2023-02-16T05:17:38.780Z"
   },
   {
    "duration": 410,
    "start_time": "2023-02-16T05:17:53.131Z"
   },
   {
    "duration": 10,
    "start_time": "2023-02-16T05:17:53.711Z"
   },
   {
    "duration": 99,
    "start_time": "2023-02-16T05:18:09.953Z"
   },
   {
    "duration": 238,
    "start_time": "2023-02-16T05:18:52.089Z"
   },
   {
    "duration": 13,
    "start_time": "2023-02-16T05:18:53.072Z"
   },
   {
    "duration": 233,
    "start_time": "2023-02-16T05:19:13.371Z"
   },
   {
    "duration": 9,
    "start_time": "2023-02-16T05:19:14.749Z"
   },
   {
    "duration": 248,
    "start_time": "2023-02-16T05:19:39.820Z"
   },
   {
    "duration": 10,
    "start_time": "2023-02-16T05:19:40.508Z"
   },
   {
    "duration": 172,
    "start_time": "2023-02-16T05:21:39.668Z"
   },
   {
    "duration": 11,
    "start_time": "2023-02-16T05:21:40.615Z"
   },
   {
    "duration": 396,
    "start_time": "2023-02-16T05:25:16.671Z"
   },
   {
    "duration": 6,
    "start_time": "2023-02-16T05:25:17.640Z"
   },
   {
    "duration": 547,
    "start_time": "2023-02-16T05:26:00.461Z"
   },
   {
    "duration": 392,
    "start_time": "2023-02-16T05:27:28.399Z"
   },
   {
    "duration": 7,
    "start_time": "2023-02-16T05:27:28.824Z"
   },
   {
    "duration": 99,
    "start_time": "2023-02-16T05:28:38.185Z"
   },
   {
    "duration": 7,
    "start_time": "2023-02-16T05:28:38.610Z"
   },
   {
    "duration": 96,
    "start_time": "2023-02-16T05:29:09.891Z"
   },
   {
    "duration": 94,
    "start_time": "2023-02-16T05:29:13.017Z"
   },
   {
    "duration": 103,
    "start_time": "2023-02-16T05:29:40.169Z"
   },
   {
    "duration": 106,
    "start_time": "2023-02-16T05:30:01.463Z"
   },
   {
    "duration": 587,
    "start_time": "2023-02-16T05:30:17.588Z"
   },
   {
    "duration": 9,
    "start_time": "2023-02-16T05:30:19.331Z"
   },
   {
    "duration": 537,
    "start_time": "2023-02-16T05:30:27.647Z"
   },
   {
    "duration": 8,
    "start_time": "2023-02-16T05:30:28.321Z"
   },
   {
    "duration": 418,
    "start_time": "2023-02-16T05:30:44.090Z"
   },
   {
    "duration": 9,
    "start_time": "2023-02-16T05:30:44.619Z"
   },
   {
    "duration": 396,
    "start_time": "2023-02-16T05:31:08.695Z"
   },
   {
    "duration": 7,
    "start_time": "2023-02-16T05:31:09.167Z"
   },
   {
    "duration": 97,
    "start_time": "2023-02-16T05:33:48.880Z"
   },
   {
    "duration": 94,
    "start_time": "2023-02-16T05:33:55.633Z"
   },
   {
    "duration": 101,
    "start_time": "2023-02-16T05:34:08.181Z"
   },
   {
    "duration": 409,
    "start_time": "2023-02-16T05:34:16.826Z"
   },
   {
    "duration": 8,
    "start_time": "2023-02-16T05:34:17.927Z"
   },
   {
    "duration": 1623,
    "start_time": "2023-02-16T05:35:40.105Z"
   },
   {
    "duration": 7,
    "start_time": "2023-02-16T05:35:41.730Z"
   },
   {
    "duration": 402,
    "start_time": "2023-02-16T05:36:04.617Z"
   },
   {
    "duration": 8,
    "start_time": "2023-02-16T05:36:05.184Z"
   },
   {
    "duration": 636,
    "start_time": "2023-02-16T05:40:28.026Z"
   },
   {
    "duration": 102,
    "start_time": "2023-02-16T05:43:07.948Z"
   },
   {
    "duration": 460,
    "start_time": "2023-02-16T05:45:44.219Z"
   },
   {
    "duration": 116,
    "start_time": "2023-02-16T05:46:26.829Z"
   },
   {
    "duration": 556,
    "start_time": "2023-02-16T05:46:38.123Z"
   },
   {
    "duration": 106,
    "start_time": "2023-02-16T05:46:44.923Z"
   },
   {
    "duration": 363,
    "start_time": "2023-02-16T05:47:20.742Z"
   },
   {
    "duration": 369,
    "start_time": "2023-02-16T06:09:47.724Z"
   },
   {
    "duration": 376,
    "start_time": "2023-02-16T06:10:59.772Z"
   },
   {
    "duration": 385,
    "start_time": "2023-02-16T06:12:24.291Z"
   },
   {
    "duration": 111,
    "start_time": "2023-02-16T06:15:01.307Z"
   },
   {
    "duration": 117,
    "start_time": "2023-02-16T06:15:08.681Z"
   },
   {
    "duration": 103,
    "start_time": "2023-02-16T06:15:48.000Z"
   },
   {
    "duration": 98,
    "start_time": "2023-02-16T06:16:09.225Z"
   },
   {
    "duration": 98,
    "start_time": "2023-02-16T06:16:16.798Z"
   },
   {
    "duration": 109,
    "start_time": "2023-02-16T06:16:27.433Z"
   },
   {
    "duration": 552,
    "start_time": "2023-02-16T06:16:38.636Z"
   },
   {
    "duration": 712,
    "start_time": "2023-02-16T06:17:17.881Z"
   },
   {
    "duration": 110,
    "start_time": "2023-02-16T06:18:05.126Z"
   },
   {
    "duration": 562,
    "start_time": "2023-02-16T06:18:32.230Z"
   },
   {
    "duration": 376,
    "start_time": "2023-02-16T06:18:44.120Z"
   },
   {
    "duration": 105,
    "start_time": "2023-02-16T06:19:28.893Z"
   },
   {
    "duration": 382,
    "start_time": "2023-02-16T06:19:50.628Z"
   },
   {
    "duration": 233,
    "start_time": "2023-02-16T06:20:03.639Z"
   },
   {
    "duration": 382,
    "start_time": "2023-02-16T06:20:12.641Z"
   },
   {
    "duration": 101,
    "start_time": "2023-02-16T06:21:41.820Z"
   },
   {
    "duration": 93,
    "start_time": "2023-02-16T06:22:11.812Z"
   },
   {
    "duration": 372,
    "start_time": "2023-02-16T06:22:19.975Z"
   },
   {
    "duration": 368,
    "start_time": "2023-02-16T06:22:38.979Z"
   },
   {
    "duration": 387,
    "start_time": "2023-02-16T06:26:20.655Z"
   },
   {
    "duration": 380,
    "start_time": "2023-02-16T06:26:58.485Z"
   },
   {
    "duration": 384,
    "start_time": "2023-02-16T06:27:17.403Z"
   },
   {
    "duration": 101,
    "start_time": "2023-02-16T06:27:34.460Z"
   },
   {
    "duration": 384,
    "start_time": "2023-02-16T06:28:03.760Z"
   },
   {
    "duration": 393,
    "start_time": "2023-02-16T06:28:31.552Z"
   },
   {
    "duration": 113,
    "start_time": "2023-02-16T06:28:39.820Z"
   },
   {
    "duration": 100,
    "start_time": "2023-02-16T06:30:20.547Z"
   },
   {
    "duration": 376,
    "start_time": "2023-02-16T06:30:43.255Z"
   },
   {
    "duration": 109,
    "start_time": "2023-02-16T06:30:56.280Z"
   },
   {
    "duration": 120,
    "start_time": "2023-02-16T06:31:24.982Z"
   },
   {
    "duration": 375,
    "start_time": "2023-02-16T06:31:34.069Z"
   },
   {
    "duration": 406,
    "start_time": "2023-02-16T06:32:08.358Z"
   },
   {
    "duration": 620,
    "start_time": "2023-02-16T06:34:52.896Z"
   },
   {
    "duration": 14,
    "start_time": "2023-02-16T06:35:41.396Z"
   },
   {
    "duration": 10,
    "start_time": "2023-02-16T06:35:45.243Z"
   },
   {
    "duration": 4,
    "start_time": "2023-02-16T06:35:57.904Z"
   },
   {
    "duration": 9,
    "start_time": "2023-02-16T06:36:25.857Z"
   },
   {
    "duration": 10,
    "start_time": "2023-02-16T06:36:42.331Z"
   },
   {
    "duration": 10,
    "start_time": "2023-02-16T06:36:51.687Z"
   },
   {
    "duration": 6,
    "start_time": "2023-02-16T06:36:57.628Z"
   },
   {
    "duration": 6,
    "start_time": "2023-02-16T06:37:08.147Z"
   },
   {
    "duration": 6,
    "start_time": "2023-02-16T06:37:31.156Z"
   },
   {
    "duration": 6,
    "start_time": "2023-02-16T06:38:05.389Z"
   },
   {
    "duration": 8,
    "start_time": "2023-02-16T06:38:11.401Z"
   },
   {
    "duration": 15,
    "start_time": "2023-02-16T06:38:16.660Z"
   },
   {
    "duration": 17,
    "start_time": "2023-02-16T06:39:42.012Z"
   },
   {
    "duration": 13,
    "start_time": "2023-02-16T06:39:54.347Z"
   },
   {
    "duration": 36,
    "start_time": "2023-02-16T06:40:10.139Z"
   },
   {
    "duration": 18,
    "start_time": "2023-02-16T06:40:35.591Z"
   },
   {
    "duration": 380,
    "start_time": "2023-02-16T06:41:25.928Z"
   },
   {
    "duration": 17,
    "start_time": "2023-02-16T06:41:30.041Z"
   },
   {
    "duration": 412,
    "start_time": "2023-02-16T06:41:50.453Z"
   },
   {
    "duration": 5,
    "start_time": "2023-02-16T06:42:47.369Z"
   },
   {
    "duration": 376,
    "start_time": "2023-02-16T06:42:47.907Z"
   },
   {
    "duration": 364,
    "start_time": "2023-02-16T06:43:09.760Z"
   },
   {
    "duration": 133,
    "start_time": "2023-02-16T06:43:24.005Z"
   },
   {
    "duration": 130,
    "start_time": "2023-02-16T06:43:30.452Z"
   },
   {
    "duration": 585,
    "start_time": "2023-02-16T06:44:27.010Z"
   },
   {
    "duration": 99,
    "start_time": "2023-02-16T06:53:53.870Z"
   },
   {
    "duration": 136,
    "start_time": "2023-02-16T06:54:09.916Z"
   },
   {
    "duration": 13,
    "start_time": "2023-02-16T06:54:10.687Z"
   },
   {
    "duration": 137,
    "start_time": "2023-02-16T06:54:25.571Z"
   },
   {
    "duration": 10,
    "start_time": "2023-02-16T06:54:26.119Z"
   },
   {
    "duration": 119,
    "start_time": "2023-02-16T06:54:52.354Z"
   },
   {
    "duration": 124,
    "start_time": "2023-02-16T06:55:01.004Z"
   },
   {
    "duration": 8,
    "start_time": "2023-02-16T06:55:01.882Z"
   },
   {
    "duration": 118,
    "start_time": "2023-02-16T06:55:16.405Z"
   },
   {
    "duration": 104,
    "start_time": "2023-02-16T06:55:21.484Z"
   },
   {
    "duration": 126,
    "start_time": "2023-02-16T06:55:31.236Z"
   },
   {
    "duration": 123,
    "start_time": "2023-02-16T06:56:07.625Z"
   },
   {
    "duration": 10,
    "start_time": "2023-02-16T06:56:08.266Z"
   },
   {
    "duration": 101,
    "start_time": "2023-02-16T06:56:58.371Z"
   },
   {
    "duration": 131,
    "start_time": "2023-02-16T06:57:06.746Z"
   },
   {
    "duration": 12,
    "start_time": "2023-02-16T06:57:07.401Z"
   },
   {
    "duration": 133,
    "start_time": "2023-02-16T06:57:48.052Z"
   },
   {
    "duration": 10,
    "start_time": "2023-02-16T06:57:48.791Z"
   },
   {
    "duration": 125,
    "start_time": "2023-02-16T06:57:57.674Z"
   },
   {
    "duration": 8,
    "start_time": "2023-02-16T06:57:58.939Z"
   },
   {
    "duration": 98,
    "start_time": "2023-02-16T06:59:33.221Z"
   },
   {
    "duration": 8,
    "start_time": "2023-02-16T06:59:33.683Z"
   },
   {
    "duration": 130,
    "start_time": "2023-02-16T06:59:39.842Z"
   },
   {
    "duration": 8,
    "start_time": "2023-02-16T06:59:40.277Z"
   },
   {
    "duration": 158,
    "start_time": "2023-02-16T07:00:03.520Z"
   },
   {
    "duration": 12,
    "start_time": "2023-02-16T07:00:04.665Z"
   },
   {
    "duration": 121,
    "start_time": "2023-02-16T07:02:37.001Z"
   },
   {
    "duration": 11,
    "start_time": "2023-02-16T07:02:37.745Z"
   },
   {
    "duration": 120,
    "start_time": "2023-02-16T07:03:09.155Z"
   },
   {
    "duration": 7,
    "start_time": "2023-02-16T07:03:09.507Z"
   },
   {
    "duration": 122,
    "start_time": "2023-02-16T07:05:56.655Z"
   },
   {
    "duration": 8,
    "start_time": "2023-02-16T07:05:58.338Z"
   },
   {
    "duration": 103,
    "start_time": "2023-02-16T07:06:06.133Z"
   },
   {
    "duration": 120,
    "start_time": "2023-02-16T07:06:13.483Z"
   },
   {
    "duration": 7,
    "start_time": "2023-02-16T07:06:15.291Z"
   },
   {
    "duration": 123,
    "start_time": "2023-02-16T07:07:42.320Z"
   },
   {
    "duration": 124,
    "start_time": "2023-02-16T07:07:47.534Z"
   },
   {
    "duration": 49,
    "start_time": "2023-02-16T07:07:48.342Z"
   },
   {
    "duration": 5,
    "start_time": "2023-02-16T07:07:49.976Z"
   },
   {
    "duration": 123,
    "start_time": "2023-02-16T07:08:03.570Z"
   },
   {
    "duration": 7,
    "start_time": "2023-02-16T07:08:05.312Z"
   },
   {
    "duration": 141,
    "start_time": "2023-02-16T07:09:37.931Z"
   },
   {
    "duration": 172,
    "start_time": "2023-02-16T07:13:49.249Z"
   },
   {
    "duration": 12,
    "start_time": "2023-02-16T07:13:49.683Z"
   },
   {
    "duration": 9,
    "start_time": "2023-02-16T07:13:59.291Z"
   },
   {
    "duration": 9,
    "start_time": "2023-02-16T07:14:05.612Z"
   },
   {
    "duration": 12,
    "start_time": "2023-02-16T07:14:10.813Z"
   },
   {
    "duration": 9,
    "start_time": "2023-02-16T07:14:22.161Z"
   },
   {
    "duration": 7,
    "start_time": "2023-02-16T07:14:29.459Z"
   },
   {
    "duration": 14,
    "start_time": "2023-02-16T07:14:35.981Z"
   },
   {
    "duration": 12,
    "start_time": "2023-02-16T07:14:44.303Z"
   },
   {
    "duration": 17,
    "start_time": "2023-02-16T07:14:52.597Z"
   },
   {
    "duration": 8,
    "start_time": "2023-02-16T07:15:17.006Z"
   },
   {
    "duration": 2,
    "start_time": "2023-02-16T07:16:53.061Z"
   },
   {
    "duration": 1280,
    "start_time": "2023-02-16T07:18:30.144Z"
   },
   {
    "duration": 21,
    "start_time": "2023-02-16T07:18:31.429Z"
   },
   {
    "duration": 1355,
    "start_time": "2023-02-16T07:18:40.812Z"
   },
   {
    "duration": 12,
    "start_time": "2023-02-16T07:18:42.169Z"
   },
   {
    "duration": 765,
    "start_time": "2023-02-16T20:32:39.208Z"
   },
   {
    "duration": 4,
    "start_time": "2023-02-16T20:32:39.975Z"
   },
   {
    "duration": 4901,
    "start_time": "2023-02-16T20:32:39.980Z"
   },
   {
    "duration": 225,
    "start_time": "2023-02-16T20:32:44.884Z"
   },
   {
    "duration": 17,
    "start_time": "2023-02-16T20:32:45.111Z"
   },
   {
    "duration": 140,
    "start_time": "2023-02-16T20:32:45.130Z"
   },
   {
    "duration": 7,
    "start_time": "2023-02-16T20:32:45.272Z"
   },
   {
    "duration": 170,
    "start_time": "2023-02-16T20:32:45.280Z"
   },
   {
    "duration": 172,
    "start_time": "2023-02-16T20:32:45.452Z"
   },
   {
    "duration": 91,
    "start_time": "2023-02-16T20:32:45.627Z"
   },
   {
    "duration": 25,
    "start_time": "2023-02-16T20:32:45.719Z"
   },
   {
    "duration": 186,
    "start_time": "2023-02-16T20:32:45.746Z"
   },
   {
    "duration": 7,
    "start_time": "2023-02-16T20:32:45.934Z"
   },
   {
    "duration": 141,
    "start_time": "2023-02-16T20:32:45.942Z"
   },
   {
    "duration": 9,
    "start_time": "2023-02-16T20:32:46.085Z"
   },
   {
    "duration": 1186,
    "start_time": "2023-02-16T20:32:46.095Z"
   },
   {
    "duration": 13,
    "start_time": "2023-02-16T20:32:47.283Z"
   },
   {
    "duration": 99,
    "start_time": "2023-02-16T20:32:47.298Z"
   },
   {
    "duration": 7,
    "start_time": "2023-02-16T20:32:47.400Z"
   },
   {
    "duration": 86,
    "start_time": "2023-02-16T20:32:47.409Z"
   },
   {
    "duration": 5,
    "start_time": "2023-02-16T20:32:47.497Z"
   },
   {
    "duration": 1284,
    "start_time": "2023-02-16T20:32:47.504Z"
   },
   {
    "duration": 12,
    "start_time": "2023-02-16T20:32:48.790Z"
   },
   {
    "duration": 743,
    "start_time": "2023-02-16T20:32:48.804Z"
   },
   {
    "duration": 801,
    "start_time": "2023-02-16T20:32:49.548Z"
   },
   {
    "duration": 3,
    "start_time": "2023-02-16T20:32:50.351Z"
   },
   {
    "duration": 113,
    "start_time": "2023-02-16T20:32:50.355Z"
   },
   {
    "duration": 8,
    "start_time": "2023-02-16T20:32:50.471Z"
   },
   {
    "duration": 216,
    "start_time": "2023-02-16T20:32:50.480Z"
   },
   {
    "duration": 122,
    "start_time": "2023-02-16T20:32:50.698Z"
   },
   {
    "duration": 136,
    "start_time": "2023-02-16T20:32:50.822Z"
   },
   {
    "duration": 717,
    "start_time": "2023-02-16T20:33:09.734Z"
   },
   {
    "duration": 3,
    "start_time": "2023-02-16T20:33:10.453Z"
   },
   {
    "duration": 4930,
    "start_time": "2023-02-16T20:33:10.458Z"
   },
   {
    "duration": 224,
    "start_time": "2023-02-16T20:33:15.391Z"
   },
   {
    "duration": 14,
    "start_time": "2023-02-16T20:33:15.617Z"
   },
   {
    "duration": 112,
    "start_time": "2023-02-16T20:33:15.632Z"
   },
   {
    "duration": 6,
    "start_time": "2023-02-16T20:33:15.746Z"
   },
   {
    "duration": 169,
    "start_time": "2023-02-16T20:33:15.754Z"
   },
   {
    "duration": 187,
    "start_time": "2023-02-16T20:33:15.925Z"
   },
   {
    "duration": 10,
    "start_time": "2023-02-16T20:33:16.115Z"
   },
   {
    "duration": 5,
    "start_time": "2023-02-16T20:33:16.127Z"
   },
   {
    "duration": 214,
    "start_time": "2023-02-16T20:33:16.133Z"
   },
   {
    "duration": 7,
    "start_time": "2023-02-16T20:33:16.349Z"
   },
   {
    "duration": 129,
    "start_time": "2023-02-16T20:33:16.357Z"
   },
   {
    "duration": 8,
    "start_time": "2023-02-16T20:33:16.488Z"
   },
   {
    "duration": 1174,
    "start_time": "2023-02-16T20:33:16.498Z"
   },
   {
    "duration": 13,
    "start_time": "2023-02-16T20:33:17.674Z"
   },
   {
    "duration": 66,
    "start_time": "2023-02-16T20:33:17.689Z"
   },
   {
    "duration": 9,
    "start_time": "2023-02-16T20:33:17.757Z"
   },
   {
    "duration": 63,
    "start_time": "2023-02-16T20:33:17.768Z"
   },
   {
    "duration": 6,
    "start_time": "2023-02-16T20:33:17.833Z"
   },
   {
    "duration": 1360,
    "start_time": "2023-02-16T20:33:17.841Z"
   },
   {
    "duration": 11,
    "start_time": "2023-02-16T20:33:19.202Z"
   },
   {
    "duration": 394,
    "start_time": "2023-02-16T20:33:19.215Z"
   },
   {
    "duration": 887,
    "start_time": "2023-02-16T20:33:19.610Z"
   },
   {
    "duration": 3,
    "start_time": "2023-02-16T20:33:20.498Z"
   },
   {
    "duration": 104,
    "start_time": "2023-02-16T20:33:20.502Z"
   },
   {
    "duration": 7,
    "start_time": "2023-02-16T20:33:20.609Z"
   },
   {
    "duration": 214,
    "start_time": "2023-02-16T20:33:20.618Z"
   },
   {
    "duration": 131,
    "start_time": "2023-02-16T20:33:20.834Z"
   },
   {
    "duration": 141,
    "start_time": "2023-02-16T20:33:20.967Z"
   },
   {
    "duration": 260,
    "start_time": "2023-02-16T20:52:44.352Z"
   },
   {
    "duration": 129,
    "start_time": "2023-02-16T20:53:13.778Z"
   },
   {
    "duration": 136,
    "start_time": "2023-02-16T20:56:45.228Z"
   },
   {
    "duration": 932,
    "start_time": "2023-02-17T04:45:15.416Z"
   },
   {
    "duration": 4,
    "start_time": "2023-02-17T04:45:16.351Z"
   },
   {
    "duration": 72,
    "start_time": "2023-02-17T04:46:26.676Z"
   },
   {
    "duration": 8,
    "start_time": "2023-02-17T04:46:27.502Z"
   },
   {
    "duration": 2,
    "start_time": "2023-02-17T04:46:31.257Z"
   },
   {
    "duration": 3,
    "start_time": "2023-02-17T04:46:31.891Z"
   },
   {
    "duration": 4727,
    "start_time": "2023-02-17T04:46:32.880Z"
   },
   {
    "duration": 207,
    "start_time": "2023-02-17T04:46:37.609Z"
   },
   {
    "duration": 13,
    "start_time": "2023-02-17T04:46:37.818Z"
   },
   {
    "duration": 123,
    "start_time": "2023-02-17T04:46:37.833Z"
   },
   {
    "duration": 6,
    "start_time": "2023-02-17T04:46:37.958Z"
   },
   {
    "duration": 146,
    "start_time": "2023-02-17T04:46:51.660Z"
   },
   {
    "duration": 193,
    "start_time": "2023-02-17T04:46:58.092Z"
   },
   {
    "duration": 152,
    "start_time": "2023-02-17T04:47:05.292Z"
   },
   {
    "duration": 144,
    "start_time": "2023-02-17T04:47:49.363Z"
   },
   {
    "duration": 180,
    "start_time": "2023-02-17T04:48:20.680Z"
   },
   {
    "duration": 10,
    "start_time": "2023-02-17T04:48:21.601Z"
   },
   {
    "duration": 103,
    "start_time": "2023-02-17T04:50:57.357Z"
   },
   {
    "duration": 1089,
    "start_time": "2023-02-17T04:51:20.174Z"
   },
   {
    "duration": 12,
    "start_time": "2023-02-17T04:51:21.266Z"
   },
   {
    "duration": 518,
    "start_time": "2023-02-17T04:53:50.377Z"
   },
   {
    "duration": 388,
    "start_time": "2023-02-17T04:53:55.444Z"
   },
   {
    "duration": 471,
    "start_time": "2023-02-17T04:53:57.283Z"
   },
   {
    "duration": 126,
    "start_time": "2023-02-17T04:55:55.989Z"
   },
   {
    "duration": 8,
    "start_time": "2023-02-17T04:55:56.768Z"
   },
   {
    "duration": 175,
    "start_time": "2023-02-17T04:56:20.527Z"
   },
   {
    "duration": 175,
    "start_time": "2023-02-17T04:56:58.663Z"
   },
   {
    "duration": 167,
    "start_time": "2023-02-17T05:05:47.865Z"
   },
   {
    "duration": 9,
    "start_time": "2023-02-17T05:05:48.357Z"
   },
   {
    "duration": 809,
    "start_time": "2023-02-17T21:39:12.022Z"
   },
   {
    "duration": 11,
    "start_time": "2023-02-17T21:39:12.833Z"
   },
   {
    "duration": 9421,
    "start_time": "2023-02-17T21:39:12.849Z"
   },
   {
    "duration": 45,
    "start_time": "2023-02-17T21:39:22.272Z"
   },
   {
    "duration": 18,
    "start_time": "2023-02-17T21:39:22.319Z"
   },
   {
    "duration": 127,
    "start_time": "2023-02-17T21:39:22.342Z"
   },
   {
    "duration": 8,
    "start_time": "2023-02-17T21:39:22.475Z"
   },
   {
    "duration": 204,
    "start_time": "2023-02-17T21:39:22.485Z"
   },
   {
    "duration": 141,
    "start_time": "2023-02-17T21:39:22.692Z"
   },
   {
    "duration": 77,
    "start_time": "2023-02-17T21:39:22.836Z"
   },
   {
    "duration": 3,
    "start_time": "2023-02-17T21:39:22.914Z"
   },
   {
    "duration": 158,
    "start_time": "2023-02-17T21:39:22.918Z"
   },
   {
    "duration": 8,
    "start_time": "2023-02-17T21:39:23.078Z"
   },
   {
    "duration": 98,
    "start_time": "2023-02-17T21:39:23.088Z"
   },
   {
    "duration": 11,
    "start_time": "2023-02-17T21:39:23.188Z"
   },
   {
    "duration": 1227,
    "start_time": "2023-02-17T21:39:23.200Z"
   },
   {
    "duration": 24,
    "start_time": "2023-02-17T21:39:24.429Z"
   },
   {
    "duration": 49,
    "start_time": "2023-02-17T21:39:24.457Z"
   },
   {
    "duration": 6,
    "start_time": "2023-02-17T21:39:24.508Z"
   },
   {
    "duration": 49,
    "start_time": "2023-02-17T21:39:24.516Z"
   },
   {
    "duration": 5,
    "start_time": "2023-02-17T21:39:24.567Z"
   },
   {
    "duration": 1275,
    "start_time": "2023-02-17T21:39:24.574Z"
   },
   {
    "duration": 14,
    "start_time": "2023-02-17T21:39:25.850Z"
   },
   {
    "duration": 379,
    "start_time": "2023-02-17T21:39:25.865Z"
   },
   {
    "duration": 776,
    "start_time": "2023-02-17T21:39:26.248Z"
   },
   {
    "duration": 2,
    "start_time": "2023-02-17T21:39:27.026Z"
   },
   {
    "duration": 129,
    "start_time": "2023-02-17T21:39:27.041Z"
   },
   {
    "duration": 7,
    "start_time": "2023-02-17T21:39:27.173Z"
   },
   {
    "duration": 190,
    "start_time": "2023-02-17T21:39:27.181Z"
   },
   {
    "duration": 103,
    "start_time": "2023-02-17T21:39:27.372Z"
   },
   {
    "duration": 101,
    "start_time": "2023-02-17T21:39:27.477Z"
   },
   {
    "duration": 98,
    "start_time": "2023-02-17T21:39:27.580Z"
   },
   {
    "duration": 14,
    "start_time": "2023-02-17T21:40:33.734Z"
   },
   {
    "duration": 141,
    "start_time": "2023-02-17T21:40:37.366Z"
   },
   {
    "duration": 8,
    "start_time": "2023-02-17T21:40:37.972Z"
   },
   {
    "duration": 138,
    "start_time": "2023-02-17T21:41:45.368Z"
   },
   {
    "duration": 8,
    "start_time": "2023-02-17T21:41:47.064Z"
   },
   {
    "duration": 9,
    "start_time": "2023-02-17T21:41:58.571Z"
   },
   {
    "duration": 143,
    "start_time": "2023-02-17T21:42:05.373Z"
   },
   {
    "duration": 11,
    "start_time": "2023-02-17T21:42:05.888Z"
   },
   {
    "duration": 931,
    "start_time": "2023-02-18T05:50:20.294Z"
   },
   {
    "duration": 4,
    "start_time": "2023-02-18T05:50:21.227Z"
   },
   {
    "duration": 7976,
    "start_time": "2023-02-18T05:50:21.232Z"
   },
   {
    "duration": 46,
    "start_time": "2023-02-18T05:50:29.210Z"
   },
   {
    "duration": 22,
    "start_time": "2023-02-18T05:50:29.258Z"
   },
   {
    "duration": 84,
    "start_time": "2023-02-18T05:50:29.283Z"
   },
   {
    "duration": 7,
    "start_time": "2023-02-18T05:50:29.370Z"
   },
   {
    "duration": 203,
    "start_time": "2023-02-18T05:50:29.379Z"
   },
   {
    "duration": 156,
    "start_time": "2023-02-18T05:50:29.588Z"
   },
   {
    "duration": 17,
    "start_time": "2023-02-18T05:50:29.747Z"
   },
   {
    "duration": 531,
    "start_time": "2023-02-18T05:50:29.769Z"
   },
   {
    "duration": 3,
    "start_time": "2023-02-18T05:50:30.302Z"
   },
   {
    "duration": 150,
    "start_time": "2023-02-18T05:50:30.307Z"
   },
   {
    "duration": 8,
    "start_time": "2023-02-18T05:50:30.459Z"
   },
   {
    "duration": 130,
    "start_time": "2023-02-18T05:50:30.468Z"
   },
   {
    "duration": 9,
    "start_time": "2023-02-18T05:50:30.600Z"
   },
   {
    "duration": 1235,
    "start_time": "2023-02-18T05:50:30.611Z"
   },
   {
    "duration": 15,
    "start_time": "2023-02-18T05:50:31.848Z"
   },
   {
    "duration": 57,
    "start_time": "2023-02-18T05:50:31.865Z"
   },
   {
    "duration": 7,
    "start_time": "2023-02-18T05:50:31.924Z"
   },
   {
    "duration": 57,
    "start_time": "2023-02-18T05:50:31.933Z"
   },
   {
    "duration": 7,
    "start_time": "2023-02-18T05:50:31.992Z"
   },
   {
    "duration": 1247,
    "start_time": "2023-02-18T05:50:32.001Z"
   },
   {
    "duration": 18,
    "start_time": "2023-02-18T05:50:33.252Z"
   },
   {
    "duration": 368,
    "start_time": "2023-02-18T05:50:33.272Z"
   },
   {
    "duration": 1028,
    "start_time": "2023-02-18T05:50:33.642Z"
   },
   {
    "duration": 3,
    "start_time": "2023-02-18T05:50:34.673Z"
   },
   {
    "duration": 100,
    "start_time": "2023-02-18T05:50:34.679Z"
   },
   {
    "duration": 8,
    "start_time": "2023-02-18T05:50:34.781Z"
   },
   {
    "duration": 184,
    "start_time": "2023-02-18T05:50:34.790Z"
   },
   {
    "duration": 101,
    "start_time": "2023-02-18T05:50:34.976Z"
   },
   {
    "duration": 104,
    "start_time": "2023-02-18T05:50:35.079Z"
   },
   {
    "duration": 99,
    "start_time": "2023-02-18T05:50:35.185Z"
   },
   {
    "duration": 545,
    "start_time": "2023-02-18T05:52:47.362Z"
   },
   {
    "duration": 539,
    "start_time": "2023-02-18T05:53:20.815Z"
   },
   {
    "duration": 550,
    "start_time": "2023-02-18T05:54:02.107Z"
   },
   {
    "duration": 152,
    "start_time": "2023-02-18T05:54:19.598Z"
   },
   {
    "duration": 15,
    "start_time": "2023-02-18T05:54:23.345Z"
   },
   {
    "duration": 542,
    "start_time": "2023-02-18T05:55:32.164Z"
   },
   {
    "duration": 162,
    "start_time": "2023-02-18T05:57:00.833Z"
   },
   {
    "duration": 148,
    "start_time": "2023-02-18T05:58:36.604Z"
   },
   {
    "duration": 146,
    "start_time": "2023-02-18T05:59:22.059Z"
   },
   {
    "duration": 13,
    "start_time": "2023-02-18T05:59:23.048Z"
   },
   {
    "duration": 158,
    "start_time": "2023-02-18T05:59:56.251Z"
   },
   {
    "duration": 161,
    "start_time": "2023-02-18T06:00:29.789Z"
   },
   {
    "duration": 171,
    "start_time": "2023-02-18T06:02:33.163Z"
   },
   {
    "duration": 207,
    "start_time": "2023-02-18T06:04:33.344Z"
   },
   {
    "duration": 82,
    "start_time": "2023-02-18T06:05:05.926Z"
   },
   {
    "duration": 83,
    "start_time": "2023-02-18T06:05:35.544Z"
   },
   {
    "duration": 134,
    "start_time": "2023-02-18T06:06:37.320Z"
   },
   {
    "duration": 182,
    "start_time": "2023-02-18T06:07:30.645Z"
   },
   {
    "duration": 85,
    "start_time": "2023-02-18T06:07:57.434Z"
   },
   {
    "duration": 163,
    "start_time": "2023-02-18T06:08:28.437Z"
   },
   {
    "duration": 141,
    "start_time": "2023-02-18T06:10:08.105Z"
   },
   {
    "duration": 104,
    "start_time": "2023-02-18T06:10:43.168Z"
   },
   {
    "duration": 158,
    "start_time": "2023-02-18T06:10:56.824Z"
   },
   {
    "duration": 14,
    "start_time": "2023-02-18T06:10:59.960Z"
   },
   {
    "duration": 553,
    "start_time": "2023-02-18T06:12:07.627Z"
   },
   {
    "duration": 694,
    "start_time": "2023-02-18T06:12:32.525Z"
   },
   {
    "duration": 604,
    "start_time": "2023-02-18T06:13:55.678Z"
   },
   {
    "duration": 603,
    "start_time": "2023-02-18T06:14:21.918Z"
   },
   {
    "duration": 542,
    "start_time": "2023-02-18T06:15:18.431Z"
   },
   {
    "duration": 561,
    "start_time": "2023-02-18T06:15:32.584Z"
   },
   {
    "duration": 724,
    "start_time": "2023-02-18T06:16:25.409Z"
   },
   {
    "duration": 458,
    "start_time": "2023-02-18T06:16:55.235Z"
   },
   {
    "duration": 655,
    "start_time": "2023-02-18T06:19:52.473Z"
   },
   {
    "duration": 535,
    "start_time": "2023-02-18T06:30:41.784Z"
   },
   {
    "duration": 548,
    "start_time": "2023-02-18T06:30:51.927Z"
   },
   {
    "duration": 151,
    "start_time": "2023-02-18T06:32:51.098Z"
   },
   {
    "duration": 11,
    "start_time": "2023-02-18T06:32:54.881Z"
   },
   {
    "duration": 136,
    "start_time": "2023-02-18T06:34:05.444Z"
   },
   {
    "duration": 10,
    "start_time": "2023-02-18T06:34:06.801Z"
   },
   {
    "duration": 47,
    "start_time": "2023-02-18T08:36:02.154Z"
   },
   {
    "duration": 3,
    "start_time": "2023-02-18T08:36:08.090Z"
   },
   {
    "duration": 6,
    "start_time": "2023-02-18T08:36:08.735Z"
   },
   {
    "duration": 932,
    "start_time": "2023-02-18T08:36:11.555Z"
   },
   {
    "duration": 5,
    "start_time": "2023-02-18T08:36:12.489Z"
   },
   {
    "duration": 8535,
    "start_time": "2023-02-18T08:36:13.025Z"
   },
   {
    "duration": 85,
    "start_time": "2023-02-18T08:36:21.562Z"
   },
   {
    "duration": 1181,
    "start_time": "2023-02-18T08:36:33.087Z"
   },
   {
    "duration": 101,
    "start_time": "2023-02-18T08:36:38.098Z"
   },
   {
    "duration": 13,
    "start_time": "2023-02-18T08:36:38.536Z"
   },
   {
    "duration": 196,
    "start_time": "2023-02-18T08:36:41.053Z"
   },
   {
    "duration": 3,
    "start_time": "2023-02-18T08:38:43.328Z"
   },
   {
    "duration": 7,
    "start_time": "2023-02-18T08:38:45.762Z"
   },
   {
    "duration": 4,
    "start_time": "2023-02-18T08:39:25.319Z"
   },
   {
    "duration": 8,
    "start_time": "2023-02-18T08:39:27.071Z"
   },
   {
    "duration": 107,
    "start_time": "2023-02-18T08:39:33.070Z"
   },
   {
    "duration": 4,
    "start_time": "2023-02-18T08:39:33.557Z"
   },
   {
    "duration": 10,
    "start_time": "2023-02-18T08:39:34.047Z"
   },
   {
    "duration": 230,
    "start_time": "2023-02-18T08:39:43.786Z"
   },
   {
    "duration": 205,
    "start_time": "2023-02-18T08:45:32.489Z"
   },
   {
    "duration": 102,
    "start_time": "2023-02-18T08:49:47.835Z"
   },
   {
    "duration": 136,
    "start_time": "2023-02-18T08:51:09.893Z"
   },
   {
    "duration": 13,
    "start_time": "2023-02-18T08:51:10.438Z"
   },
   {
    "duration": 142,
    "start_time": "2023-02-18T08:52:05.395Z"
   },
   {
    "duration": 111,
    "start_time": "2023-02-18T08:52:16.464Z"
   },
   {
    "duration": 159,
    "start_time": "2023-02-18T08:52:25.961Z"
   },
   {
    "duration": 16,
    "start_time": "2023-02-18T08:52:26.892Z"
   },
   {
    "duration": 163,
    "start_time": "2023-02-18T08:53:12.364Z"
   },
   {
    "duration": 10,
    "start_time": "2023-02-18T08:53:13.063Z"
   },
   {
    "duration": 99,
    "start_time": "2023-02-18T08:53:23.131Z"
   },
   {
    "duration": 749,
    "start_time": "2023-02-18T10:09:49.109Z"
   },
   {
    "duration": 5,
    "start_time": "2023-02-18T10:09:49.860Z"
   },
   {
    "duration": 8080,
    "start_time": "2023-02-18T10:09:49.867Z"
   },
   {
    "duration": 45,
    "start_time": "2023-02-18T10:09:57.949Z"
   },
   {
    "duration": 15,
    "start_time": "2023-02-18T10:09:57.996Z"
   },
   {
    "duration": 85,
    "start_time": "2023-02-18T10:09:58.013Z"
   },
   {
    "duration": 7,
    "start_time": "2023-02-18T10:09:58.099Z"
   },
   {
    "duration": 157,
    "start_time": "2023-02-18T10:09:58.107Z"
   },
   {
    "duration": 138,
    "start_time": "2023-02-18T10:09:58.266Z"
   },
   {
    "duration": 68,
    "start_time": "2023-02-18T10:09:58.407Z"
   },
   {
    "duration": 158,
    "start_time": "2023-02-18T10:09:58.478Z"
   },
   {
    "duration": 3,
    "start_time": "2023-02-18T10:09:58.639Z"
   },
   {
    "duration": 129,
    "start_time": "2023-02-18T10:09:58.644Z"
   },
   {
    "duration": 7,
    "start_time": "2023-02-18T10:09:58.775Z"
   },
   {
    "duration": 101,
    "start_time": "2023-02-18T10:09:58.784Z"
   },
   {
    "duration": 12,
    "start_time": "2023-02-18T10:09:58.887Z"
   },
   {
    "duration": 1255,
    "start_time": "2023-02-18T10:09:58.900Z"
   },
   {
    "duration": 13,
    "start_time": "2023-02-18T10:10:00.157Z"
   },
   {
    "duration": 41,
    "start_time": "2023-02-18T10:10:00.172Z"
   },
   {
    "duration": 8,
    "start_time": "2023-02-18T10:10:00.215Z"
   },
   {
    "duration": 37,
    "start_time": "2023-02-18T10:10:00.225Z"
   },
   {
    "duration": 5,
    "start_time": "2023-02-18T10:10:00.264Z"
   },
   {
    "duration": 1302,
    "start_time": "2023-02-18T10:10:00.271Z"
   },
   {
    "duration": 11,
    "start_time": "2023-02-18T10:10:01.575Z"
   },
   {
    "duration": 380,
    "start_time": "2023-02-18T10:10:01.587Z"
   },
   {
    "duration": 1005,
    "start_time": "2023-02-18T10:10:01.969Z"
   },
   {
    "duration": 3,
    "start_time": "2023-02-18T10:10:02.976Z"
   },
   {
    "duration": 107,
    "start_time": "2023-02-18T10:10:02.983Z"
   },
   {
    "duration": 4,
    "start_time": "2023-02-18T10:10:03.092Z"
   },
   {
    "duration": 57,
    "start_time": "2023-02-18T10:10:03.098Z"
   },
   {
    "duration": 414,
    "start_time": "2023-02-18T10:10:03.157Z"
   },
   {
    "duration": 99,
    "start_time": "2023-02-18T10:10:03.573Z"
   },
   {
    "duration": 100,
    "start_time": "2023-02-18T10:10:03.675Z"
   },
   {
    "duration": 101,
    "start_time": "2023-02-18T10:10:03.778Z"
   },
   {
    "duration": 777,
    "start_time": "2023-02-18T10:10:34.761Z"
   },
   {
    "duration": 3,
    "start_time": "2023-02-18T10:10:35.541Z"
   },
   {
    "duration": 7710,
    "start_time": "2023-02-18T10:10:35.547Z"
   },
   {
    "duration": 26,
    "start_time": "2023-02-18T10:10:43.259Z"
   },
   {
    "duration": 13,
    "start_time": "2023-02-18T10:10:43.288Z"
   },
   {
    "duration": 80,
    "start_time": "2023-02-18T10:10:43.303Z"
   },
   {
    "duration": 6,
    "start_time": "2023-02-18T10:10:43.384Z"
   },
   {
    "duration": 168,
    "start_time": "2023-02-18T10:10:43.392Z"
   },
   {
    "duration": 136,
    "start_time": "2023-02-18T10:10:43.561Z"
   },
   {
    "duration": 10,
    "start_time": "2023-02-18T10:10:43.699Z"
   },
   {
    "duration": 162,
    "start_time": "2023-02-18T10:10:43.711Z"
   },
   {
    "duration": 2,
    "start_time": "2023-02-18T10:10:43.875Z"
   },
   {
    "duration": 183,
    "start_time": "2023-02-18T10:10:43.878Z"
   },
   {
    "duration": 6,
    "start_time": "2023-02-18T10:10:44.064Z"
   },
   {
    "duration": 96,
    "start_time": "2023-02-18T10:10:44.071Z"
   },
   {
    "duration": 8,
    "start_time": "2023-02-18T10:10:44.168Z"
   },
   {
    "duration": 1110,
    "start_time": "2023-02-18T10:10:44.178Z"
   },
   {
    "duration": 12,
    "start_time": "2023-02-18T10:10:45.290Z"
   },
   {
    "duration": 40,
    "start_time": "2023-02-18T10:10:45.304Z"
   },
   {
    "duration": 8,
    "start_time": "2023-02-18T10:10:45.346Z"
   },
   {
    "duration": 36,
    "start_time": "2023-02-18T10:10:45.355Z"
   },
   {
    "duration": 6,
    "start_time": "2023-02-18T10:10:45.393Z"
   },
   {
    "duration": 1197,
    "start_time": "2023-02-18T10:10:45.401Z"
   },
   {
    "duration": 14,
    "start_time": "2023-02-18T10:10:46.600Z"
   },
   {
    "duration": 352,
    "start_time": "2023-02-18T10:10:46.615Z"
   },
   {
    "duration": 921,
    "start_time": "2023-02-18T10:10:46.968Z"
   },
   {
    "duration": 3,
    "start_time": "2023-02-18T10:10:47.891Z"
   },
   {
    "duration": 118,
    "start_time": "2023-02-18T10:10:47.895Z"
   },
   {
    "duration": 4,
    "start_time": "2023-02-18T10:10:48.015Z"
   },
   {
    "duration": 11,
    "start_time": "2023-02-18T10:10:48.020Z"
   },
   {
    "duration": 186,
    "start_time": "2023-02-18T10:10:48.033Z"
   },
   {
    "duration": 96,
    "start_time": "2023-02-18T10:10:48.220Z"
   },
   {
    "duration": 99,
    "start_time": "2023-02-18T10:10:48.318Z"
   },
   {
    "duration": 101,
    "start_time": "2023-02-18T10:10:48.419Z"
   },
   {
    "duration": 158,
    "start_time": "2023-02-18T10:12:10.672Z"
   },
   {
    "duration": 157,
    "start_time": "2023-02-18T10:12:58.780Z"
   },
   {
    "duration": 177,
    "start_time": "2023-02-18T10:13:20.864Z"
   },
   {
    "duration": 181,
    "start_time": "2023-02-18T10:14:19.269Z"
   },
   {
    "duration": 221,
    "start_time": "2023-02-18T10:14:43.749Z"
   },
   {
    "duration": 180,
    "start_time": "2023-02-18T10:14:56.834Z"
   },
   {
    "duration": 187,
    "start_time": "2023-02-18T10:17:19.671Z"
   },
   {
    "duration": 190,
    "start_time": "2023-02-18T10:20:00.045Z"
   },
   {
    "duration": 178,
    "start_time": "2023-02-18T10:21:25.584Z"
   },
   {
    "duration": 144,
    "start_time": "2023-02-18T10:21:28.985Z"
   },
   {
    "duration": 881,
    "start_time": "2023-02-20T05:07:56.563Z"
   },
   {
    "duration": 4,
    "start_time": "2023-02-20T05:07:57.447Z"
   },
   {
    "duration": 74,
    "start_time": "2023-02-20T05:08:21.694Z"
   },
   {
    "duration": 3,
    "start_time": "2023-02-20T05:08:36.946Z"
   },
   {
    "duration": 4,
    "start_time": "2023-02-20T05:08:37.747Z"
   },
   {
    "duration": 5324,
    "start_time": "2023-02-20T05:08:38.889Z"
   },
   {
    "duration": 433,
    "start_time": "2023-02-20T05:08:55.341Z"
   },
   {
    "duration": 171,
    "start_time": "2023-02-20T05:09:27.991Z"
   },
   {
    "duration": 7,
    "start_time": "2023-02-20T05:10:43.459Z"
   },
   {
    "duration": 11,
    "start_time": "2023-02-20T05:11:12.255Z"
   },
   {
    "duration": 13,
    "start_time": "2023-02-20T05:11:22.518Z"
   },
   {
    "duration": 11,
    "start_time": "2023-02-20T05:11:39.088Z"
   },
   {
    "duration": 10,
    "start_time": "2023-02-20T05:12:03.285Z"
   },
   {
    "duration": 3,
    "start_time": "2023-02-20T05:13:43.411Z"
   }
  ],
  "colab": {
   "name": "AdvansedSQLProjectTemplate.ipynb",
   "provenance": []
  },
  "kernelspec": {
   "display_name": "Python 3 (ipykernel)",
   "language": "python",
   "name": "python3"
  },
  "language_info": {
   "codemirror_mode": {
    "name": "ipython",
    "version": 3
   },
   "file_extension": ".py",
   "mimetype": "text/x-python",
   "name": "python",
   "nbconvert_exporter": "python",
   "pygments_lexer": "ipython3",
   "version": "3.9.5"
  },
  "toc": {
   "base_numbering": 1,
   "nav_menu": {},
   "number_sections": true,
   "sideBar": true,
   "skip_h1_title": true,
   "title_cell": "Table of Contents",
   "title_sidebar": "Contents",
   "toc_cell": false,
   "toc_position": {},
   "toc_section_display": true,
   "toc_window_display": false
  }
 },
 "nbformat": 4,
 "nbformat_minor": 1
}
