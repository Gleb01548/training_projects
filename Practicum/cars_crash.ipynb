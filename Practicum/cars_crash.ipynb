{
 "cells": [
  {
   "cell_type": "markdown",
   "id": "7aa88457",
   "metadata": {},
   "source": [
    "<div class=\"alert alert-info\">\n",
    "    \n",
    "Вы — специалист по Data Sciense в каршеринговой компании. Вам поступил заказ: нужно создать систему, которая могла бы оценить риск ДТП по выбранному маршруту движения. Под риском понимается вероятность ДТП с любым повреждением транспортного средства. Как только водитель забронировал автомобиль, сел за руль и выбрал маршрут, система должна оценить уровень риска. Если уровень риска высок, водитель увидит предупреждение и рекомендации по маршруту.\n",
    "    \n",
    "Идея создания такой системы находится в стадии предварительного обсуждения и проработки. Чёткого алгоритма работы и подобных решений на рынке ещё не существует. Текущая задача — понять, возможно ли предсказывать ДТП, опираясь на исторические данные одного из регионов."
   ]
  },
  {
   "cell_type": "markdown",
   "id": "401747e4",
   "metadata": {
    "ExecuteTime": {
     "end_time": "2022-05-05T04:58:05.692448Z",
     "start_time": "2022-05-05T04:58:05.688565Z"
    }
   },
   "source": [
    "## Подключитесь к базе. Загрузите таблицы sql"
   ]
  },
  {
   "cell_type": "code",
   "execution_count": 1,
   "id": "3ead3d87",
   "metadata": {},
   "outputs": [
    {
     "name": "stdout",
     "output_type": "stream",
     "text": [
      "Collecting imblearn\n",
      "  Downloading imblearn-0.0-py2.py3-none-any.whl (1.9 kB)\n",
      "Collecting imbalanced-learn\n",
      "  Downloading imbalanced_learn-0.10.1-py3-none-any.whl (226 kB)\n",
      "\u001b[K     |████████████████████████████████| 226 kB 1.3 MB/s eta 0:00:01\n",
      "\u001b[?25hCollecting joblib>=1.1.1\n",
      "  Downloading joblib-1.2.0-py3-none-any.whl (297 kB)\n",
      "\u001b[K     |████████████████████████████████| 297 kB 13.2 MB/s eta 0:00:01\n",
      "\u001b[?25hCollecting scikit-learn>=1.0.2\n",
      "  Downloading scikit_learn-1.2.2-cp39-cp39-manylinux_2_17_x86_64.manylinux2014_x86_64.whl (9.6 MB)\n",
      "\u001b[K     |████████████████████████████████| 9.6 MB 47.4 MB/s eta 0:00:01\n",
      "\u001b[?25hRequirement already satisfied: scipy>=1.3.2 in /opt/conda/lib/python3.9/site-packages (from imbalanced-learn->imblearn) (1.9.1)\n",
      "Requirement already satisfied: numpy>=1.17.3 in /opt/conda/lib/python3.9/site-packages (from imbalanced-learn->imblearn) (1.21.1)\n",
      "Requirement already satisfied: threadpoolctl>=2.0.0 in /opt/conda/lib/python3.9/site-packages (from imbalanced-learn->imblearn) (3.1.0)\n",
      "Installing collected packages: joblib, scikit-learn, imbalanced-learn, imblearn\n",
      "  Attempting uninstall: joblib\n",
      "    Found existing installation: joblib 1.1.0\n",
      "    Uninstalling joblib-1.1.0:\n",
      "      Successfully uninstalled joblib-1.1.0\n",
      "  Attempting uninstall: scikit-learn\n",
      "    Found existing installation: scikit-learn 0.24.1\n",
      "    Uninstalling scikit-learn-0.24.1:\n",
      "      Successfully uninstalled scikit-learn-0.24.1\n",
      "Successfully installed imbalanced-learn-0.10.1 imblearn-0.0 joblib-1.2.0 scikit-learn-1.2.2\n"
     ]
    }
   ],
   "source": [
    "!pip install imblearn"
   ]
  },
  {
   "cell_type": "code",
   "execution_count": 2,
   "id": "37715d84",
   "metadata": {},
   "outputs": [
    {
     "name": "stdout",
     "output_type": "stream",
     "text": [
      "Requirement already satisfied: category_encoders in /opt/conda/lib/python3.9/site-packages (2.6.1)\n",
      "Requirement already satisfied: numpy>=1.14.0 in /opt/conda/lib/python3.9/site-packages (from category_encoders) (1.21.1)\n",
      "Requirement already satisfied: statsmodels>=0.9.0 in /opt/conda/lib/python3.9/site-packages (from category_encoders) (0.13.2)\n",
      "Requirement already satisfied: pandas>=1.0.5 in /opt/conda/lib/python3.9/site-packages (from category_encoders) (1.2.4)\n",
      "Requirement already satisfied: scikit-learn>=0.20.0 in /opt/conda/lib/python3.9/site-packages (from category_encoders) (1.2.2)\n",
      "Requirement already satisfied: scipy>=1.0.0 in /opt/conda/lib/python3.9/site-packages (from category_encoders) (1.9.1)\n",
      "Requirement already satisfied: patsy>=0.5.1 in /opt/conda/lib/python3.9/site-packages (from category_encoders) (0.5.2)\n",
      "Requirement already satisfied: python-dateutil>=2.7.3 in /opt/conda/lib/python3.9/site-packages (from pandas>=1.0.5->category_encoders) (2.8.1)\n",
      "Requirement already satisfied: pytz>=2017.3 in /opt/conda/lib/python3.9/site-packages (from pandas>=1.0.5->category_encoders) (2021.1)\n",
      "Requirement already satisfied: six in /opt/conda/lib/python3.9/site-packages (from patsy>=0.5.1->category_encoders) (1.16.0)\n",
      "Requirement already satisfied: threadpoolctl>=2.0.0 in /opt/conda/lib/python3.9/site-packages (from scikit-learn>=0.20.0->category_encoders) (3.1.0)\n",
      "Requirement already satisfied: joblib>=1.1.1 in /opt/conda/lib/python3.9/site-packages (from scikit-learn>=0.20.0->category_encoders) (1.2.0)\n",
      "Requirement already satisfied: packaging>=21.3 in /opt/conda/lib/python3.9/site-packages (from statsmodels>=0.9.0->category_encoders) (21.3)\n",
      "Requirement already satisfied: pyparsing!=3.0.5,>=2.0.2 in /opt/conda/lib/python3.9/site-packages (from packaging>=21.3->statsmodels>=0.9.0->category_encoders) (2.4.7)\n"
     ]
    }
   ],
   "source": [
    "!pip install category_encoders"
   ]
  },
  {
   "cell_type": "code",
   "execution_count": 3,
   "id": "424daae2",
   "metadata": {},
   "outputs": [],
   "source": [
    "import pandas as pd\n",
    "import matplotlib.pyplot as plt\n",
    "from sqlalchemy import create_engine \n",
    "\n",
    "from seaborn import boxplot\n",
    "import seaborn as sns\n",
    "\n",
    "from sklearn.model_selection import train_test_split\n",
    "from sklearn.ensemble import RandomForestRegressor\n",
    "from sklearn.compose import ColumnTransformer\n",
    "from sklearn.preprocessing import StandardScaler\n",
    "from sklearn.metrics import roc_auc_score\n",
    "from sklearn.model_selection import GridSearchCV\n",
    "from sklearn.ensemble import RandomForestClassifier\n",
    "from sklearn.metrics import f1_score\n",
    "from sklearn.metrics import precision_score\n",
    "from sklearn.metrics import recall_score\n",
    "from sklearn.metrics import accuracy_score\n",
    "\n",
    "from sklearn.linear_model import LogisticRegression\n",
    "from category_encoders.one_hot import OneHotEncoder\n",
    "\n",
    "from category_encoders.target_encoder import TargetEncoder\n",
    "from catboost import CatBoostClassifier\n",
    "\n",
    "pd.options.display.float_format = '{:.2f}'.format\n",
    "\n",
    "from sklearn.compose import ColumnTransformer\n",
    "from imblearn.pipeline import make_pipeline\n",
    "from imblearn.pipeline import Pipeline\n",
    "from imblearn.over_sampling import RandomOverSampler\n",
    "from imblearn.over_sampling import SMOTE, ADASYN"
   ]
  },
  {
   "cell_type": "code",
   "execution_count": 4,
   "id": "b082d47d",
   "metadata": {},
   "outputs": [],
   "source": [
    "db_config = {\n",
    "'user': 'praktikum_student', # имя пользователя,\n",
    "'pwd': 'Sdf4$2;d-d30pp', # пароль,\n",
    "'host': 'rc1b-wcoijxj3yxfsf3fs.mdb.yandexcloud.net',\n",
    "'port': 6432, # порт подключения,\n",
    "'db': 'data-science-vehicle-db' # название базы данных,\n",
    "} \n",
    "\n",
    "connection_string = 'postgresql://{}:{}@{}:{}/{}'.format(\n",
    "    db_config['user'],\n",
    "    db_config['pwd'],\n",
    "    db_config['host'],\n",
    "    db_config['port'],\n",
    "    db_config['db'],\n",
    ")\n",
    "engine = create_engine(connection_string) "
   ]
  },
  {
   "cell_type": "markdown",
   "id": "50c346f4",
   "metadata": {},
   "source": [
    "## Проведите первичное исследование таблиц"
   ]
  },
  {
   "cell_type": "code",
   "execution_count": 5,
   "id": "9070a080",
   "metadata": {},
   "outputs": [],
   "source": [
    "def quer(tab):\n",
    "    return f'''\n",
    "            SELECT *\n",
    "            FROM {tab}\n",
    "            LIMIT 1;\n",
    "            '''"
   ]
  },
  {
   "cell_type": "code",
   "execution_count": 6,
   "id": "c18aed15",
   "metadata": {},
   "outputs": [
    {
     "name": "stdout",
     "output_type": "stream",
     "text": [
      "Index(['case_id', 'db_year'], dtype='object')\n",
      "2\n",
      "Index(['id', 'case_id', 'party_number', 'vehicle_type', 'vehicle_transmission',\n",
      "       'vehicle_age'],\n",
      "      dtype='object')\n",
      "6\n",
      "Index(['case_id', 'county_city_location', 'county_location', 'distance',\n",
      "       'direction', 'intersection', 'weather_1', 'location_type',\n",
      "       'collision_damage', 'party_count', 'primary_collision_factor',\n",
      "       'pcf_violation_category', 'type_of_collision',\n",
      "       'motor_vehicle_involved_with', 'road_surface', 'road_condition_1',\n",
      "       'lighting', 'control_device', 'collision_date', 'collision_time'],\n",
      "      dtype='object')\n",
      "20\n",
      "Index(['id', 'case_id', 'party_number', 'party_type', 'at_fault',\n",
      "       'insurance_premium', 'party_sobriety', 'party_drug_physical',\n",
      "       'cellphone_in_use'],\n",
      "      dtype='object')\n",
      "9\n"
     ]
    }
   ],
   "source": [
    "for tab in ['case_ids', 'vehicles', 'collisions', 'parties']:\n",
    "    sample_df = pd.read_sql_query(quer(tab), con=engine).columns\n",
    "    print(sample_df)\n",
    "    print(len(sample_df))"
   ]
  },
  {
   "cell_type": "markdown",
   "id": "edafb189",
   "metadata": {},
   "source": [
    "Колонки на месте, ключ case_id также"
   ]
  },
  {
   "cell_type": "markdown",
   "id": "09b75303",
   "metadata": {},
   "source": [
    "##  Проведите статистический анализ факторов ДТП"
   ]
  },
  {
   "cell_type": "code",
   "execution_count": 7,
   "id": "4e8333d9",
   "metadata": {},
   "outputs": [
    {
     "data": {
      "text/html": [
       "<div>\n",
       "<style scoped>\n",
       "    .dataframe tbody tr th:only-of-type {\n",
       "        vertical-align: middle;\n",
       "    }\n",
       "\n",
       "    .dataframe tbody tr th {\n",
       "        vertical-align: top;\n",
       "    }\n",
       "\n",
       "    .dataframe thead th {\n",
       "        text-align: right;\n",
       "    }\n",
       "</style>\n",
       "<table border=\"1\" class=\"dataframe\">\n",
       "  <thead>\n",
       "    <tr style=\"text-align: right;\">\n",
       "      <th></th>\n",
       "      <th>date_trunc</th>\n",
       "      <th>count</th>\n",
       "    </tr>\n",
       "  </thead>\n",
       "  <tbody>\n",
       "    <tr>\n",
       "      <th>0</th>\n",
       "      <td>2009-01-01</td>\n",
       "      <td>426228</td>\n",
       "    </tr>\n",
       "    <tr>\n",
       "      <th>1</th>\n",
       "      <td>2010-01-01</td>\n",
       "      <td>416490</td>\n",
       "    </tr>\n",
       "    <tr>\n",
       "      <th>2</th>\n",
       "      <td>2011-01-01</td>\n",
       "      <td>402428</td>\n",
       "    </tr>\n",
       "    <tr>\n",
       "      <th>3</th>\n",
       "      <td>2012-01-01</td>\n",
       "      <td>154547</td>\n",
       "    </tr>\n",
       "    <tr>\n",
       "      <th>4</th>\n",
       "      <td>2013-01-01</td>\n",
       "      <td>305</td>\n",
       "    </tr>\n",
       "    <tr>\n",
       "      <th>5</th>\n",
       "      <td>2020-01-01</td>\n",
       "      <td>2</td>\n",
       "    </tr>\n",
       "  </tbody>\n",
       "</table>\n",
       "</div>"
      ],
      "text/plain": [
       "   date_trunc   count\n",
       "0  2009-01-01  426228\n",
       "1  2010-01-01  416490\n",
       "2  2011-01-01  402428\n",
       "3  2012-01-01  154547\n",
       "4  2013-01-01     305\n",
       "5  2020-01-01       2"
      ]
     },
     "execution_count": 7,
     "metadata": {},
     "output_type": "execute_result"
    }
   ],
   "source": [
    "query = '''\n",
    "SELECT DATE_TRUNC('year', COLLISION_DATE)::date, \n",
    "       COUNT(*)\n",
    "FROM collisions \n",
    "GROUP BY DATE_TRUNC('year', COLLISION_DATE)\n",
    "'''\n",
    "\n",
    "sample_df = pd.read_sql_query(query, con=engine) \n",
    "sample_df"
   ]
  },
  {
   "cell_type": "code",
   "execution_count": 8,
   "id": "6fc85b18",
   "metadata": {},
   "outputs": [
    {
     "data": {
      "text/plain": [
       "<AxesSubplot:ylabel='date_trunc'>"
      ]
     },
     "execution_count": 8,
     "metadata": {},
     "output_type": "execute_result"
    },
    {
     "data": {
      "image/png": "[encoded data removed]",
      "text/plain": [
       "<Figure size 936x1080 with 1 Axes>"
      ]
     },
     "metadata": {
      "needs_background": "light"
     },
     "output_type": "display_data"
    }
   ],
   "source": [
    "query = '''\n",
    "SELECT DATE_TRUNC('month', COLLISION_DATE)::date, \n",
    "       COUNT(*)\n",
    "FROM collisions \n",
    "GROUP BY DATE_TRUNC('month', COLLISION_DATE)\n",
    "'''\n",
    "\n",
    "sample_df = pd.read_sql_query(query, con=engine) \n",
    "sample_df.plot.barh(x='date_trunc', y='count', figsize=(13, 15))"
   ]
  },
  {
   "cell_type": "markdown",
   "id": "b2dcfef3",
   "metadata": {},
   "source": [
    "Имеется резкое падение с июня 2016 года и далее, наверное, статистика за этот период времени надлежащим образом не сформирована. С августа 2013 по февраля 2020 (включительно) данных вообще нет."
   ]
  },
  {
   "cell_type": "markdown",
   "id": "5f656bd7",
   "metadata": {},
   "source": [
    "### Создайте не менее шести задач для коллег. Опирайтесь на примеры и таблицы. "
   ]
  },
  {
   "cell_type": "markdown",
   "id": "e66d726b",
   "metadata": {},
   "source": [
    "Задачи для коллег:\n",
    "1.\tУстановить среднее количество ДТП в зависимости от погодных условий.\n",
    "2.\tУстановить количество ДТП происходящее на перекрестках.\n",
    "3.\tУстановить количество ДТП происходящее в темное время суток.\n",
    "4.\tУстановить среднее количество ДТП в зависимости от сезона.\n",
    "5.\tПроанализировать тип участника происшествия в зависимости от погодных условий:\n",
    "    -\tобъединить таблицы parties и vehicles по CASE_ID, сгруппировать данные по столбце WEATHER_1 и PARTY_TYPEl;\n",
    "    -\tпостройте круговые диаграммы для каждого вида погоды, чтобы оценить при какой погоде как часто встречаются различные тип участников происшествия;\n",
    "    -\tпроанализируете данные, сделайте вывод.\n",
    "6.\tПроанализировать серьезность происшествия в зависимости от возраста автомобиля:\n",
    "    -\tобъединить таблицы collisions и vehicles по CASE_ID, VEHICLE_AGE разделить на промежутки, сгруппировать данные по полученным промежуткам и COLLISION_DAMAGE\n",
    "    -\tпостройте круговые диаграммы для каждой категории возраста;\n",
    "    -\tпроанализируете данные, сделайте вывод.\n"
   ]
  },
  {
   "cell_type": "code",
   "execution_count": 9,
   "id": "c3e1409a",
   "metadata": {},
   "outputs": [],
   "source": [
    "query = '''\n",
    "SELECT WEATHER_1, \n",
    "       PARTY_TYPE,\n",
    "       COUNT(PARTY_TYPE)\n",
    "FROM parties AS p\n",
    "LEFT JOIN collisions c ON p.case_id = c.case_id\n",
    "GROUP BY WEATHER_1, PARTY_TYPE\n",
    "ORDER BY weather_1, COUNT(PARTY_TYPE) DESC \n",
    "'''\n",
    "\n",
    "df = pd.read_sql_query(query, con=engine) "
   ]
  },
  {
   "cell_type": "code",
   "execution_count": 10,
   "id": "c1d4b7f1",
   "metadata": {},
   "outputs": [],
   "source": [
    "def autopct(pct): \n",
    "    return ('%.2f' % pct) if pct > 1 else ''"
   ]
  },
  {
   "cell_type": "code",
   "execution_count": 11,
   "id": "6d641b0a",
   "metadata": {},
   "outputs": [
    {
     "name": "stderr",
     "output_type": "stream",
     "text": [
      "/opt/conda/lib/python3.9/site-packages/pandas/plotting/_matplotlib/core.py:1583: MatplotlibDeprecationWarning: normalize=None does not normalize if the sum is less than 1 but this behavior is deprecated since 3.3 until two minor releases later. After the deprecation period the default value will be normalize=True. To prevent normalization pass normalize=False \n",
      "  results = ax.pie(y, labels=blabels, **kwds)\n"
     ]
    },
    {
     "data": {
      "image/png": "[encoded data removed]",
      "text/plain": [
       "<Figure size 360x360 with 1 Axes>"
      ]
     },
     "metadata": {},
     "output_type": "display_data"
    },
    {
     "data": {
      "image/png": "[encoded data removed]",
      "text/plain": [
       "<Figure size 360x360 with 1 Axes>"
      ]
     },
     "metadata": {},
     "output_type": "display_data"
    },
    {
     "data": {
      "image/png": "[encoded data removed]",
      "text/plain": [
       "<Figure size 360x360 with 1 Axes>"
      ]
     },
     "metadata": {},
     "output_type": "display_data"
    },
    {
     "data": {
      "image/png": "[encoded data removed]",
      "text/plain": [
       "<Figure size 360x360 with 1 Axes>"
      ]
     },
     "metadata": {},
     "output_type": "display_data"
    },
    {
     "data": {
      "image/png": "[encoded data removed]",
      "text/plain": [
       "<Figure size 360x360 with 1 Axes>"
      ]
     },
     "metadata": {},
     "output_type": "display_data"
    },
    {
     "data": {
      "image/png": "[encoded data removed]",
      "text/plain": [
       "<Figure size 360x360 with 1 Axes>"
      ]
     },
     "metadata": {},
     "output_type": "display_data"
    },
    {
     "data": {
      "image/png": "[encoded data removed]",
      "text/plain": [
       "<Figure size 360x360 with 1 Axes>"
      ]
     },
     "metadata": {},
     "output_type": "display_data"
    },
    {
     "data": {
      "image/png": "[encoded data removed]",
      "text/plain": [
       "<Figure size 360x360 with 1 Axes>"
      ]
     },
     "metadata": {},
     "output_type": "display_data"
    }
   ],
   "source": [
    "for weather in df['weather_1'].unique():\n",
    "    df_plot = df[df.weather_1 == weather].set_index('party_type')\n",
    "    \n",
    "    ax = df_plot.plot.pie(y='count', figsize=(5, 5), autopct=autopct)\n",
    "    ax.set_title(weather)"
   ]
  },
  {
   "cell_type": "markdown",
   "id": "8901d68b",
   "metadata": {},
   "source": [
    "<div class=\"alert alert-info\">\n",
    "Изходя из вышеизложенных данных машины составляют абсолютнеое большинство при ДТП вне зависемости от погодных условий, однако при облачной и дождливой погоде их число возрастает до 88 и 90 процентов соответсвтенно. "
   ]
  },
  {
   "cell_type": "code",
   "execution_count": 12,
   "id": "8ce43624",
   "metadata": {},
   "outputs": [],
   "source": [
    "query = '''\n",
    "WITH tab AS (\n",
    "SELECT COLLISION_DAMAGE, \n",
    "       CASE \n",
    "           WHEN VEHICLE_AGE <= 5 THEN 1\n",
    "           WHEN VEHICLE_AGE > 5 AND VEHICLE_AGE <= 10 THEN 2\n",
    "           WHEN VEHICLE_AGE > 10 AND VEHICLE_AGE <= 20 THEN 3\n",
    "           WHEN VEHICLE_AGE > 20 AND VEHICLE_AGE <= 30 THEN 4\n",
    "           WHEN VEHICLE_AGE > 30 AND VEHICLE_AGE <= 30 THEN 5\n",
    "           ELSE 6\n",
    "       END AS cat_vehicle\n",
    "FROM vehicles  AS v\n",
    "LEFT JOIN collisions c ON v.case_id = c.case_id\n",
    ")\n",
    "\n",
    "SELECT cat_vehicle, \n",
    "       collision_damage, \n",
    "       COUNT(*)\n",
    "FROM tab \n",
    "GROUP BY cat_vehicle, collision_damage\n",
    "ORDER BY cat_vehicle, collision_damage\n",
    "'''\n",
    "\n",
    "df = pd.read_sql_query(query, con=engine) "
   ]
  },
  {
   "cell_type": "code",
   "execution_count": 13,
   "id": "cf8603a2",
   "metadata": {},
   "outputs": [
    {
     "data": {
      "image/png": "[encoded data removed]",
      "text/plain": [
       "<Figure size 360x360 with 1 Axes>"
      ]
     },
     "metadata": {},
     "output_type": "display_data"
    },
    {
     "data": {
      "image/png": "[encoded data removed]",
      "text/plain": [
       "<Figure size 360x360 with 1 Axes>"
      ]
     },
     "metadata": {},
     "output_type": "display_data"
    },
    {
     "data": {
      "image/png": "[encoded data removed]",
      "text/plain": [
       "<Figure size 360x360 with 1 Axes>"
      ]
     },
     "metadata": {},
     "output_type": "display_data"
    },
    {
     "data": {
      "image/png": "[encoded data removed]",
      "text/plain": [
       "<Figure size 360x360 with 1 Axes>"
      ]
     },
     "metadata": {},
     "output_type": "display_data"
    }
   ],
   "source": [
    "for i in df['cat_vehicle'].unique():\n",
    "    df_plot = df[df.cat_vehicle == i].set_index('collision_damage')\n",
    "    \n",
    "    ax = df_plot.plot.pie(y='count', figsize=(5, 5), autopct=autopct)\n",
    "    ax.set_title(i)"
   ]
  },
  {
   "cell_type": "markdown",
   "id": "0d3d58ff",
   "metadata": {},
   "source": [
    "<div class=\"alert alert-info\">\n",
    "Возраст машины виляет неоднозначно, наибольшее различие относительно остальных групп показывают машины возраст которых 5 лет или меньше. Они получают больше небольших повреждений и меньше царапин."
   ]
  },
  {
   "cell_type": "markdown",
   "id": "be31cc6a",
   "metadata": {},
   "source": [
    "## Создайте модель для оценки водительского риска"
   ]
  },
  {
   "cell_type": "markdown",
   "id": "8a374cd3",
   "metadata": {},
   "source": [
    "Мной взяты следующие признаки: "
   ]
  },
  {
   "cell_type": "markdown",
   "id": "5e70a695",
   "metadata": {},
   "source": [
    "- PARTY_SOBRIETY - трезвость учасника\n",
    "- INTERSECTION - перекресток \n",
    "- WEATHER_1 - погода \n",
    "- ROAD_SURFACE - состояние дороги \n",
    "- LIGHTING - освещение \n",
    "- COUNTY_CITY_LOCATION - номер районов \n",
    "- LOCATION_TYPE - тип дороги \n",
    "- ROAD_CONDITION_1 - дорожное состояние \n",
    "- VEHICLE_TYPE - тип кузова \n",
    "- VEHICLE_TRANSMISSION - тип КПП \n",
    "- VEHICLE_AGE - возраст автомобиля"
   ]
  },
  {
   "cell_type": "markdown",
   "id": "123fb926",
   "metadata": {},
   "source": [
    "Все эти признаки характеризуют состояние машины, предполагаемого маршрута, состояния водителя и могут быть получены до аварии (если в автомобиле установить прибор для проверки водителя на алкоголь)"
   ]
  },
  {
   "cell_type": "code",
   "execution_count": 14,
   "id": "1582318f",
   "metadata": {},
   "outputs": [],
   "source": [
    "query = '''\n",
    "SELECT PARTY_SOBRIETY,\n",
    "       INTERSECTION, \n",
    "       WEATHER_1, \n",
    "       ROAD_SURFACE, \n",
    "       LIGHTING, \n",
    "       COUNTY_CITY_LOCATION, \n",
    "       LOCATION_TYPE, \n",
    "       ROAD_CONDITION_1,  \n",
    "       VEHICLE_TYPE, \n",
    "       VEHICLE_TRANSMISSION,\n",
    "       VEHICLE_AGE,\n",
    "       at_fault\n",
    "FROM collisions AS c\n",
    "LEFT JOIN parties p ON c.case_id = p.case_id \n",
    "LEFT JOIN vehicles v ON c.case_id = v.case_id\n",
    "WHERE DATE_PART('year', COLLISION_DATE) = 2012\n",
    "      AND PARTY_TYPE = 'car'\n",
    "      AND COLLISION_DAMAGE != 'scratch'\n",
    "'''\n",
    "\n",
    "df = pd.read_sql_query(query, con=engine) "
   ]
  },
  {
   "cell_type": "code",
   "execution_count": 15,
   "id": "53d7e14f",
   "metadata": {},
   "outputs": [
    {
     "data": {
      "text/plain": [
       "(226984, 12)"
      ]
     },
     "execution_count": 15,
     "metadata": {},
     "output_type": "execute_result"
    }
   ],
   "source": [
    "df.shape"
   ]
  },
  {
   "cell_type": "markdown",
   "id": "3386e303",
   "metadata": {},
   "source": [
    "<div class=\"alert alert-info\">\n",
    "    \n",
    "Согласно задания я должен: 'Создать модель предсказания ДТП (целевое значение — at_fault (виновник) в таблице parties)'.\n",
    "\n",
    "А для того чтобы выбрать тип виновника только машина я должен наверно выбрать учасника car и выставить at_fault = 1, но тогда что у меня будет таргетом для модели машинного обучения? \n",
    "\n",
    "В таблице есть другой столбец MOTOR_VEHICLE_INVOLVED_WITH (дополнительные участники ДТП) и там указываются другие участники, поэтому в данных, полученных по моему запросу, учасниками ДТП являются не только машины.\n",
    "    \n",
    "И я так понимаю - это БД общая, то есть ее создавала не компания под свои нужды, а вел какой-то публичный орган власти. Потому что зачем компании, которая занимается предоставлением в аренду машин информация об авариях без участия машин? \n",
    "    \n",
    "И для того чтобы сделать более глубокий анализ о причинах аварийности автомобилей мы делаем выборку с участием автомобилей. \n",
    "    \n",
    "И опять таки я не могу понять как мы будем строить модель машинного обучения для предсказания виновника дтп, если в выборке виновник дтп это только машина? "
   ]
  },
  {
   "cell_type": "code",
   "execution_count": 16,
   "id": "e374580d",
   "metadata": {},
   "outputs": [
    {
     "data": {
      "text/plain": [
       "location_type          55.19\n",
       "vehicle_age            49.32\n",
       "vehicle_transmission   48.65\n",
       "vehicle_type           47.83\n",
       "party_sobriety          1.77\n",
       "road_surface            0.66\n",
       "road_condition_1        0.58\n",
       "intersection            0.48\n",
       "lighting                0.36\n",
       "weather_1               0.34\n",
       "county_city_location    0.00\n",
       "at_fault                0.00\n",
       "dtype: float64"
      ]
     },
     "execution_count": 16,
     "metadata": {},
     "output_type": "execute_result"
    }
   ],
   "source": [
    "df.isnull().mean().round(4).mul(100).sort_values(ascending=False)"
   ]
  },
  {
   "cell_type": "markdown",
   "id": "a63e1834",
   "metadata": {},
   "source": [
    "У половины автомобилей возраст не известен, так как данных пропуски с этой колонкой лучше удалить."
   ]
  },
  {
   "cell_type": "markdown",
   "id": "d60b630a",
   "metadata": {},
   "source": [
    "<div class=\"alert alert-info\">\n",
    "У половины автомобилей возраст не известен, заменим их на медианое значение."
   ]
  },
  {
   "cell_type": "code",
   "execution_count": 17,
   "id": "4b766813",
   "metadata": {},
   "outputs": [],
   "source": [
    "df['vehicle_age'].fillna(df['vehicle_age'].mean(), inplace=True)"
   ]
  },
  {
   "cell_type": "code",
   "execution_count": 18,
   "id": "8e9c36b6",
   "metadata": {},
   "outputs": [
    {
     "data": {
      "text/plain": [
       "location_type          55.19\n",
       "vehicle_transmission   48.65\n",
       "vehicle_type           47.83\n",
       "party_sobriety          1.77\n",
       "road_surface            0.66\n",
       "road_condition_1        0.58\n",
       "intersection            0.48\n",
       "lighting                0.36\n",
       "weather_1               0.34\n",
       "county_city_location    0.00\n",
       "vehicle_age             0.00\n",
       "at_fault                0.00\n",
       "dtype: float64"
      ]
     },
     "execution_count": 18,
     "metadata": {},
     "output_type": "execute_result"
    }
   ],
   "source": [
    "df.isnull().mean().round(4).mul(100).sort_values(ascending=False)"
   ]
  },
  {
   "cell_type": "markdown",
   "id": "9dd0d52d",
   "metadata": {},
   "source": [
    "Остались незначительные пропуски, кроме location_type, vehicle_transmission, vehicle_type - здесь просто заполним unknow"
   ]
  },
  {
   "cell_type": "code",
   "execution_count": 19,
   "id": "3f87e7c5",
   "metadata": {},
   "outputs": [],
   "source": [
    "di = {'location_type':'unknow', 'vehicle_transmission':'unknow', 'vehicle_type':'unknow'}\n",
    "df.fillna(value=di, inplace=True)"
   ]
  },
  {
   "cell_type": "code",
   "execution_count": 20,
   "id": "b47ebf7a",
   "metadata": {},
   "outputs": [
    {
     "data": {
      "text/plain": [
       "party_sobriety         1.77\n",
       "road_surface           0.66\n",
       "road_condition_1       0.58\n",
       "intersection           0.48\n",
       "lighting               0.36\n",
       "weather_1              0.34\n",
       "county_city_location   0.00\n",
       "location_type          0.00\n",
       "vehicle_type           0.00\n",
       "vehicle_transmission   0.00\n",
       "vehicle_age            0.00\n",
       "at_fault               0.00\n",
       "dtype: float64"
      ]
     },
     "execution_count": 20,
     "metadata": {},
     "output_type": "execute_result"
    }
   ],
   "source": [
    "df.isnull().mean().round(4).mul(100).sort_values(ascending=False)"
   ]
  },
  {
   "cell_type": "code",
   "execution_count": 21,
   "id": "2f6f13b3",
   "metadata": {},
   "outputs": [],
   "source": [
    "df.dropna(inplace=True)"
   ]
  },
  {
   "cell_type": "code",
   "execution_count": 22,
   "id": "cfbf612e",
   "metadata": {},
   "outputs": [
    {
     "data": {
      "text/plain": [
       "(218951, 12)"
      ]
     },
     "execution_count": 22,
     "metadata": {},
     "output_type": "execute_result"
    }
   ],
   "source": [
    "df.shape"
   ]
  },
  {
   "cell_type": "markdown",
   "id": "fad6dd44",
   "metadata": {},
   "source": [
    "<div class=\"alert alert-info\">\n",
    "Заполнил большинство пропусков при помощи медианного значения и unknow"
   ]
  },
  {
   "cell_type": "code",
   "execution_count": 23,
   "id": "20b90e9e",
   "metadata": {},
   "outputs": [
    {
     "data": {
      "text/plain": [
       "party_sobriety         0.00\n",
       "intersection           0.00\n",
       "weather_1              0.00\n",
       "road_surface           0.00\n",
       "lighting               0.00\n",
       "county_city_location   0.00\n",
       "location_type          0.00\n",
       "road_condition_1       0.00\n",
       "vehicle_type           0.00\n",
       "vehicle_transmission   0.00\n",
       "vehicle_age            0.00\n",
       "at_fault               0.00\n",
       "dtype: float64"
      ]
     },
     "execution_count": 23,
     "metadata": {},
     "output_type": "execute_result"
    }
   ],
   "source": [
    "df.isnull().mean().round(4).mul(100).sort_values(ascending=False)"
   ]
  },
  {
   "cell_type": "code",
   "execution_count": 24,
   "id": "8090e1cb",
   "metadata": {},
   "outputs": [
    {
     "data": {
      "text/plain": [
       "party_sobriety           object\n",
       "intersection            float64\n",
       "weather_1                object\n",
       "road_surface             object\n",
       "lighting                 object\n",
       "county_city_location     object\n",
       "location_type            object\n",
       "road_condition_1         object\n",
       "vehicle_type             object\n",
       "vehicle_transmission     object\n",
       "vehicle_age             float64\n",
       "at_fault                  int64\n",
       "dtype: object"
      ]
     },
     "execution_count": 24,
     "metadata": {},
     "output_type": "execute_result"
    }
   ],
   "source": [
    "df.dtypes"
   ]
  },
  {
   "cell_type": "code",
   "execution_count": 25,
   "id": "d36d4a90",
   "metadata": {},
   "outputs": [],
   "source": [
    "num = ['vehicle_age']\n",
    "cat = list(set(df.columns) - set(num))"
   ]
  },
  {
   "cell_type": "code",
   "execution_count": 26,
   "id": "26243186",
   "metadata": {},
   "outputs": [
    {
     "data": {
      "text/plain": [
       "['weather_1',\n",
       " 'road_surface',\n",
       " 'lighting',\n",
       " 'at_fault',\n",
       " 'county_city_location',\n",
       " 'location_type',\n",
       " 'intersection',\n",
       " 'road_condition_1',\n",
       " 'party_sobriety',\n",
       " 'vehicle_type',\n",
       " 'vehicle_transmission']"
      ]
     },
     "execution_count": 26,
     "metadata": {},
     "output_type": "execute_result"
    }
   ],
   "source": [
    "cat"
   ]
  },
  {
   "cell_type": "code",
   "execution_count": 27,
   "id": "6a7304d8",
   "metadata": {},
   "outputs": [
    {
     "name": "stderr",
     "output_type": "stream",
     "text": [
      "/opt/conda/lib/python3.9/site-packages/seaborn/_decorators.py:36: FutureWarning: Pass the following variable as a keyword arg: x. From version 0.12, the only valid positional argument will be `data`, and passing other arguments without an explicit keyword will result in an error or misinterpretation.\n",
      "  warnings.warn(\n"
     ]
    },
    {
     "data": {
      "text/plain": [
       "<AxesSubplot:xlabel='vehicle_age'>"
      ]
     },
     "execution_count": 27,
     "metadata": {},
     "output_type": "execute_result"
    },
    {
     "data": {
      "image/png": "[encoded data removed]",
      "text/plain": [
       "<Figure size 432x288 with 1 Axes>"
      ]
     },
     "metadata": {
      "needs_background": "light"
     },
     "output_type": "display_data"
    }
   ],
   "source": [
    "boxplot(df['vehicle_age'])"
   ]
  },
  {
   "cell_type": "code",
   "execution_count": 28,
   "id": "8b14f15b",
   "metadata": {},
   "outputs": [
    {
     "data": {
      "text/plain": [
       "count   218951.00\n",
       "mean         4.91\n",
       "std          2.33\n",
       "min          0.00\n",
       "25%          4.00\n",
       "50%          4.91\n",
       "75%          4.91\n",
       "max        161.00\n",
       "Name: vehicle_age, dtype: float64"
      ]
     },
     "execution_count": 28,
     "metadata": {},
     "output_type": "execute_result"
    }
   ],
   "source": [
    "df['vehicle_age'].describe()"
   ]
  },
  {
   "cell_type": "markdown",
   "id": "62267827",
   "metadata": {},
   "source": [
    "Имеется очевидный выброс по возрасту машины - 161 год. Также согласно графику выбросами являются машины возраст которых более 15 лет, однако я не считаю это выбросом, потому что в этом нет ничего необычного."
   ]
  },
  {
   "cell_type": "code",
   "execution_count": 29,
   "id": "5fdf4ebb",
   "metadata": {},
   "outputs": [],
   "source": [
    "df = df[df['vehicle_age'] < 30]"
   ]
  },
  {
   "cell_type": "code",
   "execution_count": 30,
   "id": "1d031b42",
   "metadata": {},
   "outputs": [
    {
     "data": {
      "text/plain": [
       "count   218947.00\n",
       "mean         4.90\n",
       "std          2.24\n",
       "min          0.00\n",
       "25%          4.00\n",
       "50%          4.91\n",
       "75%          4.91\n",
       "max         19.00\n",
       "Name: vehicle_age, dtype: float64"
      ]
     },
     "execution_count": 30,
     "metadata": {},
     "output_type": "execute_result"
    }
   ],
   "source": [
    "df['vehicle_age'].describe()"
   ]
  },
  {
   "cell_type": "code",
   "execution_count": 31,
   "id": "486678d0",
   "metadata": {},
   "outputs": [
    {
     "name": "stdout",
     "output_type": "stream",
     "text": [
      "['clear' 'cloudy' 'fog' 'snowing' 'raining' 'other' 'wind']\n",
      "['dry' 'wet' 'snowy' 'slippery']\n",
      "['daylight' 'dark with street lights' 'dark with no street lights'\n",
      " 'dusk or dawn' 'dark with street lights not functioning']\n",
      "[0 1]\n",
      "['1932' '1942' '1900' '1915' '5400' '2400' '3905' '3801' '2700' '5000'\n",
      " '1965' '1976' '1908' '5300' '1953' '0109' '3400' '0111' '1977' '4905'\n",
      " '3313' '4402' '3713' '1955' '3010' '0700' '4400' '4313' '1959' '5800'\n",
      " '3705' '1926' '1919' '3711' '3004' '1928' '0200' '4908' '2708' '1901'\n",
      " '5601' '5604' '0704' '1941' '4807' '4114' '4303' '3300' '1938' '1992'\n",
      " '3008' '3345' '3700' '3026' '3610' '5607' '4113' '1005' '4104' '4200'\n",
      " '1925' '3607' '3706' '1922' '3605' '3015' '0710' '0106' '1902' '4900'\n",
      " '5600' '3490' '1956' '3600' '3024' '1950' '0100' '3496' '5500' '3019'\n",
      " '1500' '3002' '2200' '3105' '4000' '4117' '2802' '1960' '1905' '5102'\n",
      " '3616' '0101' '1300' '3392' '1948' '3309' '3311' '0601' '3601' '3619'\n",
      " '0900' '4006' '3302' '1000' '0701' '1001' '2706' '4700' '4214' '4500'\n",
      " '4502' '3604' '3404' '5200' '3022' '3617' '1200' '4304' '3450' '3611'\n",
      " '3920' '0108' '3342' '1975' '3017' '3001' '3009' '4311' '0709' '4312'\n",
      " '3100' '5609' '3900' '3318' '1990' '2100' '1600' '3906' '4803' '1907'\n",
      " '1969' '1979' '1937' '1949' '3000' '3312' '3640' '0405' '3710' '0300'\n",
      " '3712' '3007' '1936' '3012' '3020' '4800' '4806' '3315' '0107' '3708'\n",
      " '1946' '3003' '1985' '3621' '4102' '4308' '0600' '1914' '5405' '4403'\n",
      " '2803' '3018' '3040' '4116' '3609' '3401' '2701' '2000' '0500' '0708'\n",
      " '0112' '3608' '3200' '1920' '1964' '3341' '1939' '4109' '5701' '1008'\n",
      " '4100' '1994' '1989' '0198' '1912' '2900' '5202' '3016' '2109' '3702'\n",
      " '3316' '3902' '3013' '4204' '3045' '3028' '3325' '1203' '0790' '3720'\n",
      " '4709' '4316' '4110' '0104' '5100' '1972' '5002' '2401' '3394' '3049'\n",
      " '0712' '1903' '2406' '1935' '1952' '3335' '1921' '1945' '1700' '3613'\n",
      " '3050' '1943' '0400' '4202' '4314' '4101' '3006' '4401' '3306' '3101'\n",
      " '3782' '4305' '5690' '1991' '1917' '5005' '0403' '2800' '0105' '0711'\n",
      " '3709' '2300' '1012' '3029' '3048' '1503' '3308' '5608' '4120' '2908'\n",
      " '5704' '0113' '1933' '1401' '1934' '4300' '3630' '4106' '1931' '5703'\n",
      " '3780' '4980' '4904' '3310' '4111' '3317' '3618' '2304' '3307' '0402'\n",
      " '3612' '0800' '2102' '1927' '3314' '3500' '1800' '3602' '4902' '1506'\n",
      " '1013' '3011' '4203' '3703' '1906' '0103' '0102' '2106' '0702' '5700'\n",
      " '3021' '3701' '3104' '0715' '3344' '1502' '1947' '4127' '2301' '0705'\n",
      " '2805' '0792' '1973' '4315' '5006' '3014' '1954' '1971' '4002' '1963'\n",
      " '0303' '1944' '3106' '1400' '4302' '1967' '1508' '1004' '3603' '1515'\n",
      " '5606' '5406' '4307' '1968' '3305' '5407' '0791' '3903' '0901' '4008'\n",
      " '1602' '5001' '1962' '1974' '3690' '1916' '3025' '1995' '0716' '3301'\n",
      " '2712' '1909' '4004' '0707' '1201' '4205' '3707' '2710' '1913' '2002'\n",
      " '1603' '4903' '4115' '0706' '2711' '1918' '2600' '3783' '1801' '2709'\n",
      " '3005' '1923' '1961' '1205' '3631' '4310' '3901' '2704' '4802' '4108'\n",
      " '4906' '4600' '5004' '4801' '2105' '3402' '5403' '5605' '1509' '3615'\n",
      " '1501' '1015' '2303' '0110' '4103' '1302' '0734' '1100' '5007' '3904'\n",
      " '1929' '2108' '2901' '1304' '5203' '2001' '1301' '3343' '4501' '2405'\n",
      " '1507' '1951' '3501' '4907' '1701' '5801' '0902' '3781' '1007' '1505'\n",
      " '5802' '0714' '2707' '1601' '4005' '1014' '5501' '1702' '4804' '5404'\n",
      " '4805' '3103' '2111' '2104' '1970' '1102' '4580' '3102' '5602' '4212'\n",
      " '4404' '0302' '5603' '0703' '1510' '3336' '4107' '5008' '1930' '5201'\n",
      " '3680' '4706' '5003' '2703' '2601' '4201' '2705' '0305' '2403' '2110'\n",
      " '3051' '1999' '5101' '1306' '4003' '2902' '2103' '4306' '4118' '3606'\n",
      " '4901' '5408' '5702' '2500' '1910' '1101' '2101' '2404' '3704' '0404'\n",
      " '1511' '1993' '3303' '2801' '1690' '4001' '4206' '3337' '4119' '1924'\n",
      " '0713' '3023' '4708' '1011' '4701' '4105' '0401' '0602' '1010' '0801'\n",
      " '1009' '1003' '0501' '1980' '1305' '2804' '5009' '1002' '1504' '4112'\n",
      " '1958' '4704']\n",
      "['unknow' 'highway' 'ramp' 'intersection']\n",
      "[0. 1.]\n",
      "['normal' 'other' 'holes' 'loose material' 'construction' 'flooded'\n",
      " 'obstruction' 'reduced width']\n",
      "['had not been drinking' 'impairment unknown'\n",
      " 'had been drinking, under influence'\n",
      " 'had been drinking, impairment unknown' 'not applicable'\n",
      " 'had been drinking, not under influence']\n",
      "['unknow' 'sedan' 'coupe' 'minivan' 'hatchback' 'other']\n",
      "['unknow' 'manual' 'auto']\n"
     ]
    }
   ],
   "source": [
    "for i in cat:\n",
    "    print(df[i].unique())"
   ]
  },
  {
   "cell_type": "markdown",
   "id": "f77d1abc",
   "metadata": {},
   "source": [
    "С категориальными фичами все в порядке. "
   ]
  },
  {
   "cell_type": "code",
   "execution_count": 32,
   "id": "964f039c",
   "metadata": {},
   "outputs": [
    {
     "data": {
      "text/plain": [
       "121820"
      ]
     },
     "execution_count": 32,
     "metadata": {},
     "output_type": "execute_result"
    }
   ],
   "source": [
    "df.duplicated().sum()"
   ]
  },
  {
   "cell_type": "code",
   "execution_count": 33,
   "id": "422d7768",
   "metadata": {},
   "outputs": [],
   "source": [
    "df.drop_duplicates(inplace=True)"
   ]
  },
  {
   "cell_type": "code",
   "execution_count": 34,
   "id": "14d9fe7d",
   "metadata": {},
   "outputs": [
    {
     "data": {
      "text/plain": [
       "0"
      ]
     },
     "execution_count": 34,
     "metadata": {},
     "output_type": "execute_result"
    }
   ],
   "source": [
    "df.duplicated().sum()"
   ]
  },
  {
   "cell_type": "markdown",
   "id": "7b5ff9d1",
   "metadata": {},
   "source": [
    "<div class=\"alert alert-info\">\n",
    "Удалил дубликаты "
   ]
  },
  {
   "cell_type": "markdown",
   "id": "65fc955c",
   "metadata": {},
   "source": [
    "### Анализ"
   ]
  },
  {
   "cell_type": "code",
   "execution_count": 35,
   "id": "1bd762ac",
   "metadata": {},
   "outputs": [
    {
     "data": {
      "text/plain": [
       "Index(['party_sobriety', 'intersection', 'weather_1', 'road_surface',\n",
       "       'lighting', 'county_city_location', 'location_type', 'road_condition_1',\n",
       "       'vehicle_type', 'vehicle_transmission', 'vehicle_age', 'at_fault'],\n",
       "      dtype='object')"
      ]
     },
     "execution_count": 35,
     "metadata": {},
     "output_type": "execute_result"
    }
   ],
   "source": [
    "df.columns"
   ]
  },
  {
   "cell_type": "code",
   "execution_count": 36,
   "id": "1b6cb4b8",
   "metadata": {},
   "outputs": [
    {
     "data": {
      "text/html": [
       "<div>\n",
       "<style scoped>\n",
       "    .dataframe tbody tr th:only-of-type {\n",
       "        vertical-align: middle;\n",
       "    }\n",
       "\n",
       "    .dataframe tbody tr th {\n",
       "        vertical-align: top;\n",
       "    }\n",
       "\n",
       "    .dataframe thead tr th {\n",
       "        text-align: left;\n",
       "    }\n",
       "\n",
       "    .dataframe thead tr:last-of-type th {\n",
       "        text-align: right;\n",
       "    }\n",
       "</style>\n",
       "<table border=\"1\" class=\"dataframe\">\n",
       "  <thead>\n",
       "    <tr>\n",
       "      <th></th>\n",
       "      <th colspan=\"2\" halign=\"left\">county_city_location</th>\n",
       "    </tr>\n",
       "    <tr>\n",
       "      <th>at_fault</th>\n",
       "      <th>0</th>\n",
       "      <th>1</th>\n",
       "    </tr>\n",
       "    <tr>\n",
       "      <th>party_sobriety</th>\n",
       "      <th></th>\n",
       "      <th></th>\n",
       "    </tr>\n",
       "  </thead>\n",
       "  <tbody>\n",
       "    <tr>\n",
       "      <th>had been drinking, impairment unknown</th>\n",
       "      <td>242</td>\n",
       "      <td>1145</td>\n",
       "    </tr>\n",
       "    <tr>\n",
       "      <th>had been drinking, not under influence</th>\n",
       "      <td>424</td>\n",
       "      <td>1001</td>\n",
       "    </tr>\n",
       "    <tr>\n",
       "      <th>had been drinking, under influence</th>\n",
       "      <td>493</td>\n",
       "      <td>7334</td>\n",
       "    </tr>\n",
       "    <tr>\n",
       "      <th>had not been drinking</th>\n",
       "      <td>38123</td>\n",
       "      <td>37051</td>\n",
       "    </tr>\n",
       "    <tr>\n",
       "      <th>impairment unknown</th>\n",
       "      <td>2465</td>\n",
       "      <td>7639</td>\n",
       "    </tr>\n",
       "    <tr>\n",
       "      <th>not applicable</th>\n",
       "      <td>600</td>\n",
       "      <td>610</td>\n",
       "    </tr>\n",
       "  </tbody>\n",
       "</table>\n",
       "</div>"
      ],
      "text/plain": [
       "                                       county_city_location       \n",
       "at_fault                                                  0      1\n",
       "party_sobriety                                                    \n",
       "had been drinking, impairment unknown                   242   1145\n",
       "had been drinking, not under influence                  424   1001\n",
       "had been drinking, under influence                      493   7334\n",
       "had not been drinking                                 38123  37051\n",
       "impairment unknown                                     2465   7639\n",
       "not applicable                                          600    610"
      ]
     },
     "execution_count": 36,
     "metadata": {},
     "output_type": "execute_result"
    }
   ],
   "source": [
    "piv = pd.pivot_table(df[['party_sobriety', 'at_fault', 'county_city_location' ]], index='party_sobriety',\n",
    "               columns='at_fault', aggfunc='count' )\n",
    "piv"
   ]
  },
  {
   "cell_type": "code",
   "execution_count": 37,
   "id": "ce7a0c05",
   "metadata": {},
   "outputs": [],
   "source": [
    "piv.columns = [0, 1]"
   ]
  },
  {
   "cell_type": "code",
   "execution_count": 38,
   "id": "25026d06",
   "metadata": {},
   "outputs": [
    {
     "data": {
      "text/html": [
       "<div>\n",
       "<style scoped>\n",
       "    .dataframe tbody tr th:only-of-type {\n",
       "        vertical-align: middle;\n",
       "    }\n",
       "\n",
       "    .dataframe tbody tr th {\n",
       "        vertical-align: top;\n",
       "    }\n",
       "\n",
       "    .dataframe thead th {\n",
       "        text-align: right;\n",
       "    }\n",
       "</style>\n",
       "<table border=\"1\" class=\"dataframe\">\n",
       "  <thead>\n",
       "    <tr style=\"text-align: right;\">\n",
       "      <th></th>\n",
       "      <th>0</th>\n",
       "      <th>1</th>\n",
       "      <th>percent</th>\n",
       "    </tr>\n",
       "    <tr>\n",
       "      <th>party_sobriety</th>\n",
       "      <th></th>\n",
       "      <th></th>\n",
       "      <th></th>\n",
       "    </tr>\n",
       "  </thead>\n",
       "  <tbody>\n",
       "    <tr>\n",
       "      <th>had been drinking, impairment unknown</th>\n",
       "      <td>242</td>\n",
       "      <td>1145</td>\n",
       "      <td>82.55</td>\n",
       "    </tr>\n",
       "    <tr>\n",
       "      <th>had been drinking, not under influence</th>\n",
       "      <td>424</td>\n",
       "      <td>1001</td>\n",
       "      <td>70.25</td>\n",
       "    </tr>\n",
       "    <tr>\n",
       "      <th>had been drinking, under influence</th>\n",
       "      <td>493</td>\n",
       "      <td>7334</td>\n",
       "      <td>93.70</td>\n",
       "    </tr>\n",
       "    <tr>\n",
       "      <th>had not been drinking</th>\n",
       "      <td>38123</td>\n",
       "      <td>37051</td>\n",
       "      <td>49.29</td>\n",
       "    </tr>\n",
       "    <tr>\n",
       "      <th>impairment unknown</th>\n",
       "      <td>2465</td>\n",
       "      <td>7639</td>\n",
       "      <td>75.60</td>\n",
       "    </tr>\n",
       "    <tr>\n",
       "      <th>not applicable</th>\n",
       "      <td>600</td>\n",
       "      <td>610</td>\n",
       "      <td>50.41</td>\n",
       "    </tr>\n",
       "  </tbody>\n",
       "</table>\n",
       "</div>"
      ],
      "text/plain": [
       "                                            0      1  percent\n",
       "party_sobriety                                               \n",
       "had been drinking, impairment unknown     242   1145    82.55\n",
       "had been drinking, not under influence    424   1001    70.25\n",
       "had been drinking, under influence        493   7334    93.70\n",
       "had not been drinking                   38123  37051    49.29\n",
       "impairment unknown                       2465   7639    75.60\n",
       "not applicable                            600    610    50.41"
      ]
     },
     "execution_count": 38,
     "metadata": {},
     "output_type": "execute_result"
    }
   ],
   "source": [
    "piv['percent'] = round(piv[1]*100/(piv[0] + piv[1]), 2)\n",
    "piv"
   ]
  },
  {
   "cell_type": "markdown",
   "id": "18056eff",
   "metadata": {},
   "source": [
    "Наличие опьянения серьезно увеличивает аварийность по вине водителя. Если трезвые водители признаны виновниками ДТП только в 49.29% случаев, то нетрезвые от 70.25% до 93.70% в зависимости от степени опьянения.\n",
    "\n",
    "Считаю, что имеет смысл объединить категории нетрезвых водителей, потому что, если возникнет необходимость установки оборудования для фиксации состояния водителей - без разницы какая будет степень опьянения."
   ]
  },
  {
   "cell_type": "code",
   "execution_count": 39,
   "id": "7dda9a6f",
   "metadata": {},
   "outputs": [],
   "source": [
    "lis = ['had been drinking, under influence',\n",
    "       'had been drinking, not under influence',\n",
    "       'had been drinking, impairment unknown']\n",
    "df['party_sobriety'] = df['party_sobriety'].apply(lambda x: 'had been drinking' if x in lis else x)"
   ]
  },
  {
   "cell_type": "code",
   "execution_count": 40,
   "id": "4fe5be12",
   "metadata": {},
   "outputs": [
    {
     "data": {
      "text/plain": [
       "array(['had not been drinking', 'impairment unknown', 'had been drinking',\n",
       "       'not applicable'], dtype=object)"
      ]
     },
     "execution_count": 40,
     "metadata": {},
     "output_type": "execute_result"
    }
   ],
   "source": [
    "df['party_sobriety'].unique()"
   ]
  },
  {
   "cell_type": "code",
   "execution_count": 41,
   "id": "277eddc3",
   "metadata": {},
   "outputs": [
    {
     "data": {
      "text/html": [
       "<div>\n",
       "<style scoped>\n",
       "    .dataframe tbody tr th:only-of-type {\n",
       "        vertical-align: middle;\n",
       "    }\n",
       "\n",
       "    .dataframe tbody tr th {\n",
       "        vertical-align: top;\n",
       "    }\n",
       "\n",
       "    .dataframe thead th {\n",
       "        text-align: right;\n",
       "    }\n",
       "</style>\n",
       "<table border=\"1\" class=\"dataframe\">\n",
       "  <thead>\n",
       "    <tr style=\"text-align: right;\">\n",
       "      <th></th>\n",
       "      <th>0</th>\n",
       "      <th>1</th>\n",
       "      <th>percent</th>\n",
       "    </tr>\n",
       "    <tr>\n",
       "      <th>party_sobriety</th>\n",
       "      <th></th>\n",
       "      <th></th>\n",
       "      <th></th>\n",
       "    </tr>\n",
       "  </thead>\n",
       "  <tbody>\n",
       "    <tr>\n",
       "      <th>had been drinking</th>\n",
       "      <td>1159</td>\n",
       "      <td>9480</td>\n",
       "      <td>89.11</td>\n",
       "    </tr>\n",
       "    <tr>\n",
       "      <th>had not been drinking</th>\n",
       "      <td>38123</td>\n",
       "      <td>37051</td>\n",
       "      <td>49.29</td>\n",
       "    </tr>\n",
       "    <tr>\n",
       "      <th>impairment unknown</th>\n",
       "      <td>2465</td>\n",
       "      <td>7639</td>\n",
       "      <td>75.60</td>\n",
       "    </tr>\n",
       "    <tr>\n",
       "      <th>not applicable</th>\n",
       "      <td>600</td>\n",
       "      <td>610</td>\n",
       "      <td>50.41</td>\n",
       "    </tr>\n",
       "  </tbody>\n",
       "</table>\n",
       "</div>"
      ],
      "text/plain": [
       "                           0      1  percent\n",
       "party_sobriety                              \n",
       "had been drinking       1159   9480    89.11\n",
       "had not been drinking  38123  37051    49.29\n",
       "impairment unknown      2465   7639    75.60\n",
       "not applicable           600    610    50.41"
      ]
     },
     "execution_count": 41,
     "metadata": {},
     "output_type": "execute_result"
    }
   ],
   "source": [
    "piv = pd.pivot_table(df[['party_sobriety', 'at_fault', 'county_city_location' ]], index='party_sobriety',\n",
    "               columns='at_fault', aggfunc='count' )\n",
    "piv.columns = [0, 1]\n",
    "piv['percent'] = round(piv[1]*100/(piv[0] + piv[1]), 2)\n",
    "piv"
   ]
  },
  {
   "cell_type": "code",
   "execution_count": 42,
   "id": "d6cfa08d",
   "metadata": {},
   "outputs": [],
   "source": [
    "def piv_for_fault(col, col1='county_city_location', aggfunc='count'):\n",
    "    piv = pd.pivot_table(df[[col, 'at_fault', col1]], index=col,\n",
    "                   columns='at_fault', aggfunc=aggfunc)\n",
    "    piv.columns = [0, 1]\n",
    "    piv['percent'] = round(piv[1]*100/(piv[0] + piv[1]), 2)\n",
    "    return piv"
   ]
  },
  {
   "cell_type": "code",
   "execution_count": 43,
   "id": "3b5ae131",
   "metadata": {},
   "outputs": [
    {
     "data": {
      "text/html": [
       "<div>\n",
       "<style scoped>\n",
       "    .dataframe tbody tr th:only-of-type {\n",
       "        vertical-align: middle;\n",
       "    }\n",
       "\n",
       "    .dataframe tbody tr th {\n",
       "        vertical-align: top;\n",
       "    }\n",
       "\n",
       "    .dataframe thead th {\n",
       "        text-align: right;\n",
       "    }\n",
       "</style>\n",
       "<table border=\"1\" class=\"dataframe\">\n",
       "  <thead>\n",
       "    <tr style=\"text-align: right;\">\n",
       "      <th></th>\n",
       "      <th>0</th>\n",
       "      <th>1</th>\n",
       "      <th>percent</th>\n",
       "    </tr>\n",
       "    <tr>\n",
       "      <th>intersection</th>\n",
       "      <th></th>\n",
       "      <th></th>\n",
       "      <th></th>\n",
       "    </tr>\n",
       "  </thead>\n",
       "  <tbody>\n",
       "    <tr>\n",
       "      <th>0.00</th>\n",
       "      <td>30267</td>\n",
       "      <td>41578</td>\n",
       "      <td>57.87</td>\n",
       "    </tr>\n",
       "    <tr>\n",
       "      <th>1.00</th>\n",
       "      <td>12080</td>\n",
       "      <td>13202</td>\n",
       "      <td>52.22</td>\n",
       "    </tr>\n",
       "  </tbody>\n",
       "</table>\n",
       "</div>"
      ],
      "text/plain": [
       "                  0      1  percent\n",
       "intersection                       \n",
       "0.00          30267  41578    57.87\n",
       "1.00          12080  13202    52.22"
      ]
     },
     "execution_count": 43,
     "metadata": {},
     "output_type": "execute_result"
    }
   ],
   "source": [
    "piv_for_fault('intersection')"
   ]
  },
  {
   "cell_type": "markdown",
   "id": "24eb0711",
   "metadata": {},
   "source": [
    "От перекрестков вроде мало что зависит "
   ]
  },
  {
   "cell_type": "code",
   "execution_count": 44,
   "id": "5aa6393f",
   "metadata": {},
   "outputs": [
    {
     "data": {
      "text/html": [
       "<div>\n",
       "<style scoped>\n",
       "    .dataframe tbody tr th:only-of-type {\n",
       "        vertical-align: middle;\n",
       "    }\n",
       "\n",
       "    .dataframe tbody tr th {\n",
       "        vertical-align: top;\n",
       "    }\n",
       "\n",
       "    .dataframe thead th {\n",
       "        text-align: right;\n",
       "    }\n",
       "</style>\n",
       "<table border=\"1\" class=\"dataframe\">\n",
       "  <thead>\n",
       "    <tr style=\"text-align: right;\">\n",
       "      <th></th>\n",
       "      <th>0</th>\n",
       "      <th>1</th>\n",
       "      <th>percent</th>\n",
       "    </tr>\n",
       "    <tr>\n",
       "      <th>weather_1</th>\n",
       "      <th></th>\n",
       "      <th></th>\n",
       "      <th></th>\n",
       "    </tr>\n",
       "  </thead>\n",
       "  <tbody>\n",
       "    <tr>\n",
       "      <th>clear</th>\n",
       "      <td>30963</td>\n",
       "      <td>38666</td>\n",
       "      <td>55.53</td>\n",
       "    </tr>\n",
       "    <tr>\n",
       "      <th>cloudy</th>\n",
       "      <td>8487</td>\n",
       "      <td>11631</td>\n",
       "      <td>57.81</td>\n",
       "    </tr>\n",
       "    <tr>\n",
       "      <th>fog</th>\n",
       "      <td>210</td>\n",
       "      <td>353</td>\n",
       "      <td>62.70</td>\n",
       "    </tr>\n",
       "    <tr>\n",
       "      <th>other</th>\n",
       "      <td>48</td>\n",
       "      <td>83</td>\n",
       "      <td>63.36</td>\n",
       "    </tr>\n",
       "    <tr>\n",
       "      <th>raining</th>\n",
       "      <td>2476</td>\n",
       "      <td>3776</td>\n",
       "      <td>60.40</td>\n",
       "    </tr>\n",
       "    <tr>\n",
       "      <th>snowing</th>\n",
       "      <td>137</td>\n",
       "      <td>249</td>\n",
       "      <td>64.51</td>\n",
       "    </tr>\n",
       "    <tr>\n",
       "      <th>wind</th>\n",
       "      <td>26</td>\n",
       "      <td>22</td>\n",
       "      <td>45.83</td>\n",
       "    </tr>\n",
       "  </tbody>\n",
       "</table>\n",
       "</div>"
      ],
      "text/plain": [
       "               0      1  percent\n",
       "weather_1                       \n",
       "clear      30963  38666    55.53\n",
       "cloudy      8487  11631    57.81\n",
       "fog          210    353    62.70\n",
       "other         48     83    63.36\n",
       "raining     2476   3776    60.40\n",
       "snowing      137    249    64.51\n",
       "wind          26     22    45.83"
      ]
     },
     "execution_count": 44,
     "metadata": {},
     "output_type": "execute_result"
    }
   ],
   "source": [
    "piv_for_fault('weather_1')"
   ]
  },
  {
   "cell_type": "markdown",
   "id": "a63b7526",
   "metadata": {},
   "source": [
    "Относительно хорошей погоды наибольшее влияние оказывает снегопад, но аварий при нем в абсолютных значениях мало, наверное в месте фиксации снегопад не частое явление."
   ]
  },
  {
   "cell_type": "code",
   "execution_count": 45,
   "id": "7dba9a38",
   "metadata": {},
   "outputs": [
    {
     "data": {
      "text/plain": [
       "Index(['party_sobriety', 'intersection', 'weather_1', 'road_surface',\n",
       "       'lighting', 'county_city_location', 'location_type', 'road_condition_1',\n",
       "       'vehicle_type', 'vehicle_transmission', 'vehicle_age', 'at_fault'],\n",
       "      dtype='object')"
      ]
     },
     "execution_count": 45,
     "metadata": {},
     "output_type": "execute_result"
    }
   ],
   "source": [
    "df.columns"
   ]
  },
  {
   "cell_type": "code",
   "execution_count": 46,
   "id": "d9e53feb",
   "metadata": {},
   "outputs": [
    {
     "data": {
      "text/html": [
       "<div>\n",
       "<style scoped>\n",
       "    .dataframe tbody tr th:only-of-type {\n",
       "        vertical-align: middle;\n",
       "    }\n",
       "\n",
       "    .dataframe tbody tr th {\n",
       "        vertical-align: top;\n",
       "    }\n",
       "\n",
       "    .dataframe thead th {\n",
       "        text-align: right;\n",
       "    }\n",
       "</style>\n",
       "<table border=\"1\" class=\"dataframe\">\n",
       "  <thead>\n",
       "    <tr style=\"text-align: right;\">\n",
       "      <th></th>\n",
       "      <th>0</th>\n",
       "      <th>1</th>\n",
       "      <th>percent</th>\n",
       "    </tr>\n",
       "    <tr>\n",
       "      <th>road_surface</th>\n",
       "      <th></th>\n",
       "      <th></th>\n",
       "      <th></th>\n",
       "    </tr>\n",
       "  </thead>\n",
       "  <tbody>\n",
       "    <tr>\n",
       "      <th>dry</th>\n",
       "      <td>36435</td>\n",
       "      <td>45483</td>\n",
       "      <td>55.52</td>\n",
       "    </tr>\n",
       "    <tr>\n",
       "      <th>slippery</th>\n",
       "      <td>55</td>\n",
       "      <td>78</td>\n",
       "      <td>58.65</td>\n",
       "    </tr>\n",
       "    <tr>\n",
       "      <th>snowy</th>\n",
       "      <td>263</td>\n",
       "      <td>567</td>\n",
       "      <td>68.31</td>\n",
       "    </tr>\n",
       "    <tr>\n",
       "      <th>wet</th>\n",
       "      <td>5594</td>\n",
       "      <td>8652</td>\n",
       "      <td>60.73</td>\n",
       "    </tr>\n",
       "  </tbody>\n",
       "</table>\n",
       "</div>"
      ],
      "text/plain": [
       "                  0      1  percent\n",
       "road_surface                       \n",
       "dry           36435  45483    55.52\n",
       "slippery         55     78    58.65\n",
       "snowy           263    567    68.31\n",
       "wet            5594   8652    60.73"
      ]
     },
     "execution_count": 46,
     "metadata": {},
     "output_type": "execute_result"
    }
   ],
   "source": [
    "piv_for_fault('road_surface')"
   ]
  },
  {
   "cell_type": "markdown",
   "id": "a107f0e2",
   "metadata": {},
   "source": [
    "Состояние дорожного полотна влияет на аварийность, но похоже, что дороги практически всегда сухие."
   ]
  },
  {
   "cell_type": "code",
   "execution_count": 47,
   "id": "5143a190",
   "metadata": {},
   "outputs": [
    {
     "data": {
      "text/html": [
       "<div>\n",
       "<style scoped>\n",
       "    .dataframe tbody tr th:only-of-type {\n",
       "        vertical-align: middle;\n",
       "    }\n",
       "\n",
       "    .dataframe tbody tr th {\n",
       "        vertical-align: top;\n",
       "    }\n",
       "\n",
       "    .dataframe thead th {\n",
       "        text-align: right;\n",
       "    }\n",
       "</style>\n",
       "<table border=\"1\" class=\"dataframe\">\n",
       "  <thead>\n",
       "    <tr style=\"text-align: right;\">\n",
       "      <th></th>\n",
       "      <th>0</th>\n",
       "      <th>1</th>\n",
       "      <th>percent</th>\n",
       "    </tr>\n",
       "    <tr>\n",
       "      <th>road_condition_1</th>\n",
       "      <th></th>\n",
       "      <th></th>\n",
       "      <th></th>\n",
       "    </tr>\n",
       "  </thead>\n",
       "  <tbody>\n",
       "    <tr>\n",
       "      <th>construction</th>\n",
       "      <td>1231</td>\n",
       "      <td>1387</td>\n",
       "      <td>52.98</td>\n",
       "    </tr>\n",
       "    <tr>\n",
       "      <th>flooded</th>\n",
       "      <td>35</td>\n",
       "      <td>75</td>\n",
       "      <td>68.18</td>\n",
       "    </tr>\n",
       "    <tr>\n",
       "      <th>holes</th>\n",
       "      <td>182</td>\n",
       "      <td>227</td>\n",
       "      <td>55.50</td>\n",
       "    </tr>\n",
       "    <tr>\n",
       "      <th>loose material</th>\n",
       "      <td>127</td>\n",
       "      <td>191</td>\n",
       "      <td>60.06</td>\n",
       "    </tr>\n",
       "    <tr>\n",
       "      <th>normal</th>\n",
       "      <td>40056</td>\n",
       "      <td>52018</td>\n",
       "      <td>56.50</td>\n",
       "    </tr>\n",
       "    <tr>\n",
       "      <th>obstruction</th>\n",
       "      <td>314</td>\n",
       "      <td>346</td>\n",
       "      <td>52.42</td>\n",
       "    </tr>\n",
       "    <tr>\n",
       "      <th>other</th>\n",
       "      <td>316</td>\n",
       "      <td>418</td>\n",
       "      <td>56.95</td>\n",
       "    </tr>\n",
       "    <tr>\n",
       "      <th>reduced width</th>\n",
       "      <td>86</td>\n",
       "      <td>118</td>\n",
       "      <td>57.84</td>\n",
       "    </tr>\n",
       "  </tbody>\n",
       "</table>\n",
       "</div>"
      ],
      "text/plain": [
       "                      0      1  percent\n",
       "road_condition_1                       \n",
       "construction       1231   1387    52.98\n",
       "flooded              35     75    68.18\n",
       "holes               182    227    55.50\n",
       "loose material      127    191    60.06\n",
       "normal            40056  52018    56.50\n",
       "obstruction         314    346    52.42\n",
       "other               316    418    56.95\n",
       "reduced width        86    118    57.84"
      ]
     },
     "execution_count": 47,
     "metadata": {},
     "output_type": "execute_result"
    }
   ],
   "source": [
    "piv_for_fault('road_condition_1')"
   ]
  },
  {
   "cell_type": "markdown",
   "id": "fc895ad8",
   "metadata": {},
   "source": [
    "Меньше всего аварий на разбитых и строящихся дорогах, наверное, потому что водители максимально осторожны на таких участках."
   ]
  },
  {
   "cell_type": "code",
   "execution_count": 48,
   "id": "ab4a34e2",
   "metadata": {},
   "outputs": [
    {
     "data": {
      "text/html": [
       "<div>\n",
       "<style scoped>\n",
       "    .dataframe tbody tr th:only-of-type {\n",
       "        vertical-align: middle;\n",
       "    }\n",
       "\n",
       "    .dataframe tbody tr th {\n",
       "        vertical-align: top;\n",
       "    }\n",
       "\n",
       "    .dataframe thead th {\n",
       "        text-align: right;\n",
       "    }\n",
       "</style>\n",
       "<table border=\"1\" class=\"dataframe\">\n",
       "  <thead>\n",
       "    <tr style=\"text-align: right;\">\n",
       "      <th></th>\n",
       "      <th>0</th>\n",
       "      <th>1</th>\n",
       "      <th>percent</th>\n",
       "    </tr>\n",
       "    <tr>\n",
       "      <th>lighting</th>\n",
       "      <th></th>\n",
       "      <th></th>\n",
       "      <th></th>\n",
       "    </tr>\n",
       "  </thead>\n",
       "  <tbody>\n",
       "    <tr>\n",
       "      <th>dark with no street lights</th>\n",
       "      <td>3757</td>\n",
       "      <td>6412</td>\n",
       "      <td>63.05</td>\n",
       "    </tr>\n",
       "    <tr>\n",
       "      <th>dark with street lights</th>\n",
       "      <td>9021</td>\n",
       "      <td>13149</td>\n",
       "      <td>59.31</td>\n",
       "    </tr>\n",
       "    <tr>\n",
       "      <th>dark with street lights not functioning</th>\n",
       "      <td>179</td>\n",
       "      <td>250</td>\n",
       "      <td>58.28</td>\n",
       "    </tr>\n",
       "    <tr>\n",
       "      <th>daylight</th>\n",
       "      <td>27083</td>\n",
       "      <td>32085</td>\n",
       "      <td>54.23</td>\n",
       "    </tr>\n",
       "    <tr>\n",
       "      <th>dusk or dawn</th>\n",
       "      <td>2307</td>\n",
       "      <td>2884</td>\n",
       "      <td>55.56</td>\n",
       "    </tr>\n",
       "  </tbody>\n",
       "</table>\n",
       "</div>"
      ],
      "text/plain": [
       "                                             0      1  percent\n",
       "lighting                                                      \n",
       "dark with no street lights                3757   6412    63.05\n",
       "dark with street lights                   9021  13149    59.31\n",
       "dark with street lights not functioning    179    250    58.28\n",
       "daylight                                 27083  32085    54.23\n",
       "dusk or dawn                              2307   2884    55.56"
      ]
     },
     "execution_count": 48,
     "metadata": {},
     "output_type": "execute_result"
    }
   ],
   "source": [
    "piv_for_fault('lighting')"
   ]
  },
  {
   "cell_type": "markdown",
   "id": "7bdfb3e5",
   "metadata": {},
   "source": [
    "Неосвещенные улицы увеличивают аварийность."
   ]
  },
  {
   "cell_type": "code",
   "execution_count": 49,
   "id": "0492a761",
   "metadata": {},
   "outputs": [
    {
     "data": {
      "text/html": [
       "<div>\n",
       "<style scoped>\n",
       "    .dataframe tbody tr th:only-of-type {\n",
       "        vertical-align: middle;\n",
       "    }\n",
       "\n",
       "    .dataframe tbody tr th {\n",
       "        vertical-align: top;\n",
       "    }\n",
       "\n",
       "    .dataframe thead th {\n",
       "        text-align: right;\n",
       "    }\n",
       "</style>\n",
       "<table border=\"1\" class=\"dataframe\">\n",
       "  <thead>\n",
       "    <tr style=\"text-align: right;\">\n",
       "      <th></th>\n",
       "      <th>0</th>\n",
       "      <th>1</th>\n",
       "      <th>percent</th>\n",
       "    </tr>\n",
       "    <tr>\n",
       "      <th>vehicle_transmission</th>\n",
       "      <th></th>\n",
       "      <th></th>\n",
       "      <th></th>\n",
       "    </tr>\n",
       "  </thead>\n",
       "  <tbody>\n",
       "    <tr>\n",
       "      <th>auto</th>\n",
       "      <td>15335</td>\n",
       "      <td>17673</td>\n",
       "      <td>53.54</td>\n",
       "    </tr>\n",
       "    <tr>\n",
       "      <th>manual</th>\n",
       "      <td>16471</td>\n",
       "      <td>20255</td>\n",
       "      <td>55.15</td>\n",
       "    </tr>\n",
       "    <tr>\n",
       "      <th>unknow</th>\n",
       "      <td>10541</td>\n",
       "      <td>16852</td>\n",
       "      <td>61.52</td>\n",
       "    </tr>\n",
       "  </tbody>\n",
       "</table>\n",
       "</div>"
      ],
      "text/plain": [
       "                          0      1  percent\n",
       "vehicle_transmission                       \n",
       "auto                  15335  17673    53.54\n",
       "manual                16471  20255    55.15\n",
       "unknow                10541  16852    61.52"
      ]
     },
     "execution_count": 49,
     "metadata": {},
     "output_type": "execute_result"
    }
   ],
   "source": [
    "piv_for_fault('vehicle_transmission')"
   ]
  },
  {
   "cell_type": "markdown",
   "id": "32858a31",
   "metadata": {},
   "source": [
    "Влияние коробки передач не очевидно."
   ]
  },
  {
   "cell_type": "code",
   "execution_count": 50,
   "id": "4b70ab74",
   "metadata": {},
   "outputs": [
    {
     "data": {
      "text/plain": [
       "<AxesSubplot:xlabel='vehicle_age', ylabel='Count'>"
      ]
     },
     "execution_count": 50,
     "metadata": {},
     "output_type": "execute_result"
    },
    {
     "data": {
      "image/png": "[encoded data removed]",
      "text/plain": [
       "<Figure size 432x288 with 1 Axes>"
      ]
     },
     "metadata": {
      "needs_background": "light"
     },
     "output_type": "display_data"
    }
   ],
   "source": [
    "sns.histplot(data=df, x=\"vehicle_age\", hue=\"at_fault\", bins=30)"
   ]
  },
  {
   "cell_type": "code",
   "execution_count": 51,
   "id": "42e3751c",
   "metadata": {},
   "outputs": [
    {
     "data": {
      "text/plain": [
       "<AxesSubplot:xlabel='vehicle_age', ylabel='Count'>"
      ]
     },
     "execution_count": 51,
     "metadata": {},
     "output_type": "execute_result"
    },
    {
     "data": {
      "image/png": "[encoded data removed]",
      "text/plain": [
       "<Figure size 432x288 with 1 Axes>"
      ]
     },
     "metadata": {
      "needs_background": "light"
     },
     "output_type": "display_data"
    }
   ],
   "source": [
    "sns.histplot(data=df, x=\"vehicle_age\", hue=\"at_fault\", multiple=\"stack\", bins=20)"
   ]
  },
  {
   "cell_type": "code",
   "execution_count": 52,
   "id": "d07313a4",
   "metadata": {},
   "outputs": [
    {
     "data": {
      "text/plain": [
       "1    11411\n",
       "0     9167\n",
       "Name: at_fault, dtype: int64"
      ]
     },
     "execution_count": 52,
     "metadata": {},
     "output_type": "execute_result"
    }
   ],
   "source": [
    "df.loc[df.vehicle_age.isin([4, 5, 6]), 'at_fault'].value_counts()"
   ]
  },
  {
   "cell_type": "code",
   "execution_count": 53,
   "id": "4b54b4bc",
   "metadata": {},
   "outputs": [
    {
     "data": {
      "text/plain": [
       "1    43369\n",
       "0    33180\n",
       "Name: at_fault, dtype: int64"
      ]
     },
     "execution_count": 53,
     "metadata": {},
     "output_type": "execute_result"
    }
   ],
   "source": [
    "df.loc[~df.vehicle_age.isin([4, 5, 6]), 'at_fault'].value_counts()"
   ]
  },
  {
   "cell_type": "markdown",
   "id": "531db939",
   "metadata": {},
   "source": [
    "Влияние возраста автомобиля на аварийность не очевидно."
   ]
  },
  {
   "cell_type": "markdown",
   "id": "501c629f",
   "metadata": {},
   "source": [
    "### Подготовка данных"
   ]
  },
  {
   "cell_type": "code",
   "execution_count": 54,
   "id": "5fb0155e",
   "metadata": {},
   "outputs": [
    {
     "data": {
      "text/plain": [
       "['vehicle_age']"
      ]
     },
     "execution_count": 54,
     "metadata": {},
     "output_type": "execute_result"
    }
   ],
   "source": [
    "num"
   ]
  },
  {
   "cell_type": "code",
   "execution_count": 55,
   "id": "ac609030",
   "metadata": {},
   "outputs": [
    {
     "data": {
      "text/plain": [
       "['weather_1',\n",
       " 'road_surface',\n",
       " 'lighting',\n",
       " 'county_city_location',\n",
       " 'location_type',\n",
       " 'intersection',\n",
       " 'road_condition_1',\n",
       " 'party_sobriety',\n",
       " 'vehicle_type',\n",
       " 'vehicle_transmission']"
      ]
     },
     "execution_count": 55,
     "metadata": {},
     "output_type": "execute_result"
    }
   ],
   "source": [
    "cat = list(set(cat) - set(['at_fault']))\n",
    "cat"
   ]
  },
  {
   "cell_type": "code",
   "execution_count": 56,
   "id": "85b59db0",
   "metadata": {},
   "outputs": [],
   "source": [
    "y = df['at_fault']\n",
    "X = df.drop('at_fault', axis=1)"
   ]
  },
  {
   "cell_type": "code",
   "execution_count": 57,
   "id": "8345b903",
   "metadata": {},
   "outputs": [],
   "source": [
    "X_train, X_test, y_train, y_test = train_test_split(X, y, test_size=0.2, \n",
    "                               shuffle=True, random_state=4,\n",
    "                               stratify=y)"
   ]
  },
  {
   "cell_type": "code",
   "execution_count": 58,
   "id": "92e8c176",
   "metadata": {},
   "outputs": [
    {
     "data": {
      "text/plain": [
       "((77701, 11), (19426, 11), (77701,), (19426,))"
      ]
     },
     "execution_count": 58,
     "metadata": {},
     "output_type": "execute_result"
    }
   ],
   "source": [
    "X_train.shape, X_test.shape, y_train.shape, y_test.shape"
   ]
  },
  {
   "cell_type": "markdown",
   "id": "1d7bd6b4",
   "metadata": {},
   "source": [
    "Обучим для решения проблемы модели логистической регрессии, случайного леса, катбуста. Предобработка данных будет отличатся от модели к модели."
   ]
  },
  {
   "cell_type": "code",
   "execution_count": 59,
   "id": "50501ae0",
   "metadata": {},
   "outputs": [
    {
     "data": {
      "text/html": [
       "<style>#sk-container-id-1 {color: black;background-color: white;}#sk-container-id-1 pre{padding: 0;}#sk-container-id-1 div.sk-toggleable {background-color: white;}#sk-container-id-1 label.sk-toggleable__label {cursor: pointer;display: block;width: 100%;margin-bottom: 0;padding: 0.3em;box-sizing: border-box;text-align: center;}#sk-container-id-1 label.sk-toggleable__label-arrow:before {content: \"▸\";float: left;margin-right: 0.25em;color: #696969;}#sk-container-id-1 label.sk-toggleable__label-arrow:hover:before {color: black;}#sk-container-id-1 div.sk-estimator:hover label.sk-toggleable__label-arrow:before {color: black;}#sk-container-id-1 div.sk-toggleable__content {max-height: 0;max-width: 0;overflow: hidden;text-align: left;background-color: #f0f8ff;}#sk-container-id-1 div.sk-toggleable__content pre {margin: 0.2em;color: black;border-radius: 0.25em;background-color: #f0f8ff;}#sk-container-id-1 input.sk-toggleable__control:checked~div.sk-toggleable__content {max-height: 200px;max-width: 100%;overflow: auto;}#sk-container-id-1 input.sk-toggleable__control:checked~label.sk-toggleable__label-arrow:before {content: \"▾\";}#sk-container-id-1 div.sk-estimator input.sk-toggleable__control:checked~label.sk-toggleable__label {background-color: #d4ebff;}#sk-container-id-1 div.sk-label input.sk-toggleable__control:checked~label.sk-toggleable__label {background-color: #d4ebff;}#sk-container-id-1 input.sk-hidden--visually {border: 0;clip: rect(1px 1px 1px 1px);clip: rect(1px, 1px, 1px, 1px);height: 1px;margin: -1px;overflow: hidden;padding: 0;position: absolute;width: 1px;}#sk-container-id-1 div.sk-estimator {font-family: monospace;background-color: #f0f8ff;border: 1px dotted black;border-radius: 0.25em;box-sizing: border-box;margin-bottom: 0.5em;}#sk-container-id-1 div.sk-estimator:hover {background-color: #d4ebff;}#sk-container-id-1 div.sk-parallel-item::after {content: \"\";width: 100%;border-bottom: 1px solid gray;flex-grow: 1;}#sk-container-id-1 div.sk-label:hover label.sk-toggleable__label {background-color: #d4ebff;}#sk-container-id-1 div.sk-serial::before {content: \"\";position: absolute;border-left: 1px solid gray;box-sizing: border-box;top: 0;bottom: 0;left: 50%;z-index: 0;}#sk-container-id-1 div.sk-serial {display: flex;flex-direction: column;align-items: center;background-color: white;padding-right: 0.2em;padding-left: 0.2em;position: relative;}#sk-container-id-1 div.sk-item {position: relative;z-index: 1;}#sk-container-id-1 div.sk-parallel {display: flex;align-items: stretch;justify-content: center;background-color: white;position: relative;}#sk-container-id-1 div.sk-item::before, #sk-container-id-1 div.sk-parallel-item::before {content: \"\";position: absolute;border-left: 1px solid gray;box-sizing: border-box;top: 0;bottom: 0;left: 50%;z-index: -1;}#sk-container-id-1 div.sk-parallel-item {display: flex;flex-direction: column;z-index: 1;position: relative;background-color: white;}#sk-container-id-1 div.sk-parallel-item:first-child::after {align-self: flex-end;width: 50%;}#sk-container-id-1 div.sk-parallel-item:last-child::after {align-self: flex-start;width: 50%;}#sk-container-id-1 div.sk-parallel-item:only-child::after {width: 0;}#sk-container-id-1 div.sk-dashed-wrapped {border: 1px dashed gray;margin: 0 0.4em 0.5em 0.4em;box-sizing: border-box;padding-bottom: 0.4em;background-color: white;}#sk-container-id-1 div.sk-label label {font-family: monospace;font-weight: bold;display: inline-block;line-height: 1.2em;}#sk-container-id-1 div.sk-label-container {text-align: center;}#sk-container-id-1 div.sk-container {/* jupyter's `normalize.less` sets `[hidden] { display: none; }` but bootstrap.min.css set `[hidden] { display: none !important; }` so we also need the `!important` here to be able to override the default hidden behavior on the sphinx rendered scikit-learn.org. See: https://github.com/scikit-learn/scikit-learn/issues/21755 */display: inline-block !important;position: relative;}#sk-container-id-1 div.sk-text-repr-fallback {display: none;}</style><div id=\"sk-container-id-1\" class=\"sk-top-container\"><div class=\"sk-text-repr-fallback\"><pre>Pipeline(steps=[(&#x27;preprocessor&#x27;,\n",
       "                 ColumnTransformer(transformers=[(&#x27;num_transform&#x27;,\n",
       "                                                  Pipeline(steps=[(&#x27;scaler&#x27;,\n",
       "                                                                   StandardScaler())]),\n",
       "                                                  [&#x27;vehicle_age&#x27;]),\n",
       "                                                 (&#x27;cat_transform&#x27;,\n",
       "                                                  Pipeline(steps=[(&#x27;cat&#x27;,\n",
       "                                                                   OneHotEncoder())]),\n",
       "                                                  [&#x27;weather_1&#x27;, &#x27;road_surface&#x27;,\n",
       "                                                   &#x27;lighting&#x27;,\n",
       "                                                   &#x27;county_city_location&#x27;,\n",
       "                                                   &#x27;location_type&#x27;,\n",
       "                                                   &#x27;intersection&#x27;,\n",
       "                                                   &#x27;road_condition_1&#x27;,\n",
       "                                                   &#x27;party_sobriety&#x27;,\n",
       "                                                   &#x27;vehicle_type&#x27;,\n",
       "                                                   &#x27;vehicle_transmission&#x27;])])),\n",
       "                (&#x27;imb&#x27;, SMOTE()), (&#x27;clf&#x27;, LogisticRegression(max_iter=800))])</pre><b>In a Jupyter environment, please rerun this cell to show the HTML representation or trust the notebook. <br />On GitHub, the HTML representation is unable to render, please try loading this page with nbviewer.org.</b></div><div class=\"sk-container\" hidden><div class=\"sk-item sk-dashed-wrapped\"><div class=\"sk-label-container\"><div class=\"sk-label sk-toggleable\"><input class=\"sk-toggleable__control sk-hidden--visually\" id=\"sk-estimator-id-1\" type=\"checkbox\" ><label for=\"sk-estimator-id-1\" class=\"sk-toggleable__label sk-toggleable__label-arrow\">Pipeline</label><div class=\"sk-toggleable__content\"><pre>Pipeline(steps=[(&#x27;preprocessor&#x27;,\n",
       "                 ColumnTransformer(transformers=[(&#x27;num_transform&#x27;,\n",
       "                                                  Pipeline(steps=[(&#x27;scaler&#x27;,\n",
       "                                                                   StandardScaler())]),\n",
       "                                                  [&#x27;vehicle_age&#x27;]),\n",
       "                                                 (&#x27;cat_transform&#x27;,\n",
       "                                                  Pipeline(steps=[(&#x27;cat&#x27;,\n",
       "                                                                   OneHotEncoder())]),\n",
       "                                                  [&#x27;weather_1&#x27;, &#x27;road_surface&#x27;,\n",
       "                                                   &#x27;lighting&#x27;,\n",
       "                                                   &#x27;county_city_location&#x27;,\n",
       "                                                   &#x27;location_type&#x27;,\n",
       "                                                   &#x27;intersection&#x27;,\n",
       "                                                   &#x27;road_condition_1&#x27;,\n",
       "                                                   &#x27;party_sobriety&#x27;,\n",
       "                                                   &#x27;vehicle_type&#x27;,\n",
       "                                                   &#x27;vehicle_transmission&#x27;])])),\n",
       "                (&#x27;imb&#x27;, SMOTE()), (&#x27;clf&#x27;, LogisticRegression(max_iter=800))])</pre></div></div></div><div class=\"sk-serial\"><div class=\"sk-item sk-dashed-wrapped\"><div class=\"sk-label-container\"><div class=\"sk-label sk-toggleable\"><input class=\"sk-toggleable__control sk-hidden--visually\" id=\"sk-estimator-id-2\" type=\"checkbox\" ><label for=\"sk-estimator-id-2\" class=\"sk-toggleable__label sk-toggleable__label-arrow\">preprocessor: ColumnTransformer</label><div class=\"sk-toggleable__content\"><pre>ColumnTransformer(transformers=[(&#x27;num_transform&#x27;,\n",
       "                                 Pipeline(steps=[(&#x27;scaler&#x27;, StandardScaler())]),\n",
       "                                 [&#x27;vehicle_age&#x27;]),\n",
       "                                (&#x27;cat_transform&#x27;,\n",
       "                                 Pipeline(steps=[(&#x27;cat&#x27;, OneHotEncoder())]),\n",
       "                                 [&#x27;weather_1&#x27;, &#x27;road_surface&#x27;, &#x27;lighting&#x27;,\n",
       "                                  &#x27;county_city_location&#x27;, &#x27;location_type&#x27;,\n",
       "                                  &#x27;intersection&#x27;, &#x27;road_condition_1&#x27;,\n",
       "                                  &#x27;party_sobriety&#x27;, &#x27;vehicle_type&#x27;,\n",
       "                                  &#x27;vehicle_transmission&#x27;])])</pre></div></div></div><div class=\"sk-parallel\"><div class=\"sk-parallel-item\"><div class=\"sk-item\"><div class=\"sk-label-container\"><div class=\"sk-label sk-toggleable\"><input class=\"sk-toggleable__control sk-hidden--visually\" id=\"sk-estimator-id-3\" type=\"checkbox\" ><label for=\"sk-estimator-id-3\" class=\"sk-toggleable__label sk-toggleable__label-arrow\">num_transform</label><div class=\"sk-toggleable__content\"><pre>[&#x27;vehicle_age&#x27;]</pre></div></div></div><div class=\"sk-serial\"><div class=\"sk-item\"><div class=\"sk-serial\"><div class=\"sk-item\"><div class=\"sk-estimator sk-toggleable\"><input class=\"sk-toggleable__control sk-hidden--visually\" id=\"sk-estimator-id-4\" type=\"checkbox\" ><label for=\"sk-estimator-id-4\" class=\"sk-toggleable__label sk-toggleable__label-arrow\">StandardScaler</label><div class=\"sk-toggleable__content\"><pre>StandardScaler()</pre></div></div></div></div></div></div></div></div><div class=\"sk-parallel-item\"><div class=\"sk-item\"><div class=\"sk-label-container\"><div class=\"sk-label sk-toggleable\"><input class=\"sk-toggleable__control sk-hidden--visually\" id=\"sk-estimator-id-5\" type=\"checkbox\" ><label for=\"sk-estimator-id-5\" class=\"sk-toggleable__label sk-toggleable__label-arrow\">cat_transform</label><div class=\"sk-toggleable__content\"><pre>[&#x27;weather_1&#x27;, &#x27;road_surface&#x27;, &#x27;lighting&#x27;, &#x27;county_city_location&#x27;, &#x27;location_type&#x27;, &#x27;intersection&#x27;, &#x27;road_condition_1&#x27;, &#x27;party_sobriety&#x27;, &#x27;vehicle_type&#x27;, &#x27;vehicle_transmission&#x27;]</pre></div></div></div><div class=\"sk-serial\"><div class=\"sk-item\"><div class=\"sk-serial\"><div class=\"sk-item\"><div class=\"sk-estimator sk-toggleable\"><input class=\"sk-toggleable__control sk-hidden--visually\" id=\"sk-estimator-id-6\" type=\"checkbox\" ><label for=\"sk-estimator-id-6\" class=\"sk-toggleable__label sk-toggleable__label-arrow\">OneHotEncoder</label><div class=\"sk-toggleable__content\"><pre>OneHotEncoder()</pre></div></div></div></div></div></div></div></div></div></div><div class=\"sk-item\"><div class=\"sk-estimator sk-toggleable\"><input class=\"sk-toggleable__control sk-hidden--visually\" id=\"sk-estimator-id-7\" type=\"checkbox\" ><label for=\"sk-estimator-id-7\" class=\"sk-toggleable__label sk-toggleable__label-arrow\">SMOTE</label><div class=\"sk-toggleable__content\"><pre>SMOTE()</pre></div></div></div><div class=\"sk-item\"><div class=\"sk-estimator sk-toggleable\"><input class=\"sk-toggleable__control sk-hidden--visually\" id=\"sk-estimator-id-8\" type=\"checkbox\" ><label for=\"sk-estimator-id-8\" class=\"sk-toggleable__label sk-toggleable__label-arrow\">LogisticRegression</label><div class=\"sk-toggleable__content\"><pre>LogisticRegression(max_iter=800)</pre></div></div></div></div></div></div></div>"
      ],
      "text/plain": [
       "Pipeline(steps=[('preprocessor',\n",
       "                 ColumnTransformer(transformers=[('num_transform',\n",
       "                                                  Pipeline(steps=[('scaler',\n",
       "                                                                   StandardScaler())]),\n",
       "                                                  ['vehicle_age']),\n",
       "                                                 ('cat_transform',\n",
       "                                                  Pipeline(steps=[('cat',\n",
       "                                                                   OneHotEncoder())]),\n",
       "                                                  ['weather_1', 'road_surface',\n",
       "                                                   'lighting',\n",
       "                                                   'county_city_location',\n",
       "                                                   'location_type',\n",
       "                                                   'intersection',\n",
       "                                                   'road_condition_1',\n",
       "                                                   'party_sobriety',\n",
       "                                                   'vehicle_type',\n",
       "                                                   'vehicle_transmission'])])),\n",
       "                ('imb', SMOTE()), ('clf', LogisticRegression(max_iter=800))])"
      ]
     },
     "execution_count": 59,
     "metadata": {},
     "output_type": "execute_result"
    }
   ],
   "source": [
    "numeric_transformer = Pipeline(steps=[\n",
    "     (\"scaler\", StandardScaler())\n",
    "])\n",
    "\n",
    "\n",
    "categorical_transformer = Pipeline(steps=[\n",
    "    ('cat', OneHotEncoder())\n",
    "])\n",
    "\n",
    "preprocessor = ColumnTransformer(transformers=[\n",
    "     (\"num_transform\", numeric_transformer, num), \n",
    "    (\"cat_transform\", categorical_transformer, cat)], \n",
    "    remainder='drop',\n",
    ")\n",
    "\n",
    "pipeline_logist = Pipeline([('preprocessor', preprocessor), \n",
    "                            ('imb', SMOTE()),\n",
    "                           ('clf', LogisticRegression(max_iter=800)),\n",
    "                           ])\n",
    "pipeline_logist"
   ]
  },
  {
   "cell_type": "code",
   "execution_count": 60,
   "id": "8aff02c7",
   "metadata": {},
   "outputs": [
    {
     "data": {
      "text/plain": [
       "1    43824\n",
       "0    33877\n",
       "Name: at_fault, dtype: int64"
      ]
     },
     "execution_count": 60,
     "metadata": {},
     "output_type": "execute_result"
    }
   ],
   "source": [
    "y_train.value_counts()"
   ]
  },
  {
   "cell_type": "markdown",
   "id": "35918336",
   "metadata": {},
   "source": [
    "<div class=\"alert alert-info\">\n",
    "Есть знаимый дисбаланс классов, поэтому выше я воспользовался библиотекой imbalanced-learn"
   ]
  },
  {
   "cell_type": "markdown",
   "id": "76265b96",
   "metadata": {},
   "source": [
    "<div class=\"alert alert-info\">\n",
    "Основной метрикой выберем roc-auc, так как эта метрика учитывает все пороговые значения."
   ]
  },
  {
   "cell_type": "code",
   "execution_count": 61,
   "id": "ffd2c04f",
   "metadata": {},
   "outputs": [
    {
     "name": "stderr",
     "output_type": "stream",
     "text": [
      "/opt/conda/lib/python3.9/site-packages/sklearn/linear_model/_logistic.py:1173: FutureWarning: `penalty='none'`has been deprecated in 1.2 and will be removed in 1.4. To keep the past behaviour, set `penalty=None`.\n",
      "  warnings.warn(\n",
      "/opt/conda/lib/python3.9/site-packages/sklearn/linear_model/_logistic.py:458: ConvergenceWarning: lbfgs failed to converge (status=1):\n",
      "STOP: TOTAL NO. of ITERATIONS REACHED LIMIT.\n",
      "\n",
      "Increase the number of iterations (max_iter) or scale the data as shown in:\n",
      "    https://scikit-learn.org/stable/modules/preprocessing.html\n",
      "Please also refer to the documentation for alternative solver options:\n",
      "    https://scikit-learn.org/stable/modules/linear_model.html#logistic-regression\n",
      "  n_iter_i = _check_optimize_result(\n",
      "/opt/conda/lib/python3.9/site-packages/sklearn/linear_model/_logistic.py:1173: FutureWarning: `penalty='none'`has been deprecated in 1.2 and will be removed in 1.4. To keep the past behaviour, set `penalty=None`.\n",
      "  warnings.warn(\n",
      "/opt/conda/lib/python3.9/site-packages/sklearn/linear_model/_logistic.py:458: ConvergenceWarning: lbfgs failed to converge (status=1):\n",
      "STOP: TOTAL NO. of ITERATIONS REACHED LIMIT.\n",
      "\n",
      "Increase the number of iterations (max_iter) or scale the data as shown in:\n",
      "    https://scikit-learn.org/stable/modules/preprocessing.html\n",
      "Please also refer to the documentation for alternative solver options:\n",
      "    https://scikit-learn.org/stable/modules/linear_model.html#logistic-regression\n",
      "  n_iter_i = _check_optimize_result(\n",
      "/opt/conda/lib/python3.9/site-packages/sklearn/linear_model/_logistic.py:1173: FutureWarning: `penalty='none'`has been deprecated in 1.2 and will be removed in 1.4. To keep the past behaviour, set `penalty=None`.\n",
      "  warnings.warn(\n",
      "/opt/conda/lib/python3.9/site-packages/sklearn/linear_model/_logistic.py:458: ConvergenceWarning: lbfgs failed to converge (status=1):\n",
      "STOP: TOTAL NO. of ITERATIONS REACHED LIMIT.\n",
      "\n",
      "Increase the number of iterations (max_iter) or scale the data as shown in:\n",
      "    https://scikit-learn.org/stable/modules/preprocessing.html\n",
      "Please also refer to the documentation for alternative solver options:\n",
      "    https://scikit-learn.org/stable/modules/linear_model.html#logistic-regression\n",
      "  n_iter_i = _check_optimize_result(\n",
      "/opt/conda/lib/python3.9/site-packages/sklearn/linear_model/_logistic.py:1173: FutureWarning: `penalty='none'`has been deprecated in 1.2 and will be removed in 1.4. To keep the past behaviour, set `penalty=None`.\n",
      "  warnings.warn(\n",
      "/opt/conda/lib/python3.9/site-packages/sklearn/linear_model/_logistic.py:458: ConvergenceWarning: lbfgs failed to converge (status=1):\n",
      "STOP: TOTAL NO. of ITERATIONS REACHED LIMIT.\n",
      "\n",
      "Increase the number of iterations (max_iter) or scale the data as shown in:\n",
      "    https://scikit-learn.org/stable/modules/preprocessing.html\n",
      "Please also refer to the documentation for alternative solver options:\n",
      "    https://scikit-learn.org/stable/modules/linear_model.html#logistic-regression\n",
      "  n_iter_i = _check_optimize_result(\n",
      "/opt/conda/lib/python3.9/site-packages/sklearn/linear_model/_logistic.py:1173: FutureWarning: `penalty='none'`has been deprecated in 1.2 and will be removed in 1.4. To keep the past behaviour, set `penalty=None`.\n",
      "  warnings.warn(\n",
      "/opt/conda/lib/python3.9/site-packages/sklearn/linear_model/_logistic.py:458: ConvergenceWarning: lbfgs failed to converge (status=1):\n",
      "STOP: TOTAL NO. of ITERATIONS REACHED LIMIT.\n",
      "\n",
      "Increase the number of iterations (max_iter) or scale the data as shown in:\n",
      "    https://scikit-learn.org/stable/modules/preprocessing.html\n",
      "Please also refer to the documentation for alternative solver options:\n",
      "    https://scikit-learn.org/stable/modules/linear_model.html#logistic-regression\n",
      "  n_iter_i = _check_optimize_result(\n",
      "/opt/conda/lib/python3.9/site-packages/sklearn/linear_model/_logistic.py:1173: FutureWarning: `penalty='none'`has been deprecated in 1.2 and will be removed in 1.4. To keep the past behaviour, set `penalty=None`.\n",
      "  warnings.warn(\n",
      "/opt/conda/lib/python3.9/site-packages/sklearn/linear_model/_logistic.py:1181: UserWarning: Setting penalty=None will ignore the C and l1_ratio parameters\n",
      "  warnings.warn(\n",
      "/opt/conda/lib/python3.9/site-packages/sklearn/linear_model/_logistic.py:458: ConvergenceWarning: lbfgs failed to converge (status=1):\n",
      "STOP: TOTAL NO. of ITERATIONS REACHED LIMIT.\n",
      "\n",
      "Increase the number of iterations (max_iter) or scale the data as shown in:\n",
      "    https://scikit-learn.org/stable/modules/preprocessing.html\n",
      "Please also refer to the documentation for alternative solver options:\n",
      "    https://scikit-learn.org/stable/modules/linear_model.html#logistic-regression\n",
      "  n_iter_i = _check_optimize_result(\n",
      "/opt/conda/lib/python3.9/site-packages/sklearn/linear_model/_logistic.py:1173: FutureWarning: `penalty='none'`has been deprecated in 1.2 and will be removed in 1.4. To keep the past behaviour, set `penalty=None`.\n",
      "  warnings.warn(\n",
      "/opt/conda/lib/python3.9/site-packages/sklearn/linear_model/_logistic.py:1181: UserWarning: Setting penalty=None will ignore the C and l1_ratio parameters\n",
      "  warnings.warn(\n",
      "/opt/conda/lib/python3.9/site-packages/sklearn/linear_model/_logistic.py:458: ConvergenceWarning: lbfgs failed to converge (status=1):\n",
      "STOP: TOTAL NO. of ITERATIONS REACHED LIMIT.\n",
      "\n",
      "Increase the number of iterations (max_iter) or scale the data as shown in:\n",
      "    https://scikit-learn.org/stable/modules/preprocessing.html\n",
      "Please also refer to the documentation for alternative solver options:\n",
      "    https://scikit-learn.org/stable/modules/linear_model.html#logistic-regression\n",
      "  n_iter_i = _check_optimize_result(\n",
      "/opt/conda/lib/python3.9/site-packages/sklearn/linear_model/_logistic.py:1173: FutureWarning: `penalty='none'`has been deprecated in 1.2 and will be removed in 1.4. To keep the past behaviour, set `penalty=None`.\n",
      "  warnings.warn(\n",
      "/opt/conda/lib/python3.9/site-packages/sklearn/linear_model/_logistic.py:1181: UserWarning: Setting penalty=None will ignore the C and l1_ratio parameters\n",
      "  warnings.warn(\n",
      "/opt/conda/lib/python3.9/site-packages/sklearn/linear_model/_logistic.py:458: ConvergenceWarning: lbfgs failed to converge (status=1):\n",
      "STOP: TOTAL NO. of ITERATIONS REACHED LIMIT.\n",
      "\n",
      "Increase the number of iterations (max_iter) or scale the data as shown in:\n",
      "    https://scikit-learn.org/stable/modules/preprocessing.html\n",
      "Please also refer to the documentation for alternative solver options:\n",
      "    https://scikit-learn.org/stable/modules/linear_model.html#logistic-regression\n",
      "  n_iter_i = _check_optimize_result(\n",
      "/opt/conda/lib/python3.9/site-packages/sklearn/linear_model/_logistic.py:1173: FutureWarning: `penalty='none'`has been deprecated in 1.2 and will be removed in 1.4. To keep the past behaviour, set `penalty=None`.\n",
      "  warnings.warn(\n",
      "/opt/conda/lib/python3.9/site-packages/sklearn/linear_model/_logistic.py:1181: UserWarning: Setting penalty=None will ignore the C and l1_ratio parameters\n",
      "  warnings.warn(\n",
      "/opt/conda/lib/python3.9/site-packages/sklearn/linear_model/_logistic.py:458: ConvergenceWarning: lbfgs failed to converge (status=1):\n",
      "STOP: TOTAL NO. of ITERATIONS REACHED LIMIT.\n",
      "\n",
      "Increase the number of iterations (max_iter) or scale the data as shown in:\n",
      "    https://scikit-learn.org/stable/modules/preprocessing.html\n",
      "Please also refer to the documentation for alternative solver options:\n",
      "    https://scikit-learn.org/stable/modules/linear_model.html#logistic-regression\n",
      "  n_iter_i = _check_optimize_result(\n",
      "/opt/conda/lib/python3.9/site-packages/sklearn/linear_model/_logistic.py:1173: FutureWarning: `penalty='none'`has been deprecated in 1.2 and will be removed in 1.4. To keep the past behaviour, set `penalty=None`.\n",
      "  warnings.warn(\n",
      "/opt/conda/lib/python3.9/site-packages/sklearn/linear_model/_logistic.py:1181: UserWarning: Setting penalty=None will ignore the C and l1_ratio parameters\n",
      "  warnings.warn(\n",
      "/opt/conda/lib/python3.9/site-packages/sklearn/linear_model/_logistic.py:458: ConvergenceWarning: lbfgs failed to converge (status=1):\n",
      "STOP: TOTAL NO. of ITERATIONS REACHED LIMIT.\n",
      "\n",
      "Increase the number of iterations (max_iter) or scale the data as shown in:\n",
      "    https://scikit-learn.org/stable/modules/preprocessing.html\n",
      "Please also refer to the documentation for alternative solver options:\n",
      "    https://scikit-learn.org/stable/modules/linear_model.html#logistic-regression\n",
      "  n_iter_i = _check_optimize_result(\n",
      "/opt/conda/lib/python3.9/site-packages/sklearn/linear_model/_logistic.py:1173: FutureWarning: `penalty='none'`has been deprecated in 1.2 and will be removed in 1.4. To keep the past behaviour, set `penalty=None`.\n",
      "  warnings.warn(\n",
      "/opt/conda/lib/python3.9/site-packages/sklearn/linear_model/_logistic.py:1181: UserWarning: Setting penalty=None will ignore the C and l1_ratio parameters\n",
      "  warnings.warn(\n",
      "/opt/conda/lib/python3.9/site-packages/sklearn/linear_model/_logistic.py:458: ConvergenceWarning: lbfgs failed to converge (status=1):\n",
      "STOP: TOTAL NO. of ITERATIONS REACHED LIMIT.\n",
      "\n",
      "Increase the number of iterations (max_iter) or scale the data as shown in:\n",
      "    https://scikit-learn.org/stable/modules/preprocessing.html\n",
      "Please also refer to the documentation for alternative solver options:\n",
      "    https://scikit-learn.org/stable/modules/linear_model.html#logistic-regression\n",
      "  n_iter_i = _check_optimize_result(\n",
      "/opt/conda/lib/python3.9/site-packages/sklearn/linear_model/_logistic.py:1173: FutureWarning: `penalty='none'`has been deprecated in 1.2 and will be removed in 1.4. To keep the past behaviour, set `penalty=None`.\n",
      "  warnings.warn(\n",
      "/opt/conda/lib/python3.9/site-packages/sklearn/linear_model/_logistic.py:1181: UserWarning: Setting penalty=None will ignore the C and l1_ratio parameters\n",
      "  warnings.warn(\n",
      "/opt/conda/lib/python3.9/site-packages/sklearn/linear_model/_logistic.py:458: ConvergenceWarning: lbfgs failed to converge (status=1):\n",
      "STOP: TOTAL NO. of ITERATIONS REACHED LIMIT.\n",
      "\n",
      "Increase the number of iterations (max_iter) or scale the data as shown in:\n",
      "    https://scikit-learn.org/stable/modules/preprocessing.html\n",
      "Please also refer to the documentation for alternative solver options:\n",
      "    https://scikit-learn.org/stable/modules/linear_model.html#logistic-regression\n",
      "  n_iter_i = _check_optimize_result(\n",
      "/opt/conda/lib/python3.9/site-packages/sklearn/linear_model/_logistic.py:1173: FutureWarning: `penalty='none'`has been deprecated in 1.2 and will be removed in 1.4. To keep the past behaviour, set `penalty=None`.\n",
      "  warnings.warn(\n",
      "/opt/conda/lib/python3.9/site-packages/sklearn/linear_model/_logistic.py:1181: UserWarning: Setting penalty=None will ignore the C and l1_ratio parameters\n",
      "  warnings.warn(\n",
      "/opt/conda/lib/python3.9/site-packages/sklearn/linear_model/_logistic.py:458: ConvergenceWarning: lbfgs failed to converge (status=1):\n",
      "STOP: TOTAL NO. of ITERATIONS REACHED LIMIT.\n",
      "\n",
      "Increase the number of iterations (max_iter) or scale the data as shown in:\n",
      "    https://scikit-learn.org/stable/modules/preprocessing.html\n",
      "Please also refer to the documentation for alternative solver options:\n",
      "    https://scikit-learn.org/stable/modules/linear_model.html#logistic-regression\n",
      "  n_iter_i = _check_optimize_result(\n",
      "/opt/conda/lib/python3.9/site-packages/sklearn/linear_model/_logistic.py:1173: FutureWarning: `penalty='none'`has been deprecated in 1.2 and will be removed in 1.4. To keep the past behaviour, set `penalty=None`.\n",
      "  warnings.warn(\n",
      "/opt/conda/lib/python3.9/site-packages/sklearn/linear_model/_logistic.py:1181: UserWarning: Setting penalty=None will ignore the C and l1_ratio parameters\n",
      "  warnings.warn(\n",
      "/opt/conda/lib/python3.9/site-packages/sklearn/linear_model/_logistic.py:458: ConvergenceWarning: lbfgs failed to converge (status=1):\n",
      "STOP: TOTAL NO. of ITERATIONS REACHED LIMIT.\n",
      "\n",
      "Increase the number of iterations (max_iter) or scale the data as shown in:\n",
      "    https://scikit-learn.org/stable/modules/preprocessing.html\n",
      "Please also refer to the documentation for alternative solver options:\n",
      "    https://scikit-learn.org/stable/modules/linear_model.html#logistic-regression\n",
      "  n_iter_i = _check_optimize_result(\n",
      "/opt/conda/lib/python3.9/site-packages/sklearn/linear_model/_logistic.py:1173: FutureWarning: `penalty='none'`has been deprecated in 1.2 and will be removed in 1.4. To keep the past behaviour, set `penalty=None`.\n",
      "  warnings.warn(\n",
      "/opt/conda/lib/python3.9/site-packages/sklearn/linear_model/_logistic.py:1181: UserWarning: Setting penalty=None will ignore the C and l1_ratio parameters\n",
      "  warnings.warn(\n",
      "/opt/conda/lib/python3.9/site-packages/sklearn/linear_model/_logistic.py:458: ConvergenceWarning: lbfgs failed to converge (status=1):\n",
      "STOP: TOTAL NO. of ITERATIONS REACHED LIMIT.\n",
      "\n",
      "Increase the number of iterations (max_iter) or scale the data as shown in:\n",
      "    https://scikit-learn.org/stable/modules/preprocessing.html\n",
      "Please also refer to the documentation for alternative solver options:\n",
      "    https://scikit-learn.org/stable/modules/linear_model.html#logistic-regression\n",
      "  n_iter_i = _check_optimize_result(\n"
     ]
    },
    {
     "name": "stdout",
     "output_type": "stream",
     "text": [
      "Лучшие параметры:\n",
      "{'clf__C': 0.1, 'clf__penalty': 'l2'}\n",
      "Лучшая метрика на валидационных данных:\n",
      "0.6349710425579758\n"
     ]
    }
   ],
   "source": [
    "param = [ {\"clf__penalty\": ['l2', 'none'], \n",
    "           'clf__C':[1, 0.5, 0.1]}\n",
    "        ]  \n",
    "                                       \n",
    "grid_search_linear = GridSearchCV(pipeline_logist, param, cv=5, n_jobs=-1, \n",
    "                                 refit=['roc_auc', 'accuracy', 'precision', 'recall', 'f1'], scoring='roc_auc')\n",
    "grid_search_linear.fit(X_train, y_train)\n",
    "print(\"Лучшие параметры:\")\n",
    "print(grid_search_linear.best_params_)\n",
    "print(\"Лучшая метрика на валидационных данных:\")\n",
    "print(grid_search_linear.best_score_)\n"
   ]
  },
  {
   "cell_type": "code",
   "execution_count": 62,
   "id": "5eb2e30e",
   "metadata": {},
   "outputs": [],
   "source": [
    "score_logist = grid_search_linear.best_score_"
   ]
  },
  {
   "cell_type": "markdown",
   "id": "be99c2d9",
   "metadata": {},
   "source": [
    "### Случайный лес "
   ]
  },
  {
   "cell_type": "code",
   "execution_count": 63,
   "id": "3f436063",
   "metadata": {},
   "outputs": [
    {
     "data": {
      "text/html": [
       "<style>#sk-container-id-2 {color: black;background-color: white;}#sk-container-id-2 pre{padding: 0;}#sk-container-id-2 div.sk-toggleable {background-color: white;}#sk-container-id-2 label.sk-toggleable__label {cursor: pointer;display: block;width: 100%;margin-bottom: 0;padding: 0.3em;box-sizing: border-box;text-align: center;}#sk-container-id-2 label.sk-toggleable__label-arrow:before {content: \"▸\";float: left;margin-right: 0.25em;color: #696969;}#sk-container-id-2 label.sk-toggleable__label-arrow:hover:before {color: black;}#sk-container-id-2 div.sk-estimator:hover label.sk-toggleable__label-arrow:before {color: black;}#sk-container-id-2 div.sk-toggleable__content {max-height: 0;max-width: 0;overflow: hidden;text-align: left;background-color: #f0f8ff;}#sk-container-id-2 div.sk-toggleable__content pre {margin: 0.2em;color: black;border-radius: 0.25em;background-color: #f0f8ff;}#sk-container-id-2 input.sk-toggleable__control:checked~div.sk-toggleable__content {max-height: 200px;max-width: 100%;overflow: auto;}#sk-container-id-2 input.sk-toggleable__control:checked~label.sk-toggleable__label-arrow:before {content: \"▾\";}#sk-container-id-2 div.sk-estimator input.sk-toggleable__control:checked~label.sk-toggleable__label {background-color: #d4ebff;}#sk-container-id-2 div.sk-label input.sk-toggleable__control:checked~label.sk-toggleable__label {background-color: #d4ebff;}#sk-container-id-2 input.sk-hidden--visually {border: 0;clip: rect(1px 1px 1px 1px);clip: rect(1px, 1px, 1px, 1px);height: 1px;margin: -1px;overflow: hidden;padding: 0;position: absolute;width: 1px;}#sk-container-id-2 div.sk-estimator {font-family: monospace;background-color: #f0f8ff;border: 1px dotted black;border-radius: 0.25em;box-sizing: border-box;margin-bottom: 0.5em;}#sk-container-id-2 div.sk-estimator:hover {background-color: #d4ebff;}#sk-container-id-2 div.sk-parallel-item::after {content: \"\";width: 100%;border-bottom: 1px solid gray;flex-grow: 1;}#sk-container-id-2 div.sk-label:hover label.sk-toggleable__label {background-color: #d4ebff;}#sk-container-id-2 div.sk-serial::before {content: \"\";position: absolute;border-left: 1px solid gray;box-sizing: border-box;top: 0;bottom: 0;left: 50%;z-index: 0;}#sk-container-id-2 div.sk-serial {display: flex;flex-direction: column;align-items: center;background-color: white;padding-right: 0.2em;padding-left: 0.2em;position: relative;}#sk-container-id-2 div.sk-item {position: relative;z-index: 1;}#sk-container-id-2 div.sk-parallel {display: flex;align-items: stretch;justify-content: center;background-color: white;position: relative;}#sk-container-id-2 div.sk-item::before, #sk-container-id-2 div.sk-parallel-item::before {content: \"\";position: absolute;border-left: 1px solid gray;box-sizing: border-box;top: 0;bottom: 0;left: 50%;z-index: -1;}#sk-container-id-2 div.sk-parallel-item {display: flex;flex-direction: column;z-index: 1;position: relative;background-color: white;}#sk-container-id-2 div.sk-parallel-item:first-child::after {align-self: flex-end;width: 50%;}#sk-container-id-2 div.sk-parallel-item:last-child::after {align-self: flex-start;width: 50%;}#sk-container-id-2 div.sk-parallel-item:only-child::after {width: 0;}#sk-container-id-2 div.sk-dashed-wrapped {border: 1px dashed gray;margin: 0 0.4em 0.5em 0.4em;box-sizing: border-box;padding-bottom: 0.4em;background-color: white;}#sk-container-id-2 div.sk-label label {font-family: monospace;font-weight: bold;display: inline-block;line-height: 1.2em;}#sk-container-id-2 div.sk-label-container {text-align: center;}#sk-container-id-2 div.sk-container {/* jupyter's `normalize.less` sets `[hidden] { display: none; }` but bootstrap.min.css set `[hidden] { display: none !important; }` so we also need the `!important` here to be able to override the default hidden behavior on the sphinx rendered scikit-learn.org. See: https://github.com/scikit-learn/scikit-learn/issues/21755 */display: inline-block !important;position: relative;}#sk-container-id-2 div.sk-text-repr-fallback {display: none;}</style><div id=\"sk-container-id-2\" class=\"sk-top-container\"><div class=\"sk-text-repr-fallback\"><pre>Pipeline(steps=[(&#x27;preprocessor&#x27;,\n",
       "                 ColumnTransformer(transformers=[(&#x27;num_transform&#x27;,\n",
       "                                                  Pipeline(steps=[(&#x27;scaler&#x27;,\n",
       "                                                                   StandardScaler())]),\n",
       "                                                  [&#x27;vehicle_age&#x27;]),\n",
       "                                                 (&#x27;cat_transform&#x27;,\n",
       "                                                  Pipeline(steps=[(&#x27;cat&#x27;,\n",
       "                                                                   OneHotEncoder())]),\n",
       "                                                  [&#x27;weather_1&#x27;, &#x27;road_surface&#x27;,\n",
       "                                                   &#x27;lighting&#x27;,\n",
       "                                                   &#x27;county_city_location&#x27;,\n",
       "                                                   &#x27;location_type&#x27;,\n",
       "                                                   &#x27;intersection&#x27;,\n",
       "                                                   &#x27;road_condition_1&#x27;,\n",
       "                                                   &#x27;party_sobriety&#x27;,\n",
       "                                                   &#x27;vehicle_type&#x27;,\n",
       "                                                   &#x27;vehicle_transmission&#x27;])])),\n",
       "                (&#x27;imb&#x27;, SMOTE()), (&#x27;clf&#x27;, RandomForestClassifier())])</pre><b>In a Jupyter environment, please rerun this cell to show the HTML representation or trust the notebook. <br />On GitHub, the HTML representation is unable to render, please try loading this page with nbviewer.org.</b></div><div class=\"sk-container\" hidden><div class=\"sk-item sk-dashed-wrapped\"><div class=\"sk-label-container\"><div class=\"sk-label sk-toggleable\"><input class=\"sk-toggleable__control sk-hidden--visually\" id=\"sk-estimator-id-9\" type=\"checkbox\" ><label for=\"sk-estimator-id-9\" class=\"sk-toggleable__label sk-toggleable__label-arrow\">Pipeline</label><div class=\"sk-toggleable__content\"><pre>Pipeline(steps=[(&#x27;preprocessor&#x27;,\n",
       "                 ColumnTransformer(transformers=[(&#x27;num_transform&#x27;,\n",
       "                                                  Pipeline(steps=[(&#x27;scaler&#x27;,\n",
       "                                                                   StandardScaler())]),\n",
       "                                                  [&#x27;vehicle_age&#x27;]),\n",
       "                                                 (&#x27;cat_transform&#x27;,\n",
       "                                                  Pipeline(steps=[(&#x27;cat&#x27;,\n",
       "                                                                   OneHotEncoder())]),\n",
       "                                                  [&#x27;weather_1&#x27;, &#x27;road_surface&#x27;,\n",
       "                                                   &#x27;lighting&#x27;,\n",
       "                                                   &#x27;county_city_location&#x27;,\n",
       "                                                   &#x27;location_type&#x27;,\n",
       "                                                   &#x27;intersection&#x27;,\n",
       "                                                   &#x27;road_condition_1&#x27;,\n",
       "                                                   &#x27;party_sobriety&#x27;,\n",
       "                                                   &#x27;vehicle_type&#x27;,\n",
       "                                                   &#x27;vehicle_transmission&#x27;])])),\n",
       "                (&#x27;imb&#x27;, SMOTE()), (&#x27;clf&#x27;, RandomForestClassifier())])</pre></div></div></div><div class=\"sk-serial\"><div class=\"sk-item sk-dashed-wrapped\"><div class=\"sk-label-container\"><div class=\"sk-label sk-toggleable\"><input class=\"sk-toggleable__control sk-hidden--visually\" id=\"sk-estimator-id-10\" type=\"checkbox\" ><label for=\"sk-estimator-id-10\" class=\"sk-toggleable__label sk-toggleable__label-arrow\">preprocessor: ColumnTransformer</label><div class=\"sk-toggleable__content\"><pre>ColumnTransformer(transformers=[(&#x27;num_transform&#x27;,\n",
       "                                 Pipeline(steps=[(&#x27;scaler&#x27;, StandardScaler())]),\n",
       "                                 [&#x27;vehicle_age&#x27;]),\n",
       "                                (&#x27;cat_transform&#x27;,\n",
       "                                 Pipeline(steps=[(&#x27;cat&#x27;, OneHotEncoder())]),\n",
       "                                 [&#x27;weather_1&#x27;, &#x27;road_surface&#x27;, &#x27;lighting&#x27;,\n",
       "                                  &#x27;county_city_location&#x27;, &#x27;location_type&#x27;,\n",
       "                                  &#x27;intersection&#x27;, &#x27;road_condition_1&#x27;,\n",
       "                                  &#x27;party_sobriety&#x27;, &#x27;vehicle_type&#x27;,\n",
       "                                  &#x27;vehicle_transmission&#x27;])])</pre></div></div></div><div class=\"sk-parallel\"><div class=\"sk-parallel-item\"><div class=\"sk-item\"><div class=\"sk-label-container\"><div class=\"sk-label sk-toggleable\"><input class=\"sk-toggleable__control sk-hidden--visually\" id=\"sk-estimator-id-11\" type=\"checkbox\" ><label for=\"sk-estimator-id-11\" class=\"sk-toggleable__label sk-toggleable__label-arrow\">num_transform</label><div class=\"sk-toggleable__content\"><pre>[&#x27;vehicle_age&#x27;]</pre></div></div></div><div class=\"sk-serial\"><div class=\"sk-item\"><div class=\"sk-serial\"><div class=\"sk-item\"><div class=\"sk-estimator sk-toggleable\"><input class=\"sk-toggleable__control sk-hidden--visually\" id=\"sk-estimator-id-12\" type=\"checkbox\" ><label for=\"sk-estimator-id-12\" class=\"sk-toggleable__label sk-toggleable__label-arrow\">StandardScaler</label><div class=\"sk-toggleable__content\"><pre>StandardScaler()</pre></div></div></div></div></div></div></div></div><div class=\"sk-parallel-item\"><div class=\"sk-item\"><div class=\"sk-label-container\"><div class=\"sk-label sk-toggleable\"><input class=\"sk-toggleable__control sk-hidden--visually\" id=\"sk-estimator-id-13\" type=\"checkbox\" ><label for=\"sk-estimator-id-13\" class=\"sk-toggleable__label sk-toggleable__label-arrow\">cat_transform</label><div class=\"sk-toggleable__content\"><pre>[&#x27;weather_1&#x27;, &#x27;road_surface&#x27;, &#x27;lighting&#x27;, &#x27;county_city_location&#x27;, &#x27;location_type&#x27;, &#x27;intersection&#x27;, &#x27;road_condition_1&#x27;, &#x27;party_sobriety&#x27;, &#x27;vehicle_type&#x27;, &#x27;vehicle_transmission&#x27;]</pre></div></div></div><div class=\"sk-serial\"><div class=\"sk-item\"><div class=\"sk-serial\"><div class=\"sk-item\"><div class=\"sk-estimator sk-toggleable\"><input class=\"sk-toggleable__control sk-hidden--visually\" id=\"sk-estimator-id-14\" type=\"checkbox\" ><label for=\"sk-estimator-id-14\" class=\"sk-toggleable__label sk-toggleable__label-arrow\">OneHotEncoder</label><div class=\"sk-toggleable__content\"><pre>OneHotEncoder()</pre></div></div></div></div></div></div></div></div></div></div><div class=\"sk-item\"><div class=\"sk-estimator sk-toggleable\"><input class=\"sk-toggleable__control sk-hidden--visually\" id=\"sk-estimator-id-15\" type=\"checkbox\" ><label for=\"sk-estimator-id-15\" class=\"sk-toggleable__label sk-toggleable__label-arrow\">SMOTE</label><div class=\"sk-toggleable__content\"><pre>SMOTE()</pre></div></div></div><div class=\"sk-item\"><div class=\"sk-estimator sk-toggleable\"><input class=\"sk-toggleable__control sk-hidden--visually\" id=\"sk-estimator-id-16\" type=\"checkbox\" ><label for=\"sk-estimator-id-16\" class=\"sk-toggleable__label sk-toggleable__label-arrow\">RandomForestClassifier</label><div class=\"sk-toggleable__content\"><pre>RandomForestClassifier()</pre></div></div></div></div></div></div></div>"
      ],
      "text/plain": [
       "Pipeline(steps=[('preprocessor',\n",
       "                 ColumnTransformer(transformers=[('num_transform',\n",
       "                                                  Pipeline(steps=[('scaler',\n",
       "                                                                   StandardScaler())]),\n",
       "                                                  ['vehicle_age']),\n",
       "                                                 ('cat_transform',\n",
       "                                                  Pipeline(steps=[('cat',\n",
       "                                                                   OneHotEncoder())]),\n",
       "                                                  ['weather_1', 'road_surface',\n",
       "                                                   'lighting',\n",
       "                                                   'county_city_location',\n",
       "                                                   'location_type',\n",
       "                                                   'intersection',\n",
       "                                                   'road_condition_1',\n",
       "                                                   'party_sobriety',\n",
       "                                                   'vehicle_type',\n",
       "                                                   'vehicle_transmission'])])),\n",
       "                ('imb', SMOTE()), ('clf', RandomForestClassifier())])"
      ]
     },
     "execution_count": 63,
     "metadata": {},
     "output_type": "execute_result"
    }
   ],
   "source": [
    "numeric_transformer = Pipeline(steps=[\n",
    "     (\"scaler\", StandardScaler())\n",
    "])\n",
    "\n",
    "categorical_transformer = Pipeline(steps=[\n",
    "    ('cat', OneHotEncoder())\n",
    "])\n",
    "\n",
    "preprocessor = ColumnTransformer(transformers=[\n",
    "     (\"num_transform\", numeric_transformer, num), \n",
    "    (\"cat_transform\", categorical_transformer, cat)], \n",
    "    remainder='drop',\n",
    ")\n",
    "\n",
    "pipeline_rforest = Pipeline([('preprocessor', preprocessor), \n",
    "                             ('imb', SMOTE()),\n",
    "                             ('clf', RandomForestClassifier(max_features='sqrt'))])\n",
    "pipeline_rforest"
   ]
  },
  {
   "cell_type": "code",
   "execution_count": 64,
   "id": "b1b66f04",
   "metadata": {},
   "outputs": [
    {
     "name": "stdout",
     "output_type": "stream",
     "text": [
      "Лучшие параметры:\n",
      "{'clf__max_depth': 10, 'clf__n_estimators': 200}\n",
      "Лучшая метрика на валидационных данных:\n",
      "0.631944657838053\n"
     ]
    }
   ],
   "source": [
    "param = [ {\"clf__n_estimators\": list(range(100, 301, 100)),\n",
    "           'clf__max_depth':[10, 15]}\n",
    "        ]  \n",
    "                                       \n",
    "grid_search_rforest = GridSearchCV(pipeline_rforest, param, cv=5, n_jobs=-1, \n",
    "                                 refit=['roc_auc', 'accuracy', 'precision', 'recall', 'f1'], scoring='roc_auc')\n",
    "grid_search_rforest.fit(X_train, y_train)\n",
    "print(\"Лучшие параметры:\") \n",
    "print(grid_search_rforest.best_params_)\n",
    "print(\"Лучшая метрика на валидационных данных:\")\n",
    "print(grid_search_rforest.best_score_)\n"
   ]
  },
  {
   "cell_type": "code",
   "execution_count": 65,
   "id": "86c879f1",
   "metadata": {},
   "outputs": [],
   "source": [
    "score_forest = grid_search_rforest.best_score_"
   ]
  },
  {
   "cell_type": "markdown",
   "id": "7449d920",
   "metadata": {},
   "source": [
    "<div class=\"alert alert-info\">\n",
    "Выберем roc-auc, так как эта метрика учитывает все пороговые значения"
   ]
  },
  {
   "cell_type": "markdown",
   "id": "bb913b55",
   "metadata": {},
   "source": [
    "### Catboost"
   ]
  },
  {
   "cell_type": "code",
   "execution_count": 66,
   "id": "428d02c0",
   "metadata": {},
   "outputs": [
    {
     "data": {
      "text/plain": [
       "party_sobriety           object\n",
       "intersection            float64\n",
       "weather_1                object\n",
       "road_surface             object\n",
       "lighting                 object\n",
       "county_city_location     object\n",
       "location_type            object\n",
       "road_condition_1         object\n",
       "vehicle_type             object\n",
       "vehicle_transmission     object\n",
       "vehicle_age             float64\n",
       "dtype: object"
      ]
     },
     "execution_count": 66,
     "metadata": {},
     "output_type": "execute_result"
    }
   ],
   "source": [
    "X_train.dtypes"
   ]
  },
  {
   "cell_type": "code",
   "execution_count": 67,
   "id": "0b682967",
   "metadata": {},
   "outputs": [],
   "source": [
    "X_train[cat] = X_train[cat].astype('str')"
   ]
  },
  {
   "cell_type": "code",
   "execution_count": 68,
   "id": "97eb9cb9",
   "metadata": {},
   "outputs": [
    {
     "data": {
      "application/vnd.jupyter.widget-view+json": {
       "model_id": "92712a976d184a22b07caf3bcdb9ccfd",
       "version_major": 2,
       "version_minor": 0
      },
      "text/plain": [
       "MetricVisualizer(layout=Layout(align_self='stretch', height='500px'))"
      ]
     },
     "metadata": {},
     "output_type": "display_data"
    },
    {
     "name": "stdout",
     "output_type": "stream",
     "text": [
      "\n",
      "bestTest = 0.7580642819\n",
      "bestIteration = 2993\n",
      "\n",
      "Metric AUC is not calculated on train by default. To calculate this metric on train, add hints=skip_train~false to metric parameters.\n",
      "0:\tloss: 0.7580643\tbest: 0.7580643 (0)\ttotal: 6m 6s\tremaining: 42m 47s\n",
      "\n",
      "bestTest = 0.7363299515\n",
      "bestIteration = 2999\n",
      "\n",
      "Metric AUC is not calculated on train by default. To calculate this metric on train, add hints=skip_train~false to metric parameters.\n",
      "1:\tloss: 0.7363300\tbest: 0.7580643 (0)\ttotal: 11m 44s\tremaining: 35m 13s\n",
      "\n",
      "bestTest = 0.7569913389\n",
      "bestIteration = 2936\n",
      "\n",
      "Metric AUC is not calculated on train by default. To calculate this metric on train, add hints=skip_train~false to metric parameters.\n",
      "2:\tloss: 0.7569913\tbest: 0.7580643 (0)\ttotal: 17m 52s\tremaining: 29m 48s\n",
      "\n",
      "bestTest = 0.7358524699\n",
      "bestIteration = 2999\n",
      "\n",
      "Metric AUC is not calculated on train by default. To calculate this metric on train, add hints=skip_train~false to metric parameters.\n",
      "3:\tloss: 0.7358525\tbest: 0.7580643 (0)\ttotal: 23m 30s\tremaining: 23m 30s\n",
      "\n",
      "bestTest = 0.7574983155\n",
      "bestIteration = 2993\n",
      "\n",
      "Metric AUC is not calculated on train by default. To calculate this metric on train, add hints=skip_train~false to metric parameters.\n",
      "4:\tloss: 0.7574983\tbest: 0.7580643 (0)\ttotal: 32m 5s\tremaining: 19m 15s\n",
      "\n",
      "bestTest = 0.743306669\n",
      "bestIteration = 2997\n",
      "\n",
      "Metric AUC is not calculated on train by default. To calculate this metric on train, add hints=skip_train~false to metric parameters.\n",
      "5:\tloss: 0.7433067\tbest: 0.7580643 (0)\ttotal: 39m 53s\tremaining: 13m 17s\n",
      "\n",
      "bestTest = 0.7599213697\n",
      "bestIteration = 2897\n",
      "\n",
      "Metric AUC is not calculated on train by default. To calculate this metric on train, add hints=skip_train~false to metric parameters.\n",
      "6:\tloss: 0.7599214\tbest: 0.7599214 (6)\ttotal: 48m 25s\tremaining: 6m 55s\n",
      "\n",
      "bestTest = 0.742908143\n",
      "bestIteration = 2999\n",
      "\n",
      "Metric AUC is not calculated on train by default. To calculate this metric on train, add hints=skip_train~false to metric parameters.\n",
      "7:\tloss: 0.7429081\tbest: 0.7599214 (6)\ttotal: 56m 5s\tremaining: 0us\n",
      "Estimating final quality...\n",
      "Training on fold [0/5]\n",
      "\n",
      "bestTest = 0.7607528181\n",
      "bestIteration = 2984\n",
      "\n",
      "Training on fold [1/5]\n",
      "\n",
      "bestTest = 0.7583422347\n",
      "bestIteration = 2967\n",
      "\n",
      "Training on fold [2/5]\n",
      "\n",
      "bestTest = 0.7597932822\n",
      "bestIteration = 2980\n",
      "\n",
      "Training on fold [3/5]\n",
      "\n",
      "bestTest = 0.7586710478\n",
      "bestIteration = 2912\n",
      "\n",
      "Training on fold [4/5]\n",
      "\n",
      "bestTest = 0.7590269486\n",
      "bestIteration = 2999\n",
      "\n"
     ]
    }
   ],
   "source": [
    "model = CatBoostClassifier(iterations=3000, \n",
    "                          cat_features=cat,\n",
    "                          verbose=False, \n",
    "                          eval_metric ='AUC'\n",
    "                         )\n",
    "param = {'l2_leaf_reg':[0.5, 1], \n",
    "        'depth':[6, 8], \n",
    "         'learning_rate':[0.03, 0.003]\n",
    "       }\n",
    "\n",
    "grid_search = model.grid_search(param,\n",
    "                                X=X_train,\n",
    "                                y=y_train,\n",
    "                                train_size=0.8,\n",
    "                                refit=True,\n",
    "                                cv=5,\n",
    "                                calc_cv_statistics=True,\n",
    "                                verbose=True,\n",
    "                                plot=True)"
   ]
  },
  {
   "cell_type": "code",
   "execution_count": 69,
   "id": "910ee31f",
   "metadata": {},
   "outputs": [],
   "source": [
    "scores = pd.DataFrame({'model': ['logist', 'forest', 'catbossts'],\n",
    "                       'score':[score_logist, score_forest, 0.757]})"
   ]
  },
  {
   "cell_type": "code",
   "execution_count": 70,
   "id": "1b3439e7",
   "metadata": {},
   "outputs": [
    {
     "data": {
      "text/html": [
       "<div>\n",
       "<style scoped>\n",
       "    .dataframe tbody tr th:only-of-type {\n",
       "        vertical-align: middle;\n",
       "    }\n",
       "\n",
       "    .dataframe tbody tr th {\n",
       "        vertical-align: top;\n",
       "    }\n",
       "\n",
       "    .dataframe thead th {\n",
       "        text-align: right;\n",
       "    }\n",
       "</style>\n",
       "<table border=\"1\" class=\"dataframe\">\n",
       "  <thead>\n",
       "    <tr style=\"text-align: right;\">\n",
       "      <th></th>\n",
       "      <th>model</th>\n",
       "      <th>score</th>\n",
       "    </tr>\n",
       "  </thead>\n",
       "  <tbody>\n",
       "    <tr>\n",
       "      <th>0</th>\n",
       "      <td>logist</td>\n",
       "      <td>0.63</td>\n",
       "    </tr>\n",
       "    <tr>\n",
       "      <th>1</th>\n",
       "      <td>forest</td>\n",
       "      <td>0.63</td>\n",
       "    </tr>\n",
       "    <tr>\n",
       "      <th>2</th>\n",
       "      <td>catbossts</td>\n",
       "      <td>0.76</td>\n",
       "    </tr>\n",
       "  </tbody>\n",
       "</table>\n",
       "</div>"
      ],
      "text/plain": [
       "       model  score\n",
       "0     logist   0.63\n",
       "1     forest   0.63\n",
       "2  catbossts   0.76"
      ]
     },
     "execution_count": 70,
     "metadata": {},
     "output_type": "execute_result"
    }
   ],
   "source": [
    "scores"
   ]
  },
  {
   "cell_type": "markdown",
   "id": "0bfa0b23",
   "metadata": {},
   "source": [
    "<div class=\"alert alert-info\">\n",
    "Лучший результат показывает катбуст поэтому будем работать с ним"
   ]
  },
  {
   "cell_type": "markdown",
   "id": "2877a4d0",
   "metadata": {},
   "source": [
    "Лучшей моделью на вариационных данных оказался случайный лес, поэтому будем работать с ним."
   ]
  },
  {
   "cell_type": "code",
   "execution_count": 71,
   "id": "f9a5d42e",
   "metadata": {},
   "outputs": [],
   "source": [
    "X_test[cat] = X_test[cat].astype('str')"
   ]
  },
  {
   "cell_type": "code",
   "execution_count": 72,
   "id": "5255bf69",
   "metadata": {},
   "outputs": [],
   "source": [
    "pred = model.predict(X_test)"
   ]
  },
  {
   "cell_type": "code",
   "execution_count": 73,
   "id": "3e179b25",
   "metadata": {},
   "outputs": [
    {
     "name": "stdout",
     "output_type": "stream",
     "text": [
      "roc_auc 0.7264478219845142\n",
      "f1 0.7635340563597586\n",
      "precision 0.7592275065427307\n",
      "recall 0.767889740781307\n",
      "accuracy 0.7317512611963348\n"
     ]
    }
   ],
   "source": [
    "print('roc_auc', roc_auc_score(y_test, pred))\n",
    "print('f1', f1_score(y_test, pred))\n",
    "print('precision', precision_score(y_test, pred))\n",
    "print('recall', recall_score(y_test, pred))\n",
    "print('accuracy', accuracy_score(y_test, pred))"
   ]
  },
  {
   "cell_type": "markdown",
   "id": "d379ef47",
   "metadata": {},
   "source": [
    "<div class=\"alert alert-info\">\n",
    "получаем такие метрике на тесте"
   ]
  },
  {
   "cell_type": "markdown",
   "id": "7c5a6774",
   "metadata": {},
   "source": [
    "F1-score очень мал, однако accuracy выше довольно высок. Значит где-то есть серьезный перекос либо в точности, либо в полноте."
   ]
  },
  {
   "cell_type": "markdown",
   "id": "a583879d",
   "metadata": {},
   "source": [
    "Создаем матрицу ошибок на основе его предсказаний на тестовой выборке. "
   ]
  },
  {
   "cell_type": "code",
   "execution_count": 79,
   "id": "3895f8b6",
   "metadata": {},
   "outputs": [
    {
     "data": {
      "image/png": "[encoded data removed]",
      "text/plain": [
       "<Figure size 432x288 with 2 Axes>"
      ]
     },
     "metadata": {
      "needs_background": "light"
     },
     "output_type": "display_data"
    }
   ],
   "source": [
    "from sklearn.metrics import confusion_matrix, ConfusionMatrixDisplay\n",
    "\n",
    "cm = confusion_matrix(y_test, pred)\n",
    "disp = ConfusionMatrixDisplay(confusion_matrix=cm,\n",
    "                              display_labels=model.classes_)\n",
    "\n",
    "disp.plot()\n",
    "plt.show()"
   ]
  },
  {
   "cell_type": "markdown",
   "id": "56a41f64",
   "metadata": {},
   "source": [
    "<div class=\"alert alert-info\">\n",
    "У меня все работает. Я полагаю, из-за более поздней версии sklearn, которая установлена у тебя (матрица ошибок там по другому называется). Если я ее устанавливаю, то у меня перестает работать imblearn "
   ]
  },
  {
   "cell_type": "markdown",
   "id": "97b49c29",
   "metadata": {},
   "source": [
    "<div class=\"alert alert-info\">\n",
    "Как и в прошлый раз модель хуже выявлет случаи, когда авария произошла по вине водителя, однако в этот раз ненамного.  "
   ]
  },
  {
   "cell_type": "markdown",
   "id": "992f7141",
   "metadata": {},
   "source": [
    "Модель хуже выявляет случаи, когда авария произошла по вине водителя."
   ]
  },
  {
   "cell_type": "markdown",
   "id": "feb29b2c",
   "metadata": {},
   "source": [
    "Выведем полноту и точность на графиках. "
   ]
  },
  {
   "cell_type": "code",
   "execution_count": 80,
   "id": "f53beef4",
   "metadata": {},
   "outputs": [],
   "source": [
    "df_ = pd.DataFrame({'recall' : [recall_score(y_test, pred)], 'precision':[precision_score(y_test, pred)]})"
   ]
  },
  {
   "cell_type": "code",
   "execution_count": 81,
   "id": "2cc82359",
   "metadata": {},
   "outputs": [
    {
     "data": {
      "text/plain": [
       "<AxesSubplot:>"
      ]
     },
     "execution_count": 81,
     "metadata": {},
     "output_type": "execute_result"
    },
    {
     "data": {
      "image/png": "[encoded data removed]",
      "text/plain": [
       "<Figure size 432x288 with 1 Axes>"
      ]
     },
     "metadata": {
      "needs_background": "light"
     },
     "output_type": "display_data"
    }
   ],
   "source": [
    "df_.plot.bar()"
   ]
  },
  {
   "cell_type": "markdown",
   "id": "a99e6eae",
   "metadata": {},
   "source": [
    "Перекос в сторону точности очевиден. Полагаю, что просто не все факторы влияющие на аварию могут быть учтены при сборе информации о происшествии."
   ]
  },
  {
   "cell_type": "markdown",
   "id": "4081e2f7",
   "metadata": {},
   "source": [
    "## Проведите анализ важности факторов ДТП"
   ]
  },
  {
   "cell_type": "code",
   "execution_count": 82,
   "id": "b52284ef",
   "metadata": {},
   "outputs": [
    {
     "data": {
      "text/html": [
       "<div>\n",
       "<style scoped>\n",
       "    .dataframe tbody tr th:only-of-type {\n",
       "        vertical-align: middle;\n",
       "    }\n",
       "\n",
       "    .dataframe tbody tr th {\n",
       "        vertical-align: top;\n",
       "    }\n",
       "\n",
       "    .dataframe thead th {\n",
       "        text-align: right;\n",
       "    }\n",
       "</style>\n",
       "<table border=\"1\" class=\"dataframe\">\n",
       "  <thead>\n",
       "    <tr style=\"text-align: right;\">\n",
       "      <th></th>\n",
       "      <th>Feature Id</th>\n",
       "      <th>Importances</th>\n",
       "    </tr>\n",
       "  </thead>\n",
       "  <tbody>\n",
       "    <tr>\n",
       "      <th>0</th>\n",
       "      <td>county_city_location</td>\n",
       "      <td>24.39</td>\n",
       "    </tr>\n",
       "    <tr>\n",
       "      <th>1</th>\n",
       "      <td>lighting</td>\n",
       "      <td>10.49</td>\n",
       "    </tr>\n",
       "    <tr>\n",
       "      <th>2</th>\n",
       "      <td>vehicle_type</td>\n",
       "      <td>10.14</td>\n",
       "    </tr>\n",
       "    <tr>\n",
       "      <th>3</th>\n",
       "      <td>party_sobriety</td>\n",
       "      <td>9.83</td>\n",
       "    </tr>\n",
       "    <tr>\n",
       "      <th>4</th>\n",
       "      <td>location_type</td>\n",
       "      <td>9.56</td>\n",
       "    </tr>\n",
       "    <tr>\n",
       "      <th>5</th>\n",
       "      <td>vehicle_age</td>\n",
       "      <td>8.75</td>\n",
       "    </tr>\n",
       "    <tr>\n",
       "      <th>6</th>\n",
       "      <td>vehicle_transmission</td>\n",
       "      <td>8.22</td>\n",
       "    </tr>\n",
       "    <tr>\n",
       "      <th>7</th>\n",
       "      <td>weather_1</td>\n",
       "      <td>7.54</td>\n",
       "    </tr>\n",
       "    <tr>\n",
       "      <th>8</th>\n",
       "      <td>road_condition_1</td>\n",
       "      <td>4.51</td>\n",
       "    </tr>\n",
       "    <tr>\n",
       "      <th>9</th>\n",
       "      <td>road_surface</td>\n",
       "      <td>4.15</td>\n",
       "    </tr>\n",
       "    <tr>\n",
       "      <th>10</th>\n",
       "      <td>intersection</td>\n",
       "      <td>2.43</td>\n",
       "    </tr>\n",
       "  </tbody>\n",
       "</table>\n",
       "</div>"
      ],
      "text/plain": [
       "              Feature Id  Importances\n",
       "0   county_city_location        24.39\n",
       "1               lighting        10.49\n",
       "2           vehicle_type        10.14\n",
       "3         party_sobriety         9.83\n",
       "4          location_type         9.56\n",
       "5            vehicle_age         8.75\n",
       "6   vehicle_transmission         8.22\n",
       "7              weather_1         7.54\n",
       "8       road_condition_1         4.51\n",
       "9           road_surface         4.15\n",
       "10          intersection         2.43"
      ]
     },
     "execution_count": 82,
     "metadata": {},
     "output_type": "execute_result"
    }
   ],
   "source": [
    "model.get_feature_importance(prettified=True)"
   ]
  },
  {
   "cell_type": "code",
   "execution_count": 83,
   "id": "cad12ac1",
   "metadata": {},
   "outputs": [],
   "source": [
    "from sklearn.inspection import permutation_importance\n",
    "result = permutation_importance(model, X_train, y_train, n_repeats=30,\n",
    "                                random_state=0, n_jobs=-1)"
   ]
  },
  {
   "cell_type": "code",
   "execution_count": 84,
   "id": "3dd986f1",
   "metadata": {},
   "outputs": [],
   "source": [
    "for i, i_1 in zip():\n",
    "    print(i_1, i)"
   ]
  },
  {
   "cell_type": "code",
   "execution_count": 85,
   "id": "9409e384",
   "metadata": {},
   "outputs": [
    {
     "data": {
      "text/html": [
       "<div>\n",
       "<style scoped>\n",
       "    .dataframe tbody tr th:only-of-type {\n",
       "        vertical-align: middle;\n",
       "    }\n",
       "\n",
       "    .dataframe tbody tr th {\n",
       "        vertical-align: top;\n",
       "    }\n",
       "\n",
       "    .dataframe thead th {\n",
       "        text-align: right;\n",
       "    }\n",
       "</style>\n",
       "<table border=\"1\" class=\"dataframe\">\n",
       "  <thead>\n",
       "    <tr style=\"text-align: right;\">\n",
       "      <th></th>\n",
       "      <th>0</th>\n",
       "    </tr>\n",
       "  </thead>\n",
       "  <tbody>\n",
       "    <tr>\n",
       "      <th>party_sobriety</th>\n",
       "      <td>0.07</td>\n",
       "    </tr>\n",
       "    <tr>\n",
       "      <th>intersection</th>\n",
       "      <td>0.00</td>\n",
       "    </tr>\n",
       "    <tr>\n",
       "      <th>weather_1</th>\n",
       "      <td>-0.02</td>\n",
       "    </tr>\n",
       "    <tr>\n",
       "      <th>road_surface</th>\n",
       "      <td>-0.00</td>\n",
       "    </tr>\n",
       "    <tr>\n",
       "      <th>lighting</th>\n",
       "      <td>-0.02</td>\n",
       "    </tr>\n",
       "    <tr>\n",
       "      <th>county_city_location</th>\n",
       "      <td>-0.08</td>\n",
       "    </tr>\n",
       "    <tr>\n",
       "      <th>location_type</th>\n",
       "      <td>-0.03</td>\n",
       "    </tr>\n",
       "    <tr>\n",
       "      <th>road_condition_1</th>\n",
       "      <td>-0.00</td>\n",
       "    </tr>\n",
       "    <tr>\n",
       "      <th>vehicle_type</th>\n",
       "      <td>-0.01</td>\n",
       "    </tr>\n",
       "    <tr>\n",
       "      <th>vehicle_transmission</th>\n",
       "      <td>-0.02</td>\n",
       "    </tr>\n",
       "    <tr>\n",
       "      <th>vehicle_age</th>\n",
       "      <td>-0.01</td>\n",
       "    </tr>\n",
       "  </tbody>\n",
       "</table>\n",
       "</div>"
      ],
      "text/plain": [
       "                         0\n",
       "party_sobriety        0.07\n",
       "intersection          0.00\n",
       "weather_1            -0.02\n",
       "road_surface         -0.00\n",
       "lighting             -0.02\n",
       "county_city_location -0.08\n",
       "location_type        -0.03\n",
       "road_condition_1     -0.00\n",
       "vehicle_type         -0.01\n",
       "vehicle_transmission -0.02\n",
       "vehicle_age          -0.01"
      ]
     },
     "execution_count": 85,
     "metadata": {},
     "output_type": "execute_result"
    }
   ],
   "source": [
    "pd.DataFrame(result['importances_mean'], X_train.columns)"
   ]
  },
  {
   "cell_type": "markdown",
   "id": "4126eebf",
   "metadata": {},
   "source": [
    "Очевидно, что основное значение модель придает наличию алкоголя в крови. "
   ]
  },
  {
   "cell_type": "code",
   "execution_count": 86,
   "id": "76c80e8a",
   "metadata": {},
   "outputs": [
    {
     "data": {
      "text/html": [
       "<div>\n",
       "<style scoped>\n",
       "    .dataframe tbody tr th:only-of-type {\n",
       "        vertical-align: middle;\n",
       "    }\n",
       "\n",
       "    .dataframe tbody tr th {\n",
       "        vertical-align: top;\n",
       "    }\n",
       "\n",
       "    .dataframe thead th {\n",
       "        text-align: right;\n",
       "    }\n",
       "</style>\n",
       "<table border=\"1\" class=\"dataframe\">\n",
       "  <thead>\n",
       "    <tr style=\"text-align: right;\">\n",
       "      <th></th>\n",
       "      <th>0</th>\n",
       "      <th>1</th>\n",
       "      <th>percent</th>\n",
       "    </tr>\n",
       "    <tr>\n",
       "      <th>party_sobriety</th>\n",
       "      <th></th>\n",
       "      <th></th>\n",
       "      <th></th>\n",
       "    </tr>\n",
       "  </thead>\n",
       "  <tbody>\n",
       "    <tr>\n",
       "      <th>had been drinking</th>\n",
       "      <td>1159</td>\n",
       "      <td>9480</td>\n",
       "      <td>89.11</td>\n",
       "    </tr>\n",
       "    <tr>\n",
       "      <th>had not been drinking</th>\n",
       "      <td>38123</td>\n",
       "      <td>37051</td>\n",
       "      <td>49.29</td>\n",
       "    </tr>\n",
       "    <tr>\n",
       "      <th>impairment unknown</th>\n",
       "      <td>2465</td>\n",
       "      <td>7639</td>\n",
       "      <td>75.60</td>\n",
       "    </tr>\n",
       "    <tr>\n",
       "      <th>not applicable</th>\n",
       "      <td>600</td>\n",
       "      <td>610</td>\n",
       "      <td>50.41</td>\n",
       "    </tr>\n",
       "  </tbody>\n",
       "</table>\n",
       "</div>"
      ],
      "text/plain": [
       "                           0      1  percent\n",
       "party_sobriety                              \n",
       "had been drinking       1159   9480    89.11\n",
       "had not been drinking  38123  37051    49.29\n",
       "impairment unknown      2465   7639    75.60\n",
       "not applicable           600    610    50.41"
      ]
     },
     "execution_count": 86,
     "metadata": {},
     "output_type": "execute_result"
    }
   ],
   "source": [
    "piv = pd.pivot_table(df[['party_sobriety', 'at_fault', 'county_city_location' ]], index='party_sobriety',\n",
    "               columns='at_fault', aggfunc='count' )\n",
    "piv.columns = [0, 1]\n",
    "piv['percent'] = round(piv[1]*100/(piv[0] + piv[1]), 2)\n",
    "piv"
   ]
  },
  {
   "cell_type": "code",
   "execution_count": 87,
   "id": "b4f994c1",
   "metadata": {},
   "outputs": [
    {
     "data": {
      "text/plain": [
       "<AxesSubplot:xlabel='party_sobriety'>"
      ]
     },
     "execution_count": 87,
     "metadata": {},
     "output_type": "execute_result"
    },
    {
     "data": {
      "image/png": "[encoded data removed]",
      "text/plain": [
       "<Figure size 432x288 with 1 Axes>"
      ]
     },
     "metadata": {
      "needs_background": "light"
     },
     "output_type": "display_data"
    }
   ],
   "source": [
    "piv[[0, 1]].plot.bar()"
   ]
  },
  {
   "cell_type": "code",
   "execution_count": 88,
   "id": "565e12cd",
   "metadata": {},
   "outputs": [
    {
     "data": {
      "text/plain": [
       "0.17305585980284777"
      ]
     },
     "execution_count": 88,
     "metadata": {},
     "output_type": "execute_result"
    }
   ],
   "source": [
    "piv.loc['had been drinking', 1] / sum(piv[1]) "
   ]
  },
  {
   "cell_type": "markdown",
   "id": "a4a172e4",
   "metadata": {},
   "source": [
    "Количество аварий, произошедших по вине водителя в состоянии алкогольного последнего составляет 17%, поэтому считаю необходимым рассмотреть вопрос об установке оборудования для проверки водителей на алкогольное опьянение."
   ]
  },
  {
   "cell_type": "markdown",
   "id": "52f2d0aa",
   "metadata": {},
   "source": [
    "## Выводы"
   ]
  },
  {
   "cell_type": "markdown",
   "id": "93d129f7",
   "metadata": {},
   "source": [
    "Лучшая модель - это случайный лес (300 деревьев, максимальная глубина деревьев 10). Как показал исследовательский анализ данных и применение моделей машинного обучения фактором, наиболее влияет на виновность водителей является алкогольное опьянение последних, поэтому чтобы создать адекватную систему оценки риска при выдаче авто возможно, но только если будет установлено оборудования для проверки водителей на опьянение.  \n",
    "\n",
    "Кроме того, влияние на варийность оказывает освещенность дороги в темное время сутое, состояние дорожного полотна (сухой, мокрое, покрытое снегом). "
   ]
  }
 ],
 "metadata": {
  "ExecuteTimeLog": [
   {
    "duration": 953,
    "start_time": "2023-03-23T07:27:45.231Z"
   },
   {
    "duration": 4,
    "start_time": "2023-03-23T07:28:02.786Z"
   },
   {
    "duration": 9077,
    "start_time": "2023-03-23T07:28:14.699Z"
   },
   {
    "duration": 5,
    "start_time": "2023-03-23T07:28:33.740Z"
   },
   {
    "duration": 83,
    "start_time": "2023-03-23T07:29:41.361Z"
   },
   {
    "duration": 13,
    "start_time": "2023-03-23T07:29:43.936Z"
   },
   {
    "duration": 90,
    "start_time": "2023-03-23T07:33:00.296Z"
   },
   {
    "duration": 6,
    "start_time": "2023-03-23T07:33:11.888Z"
   },
   {
    "duration": 14,
    "start_time": "2023-03-23T07:35:42.960Z"
   },
   {
    "duration": 83,
    "start_time": "2023-03-23T07:35:48.583Z"
   },
   {
    "duration": 12,
    "start_time": "2023-03-23T07:35:48.869Z"
   },
   {
    "duration": 87,
    "start_time": "2023-03-23T07:36:06.430Z"
   },
   {
    "duration": 6,
    "start_time": "2023-03-23T07:36:16.926Z"
   },
   {
    "duration": 21,
    "start_time": "2023-03-23T07:36:17.698Z"
   },
   {
    "duration": 35,
    "start_time": "2023-03-23T07:36:49.042Z"
   },
   {
    "duration": 18,
    "start_time": "2023-03-23T07:37:02.295Z"
   },
   {
    "duration": 115,
    "start_time": "2023-03-23T07:41:03.243Z"
   },
   {
    "duration": 113,
    "start_time": "2023-03-23T07:41:16.336Z"
   },
   {
    "duration": 181,
    "start_time": "2023-03-23T07:41:23.858Z"
   },
   {
    "duration": 175,
    "start_time": "2023-03-23T07:41:28.368Z"
   },
   {
    "duration": 249,
    "start_time": "2023-03-23T07:41:41.857Z"
   },
   {
    "duration": 179,
    "start_time": "2023-03-23T09:31:03.643Z"
   },
   {
    "duration": 178,
    "start_time": "2023-03-23T09:31:10.838Z"
   },
   {
    "duration": 293,
    "start_time": "2023-03-23T09:31:36.846Z"
   },
   {
    "duration": 257,
    "start_time": "2023-03-23T09:32:33.842Z"
   },
   {
    "duration": 262,
    "start_time": "2023-03-23T09:32:46.973Z"
   },
   {
    "duration": 268,
    "start_time": "2023-03-23T09:33:10.350Z"
   },
   {
    "duration": 270,
    "start_time": "2023-03-23T09:33:58.486Z"
   },
   {
    "duration": 268,
    "start_time": "2023-03-23T09:34:05.579Z"
   },
   {
    "duration": 409,
    "start_time": "2023-03-23T09:35:02.446Z"
   },
   {
    "duration": 268,
    "start_time": "2023-03-23T09:35:12.885Z"
   },
   {
    "duration": 279,
    "start_time": "2023-03-23T09:35:31.734Z"
   },
   {
    "duration": 1314,
    "start_time": "2023-03-23T09:35:41.243Z"
   },
   {
    "duration": 1247,
    "start_time": "2023-03-23T09:36:00.894Z"
   },
   {
    "duration": 1221,
    "start_time": "2023-03-23T09:36:32.756Z"
   },
   {
    "duration": 1219,
    "start_time": "2023-03-23T09:36:39.538Z"
   },
   {
    "duration": 1256,
    "start_time": "2023-03-23T09:36:53.258Z"
   },
   {
    "duration": 1233,
    "start_time": "2023-03-23T09:37:01.402Z"
   },
   {
    "duration": 1211,
    "start_time": "2023-03-23T09:37:15.172Z"
   },
   {
    "duration": 1205,
    "start_time": "2023-03-23T09:38:04.292Z"
   },
   {
    "duration": 1235,
    "start_time": "2023-03-23T09:38:16.209Z"
   },
   {
    "duration": 1369,
    "start_time": "2023-03-23T09:38:38.410Z"
   },
   {
    "duration": 1385,
    "start_time": "2023-03-23T09:38:50.065Z"
   },
   {
    "duration": 141,
    "start_time": "2023-03-23T12:03:36.572Z"
   },
   {
    "duration": 111,
    "start_time": "2023-03-23T12:03:46.982Z"
   },
   {
    "duration": 122,
    "start_time": "2023-03-23T12:04:06.911Z"
   },
   {
    "duration": 174,
    "start_time": "2023-03-23T12:04:37.612Z"
   },
   {
    "duration": 294,
    "start_time": "2023-03-23T12:04:52.310Z"
   },
   {
    "duration": 20,
    "start_time": "2023-03-23T12:04:59.765Z"
   },
   {
    "duration": 2525,
    "start_time": "2023-03-23T12:06:02.322Z"
   },
   {
    "duration": 813,
    "start_time": "2023-03-23T12:06:22.877Z"
   },
   {
    "duration": 9896,
    "start_time": "2023-03-23T12:06:23.693Z"
   },
   {
    "duration": 84,
    "start_time": "2023-03-23T12:06:33.591Z"
   },
   {
    "duration": 0,
    "start_time": "2023-03-23T12:06:33.677Z"
   },
   {
    "duration": 0,
    "start_time": "2023-03-23T12:06:33.678Z"
   },
   {
    "duration": 0,
    "start_time": "2023-03-23T12:06:33.679Z"
   },
   {
    "duration": 0,
    "start_time": "2023-03-23T12:06:33.680Z"
   },
   {
    "duration": 0,
    "start_time": "2023-03-23T12:06:33.682Z"
   },
   {
    "duration": 0,
    "start_time": "2023-03-23T12:06:33.683Z"
   },
   {
    "duration": 3,
    "start_time": "2023-03-23T12:06:54.572Z"
   },
   {
    "duration": 125,
    "start_time": "2023-03-23T12:06:54.965Z"
   },
   {
    "duration": 884,
    "start_time": "2023-03-23T12:06:59.228Z"
   },
   {
    "duration": 10514,
    "start_time": "2023-03-23T12:07:00.114Z"
   },
   {
    "duration": 3,
    "start_time": "2023-03-23T12:07:10.630Z"
   },
   {
    "duration": 74,
    "start_time": "2023-03-23T12:07:10.635Z"
   },
   {
    "duration": 282,
    "start_time": "2023-03-23T12:07:10.711Z"
   },
   {
    "duration": 1508,
    "start_time": "2023-03-23T12:07:10.994Z"
   },
   {
    "duration": 3051,
    "start_time": "2023-03-23T12:07:12.504Z"
   },
   {
    "duration": 0,
    "start_time": "2023-03-23T12:07:15.564Z"
   },
   {
    "duration": 1,
    "start_time": "2023-03-23T12:07:15.565Z"
   },
   {
    "duration": 609,
    "start_time": "2023-03-23T12:07:42.517Z"
   },
   {
    "duration": 24,
    "start_time": "2023-03-23T12:07:46.281Z"
   },
   {
    "duration": 599,
    "start_time": "2023-03-23T12:09:49.086Z"
   },
   {
    "duration": 28,
    "start_time": "2023-03-23T12:09:49.890Z"
   },
   {
    "duration": 7,
    "start_time": "2023-03-23T12:11:01.819Z"
   },
   {
    "duration": 5,
    "start_time": "2023-03-23T12:11:11.067Z"
   },
   {
    "duration": 11983,
    "start_time": "2023-03-23T12:12:11.462Z"
   },
   {
    "duration": 7,
    "start_time": "2023-03-23T12:12:23.449Z"
   },
   {
    "duration": 430,
    "start_time": "2023-03-23T12:12:40.366Z"
   },
   {
    "duration": 4,
    "start_time": "2023-03-23T12:12:43.990Z"
   },
   {
    "duration": 10238,
    "start_time": "2023-03-23T12:13:00.271Z"
   },
   {
    "duration": 4,
    "start_time": "2023-03-23T12:13:10.511Z"
   },
   {
    "duration": 355,
    "start_time": "2023-03-23T12:13:34.668Z"
   },
   {
    "duration": 9,
    "start_time": "2023-03-23T12:15:13.227Z"
   },
   {
    "duration": 406,
    "start_time": "2023-03-23T12:15:17.503Z"
   },
   {
    "duration": 11155,
    "start_time": "2023-03-23T12:17:25.068Z"
   },
   {
    "duration": 5,
    "start_time": "2023-03-23T12:17:36.225Z"
   },
   {
    "duration": 350,
    "start_time": "2023-03-23T12:17:36.231Z"
   },
   {
    "duration": 199,
    "start_time": "2023-03-23T12:20:11.547Z"
   },
   {
    "duration": 129,
    "start_time": "2023-03-23T12:20:29.640Z"
   },
   {
    "duration": 420,
    "start_time": "2023-03-23T12:20:41.373Z"
   },
   {
    "duration": 8,
    "start_time": "2023-03-23T12:20:42.149Z"
   },
   {
    "duration": 13,
    "start_time": "2023-03-23T12:20:54.783Z"
   },
   {
    "duration": 11387,
    "start_time": "2023-03-23T12:21:01.318Z"
   },
   {
    "duration": 8,
    "start_time": "2023-03-23T12:21:12.707Z"
   },
   {
    "duration": 46,
    "start_time": "2023-03-23T12:21:12.716Z"
   },
   {
    "duration": 11178,
    "start_time": "2023-03-23T12:22:07.422Z"
   },
   {
    "duration": 4,
    "start_time": "2023-03-23T12:22:18.602Z"
   },
   {
    "duration": 61,
    "start_time": "2023-03-23T12:22:18.608Z"
   },
   {
    "duration": 204,
    "start_time": "2023-03-23T12:22:37.618Z"
   },
   {
    "duration": 8,
    "start_time": "2023-03-23T12:22:37.870Z"
   },
   {
    "duration": 29,
    "start_time": "2023-03-23T12:22:38.703Z"
   },
   {
    "duration": 160,
    "start_time": "2023-03-23T12:22:54.128Z"
   },
   {
    "duration": 9572,
    "start_time": "2023-03-23T12:23:05.182Z"
   },
   {
    "duration": 9,
    "start_time": "2023-03-23T12:23:14.755Z"
   },
   {
    "duration": 339,
    "start_time": "2023-03-23T12:23:33.801Z"
   },
   {
    "duration": 109,
    "start_time": "2023-03-23T12:24:55.837Z"
   },
   {
    "duration": 10702,
    "start_time": "2023-03-23T12:35:02.178Z"
   },
   {
    "duration": 5,
    "start_time": "2023-03-23T12:35:12.883Z"
   },
   {
    "duration": 346,
    "start_time": "2023-03-23T12:35:12.889Z"
   },
   {
    "duration": 10732,
    "start_time": "2023-03-23T12:36:33.349Z"
   },
   {
    "duration": 5,
    "start_time": "2023-03-23T12:36:44.083Z"
   },
   {
    "duration": 232,
    "start_time": "2023-03-23T12:36:44.089Z"
   },
   {
    "duration": 16,
    "start_time": "2023-03-23T12:38:49.328Z"
   },
   {
    "duration": 19,
    "start_time": "2023-03-23T12:39:05.973Z"
   },
   {
    "duration": 14,
    "start_time": "2023-03-23T12:39:22.260Z"
   },
   {
    "duration": 10,
    "start_time": "2023-03-23T12:39:33.276Z"
   },
   {
    "duration": 11,
    "start_time": "2023-03-23T12:40:09.812Z"
   },
   {
    "duration": 111,
    "start_time": "2023-03-23T12:40:42.410Z"
   },
   {
    "duration": 177,
    "start_time": "2023-03-23T12:40:51.308Z"
   },
   {
    "duration": 25,
    "start_time": "2023-03-23T12:42:40.366Z"
   },
   {
    "duration": 21,
    "start_time": "2023-03-23T12:42:56.098Z"
   },
   {
    "duration": 267,
    "start_time": "2023-03-23T12:43:06.312Z"
   },
   {
    "duration": 6,
    "start_time": "2023-03-23T12:43:12.658Z"
   },
   {
    "duration": 150,
    "start_time": "2023-03-23T12:43:18.220Z"
   },
   {
    "duration": 9,
    "start_time": "2023-03-23T12:43:32.404Z"
   },
   {
    "duration": 9494,
    "start_time": "2023-03-23T13:54:31.629Z"
   },
   {
    "duration": 4,
    "start_time": "2023-03-23T13:54:41.125Z"
   },
   {
    "duration": 236,
    "start_time": "2023-03-23T13:54:41.130Z"
   },
   {
    "duration": 122,
    "start_time": "2023-03-23T13:54:41.368Z"
   },
   {
    "duration": 156,
    "start_time": "2023-03-23T13:54:41.492Z"
   },
   {
    "duration": 28,
    "start_time": "2023-03-23T13:54:41.649Z"
   },
   {
    "duration": 200,
    "start_time": "2023-03-23T13:54:41.679Z"
   },
   {
    "duration": 4,
    "start_time": "2023-03-23T13:54:41.881Z"
   },
   {
    "duration": 162,
    "start_time": "2023-03-23T13:54:41.887Z"
   },
   {
    "duration": 5,
    "start_time": "2023-03-23T13:54:42.051Z"
   },
   {
    "duration": 5,
    "start_time": "2023-03-23T13:55:18.192Z"
   },
   {
    "duration": 5,
    "start_time": "2023-03-23T13:55:22.404Z"
   },
   {
    "duration": 3,
    "start_time": "2023-03-23T13:56:43.262Z"
   },
   {
    "duration": 4,
    "start_time": "2023-03-23T13:56:47.102Z"
   },
   {
    "duration": 4,
    "start_time": "2023-03-23T13:56:58.123Z"
   },
   {
    "duration": 11,
    "start_time": "2023-03-23T13:58:14.154Z"
   },
   {
    "duration": 633,
    "start_time": "2023-03-23T13:59:37.004Z"
   },
   {
    "duration": 50,
    "start_time": "2023-03-23T13:59:59.065Z"
   },
   {
    "duration": 123,
    "start_time": "2023-03-23T14:00:24.468Z"
   },
   {
    "duration": 157,
    "start_time": "2023-03-23T14:00:52.486Z"
   },
   {
    "duration": 108,
    "start_time": "2023-03-23T14:01:50.216Z"
   },
   {
    "duration": 12,
    "start_time": "2023-03-23T14:02:41.430Z"
   },
   {
    "duration": 13,
    "start_time": "2023-03-23T14:02:51.997Z"
   },
   {
    "duration": 5,
    "start_time": "2023-03-23T14:06:37.778Z"
   },
   {
    "duration": 38,
    "start_time": "2023-03-23T14:07:05.365Z"
   },
   {
    "duration": 79,
    "start_time": "2023-03-23T14:07:14.686Z"
   },
   {
    "duration": 28,
    "start_time": "2023-03-23T14:07:17.358Z"
   },
   {
    "duration": 27,
    "start_time": "2023-03-23T14:07:19.810Z"
   },
   {
    "duration": 63,
    "start_time": "2023-03-23T14:08:39.351Z"
   },
   {
    "duration": 13,
    "start_time": "2023-03-23T14:08:45.522Z"
   },
   {
    "duration": 231,
    "start_time": "2023-03-23T14:09:42.869Z"
   },
   {
    "duration": 244,
    "start_time": "2023-03-23T14:10:38.800Z"
   },
   {
    "duration": 1615,
    "start_time": "2023-03-24T00:20:45.189Z"
   },
   {
    "duration": 5808,
    "start_time": "2023-03-24T00:20:46.806Z"
   },
   {
    "duration": 3,
    "start_time": "2023-03-24T00:20:52.616Z"
   },
   {
    "duration": 402,
    "start_time": "2023-03-24T00:20:52.621Z"
   },
   {
    "duration": 322,
    "start_time": "2023-03-24T00:20:53.025Z"
   },
   {
    "duration": 1318,
    "start_time": "2023-03-24T00:20:53.351Z"
   },
   {
    "duration": 8786,
    "start_time": "2023-03-24T00:20:54.671Z"
   },
   {
    "duration": 4,
    "start_time": "2023-03-24T00:21:03.462Z"
   },
   {
    "duration": 264,
    "start_time": "2023-03-24T00:21:03.469Z"
   },
   {
    "duration": 142,
    "start_time": "2023-03-24T00:21:03.742Z"
   },
   {
    "duration": 173,
    "start_time": "2023-03-24T00:21:03.886Z"
   },
   {
    "duration": 32,
    "start_time": "2023-03-24T00:21:04.062Z"
   },
   {
    "duration": 258,
    "start_time": "2023-03-24T00:21:04.096Z"
   },
   {
    "duration": 4,
    "start_time": "2023-03-24T00:21:04.357Z"
   },
   {
    "duration": 164,
    "start_time": "2023-03-24T00:21:04.363Z"
   },
   {
    "duration": 6,
    "start_time": "2023-03-24T00:21:04.529Z"
   },
   {
    "duration": 8,
    "start_time": "2023-03-24T00:21:04.541Z"
   },
   {
    "duration": 10,
    "start_time": "2023-03-24T00:21:04.555Z"
   },
   {
    "duration": 126,
    "start_time": "2023-03-24T00:21:04.567Z"
   },
   {
    "duration": 14,
    "start_time": "2023-03-24T00:21:04.695Z"
   },
   {
    "duration": 37,
    "start_time": "2023-03-24T00:21:04.711Z"
   },
   {
    "duration": 356,
    "start_time": "2023-03-24T00:21:04.750Z"
   },
   {
    "duration": 126,
    "start_time": "2023-03-24T00:21:05.107Z"
   },
   {
    "duration": 6,
    "start_time": "2023-03-24T00:21:34.928Z"
   },
   {
    "duration": 5,
    "start_time": "2023-03-24T00:23:37.100Z"
   },
   {
    "duration": 9,
    "start_time": "2023-03-24T00:24:38.601Z"
   },
   {
    "duration": 9,
    "start_time": "2023-03-24T00:24:44.341Z"
   },
   {
    "duration": 8,
    "start_time": "2023-03-24T00:25:00.210Z"
   },
   {
    "duration": 5,
    "start_time": "2023-03-24T00:25:06.462Z"
   },
   {
    "duration": 8,
    "start_time": "2023-03-24T00:25:10.025Z"
   },
   {
    "duration": 53,
    "start_time": "2023-03-24T00:26:06.728Z"
   },
   {
    "duration": 248,
    "start_time": "2023-03-24T00:26:30.271Z"
   },
   {
    "duration": 11,
    "start_time": "2023-03-24T00:26:45.982Z"
   },
   {
    "duration": 40,
    "start_time": "2023-03-24T00:26:52.019Z"
   },
   {
    "duration": 43,
    "start_time": "2023-03-24T00:27:29.631Z"
   },
   {
    "duration": 52,
    "start_time": "2023-03-24T00:27:37.431Z"
   },
   {
    "duration": 54,
    "start_time": "2023-03-24T00:27:41.929Z"
   },
   {
    "duration": 45,
    "start_time": "2023-03-24T00:27:55.879Z"
   },
   {
    "duration": 42,
    "start_time": "2023-03-24T00:28:16.303Z"
   },
   {
    "duration": 43,
    "start_time": "2023-03-24T00:28:23.960Z"
   },
   {
    "duration": 41,
    "start_time": "2023-03-24T00:28:30.394Z"
   },
   {
    "duration": 263,
    "start_time": "2023-03-24T00:28:35.661Z"
   },
   {
    "duration": 75,
    "start_time": "2023-03-24T00:30:26.763Z"
   },
   {
    "duration": 76,
    "start_time": "2023-03-24T00:31:14.507Z"
   },
   {
    "duration": 87,
    "start_time": "2023-03-24T00:31:22.515Z"
   },
   {
    "duration": 3,
    "start_time": "2023-03-24T00:31:31.664Z"
   },
   {
    "duration": 6,
    "start_time": "2023-03-24T00:31:34.819Z"
   },
   {
    "duration": 13,
    "start_time": "2023-03-24T00:31:48.958Z"
   },
   {
    "duration": 7,
    "start_time": "2023-03-24T00:31:49.940Z"
   },
   {
    "duration": 12,
    "start_time": "2023-03-24T00:31:58.101Z"
   },
   {
    "duration": 7,
    "start_time": "2023-03-24T00:31:58.793Z"
   },
   {
    "duration": 13,
    "start_time": "2023-03-24T00:32:04.308Z"
   },
   {
    "duration": 7,
    "start_time": "2023-03-24T00:32:05.030Z"
   },
   {
    "duration": 6,
    "start_time": "2023-03-24T00:32:22.515Z"
   },
   {
    "duration": 7,
    "start_time": "2023-03-24T00:32:23.086Z"
   },
   {
    "duration": 80,
    "start_time": "2023-03-24T00:32:28.413Z"
   },
   {
    "duration": 3,
    "start_time": "2023-03-24T00:32:29.053Z"
   },
   {
    "duration": 6,
    "start_time": "2023-03-24T00:32:29.626Z"
   },
   {
    "duration": 5,
    "start_time": "2023-03-24T00:32:46.716Z"
   },
   {
    "duration": 8,
    "start_time": "2023-03-24T00:32:50.990Z"
   },
   {
    "duration": 6,
    "start_time": "2023-03-24T00:38:55.450Z"
   },
   {
    "duration": 11,
    "start_time": "2023-03-24T00:39:00.276Z"
   },
   {
    "duration": 9,
    "start_time": "2023-03-24T00:39:14.112Z"
   },
   {
    "duration": 54,
    "start_time": "2023-03-24T00:46:11.577Z"
   },
   {
    "duration": 68,
    "start_time": "2023-03-24T00:46:25.924Z"
   },
   {
    "duration": 85,
    "start_time": "2023-03-24T00:46:48.054Z"
   },
   {
    "duration": 91,
    "start_time": "2023-03-24T00:47:08.094Z"
   },
   {
    "duration": 82,
    "start_time": "2023-03-24T00:47:09.116Z"
   },
   {
    "duration": 24,
    "start_time": "2023-03-24T00:48:04.256Z"
   },
   {
    "duration": 62,
    "start_time": "2023-03-24T00:48:37.054Z"
   },
   {
    "duration": 11,
    "start_time": "2023-03-24T00:48:38.375Z"
   },
   {
    "duration": 1214,
    "start_time": "2023-03-24T00:49:03.950Z"
   },
   {
    "duration": 5185,
    "start_time": "2023-03-24T00:49:05.166Z"
   },
   {
    "duration": 3,
    "start_time": "2023-03-24T00:49:10.352Z"
   },
   {
    "duration": 338,
    "start_time": "2023-03-24T00:49:10.357Z"
   },
   {
    "duration": 292,
    "start_time": "2023-03-24T00:49:10.697Z"
   },
   {
    "duration": 1241,
    "start_time": "2023-03-24T00:49:10.991Z"
   },
   {
    "duration": 8346,
    "start_time": "2023-03-24T00:49:12.241Z"
   },
   {
    "duration": 4,
    "start_time": "2023-03-24T00:49:20.589Z"
   },
   {
    "duration": 231,
    "start_time": "2023-03-24T00:49:20.594Z"
   },
   {
    "duration": 137,
    "start_time": "2023-03-24T00:49:20.828Z"
   },
   {
    "duration": 156,
    "start_time": "2023-03-24T00:49:20.967Z"
   },
   {
    "duration": 26,
    "start_time": "2023-03-24T00:49:21.125Z"
   },
   {
    "duration": 217,
    "start_time": "2023-03-24T00:49:21.152Z"
   },
   {
    "duration": 4,
    "start_time": "2023-03-24T00:49:21.371Z"
   },
   {
    "duration": 153,
    "start_time": "2023-03-24T00:49:21.376Z"
   },
   {
    "duration": 15,
    "start_time": "2023-03-24T00:49:21.531Z"
   },
   {
    "duration": 17,
    "start_time": "2023-03-24T00:49:21.548Z"
   },
   {
    "duration": 13,
    "start_time": "2023-03-24T00:49:21.567Z"
   },
   {
    "duration": 109,
    "start_time": "2023-03-24T00:49:21.581Z"
   },
   {
    "duration": 12,
    "start_time": "2023-03-24T00:49:21.692Z"
   },
   {
    "duration": 10,
    "start_time": "2023-03-24T00:49:21.705Z"
   },
   {
    "duration": 287,
    "start_time": "2023-03-24T00:49:21.717Z"
   },
   {
    "duration": 4,
    "start_time": "2023-03-24T00:49:22.005Z"
   },
   {
    "duration": 91,
    "start_time": "2023-03-24T00:49:22.011Z"
   },
   {
    "duration": 3,
    "start_time": "2023-03-24T00:49:22.104Z"
   },
   {
    "duration": 43,
    "start_time": "2023-03-24T00:49:22.108Z"
   },
   {
    "duration": 88,
    "start_time": "2023-03-24T00:49:22.152Z"
   },
   {
    "duration": 74,
    "start_time": "2023-03-24T00:49:22.243Z"
   },
   {
    "duration": 35,
    "start_time": "2023-03-24T00:50:05.805Z"
   },
   {
    "duration": 24,
    "start_time": "2023-03-24T00:50:06.201Z"
   },
   {
    "duration": 50,
    "start_time": "2023-03-24T00:52:29.672Z"
   },
   {
    "duration": 23,
    "start_time": "2023-03-24T00:52:31.406Z"
   },
   {
    "duration": 76,
    "start_time": "2023-03-24T00:52:37.551Z"
   },
   {
    "duration": 60,
    "start_time": "2023-03-24T00:56:12.979Z"
   },
   {
    "duration": 1090,
    "start_time": "2023-03-24T00:56:59.928Z"
   },
   {
    "duration": 64,
    "start_time": "2023-03-24T00:57:09.216Z"
   },
   {
    "duration": 59,
    "start_time": "2023-03-24T00:57:26.266Z"
   },
   {
    "duration": 108,
    "start_time": "2023-03-24T00:58:14.423Z"
   },
   {
    "duration": 3,
    "start_time": "2023-03-24T01:03:18.112Z"
   },
   {
    "duration": 58,
    "start_time": "2023-03-24T01:03:32.712Z"
   },
   {
    "duration": 98,
    "start_time": "2023-03-24T01:03:44.949Z"
   },
   {
    "duration": 6,
    "start_time": "2023-03-24T01:04:03.494Z"
   },
   {
    "duration": 102,
    "start_time": "2023-03-24T01:04:15.930Z"
   },
   {
    "duration": 90,
    "start_time": "2023-03-24T01:05:51.690Z"
   },
   {
    "duration": 127,
    "start_time": "2023-03-24T01:06:15.705Z"
   },
   {
    "duration": 249,
    "start_time": "2023-03-24T01:09:03.510Z"
   },
   {
    "duration": 108,
    "start_time": "2023-03-24T01:09:19.434Z"
   },
   {
    "duration": 95,
    "start_time": "2023-03-24T01:10:38.396Z"
   },
   {
    "duration": 95,
    "start_time": "2023-03-24T01:11:15.511Z"
   },
   {
    "duration": 56,
    "start_time": "2023-03-24T01:11:40.636Z"
   },
   {
    "duration": 96,
    "start_time": "2023-03-24T01:11:48.234Z"
   },
   {
    "duration": 137,
    "start_time": "2023-03-24T01:12:17.873Z"
   },
   {
    "duration": 11,
    "start_time": "2023-03-24T01:12:38.835Z"
   },
   {
    "duration": 1161,
    "start_time": "2023-03-24T01:13:27.376Z"
   },
   {
    "duration": 5562,
    "start_time": "2023-03-24T01:13:28.539Z"
   },
   {
    "duration": 3,
    "start_time": "2023-03-24T01:13:34.103Z"
   },
   {
    "duration": 339,
    "start_time": "2023-03-24T01:13:34.108Z"
   },
   {
    "duration": 295,
    "start_time": "2023-03-24T01:13:34.449Z"
   },
   {
    "duration": 1318,
    "start_time": "2023-03-24T01:13:34.745Z"
   },
   {
    "duration": 9452,
    "start_time": "2023-03-24T01:13:36.064Z"
   },
   {
    "duration": 4,
    "start_time": "2023-03-24T01:13:45.518Z"
   },
   {
    "duration": 250,
    "start_time": "2023-03-24T01:13:45.524Z"
   },
   {
    "duration": 155,
    "start_time": "2023-03-24T01:13:45.777Z"
   },
   {
    "duration": 154,
    "start_time": "2023-03-24T01:13:45.934Z"
   },
   {
    "duration": 24,
    "start_time": "2023-03-24T01:13:46.090Z"
   },
   {
    "duration": 229,
    "start_time": "2023-03-24T01:13:46.115Z"
   },
   {
    "duration": 4,
    "start_time": "2023-03-24T01:13:46.346Z"
   },
   {
    "duration": 165,
    "start_time": "2023-03-24T01:13:46.351Z"
   },
   {
    "duration": 5,
    "start_time": "2023-03-24T01:13:46.518Z"
   },
   {
    "duration": 6,
    "start_time": "2023-03-24T01:13:46.525Z"
   },
   {
    "duration": 11,
    "start_time": "2023-03-24T01:13:46.533Z"
   },
   {
    "duration": 131,
    "start_time": "2023-03-24T01:13:46.545Z"
   },
   {
    "duration": 17,
    "start_time": "2023-03-24T01:13:46.678Z"
   },
   {
    "duration": 91,
    "start_time": "2023-03-24T01:13:46.697Z"
   },
   {
    "duration": 13,
    "start_time": "2023-03-24T01:13:46.790Z"
   },
   {
    "duration": 307,
    "start_time": "2023-03-24T01:13:46.805Z"
   },
   {
    "duration": 4,
    "start_time": "2023-03-24T01:13:47.114Z"
   },
   {
    "duration": 88,
    "start_time": "2023-03-24T01:13:47.119Z"
   },
   {
    "duration": 4,
    "start_time": "2023-03-24T01:13:47.208Z"
   },
   {
    "duration": 13,
    "start_time": "2023-03-24T01:13:47.213Z"
   },
   {
    "duration": 41,
    "start_time": "2023-03-24T01:13:47.244Z"
   },
   {
    "duration": 21,
    "start_time": "2023-03-24T01:13:47.287Z"
   },
   {
    "duration": 94,
    "start_time": "2023-03-24T01:13:47.310Z"
   },
   {
    "duration": 3,
    "start_time": "2023-03-24T01:13:47.406Z"
   },
   {
    "duration": 72,
    "start_time": "2023-03-24T01:13:47.410Z"
   },
   {
    "duration": 100,
    "start_time": "2023-03-24T01:13:47.483Z"
   },
   {
    "duration": 3,
    "start_time": "2023-03-24T01:13:47.585Z"
   },
   {
    "duration": 102,
    "start_time": "2023-03-24T01:13:47.590Z"
   },
   {
    "duration": 97,
    "start_time": "2023-03-24T01:13:47.693Z"
   },
   {
    "duration": 94,
    "start_time": "2023-03-24T01:13:47.792Z"
   },
   {
    "duration": 105,
    "start_time": "2023-03-24T01:13:47.888Z"
   },
   {
    "duration": 12,
    "start_time": "2023-03-24T01:13:47.995Z"
   },
   {
    "duration": 139,
    "start_time": "2023-03-24T01:14:55.583Z"
   },
   {
    "duration": 103,
    "start_time": "2023-03-24T01:15:43.882Z"
   },
   {
    "duration": 664,
    "start_time": "2023-03-24T01:15:47.008Z"
   },
   {
    "duration": 552,
    "start_time": "2023-03-24T01:16:09.715Z"
   },
   {
    "duration": 561,
    "start_time": "2023-03-24T01:16:25.109Z"
   },
   {
    "duration": 237,
    "start_time": "2023-03-24T01:16:55.284Z"
   },
   {
    "duration": 411,
    "start_time": "2023-03-24T01:17:00.370Z"
   },
   {
    "duration": 506,
    "start_time": "2023-03-24T01:17:07.646Z"
   },
   {
    "duration": 289,
    "start_time": "2023-03-24T01:17:14.439Z"
   },
   {
    "duration": 250,
    "start_time": "2023-03-24T01:17:21.324Z"
   },
   {
    "duration": 274,
    "start_time": "2023-03-24T01:17:33.747Z"
   },
   {
    "duration": 55,
    "start_time": "2023-03-24T01:18:38.491Z"
   },
   {
    "duration": 3184,
    "start_time": "2023-03-24T01:37:26.680Z"
   },
   {
    "duration": 1046,
    "start_time": "2023-03-24T01:38:39.078Z"
   },
   {
    "duration": 158,
    "start_time": "2023-03-24T01:39:57.788Z"
   },
   {
    "duration": 6,
    "start_time": "2023-03-24T01:40:12.027Z"
   },
   {
    "duration": 6,
    "start_time": "2023-03-24T01:43:20.130Z"
   },
   {
    "duration": 6,
    "start_time": "2023-03-24T01:44:04.213Z"
   },
   {
    "duration": 5,
    "start_time": "2023-03-24T01:45:11.346Z"
   },
   {
    "duration": 6,
    "start_time": "2023-03-24T01:48:05.056Z"
   },
   {
    "duration": 5,
    "start_time": "2023-03-24T01:48:09.898Z"
   },
   {
    "duration": 2398,
    "start_time": "2023-03-24T01:49:03.139Z"
   },
   {
    "duration": 2415,
    "start_time": "2023-03-24T01:49:05.540Z"
   },
   {
    "duration": 13016,
    "start_time": "2023-03-24T01:49:07.957Z"
   },
   {
    "duration": 5,
    "start_time": "2023-03-24T01:49:20.976Z"
   },
   {
    "duration": 350,
    "start_time": "2023-03-24T01:49:20.984Z"
   },
   {
    "duration": 306,
    "start_time": "2023-03-24T01:49:21.337Z"
   },
   {
    "duration": 1414,
    "start_time": "2023-03-24T01:49:21.645Z"
   },
   {
    "duration": 10445,
    "start_time": "2023-03-24T01:49:23.062Z"
   },
   {
    "duration": 4,
    "start_time": "2023-03-24T01:49:33.509Z"
   },
   {
    "duration": 268,
    "start_time": "2023-03-24T01:49:33.518Z"
   },
   {
    "duration": 155,
    "start_time": "2023-03-24T01:49:33.789Z"
   },
   {
    "duration": 162,
    "start_time": "2023-03-24T01:49:33.946Z"
   },
   {
    "duration": 34,
    "start_time": "2023-03-24T01:49:34.110Z"
   },
   {
    "duration": 262,
    "start_time": "2023-03-24T01:49:34.146Z"
   },
   {
    "duration": 4,
    "start_time": "2023-03-24T01:49:34.410Z"
   },
   {
    "duration": 182,
    "start_time": "2023-03-24T01:49:34.416Z"
   },
   {
    "duration": 7,
    "start_time": "2023-03-24T01:49:34.600Z"
   },
   {
    "duration": 17,
    "start_time": "2023-03-24T01:49:34.610Z"
   },
   {
    "duration": 14,
    "start_time": "2023-03-24T01:49:34.630Z"
   },
   {
    "duration": 175,
    "start_time": "2023-03-24T01:49:34.647Z"
   },
   {
    "duration": 27,
    "start_time": "2023-03-24T01:49:34.824Z"
   },
   {
    "duration": 114,
    "start_time": "2023-03-24T01:49:34.854Z"
   },
   {
    "duration": 21,
    "start_time": "2023-03-24T01:49:34.970Z"
   },
   {
    "duration": 396,
    "start_time": "2023-03-24T01:49:34.993Z"
   },
   {
    "duration": 5,
    "start_time": "2023-03-24T01:49:35.392Z"
   },
   {
    "duration": 112,
    "start_time": "2023-03-24T01:49:35.399Z"
   },
   {
    "duration": 7,
    "start_time": "2023-03-24T01:49:35.513Z"
   },
   {
    "duration": 42,
    "start_time": "2023-03-24T01:49:35.525Z"
   },
   {
    "duration": 55,
    "start_time": "2023-03-24T01:49:35.569Z"
   },
   {
    "duration": 19,
    "start_time": "2023-03-24T01:49:35.627Z"
   },
   {
    "duration": 124,
    "start_time": "2023-03-24T01:49:35.649Z"
   },
   {
    "duration": 7,
    "start_time": "2023-03-24T01:49:35.776Z"
   },
   {
    "duration": 115,
    "start_time": "2023-03-24T01:49:35.785Z"
   },
   {
    "duration": 137,
    "start_time": "2023-03-24T01:49:35.903Z"
   },
   {
    "duration": 4,
    "start_time": "2023-03-24T01:49:36.043Z"
   },
   {
    "duration": 129,
    "start_time": "2023-03-24T01:49:36.049Z"
   },
   {
    "duration": 122,
    "start_time": "2023-03-24T01:49:36.179Z"
   },
   {
    "duration": 128,
    "start_time": "2023-03-24T01:49:36.303Z"
   },
   {
    "duration": 137,
    "start_time": "2023-03-24T01:49:36.432Z"
   },
   {
    "duration": 543,
    "start_time": "2023-03-24T01:49:36.571Z"
   },
   {
    "duration": 415,
    "start_time": "2023-03-24T01:49:37.117Z"
   },
   {
    "duration": 7,
    "start_time": "2023-03-24T01:49:37.535Z"
   },
   {
    "duration": 17,
    "start_time": "2023-03-24T01:49:37.544Z"
   },
   {
    "duration": 179,
    "start_time": "2023-03-24T01:49:37.563Z"
   },
   {
    "duration": 6,
    "start_time": "2023-03-24T01:49:37.744Z"
   },
   {
    "duration": 142,
    "start_time": "2023-03-24T01:49:37.752Z"
   },
   {
    "duration": 12,
    "start_time": "2023-03-24T01:50:06.565Z"
   },
   {
    "duration": 15,
    "start_time": "2023-03-24T01:52:59.719Z"
   },
   {
    "duration": 47,
    "start_time": "2023-03-24T01:53:52.313Z"
   },
   {
    "duration": 83,
    "start_time": "2023-03-24T01:53:54.991Z"
   },
   {
    "duration": 137,
    "start_time": "2023-03-24T01:54:29.279Z"
   },
   {
    "duration": 5,
    "start_time": "2023-03-24T01:54:41.607Z"
   },
   {
    "duration": 3421,
    "start_time": "2023-03-24T01:55:26.431Z"
   },
   {
    "duration": 15,
    "start_time": "2023-03-24T01:56:48.649Z"
   },
   {
    "duration": 11,
    "start_time": "2023-03-24T01:56:57.375Z"
   },
   {
    "duration": 5,
    "start_time": "2023-03-24T01:57:16.874Z"
   },
   {
    "duration": 67,
    "start_time": "2023-03-24T01:57:20.454Z"
   },
   {
    "duration": 124,
    "start_time": "2023-03-24T01:57:20.648Z"
   },
   {
    "duration": 5,
    "start_time": "2023-03-24T01:57:20.863Z"
   },
   {
    "duration": 12,
    "start_time": "2023-03-24T01:57:21.541Z"
   },
   {
    "duration": 84,
    "start_time": "2023-03-24T01:57:22.144Z"
   },
   {
    "duration": 37,
    "start_time": "2023-03-24T01:58:09.409Z"
   },
   {
    "duration": 22,
    "start_time": "2023-03-24T01:58:17.537Z"
   },
   {
    "duration": 17,
    "start_time": "2023-03-24T02:00:17.381Z"
   },
   {
    "duration": 12,
    "start_time": "2023-03-24T02:00:19.858Z"
   },
   {
    "duration": 14,
    "start_time": "2023-03-24T02:00:26.867Z"
   },
   {
    "duration": 34,
    "start_time": "2023-03-24T02:00:27.599Z"
   },
   {
    "duration": 20,
    "start_time": "2023-03-24T02:00:54.844Z"
   },
   {
    "duration": 39,
    "start_time": "2023-03-24T02:00:55.662Z"
   },
   {
    "duration": 4,
    "start_time": "2023-03-24T02:01:13.764Z"
   },
   {
    "duration": 10,
    "start_time": "2023-03-24T02:01:25.941Z"
   },
   {
    "duration": 8,
    "start_time": "2023-03-24T02:01:29.338Z"
   },
   {
    "duration": 6734,
    "start_time": "2023-03-24T02:01:49.068Z"
   },
   {
    "duration": 25,
    "start_time": "2023-03-24T02:02:00.146Z"
   },
   {
    "duration": 4,
    "start_time": "2023-03-24T02:04:32.912Z"
   },
   {
    "duration": 94,
    "start_time": "2023-03-24T02:06:01.305Z"
   },
   {
    "duration": 5,
    "start_time": "2023-03-24T02:06:18.396Z"
   },
   {
    "duration": 16,
    "start_time": "2023-03-24T02:06:22.828Z"
   },
   {
    "duration": 15,
    "start_time": "2023-03-24T02:11:20.102Z"
   },
   {
    "duration": 7,
    "start_time": "2023-03-24T02:11:47.816Z"
   },
   {
    "duration": 4,
    "start_time": "2023-03-24T02:11:51.610Z"
   },
   {
    "duration": 5651,
    "start_time": "2023-03-24T02:11:56.971Z"
   },
   {
    "duration": 106796,
    "start_time": "2023-03-24T02:15:42.468Z"
   },
   {
    "duration": 27,
    "start_time": "2023-03-24T02:17:34.230Z"
   },
   {
    "duration": 35,
    "start_time": "2023-03-24T02:17:46.230Z"
   },
   {
    "duration": 817979,
    "start_time": "2023-03-24T02:17:47.205Z"
   },
   {
    "duration": 0,
    "start_time": "2023-03-24T02:31:25.190Z"
   },
   {
    "duration": 0,
    "start_time": "2023-03-24T02:31:25.191Z"
   },
   {
    "duration": 0,
    "start_time": "2023-03-24T02:31:25.198Z"
   },
   {
    "duration": 0,
    "start_time": "2023-03-24T02:31:25.199Z"
   },
   {
    "duration": 0,
    "start_time": "2023-03-24T02:31:25.199Z"
   },
   {
    "duration": 0,
    "start_time": "2023-03-24T02:31:25.200Z"
   },
   {
    "duration": 12218,
    "start_time": "2023-03-24T02:32:07.261Z"
   },
   {
    "duration": 22,
    "start_time": "2023-03-24T02:32:36.202Z"
   },
   {
    "duration": 196,
    "start_time": "2023-03-24T02:32:49.257Z"
   },
   {
    "duration": 73,
    "start_time": "2023-03-24T02:32:57.684Z"
   },
   {
    "duration": 40,
    "start_time": "2023-03-24T02:33:40.250Z"
   },
   {
    "duration": 52,
    "start_time": "2023-03-24T02:33:42.904Z"
   },
   {
    "duration": 5724,
    "start_time": "2023-03-24T02:33:43.600Z"
   },
   {
    "duration": 34,
    "start_time": "2023-03-24T02:33:59.963Z"
   },
   {
    "duration": 86,
    "start_time": "2023-03-24T02:34:00.285Z"
   },
   {
    "duration": 2360,
    "start_time": "2023-03-24T02:34:27.534Z"
   },
   {
    "duration": 2729,
    "start_time": "2023-03-24T02:34:29.897Z"
   },
   {
    "duration": 9302,
    "start_time": "2023-03-24T02:34:32.629Z"
   },
   {
    "duration": 4,
    "start_time": "2023-03-24T02:34:41.933Z"
   },
   {
    "duration": 508,
    "start_time": "2023-03-24T02:34:41.939Z"
   },
   {
    "duration": 346,
    "start_time": "2023-03-24T02:34:42.450Z"
   },
   {
    "duration": 1549,
    "start_time": "2023-03-24T02:34:42.798Z"
   },
   {
    "duration": 8625,
    "start_time": "2023-03-24T02:34:44.352Z"
   },
   {
    "duration": 14,
    "start_time": "2023-03-24T02:34:52.979Z"
   },
   {
    "duration": 258,
    "start_time": "2023-03-24T02:34:52.995Z"
   },
   {
    "duration": 170,
    "start_time": "2023-03-24T02:34:53.261Z"
   },
   {
    "duration": 201,
    "start_time": "2023-03-24T02:34:53.433Z"
   },
   {
    "duration": 73,
    "start_time": "2023-03-24T02:34:53.636Z"
   },
   {
    "duration": 315,
    "start_time": "2023-03-24T02:34:53.714Z"
   },
   {
    "duration": 17,
    "start_time": "2023-03-24T02:34:54.031Z"
   },
   {
    "duration": 206,
    "start_time": "2023-03-24T02:34:54.057Z"
   },
   {
    "duration": 12,
    "start_time": "2023-03-24T02:34:54.268Z"
   },
   {
    "duration": 18,
    "start_time": "2023-03-24T02:34:54.282Z"
   },
   {
    "duration": 9,
    "start_time": "2023-03-24T02:34:54.302Z"
   },
   {
    "duration": 139,
    "start_time": "2023-03-24T02:34:54.313Z"
   },
   {
    "duration": 16,
    "start_time": "2023-03-24T02:34:54.455Z"
   },
   {
    "duration": 123,
    "start_time": "2023-03-24T02:34:54.473Z"
   },
   {
    "duration": 13,
    "start_time": "2023-03-24T02:34:54.597Z"
   },
   {
    "duration": 346,
    "start_time": "2023-03-24T02:34:54.612Z"
   },
   {
    "duration": 7,
    "start_time": "2023-03-24T02:34:54.959Z"
   },
   {
    "duration": 121,
    "start_time": "2023-03-24T02:34:54.967Z"
   },
   {
    "duration": 3,
    "start_time": "2023-03-24T02:34:55.091Z"
   },
   {
    "duration": 14,
    "start_time": "2023-03-24T02:34:55.095Z"
   },
   {
    "duration": 52,
    "start_time": "2023-03-24T02:34:55.111Z"
   },
   {
    "duration": 29,
    "start_time": "2023-03-24T02:34:55.165Z"
   },
   {
    "duration": 108,
    "start_time": "2023-03-24T02:34:55.196Z"
   },
   {
    "duration": 5,
    "start_time": "2023-03-24T02:34:55.306Z"
   },
   {
    "duration": 82,
    "start_time": "2023-03-24T02:34:55.313Z"
   },
   {
    "duration": 159,
    "start_time": "2023-03-24T02:34:55.398Z"
   },
   {
    "duration": 6,
    "start_time": "2023-03-24T02:34:55.559Z"
   },
   {
    "duration": 123,
    "start_time": "2023-03-24T02:34:55.571Z"
   },
   {
    "duration": 147,
    "start_time": "2023-03-24T02:34:55.696Z"
   },
   {
    "duration": 143,
    "start_time": "2023-03-24T02:34:55.848Z"
   },
   {
    "duration": 143,
    "start_time": "2023-03-24T02:34:55.993Z"
   },
   {
    "duration": 490,
    "start_time": "2023-03-24T02:34:56.138Z"
   },
   {
    "duration": 355,
    "start_time": "2023-03-24T02:34:56.644Z"
   },
   {
    "duration": 5,
    "start_time": "2023-03-24T02:34:57.001Z"
   },
   {
    "duration": 12,
    "start_time": "2023-03-24T02:34:57.009Z"
   },
   {
    "duration": 71,
    "start_time": "2023-03-24T02:34:57.024Z"
   },
   {
    "duration": 171,
    "start_time": "2023-03-24T02:34:57.099Z"
   },
   {
    "duration": 8,
    "start_time": "2023-03-24T02:34:57.275Z"
   },
   {
    "duration": 35,
    "start_time": "2023-03-24T02:34:57.285Z"
   },
   {
    "duration": 62,
    "start_time": "2023-03-24T02:34:57.322Z"
   },
   {
    "duration": 16728,
    "start_time": "2023-03-24T02:34:57.386Z"
   },
   {
    "duration": 15869,
    "start_time": "2023-03-24T02:35:14.116Z"
   },
   {
    "duration": 0,
    "start_time": "2023-03-24T02:35:29.987Z"
   },
   {
    "duration": 0,
    "start_time": "2023-03-24T02:35:29.989Z"
   },
   {
    "duration": 0,
    "start_time": "2023-03-24T02:35:29.991Z"
   },
   {
    "duration": 0,
    "start_time": "2023-03-24T02:35:29.992Z"
   },
   {
    "duration": 0,
    "start_time": "2023-03-24T02:35:29.994Z"
   },
   {
    "duration": 11,
    "start_time": "2023-03-24T02:35:52.526Z"
   },
   {
    "duration": 7295,
    "start_time": "2023-03-24T02:35:59.116Z"
   },
   {
    "duration": 1759,
    "start_time": "2023-03-24T02:36:12.599Z"
   },
   {
    "duration": 1809,
    "start_time": "2023-03-24T02:36:30.174Z"
   },
   {
    "duration": 1780,
    "start_time": "2023-03-24T02:36:43.227Z"
   },
   {
    "duration": 15,
    "start_time": "2023-03-24T02:37:01.785Z"
   },
   {
    "duration": 23434,
    "start_time": "2023-03-24T02:37:12.427Z"
   },
   {
    "duration": 600591,
    "start_time": "2023-03-24T02:39:26.679Z"
   },
   {
    "duration": 384809,
    "start_time": "2023-03-24T02:49:44.487Z"
   },
   {
    "duration": 15,
    "start_time": "2023-03-24T02:56:10.222Z"
   },
   {
    "duration": 5369654,
    "start_time": "2023-03-24T02:56:10.695Z"
   },
   {
    "duration": 0,
    "start_time": "2023-03-24T04:25:40.357Z"
   },
   {
    "duration": 0,
    "start_time": "2023-03-24T04:25:40.358Z"
   },
   {
    "duration": 0,
    "start_time": "2023-03-24T04:25:40.359Z"
   },
   {
    "duration": 22,
    "start_time": "2023-03-24T04:25:44.931Z"
   },
   {
    "duration": 95034,
    "start_time": "2023-03-24T04:25:47.033Z"
   },
   {
    "duration": 87255,
    "start_time": "2023-03-24T04:27:27.322Z"
   },
   {
    "duration": 2039,
    "start_time": "2023-03-24T04:28:57.905Z"
   },
   {
    "duration": 10,
    "start_time": "2023-03-24T04:29:31.586Z"
   },
   {
    "duration": 366,
    "start_time": "2023-03-24T04:29:57.571Z"
   },
   {
    "duration": 433,
    "start_time": "2023-03-24T04:30:09.478Z"
   },
   {
    "duration": 27,
    "start_time": "2023-03-24T04:30:26.570Z"
   },
   {
    "duration": 7,
    "start_time": "2023-03-24T04:30:33.728Z"
   },
   {
    "duration": 49817,
    "start_time": "2023-03-24T04:30:41.114Z"
   },
   {
    "duration": 59,
    "start_time": "2023-03-24T04:31:37.480Z"
   },
   {
    "duration": 2636,
    "start_time": "2023-03-24T04:32:15.381Z"
   },
   {
    "duration": 1992,
    "start_time": "2023-03-24T04:32:18.019Z"
   },
   {
    "duration": 7044,
    "start_time": "2023-03-24T04:32:20.013Z"
   },
   {
    "duration": 5,
    "start_time": "2023-03-24T04:32:27.069Z"
   },
   {
    "duration": 442,
    "start_time": "2023-03-24T04:32:27.076Z"
   },
   {
    "duration": 301,
    "start_time": "2023-03-24T04:32:27.519Z"
   },
   {
    "duration": 693,
    "start_time": "2023-03-24T04:32:27.822Z"
   },
   {
    "duration": 10545,
    "start_time": "2023-03-24T04:32:28.516Z"
   },
   {
    "duration": 11,
    "start_time": "2023-03-24T04:32:39.070Z"
   },
   {
    "duration": 295,
    "start_time": "2023-03-24T04:32:39.086Z"
   },
   {
    "duration": 173,
    "start_time": "2023-03-24T04:32:39.383Z"
   },
   {
    "duration": 169,
    "start_time": "2023-03-24T04:32:39.558Z"
   },
   {
    "duration": 24,
    "start_time": "2023-03-24T04:32:39.729Z"
   },
   {
    "duration": 296,
    "start_time": "2023-03-24T04:32:39.755Z"
   },
   {
    "duration": 6,
    "start_time": "2023-03-24T04:32:40.053Z"
   },
   {
    "duration": 204,
    "start_time": "2023-03-24T04:32:40.066Z"
   },
   {
    "duration": 14,
    "start_time": "2023-03-24T04:32:40.271Z"
   },
   {
    "duration": 7,
    "start_time": "2023-03-24T04:32:40.287Z"
   },
   {
    "duration": 12,
    "start_time": "2023-03-24T04:32:40.296Z"
   },
   {
    "duration": 93,
    "start_time": "2023-03-24T04:32:40.310Z"
   },
   {
    "duration": 14,
    "start_time": "2023-03-24T04:32:40.405Z"
   },
   {
    "duration": 106,
    "start_time": "2023-03-24T04:32:40.421Z"
   },
   {
    "duration": 27,
    "start_time": "2023-03-24T04:32:40.529Z"
   },
   {
    "duration": 398,
    "start_time": "2023-03-24T04:32:40.558Z"
   },
   {
    "duration": 7,
    "start_time": "2023-03-24T04:32:40.964Z"
   },
   {
    "duration": 138,
    "start_time": "2023-03-24T04:32:40.974Z"
   },
   {
    "duration": 4,
    "start_time": "2023-03-24T04:32:41.115Z"
   },
   {
    "duration": 45,
    "start_time": "2023-03-24T04:32:41.123Z"
   },
   {
    "duration": 77,
    "start_time": "2023-03-24T04:32:41.171Z"
   },
   {
    "duration": 28,
    "start_time": "2023-03-24T04:32:41.250Z"
   },
   {
    "duration": 99,
    "start_time": "2023-03-24T04:32:41.280Z"
   },
   {
    "duration": 5,
    "start_time": "2023-03-24T04:32:41.381Z"
   },
   {
    "duration": 75,
    "start_time": "2023-03-24T04:32:41.387Z"
   },
   {
    "duration": 107,
    "start_time": "2023-03-24T04:32:41.470Z"
   },
   {
    "duration": 4,
    "start_time": "2023-03-24T04:32:41.579Z"
   },
   {
    "duration": 104,
    "start_time": "2023-03-24T04:32:41.585Z"
   },
   {
    "duration": 111,
    "start_time": "2023-03-24T04:32:41.690Z"
   },
   {
    "duration": 120,
    "start_time": "2023-03-24T04:32:41.803Z"
   },
   {
    "duration": 130,
    "start_time": "2023-03-24T04:32:41.925Z"
   },
   {
    "duration": 155,
    "start_time": "2023-03-24T04:32:42.062Z"
   },
   {
    "duration": 176,
    "start_time": "2023-03-24T04:32:42.219Z"
   },
   {
    "duration": 5,
    "start_time": "2023-03-24T04:32:44.914Z"
   },
   {
    "duration": 5,
    "start_time": "2023-03-24T04:32:45.127Z"
   },
   {
    "duration": 39,
    "start_time": "2023-03-24T04:32:45.375Z"
   },
   {
    "duration": 122,
    "start_time": "2023-03-24T04:32:45.591Z"
   },
   {
    "duration": 9,
    "start_time": "2023-03-24T04:32:45.841Z"
   },
   {
    "duration": 24,
    "start_time": "2023-03-24T04:32:46.765Z"
   },
   {
    "duration": 2092,
    "start_time": "2023-03-24T04:32:56.725Z"
   },
   {
    "duration": 52,
    "start_time": "2023-03-24T04:33:32.872Z"
   },
   {
    "duration": 411,
    "start_time": "2023-03-24T04:33:38.868Z"
   },
   {
    "duration": 34037,
    "start_time": "2023-03-24T04:33:43.965Z"
   },
   {
    "duration": 299,
    "start_time": "2023-03-24T04:34:25.892Z"
   },
   {
    "duration": 137486,
    "start_time": "2023-03-24T04:34:32.179Z"
   },
   {
    "duration": 2220,
    "start_time": "2023-03-24T04:38:18.267Z"
   },
   {
    "duration": 2144,
    "start_time": "2023-03-24T04:39:46.806Z"
   },
   {
    "duration": 1804,
    "start_time": "2023-03-24T04:39:53.966Z"
   },
   {
    "duration": 14024,
    "start_time": "2023-03-24T04:39:55.773Z"
   },
   {
    "duration": 3,
    "start_time": "2023-03-24T04:40:09.799Z"
   },
   {
    "duration": 411,
    "start_time": "2023-03-24T04:40:09.804Z"
   },
   {
    "duration": 304,
    "start_time": "2023-03-24T04:40:10.217Z"
   },
   {
    "duration": 671,
    "start_time": "2023-03-24T04:40:10.523Z"
   },
   {
    "duration": 9297,
    "start_time": "2023-03-24T04:40:11.196Z"
   },
   {
    "duration": 4,
    "start_time": "2023-03-24T04:40:20.495Z"
   },
   {
    "duration": 263,
    "start_time": "2023-03-24T04:40:20.501Z"
   },
   {
    "duration": 141,
    "start_time": "2023-03-24T04:40:20.767Z"
   },
   {
    "duration": 167,
    "start_time": "2023-03-24T04:40:20.910Z"
   },
   {
    "duration": 33,
    "start_time": "2023-03-24T04:40:21.079Z"
   },
   {
    "duration": 266,
    "start_time": "2023-03-24T04:40:21.114Z"
   },
   {
    "duration": 4,
    "start_time": "2023-03-24T04:40:21.382Z"
   },
   {
    "duration": 182,
    "start_time": "2023-03-24T04:40:21.388Z"
   },
   {
    "duration": 6,
    "start_time": "2023-03-24T04:40:21.572Z"
   },
   {
    "duration": 10,
    "start_time": "2023-03-24T04:40:21.579Z"
   },
   {
    "duration": 7,
    "start_time": "2023-03-24T04:40:21.591Z"
   },
   {
    "duration": 89,
    "start_time": "2023-03-24T04:40:21.599Z"
   },
   {
    "duration": 13,
    "start_time": "2023-03-24T04:40:21.690Z"
   },
   {
    "duration": 101,
    "start_time": "2023-03-24T04:40:21.705Z"
   },
   {
    "duration": 13,
    "start_time": "2023-03-24T04:40:21.808Z"
   },
   {
    "duration": 332,
    "start_time": "2023-03-24T04:40:21.823Z"
   },
   {
    "duration": 5,
    "start_time": "2023-03-24T04:40:22.166Z"
   },
   {
    "duration": 97,
    "start_time": "2023-03-24T04:40:22.173Z"
   },
   {
    "duration": 3,
    "start_time": "2023-03-24T04:40:22.272Z"
   },
   {
    "duration": 14,
    "start_time": "2023-03-24T04:40:22.276Z"
   },
   {
    "duration": 61,
    "start_time": "2023-03-24T04:40:22.294Z"
   },
   {
    "duration": 26,
    "start_time": "2023-03-24T04:40:22.356Z"
   },
   {
    "duration": 91,
    "start_time": "2023-03-24T04:40:22.384Z"
   },
   {
    "duration": 4,
    "start_time": "2023-03-24T04:40:22.477Z"
   },
   {
    "duration": 82,
    "start_time": "2023-03-24T04:40:22.483Z"
   },
   {
    "duration": 102,
    "start_time": "2023-03-24T04:40:22.567Z"
   },
   {
    "duration": 4,
    "start_time": "2023-03-24T04:40:22.671Z"
   },
   {
    "duration": 161,
    "start_time": "2023-03-24T04:40:22.677Z"
   },
   {
    "duration": 118,
    "start_time": "2023-03-24T04:40:22.840Z"
   },
   {
    "duration": 105,
    "start_time": "2023-03-24T04:40:22.966Z"
   },
   {
    "duration": 97,
    "start_time": "2023-03-24T04:40:23.074Z"
   },
   {
    "duration": 151,
    "start_time": "2023-03-24T04:40:23.173Z"
   },
   {
    "duration": 176,
    "start_time": "2023-03-24T04:40:23.325Z"
   },
   {
    "duration": 161,
    "start_time": "2023-03-24T04:40:27.211Z"
   },
   {
    "duration": 19,
    "start_time": "2023-03-24T04:40:27.543Z"
   },
   {
    "duration": 4,
    "start_time": "2023-03-24T04:40:42.820Z"
   },
   {
    "duration": 5,
    "start_time": "2023-03-24T04:40:43.190Z"
   },
   {
    "duration": 44,
    "start_time": "2023-03-24T04:40:43.590Z"
   },
   {
    "duration": 123,
    "start_time": "2023-03-24T04:40:44.014Z"
   },
   {
    "duration": 5,
    "start_time": "2023-03-24T04:40:46.120Z"
   },
   {
    "duration": 6,
    "start_time": "2023-03-24T04:40:50.985Z"
   },
   {
    "duration": 393,
    "start_time": "2023-03-24T04:40:51.468Z"
   },
   {
    "duration": 679782,
    "start_time": "2023-03-24T04:40:52.240Z"
   },
   {
    "duration": 3712,
    "start_time": "2023-03-24T04:52:14.691Z"
   },
   {
    "duration": 2342,
    "start_time": "2023-03-24T04:52:25.078Z"
   },
   {
    "duration": 1887,
    "start_time": "2023-03-24T04:52:27.422Z"
   },
   {
    "duration": 5768,
    "start_time": "2023-03-24T04:52:29.311Z"
   },
   {
    "duration": 4,
    "start_time": "2023-03-24T04:52:35.083Z"
   },
   {
    "duration": 403,
    "start_time": "2023-03-24T04:52:35.089Z"
   },
   {
    "duration": 303,
    "start_time": "2023-03-24T04:52:35.495Z"
   },
   {
    "duration": 668,
    "start_time": "2023-03-24T04:52:35.800Z"
   },
   {
    "duration": 11185,
    "start_time": "2023-03-24T04:52:36.470Z"
   },
   {
    "duration": 4,
    "start_time": "2023-03-24T04:52:47.657Z"
   },
   {
    "duration": 258,
    "start_time": "2023-03-24T04:52:47.663Z"
   },
   {
    "duration": 146,
    "start_time": "2023-03-24T04:52:47.923Z"
   },
   {
    "duration": 158,
    "start_time": "2023-03-24T04:52:48.071Z"
   },
   {
    "duration": 30,
    "start_time": "2023-03-24T04:52:48.231Z"
   },
   {
    "duration": 247,
    "start_time": "2023-03-24T04:52:48.263Z"
   },
   {
    "duration": 4,
    "start_time": "2023-03-24T04:52:48.512Z"
   },
   {
    "duration": 167,
    "start_time": "2023-03-24T04:52:48.518Z"
   },
   {
    "duration": 6,
    "start_time": "2023-03-24T04:52:48.688Z"
   },
   {
    "duration": 7,
    "start_time": "2023-03-24T04:52:48.696Z"
   },
   {
    "duration": 7,
    "start_time": "2023-03-24T04:52:48.704Z"
   },
   {
    "duration": 107,
    "start_time": "2023-03-24T04:52:48.712Z"
   },
   {
    "duration": 15,
    "start_time": "2023-03-24T04:52:48.820Z"
   },
   {
    "duration": 92,
    "start_time": "2023-03-24T04:52:48.842Z"
   },
   {
    "duration": 29,
    "start_time": "2023-03-24T04:52:48.942Z"
   },
   {
    "duration": 324,
    "start_time": "2023-03-24T04:52:48.972Z"
   },
   {
    "duration": 4,
    "start_time": "2023-03-24T04:52:49.298Z"
   },
   {
    "duration": 107,
    "start_time": "2023-03-24T04:52:49.304Z"
   },
   {
    "duration": 3,
    "start_time": "2023-03-24T04:52:49.413Z"
   },
   {
    "duration": 31,
    "start_time": "2023-03-24T04:52:49.421Z"
   },
   {
    "duration": 48,
    "start_time": "2023-03-24T04:52:49.453Z"
   },
   {
    "duration": 21,
    "start_time": "2023-03-24T04:52:49.502Z"
   },
   {
    "duration": 90,
    "start_time": "2023-03-24T04:52:49.525Z"
   },
   {
    "duration": 3,
    "start_time": "2023-03-24T04:52:49.617Z"
   },
   {
    "duration": 72,
    "start_time": "2023-03-24T04:52:49.622Z"
   },
   {
    "duration": 120,
    "start_time": "2023-03-24T04:52:49.696Z"
   },
   {
    "duration": 5,
    "start_time": "2023-03-24T04:52:49.818Z"
   },
   {
    "duration": 139,
    "start_time": "2023-03-24T04:52:49.825Z"
   },
   {
    "duration": 118,
    "start_time": "2023-03-24T04:52:49.966Z"
   },
   {
    "duration": 114,
    "start_time": "2023-03-24T04:52:50.086Z"
   },
   {
    "duration": 124,
    "start_time": "2023-03-24T04:52:50.201Z"
   },
   {
    "duration": 163,
    "start_time": "2023-03-24T04:52:50.327Z"
   },
   {
    "duration": 192,
    "start_time": "2023-03-24T04:52:50.492Z"
   },
   {
    "duration": 4,
    "start_time": "2023-03-24T04:52:50.686Z"
   },
   {
    "duration": 7,
    "start_time": "2023-03-24T04:52:50.691Z"
   },
   {
    "duration": 64,
    "start_time": "2023-03-24T04:52:50.700Z"
   },
   {
    "duration": 133,
    "start_time": "2023-03-24T04:52:50.766Z"
   },
   {
    "duration": 5,
    "start_time": "2023-03-24T04:52:50.901Z"
   },
   {
    "duration": 18,
    "start_time": "2023-03-24T04:52:50.909Z"
   },
   {
    "duration": 6,
    "start_time": "2023-03-24T04:52:59.271Z"
   },
   {
    "duration": 365,
    "start_time": "2023-03-24T04:52:59.797Z"
   },
   {
    "duration": 11689,
    "start_time": "2023-03-24T04:53:00.386Z"
   },
   {
    "duration": 15,
    "start_time": "2023-03-24T04:53:47.792Z"
   },
   {
    "duration": 814,
    "start_time": "2023-03-24T04:54:02.758Z"
   },
   {
    "duration": 3265,
    "start_time": "2023-03-24T04:54:16.864Z"
   },
   {
    "duration": 2138,
    "start_time": "2023-03-24T04:54:47.881Z"
   },
   {
    "duration": 1690,
    "start_time": "2023-03-24T04:54:50.021Z"
   },
   {
    "duration": 5943,
    "start_time": "2023-03-24T04:54:51.713Z"
   },
   {
    "duration": 3,
    "start_time": "2023-03-24T04:54:57.659Z"
   },
   {
    "duration": 391,
    "start_time": "2023-03-24T04:54:57.663Z"
   },
   {
    "duration": 331,
    "start_time": "2023-03-24T04:54:58.056Z"
   },
   {
    "duration": 682,
    "start_time": "2023-03-24T04:54:58.389Z"
   },
   {
    "duration": 10102,
    "start_time": "2023-03-24T04:54:59.074Z"
   },
   {
    "duration": 5,
    "start_time": "2023-03-24T04:55:09.178Z"
   },
   {
    "duration": 246,
    "start_time": "2023-03-24T04:55:09.185Z"
   },
   {
    "duration": 146,
    "start_time": "2023-03-24T04:55:09.433Z"
   },
   {
    "duration": 173,
    "start_time": "2023-03-24T04:55:09.581Z"
   },
   {
    "duration": 19,
    "start_time": "2023-03-24T04:55:09.757Z"
   },
   {
    "duration": 235,
    "start_time": "2023-03-24T04:55:09.778Z"
   },
   {
    "duration": 4,
    "start_time": "2023-03-24T04:55:10.014Z"
   },
   {
    "duration": 174,
    "start_time": "2023-03-24T04:55:10.020Z"
   },
   {
    "duration": 5,
    "start_time": "2023-03-24T04:55:10.196Z"
   },
   {
    "duration": 8,
    "start_time": "2023-03-24T04:55:10.202Z"
   },
   {
    "duration": 9,
    "start_time": "2023-03-24T04:55:10.212Z"
   },
   {
    "duration": 96,
    "start_time": "2023-03-24T04:55:10.222Z"
   },
   {
    "duration": 25,
    "start_time": "2023-03-24T04:55:10.320Z"
   },
   {
    "duration": 73,
    "start_time": "2023-03-24T04:55:10.347Z"
   },
   {
    "duration": 31,
    "start_time": "2023-03-24T04:55:10.422Z"
   },
   {
    "duration": 322,
    "start_time": "2023-03-24T04:55:10.455Z"
   },
   {
    "duration": 4,
    "start_time": "2023-03-24T04:55:10.779Z"
   },
   {
    "duration": 97,
    "start_time": "2023-03-24T04:55:10.784Z"
   },
   {
    "duration": 3,
    "start_time": "2023-03-24T04:55:10.883Z"
   },
   {
    "duration": 20,
    "start_time": "2023-03-24T04:55:10.891Z"
   },
   {
    "duration": 60,
    "start_time": "2023-03-24T04:55:10.912Z"
   },
   {
    "duration": 148,
    "start_time": "2023-03-24T04:55:10.974Z"
   },
   {
    "duration": 152,
    "start_time": "2023-03-24T04:55:11.123Z"
   },
   {
    "duration": 5,
    "start_time": "2023-03-24T04:55:11.277Z"
   },
   {
    "duration": 70,
    "start_time": "2023-03-24T04:55:11.283Z"
   },
   {
    "duration": 101,
    "start_time": "2023-03-24T04:55:11.355Z"
   },
   {
    "duration": 5,
    "start_time": "2023-03-24T04:55:11.458Z"
   },
   {
    "duration": 110,
    "start_time": "2023-03-24T04:55:11.465Z"
   },
   {
    "duration": 99,
    "start_time": "2023-03-24T04:55:11.577Z"
   },
   {
    "duration": 111,
    "start_time": "2023-03-24T04:55:11.678Z"
   },
   {
    "duration": 109,
    "start_time": "2023-03-24T04:55:11.791Z"
   },
   {
    "duration": 151,
    "start_time": "2023-03-24T04:55:11.901Z"
   },
   {
    "duration": 158,
    "start_time": "2023-03-24T04:55:12.054Z"
   },
   {
    "duration": 4,
    "start_time": "2023-03-24T04:55:12.214Z"
   },
   {
    "duration": 6,
    "start_time": "2023-03-24T04:55:12.220Z"
   },
   {
    "duration": 54,
    "start_time": "2023-03-24T04:55:12.228Z"
   },
   {
    "duration": 128,
    "start_time": "2023-03-24T04:55:12.284Z"
   },
   {
    "duration": 5,
    "start_time": "2023-03-24T04:55:12.414Z"
   },
   {
    "duration": 53600,
    "start_time": "2023-03-24T04:55:12.420Z"
   },
   {
    "duration": 0,
    "start_time": "2023-03-24T04:56:06.022Z"
   },
   {
    "duration": 0,
    "start_time": "2023-03-24T04:56:06.024Z"
   },
   {
    "duration": 0,
    "start_time": "2023-03-24T04:56:06.025Z"
   },
   {
    "duration": 0,
    "start_time": "2023-03-24T04:56:06.027Z"
   },
   {
    "duration": 0,
    "start_time": "2023-03-24T04:56:06.028Z"
   },
   {
    "duration": 0,
    "start_time": "2023-03-24T04:56:06.041Z"
   },
   {
    "duration": 0,
    "start_time": "2023-03-24T04:56:06.041Z"
   },
   {
    "duration": 2149,
    "start_time": "2023-03-24T04:56:14.402Z"
   },
   {
    "duration": 1818,
    "start_time": "2023-03-24T04:56:16.554Z"
   },
   {
    "duration": 6214,
    "start_time": "2023-03-24T04:56:18.373Z"
   },
   {
    "duration": 3,
    "start_time": "2023-03-24T04:56:24.589Z"
   },
   {
    "duration": 373,
    "start_time": "2023-03-24T04:56:24.594Z"
   },
   {
    "duration": 295,
    "start_time": "2023-03-24T04:56:24.968Z"
   },
   {
    "duration": 720,
    "start_time": "2023-03-24T04:56:25.266Z"
   },
   {
    "duration": 8706,
    "start_time": "2023-03-24T04:56:25.988Z"
   },
   {
    "duration": 4,
    "start_time": "2023-03-24T04:56:34.697Z"
   },
   {
    "duration": 246,
    "start_time": "2023-03-24T04:56:34.703Z"
   },
   {
    "duration": 137,
    "start_time": "2023-03-24T04:56:34.951Z"
   },
   {
    "duration": 168,
    "start_time": "2023-03-24T04:56:35.089Z"
   },
   {
    "duration": 20,
    "start_time": "2023-03-24T04:56:35.259Z"
   },
   {
    "duration": 252,
    "start_time": "2023-03-24T04:56:35.283Z"
   },
   {
    "duration": 16,
    "start_time": "2023-03-24T04:56:35.537Z"
   },
   {
    "duration": 155,
    "start_time": "2023-03-24T04:56:35.556Z"
   },
   {
    "duration": 6,
    "start_time": "2023-03-24T04:56:35.713Z"
   },
   {
    "duration": 9,
    "start_time": "2023-03-24T04:56:35.721Z"
   },
   {
    "duration": 11,
    "start_time": "2023-03-24T04:56:35.754Z"
   },
   {
    "duration": 111,
    "start_time": "2023-03-24T04:56:35.767Z"
   },
   {
    "duration": 15,
    "start_time": "2023-03-24T04:56:35.880Z"
   },
   {
    "duration": 106,
    "start_time": "2023-03-24T04:56:35.897Z"
   },
   {
    "duration": 14,
    "start_time": "2023-03-24T04:56:36.006Z"
   },
   {
    "duration": 326,
    "start_time": "2023-03-24T04:56:36.022Z"
   },
   {
    "duration": 4,
    "start_time": "2023-03-24T04:56:36.353Z"
   },
   {
    "duration": 97,
    "start_time": "2023-03-24T04:56:36.359Z"
   },
   {
    "duration": 3,
    "start_time": "2023-03-24T04:56:36.458Z"
   },
   {
    "duration": 17,
    "start_time": "2023-03-24T04:56:36.462Z"
   },
   {
    "duration": 42,
    "start_time": "2023-03-24T04:56:36.481Z"
   },
   {
    "duration": 38,
    "start_time": "2023-03-24T04:56:36.525Z"
   },
   {
    "duration": 94,
    "start_time": "2023-03-24T04:56:36.565Z"
   },
   {
    "duration": 4,
    "start_time": "2023-03-24T04:56:36.661Z"
   },
   {
    "duration": 93,
    "start_time": "2023-03-24T04:56:36.668Z"
   },
   {
    "duration": 97,
    "start_time": "2023-03-24T04:56:36.762Z"
   },
   {
    "duration": 4,
    "start_time": "2023-03-24T04:56:36.861Z"
   },
   {
    "duration": 101,
    "start_time": "2023-03-24T04:56:36.867Z"
   },
   {
    "duration": 104,
    "start_time": "2023-03-24T04:56:36.969Z"
   },
   {
    "duration": 105,
    "start_time": "2023-03-24T04:56:37.075Z"
   },
   {
    "duration": 113,
    "start_time": "2023-03-24T04:56:37.182Z"
   },
   {
    "duration": 133,
    "start_time": "2023-03-24T04:56:37.297Z"
   },
   {
    "duration": 163,
    "start_time": "2023-03-24T04:56:37.440Z"
   },
   {
    "duration": 4,
    "start_time": "2023-03-24T04:56:37.605Z"
   },
   {
    "duration": 15,
    "start_time": "2023-03-24T04:56:37.611Z"
   },
   {
    "duration": 62,
    "start_time": "2023-03-24T04:56:37.628Z"
   },
   {
    "duration": 119,
    "start_time": "2023-03-24T04:56:37.692Z"
   },
   {
    "duration": 4,
    "start_time": "2023-03-24T04:56:37.812Z"
   },
   {
    "duration": 38,
    "start_time": "2023-03-24T04:56:37.818Z"
   },
   {
    "duration": 177944,
    "start_time": "2023-03-24T04:56:37.857Z"
   },
   {
    "duration": 0,
    "start_time": "2023-03-24T04:59:35.803Z"
   },
   {
    "duration": 0,
    "start_time": "2023-03-24T04:59:35.806Z"
   },
   {
    "duration": 0,
    "start_time": "2023-03-24T04:59:35.807Z"
   },
   {
    "duration": 0,
    "start_time": "2023-03-24T04:59:35.808Z"
   },
   {
    "duration": 0,
    "start_time": "2023-03-24T04:59:35.809Z"
   },
   {
    "duration": 2157,
    "start_time": "2023-03-24T04:59:40.526Z"
   },
   {
    "duration": 1765,
    "start_time": "2023-03-24T04:59:42.685Z"
   },
   {
    "duration": 6802,
    "start_time": "2023-03-24T04:59:44.452Z"
   },
   {
    "duration": 3,
    "start_time": "2023-03-24T04:59:51.256Z"
   },
   {
    "duration": 378,
    "start_time": "2023-03-24T04:59:51.262Z"
   },
   {
    "duration": 302,
    "start_time": "2023-03-24T04:59:51.651Z"
   },
   {
    "duration": 656,
    "start_time": "2023-03-24T04:59:51.955Z"
   },
   {
    "duration": 9343,
    "start_time": "2023-03-24T04:59:52.613Z"
   },
   {
    "duration": 0,
    "start_time": "2023-03-24T05:00:01.960Z"
   },
   {
    "duration": 0,
    "start_time": "2023-03-24T05:00:01.961Z"
   },
   {
    "duration": 0,
    "start_time": "2023-03-24T05:00:01.962Z"
   },
   {
    "duration": 0,
    "start_time": "2023-03-24T05:00:01.963Z"
   },
   {
    "duration": 0,
    "start_time": "2023-03-24T05:00:01.964Z"
   },
   {
    "duration": 0,
    "start_time": "2023-03-24T05:00:01.965Z"
   },
   {
    "duration": 0,
    "start_time": "2023-03-24T05:00:01.966Z"
   },
   {
    "duration": 0,
    "start_time": "2023-03-24T05:00:01.967Z"
   },
   {
    "duration": 0,
    "start_time": "2023-03-24T05:00:01.967Z"
   },
   {
    "duration": 0,
    "start_time": "2023-03-24T05:00:01.968Z"
   },
   {
    "duration": 0,
    "start_time": "2023-03-24T05:00:01.970Z"
   },
   {
    "duration": 0,
    "start_time": "2023-03-24T05:00:01.970Z"
   },
   {
    "duration": 0,
    "start_time": "2023-03-24T05:00:01.972Z"
   },
   {
    "duration": 0,
    "start_time": "2023-03-24T05:00:01.973Z"
   },
   {
    "duration": 0,
    "start_time": "2023-03-24T05:00:01.975Z"
   },
   {
    "duration": 0,
    "start_time": "2023-03-24T05:00:01.976Z"
   },
   {
    "duration": 0,
    "start_time": "2023-03-24T05:00:01.977Z"
   },
   {
    "duration": 0,
    "start_time": "2023-03-24T05:00:01.979Z"
   },
   {
    "duration": 0,
    "start_time": "2023-03-24T05:00:01.980Z"
   },
   {
    "duration": 0,
    "start_time": "2023-03-24T05:00:01.982Z"
   },
   {
    "duration": 0,
    "start_time": "2023-03-24T05:00:01.983Z"
   },
   {
    "duration": 0,
    "start_time": "2023-03-24T05:00:01.984Z"
   },
   {
    "duration": 0,
    "start_time": "2023-03-24T05:00:01.985Z"
   },
   {
    "duration": 0,
    "start_time": "2023-03-24T05:00:01.987Z"
   },
   {
    "duration": 0,
    "start_time": "2023-03-24T05:00:01.988Z"
   },
   {
    "duration": 0,
    "start_time": "2023-03-24T05:00:01.989Z"
   },
   {
    "duration": 0,
    "start_time": "2023-03-24T05:00:01.990Z"
   },
   {
    "duration": 0,
    "start_time": "2023-03-24T05:00:01.992Z"
   },
   {
    "duration": 0,
    "start_time": "2023-03-24T05:00:01.993Z"
   },
   {
    "duration": 0,
    "start_time": "2023-03-24T05:00:02.044Z"
   },
   {
    "duration": 0,
    "start_time": "2023-03-24T05:00:02.044Z"
   },
   {
    "duration": 0,
    "start_time": "2023-03-24T05:00:02.045Z"
   },
   {
    "duration": 0,
    "start_time": "2023-03-24T05:00:02.046Z"
   },
   {
    "duration": 0,
    "start_time": "2023-03-24T05:00:02.047Z"
   },
   {
    "duration": 0,
    "start_time": "2023-03-24T05:00:02.048Z"
   },
   {
    "duration": 0,
    "start_time": "2023-03-24T05:00:02.049Z"
   },
   {
    "duration": 0,
    "start_time": "2023-03-24T05:00:02.050Z"
   },
   {
    "duration": 0,
    "start_time": "2023-03-24T05:00:02.051Z"
   },
   {
    "duration": 0,
    "start_time": "2023-03-24T05:00:02.052Z"
   },
   {
    "duration": 0,
    "start_time": "2023-03-24T05:00:02.055Z"
   },
   {
    "duration": 0,
    "start_time": "2023-03-24T05:00:02.056Z"
   },
   {
    "duration": 0,
    "start_time": "2023-03-24T05:00:02.057Z"
   },
   {
    "duration": 0,
    "start_time": "2023-03-24T05:00:02.058Z"
   },
   {
    "duration": 0,
    "start_time": "2023-03-24T05:00:02.059Z"
   },
   {
    "duration": 0,
    "start_time": "2023-03-24T05:00:02.061Z"
   },
   {
    "duration": 2300,
    "start_time": "2023-03-24T05:00:45.256Z"
   },
   {
    "duration": 1802,
    "start_time": "2023-03-24T05:00:47.559Z"
   },
   {
    "duration": 6712,
    "start_time": "2023-03-24T05:00:49.363Z"
   },
   {
    "duration": 3,
    "start_time": "2023-03-24T05:00:56.077Z"
   },
   {
    "duration": 395,
    "start_time": "2023-03-24T05:00:56.082Z"
   },
   {
    "duration": 299,
    "start_time": "2023-03-24T05:00:56.478Z"
   },
   {
    "duration": 687,
    "start_time": "2023-03-24T05:00:56.779Z"
   },
   {
    "duration": 10169,
    "start_time": "2023-03-24T05:00:57.468Z"
   },
   {
    "duration": 15,
    "start_time": "2023-03-24T05:01:07.641Z"
   },
   {
    "duration": 241,
    "start_time": "2023-03-24T05:01:07.659Z"
   },
   {
    "duration": 150,
    "start_time": "2023-03-24T05:01:07.902Z"
   },
   {
    "duration": 162,
    "start_time": "2023-03-24T05:01:08.054Z"
   },
   {
    "duration": 41,
    "start_time": "2023-03-24T05:01:08.218Z"
   },
   {
    "duration": 261,
    "start_time": "2023-03-24T05:01:08.263Z"
   },
   {
    "duration": 5,
    "start_time": "2023-03-24T05:01:08.526Z"
   },
   {
    "duration": 183,
    "start_time": "2023-03-24T05:01:08.533Z"
   },
   {
    "duration": 11,
    "start_time": "2023-03-24T05:01:08.718Z"
   },
   {
    "duration": 8,
    "start_time": "2023-03-24T05:01:08.755Z"
   },
   {
    "duration": 7,
    "start_time": "2023-03-24T05:01:08.765Z"
   },
   {
    "duration": 91,
    "start_time": "2023-03-24T05:01:08.774Z"
   },
   {
    "duration": 16,
    "start_time": "2023-03-24T05:01:08.867Z"
   },
   {
    "duration": 107,
    "start_time": "2023-03-24T05:01:08.885Z"
   },
   {
    "duration": 13,
    "start_time": "2023-03-24T05:01:08.994Z"
   },
   {
    "duration": 367,
    "start_time": "2023-03-24T05:01:09.008Z"
   },
   {
    "duration": 5,
    "start_time": "2023-03-24T05:01:09.377Z"
   },
   {
    "duration": 109,
    "start_time": "2023-03-24T05:01:09.384Z"
   },
   {
    "duration": 4,
    "start_time": "2023-03-24T05:01:09.495Z"
   },
   {
    "duration": 30,
    "start_time": "2023-03-24T05:01:09.501Z"
   },
   {
    "duration": 84,
    "start_time": "2023-03-24T05:01:09.533Z"
   },
   {
    "duration": 17,
    "start_time": "2023-03-24T05:01:09.619Z"
   },
   {
    "duration": 115,
    "start_time": "2023-03-24T05:01:09.638Z"
   },
   {
    "duration": 4,
    "start_time": "2023-03-24T05:01:09.760Z"
   },
   {
    "duration": 95,
    "start_time": "2023-03-24T05:01:09.767Z"
   },
   {
    "duration": 110,
    "start_time": "2023-03-24T05:01:09.864Z"
   },
   {
    "duration": 5,
    "start_time": "2023-03-24T05:01:09.976Z"
   },
   {
    "duration": 124,
    "start_time": "2023-03-24T05:01:09.983Z"
   },
   {
    "duration": 120,
    "start_time": "2023-03-24T05:01:10.109Z"
   },
   {
    "duration": 128,
    "start_time": "2023-03-24T05:01:10.231Z"
   },
   {
    "duration": 116,
    "start_time": "2023-03-24T05:01:10.361Z"
   },
   {
    "duration": 201,
    "start_time": "2023-03-24T05:01:10.479Z"
   },
   {
    "duration": 179,
    "start_time": "2023-03-24T05:01:10.686Z"
   },
   {
    "duration": 5,
    "start_time": "2023-03-24T05:01:10.867Z"
   },
   {
    "duration": 33,
    "start_time": "2023-03-24T05:01:10.874Z"
   },
   {
    "duration": 61,
    "start_time": "2023-03-24T05:01:10.910Z"
   },
   {
    "duration": 134,
    "start_time": "2023-03-24T05:01:10.974Z"
   },
   {
    "duration": 4,
    "start_time": "2023-03-24T05:01:11.110Z"
   },
   {
    "duration": 39,
    "start_time": "2023-03-24T05:01:11.116Z"
   },
   {
    "duration": 6423916,
    "start_time": "2023-03-24T05:01:11.157Z"
   },
   {
    "duration": 28,
    "start_time": "2023-03-24T06:48:15.162Z"
   },
   {
    "duration": 1351162,
    "start_time": "2023-03-24T06:48:15.192Z"
   },
   {
    "duration": 13,
    "start_time": "2023-03-24T07:10:46.356Z"
   },
   {
    "duration": 444,
    "start_time": "2023-03-24T07:10:46.372Z"
   },
   {
    "duration": 12163830,
    "start_time": "2023-03-24T07:10:46.818Z"
   },
   {
    "duration": 147,
    "start_time": "2023-03-24T15:46:06.837Z"
   },
   {
    "duration": 2913,
    "start_time": "2023-03-25T07:21:07.674Z"
   },
   {
    "duration": 2047,
    "start_time": "2023-03-25T07:21:10.589Z"
   },
   {
    "duration": 8008,
    "start_time": "2023-03-25T07:21:12.638Z"
   },
   {
    "duration": 4,
    "start_time": "2023-03-25T07:21:20.647Z"
   },
   {
    "duration": 58,
    "start_time": "2023-03-25T07:21:20.654Z"
   },
   {
    "duration": 268,
    "start_time": "2023-03-25T07:21:20.714Z"
   },
   {
    "duration": 641,
    "start_time": "2023-03-25T07:21:20.984Z"
   },
   {
    "duration": 8010,
    "start_time": "2023-03-25T07:21:21.627Z"
   },
   {
    "duration": 4,
    "start_time": "2023-03-25T07:21:29.639Z"
   },
   {
    "duration": 194,
    "start_time": "2023-03-25T07:21:29.645Z"
   },
   {
    "duration": 85,
    "start_time": "2023-03-25T07:21:29.841Z"
   },
   {
    "duration": 130,
    "start_time": "2023-03-25T07:21:29.928Z"
   },
   {
    "duration": 21,
    "start_time": "2023-03-25T07:21:30.060Z"
   },
   {
    "duration": 218,
    "start_time": "2023-03-25T07:21:30.086Z"
   },
   {
    "duration": 4,
    "start_time": "2023-03-25T07:21:30.306Z"
   },
   {
    "duration": 154,
    "start_time": "2023-03-25T07:21:30.312Z"
   },
   {
    "duration": 37,
    "start_time": "2023-03-25T07:21:30.468Z"
   },
   {
    "duration": 30,
    "start_time": "2023-03-25T07:21:30.507Z"
   },
   {
    "duration": 54,
    "start_time": "2023-03-25T07:21:30.539Z"
   },
   {
    "duration": 119,
    "start_time": "2023-03-25T07:21:30.595Z"
   },
   {
    "duration": 12,
    "start_time": "2023-03-25T07:21:30.716Z"
   },
   {
    "duration": 88,
    "start_time": "2023-03-25T07:21:30.730Z"
   },
   {
    "duration": 12,
    "start_time": "2023-03-25T07:21:30.819Z"
   },
   {
    "duration": 247,
    "start_time": "2023-03-25T07:21:30.832Z"
   },
   {
    "duration": 5,
    "start_time": "2023-03-25T07:21:31.082Z"
   },
   {
    "duration": 103,
    "start_time": "2023-03-25T07:21:31.089Z"
   },
   {
    "duration": 3,
    "start_time": "2023-03-25T07:21:31.194Z"
   },
   {
    "duration": 22,
    "start_time": "2023-03-25T07:21:31.204Z"
   },
   {
    "duration": 57,
    "start_time": "2023-03-25T07:21:31.228Z"
   },
   {
    "duration": 21,
    "start_time": "2023-03-25T07:21:31.287Z"
   },
   {
    "duration": 88,
    "start_time": "2023-03-25T07:21:31.310Z"
   },
   {
    "duration": 3,
    "start_time": "2023-03-25T07:21:31.400Z"
   },
   {
    "duration": 79,
    "start_time": "2023-03-25T07:21:31.405Z"
   },
   {
    "duration": 77,
    "start_time": "2023-03-25T07:21:31.485Z"
   },
   {
    "duration": 6,
    "start_time": "2023-03-25T07:21:31.564Z"
   },
   {
    "duration": 86,
    "start_time": "2023-03-25T07:21:31.572Z"
   },
   {
    "duration": 91,
    "start_time": "2023-03-25T07:21:31.660Z"
   },
   {
    "duration": 111,
    "start_time": "2023-03-25T07:21:31.753Z"
   },
   {
    "duration": 113,
    "start_time": "2023-03-25T07:21:31.867Z"
   },
   {
    "duration": 184,
    "start_time": "2023-03-25T07:21:31.983Z"
   },
   {
    "duration": 169,
    "start_time": "2023-03-25T07:21:32.171Z"
   },
   {
    "duration": 4,
    "start_time": "2023-03-25T07:21:32.342Z"
   },
   {
    "duration": 8,
    "start_time": "2023-03-25T07:21:32.348Z"
   },
   {
    "duration": 47,
    "start_time": "2023-03-25T07:21:32.358Z"
   },
   {
    "duration": 109,
    "start_time": "2023-03-25T07:21:32.407Z"
   },
   {
    "duration": 5,
    "start_time": "2023-03-25T07:21:32.518Z"
   },
   {
    "duration": 28,
    "start_time": "2023-03-25T07:21:32.525Z"
   },
   {
    "duration": 5844770,
    "start_time": "2023-03-25T07:21:32.555Z"
   },
   {
    "duration": 83,
    "start_time": "2023-03-25T08:58:57.330Z"
   },
   {
    "duration": 993834,
    "start_time": "2023-03-25T08:58:57.415Z"
   },
   {
    "duration": 7,
    "start_time": "2023-03-25T09:15:31.251Z"
   },
   {
    "duration": 346,
    "start_time": "2023-03-25T09:15:31.260Z"
   },
   {
    "duration": 11656993,
    "start_time": "2023-03-25T09:15:31.614Z"
   },
   {
    "duration": 150,
    "start_time": "2023-03-25T12:29:48.612Z"
   },
   {
    "duration": 82,
    "start_time": "2023-03-25T12:35:24.754Z"
   },
   {
    "duration": 87,
    "start_time": "2023-03-25T12:35:49.847Z"
   },
   {
    "duration": 3843,
    "start_time": "2023-03-25T23:03:05.306Z"
   },
   {
    "duration": 2284,
    "start_time": "2023-03-25T23:03:09.152Z"
   },
   {
    "duration": 6564,
    "start_time": "2023-03-25T23:03:11.439Z"
   },
   {
    "duration": 8,
    "start_time": "2023-03-25T23:03:18.006Z"
   },
   {
    "duration": 369,
    "start_time": "2023-03-25T23:03:18.017Z"
   },
   {
    "duration": 306,
    "start_time": "2023-03-25T23:03:18.390Z"
   },
   {
    "duration": 761,
    "start_time": "2023-03-25T23:03:18.701Z"
   },
   {
    "duration": 10320,
    "start_time": "2023-03-25T23:03:19.464Z"
   },
   {
    "duration": 15,
    "start_time": "2023-03-25T23:03:29.786Z"
   },
   {
    "duration": 244,
    "start_time": "2023-03-25T23:03:29.809Z"
   },
   {
    "duration": 136,
    "start_time": "2023-03-25T23:03:30.055Z"
   },
   {
    "duration": 170,
    "start_time": "2023-03-25T23:03:30.192Z"
   },
   {
    "duration": 47,
    "start_time": "2023-03-25T23:03:30.365Z"
   },
   {
    "duration": 305,
    "start_time": "2023-03-25T23:03:30.417Z"
   },
   {
    "duration": 5,
    "start_time": "2023-03-25T23:03:30.724Z"
   },
   {
    "duration": 212,
    "start_time": "2023-03-25T23:03:30.732Z"
   },
   {
    "duration": 31,
    "start_time": "2023-03-25T23:03:30.948Z"
   },
   {
    "duration": 37,
    "start_time": "2023-03-25T23:03:30.981Z"
   },
   {
    "duration": 71,
    "start_time": "2023-03-25T23:03:31.020Z"
   },
   {
    "duration": 200,
    "start_time": "2023-03-25T23:03:31.099Z"
   },
   {
    "duration": 17,
    "start_time": "2023-03-25T23:03:31.306Z"
   },
   {
    "duration": 115,
    "start_time": "2023-03-25T23:03:31.325Z"
   },
   {
    "duration": 16,
    "start_time": "2023-03-25T23:03:31.443Z"
   },
   {
    "duration": 310,
    "start_time": "2023-03-25T23:03:31.462Z"
   },
   {
    "duration": 11,
    "start_time": "2023-03-25T23:03:31.774Z"
   },
   {
    "duration": 105,
    "start_time": "2023-03-25T23:03:31.790Z"
   },
   {
    "duration": 11,
    "start_time": "2023-03-25T23:03:31.901Z"
   },
   {
    "duration": 26,
    "start_time": "2023-03-25T23:03:31.916Z"
   },
   {
    "duration": 56,
    "start_time": "2023-03-25T23:03:31.944Z"
   },
   {
    "duration": 30,
    "start_time": "2023-03-25T23:03:32.004Z"
   },
   {
    "duration": 85,
    "start_time": "2023-03-25T23:03:32.036Z"
   },
   {
    "duration": 4,
    "start_time": "2023-03-25T23:03:32.123Z"
   },
   {
    "duration": 87,
    "start_time": "2023-03-25T23:03:32.129Z"
   },
   {
    "duration": 96,
    "start_time": "2023-03-25T23:03:32.218Z"
   },
   {
    "duration": 7,
    "start_time": "2023-03-25T23:03:32.316Z"
   },
   {
    "duration": 135,
    "start_time": "2023-03-25T23:03:32.325Z"
   },
   {
    "duration": 117,
    "start_time": "2023-03-25T23:03:32.462Z"
   },
   {
    "duration": 120,
    "start_time": "2023-03-25T23:03:32.590Z"
   },
   {
    "duration": 111,
    "start_time": "2023-03-25T23:03:32.713Z"
   },
   {
    "duration": 174,
    "start_time": "2023-03-25T23:03:32.828Z"
   },
   {
    "duration": 173,
    "start_time": "2023-03-25T23:03:33.013Z"
   },
   {
    "duration": 25,
    "start_time": "2023-03-25T23:03:33.193Z"
   },
   {
    "duration": 30,
    "start_time": "2023-03-25T23:03:33.220Z"
   },
   {
    "duration": 62,
    "start_time": "2023-03-25T23:03:33.252Z"
   },
   {
    "duration": 124,
    "start_time": "2023-03-25T23:03:33.316Z"
   },
   {
    "duration": 6,
    "start_time": "2023-03-25T23:03:33.442Z"
   },
   {
    "duration": 25,
    "start_time": "2023-03-25T23:03:33.450Z"
   },
   {
    "duration": 3129,
    "start_time": "2023-03-26T03:13:05.899Z"
   },
   {
    "duration": 2303,
    "start_time": "2023-03-26T03:13:09.031Z"
   },
   {
    "duration": 6221,
    "start_time": "2023-03-26T03:13:11.336Z"
   },
   {
    "duration": 4,
    "start_time": "2023-03-26T03:13:17.560Z"
   },
   {
    "duration": 402,
    "start_time": "2023-03-26T03:13:17.568Z"
   },
   {
    "duration": 322,
    "start_time": "2023-03-26T03:13:17.974Z"
   },
   {
    "duration": 921,
    "start_time": "2023-03-26T03:13:18.299Z"
   },
   {
    "duration": 10829,
    "start_time": "2023-03-26T03:13:19.225Z"
   },
   {
    "duration": 6,
    "start_time": "2023-03-26T03:13:30.057Z"
   },
   {
    "duration": 305,
    "start_time": "2023-03-26T03:13:30.067Z"
   },
   {
    "duration": 176,
    "start_time": "2023-03-26T03:13:30.378Z"
   },
   {
    "duration": 194,
    "start_time": "2023-03-26T03:13:30.556Z"
   },
   {
    "duration": 32,
    "start_time": "2023-03-26T03:13:30.753Z"
   },
   {
    "duration": 356,
    "start_time": "2023-03-26T03:13:30.791Z"
   },
   {
    "duration": 5,
    "start_time": "2023-03-26T03:13:31.151Z"
   },
   {
    "duration": 223,
    "start_time": "2023-03-26T03:13:31.162Z"
   },
   {
    "duration": 11,
    "start_time": "2023-03-26T03:13:31.388Z"
   },
   {
    "duration": 65,
    "start_time": "2023-03-26T03:13:31.402Z"
   },
   {
    "duration": 45,
    "start_time": "2023-03-26T03:13:31.470Z"
   },
   {
    "duration": 121,
    "start_time": "2023-03-26T03:13:31.517Z"
   },
   {
    "duration": 18,
    "start_time": "2023-03-26T03:13:31.640Z"
   },
   {
    "duration": 91,
    "start_time": "2023-03-26T03:13:31.664Z"
   },
   {
    "duration": 15,
    "start_time": "2023-03-26T03:13:31.758Z"
   },
   {
    "duration": 419,
    "start_time": "2023-03-26T03:13:31.776Z"
   },
   {
    "duration": 13,
    "start_time": "2023-03-26T03:13:32.197Z"
   },
   {
    "duration": 118,
    "start_time": "2023-03-26T03:13:32.213Z"
   },
   {
    "duration": 7,
    "start_time": "2023-03-26T03:13:32.339Z"
   },
   {
    "duration": 21,
    "start_time": "2023-03-26T03:13:32.350Z"
   },
   {
    "duration": 74,
    "start_time": "2023-03-26T03:13:32.373Z"
   },
   {
    "duration": 28,
    "start_time": "2023-03-26T03:13:32.449Z"
   },
   {
    "duration": 130,
    "start_time": "2023-03-26T03:13:32.479Z"
   },
   {
    "duration": 8,
    "start_time": "2023-03-26T03:13:32.611Z"
   },
   {
    "duration": 90,
    "start_time": "2023-03-26T03:13:32.622Z"
   },
   {
    "duration": 126,
    "start_time": "2023-03-26T03:13:32.714Z"
   },
   {
    "duration": 6,
    "start_time": "2023-03-26T03:13:32.855Z"
   },
   {
    "duration": 130,
    "start_time": "2023-03-26T03:13:32.863Z"
   },
   {
    "duration": 127,
    "start_time": "2023-03-26T03:13:32.998Z"
   },
   {
    "duration": 141,
    "start_time": "2023-03-26T03:13:33.128Z"
   },
   {
    "duration": 137,
    "start_time": "2023-03-26T03:13:33.272Z"
   },
   {
    "duration": 243,
    "start_time": "2023-03-26T03:13:33.411Z"
   },
   {
    "duration": 268,
    "start_time": "2023-03-26T03:13:33.661Z"
   },
   {
    "duration": 5,
    "start_time": "2023-03-26T03:13:33.935Z"
   },
   {
    "duration": 41,
    "start_time": "2023-03-26T03:13:33.942Z"
   },
   {
    "duration": 128,
    "start_time": "2023-03-26T03:13:33.985Z"
   },
   {
    "duration": 192,
    "start_time": "2023-03-26T03:13:34.116Z"
   },
   {
    "duration": 18,
    "start_time": "2023-03-26T03:13:34.321Z"
   },
   {
    "duration": 40,
    "start_time": "2023-03-26T03:13:34.343Z"
   },
   {
    "duration": 6271003,
    "start_time": "2023-03-26T03:13:34.386Z"
   },
   {
    "duration": 28,
    "start_time": "2023-03-26T04:58:05.398Z"
   },
   {
    "duration": 1201768,
    "start_time": "2023-03-26T04:58:05.428Z"
   },
   {
    "duration": 9,
    "start_time": "2023-03-26T05:18:07.199Z"
   },
   {
    "duration": 465,
    "start_time": "2023-03-26T05:18:07.216Z"
   },
   {
    "duration": 12810709,
    "start_time": "2023-03-26T05:18:07.683Z"
   },
   {
    "duration": 71,
    "start_time": "2023-03-26T08:55:05.672Z"
   },
   {
    "duration": 67,
    "start_time": "2023-03-26T08:55:10.991Z"
   },
   {
    "duration": 3489,
    "start_time": "2023-03-26T12:45:46.511Z"
   },
   {
    "duration": 29,
    "start_time": "2023-03-26T12:45:50.004Z"
   },
   {
    "duration": 32,
    "start_time": "2023-03-26T12:45:50.039Z"
   },
   {
    "duration": 8,
    "start_time": "2023-03-26T12:45:50.073Z"
   },
   {
    "duration": 600,
    "start_time": "2023-03-26T12:45:50.083Z"
   },
   {
    "duration": 377,
    "start_time": "2023-03-26T12:45:50.686Z"
   },
   {
    "duration": 859,
    "start_time": "2023-03-26T12:45:51.067Z"
   },
   {
    "duration": 9188,
    "start_time": "2023-03-26T12:45:51.932Z"
   },
   {
    "duration": 10,
    "start_time": "2023-03-26T12:46:01.127Z"
   },
   {
    "duration": 415,
    "start_time": "2023-03-26T12:46:01.140Z"
   },
   {
    "duration": 173,
    "start_time": "2023-03-26T12:46:01.558Z"
   },
   {
    "duration": 163,
    "start_time": "2023-03-26T12:46:01.733Z"
   },
   {
    "duration": 25,
    "start_time": "2023-03-26T12:46:01.898Z"
   },
   {
    "duration": 262,
    "start_time": "2023-03-26T12:46:01.924Z"
   },
   {
    "duration": 17,
    "start_time": "2023-03-26T12:46:02.193Z"
   },
   {
    "duration": 190,
    "start_time": "2023-03-26T12:46:02.219Z"
   },
   {
    "duration": 22,
    "start_time": "2023-03-26T12:46:02.421Z"
   },
   {
    "duration": 6,
    "start_time": "2023-03-26T12:46:02.446Z"
   },
   {
    "duration": 11,
    "start_time": "2023-03-26T12:46:02.456Z"
   },
   {
    "duration": 94,
    "start_time": "2023-03-26T12:46:02.470Z"
   },
   {
    "duration": 29,
    "start_time": "2023-03-26T12:46:02.566Z"
   },
   {
    "duration": 81,
    "start_time": "2023-03-26T12:46:02.597Z"
   },
   {
    "duration": 39,
    "start_time": "2023-03-26T12:46:02.680Z"
   },
   {
    "duration": 356,
    "start_time": "2023-03-26T12:46:02.721Z"
   },
   {
    "duration": 20,
    "start_time": "2023-03-26T12:46:03.079Z"
   },
   {
    "duration": 165,
    "start_time": "2023-03-26T12:46:03.105Z"
   },
   {
    "duration": 3,
    "start_time": "2023-03-26T12:46:03.272Z"
   },
   {
    "duration": 23,
    "start_time": "2023-03-26T12:46:03.277Z"
   },
   {
    "duration": 69,
    "start_time": "2023-03-26T12:46:03.303Z"
   },
   {
    "duration": 42,
    "start_time": "2023-03-26T12:46:03.375Z"
   },
   {
    "duration": 131,
    "start_time": "2023-03-26T12:46:03.425Z"
   },
   {
    "duration": 4,
    "start_time": "2023-03-26T12:46:03.559Z"
   },
   {
    "duration": 83,
    "start_time": "2023-03-26T12:46:03.564Z"
   },
   {
    "duration": 122,
    "start_time": "2023-03-26T12:46:03.649Z"
   },
   {
    "duration": 5,
    "start_time": "2023-03-26T12:46:03.775Z"
   },
   {
    "duration": 163,
    "start_time": "2023-03-26T12:46:03.792Z"
   },
   {
    "duration": 136,
    "start_time": "2023-03-26T12:46:04.265Z"
   },
   {
    "duration": 126,
    "start_time": "2023-03-26T12:46:06.859Z"
   },
   {
    "duration": 145,
    "start_time": "2023-03-26T12:46:09.278Z"
   },
   {
    "duration": 191,
    "start_time": "2023-03-26T12:46:09.925Z"
   },
   {
    "duration": 276,
    "start_time": "2023-03-26T12:46:10.231Z"
   },
   {
    "duration": 3368,
    "start_time": "2023-03-26T12:46:28.975Z"
   },
   {
    "duration": 2117,
    "start_time": "2023-03-26T12:46:32.347Z"
   },
   {
    "duration": 10015,
    "start_time": "2023-03-26T12:46:34.466Z"
   },
   {
    "duration": 5,
    "start_time": "2023-03-26T12:46:44.484Z"
   },
   {
    "duration": 563,
    "start_time": "2023-03-26T12:46:44.491Z"
   },
   {
    "duration": 307,
    "start_time": "2023-03-26T12:46:45.056Z"
   },
   {
    "duration": 1614,
    "start_time": "2023-03-26T12:46:45.365Z"
   },
   {
    "duration": 9298,
    "start_time": "2023-03-26T12:46:46.981Z"
   },
   {
    "duration": 5,
    "start_time": "2023-03-26T12:46:56.280Z"
   },
   {
    "duration": 318,
    "start_time": "2023-03-26T12:46:56.290Z"
   },
   {
    "duration": 141,
    "start_time": "2023-03-26T12:46:56.612Z"
   },
   {
    "duration": 171,
    "start_time": "2023-03-26T12:46:56.755Z"
   },
   {
    "duration": 44,
    "start_time": "2023-03-26T12:46:56.928Z"
   },
   {
    "duration": 296,
    "start_time": "2023-03-26T12:46:56.975Z"
   },
   {
    "duration": 5,
    "start_time": "2023-03-26T12:46:57.273Z"
   },
   {
    "duration": 243,
    "start_time": "2023-03-26T12:46:57.280Z"
   },
   {
    "duration": 8,
    "start_time": "2023-03-26T12:46:57.526Z"
   },
   {
    "duration": 41,
    "start_time": "2023-03-26T12:46:57.538Z"
   },
   {
    "duration": 56,
    "start_time": "2023-03-26T12:46:57.582Z"
   },
   {
    "duration": 182,
    "start_time": "2023-03-26T12:46:57.640Z"
   },
   {
    "duration": 28,
    "start_time": "2023-03-26T12:46:57.824Z"
   },
   {
    "duration": 125,
    "start_time": "2023-03-26T12:46:57.862Z"
   },
   {
    "duration": 16,
    "start_time": "2023-03-26T12:46:57.990Z"
   },
   {
    "duration": 397,
    "start_time": "2023-03-26T12:46:58.009Z"
   },
   {
    "duration": 13,
    "start_time": "2023-03-26T12:46:58.408Z"
   },
   {
    "duration": 123,
    "start_time": "2023-03-26T12:46:58.423Z"
   },
   {
    "duration": 4,
    "start_time": "2023-03-26T12:46:58.549Z"
   },
   {
    "duration": 22,
    "start_time": "2023-03-26T12:46:58.556Z"
   },
   {
    "duration": 132,
    "start_time": "2023-03-26T12:46:58.580Z"
   },
   {
    "duration": 34,
    "start_time": "2023-03-26T12:46:58.718Z"
   },
   {
    "duration": 104,
    "start_time": "2023-03-26T12:46:58.755Z"
   },
   {
    "duration": 5,
    "start_time": "2023-03-26T12:46:58.862Z"
   },
   {
    "duration": 91,
    "start_time": "2023-03-26T12:46:58.870Z"
   },
   {
    "duration": 115,
    "start_time": "2023-03-26T12:46:58.963Z"
   },
   {
    "duration": 26,
    "start_time": "2023-03-26T12:46:59.080Z"
   },
   {
    "duration": 149,
    "start_time": "2023-03-26T12:46:59.108Z"
   },
   {
    "duration": 116,
    "start_time": "2023-03-26T12:46:59.259Z"
   },
   {
    "duration": 154,
    "start_time": "2023-03-26T12:46:59.376Z"
   },
   {
    "duration": 126,
    "start_time": "2023-03-26T12:46:59.536Z"
   },
   {
    "duration": 544,
    "start_time": "2023-03-26T12:46:59.664Z"
   },
   {
    "duration": 466,
    "start_time": "2023-03-26T12:47:00.211Z"
   },
   {
    "duration": 5,
    "start_time": "2023-03-26T12:47:05.628Z"
   },
   {
    "duration": 11,
    "start_time": "2023-03-26T12:47:05.893Z"
   },
   {
    "duration": 58,
    "start_time": "2023-03-26T12:47:06.145Z"
   },
   {
    "duration": 146,
    "start_time": "2023-03-26T12:47:06.414Z"
   },
   {
    "duration": 7,
    "start_time": "2023-03-26T12:47:06.675Z"
   },
   {
    "duration": 24,
    "start_time": "2023-03-26T12:47:07.248Z"
   },
   {
    "duration": 23,
    "start_time": "2023-03-26T12:47:26.027Z"
   },
   {
    "duration": 1296749,
    "start_time": "2023-03-26T12:47:27.088Z"
   },
   {
    "duration": 46,
    "start_time": "2023-03-26T14:04:30.075Z"
   },
   {
    "duration": 40,
    "start_time": "2023-03-26T14:04:47.720Z"
   },
   {
    "duration": 7409,
    "start_time": "2023-03-26T14:05:10.385Z"
   },
   {
    "duration": 3298355,
    "start_time": "2023-03-26T14:05:57.880Z"
   },
   {
    "duration": 6002,
    "start_time": "2023-03-26T15:00:56.247Z"
   },
   {
    "duration": 19,
    "start_time": "2023-03-26T15:27:07.018Z"
   },
   {
    "duration": 9,
    "start_time": "2023-03-26T15:27:22.027Z"
   },
   {
    "duration": 37,
    "start_time": "2023-03-26T15:27:30.793Z"
   },
   {
    "duration": 6,
    "start_time": "2023-03-26T15:27:39.349Z"
   },
   {
    "duration": 8,
    "start_time": "2023-03-26T15:28:18.377Z"
   },
   {
    "duration": 15,
    "start_time": "2023-03-26T15:29:53.603Z"
   },
   {
    "duration": 2497,
    "start_time": "2023-03-26T15:30:21.018Z"
   },
   {
    "duration": 14,
    "start_time": "2023-03-26T15:30:23.527Z"
   },
   {
    "duration": 11,
    "start_time": "2023-03-26T15:31:40.115Z"
   },
   {
    "duration": 21,
    "start_time": "2023-03-26T15:31:47.980Z"
   },
   {
    "duration": 39,
    "start_time": "2023-03-26T15:31:59.413Z"
   },
   {
    "duration": 94,
    "start_time": "2023-03-26T15:32:43.536Z"
   },
   {
    "duration": 27,
    "start_time": "2023-03-26T15:44:56.006Z"
   },
   {
    "duration": 6,
    "start_time": "2023-03-26T15:46:03.754Z"
   },
   {
    "duration": 16,
    "start_time": "2023-03-26T15:46:32.376Z"
   },
   {
    "duration": 32,
    "start_time": "2023-03-26T15:47:14.668Z"
   },
   {
    "duration": 22,
    "start_time": "2023-03-26T15:48:08.426Z"
   },
   {
    "duration": 41,
    "start_time": "2023-03-26T15:48:14.491Z"
   },
   {
    "duration": 26,
    "start_time": "2023-03-26T15:48:24.745Z"
   },
   {
    "duration": 238,
    "start_time": "2023-03-26T15:48:29.956Z"
   },
   {
    "duration": 183,
    "start_time": "2023-03-26T15:48:40.838Z"
   },
   {
    "duration": 21,
    "start_time": "2023-03-26T15:50:08.719Z"
   },
   {
    "duration": 9,
    "start_time": "2023-03-26T15:52:47.483Z"
   },
   {
    "duration": 5,
    "start_time": "2023-03-26T15:52:47.837Z"
   },
   {
    "duration": 4,
    "start_time": "2023-03-26T15:52:48.834Z"
   },
   {
    "duration": 516,
    "start_time": "2023-03-26T15:52:49.231Z"
   },
   {
    "duration": 304,
    "start_time": "2023-03-26T15:52:50.252Z"
   },
   {
    "duration": 1663,
    "start_time": "2023-03-26T15:52:50.654Z"
   },
   {
    "duration": 8816,
    "start_time": "2023-03-26T15:53:04.873Z"
   },
   {
    "duration": 5,
    "start_time": "2023-03-26T15:53:13.692Z"
   },
   {
    "duration": 322,
    "start_time": "2023-03-26T15:53:13.699Z"
   },
   {
    "duration": 151,
    "start_time": "2023-03-26T15:53:14.024Z"
   },
   {
    "duration": 173,
    "start_time": "2023-03-26T15:53:14.178Z"
   },
   {
    "duration": 48,
    "start_time": "2023-03-26T15:53:14.353Z"
   },
   {
    "duration": 332,
    "start_time": "2023-03-26T15:53:14.406Z"
   },
   {
    "duration": 9,
    "start_time": "2023-03-26T15:53:14.743Z"
   },
   {
    "duration": 200,
    "start_time": "2023-03-26T15:53:14.757Z"
   },
   {
    "duration": 19,
    "start_time": "2023-03-26T15:53:14.961Z"
   },
   {
    "duration": 10,
    "start_time": "2023-03-26T15:53:15.404Z"
   },
   {
    "duration": 8,
    "start_time": "2023-03-26T15:53:16.136Z"
   },
   {
    "duration": 188,
    "start_time": "2023-03-26T15:53:17.814Z"
   },
   {
    "duration": 15,
    "start_time": "2023-03-26T15:53:20.419Z"
   },
   {
    "duration": 130,
    "start_time": "2023-03-26T15:53:22.719Z"
   },
   {
    "duration": 32,
    "start_time": "2023-03-26T15:53:22.984Z"
   },
   {
    "duration": 384,
    "start_time": "2023-03-26T15:53:23.586Z"
   },
   {
    "duration": 11,
    "start_time": "2023-03-26T15:53:34.114Z"
   },
   {
    "duration": 132,
    "start_time": "2023-03-26T15:53:34.275Z"
   },
   {
    "duration": 4,
    "start_time": "2023-03-26T15:53:34.442Z"
   },
   {
    "duration": 15,
    "start_time": "2023-03-26T15:53:34.657Z"
   },
   {
    "duration": 73,
    "start_time": "2023-03-26T15:53:35.006Z"
   },
   {
    "duration": 40,
    "start_time": "2023-03-26T15:53:35.182Z"
   },
   {
    "duration": 107,
    "start_time": "2023-03-26T15:53:35.833Z"
   },
   {
    "duration": 5,
    "start_time": "2023-03-26T15:53:36.379Z"
   },
   {
    "duration": 86,
    "start_time": "2023-03-26T15:53:36.872Z"
   },
   {
    "duration": 140,
    "start_time": "2023-03-26T15:53:38.114Z"
   },
   {
    "duration": 5,
    "start_time": "2023-03-26T15:53:39.454Z"
   },
   {
    "duration": 144,
    "start_time": "2023-03-26T15:53:39.883Z"
   },
   {
    "duration": 158,
    "start_time": "2023-03-26T15:53:42.760Z"
   },
   {
    "duration": 143,
    "start_time": "2023-03-26T15:53:44.670Z"
   },
   {
    "duration": 145,
    "start_time": "2023-03-26T15:53:48.422Z"
   },
   {
    "duration": 348,
    "start_time": "2023-03-26T15:53:51.282Z"
   },
   {
    "duration": 441,
    "start_time": "2023-03-26T15:53:52.051Z"
   },
   {
    "duration": 102,
    "start_time": "2023-03-26T15:55:06.533Z"
   },
   {
    "duration": 265,
    "start_time": "2023-03-26T15:55:25.570Z"
   },
   {
    "duration": 286,
    "start_time": "2023-03-26T15:55:52.506Z"
   },
   {
    "duration": 32,
    "start_time": "2023-03-26T15:56:53.745Z"
   },
   {
    "duration": 17,
    "start_time": "2023-03-26T15:57:31.557Z"
   },
   {
    "duration": 10,
    "start_time": "2023-03-26T15:57:41.635Z"
   },
   {
    "duration": 19,
    "start_time": "2023-03-26T15:59:25.562Z"
   },
   {
    "duration": 2673,
    "start_time": "2023-03-28T12:14:07.830Z"
   },
   {
    "duration": 1974,
    "start_time": "2023-03-28T12:14:10.505Z"
   },
   {
    "duration": 7141,
    "start_time": "2023-03-28T12:14:12.480Z"
   },
   {
    "duration": 4,
    "start_time": "2023-03-28T12:14:19.623Z"
   },
   {
    "duration": 338,
    "start_time": "2023-03-28T12:14:19.628Z"
   },
   {
    "duration": 315,
    "start_time": "2023-03-28T12:14:19.967Z"
   },
   {
    "duration": 1090,
    "start_time": "2023-03-28T12:14:20.284Z"
   },
   {
    "duration": 7854,
    "start_time": "2023-03-28T12:14:21.375Z"
   },
   {
    "duration": 3,
    "start_time": "2023-03-28T12:14:29.230Z"
   },
   {
    "duration": 169,
    "start_time": "2023-03-28T12:14:29.236Z"
   },
   {
    "duration": 73,
    "start_time": "2023-03-28T12:14:29.406Z"
   },
   {
    "duration": 96,
    "start_time": "2023-03-28T12:14:29.481Z"
   },
   {
    "duration": 14,
    "start_time": "2023-03-28T12:14:29.578Z"
   },
   {
    "duration": 156,
    "start_time": "2023-03-28T12:14:29.594Z"
   },
   {
    "duration": 3,
    "start_time": "2023-03-28T12:14:29.751Z"
   },
   {
    "duration": 119,
    "start_time": "2023-03-28T12:14:29.756Z"
   },
   {
    "duration": 4,
    "start_time": "2023-03-28T12:14:29.876Z"
   },
   {
    "duration": 5,
    "start_time": "2023-03-28T12:14:29.882Z"
   },
   {
    "duration": 8,
    "start_time": "2023-03-28T12:14:29.888Z"
   },
   {
    "duration": 98,
    "start_time": "2023-03-28T12:14:29.897Z"
   },
   {
    "duration": 10,
    "start_time": "2023-03-28T12:14:29.997Z"
   },
   {
    "duration": 57,
    "start_time": "2023-03-28T12:14:30.008Z"
   },
   {
    "duration": 10,
    "start_time": "2023-03-28T12:14:30.066Z"
   },
   {
    "duration": 184,
    "start_time": "2023-03-28T12:14:30.078Z"
   },
   {
    "duration": 4,
    "start_time": "2023-03-28T12:14:30.263Z"
   },
   {
    "duration": 85,
    "start_time": "2023-03-28T12:14:30.268Z"
   },
   {
    "duration": 2,
    "start_time": "2023-03-28T12:14:30.354Z"
   },
   {
    "duration": 33,
    "start_time": "2023-03-28T12:14:30.359Z"
   },
   {
    "duration": 54,
    "start_time": "2023-03-28T12:14:30.393Z"
   },
   {
    "duration": 28,
    "start_time": "2023-03-28T12:14:30.449Z"
   },
   {
    "duration": 89,
    "start_time": "2023-03-28T12:14:30.478Z"
   },
   {
    "duration": 3,
    "start_time": "2023-03-28T12:14:30.568Z"
   },
   {
    "duration": 77,
    "start_time": "2023-03-28T12:14:30.573Z"
   },
   {
    "duration": 84,
    "start_time": "2023-03-28T12:14:30.652Z"
   },
   {
    "duration": 3,
    "start_time": "2023-03-28T12:14:30.738Z"
   },
   {
    "duration": 105,
    "start_time": "2023-03-28T12:14:30.742Z"
   },
   {
    "duration": 61,
    "start_time": "2023-03-28T12:14:30.849Z"
   },
   {
    "duration": 70,
    "start_time": "2023-03-28T12:14:30.911Z"
   },
   {
    "duration": 72,
    "start_time": "2023-03-28T12:14:30.982Z"
   },
   {
    "duration": 292,
    "start_time": "2023-03-28T12:14:31.056Z"
   },
   {
    "duration": 227,
    "start_time": "2023-03-28T12:14:31.350Z"
   },
   {
    "duration": 3,
    "start_time": "2023-03-28T12:14:31.579Z"
   },
   {
    "duration": 21,
    "start_time": "2023-03-28T12:14:31.583Z"
   },
   {
    "duration": 48,
    "start_time": "2023-03-28T12:14:31.606Z"
   },
   {
    "duration": 64,
    "start_time": "2023-03-28T12:14:31.655Z"
   },
   {
    "duration": 4,
    "start_time": "2023-03-28T12:14:31.720Z"
   },
   {
    "duration": 30,
    "start_time": "2023-03-28T12:14:31.725Z"
   },
   {
    "duration": 3853194,
    "start_time": "2023-03-28T12:14:31.756Z"
   },
   {
    "duration": 106,
    "start_time": "2023-03-28T13:18:44.952Z"
   },
   {
    "duration": 705771,
    "start_time": "2023-03-28T13:18:45.060Z"
   },
   {
    "duration": 5,
    "start_time": "2023-03-28T13:30:30.832Z"
   },
   {
    "duration": 223,
    "start_time": "2023-03-28T13:30:30.838Z"
   },
   {
    "duration": 8655736,
    "start_time": "2023-03-28T13:30:31.063Z"
   },
   {
    "duration": 0,
    "start_time": "2023-03-28T15:54:46.801Z"
   },
   {
    "duration": 0,
    "start_time": "2023-03-28T15:54:46.802Z"
   },
   {
    "duration": 0,
    "start_time": "2023-03-28T15:54:46.803Z"
   },
   {
    "duration": 0,
    "start_time": "2023-03-28T15:54:46.804Z"
   },
   {
    "duration": 0,
    "start_time": "2023-03-28T15:54:46.805Z"
   },
   {
    "duration": 0,
    "start_time": "2023-03-28T15:54:46.805Z"
   },
   {
    "duration": 0,
    "start_time": "2023-03-28T15:54:46.806Z"
   },
   {
    "duration": 0,
    "start_time": "2023-03-28T15:54:46.808Z"
   },
   {
    "duration": 0,
    "start_time": "2023-03-28T15:54:46.809Z"
   },
   {
    "duration": 0,
    "start_time": "2023-03-28T15:54:46.809Z"
   },
   {
    "duration": 0,
    "start_time": "2023-03-28T15:54:46.810Z"
   },
   {
    "duration": 3056,
    "start_time": "2023-03-29T01:08:15.510Z"
   },
   {
    "duration": 2162,
    "start_time": "2023-03-29T01:08:18.570Z"
   },
   {
    "duration": 5779,
    "start_time": "2023-03-29T01:08:20.734Z"
   },
   {
    "duration": 6,
    "start_time": "2023-03-29T01:08:26.516Z"
   },
   {
    "duration": 458,
    "start_time": "2023-03-29T01:08:26.524Z"
   },
   {
    "duration": 296,
    "start_time": "2023-03-29T01:08:26.985Z"
   },
   {
    "duration": 1316,
    "start_time": "2023-03-29T01:08:27.283Z"
   },
   {
    "duration": 231,
    "start_time": "2023-03-29T01:28:28.870Z"
   },
   {
    "duration": 115,
    "start_time": "2023-03-29T01:29:40.241Z"
   },
   {
    "duration": 12155,
    "start_time": "2023-03-29T01:30:24.754Z"
   },
   {
    "duration": 10,
    "start_time": "2023-03-29T01:30:44.933Z"
   },
   {
    "duration": 4937,
    "start_time": "2023-03-29T01:31:42.626Z"
   },
   {
    "duration": 9,
    "start_time": "2023-03-29T01:31:49.528Z"
   },
   {
    "duration": 4542,
    "start_time": "2023-03-29T01:32:21.195Z"
   },
   {
    "duration": 14,
    "start_time": "2023-03-29T01:32:25.741Z"
   },
   {
    "duration": 4523,
    "start_time": "2023-03-29T01:32:55.478Z"
   },
   {
    "duration": 10,
    "start_time": "2023-03-29T01:33:00.003Z"
   },
   {
    "duration": 106,
    "start_time": "2023-03-29T01:33:42.618Z"
   },
   {
    "duration": 112,
    "start_time": "2023-03-29T01:34:18.504Z"
   },
   {
    "duration": 4851,
    "start_time": "2023-03-29T01:34:29.466Z"
   },
   {
    "duration": 5340,
    "start_time": "2023-03-29T01:38:19.606Z"
   },
   {
    "duration": 10,
    "start_time": "2023-03-29T01:38:24.948Z"
   },
   {
    "duration": 140,
    "start_time": "2023-03-29T01:40:44.775Z"
   },
   {
    "duration": 5363,
    "start_time": "2023-03-29T01:40:51.871Z"
   },
   {
    "duration": 10,
    "start_time": "2023-03-29T01:40:57.236Z"
   },
   {
    "duration": 4829,
    "start_time": "2023-03-29T01:43:29.623Z"
   },
   {
    "duration": 11,
    "start_time": "2023-03-29T01:43:34.455Z"
   },
   {
    "duration": 490,
    "start_time": "2023-03-29T01:46:41.543Z"
   },
   {
    "duration": 8,
    "start_time": "2023-03-29T01:46:46.055Z"
   },
   {
    "duration": 7696,
    "start_time": "2023-03-29T01:52:54.358Z"
   },
   {
    "duration": 11,
    "start_time": "2023-03-29T01:53:43.275Z"
   },
   {
    "duration": 262,
    "start_time": "2023-03-29T02:07:51.975Z"
   },
   {
    "duration": 6,
    "start_time": "2023-03-29T02:07:58.244Z"
   },
   {
    "duration": 13,
    "start_time": "2023-03-29T02:15:02.397Z"
   },
   {
    "duration": 4648,
    "start_time": "2023-03-29T02:15:06.379Z"
   },
   {
    "duration": 6,
    "start_time": "2023-03-29T02:15:11.029Z"
   },
   {
    "duration": 10,
    "start_time": "2023-03-29T02:16:00.681Z"
   },
   {
    "duration": 11,
    "start_time": "2023-03-29T02:17:57.623Z"
   },
   {
    "duration": 274,
    "start_time": "2023-03-29T02:18:03.157Z"
   },
   {
    "duration": 348,
    "start_time": "2023-03-29T02:18:46.810Z"
   },
   {
    "duration": 11,
    "start_time": "2023-03-29T02:21:08.848Z"
   },
   {
    "duration": 15,
    "start_time": "2023-03-29T02:22:21.145Z"
   },
   {
    "duration": 13,
    "start_time": "2023-03-29T02:22:36.023Z"
   },
   {
    "duration": 15,
    "start_time": "2023-03-29T02:22:40.598Z"
   },
   {
    "duration": 6,
    "start_time": "2023-03-29T02:22:44.618Z"
   },
   {
    "duration": 4,
    "start_time": "2023-03-29T02:22:53.554Z"
   },
   {
    "duration": 1748,
    "start_time": "2023-03-29T02:23:02.918Z"
   },
   {
    "duration": 1796,
    "start_time": "2023-03-29T02:23:18.825Z"
   },
   {
    "duration": 116,
    "start_time": "2023-03-29T02:29:02.946Z"
   },
   {
    "duration": 114,
    "start_time": "2023-03-29T02:29:39.907Z"
   },
   {
    "duration": 4959,
    "start_time": "2023-03-29T02:30:13.669Z"
   },
   {
    "duration": 10,
    "start_time": "2023-03-29T02:30:23.540Z"
   },
   {
    "duration": 5,
    "start_time": "2023-03-29T02:31:19.593Z"
   },
   {
    "duration": 4439,
    "start_time": "2023-03-29T02:34:23.430Z"
   },
   {
    "duration": 10,
    "start_time": "2023-03-29T02:34:28.614Z"
   },
   {
    "duration": 2867,
    "start_time": "2023-03-29T02:36:34.779Z"
   },
   {
    "duration": 1433,
    "start_time": "2023-03-29T02:36:48.920Z"
   },
   {
    "duration": 10,
    "start_time": "2023-03-29T02:36:52.732Z"
   },
   {
    "duration": 756,
    "start_time": "2023-03-29T02:37:52.969Z"
   },
   {
    "duration": 7,
    "start_time": "2023-03-29T02:38:19.880Z"
   },
   {
    "duration": 2793,
    "start_time": "2023-03-29T02:39:03.971Z"
   },
   {
    "duration": 8,
    "start_time": "2023-03-29T02:39:10.667Z"
   },
   {
    "duration": 775,
    "start_time": "2023-03-29T02:39:16.218Z"
   },
   {
    "duration": 770,
    "start_time": "2023-03-29T02:39:36.403Z"
   },
   {
    "duration": 3,
    "start_time": "2023-03-29T02:40:36.886Z"
   },
   {
    "duration": 721,
    "start_time": "2023-03-29T02:40:37.167Z"
   },
   {
    "duration": 3,
    "start_time": "2023-03-29T02:40:50.684Z"
   },
   {
    "duration": 759,
    "start_time": "2023-03-29T02:40:51.022Z"
   },
   {
    "duration": 4,
    "start_time": "2023-03-29T02:41:42.483Z"
   },
   {
    "duration": 1412,
    "start_time": "2023-03-29T04:12:17.343Z"
   },
   {
    "duration": 769,
    "start_time": "2023-03-29T04:12:18.756Z"
   },
   {
    "duration": 9,
    "start_time": "2023-03-29T04:12:40.802Z"
   },
   {
    "duration": 9540,
    "start_time": "2023-03-29T04:17:14.297Z"
   },
   {
    "duration": 4,
    "start_time": "2023-03-29T04:17:23.842Z"
   },
   {
    "duration": 319,
    "start_time": "2023-03-29T04:17:23.848Z"
   },
   {
    "duration": 13,
    "start_time": "2023-03-29T04:17:25.059Z"
   },
   {
    "duration": 8,
    "start_time": "2023-03-29T04:17:29.522Z"
   },
   {
    "duration": 298,
    "start_time": "2023-03-29T04:17:39.823Z"
   },
   {
    "duration": 136,
    "start_time": "2023-03-29T04:18:58.651Z"
   },
   {
    "duration": 441,
    "start_time": "2023-03-29T04:19:14.478Z"
   },
   {
    "duration": 4,
    "start_time": "2023-03-29T04:19:14.921Z"
   },
   {
    "duration": 9889,
    "start_time": "2023-03-29T04:19:26.683Z"
   },
   {
    "duration": 4,
    "start_time": "2023-03-29T04:19:36.574Z"
   },
   {
    "duration": 320,
    "start_time": "2023-03-29T04:19:40.818Z"
   },
   {
    "duration": 7,
    "start_time": "2023-03-29T04:19:44.838Z"
   },
   {
    "duration": 330,
    "start_time": "2023-03-29T04:19:45.491Z"
   },
   {
    "duration": 124,
    "start_time": "2023-03-29T04:20:01.488Z"
   },
   {
    "duration": 5,
    "start_time": "2023-03-29T04:20:07.921Z"
   },
   {
    "duration": 320,
    "start_time": "2023-03-29T04:20:15.054Z"
   },
   {
    "duration": 39,
    "start_time": "2023-03-29T04:20:26.372Z"
   },
   {
    "duration": 324,
    "start_time": "2023-03-29T04:20:27.070Z"
   },
   {
    "duration": 114,
    "start_time": "2023-03-29T04:23:15.614Z"
   },
   {
    "duration": 340,
    "start_time": "2023-03-29T04:23:16.917Z"
   },
   {
    "duration": 528,
    "start_time": "2023-03-29T04:23:19.520Z"
   },
   {
    "duration": 5,
    "start_time": "2023-03-29T04:23:20.612Z"
   },
   {
    "duration": 6,
    "start_time": "2023-03-29T04:24:36.269Z"
   },
   {
    "duration": 3,
    "start_time": "2023-03-29T04:24:36.954Z"
   },
   {
    "duration": 5,
    "start_time": "2023-03-29T04:24:38.425Z"
   },
   {
    "duration": 303,
    "start_time": "2023-03-29T04:24:38.817Z"
   },
   {
    "duration": 17,
    "start_time": "2023-03-29T04:24:41.226Z"
   },
   {
    "duration": 158,
    "start_time": "2023-03-29T04:24:42.430Z"
   },
   {
    "duration": 16,
    "start_time": "2023-03-29T04:24:43.793Z"
   },
   {
    "duration": 586,
    "start_time": "2023-03-29T04:24:45.267Z"
   },
   {
    "duration": 607,
    "start_time": "2023-03-29T04:25:08.229Z"
   },
   {
    "duration": 851,
    "start_time": "2023-03-29T04:25:35.403Z"
   },
   {
    "duration": 330,
    "start_time": "2023-03-29T04:25:43.225Z"
   },
   {
    "duration": 2151,
    "start_time": "2023-03-29T04:26:40.417Z"
   },
   {
    "duration": 1729,
    "start_time": "2023-03-29T04:26:42.571Z"
   },
   {
    "duration": 5397,
    "start_time": "2023-03-29T04:26:44.302Z"
   },
   {
    "duration": 3,
    "start_time": "2023-03-29T04:26:49.701Z"
   },
   {
    "duration": 344,
    "start_time": "2023-03-29T04:26:49.705Z"
   },
   {
    "duration": 304,
    "start_time": "2023-03-29T04:26:50.051Z"
   },
   {
    "duration": 1300,
    "start_time": "2023-03-29T04:26:50.357Z"
   },
   {
    "duration": 45,
    "start_time": "2023-03-29T04:26:51.659Z"
   },
   {
    "duration": 0,
    "start_time": "2023-03-29T04:26:51.708Z"
   },
   {
    "duration": 0,
    "start_time": "2023-03-29T04:26:51.709Z"
   },
   {
    "duration": 0,
    "start_time": "2023-03-29T04:26:51.710Z"
   },
   {
    "duration": 0,
    "start_time": "2023-03-29T04:26:51.711Z"
   },
   {
    "duration": 0,
    "start_time": "2023-03-29T04:26:51.712Z"
   },
   {
    "duration": 0,
    "start_time": "2023-03-29T04:26:51.713Z"
   },
   {
    "duration": 0,
    "start_time": "2023-03-29T04:26:51.715Z"
   },
   {
    "duration": 0,
    "start_time": "2023-03-29T04:26:51.716Z"
   },
   {
    "duration": 0,
    "start_time": "2023-03-29T04:26:51.718Z"
   },
   {
    "duration": 0,
    "start_time": "2023-03-29T04:26:51.719Z"
   },
   {
    "duration": 0,
    "start_time": "2023-03-29T04:26:51.722Z"
   },
   {
    "duration": 0,
    "start_time": "2023-03-29T04:26:51.723Z"
   },
   {
    "duration": 0,
    "start_time": "2023-03-29T04:26:51.724Z"
   },
   {
    "duration": 0,
    "start_time": "2023-03-29T04:26:51.725Z"
   },
   {
    "duration": 0,
    "start_time": "2023-03-29T04:26:51.726Z"
   },
   {
    "duration": 0,
    "start_time": "2023-03-29T04:26:51.728Z"
   },
   {
    "duration": 0,
    "start_time": "2023-03-29T04:26:51.729Z"
   },
   {
    "duration": 0,
    "start_time": "2023-03-29T04:26:51.730Z"
   },
   {
    "duration": 0,
    "start_time": "2023-03-29T04:26:51.731Z"
   },
   {
    "duration": 0,
    "start_time": "2023-03-29T04:26:51.732Z"
   },
   {
    "duration": 0,
    "start_time": "2023-03-29T04:26:51.734Z"
   },
   {
    "duration": 0,
    "start_time": "2023-03-29T04:26:51.741Z"
   },
   {
    "duration": 0,
    "start_time": "2023-03-29T04:26:51.742Z"
   },
   {
    "duration": 0,
    "start_time": "2023-03-29T04:26:51.743Z"
   },
   {
    "duration": 0,
    "start_time": "2023-03-29T04:26:51.744Z"
   },
   {
    "duration": 0,
    "start_time": "2023-03-29T04:26:51.745Z"
   },
   {
    "duration": 0,
    "start_time": "2023-03-29T04:26:51.746Z"
   },
   {
    "duration": 0,
    "start_time": "2023-03-29T04:26:51.748Z"
   },
   {
    "duration": 0,
    "start_time": "2023-03-29T04:26:51.749Z"
   },
   {
    "duration": 0,
    "start_time": "2023-03-29T04:26:51.750Z"
   },
   {
    "duration": 0,
    "start_time": "2023-03-29T04:26:51.751Z"
   },
   {
    "duration": 0,
    "start_time": "2023-03-29T04:26:51.753Z"
   },
   {
    "duration": 0,
    "start_time": "2023-03-29T04:26:51.754Z"
   },
   {
    "duration": 0,
    "start_time": "2023-03-29T04:26:51.756Z"
   },
   {
    "duration": 0,
    "start_time": "2023-03-29T04:26:51.757Z"
   },
   {
    "duration": 1,
    "start_time": "2023-03-29T04:26:51.758Z"
   },
   {
    "duration": 0,
    "start_time": "2023-03-29T04:26:51.760Z"
   },
   {
    "duration": 0,
    "start_time": "2023-03-29T04:26:51.761Z"
   },
   {
    "duration": 0,
    "start_time": "2023-03-29T04:26:51.763Z"
   },
   {
    "duration": 0,
    "start_time": "2023-03-29T04:26:51.764Z"
   },
   {
    "duration": 0,
    "start_time": "2023-03-29T04:26:51.766Z"
   },
   {
    "duration": 0,
    "start_time": "2023-03-29T04:26:51.767Z"
   },
   {
    "duration": 0,
    "start_time": "2023-03-29T04:26:51.769Z"
   },
   {
    "duration": 0,
    "start_time": "2023-03-29T04:26:51.770Z"
   },
   {
    "duration": 0,
    "start_time": "2023-03-29T04:26:51.772Z"
   },
   {
    "duration": 0,
    "start_time": "2023-03-29T04:26:51.774Z"
   },
   {
    "duration": 0,
    "start_time": "2023-03-29T04:26:51.776Z"
   },
   {
    "duration": 0,
    "start_time": "2023-03-29T04:26:51.777Z"
   },
   {
    "duration": 0,
    "start_time": "2023-03-29T04:26:51.842Z"
   },
   {
    "duration": 0,
    "start_time": "2023-03-29T04:26:51.843Z"
   },
   {
    "duration": 0,
    "start_time": "2023-03-29T04:26:51.845Z"
   },
   {
    "duration": 0,
    "start_time": "2023-03-29T04:26:51.847Z"
   },
   {
    "duration": 0,
    "start_time": "2023-03-29T04:26:51.848Z"
   },
   {
    "duration": 0,
    "start_time": "2023-03-29T04:26:51.849Z"
   },
   {
    "duration": 0,
    "start_time": "2023-03-29T04:26:51.851Z"
   },
   {
    "duration": 0,
    "start_time": "2023-03-29T04:26:51.852Z"
   },
   {
    "duration": 0,
    "start_time": "2023-03-29T04:26:51.854Z"
   },
   {
    "duration": 0,
    "start_time": "2023-03-29T04:26:51.855Z"
   },
   {
    "duration": 0,
    "start_time": "2023-03-29T04:26:51.857Z"
   },
   {
    "duration": 0,
    "start_time": "2023-03-29T04:26:51.858Z"
   },
   {
    "duration": 0,
    "start_time": "2023-03-29T04:26:51.860Z"
   },
   {
    "duration": 0,
    "start_time": "2023-03-29T04:26:51.861Z"
   },
   {
    "duration": 0,
    "start_time": "2023-03-29T04:26:51.862Z"
   },
   {
    "duration": 0,
    "start_time": "2023-03-29T04:26:51.863Z"
   },
   {
    "duration": 2176,
    "start_time": "2023-03-29T04:28:03.530Z"
   },
   {
    "duration": 1799,
    "start_time": "2023-03-29T04:28:05.708Z"
   },
   {
    "duration": 7021,
    "start_time": "2023-03-29T04:28:07.509Z"
   },
   {
    "duration": 3,
    "start_time": "2023-03-29T04:28:14.532Z"
   },
   {
    "duration": 367,
    "start_time": "2023-03-29T04:28:14.536Z"
   },
   {
    "duration": 310,
    "start_time": "2023-03-29T04:28:14.905Z"
   },
   {
    "duration": 1434,
    "start_time": "2023-03-29T04:28:15.217Z"
   },
   {
    "duration": 4813,
    "start_time": "2023-03-29T04:28:16.653Z"
   },
   {
    "duration": 3,
    "start_time": "2023-03-29T04:28:21.468Z"
   },
   {
    "duration": 1687,
    "start_time": "2023-03-29T04:28:21.474Z"
   },
   {
    "duration": 1422,
    "start_time": "2023-03-29T04:28:23.163Z"
   },
   {
    "duration": 821,
    "start_time": "2023-03-29T04:28:24.587Z"
   },
   {
    "duration": 9543,
    "start_time": "2023-03-29T04:28:25.410Z"
   },
   {
    "duration": 4,
    "start_time": "2023-03-29T04:28:34.957Z"
   },
   {
    "duration": 224,
    "start_time": "2023-03-29T04:28:34.963Z"
   },
   {
    "duration": 7,
    "start_time": "2023-03-29T04:28:35.189Z"
   },
   {
    "duration": 230,
    "start_time": "2023-03-29T04:28:35.198Z"
   },
   {
    "duration": 87,
    "start_time": "2023-03-29T04:28:35.430Z"
   },
   {
    "duration": 228,
    "start_time": "2023-03-29T04:28:35.519Z"
   },
   {
    "duration": 383,
    "start_time": "2023-03-29T04:28:35.749Z"
   },
   {
    "duration": 8,
    "start_time": "2023-03-29T04:28:36.134Z"
   },
   {
    "duration": 243,
    "start_time": "2023-03-29T04:28:36.143Z"
   },
   {
    "duration": 6,
    "start_time": "2023-03-29T04:28:36.388Z"
   },
   {
    "duration": 8,
    "start_time": "2023-03-29T04:28:36.396Z"
   },
   {
    "duration": 14,
    "start_time": "2023-03-29T04:28:36.406Z"
   },
   {
    "duration": 247,
    "start_time": "2023-03-29T04:28:36.422Z"
   },
   {
    "duration": 24,
    "start_time": "2023-03-29T04:28:36.671Z"
   },
   {
    "duration": 144,
    "start_time": "2023-03-29T04:28:36.701Z"
   },
   {
    "duration": 19,
    "start_time": "2023-03-29T04:28:36.847Z"
   },
   {
    "duration": 456,
    "start_time": "2023-03-29T04:28:36.868Z"
   },
   {
    "duration": 492,
    "start_time": "2023-03-29T04:28:37.326Z"
   },
   {
    "duration": 39207,
    "start_time": "2023-03-29T04:28:37.820Z"
   },
   {
    "duration": 0,
    "start_time": "2023-03-29T04:29:17.029Z"
   },
   {
    "duration": 0,
    "start_time": "2023-03-29T04:29:17.031Z"
   },
   {
    "duration": 0,
    "start_time": "2023-03-29T04:29:17.033Z"
   },
   {
    "duration": 0,
    "start_time": "2023-03-29T04:29:17.034Z"
   },
   {
    "duration": 0,
    "start_time": "2023-03-29T04:29:17.043Z"
   },
   {
    "duration": 0,
    "start_time": "2023-03-29T04:29:17.044Z"
   },
   {
    "duration": 0,
    "start_time": "2023-03-29T04:29:17.044Z"
   },
   {
    "duration": 0,
    "start_time": "2023-03-29T04:29:17.045Z"
   },
   {
    "duration": 0,
    "start_time": "2023-03-29T04:29:17.046Z"
   },
   {
    "duration": 0,
    "start_time": "2023-03-29T04:29:17.047Z"
   },
   {
    "duration": 0,
    "start_time": "2023-03-29T04:29:17.047Z"
   },
   {
    "duration": 0,
    "start_time": "2023-03-29T04:29:17.048Z"
   },
   {
    "duration": 0,
    "start_time": "2023-03-29T04:29:17.049Z"
   },
   {
    "duration": 0,
    "start_time": "2023-03-29T04:29:17.050Z"
   },
   {
    "duration": 1,
    "start_time": "2023-03-29T04:29:17.050Z"
   },
   {
    "duration": 0,
    "start_time": "2023-03-29T04:29:17.051Z"
   },
   {
    "duration": 0,
    "start_time": "2023-03-29T04:29:17.052Z"
   },
   {
    "duration": 0,
    "start_time": "2023-03-29T04:29:17.053Z"
   },
   {
    "duration": 0,
    "start_time": "2023-03-29T04:29:17.054Z"
   },
   {
    "duration": 0,
    "start_time": "2023-03-29T04:29:17.054Z"
   },
   {
    "duration": 0,
    "start_time": "2023-03-29T04:29:17.057Z"
   },
   {
    "duration": 0,
    "start_time": "2023-03-29T04:29:17.059Z"
   },
   {
    "duration": 0,
    "start_time": "2023-03-29T04:29:17.061Z"
   },
   {
    "duration": 0,
    "start_time": "2023-03-29T04:29:17.062Z"
   },
   {
    "duration": 0,
    "start_time": "2023-03-29T04:29:17.064Z"
   },
   {
    "duration": 0,
    "start_time": "2023-03-29T04:29:17.066Z"
   },
   {
    "duration": 0,
    "start_time": "2023-03-29T04:29:17.067Z"
   },
   {
    "duration": 0,
    "start_time": "2023-03-29T04:29:17.069Z"
   },
   {
    "duration": 0,
    "start_time": "2023-03-29T04:29:17.070Z"
   },
   {
    "duration": 0,
    "start_time": "2023-03-29T04:29:17.072Z"
   },
   {
    "duration": 0,
    "start_time": "2023-03-29T04:29:17.074Z"
   },
   {
    "duration": 0,
    "start_time": "2023-03-29T04:29:17.075Z"
   },
   {
    "duration": 0,
    "start_time": "2023-03-29T04:29:17.077Z"
   },
   {
    "duration": 0,
    "start_time": "2023-03-29T04:29:17.078Z"
   },
   {
    "duration": 0,
    "start_time": "2023-03-29T04:29:17.080Z"
   },
   {
    "duration": 0,
    "start_time": "2023-03-29T04:29:17.081Z"
   },
   {
    "duration": 0,
    "start_time": "2023-03-29T04:29:17.084Z"
   },
   {
    "duration": 0,
    "start_time": "2023-03-29T04:29:17.085Z"
   },
   {
    "duration": 0,
    "start_time": "2023-03-29T04:29:17.149Z"
   },
   {
    "duration": 0,
    "start_time": "2023-03-29T04:29:17.150Z"
   },
   {
    "duration": 0,
    "start_time": "2023-03-29T04:29:17.156Z"
   },
   {
    "duration": 568,
    "start_time": "2023-03-29T04:29:18.895Z"
   },
   {
    "duration": 264,
    "start_time": "2023-03-29T04:29:27.989Z"
   },
   {
    "duration": 5,
    "start_time": "2023-03-29T04:30:09.453Z"
   },
   {
    "duration": 75,
    "start_time": "2023-03-29T04:30:10.278Z"
   },
   {
    "duration": 3,
    "start_time": "2023-03-29T04:30:10.785Z"
   },
   {
    "duration": 15,
    "start_time": "2023-03-29T04:30:11.361Z"
   },
   {
    "duration": 63,
    "start_time": "2023-03-29T04:30:12.428Z"
   },
   {
    "duration": 30,
    "start_time": "2023-03-29T04:30:12.990Z"
   },
   {
    "duration": 74,
    "start_time": "2023-03-29T04:30:13.590Z"
   },
   {
    "duration": 5,
    "start_time": "2023-03-29T04:30:14.441Z"
   },
   {
    "duration": 64,
    "start_time": "2023-03-29T04:30:15.055Z"
   },
   {
    "duration": 85,
    "start_time": "2023-03-29T04:30:16.312Z"
   },
   {
    "duration": 5,
    "start_time": "2023-03-29T04:30:19.016Z"
   },
   {
    "duration": 89,
    "start_time": "2023-03-29T04:30:19.396Z"
   },
   {
    "duration": 96,
    "start_time": "2023-03-29T04:30:20.315Z"
   },
   {
    "duration": 130,
    "start_time": "2023-03-29T04:30:22.313Z"
   },
   {
    "duration": 112,
    "start_time": "2023-03-29T04:30:24.716Z"
   },
   {
    "duration": 269,
    "start_time": "2023-03-29T04:30:26.265Z"
   },
   {
    "duration": 324,
    "start_time": "2023-03-29T04:30:35.439Z"
   },
   {
    "duration": 28,
    "start_time": "2023-03-29T04:45:16.748Z"
   },
   {
    "duration": 7,
    "start_time": "2023-03-29T04:46:00.076Z"
   },
   {
    "duration": 9,
    "start_time": "2023-03-29T04:46:08.716Z"
   },
   {
    "duration": 8,
    "start_time": "2023-03-29T04:46:21.157Z"
   },
   {
    "duration": 278,
    "start_time": "2023-03-29T04:47:42.783Z"
   },
   {
    "duration": 7,
    "start_time": "2023-03-29T04:48:11.046Z"
   },
   {
    "duration": 7,
    "start_time": "2023-03-29T04:48:15.038Z"
   },
   {
    "duration": 9,
    "start_time": "2023-03-29T04:48:18.510Z"
   },
   {
    "duration": 8,
    "start_time": "2023-03-29T04:48:45.193Z"
   },
   {
    "duration": 9,
    "start_time": "2023-03-29T04:49:03.166Z"
   },
   {
    "duration": 5,
    "start_time": "2023-03-29T04:49:22.564Z"
   },
   {
    "duration": 5,
    "start_time": "2023-03-29T04:49:22.808Z"
   },
   {
    "duration": 36,
    "start_time": "2023-03-29T04:49:23.006Z"
   },
   {
    "duration": 93,
    "start_time": "2023-03-29T04:49:23.482Z"
   },
   {
    "duration": 5,
    "start_time": "2023-03-29T04:49:23.879Z"
   },
   {
    "duration": 18,
    "start_time": "2023-03-29T04:49:25.213Z"
   },
   {
    "duration": 6123,
    "start_time": "2023-03-29T04:49:41.716Z"
   },
   {
    "duration": 19,
    "start_time": "2023-03-29T04:53:06.540Z"
   },
   {
    "duration": 7,
    "start_time": "2023-03-29T04:53:15.746Z"
   },
   {
    "duration": 12,
    "start_time": "2023-03-29T04:53:37.721Z"
   },
   {
    "duration": 19,
    "start_time": "2023-03-29T04:54:05.888Z"
   },
   {
    "duration": 6,
    "start_time": "2023-03-29T04:54:52.413Z"
   },
   {
    "duration": 15,
    "start_time": "2023-03-29T04:58:35.266Z"
   },
   {
    "duration": 3206,
    "start_time": "2023-03-29T04:58:53.856Z"
   },
   {
    "duration": 35,
    "start_time": "2023-03-29T04:59:00.273Z"
   },
   {
    "duration": 2146,
    "start_time": "2023-03-29T04:59:21.742Z"
   },
   {
    "duration": 1991,
    "start_time": "2023-03-29T04:59:23.890Z"
   },
   {
    "duration": 1427,
    "start_time": "2023-03-29T04:59:29.451Z"
   },
   {
    "duration": 125,
    "start_time": "2023-03-29T05:02:31.545Z"
   },
   {
    "duration": 2081,
    "start_time": "2023-03-29T05:03:01.534Z"
   },
   {
    "duration": 2025,
    "start_time": "2023-03-29T05:03:03.618Z"
   },
   {
    "duration": 1537,
    "start_time": "2023-03-29T05:03:05.645Z"
   },
   {
    "duration": 7422,
    "start_time": "2023-03-29T05:03:07.185Z"
   },
   {
    "duration": 3,
    "start_time": "2023-03-29T05:03:14.609Z"
   },
   {
    "duration": 351,
    "start_time": "2023-03-29T05:03:14.613Z"
   },
   {
    "duration": 325,
    "start_time": "2023-03-29T05:03:14.966Z"
   },
   {
    "duration": 1349,
    "start_time": "2023-03-29T05:03:15.292Z"
   },
   {
    "duration": 4498,
    "start_time": "2023-03-29T05:03:16.643Z"
   },
   {
    "duration": 3,
    "start_time": "2023-03-29T05:03:21.144Z"
   },
   {
    "duration": 1705,
    "start_time": "2023-03-29T05:03:21.149Z"
   },
   {
    "duration": 1416,
    "start_time": "2023-03-29T05:03:22.856Z"
   },
   {
    "duration": 775,
    "start_time": "2023-03-29T05:03:24.274Z"
   },
   {
    "duration": 9990,
    "start_time": "2023-03-29T05:03:25.051Z"
   },
   {
    "duration": 4,
    "start_time": "2023-03-29T05:03:35.043Z"
   },
   {
    "duration": 229,
    "start_time": "2023-03-29T05:03:35.049Z"
   },
   {
    "duration": 6,
    "start_time": "2023-03-29T05:03:35.280Z"
   },
   {
    "duration": 219,
    "start_time": "2023-03-29T05:03:35.287Z"
   },
   {
    "duration": 84,
    "start_time": "2023-03-29T05:03:35.508Z"
   },
   {
    "duration": 239,
    "start_time": "2023-03-29T05:03:35.593Z"
   },
   {
    "duration": 363,
    "start_time": "2023-03-29T05:03:35.834Z"
   },
   {
    "duration": 5,
    "start_time": "2023-03-29T05:03:36.199Z"
   },
   {
    "duration": 230,
    "start_time": "2023-03-29T05:03:36.206Z"
   },
   {
    "duration": 5,
    "start_time": "2023-03-29T05:03:36.441Z"
   },
   {
    "duration": 12,
    "start_time": "2023-03-29T05:03:36.448Z"
   },
   {
    "duration": 21,
    "start_time": "2023-03-29T05:03:36.462Z"
   },
   {
    "duration": 248,
    "start_time": "2023-03-29T05:03:36.486Z"
   },
   {
    "duration": 19,
    "start_time": "2023-03-29T05:03:36.742Z"
   },
   {
    "duration": 125,
    "start_time": "2023-03-29T05:03:36.763Z"
   },
   {
    "duration": 16,
    "start_time": "2023-03-29T05:03:36.890Z"
   },
   {
    "duration": 395,
    "start_time": "2023-03-29T05:03:36.908Z"
   },
   {
    "duration": 420,
    "start_time": "2023-03-29T05:03:37.305Z"
   },
   {
    "duration": 506,
    "start_time": "2023-03-29T05:03:37.727Z"
   },
   {
    "duration": 235,
    "start_time": "2023-03-29T05:03:38.235Z"
   },
   {
    "duration": 5,
    "start_time": "2023-03-29T05:03:38.471Z"
   },
   {
    "duration": 82,
    "start_time": "2023-03-29T05:03:38.478Z"
   },
   {
    "duration": 3,
    "start_time": "2023-03-29T05:03:38.563Z"
   },
   {
    "duration": 24,
    "start_time": "2023-03-29T05:03:38.568Z"
   },
   {
    "duration": 47,
    "start_time": "2023-03-29T05:03:38.594Z"
   },
   {
    "duration": 19,
    "start_time": "2023-03-29T05:03:38.642Z"
   },
   {
    "duration": 92,
    "start_time": "2023-03-29T05:03:38.663Z"
   },
   {
    "duration": 4,
    "start_time": "2023-03-29T05:03:38.759Z"
   },
   {
    "duration": 67,
    "start_time": "2023-03-29T05:03:38.765Z"
   },
   {
    "duration": 90,
    "start_time": "2023-03-29T05:03:38.834Z"
   },
   {
    "duration": 16,
    "start_time": "2023-03-29T05:03:38.927Z"
   },
   {
    "duration": 97,
    "start_time": "2023-03-29T05:03:38.945Z"
   },
   {
    "duration": 82,
    "start_time": "2023-03-29T05:03:39.043Z"
   },
   {
    "duration": 98,
    "start_time": "2023-03-29T05:03:39.126Z"
   },
   {
    "duration": 90,
    "start_time": "2023-03-29T05:03:39.226Z"
   },
   {
    "duration": 298,
    "start_time": "2023-03-29T05:03:39.317Z"
   },
   {
    "duration": 286,
    "start_time": "2023-03-29T05:03:39.617Z"
   },
   {
    "duration": 9,
    "start_time": "2023-03-29T05:03:39.905Z"
   },
   {
    "duration": 27,
    "start_time": "2023-03-29T05:03:39.915Z"
   },
   {
    "duration": 4,
    "start_time": "2023-03-29T05:03:39.944Z"
   },
   {
    "duration": 7,
    "start_time": "2023-03-29T05:03:39.950Z"
   },
   {
    "duration": 48,
    "start_time": "2023-03-29T05:03:39.959Z"
   },
   {
    "duration": 111,
    "start_time": "2023-03-29T05:03:40.009Z"
   },
   {
    "duration": 4,
    "start_time": "2023-03-29T05:03:40.122Z"
   },
   {
    "duration": 139,
    "start_time": "2023-03-29T05:03:40.127Z"
   },
   {
    "duration": 0,
    "start_time": "2023-03-29T05:03:40.268Z"
   },
   {
    "duration": 0,
    "start_time": "2023-03-29T05:03:40.269Z"
   },
   {
    "duration": 0,
    "start_time": "2023-03-29T05:03:40.270Z"
   },
   {
    "duration": 0,
    "start_time": "2023-03-29T05:03:40.271Z"
   },
   {
    "duration": 0,
    "start_time": "2023-03-29T05:03:40.272Z"
   },
   {
    "duration": 0,
    "start_time": "2023-03-29T05:03:40.273Z"
   },
   {
    "duration": 0,
    "start_time": "2023-03-29T05:03:40.274Z"
   },
   {
    "duration": 0,
    "start_time": "2023-03-29T05:03:40.275Z"
   },
   {
    "duration": 0,
    "start_time": "2023-03-29T05:03:40.276Z"
   },
   {
    "duration": 0,
    "start_time": "2023-03-29T05:03:40.277Z"
   },
   {
    "duration": 0,
    "start_time": "2023-03-29T05:03:40.278Z"
   },
   {
    "duration": 0,
    "start_time": "2023-03-29T05:03:40.279Z"
   },
   {
    "duration": 0,
    "start_time": "2023-03-29T05:03:40.280Z"
   },
   {
    "duration": 0,
    "start_time": "2023-03-29T05:03:40.281Z"
   },
   {
    "duration": 0,
    "start_time": "2023-03-29T05:03:40.281Z"
   },
   {
    "duration": 0,
    "start_time": "2023-03-29T05:03:40.283Z"
   },
   {
    "duration": 0,
    "start_time": "2023-03-29T05:03:40.284Z"
   },
   {
    "duration": 0,
    "start_time": "2023-03-29T05:03:40.285Z"
   },
   {
    "duration": 0,
    "start_time": "2023-03-29T05:03:40.286Z"
   },
   {
    "duration": 30,
    "start_time": "2023-03-29T05:03:52.704Z"
   },
   {
    "duration": 6,
    "start_time": "2023-03-29T05:04:05.225Z"
   },
   {
    "duration": 176382,
    "start_time": "2023-03-29T05:04:09.208Z"
   },
   {
    "duration": 128,
    "start_time": "2023-03-29T05:07:12.718Z"
   },
   {
    "duration": 28,
    "start_time": "2023-03-29T05:07:33.363Z"
   },
   {
    "duration": 6,
    "start_time": "2023-03-29T05:07:35.090Z"
   },
   {
    "duration": 227104,
    "start_time": "2023-03-29T05:07:36.164Z"
   },
   {
    "duration": 0,
    "start_time": "2023-03-29T05:11:23.271Z"
   },
   {
    "duration": 26087,
    "start_time": "2023-03-29T05:11:35.885Z"
   },
   {
    "duration": 26,
    "start_time": "2023-03-29T05:12:07.453Z"
   },
   {
    "duration": 6,
    "start_time": "2023-03-29T05:12:10.426Z"
   },
   {
    "duration": 2205002,
    "start_time": "2023-03-29T05:12:15.484Z"
   },
   {
    "duration": 28,
    "start_time": "2023-03-29T05:49:00.489Z"
   },
   {
    "duration": 1297686,
    "start_time": "2023-03-29T05:49:00.519Z"
   },
   {
    "duration": 219760,
    "start_time": "2023-03-29T06:10:39.284Z"
   },
   {
    "duration": 2103,
    "start_time": "2023-03-29T06:15:20.774Z"
   },
   {
    "duration": 2238,
    "start_time": "2023-03-29T06:15:22.880Z"
   },
   {
    "duration": 3489,
    "start_time": "2023-03-29T06:15:25.121Z"
   },
   {
    "duration": 9089,
    "start_time": "2023-03-29T06:15:28.612Z"
   },
   {
    "duration": 2,
    "start_time": "2023-03-29T06:15:37.704Z"
   },
   {
    "duration": 446,
    "start_time": "2023-03-29T06:15:37.708Z"
   },
   {
    "duration": 308,
    "start_time": "2023-03-29T06:15:38.156Z"
   },
   {
    "duration": 1411,
    "start_time": "2023-03-29T06:15:38.466Z"
   },
   {
    "duration": 4028,
    "start_time": "2023-03-29T06:15:39.879Z"
   },
   {
    "duration": 4,
    "start_time": "2023-03-29T06:15:43.909Z"
   },
   {
    "duration": 1630,
    "start_time": "2023-03-29T06:15:43.915Z"
   },
   {
    "duration": 1486,
    "start_time": "2023-03-29T06:15:45.547Z"
   },
   {
    "duration": 815,
    "start_time": "2023-03-29T06:15:47.035Z"
   },
   {
    "duration": 9346,
    "start_time": "2023-03-29T06:15:47.854Z"
   },
   {
    "duration": 4,
    "start_time": "2023-03-29T06:15:57.203Z"
   },
   {
    "duration": 238,
    "start_time": "2023-03-29T06:15:57.209Z"
   },
   {
    "duration": 8,
    "start_time": "2023-03-29T06:15:57.449Z"
   },
   {
    "duration": 230,
    "start_time": "2023-03-29T06:15:57.458Z"
   },
   {
    "duration": 88,
    "start_time": "2023-03-29T06:15:57.690Z"
   },
   {
    "duration": 215,
    "start_time": "2023-03-29T06:15:57.780Z"
   },
   {
    "duration": 338,
    "start_time": "2023-03-29T06:15:57.996Z"
   },
   {
    "duration": 7,
    "start_time": "2023-03-29T06:15:58.336Z"
   },
   {
    "duration": 230,
    "start_time": "2023-03-29T06:15:58.346Z"
   },
   {
    "duration": 5,
    "start_time": "2023-03-29T06:15:58.578Z"
   },
   {
    "duration": 51,
    "start_time": "2023-03-29T06:15:58.585Z"
   },
   {
    "duration": 115,
    "start_time": "2023-03-29T06:15:58.638Z"
   },
   {
    "duration": 295,
    "start_time": "2023-03-29T06:15:58.755Z"
   },
   {
    "duration": 21,
    "start_time": "2023-03-29T06:15:59.052Z"
   },
   {
    "duration": 131,
    "start_time": "2023-03-29T06:15:59.075Z"
   },
   {
    "duration": 27,
    "start_time": "2023-03-29T06:15:59.207Z"
   },
   {
    "duration": 383,
    "start_time": "2023-03-29T06:15:59.237Z"
   },
   {
    "duration": 413,
    "start_time": "2023-03-29T06:15:59.623Z"
   },
   {
    "duration": 513,
    "start_time": "2023-03-29T06:16:00.040Z"
   },
   {
    "duration": 259,
    "start_time": "2023-03-29T06:16:00.555Z"
   },
   {
    "duration": 5,
    "start_time": "2023-03-29T06:16:00.816Z"
   },
   {
    "duration": 113,
    "start_time": "2023-03-29T06:16:00.823Z"
   },
   {
    "duration": 3,
    "start_time": "2023-03-29T06:16:00.938Z"
   },
   {
    "duration": 24,
    "start_time": "2023-03-29T06:16:00.943Z"
   },
   {
    "duration": 68,
    "start_time": "2023-03-29T06:16:00.969Z"
   },
   {
    "duration": 78,
    "start_time": "2023-03-29T06:16:01.039Z"
   },
   {
    "duration": 157,
    "start_time": "2023-03-29T06:16:01.122Z"
   },
   {
    "duration": 8,
    "start_time": "2023-03-29T06:16:01.280Z"
   },
   {
    "duration": 95,
    "start_time": "2023-03-29T06:16:01.290Z"
   },
   {
    "duration": 95,
    "start_time": "2023-03-29T06:16:01.387Z"
   },
   {
    "duration": 38,
    "start_time": "2023-03-29T06:16:01.483Z"
   },
   {
    "duration": 113,
    "start_time": "2023-03-29T06:16:01.523Z"
   },
   {
    "duration": 84,
    "start_time": "2023-03-29T06:16:01.638Z"
   },
   {
    "duration": 90,
    "start_time": "2023-03-29T06:16:01.724Z"
   },
   {
    "duration": 94,
    "start_time": "2023-03-29T06:16:01.816Z"
   },
   {
    "duration": 336,
    "start_time": "2023-03-29T06:16:01.912Z"
   },
   {
    "duration": 285,
    "start_time": "2023-03-29T06:16:02.250Z"
   },
   {
    "duration": 9,
    "start_time": "2023-03-29T06:16:02.541Z"
   },
   {
    "duration": 44,
    "start_time": "2023-03-29T06:16:02.552Z"
   },
   {
    "duration": 101,
    "start_time": "2023-03-29T06:16:02.598Z"
   },
   {
    "duration": 57,
    "start_time": "2023-03-29T06:16:02.701Z"
   },
   {
    "duration": 68,
    "start_time": "2023-03-29T06:16:02.761Z"
   },
   {
    "duration": 103,
    "start_time": "2023-03-29T06:16:02.831Z"
   },
   {
    "duration": 6,
    "start_time": "2023-03-29T06:16:02.936Z"
   },
   {
    "duration": 53,
    "start_time": "2023-03-29T06:16:02.946Z"
   },
   {
    "duration": 6,
    "start_time": "2023-03-29T06:16:03.001Z"
   },
   {
    "duration": 6189941,
    "start_time": "2023-03-29T06:16:03.009Z"
   },
   {
    "duration": 115,
    "start_time": "2023-03-29T07:59:12.953Z"
   },
   {
    "duration": 2477183,
    "start_time": "2023-03-29T07:59:13.070Z"
   },
   {
    "duration": 6,
    "start_time": "2023-03-29T08:40:30.255Z"
   },
   {
    "duration": 309,
    "start_time": "2023-03-29T08:40:30.263Z"
   },
   {
    "duration": 1372,
    "start_time": "2023-03-29T08:40:30.574Z"
   },
   {
    "duration": 0,
    "start_time": "2023-03-29T08:40:31.948Z"
   },
   {
    "duration": 0,
    "start_time": "2023-03-29T08:40:31.949Z"
   },
   {
    "duration": 0,
    "start_time": "2023-03-29T08:40:31.950Z"
   },
   {
    "duration": 0,
    "start_time": "2023-03-29T08:40:31.951Z"
   },
   {
    "duration": 0,
    "start_time": "2023-03-29T08:40:31.952Z"
   },
   {
    "duration": 0,
    "start_time": "2023-03-29T08:40:31.953Z"
   },
   {
    "duration": 0,
    "start_time": "2023-03-29T08:40:31.955Z"
   },
   {
    "duration": 0,
    "start_time": "2023-03-29T08:40:31.956Z"
   },
   {
    "duration": 0,
    "start_time": "2023-03-29T08:40:31.957Z"
   },
   {
    "duration": 0,
    "start_time": "2023-03-29T08:40:31.958Z"
   },
   {
    "duration": 0,
    "start_time": "2023-03-29T08:40:31.960Z"
   },
   {
    "duration": 2169,
    "start_time": "2023-03-29T08:56:13.598Z"
   },
   {
    "duration": 7507417,
    "start_time": "2023-03-29T08:58:03.410Z"
   },
   {
    "duration": 4,
    "start_time": "2023-03-29T11:09:06.292Z"
   },
   {
    "duration": 3,
    "start_time": "2023-03-29T11:09:33.654Z"
   },
   {
    "duration": 56,
    "start_time": "2023-03-29T11:11:31.106Z"
   },
   {
    "duration": 13,
    "start_time": "2023-03-29T11:12:10.398Z"
   },
   {
    "duration": 5,
    "start_time": "2023-03-29T11:12:12.957Z"
   },
   {
    "duration": 4,
    "start_time": "2023-03-29T11:12:44.820Z"
   },
   {
    "duration": 8,
    "start_time": "2023-03-29T11:12:49.051Z"
   },
   {
    "duration": 4,
    "start_time": "2023-03-29T11:14:01.954Z"
   },
   {
    "duration": 3275,
    "start_time": "2023-03-29T11:14:16.187Z"
   },
   {
    "duration": 20,
    "start_time": "2023-03-29T11:14:38.897Z"
   },
   {
    "duration": 71,
    "start_time": "2023-03-29T11:15:34.170Z"
   },
   {
    "duration": 570,
    "start_time": "2023-03-29T11:15:34.984Z"
   },
   {
    "duration": 17,
    "start_time": "2023-03-29T11:15:40.294Z"
   },
   {
    "duration": 23,
    "start_time": "2023-03-29T11:16:43.909Z"
   },
   {
    "duration": 5361,
    "start_time": "2023-03-29T11:17:06.844Z"
   },
   {
    "duration": 18,
    "start_time": "2023-03-29T11:17:24.871Z"
   },
   {
    "duration": 133,
    "start_time": "2023-03-29T11:17:25.508Z"
   },
   {
    "duration": 6,
    "start_time": "2023-03-29T11:20:22.825Z"
   },
   {
    "duration": 31,
    "start_time": "2023-03-29T11:20:48.214Z"
   },
   {
    "duration": 90,
    "start_time": "2023-03-29T11:22:11.001Z"
   },
   {
    "duration": 14,
    "start_time": "2023-03-29T11:29:29.338Z"
   },
   {
    "duration": 515,
    "start_time": "2023-03-29T11:29:35.201Z"
   },
   {
    "duration": 664,
    "start_time": "2023-03-29T11:29:56.760Z"
   },
   {
    "duration": 19,
    "start_time": "2023-03-29T11:32:41.946Z"
   },
   {
    "duration": 135,
    "start_time": "2023-03-29T11:32:42.630Z"
   },
   {
    "duration": 30,
    "start_time": "2023-03-29T11:32:52.538Z"
   },
   {
    "duration": 15,
    "start_time": "2023-03-29T11:37:01.632Z"
   },
   {
    "duration": 71,
    "start_time": "2023-03-29T11:37:50.386Z"
   },
   {
    "duration": 719157,
    "start_time": "2023-03-29T11:38:10.677Z"
   },
   {
    "duration": 6,
    "start_time": "2023-03-29T11:50:09.836Z"
   },
   {
    "duration": 23,
    "start_time": "2023-03-29T11:50:09.844Z"
   },
   {
    "duration": 69,
    "start_time": "2023-03-29T11:51:13.901Z"
   },
   {
    "duration": 159,
    "start_time": "2023-03-29T11:51:16.211Z"
   },
   {
    "duration": 4,
    "start_time": "2023-03-29T11:51:16.807Z"
   },
   {
    "duration": 56,
    "start_time": "2023-03-29T11:59:52.740Z"
   },
   {
    "duration": 13293,
    "start_time": "2023-03-30T09:21:28.015Z"
   },
   {
    "duration": 4401,
    "start_time": "2023-03-30T09:21:41.326Z"
   },
   {
    "duration": 2426,
    "start_time": "2023-03-30T09:21:45.729Z"
   },
   {
    "duration": 13490,
    "start_time": "2023-03-30T09:21:48.158Z"
   },
   {
    "duration": 5,
    "start_time": "2023-03-30T09:22:01.650Z"
   },
   {
    "duration": 705,
    "start_time": "2023-03-30T09:22:01.657Z"
   },
   {
    "duration": 359,
    "start_time": "2023-03-30T09:22:02.369Z"
   },
   {
    "duration": 1679,
    "start_time": "2023-03-30T09:22:02.730Z"
   },
   {
    "duration": 4836,
    "start_time": "2023-03-30T09:22:04.417Z"
   },
   {
    "duration": 3,
    "start_time": "2023-03-30T09:22:09.257Z"
   },
   {
    "duration": 2332,
    "start_time": "2023-03-30T09:22:09.264Z"
   },
   {
    "duration": 1495,
    "start_time": "2023-03-30T09:22:11.598Z"
   },
   {
    "duration": 1447,
    "start_time": "2023-03-30T09:22:13.103Z"
   },
   {
    "duration": 9909,
    "start_time": "2023-03-30T09:22:14.564Z"
   },
   {
    "duration": 21,
    "start_time": "2023-03-30T09:22:24.475Z"
   },
   {
    "duration": 324,
    "start_time": "2023-03-30T09:22:24.506Z"
   },
   {
    "duration": 121,
    "start_time": "2023-03-30T09:22:24.833Z"
   },
   {
    "duration": 310,
    "start_time": "2023-03-30T09:22:24.961Z"
   },
   {
    "duration": 188,
    "start_time": "2023-03-30T09:22:25.275Z"
   },
   {
    "duration": 226,
    "start_time": "2023-03-30T09:22:25.465Z"
   },
   {
    "duration": 335,
    "start_time": "2023-03-30T09:22:25.693Z"
   },
   {
    "duration": 7,
    "start_time": "2023-03-30T09:22:26.032Z"
   },
   {
    "duration": 298,
    "start_time": "2023-03-30T09:22:26.041Z"
   },
   {
    "duration": 12,
    "start_time": "2023-03-30T09:22:26.342Z"
   },
   {
    "duration": 14,
    "start_time": "2023-03-30T09:22:26.356Z"
   },
   {
    "duration": 89,
    "start_time": "2023-03-30T09:22:26.372Z"
   },
   {
    "duration": 296,
    "start_time": "2023-03-30T09:22:26.464Z"
   },
   {
    "duration": 27,
    "start_time": "2023-03-30T09:22:26.765Z"
   },
   {
    "duration": 161,
    "start_time": "2023-03-30T09:22:26.794Z"
   },
   {
    "duration": 19,
    "start_time": "2023-03-30T09:22:26.957Z"
   },
   {
    "duration": 539,
    "start_time": "2023-03-30T09:22:26.988Z"
   },
   {
    "duration": 489,
    "start_time": "2023-03-30T09:22:27.529Z"
   },
   {
    "duration": 662,
    "start_time": "2023-03-30T09:22:28.023Z"
   },
   {
    "duration": 323,
    "start_time": "2023-03-30T09:22:28.694Z"
   },
   {
    "duration": 8,
    "start_time": "2023-03-30T09:22:29.022Z"
   },
   {
    "duration": 130,
    "start_time": "2023-03-30T09:22:29.033Z"
   },
   {
    "duration": 13,
    "start_time": "2023-03-30T09:22:29.167Z"
   },
   {
    "duration": 73,
    "start_time": "2023-03-30T09:22:29.182Z"
   },
   {
    "duration": 61,
    "start_time": "2023-03-30T09:22:29.257Z"
   },
   {
    "duration": 58,
    "start_time": "2023-03-30T09:22:29.320Z"
   },
   {
    "duration": 133,
    "start_time": "2023-03-30T09:22:29.382Z"
   },
   {
    "duration": 5,
    "start_time": "2023-03-30T09:22:29.517Z"
   },
   {
    "duration": 82,
    "start_time": "2023-03-30T09:22:29.524Z"
   },
   {
    "duration": 103,
    "start_time": "2023-03-30T09:22:29.608Z"
   },
   {
    "duration": 6,
    "start_time": "2023-03-30T09:22:29.716Z"
   },
   {
    "duration": 126,
    "start_time": "2023-03-30T09:22:29.727Z"
   },
   {
    "duration": 91,
    "start_time": "2023-03-30T09:22:29.859Z"
   },
   {
    "duration": 108,
    "start_time": "2023-03-30T09:22:29.954Z"
   },
   {
    "duration": 91,
    "start_time": "2023-03-30T09:22:30.067Z"
   },
   {
    "duration": 464,
    "start_time": "2023-03-30T09:22:30.161Z"
   },
   {
    "duration": 407,
    "start_time": "2023-03-30T09:22:30.627Z"
   },
   {
    "duration": 13,
    "start_time": "2023-03-30T09:22:31.036Z"
   },
   {
    "duration": 213,
    "start_time": "2023-03-30T09:22:31.051Z"
   },
   {
    "duration": 87,
    "start_time": "2023-03-30T09:22:31.266Z"
   },
   {
    "duration": 61,
    "start_time": "2023-03-30T09:22:31.355Z"
   },
   {
    "duration": 101,
    "start_time": "2023-03-30T09:22:31.418Z"
   },
   {
    "duration": 303,
    "start_time": "2023-03-30T09:22:31.524Z"
   },
   {
    "duration": 7,
    "start_time": "2023-03-30T09:22:31.833Z"
   },
   {
    "duration": 167,
    "start_time": "2023-03-30T09:22:31.846Z"
   },
   {
    "duration": 64,
    "start_time": "2023-03-30T09:22:32.020Z"
   },
   {
    "duration": 3285944,
    "start_time": "2023-03-30T09:22:32.087Z"
   },
   {
    "duration": 0,
    "start_time": "2023-03-30T10:17:18.040Z"
   },
   {
    "duration": 0,
    "start_time": "2023-03-30T10:17:18.042Z"
   },
   {
    "duration": 0,
    "start_time": "2023-03-30T10:17:18.043Z"
   },
   {
    "duration": 0,
    "start_time": "2023-03-30T10:17:18.045Z"
   },
   {
    "duration": 0,
    "start_time": "2023-03-30T10:17:18.047Z"
   },
   {
    "duration": 0,
    "start_time": "2023-03-30T10:17:18.049Z"
   },
   {
    "duration": 0,
    "start_time": "2023-03-30T10:17:18.051Z"
   },
   {
    "duration": 0,
    "start_time": "2023-03-30T10:17:18.053Z"
   },
   {
    "duration": 1,
    "start_time": "2023-03-30T10:17:18.054Z"
   },
   {
    "duration": 0,
    "start_time": "2023-03-30T10:17:18.056Z"
   },
   {
    "duration": 0,
    "start_time": "2023-03-30T10:17:18.057Z"
   },
   {
    "duration": 0,
    "start_time": "2023-03-30T10:17:18.057Z"
   },
   {
    "duration": 0,
    "start_time": "2023-03-30T10:17:18.060Z"
   },
   {
    "duration": 0,
    "start_time": "2023-03-30T10:17:18.061Z"
   },
   {
    "duration": 0,
    "start_time": "2023-03-30T10:17:18.063Z"
   },
   {
    "duration": 0,
    "start_time": "2023-03-30T10:17:18.100Z"
   },
   {
    "duration": 0,
    "start_time": "2023-03-30T10:17:18.101Z"
   },
   {
    "duration": 0,
    "start_time": "2023-03-30T10:17:18.103Z"
   },
   {
    "duration": 0,
    "start_time": "2023-03-30T10:17:18.104Z"
   },
   {
    "duration": 0,
    "start_time": "2023-03-30T10:17:18.110Z"
   },
   {
    "duration": 0,
    "start_time": "2023-03-30T10:17:18.112Z"
   },
   {
    "duration": 0,
    "start_time": "2023-03-30T10:17:18.113Z"
   },
   {
    "duration": 7,
    "start_time": "2023-03-30T10:17:26.740Z"
   },
   {
    "duration": 291,
    "start_time": "2023-03-30T10:17:29.183Z"
   },
   {
    "duration": 726169,
    "start_time": "2023-03-30T10:17:31.716Z"
   },
   {
    "duration": 105,
    "start_time": "2023-03-30T10:29:45.891Z"
   },
   {
    "duration": 26,
    "start_time": "2023-03-30T10:29:48.793Z"
   },
   {
    "duration": 49902,
    "start_time": "2023-06-25T07:59:31.599Z"
   },
   {
    "duration": 17398,
    "start_time": "2023-06-25T08:00:21.504Z"
   },
   {
    "duration": 11204,
    "start_time": "2023-06-25T08:00:38.903Z"
   },
   {
    "duration": 34189,
    "start_time": "2023-06-25T08:00:50.116Z"
   },
   {
    "duration": 96,
    "start_time": "2023-06-25T08:01:24.310Z"
   },
   {
    "duration": 2896,
    "start_time": "2023-06-25T08:01:24.407Z"
   },
   {
    "duration": 698,
    "start_time": "2023-06-25T08:01:27.304Z"
   },
   {
    "duration": 8693,
    "start_time": "2023-06-25T08:01:28.009Z"
   },
   {
    "duration": 5097,
    "start_time": "2023-06-25T08:01:36.704Z"
   },
   {
    "duration": 3,
    "start_time": "2023-06-25T08:01:41.803Z"
   },
   {
    "duration": 14994,
    "start_time": "2023-06-25T08:01:41.807Z"
   },
   {
    "duration": 1896,
    "start_time": "2023-06-25T08:01:56.805Z"
   },
   {
    "duration": 6903,
    "start_time": "2023-06-25T08:01:58.703Z"
   },
   {
    "duration": 18493,
    "start_time": "2023-06-25T08:02:05.609Z"
   },
   {
    "duration": 4,
    "start_time": "2023-06-25T08:02:24.110Z"
   },
   {
    "duration": 1787,
    "start_time": "2023-06-25T08:02:24.116Z"
   },
   {
    "duration": 296,
    "start_time": "2023-06-25T08:02:25.904Z"
   },
   {
    "duration": 1508,
    "start_time": "2023-06-25T08:02:26.201Z"
   },
   {
    "duration": 394,
    "start_time": "2023-06-25T08:02:27.714Z"
   },
   {
    "duration": 1190,
    "start_time": "2023-06-25T08:02:28.116Z"
   },
   {
    "duration": 1902,
    "start_time": "2023-06-25T08:02:29.308Z"
   },
   {
    "duration": 86,
    "start_time": "2023-06-25T08:02:31.214Z"
   },
   {
    "duration": 1705,
    "start_time": "2023-06-25T08:02:31.301Z"
   },
   {
    "duration": 93,
    "start_time": "2023-06-25T08:02:33.008Z"
   },
   {
    "duration": 10,
    "start_time": "2023-06-25T08:02:33.103Z"
   },
   {
    "duration": 284,
    "start_time": "2023-06-25T08:02:33.118Z"
   },
   {
    "duration": 1600,
    "start_time": "2023-06-25T08:02:33.403Z"
   },
   {
    "duration": 108,
    "start_time": "2023-06-25T08:02:35.006Z"
   },
   {
    "duration": 700,
    "start_time": "2023-06-25T08:02:35.116Z"
   },
   {
    "duration": 179,
    "start_time": "2023-06-25T08:02:35.822Z"
   },
   {
    "duration": 3298,
    "start_time": "2023-06-25T08:02:36.002Z"
   },
   {
    "duration": 2801,
    "start_time": "2023-06-25T08:02:39.302Z"
   },
   {
    "duration": 3011,
    "start_time": "2023-06-25T08:02:42.107Z"
   },
   {
    "duration": 1982,
    "start_time": "2023-06-25T08:02:45.119Z"
   },
   {
    "duration": 93,
    "start_time": "2023-06-25T08:02:47.107Z"
   },
   {
    "duration": 605,
    "start_time": "2023-06-25T08:02:47.206Z"
   },
   {
    "duration": 3,
    "start_time": "2023-06-25T08:02:47.813Z"
   },
   {
    "duration": 193,
    "start_time": "2023-06-25T08:02:47.818Z"
   },
   {
    "duration": 601,
    "start_time": "2023-06-25T08:02:48.013Z"
   },
   {
    "duration": 190,
    "start_time": "2023-06-25T08:02:48.615Z"
   },
   {
    "duration": 486,
    "start_time": "2023-06-25T08:02:48.822Z"
   },
   {
    "duration": 90,
    "start_time": "2023-06-25T08:02:49.317Z"
   },
   {
    "duration": 595,
    "start_time": "2023-06-25T08:02:49.412Z"
   },
   {
    "duration": 401,
    "start_time": "2023-06-25T08:02:50.013Z"
   },
   {
    "duration": 108,
    "start_time": "2023-06-25T08:02:50.501Z"
   },
   {
    "duration": 598,
    "start_time": "2023-06-25T08:02:50.610Z"
   },
   {
    "duration": 499,
    "start_time": "2023-06-25T08:02:51.211Z"
   },
   {
    "duration": 404,
    "start_time": "2023-06-25T08:02:51.799Z"
   },
   {
    "duration": 599,
    "start_time": "2023-06-25T08:02:52.205Z"
   },
   {
    "duration": 2789,
    "start_time": "2023-06-25T08:02:52.811Z"
   },
   {
    "duration": 2306,
    "start_time": "2023-06-25T08:02:55.602Z"
   },
   {
    "duration": 191,
    "start_time": "2023-06-25T08:02:57.909Z"
   },
   {
    "duration": 498,
    "start_time": "2023-06-25T08:02:58.102Z"
   },
   {
    "duration": 301,
    "start_time": "2023-06-25T08:02:58.602Z"
   },
   {
    "duration": 398,
    "start_time": "2023-06-25T08:02:58.905Z"
   },
   {
    "duration": 595,
    "start_time": "2023-06-25T08:02:59.304Z"
   },
   {
    "duration": 999,
    "start_time": "2023-06-25T08:02:59.900Z"
   },
   {
    "duration": 5,
    "start_time": "2023-06-25T08:03:01.000Z"
   },
   {
    "duration": 611,
    "start_time": "2023-06-25T08:03:01.006Z"
   },
   {
    "duration": 102,
    "start_time": "2023-06-25T08:03:01.702Z"
   },
   {
    "duration": 6998,
    "start_time": "2023-06-27T03:17:01.408Z"
   },
   {
    "duration": 2339,
    "start_time": "2023-06-27T03:17:08.410Z"
   },
   {
    "duration": 1572,
    "start_time": "2023-06-27T03:17:10.751Z"
   },
   {
    "duration": 10129,
    "start_time": "2023-06-27T03:17:12.325Z"
   },
   {
    "duration": 4,
    "start_time": "2023-06-27T03:17:22.456Z"
   },
   {
    "duration": 353,
    "start_time": "2023-06-27T03:17:22.461Z"
   },
   {
    "duration": 340,
    "start_time": "2023-06-27T03:17:22.816Z"
   },
   {
    "duration": 1283,
    "start_time": "2023-06-27T03:17:23.158Z"
   },
   {
    "duration": 4884,
    "start_time": "2023-06-27T03:17:24.443Z"
   },
   {
    "duration": 3,
    "start_time": "2023-06-27T03:17:29.329Z"
   },
   {
    "duration": 1551,
    "start_time": "2023-06-27T03:17:29.334Z"
   },
   {
    "duration": 1647,
    "start_time": "2023-06-27T03:17:30.886Z"
   },
   {
    "duration": 815,
    "start_time": "2023-06-27T03:17:32.535Z"
   },
   {
    "duration": 8084,
    "start_time": "2023-06-27T03:17:33.355Z"
   },
   {
    "duration": 6,
    "start_time": "2023-06-27T03:17:41.441Z"
   },
   {
    "duration": 205,
    "start_time": "2023-06-27T03:17:41.449Z"
   },
   {
    "duration": 9,
    "start_time": "2023-06-27T03:17:41.657Z"
   },
   {
    "duration": 242,
    "start_time": "2023-06-27T03:17:41.668Z"
   },
   {
    "duration": 82,
    "start_time": "2023-06-27T03:17:41.912Z"
   },
   {
    "duration": 224,
    "start_time": "2023-06-27T03:17:41.996Z"
   },
   {
    "duration": 309,
    "start_time": "2023-06-27T03:17:42.223Z"
   },
   {
    "duration": 5,
    "start_time": "2023-06-27T03:17:42.534Z"
   },
   {
    "duration": 222,
    "start_time": "2023-06-27T03:17:42.542Z"
   },
   {
    "duration": 7,
    "start_time": "2023-06-27T03:17:42.766Z"
   },
   {
    "duration": 27,
    "start_time": "2023-06-27T03:17:42.775Z"
   },
   {
    "duration": 21,
    "start_time": "2023-06-27T03:17:42.804Z"
   },
   {
    "duration": 231,
    "start_time": "2023-06-27T03:17:42.828Z"
   },
   {
    "duration": 19,
    "start_time": "2023-06-27T03:17:43.061Z"
   },
   {
    "duration": 118,
    "start_time": "2023-06-27T03:17:43.082Z"
   },
   {
    "duration": 19,
    "start_time": "2023-06-27T03:17:43.202Z"
   },
   {
    "duration": 384,
    "start_time": "2023-06-27T03:17:43.224Z"
   },
   {
    "duration": 385,
    "start_time": "2023-06-27T03:17:43.610Z"
   },
   {
    "duration": 449,
    "start_time": "2023-06-27T03:17:43.997Z"
   },
   {
    "duration": 267,
    "start_time": "2023-06-27T03:17:44.447Z"
   },
   {
    "duration": 8,
    "start_time": "2023-06-27T03:17:44.716Z"
   },
   {
    "duration": 79,
    "start_time": "2023-06-27T03:17:44.734Z"
   },
   {
    "duration": 3,
    "start_time": "2023-06-27T03:17:44.815Z"
   },
   {
    "duration": 13,
    "start_time": "2023-06-27T03:17:44.820Z"
   },
   {
    "duration": 38,
    "start_time": "2023-06-27T03:17:44.835Z"
   },
   {
    "duration": 22,
    "start_time": "2023-06-27T03:17:44.875Z"
   },
   {
    "duration": 86,
    "start_time": "2023-06-27T03:17:44.902Z"
   },
   {
    "duration": 4,
    "start_time": "2023-06-27T03:17:44.990Z"
   },
   {
    "duration": 127,
    "start_time": "2023-06-27T03:17:44.996Z"
   },
   {
    "duration": 74,
    "start_time": "2023-06-27T03:17:45.125Z"
   },
   {
    "duration": 4,
    "start_time": "2023-06-27T03:17:45.201Z"
   },
   {
    "duration": 119,
    "start_time": "2023-06-27T03:17:45.208Z"
   },
   {
    "duration": 69,
    "start_time": "2023-06-27T03:17:45.331Z"
   },
   {
    "duration": 89,
    "start_time": "2023-06-27T03:17:45.402Z"
   },
   {
    "duration": 80,
    "start_time": "2023-06-27T03:17:45.493Z"
   },
   {
    "duration": 294,
    "start_time": "2023-06-27T03:17:45.574Z"
   },
   {
    "duration": 276,
    "start_time": "2023-06-27T03:17:45.870Z"
   },
   {
    "duration": 10,
    "start_time": "2023-06-27T03:17:46.148Z"
   },
   {
    "duration": 9,
    "start_time": "2023-06-27T03:17:46.161Z"
   },
   {
    "duration": 20,
    "start_time": "2023-06-27T03:17:46.173Z"
   },
   {
    "duration": 11,
    "start_time": "2023-06-27T03:17:46.196Z"
   },
   {
    "duration": 49,
    "start_time": "2023-06-27T03:17:46.209Z"
   },
   {
    "duration": 104,
    "start_time": "2023-06-27T03:17:46.261Z"
   },
   {
    "duration": 4,
    "start_time": "2023-06-27T03:17:46.368Z"
   },
   {
    "duration": 27,
    "start_time": "2023-06-27T03:17:46.374Z"
   },
   {
    "duration": 29,
    "start_time": "2023-06-27T03:17:46.403Z"
   },
   {
    "duration": 5555304,
    "start_time": "2023-06-27T03:17:46.434Z"
   },
   {
    "duration": 90,
    "start_time": "2023-06-27T04:50:21.742Z"
   },
   {
    "duration": 29,
    "start_time": "2023-06-27T04:50:21.835Z"
   },
   {
    "duration": 2040510,
    "start_time": "2023-06-27T04:50:21.866Z"
   },
   {
    "duration": 2,
    "start_time": "2023-06-27T05:24:22.378Z"
   },
   {
    "duration": 9,
    "start_time": "2023-06-27T05:24:22.381Z"
   },
   {
    "duration": 232,
    "start_time": "2023-06-27T05:24:22.391Z"
   },
   {
    "duration": 6539927,
    "start_time": "2023-06-27T05:24:22.625Z"
   },
   {
    "duration": 3,
    "start_time": "2023-06-27T07:13:22.555Z"
   },
   {
    "duration": 11,
    "start_time": "2023-06-27T07:13:22.560Z"
   },
   {
    "duration": 66,
    "start_time": "2023-06-27T07:13:22.572Z"
   },
   {
    "duration": 486,
    "start_time": "2023-06-27T07:13:22.640Z"
   },
   {
    "duration": 29,
    "start_time": "2023-06-27T07:13:23.131Z"
   },
   {
    "duration": 131,
    "start_time": "2023-06-27T07:13:23.161Z"
   },
   {
    "duration": 0,
    "start_time": "2023-06-27T07:13:23.293Z"
   },
   {
    "duration": 0,
    "start_time": "2023-06-27T07:13:23.294Z"
   },
   {
    "duration": 0,
    "start_time": "2023-06-27T07:13:23.295Z"
   },
   {
    "duration": 0,
    "start_time": "2023-06-27T07:13:23.296Z"
   },
   {
    "duration": 0,
    "start_time": "2023-06-27T07:13:23.297Z"
   },
   {
    "duration": 0,
    "start_time": "2023-06-27T07:13:23.298Z"
   },
   {
    "duration": 0,
    "start_time": "2023-06-27T07:13:23.299Z"
   },
   {
    "duration": 0,
    "start_time": "2023-06-27T07:13:23.300Z"
   },
   {
    "duration": 0,
    "start_time": "2023-06-27T07:13:23.301Z"
   },
   {
    "duration": 9,
    "start_time": "2023-06-27T07:23:21.308Z"
   },
   {
    "duration": 5,
    "start_time": "2023-06-27T07:23:28.118Z"
   },
   {
    "duration": 13,
    "start_time": "2023-06-27T07:24:10.409Z"
   },
   {
    "duration": 14,
    "start_time": "2023-06-27T07:24:21.040Z"
   },
   {
    "duration": 130,
    "start_time": "2023-06-27T07:24:25.904Z"
   },
   {
    "duration": 16,
    "start_time": "2023-06-27T07:25:03.219Z"
   },
   {
    "duration": 113,
    "start_time": "2023-06-27T07:25:03.772Z"
   },
   {
    "duration": 62,
    "start_time": "2023-06-27T07:25:11.527Z"
   },
   {
    "duration": 637176,
    "start_time": "2023-06-27T07:25:11.911Z"
   },
   {
    "duration": 2,
    "start_time": "2023-06-27T07:35:49.089Z"
   },
   {
    "duration": 28,
    "start_time": "2023-06-27T07:35:49.092Z"
   },
   {
    "duration": 62,
    "start_time": "2023-06-27T07:35:49.122Z"
   },
   {
    "duration": 149,
    "start_time": "2023-06-27T07:35:49.186Z"
   },
   {
    "duration": 3,
    "start_time": "2023-06-27T07:35:49.337Z"
   }
  ],
  "kernelspec": {
   "display_name": "Python 3 (ipykernel)",
   "language": "python",
   "name": "python3"
  },
  "language_info": {
   "codemirror_mode": {
    "name": "ipython",
    "version": 3
   },
   "file_extension": ".py",
   "mimetype": "text/x-python",
   "name": "python",
   "nbconvert_exporter": "python",
   "pygments_lexer": "ipython3",
   "version": "3.9.5"
  },
  "toc": {
   "base_numbering": 1,
   "nav_menu": {},
   "number_sections": false,
   "sideBar": true,
   "skip_h1_title": false,
   "title_cell": "Table of Contents",
   "title_sidebar": "Contents",
   "toc_cell": false,
   "toc_position": {},
   "toc_section_display": true,
   "toc_window_display": false
  },
  "varInspector": {
   "cols": {
    "lenName": 16,
    "lenType": 16,
    "lenVar": 40
   },
   "kernels_config": {
    "python": {
     "delete_cmd_postfix": "",
     "delete_cmd_prefix": "del ",
     "library": "var_list.py",
     "varRefreshCmd": "print(var_dic_list())"
    },
    "r": {
     "delete_cmd_postfix": ") ",
     "delete_cmd_prefix": "rm(",
     "library": "var_list.r",
     "varRefreshCmd": "cat(var_dic_list()) "
    }
   },
   "types_to_exclude": [
    "module",
    "function",
    "builtin_function_or_method",
    "instance",
    "_Feature"
   ],
   "window_display": false
  }
 },
 "nbformat": 4,
 "nbformat_minor": 5
}
