{
 "cells": [
  {
   "cell_type": "markdown",
   "metadata": {},
   "source": [
    "<h1> Комментарий ревьюера </h1>\n",
    "\n",
    "Привет, Глеб!\n",
    "Меня зовут Виктория Ильина, и я буду проверять твой проект. Предлагаю общаться на \"ты\", но если тебе будет не комфортно, обязательно сообщи и мы перейдем на \"вы\". \n",
    "\n",
    "Моя основная цель - не указать на совершённые тобой ошибки, а поделиться своим опытом и помочь тебе стать специалистом по Data Science. Ты уже проделал большую работу над проектом, но давай сделаем его ещё лучше. Ниже ты найдёшь мои комментарии - пожалуйста, не перемещай, не изменяй и не удаляй их. Я буду использовать различные цвета, чтобы было легче воспринимать мои комментарии:\n",
    "\n",
    "<div class=\"alert alert-block alert-danger\">\n",
    "<b>Комментарий ревьюера❌:</b> Так выделены самые важные замечания. Без их отработки проект не будет принят.\n",
    "</div>\n",
    "\n",
    "<div class=\"alert alert-block alert-warning\">\n",
    "<b>Комментарий ревьюера🤔:</b> Так выделены небольшие замечания. Одно-два таких замечания в проекте допустимы, но если их будет больше - тебе будет необходимо внести исправления. Однако, если перед нами стоит цель не просто сдать проект и забыть, а приобрести новые знания и успешно применять их в будущем, я бы всё-таки рекомендовала тебе прорабатывать эти недочёты.\n",
    "</div>\n",
    "    \n",
    "<div class=\"alert alert-block alert-success\">\n",
    "<b>Комментарий ревьюера👍:</b> Так я выделю все остальные комментарии.\n",
    "</div>\n",
    "    \n",
    "Давай работать над проектом в диалоге: если ты что-то меняешь в проекте или отвечаешь на мои комментарии - пиши об этом. Мне будет легче отследить изменения, если ты выделишь свои комментарии:\n",
    "\n",
    "<div class=\"alert alert-block alert-info\">\n",
    "<b>Комментарий студента:</b> Например, вот так.\n",
    "</div>\n",
    "\n",
    "Давай посмотрим, что получилось!"
   ]
  },
  {
   "cell_type": "markdown",
   "metadata": {
    "toc": true
   },
   "source": [
    "<h1>Содержание<span class=\"tocSkip\"></span></h1>\n",
    "<div class=\"toc\"><ul class=\"toc-item\"><li><span><a href=\"#Загрузка-данных\" data-toc-modified-id=\"Загрузка-данных-1\"><span class=\"toc-item-num\">1&nbsp;&nbsp;</span>Загрузка данных</a></span></li><li><span><a href=\"#Умножение-матриц\" data-toc-modified-id=\"Умножение-матриц-2\"><span class=\"toc-item-num\">2&nbsp;&nbsp;</span>Умножение матриц</a></span></li><li><span><a href=\"#Алгоритм-преобразования\" data-toc-modified-id=\"Алгоритм-преобразования-3\"><span class=\"toc-item-num\">3&nbsp;&nbsp;</span>Алгоритм преобразования</a></span></li><li><span><a href=\"#Проверка-алгоритма\" data-toc-modified-id=\"Проверка-алгоритма-4\"><span class=\"toc-item-num\">4&nbsp;&nbsp;</span>Проверка алгоритма</a></span></li><li><span><a href=\"#Чек-лист-проверки\" data-toc-modified-id=\"Чек-лист-проверки-5\"><span class=\"toc-item-num\">5&nbsp;&nbsp;</span>Чек-лист проверки</a></span></li></ul></div>"
   ]
  },
  {
   "cell_type": "markdown",
   "metadata": {},
   "source": [
    "# Защита персональных данных клиентов"
   ]
  },
  {
   "cell_type": "markdown",
   "metadata": {},
   "source": [
    "Вам нужно защитить данные клиентов страховой компании «Хоть потоп». Разработайте такой метод преобразования данных, чтобы по ним было сложно восстановить персональную информацию. Обоснуйте корректность его работы.\n",
    "\n",
    "Нужно защитить данные, чтобы при преобразовании качество моделей машинного обучения не ухудшилось. Подбирать наилучшую модель не требуется."
   ]
  },
  {
   "cell_type": "markdown",
   "metadata": {},
   "source": [
    "## Загрузка данных"
   ]
  },
  {
   "cell_type": "code",
   "execution_count": 31,
   "metadata": {},
   "outputs": [],
   "source": [
    "import pandas as pd\n",
    "import numpy as np\n",
    "import random\n",
    "from numpy.linalg import inv\n",
    "from sklearn.model_selection import train_test_split\n",
    "from sklearn.linear_model import LinearRegression\n",
    "\n",
    "from sklearn.preprocessing import StandardScaler"
   ]
  },
  {
   "cell_type": "code",
   "execution_count": 2,
   "metadata": {},
   "outputs": [],
   "source": [
    "df = pd.read_csv('/datasets/insurance.csv')"
   ]
  },
  {
   "cell_type": "code",
   "execution_count": 17,
   "metadata": {},
   "outputs": [
    {
     "data": {
      "text/plain": [
       "Пол                  0\n",
       "Возраст              0\n",
       "Зарплата             0\n",
       "Члены семьи          0\n",
       "Страховые выплаты    0\n",
       "dtype: int64"
      ]
     },
     "execution_count": 17,
     "metadata": {},
     "output_type": "execute_result"
    }
   ],
   "source": [
    "df.isna().sum()"
   ]
  },
  {
   "cell_type": "code",
   "execution_count": 20,
   "metadata": {},
   "outputs": [
    {
     "data": {
      "text/plain": [
       "153"
      ]
     },
     "execution_count": 20,
     "metadata": {},
     "output_type": "execute_result"
    }
   ],
   "source": [
    "df.duplicated().sum()"
   ]
  },
  {
   "cell_type": "code",
   "execution_count": 24,
   "metadata": {},
   "outputs": [
    {
     "data": {
      "text/plain": [
       "0"
      ]
     },
     "execution_count": 24,
     "metadata": {},
     "output_type": "execute_result"
    }
   ],
   "source": [
    "df = df.drop_duplicates()\n",
    "df.duplicated().sum()"
   ]
  },
  {
   "cell_type": "code",
   "execution_count": 3,
   "metadata": {},
   "outputs": [],
   "source": [
    "X = df.drop('Страховые выплаты', axis=1).values\n",
    "y = df['Страховые выплаты'].values"
   ]
  },
  {
   "cell_type": "markdown",
   "metadata": {},
   "source": [
    "<div class=\"alert alert-block alert-warning\">\n",
    "<b>Комментарий ревьюера🤔:</b> Отсутствует промежуточный вывод и твои комментарии по поводу загруженных данных\n",
    "</div>\n",
    "    "
   ]
  },
  {
   "cell_type": "markdown",
   "metadata": {},
   "source": [
    "<div class=\"alert alert-block alert-info\">\n",
    "При изучении датасета найдены дубликаты, которые удалены. \n",
    "</div>"
   ]
  },
  {
   "cell_type": "markdown",
   "metadata": {},
   "source": [
    "<div class=\"alert alert-block alert-success\">\n",
    "<b>Комментарий ревьюера V.2👍:</b> Тут вот какой нюанс - у нас нет однозначного идентификатора клиента типа id или ФИО, соответственно мы не можем со 100% уверенностью утверждать, что все совпадения являются дубликатами\n",
    "</div>\n",
    "    "
   ]
  },
  {
   "cell_type": "markdown",
   "metadata": {},
   "source": [
    "## Умножение матриц"
   ]
  },
  {
   "cell_type": "markdown",
   "metadata": {},
   "source": [
    "В этом задании вы можете записывать формулы в *Jupyter Notebook.*\n",
    "\n",
    "Чтобы записать формулу внутри текста, окружите её символами доллара \\\\$; если снаружи —  двойными символами \\\\$\\\\$. Эти формулы записываются на языке вёрстки *LaTeX.* \n",
    "\n",
    "Для примера мы записали формулы линейной регрессии. Можете их скопировать и отредактировать, чтобы решить задачу.\n",
    "\n",
    "Работать в *LaTeX* необязательно."
   ]
  },
  {
   "cell_type": "markdown",
   "metadata": {},
   "source": [
    "Обозначения:\n",
    "\n",
    "- $X$ — матрица признаков (нулевой столбец состоит из единиц)\n",
    "\n",
    "- $y$ — вектор целевого признака\n",
    "\n",
    "- $P$ — матрица, на которую умножаются признаки\n",
    "\n",
    "- $w$ — вектор весов линейной регрессии (нулевой элемент равен сдвигу)"
   ]
  },
  {
   "cell_type": "markdown",
   "metadata": {},
   "source": [
    "Предсказания:\n",
    "\n",
    "$$\n",
    "a = Xw\n",
    "$$\n",
    "\n",
    "Задача обучения:\n",
    "\n",
    "$$\n",
    "w = \\arg\\min_w MSE(Xw, y)\n",
    "$$\n",
    "\n",
    "Формула обучения:\n",
    "\n",
    "$$\n",
    "w = (X^T X)^{-1} X^T y\n",
    "$$"
   ]
  },
  {
   "cell_type": "markdown",
   "metadata": {},
   "source": [
    "**Ответ:** Я не совсем понял, какую задачу мне надо решить\n",
    "\n",
    "**Обоснование:** ..."
   ]
  },
  {
   "cell_type": "markdown",
   "metadata": {},
   "source": [
    "<div class=\"alert alert-block alert-danger\">\n",
    "<b>Комментарий ревьюера❌:</b> В данном задании нам нужно доказать, что при домножении на случайную обратимую матрицу качество регрессии не поменяется. Смотри обратная матрица существует только если матрица квадратная. Соответственно если у нас изначально $a = Xw = X(X^T X)^{-1} X^T y$  все выражение в скобочках квадратное. После этого мы домножаем на P и получаем $a' = XP((XP)^T XP)^{-1} (XP)^T y$. Насчёт матрицы P мы уверены, что она квадратная, так как мы сами её создали и проверили её на обратимость поэтому когда мы домножили на неё, то мы можем  выносить её за скобки, но мы не знаем является ли матрица признаков квадратной, мы знаем только что матрица полученная в результате умножения квадратная, поэтому мы не можем разделить $X$ и $X^T$.\n",
    "    \n",
    "Поэтому решение должно быть следующее:\n",
    "$$\n",
    "a = X(X^T X)^{-1} X^T y\n",
    "$$\n",
    "$$\n",
    "a' = XP((XP)^T XP)^{-1} (XP)^T y\n",
    "$$\n",
    "$$\n",
    "a' = XP(P^T (X^T X) P)^{-1} (XP)^T y\n",
    "$$\n",
    "$$\n",
    "a' = XP(P^T (X^T X) P)^{-1} P^T X^T y\n",
    "$$\n",
    "и т.д.\n",
    "    \n",
    "тебе нужно доказать, что $a'=a$\n",
    "   \n",
    "</div>"
   ]
  },
  {
   "cell_type": "markdown",
   "metadata": {},
   "source": [
    "<div class=\"alert alert-block alert-info\">\n",
    "Спасибо теперь я понял. \n",
    "\n",
    "    \n",
    "Линейная регрессия предсказывает по следующей формуле:      \n",
    "$$\n",
    "a = X(X^T X)^{-1} X^T y\n",
    "$$\n",
    "    \n",
    "Домножим $X$ на случайную обратимую матрицу $P$ (так как матрица $P$ обратима, то для нее справедливо следующая формула: $E = P*P^{-1}$, где $E$ это единичная матрица.\n",
    "    \n",
    "$$\n",
    "a' = XP((XP)^T XP)^{-1} (XP)^T y\n",
    "$$\n",
    "$$\n",
    "a' = XP(P^T (X^T X) P)^{-1} (XP)^T y\n",
    "$$\n",
    "$$\n",
    "a' = XP(P^T (X^T X) P)^{-1} P^T X^T y\n",
    "$$\n",
    "$$\n",
    "a' = XPP^{-1}(X^TX)^{-1}(P^T)^{-1}P^T X^T y\n",
    "$$\n",
    "Где $(PP^{-1}) и P^{T}(P^{T})^{-1}$ - это единичные матрицы, а значит:    \n",
    "$$    \n",
    "a' = XE(X^TX)^{-1}EX^Ty)\n",
    "$$\n",
    "$$\n",
    "XE(X^TX)^{-1}EX^Ty = X(X^TX)^{-1}X^Ty\n",
    "$$\n",
    "$$\n",
    "a' = a\n",
    "$$"
   ]
  },
  {
   "cell_type": "markdown",
   "metadata": {},
   "source": [
    "<div class=\"alert alert-block alert-success\">\n",
    "<b>Комментарий ревьюера V.4👍:</b> Теперь верно =)\n",
    "</div>"
   ]
  },
  {
   "cell_type": "markdown",
   "metadata": {},
   "source": [
    "<div class=\"alert alert-block alert-danger\">\n",
    "<b>Комментарий ревьюера V.2❌:</b> Почти =) При раскрытии большой скобки ты забыл о следующем свойстве: $\n",
    "(AB)^{-1} = B^{-1} A^{-1}\n",
    "$\n",
    "\n",
    "Помни, что у тебя 3 множителя\n",
    "</div>"
   ]
  },
  {
   "cell_type": "markdown",
   "metadata": {},
   "source": [
    "<div class=\"alert alert-block alert-danger\">\n",
    "<b>Комментарий ревьюера V.3❌:</b> И снова нет😅. У матриц принципиален порядок множителей. Смотрим на 1ую скобку, мы должны раскрывать ее по свойству $\n",
    "(AB)^{-1} = B^{-1} A^{-1}$, но у нас три множителя:\n",
    "    \n",
    "1. $P^T$\n",
    "2. $X^T X$\n",
    "3. $P$\n",
    "    \n",
    "Соответственно третий множитель идёт на первое место ($P^{-1}$), второй остается на своём месте $(X^T X)^{-1}$, первый на третье $(P^T)^{-1}$\n",
    "    \n",
    "\n",
    "</div>"
   ]
  },
  {
   "cell_type": "markdown",
   "metadata": {},
   "source": [
    "<div class=\"alert alert-block alert-info\">\n",
    "Исправил. Видимо я пропустил тот момент, когда объясняли это свойство матриц."
   ]
  },
  {
   "cell_type": "markdown",
   "metadata": {},
   "source": [
    "<div class=\"alert alert-block alert-info\">\n",
    "\n",
    "А это будет работать только с линейной регрессией? Деревья и Байесовские методы машинного обучения, я так понимаю, должны начать работать хуже. А нейронки и логистическая регрессия?"
   ]
  },
  {
   "cell_type": "markdown",
   "metadata": {},
   "source": [
    "<div class=\"alert alert-block alert-success\">\n",
    "<b>Комментарий ревьюера V.2👍:</b> Деревья точно работают хуже, на нейронки мне кажется тоже окажет негативное влияние. С логистической регрессией нужно проверить, так как это линейная модель, то скорее всего всё должно получиться\n",
    "</div>"
   ]
  },
  {
   "cell_type": "markdown",
   "metadata": {},
   "source": [
    "## Алгоритм преобразования"
   ]
  },
  {
   "cell_type": "markdown",
   "metadata": {},
   "source": [
    "**Алгоритм**\n",
    "\n",
    "Обозначения: \n",
    "- $X$ - оригинальная матрица признаков \n",
    "- $X_1$ -  преобразованая матрица признаков\n",
    "- $const$ - случайные велечины\n",
    "\n",
    "$$\n",
    "X_1 = (X + const_1)*const_2/const_3\n",
    "$$"
   ]
  },
  {
   "cell_type": "markdown",
   "metadata": {},
   "source": [
    "**Обоснование**\n",
    "\n",
    "Почеленные арифметические действия с матрицами не влияют на соотношение данных в датасете, что важно для алгоритма, но в то же время затрудняют воспориятие данных человеком.\n"
   ]
  },
  {
   "cell_type": "markdown",
   "metadata": {},
   "source": [
    "<div class=\"alert alert-block alert-danger\">\n",
    "<b>Комментарий ревьюера❌:</b> Такой алгоритм тоже имеет право на жизнь, но в этом проекте как указано выше мы шифруем данные умножая на случайную обратимую матрицу. \n",
    "</div>"
   ]
  },
  {
   "cell_type": "markdown",
   "metadata": {},
   "source": [
    "<div class=\"alert alert-block alert-info\">\n",
    "\n",
    "**Алгоритм**\n",
    "\n",
    "Обозначения: \n",
    "- $X$ - оригинальная матрица признаков \n",
    "- $X_1$ -  преобразованая матрица признаков\n",
    "- $P$ - случайная обратимая матрица\n",
    "\n",
    "$$\n",
    "X_1 = X * P\n",
    "$$"
   ]
  },
  {
   "cell_type": "markdown",
   "metadata": {},
   "source": [
    "<div class=\"alert alert-block alert-info\">\n",
    "\n",
    "**Обоснование**\n",
    "\n",
    "Домножение матрицы признаков на случайную обратимую матрицу не должно сказаться на качестве модели, как доказано выше."
   ]
  },
  {
   "cell_type": "markdown",
   "metadata": {},
   "source": [
    "<div class=\"alert alert-block alert-success\">\n",
    "<b>Комментарий ревьюера V.2👍:</b> Верно\n",
    "</div>"
   ]
  },
  {
   "cell_type": "markdown",
   "metadata": {},
   "source": [
    "## Проверка алгоритма"
   ]
  },
  {
   "cell_type": "code",
   "execution_count": 40,
   "metadata": {},
   "outputs": [],
   "source": [
    "class TransformData():   \n",
    "    \n",
    "    def __init__(self):\n",
    "        self.y_train = None\n",
    "        self.y_test = None\n",
    "        self.new_data = None\n",
    "        self.old_data = None\n",
    "        \n",
    "    def transform(self, X, y):\n",
    "        random_matrix = np.random.randint(10, size=(X.shape[1], X.shape[1]))\n",
    "        X_train, X_test, y_train, y_test = train_test_split(X, y, test_size = 0.2)\n",
    "        self.y_train = y_train\n",
    "        self.y_test = y_test\n",
    "        self.old_data = [X_train, X_test]\n",
    "        self.new_data = [X_train @ random_matrix, X_test @ random_matrix]\n",
    "    \n",
    "    def make_predict(self):\n",
    "        scores = []\n",
    "        for X, name_data in zip([self.old_data, self.new_data], ['оригинальных данных', 'преобразованных данных']):\n",
    "            model = LinearRegression()\n",
    "            model.fit(X[0], self.y_train)\n",
    "            score = model.score(X[1], self.y_test)\n",
    "            scores.append(score)\n",
    "            print(f'Метрика для {name_data}:', score)"
   ]
  },
  {
   "cell_type": "code",
   "execution_count": 41,
   "metadata": {},
   "outputs": [
    {
     "name": "stdout",
     "output_type": "stream",
     "text": [
      "Метрика для оригинальных данных: 0.4341843951687452\n",
      "Метрика для преобразованных данных: 0.4341843951687494\n"
     ]
    }
   ],
   "source": [
    "qw = TransformData()\n",
    "qw.transform(X, y)\n",
    "qw.make_predict()"
   ]
  },
  {
   "cell_type": "markdown",
   "metadata": {},
   "source": [
    "<div class=\"alert alert-block alert-warning\">\n",
    "<b>Комментарий ревьюера🤔:</b> Нет финального вывода\n",
    "</div>\n",
    "    "
   ]
  },
  {
   "cell_type": "markdown",
   "metadata": {},
   "source": [
    "<div class=\"alert alert-block alert-success\">\n",
    "<b>Комментарий ревьюера V.2👍:</b> Верно, таким образом в случае домножения матрицы признаков на случайную обратимую матрицу можно обеспечить защиту данных, не особо потеряв в качестве модели. (Незначительное отличие вызвано особенностью преобразования матриц и чисел с плавающей точкой, это норма)\n",
    "</div>\n"
   ]
  },
  {
   "cell_type": "markdown",
   "metadata": {},
   "source": [
    "## Чек-лист проверки"
   ]
  },
  {
   "cell_type": "markdown",
   "metadata": {},
   "source": [
    "Поставьте 'x' в выполненных пунктах. Далее нажмите Shift+Enter."
   ]
  },
  {
   "cell_type": "markdown",
   "metadata": {},
   "source": [
    "- [x]  Jupyter Notebook открыт\n",
    "- [ ]  Весь код выполняется без ошибок\n",
    "- [ ]  Ячейки с кодом расположены в порядке исполнения\n",
    "- [ ]  Выполнен шаг 1: данные загружены\n",
    "- [ ]  Выполнен шаг 2: получен ответ на вопрос об умножении матриц\n",
    "    - [ ]  Указан правильный вариант ответа\n",
    "    - [ ]  Вариант обоснован\n",
    "- [ ]  Выполнен шаг 3: предложен алгоритм преобразования\n",
    "    - [ ]  Алгоритм описан\n",
    "    - [ ]  Алгоритм обоснован\n",
    "- [ ]  Выполнен шаг 4: алгоритм проверен\n",
    "    - [ ]  Алгоритм реализован\n",
    "    - [ ]  Проведено сравнение качества моделей до и после преобразования"
   ]
  },
  {
   "cell_type": "markdown",
   "metadata": {},
   "source": [
    "# Вывод"
   ]
  },
  {
   "cell_type": "markdown",
   "metadata": {},
   "source": [
    "<div class=\"alert alert-block alert-danger\">\n",
    "<b>Комментарий ревьюера❌:</b> Спасибо тебе за проделанную работу, сейчас я не могу принять твой проект, поэтому придётся ещё немного поработать:\n",
    "      \n",
    "- добавить промежуточный вывод и твои комментарии по поводу загруженных данных в разделе 1;\n",
    "- написать доказательство;\n",
    "- сделать проверку этого доказательства на практике;\n",
    "- написать финальный вывод.\n",
    "    \n",
    "До скорой встречи, если у тебя есть какие-то вопросы, то обязательно пиши =)\n",
    "    \n",
    "</div>"
   ]
  },
  {
   "cell_type": "markdown",
   "metadata": {},
   "source": [
    "<div class=\"alert alert-block alert-info\">\n",
    "В результате работы создан и проверен метод преобразования для шифровки персональных данных. Проверка этого метода показала, что его применение не влияет на качество предсказаний линейной регрессии."
   ]
  },
  {
   "cell_type": "markdown",
   "metadata": {},
   "source": [
    "<div class=\"alert alert-block alert-success\">\n",
    "<b>Комментарий ревьюера V.4👍:</b> Дополнительные материалы:\n",
    "\n",
    "Обзоры по применению криптографии в машинном обучении: https://arxiv.org/pdf/1902.04109.pdf, https://www.researchgate.net/publication/342746786_Some_Applications_of_Machine_Learning_in_Cryptography\n",
    "\n",
    "Небольшой обзор на Шифр Хилла: https://habr.com/ru/post/595281/\n",
    "    \n",
    "Ещё пара статей на эту тему:\n",
    "    \n",
    "-\thttps://medium.com/intuit-engineering/machine-learning-on-encrypted-data-no-longer-a-fantasy-58e37e9f31d7\n",
    "-\thttps://towardsdatascience.com/cryptography-crash-course-for-the-intimidated-892b7889528a\n",
    "-\thttps://towardsdatascience.com/homomorphic-encryption-machine-learning-new-business-models-2ba6a4f185d\n",
    "\n",
    "   \n",
    "Примеры использования линейной алгебры в машинном обучении:\n",
    "https://machinelearningmastery.com/examples-of-linear-algebra-in-machine-learning/\n",
    "    \n",
    "Для чего нужна математика в машинном обучении?\n",
    "https://proglib.io/p/dlya-chego-nuzhen-matematicheskiy-analiz-v-mashinnom-obuchenii-2021-02-15\n",
    "\n",
    "Большая статья по векторам:\n",
    "https://neptune.ai/blog/understanding-vectors-from-a-machine-learning-perspective  \n",
    "\n",
    "Можно ещё дополнительно посмотреть лекции от МФТИ https://www.youtube.com/playlist?list=PLk4h7dmY2eYHHTyfLyrl7HmP-H3mMAW08\n",
    "    \n",
    "Классная серия роликов по линейной алгебре на английском (можно включить автоматические русские субтитры): https://www.youtube.com/playlist?list=PLRDl2inPrWQW1QSWhBU0ki-jq_uElkh2a\n",
    "\n",
    "Удачи в будущих проектах и работе!\n",
    "</div>\n",
    "\n"
   ]
  },
  {
   "cell_type": "code",
   "execution_count": null,
   "metadata": {},
   "outputs": [],
   "source": []
  }
 ],
 "metadata": {
  "ExecuteTimeLog": [
   {
    "duration": 58,
    "start_time": "2022-12-10T09:10:41.644Z"
   },
   {
    "duration": 393,
    "start_time": "2022-12-10T09:10:55.282Z"
   },
   {
    "duration": 109,
    "start_time": "2022-12-10T09:10:55.677Z"
   },
   {
    "duration": 39,
    "start_time": "2022-12-10T09:11:29.735Z"
   },
   {
    "duration": 8,
    "start_time": "2022-12-10T09:35:39.517Z"
   },
   {
    "duration": 3,
    "start_time": "2022-12-10T09:35:46.112Z"
   },
   {
    "duration": 29,
    "start_time": "2022-12-10T09:35:47.955Z"
   },
   {
    "duration": 17,
    "start_time": "2022-12-10T09:35:48.262Z"
   },
   {
    "duration": 10,
    "start_time": "2022-12-10T09:35:53.081Z"
   },
   {
    "duration": 4,
    "start_time": "2022-12-10T09:41:43.532Z"
   },
   {
    "duration": 5,
    "start_time": "2022-12-10T09:41:49.099Z"
   },
   {
    "duration": 5,
    "start_time": "2022-12-10T09:42:19.559Z"
   },
   {
    "duration": 8,
    "start_time": "2022-12-10T09:44:48.607Z"
   },
   {
    "duration": 853,
    "start_time": "2022-12-10T09:44:57.414Z"
   },
   {
    "duration": 5,
    "start_time": "2022-12-10T09:45:12.202Z"
   },
   {
    "duration": 5,
    "start_time": "2022-12-10T09:45:22.862Z"
   },
   {
    "duration": 508,
    "start_time": "2022-12-10T09:45:34.624Z"
   },
   {
    "duration": 514,
    "start_time": "2022-12-10T09:46:20.663Z"
   },
   {
    "duration": 7,
    "start_time": "2022-12-10T09:49:35.580Z"
   },
   {
    "duration": 3,
    "start_time": "2022-12-10T09:49:55.451Z"
   },
   {
    "duration": 16388,
    "start_time": "2022-12-10T09:50:00.030Z"
   },
   {
    "duration": 17099,
    "start_time": "2022-12-10T09:51:02.749Z"
   },
   {
    "duration": 34155,
    "start_time": "2022-12-10T09:51:39.269Z"
   },
   {
    "duration": 963,
    "start_time": "2022-12-10T10:07:49.334Z"
   },
   {
    "duration": 9,
    "start_time": "2022-12-10T10:08:03.286Z"
   },
   {
    "duration": 16,
    "start_time": "2022-12-10T10:08:34.668Z"
   },
   {
    "duration": 9,
    "start_time": "2022-12-10T10:09:01.060Z"
   },
   {
    "duration": 20,
    "start_time": "2022-12-10T10:09:04.823Z"
   },
   {
    "duration": 6,
    "start_time": "2022-12-10T11:04:59.609Z"
   },
   {
    "duration": 5,
    "start_time": "2022-12-10T11:05:01.630Z"
   },
   {
    "duration": 30,
    "start_time": "2022-12-10T11:05:01.932Z"
   },
   {
    "duration": 4,
    "start_time": "2022-12-10T11:05:02.251Z"
   },
   {
    "duration": 15,
    "start_time": "2022-12-10T11:05:10.228Z"
   },
   {
    "duration": 6,
    "start_time": "2022-12-10T11:05:19.675Z"
   },
   {
    "duration": 8,
    "start_time": "2022-12-10T11:05:31.003Z"
   },
   {
    "duration": 31,
    "start_time": "2022-12-10T11:15:03.028Z"
   },
   {
    "duration": 491,
    "start_time": "2022-12-10T11:15:10.743Z"
   },
   {
    "duration": 31,
    "start_time": "2022-12-10T11:15:11.236Z"
   },
   {
    "duration": 4,
    "start_time": "2022-12-10T11:15:11.269Z"
   },
   {
    "duration": 27,
    "start_time": "2022-12-10T11:15:11.276Z"
   },
   {
    "duration": 4,
    "start_time": "2022-12-10T11:15:11.306Z"
   },
   {
    "duration": 9,
    "start_time": "2022-12-10T11:15:11.312Z"
   },
   {
    "duration": 28211,
    "start_time": "2022-12-10T11:15:11.323Z"
   },
   {
    "duration": 38196,
    "start_time": "2022-12-10T11:15:39.536Z"
   },
   {
    "duration": 853,
    "start_time": "2022-12-10T11:16:17.734Z"
   },
   {
    "duration": 5,
    "start_time": "2022-12-10T11:16:40.531Z"
   },
   {
    "duration": 23571,
    "start_time": "2022-12-10T11:16:55.948Z"
   },
   {
    "duration": 75,
    "start_time": "2022-12-10T11:18:38.744Z"
   },
   {
    "duration": 6,
    "start_time": "2022-12-10T11:18:46.466Z"
   },
   {
    "duration": 3,
    "start_time": "2022-12-10T11:18:46.936Z"
   },
   {
    "duration": 16398,
    "start_time": "2022-12-10T11:18:47.452Z"
   },
   {
    "duration": 108,
    "start_time": "2022-12-10T11:19:08.401Z"
   },
   {
    "duration": 3,
    "start_time": "2022-12-10T11:19:46.701Z"
   },
   {
    "duration": 20,
    "start_time": "2022-12-10T11:19:51.931Z"
   },
   {
    "duration": 5,
    "start_time": "2022-12-10T11:30:15.960Z"
   },
   {
    "duration": 3,
    "start_time": "2022-12-10T11:30:17.026Z"
   },
   {
    "duration": 16391,
    "start_time": "2022-12-10T11:30:17.413Z"
   },
   {
    "duration": 146151,
    "start_time": "2022-12-10T11:30:33.806Z"
   },
   {
    "duration": 6,
    "start_time": "2022-12-10T11:33:43.060Z"
   },
   {
    "duration": 4,
    "start_time": "2022-12-10T11:33:43.527Z"
   },
   {
    "duration": 16989,
    "start_time": "2022-12-10T11:33:44.093Z"
   },
   {
    "duration": 5,
    "start_time": "2022-12-10T11:34:01.084Z"
   },
   {
    "duration": 5,
    "start_time": "2022-12-10T11:34:08.900Z"
   },
   {
    "duration": 5,
    "start_time": "2022-12-10T11:34:17.264Z"
   },
   {
    "duration": 4,
    "start_time": "2022-12-10T11:34:27.184Z"
   },
   {
    "duration": 5,
    "start_time": "2022-12-10T11:34:37.006Z"
   },
   {
    "duration": 3,
    "start_time": "2022-12-10T11:39:03.075Z"
   },
   {
    "duration": 16371,
    "start_time": "2022-12-10T11:39:03.444Z"
   },
   {
    "duration": 4,
    "start_time": "2022-12-10T11:39:23.730Z"
   },
   {
    "duration": 4,
    "start_time": "2022-12-10T11:39:34.445Z"
   },
   {
    "duration": 5,
    "start_time": "2022-12-10T11:39:57.315Z"
   },
   {
    "duration": 6,
    "start_time": "2022-12-10T11:48:35.067Z"
   },
   {
    "duration": 7,
    "start_time": "2022-12-10T11:57:17.513Z"
   },
   {
    "duration": 6,
    "start_time": "2022-12-10T11:57:18.371Z"
   },
   {
    "duration": 10,
    "start_time": "2022-12-10T11:57:20.676Z"
   },
   {
    "duration": 15,
    "start_time": "2022-12-10T11:57:36.700Z"
   },
   {
    "duration": 6,
    "start_time": "2022-12-10T12:01:17.905Z"
   },
   {
    "duration": 4,
    "start_time": "2022-12-10T12:01:19.679Z"
   },
   {
    "duration": 12,
    "start_time": "2022-12-10T12:01:20.914Z"
   },
   {
    "duration": 3,
    "start_time": "2022-12-10T12:01:35.279Z"
   },
   {
    "duration": 7,
    "start_time": "2022-12-10T12:01:38.721Z"
   },
   {
    "duration": 3,
    "start_time": "2022-12-10T12:01:39.229Z"
   },
   {
    "duration": 8,
    "start_time": "2022-12-10T12:01:39.657Z"
   },
   {
    "duration": 17,
    "start_time": "2022-12-10T12:01:40.472Z"
   },
   {
    "duration": 7,
    "start_time": "2022-12-10T12:02:39.671Z"
   },
   {
    "duration": 2,
    "start_time": "2022-12-10T12:02:39.961Z"
   },
   {
    "duration": 7,
    "start_time": "2022-12-10T12:02:40.231Z"
   },
   {
    "duration": 14,
    "start_time": "2022-12-10T12:02:40.740Z"
   },
   {
    "duration": 9,
    "start_time": "2022-12-10T12:06:09.729Z"
   },
   {
    "duration": 3,
    "start_time": "2022-12-10T12:06:09.990Z"
   },
   {
    "duration": 8,
    "start_time": "2022-12-10T12:06:10.294Z"
   },
   {
    "duration": 16,
    "start_time": "2022-12-10T12:06:10.648Z"
   },
   {
    "duration": 7,
    "start_time": "2022-12-10T12:06:19.437Z"
   },
   {
    "duration": 4,
    "start_time": "2022-12-10T12:06:19.769Z"
   },
   {
    "duration": 10,
    "start_time": "2022-12-10T12:06:20.151Z"
   },
   {
    "duration": 17,
    "start_time": "2022-12-10T12:06:20.615Z"
   },
   {
    "duration": 7,
    "start_time": "2022-12-10T12:11:57.114Z"
   },
   {
    "duration": 3,
    "start_time": "2022-12-10T12:11:57.504Z"
   },
   {
    "duration": 8,
    "start_time": "2022-12-10T12:11:57.871Z"
   },
   {
    "duration": 14,
    "start_time": "2022-12-10T12:11:58.505Z"
   },
   {
    "duration": 7,
    "start_time": "2022-12-10T12:12:14.449Z"
   },
   {
    "duration": 2,
    "start_time": "2022-12-10T12:12:14.764Z"
   },
   {
    "duration": 7,
    "start_time": "2022-12-10T12:12:15.091Z"
   },
   {
    "duration": 16,
    "start_time": "2022-12-10T12:12:15.488Z"
   },
   {
    "duration": 13,
    "start_time": "2022-12-10T12:33:00.520Z"
   },
   {
    "duration": 5,
    "start_time": "2022-12-10T12:34:15.078Z"
   },
   {
    "duration": 6,
    "start_time": "2022-12-10T12:34:21.169Z"
   },
   {
    "duration": 11,
    "start_time": "2022-12-10T12:35:39.114Z"
   },
   {
    "duration": 13,
    "start_time": "2022-12-10T12:35:43.040Z"
   },
   {
    "duration": 6,
    "start_time": "2022-12-10T12:35:55.415Z"
   },
   {
    "duration": 5,
    "start_time": "2022-12-10T12:36:01.281Z"
   },
   {
    "duration": 3,
    "start_time": "2022-12-10T12:42:59.507Z"
   },
   {
    "duration": 8,
    "start_time": "2022-12-10T12:46:39.504Z"
   },
   {
    "duration": 3,
    "start_time": "2022-12-10T12:46:39.842Z"
   },
   {
    "duration": 4,
    "start_time": "2022-12-10T12:46:40.140Z"
   },
   {
    "duration": 31,
    "start_time": "2022-12-10T12:46:44.147Z"
   },
   {
    "duration": 8,
    "start_time": "2022-12-10T12:47:44.113Z"
   },
   {
    "duration": 3,
    "start_time": "2022-12-10T12:47:44.399Z"
   },
   {
    "duration": 5,
    "start_time": "2022-12-10T12:47:44.675Z"
   },
   {
    "duration": 13,
    "start_time": "2022-12-10T12:47:44.993Z"
   },
   {
    "duration": 11,
    "start_time": "2022-12-10T12:47:54.790Z"
   },
   {
    "duration": 4,
    "start_time": "2022-12-10T12:47:55.003Z"
   },
   {
    "duration": 6,
    "start_time": "2022-12-10T12:47:55.212Z"
   },
   {
    "duration": 14,
    "start_time": "2022-12-10T12:47:55.470Z"
   },
   {
    "duration": 17,
    "start_time": "2022-12-10T12:48:41.644Z"
   },
   {
    "duration": 5,
    "start_time": "2022-12-10T12:48:42.144Z"
   },
   {
    "duration": 6,
    "start_time": "2022-12-10T12:48:42.489Z"
   },
   {
    "duration": 8,
    "start_time": "2022-12-10T12:48:43.074Z"
   },
   {
    "duration": 9,
    "start_time": "2022-12-10T12:54:53.989Z"
   },
   {
    "duration": 3,
    "start_time": "2022-12-10T12:54:54.189Z"
   },
   {
    "duration": 5,
    "start_time": "2022-12-10T12:54:54.399Z"
   },
   {
    "duration": 7,
    "start_time": "2022-12-10T12:54:54.940Z"
   },
   {
    "duration": 7,
    "start_time": "2022-12-10T13:07:48.007Z"
   },
   {
    "duration": 4,
    "start_time": "2022-12-10T13:07:49.197Z"
   },
   {
    "duration": 19,
    "start_time": "2022-12-10T13:07:49.638Z"
   },
   {
    "duration": 9,
    "start_time": "2022-12-10T13:08:17.661Z"
   },
   {
    "duration": 3,
    "start_time": "2022-12-10T13:08:17.943Z"
   },
   {
    "duration": 10,
    "start_time": "2022-12-10T13:08:18.238Z"
   },
   {
    "duration": 9,
    "start_time": "2022-12-10T13:08:19.761Z"
   },
   {
    "duration": 10,
    "start_time": "2022-12-10T13:08:22.563Z"
   },
   {
    "duration": 3,
    "start_time": "2022-12-10T13:08:22.893Z"
   },
   {
    "duration": 16,
    "start_time": "2022-12-10T13:08:23.137Z"
   },
   {
    "duration": 8,
    "start_time": "2022-12-10T13:08:23.618Z"
   },
   {
    "duration": 5,
    "start_time": "2022-12-10T13:09:18.565Z"
   },
   {
    "duration": 6,
    "start_time": "2022-12-10T13:10:50.338Z"
   },
   {
    "duration": 4,
    "start_time": "2022-12-10T13:10:50.608Z"
   },
   {
    "duration": 5,
    "start_time": "2022-12-10T13:10:50.892Z"
   },
   {
    "duration": 5,
    "start_time": "2022-12-10T13:10:51.364Z"
   },
   {
    "duration": 7,
    "start_time": "2022-12-10T13:11:36.097Z"
   },
   {
    "duration": 6,
    "start_time": "2022-12-10T13:11:40.978Z"
   },
   {
    "duration": 3,
    "start_time": "2022-12-10T13:11:41.162Z"
   },
   {
    "duration": 4,
    "start_time": "2022-12-10T13:11:41.442Z"
   },
   {
    "duration": 8,
    "start_time": "2022-12-10T13:11:41.710Z"
   },
   {
    "duration": 1000,
    "start_time": "2022-12-12T06:16:38.335Z"
   },
   {
    "duration": 77,
    "start_time": "2022-12-12T06:16:39.337Z"
   },
   {
    "duration": 4,
    "start_time": "2022-12-12T06:16:39.415Z"
   },
   {
    "duration": 18,
    "start_time": "2022-12-12T06:16:39.534Z"
   },
   {
    "duration": 7,
    "start_time": "2022-12-12T06:20:01.946Z"
   },
   {
    "duration": 109,
    "start_time": "2022-12-12T06:20:19.983Z"
   },
   {
    "duration": 3,
    "start_time": "2022-12-12T06:20:41.455Z"
   },
   {
    "duration": 3,
    "start_time": "2022-12-12T06:20:46.618Z"
   },
   {
    "duration": 6,
    "start_time": "2022-12-12T06:21:23.945Z"
   },
   {
    "duration": 7,
    "start_time": "2022-12-12T06:21:24.317Z"
   },
   {
    "duration": 4,
    "start_time": "2022-12-12T06:21:53.197Z"
   },
   {
    "duration": 5,
    "start_time": "2022-12-12T06:22:16.209Z"
   },
   {
    "duration": 7,
    "start_time": "2022-12-12T06:22:16.618Z"
   },
   {
    "duration": 5,
    "start_time": "2022-12-12T06:22:20.131Z"
   },
   {
    "duration": 7,
    "start_time": "2022-12-12T06:22:20.374Z"
   },
   {
    "duration": 11,
    "start_time": "2022-12-12T06:23:01.420Z"
   },
   {
    "duration": 5,
    "start_time": "2022-12-12T06:23:07.495Z"
   },
   {
    "duration": 11,
    "start_time": "2022-12-12T06:23:19.131Z"
   },
   {
    "duration": 7,
    "start_time": "2022-12-12T06:23:34.903Z"
   },
   {
    "duration": 6,
    "start_time": "2022-12-12T06:23:41.209Z"
   },
   {
    "duration": 8,
    "start_time": "2022-12-12T06:24:06.886Z"
   },
   {
    "duration": 9,
    "start_time": "2022-12-12T06:24:21.364Z"
   },
   {
    "duration": 5,
    "start_time": "2022-12-12T06:24:33.178Z"
   },
   {
    "duration": 7,
    "start_time": "2022-12-12T06:24:38.862Z"
   },
   {
    "duration": 47,
    "start_time": "2022-12-12T06:27:29.544Z"
   },
   {
    "duration": 6,
    "start_time": "2022-12-12T06:53:31.861Z"
   },
   {
    "duration": 15,
    "start_time": "2022-12-12T06:53:32.425Z"
   },
   {
    "duration": 20,
    "start_time": "2022-12-12T06:53:38.318Z"
   },
   {
    "duration": 6,
    "start_time": "2022-12-12T06:53:43.354Z"
   },
   {
    "duration": 12,
    "start_time": "2022-12-12T06:53:43.664Z"
   },
   {
    "duration": 3,
    "start_time": "2022-12-12T06:53:56.056Z"
   },
   {
    "duration": 5,
    "start_time": "2022-12-12T06:53:59.606Z"
   },
   {
    "duration": 39,
    "start_time": "2022-12-12T06:54:00.063Z"
   },
   {
    "duration": 6,
    "start_time": "2022-12-12T06:54:04.713Z"
   },
   {
    "duration": 8,
    "start_time": "2022-12-12T06:54:04.947Z"
   },
   {
    "duration": 50,
    "start_time": "2022-12-12T06:57:15.766Z"
   },
   {
    "duration": 5,
    "start_time": "2022-12-12T06:58:18.473Z"
   },
   {
    "duration": 8,
    "start_time": "2022-12-12T06:58:18.838Z"
   },
   {
    "duration": 255,
    "start_time": "2022-12-12T07:00:03.115Z"
   },
   {
    "duration": 5,
    "start_time": "2022-12-12T07:11:44.364Z"
   },
   {
    "duration": 8,
    "start_time": "2022-12-12T07:11:44.666Z"
   }
  ],
  "kernelspec": {
   "display_name": "Python 3 (ipykernel)",
   "language": "python",
   "name": "python3"
  },
  "language_info": {
   "codemirror_mode": {
    "name": "ipython",
    "version": 3
   },
   "file_extension": ".py",
   "mimetype": "text/x-python",
   "name": "python",
   "nbconvert_exporter": "python",
   "pygments_lexer": "ipython3",
   "version": "3.9.5"
  },
  "toc": {
   "base_numbering": 1,
   "nav_menu": {},
   "number_sections": true,
   "sideBar": true,
   "skip_h1_title": true,
   "title_cell": "Содержание",
   "title_sidebar": "Contents",
   "toc_cell": true,
   "toc_position": {
    "height": "calc(100% - 180px)",
    "left": "10px",
    "top": "150px",
    "width": "289.438px"
   },
   "toc_section_display": true,
   "toc_window_display": true
  }
 },
 "nbformat": 4,
 "nbformat_minor": 2
}
