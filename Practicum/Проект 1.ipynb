{
 "cells": [
  {
   "cell_type": "markdown",
   "metadata": {
    "id": "E0vqbgi9ay0H"
   },
   "source": [
    "# Яндекс.Музыка"
   ]
  },
  {
   "cell_type": "markdown",
   "metadata": {},
   "source": [
    "<div class=\"alert alert-info\"> <p2>\n",
    "Привет! Меня зовут Позднякова Кристина. Я буду проверять твой проект. Прошу прощения за долгую проверку! Предлагаю обращаться на «ты», но если так не удобно для тебя - дай знать, и мы перейдем на «вы»:). Моя основная цель проверки проекта — не указать на совершенные тобою ошибки, а поделиться своим опытом и помочь доработать код так, как хорошо было бы его писать в реальном рабочем проекте. Я вижу, что ты старался, делая проект. Все ключевые этапы в работе выполнены и соблюдены, так что в целом справиться с задачей тебе удалось.\n",
    "</p2>\n",
    "    <br>\n",
    "    <br>\n",
    "<p2>\n",
    "Есть только один небольшой аспект, который требует твоего внимания. Комментарий по нему помечен красным цветом (❌). После доработки, с учетом этого момента, проект будет принят. Осталось совсем немного, буду ждать твою работу на повторное ревью:) Зелёным цветом (✔️) отмечены хорошие, удачные и элегантные решения, на которые можно опираться в будущих проектах. Из контекста будет более понятно что хорошо, а что просто великолепно!:) Жёлтым цветом (⚠️) выделено то, что в следующий раз можно сделать по-другому. Ты можешь учесть эти комментарии при выполнении будущих заданий или доработать проект сейчас (однако это не обязательно).\n",
    "</p2>\n",
    "    <br>\n",
    "    <br>\n",
    "<p2>\n",
    "Давай работать над проектом взаимодействуя друг с другом: если ты что-то меняешь в проекте по моим рекомендациям — пиши об этом, пожалуйста. И конечно же можешь задавать вопросы! Выбери для своих комментариев какой-то заметный цвет, отличный от выбранных мной, так мне будет легче отследить изменения. В названии моих комментариев будет номер версии при повторном ревью. Пожалуйста, не перемещай, не изменяй и не удаляй мои комментарии. Всё это поможет выполнить повторную проверку твоего проекта оперативнее:)\n",
    "</p2>\n",
    "</div>"
   ]
  },
  {
   "cell_type": "markdown",
   "metadata": {},
   "source": [
    "<span style='color:Blue'> Привет, я дал ответ на третий вопрос. "
   ]
  },
  {
   "cell_type": "markdown",
   "metadata": {},
   "source": [
    "<div class=\"alert alert-info\">\n",
    "<b>Комментарий ревьюера v2</b>    <br>\n",
    "    Привет) Отлично, работу принимаю:) Я буду отмечать новый комментарий так «Комментарий ревьюера v2», а в исправленных ошибках менять цвет на соответствующий и добавлять значок\n",
    "Хорошего дня!:)"
   ]
  },
  {
   "cell_type": "markdown",
   "metadata": {
    "id": "VUC88oWjTJw2"
   },
   "source": [
    "Сравнение Москвы и Петербурга окружено мифами. Например:\n",
    " * Москва — мегаполис, подчинённый жёсткому ритму рабочей недели;\n",
    " * Петербург — культурная столица, со своими вкусами.\n",
    "\n",
    "На данных Яндекс.Музыки вы сравните поведение пользователей двух столиц.\n",
    "\n",
    "**Цель исследования** — проверьте три гипотезы:\n",
    "1. Активность пользователей зависит от дня недели. Причём в Москве и Петербурге это проявляется по-разному.\n",
    "2. В понедельник утром в Москве преобладают одни жанры, а в Петербурге — другие. Так же и вечером пятницы преобладают разные жанры — в зависимости от города. \n",
    "3. Москва и Петербург предпочитают разные жанры музыки. В Москве чаще слушают поп-музыку, в Петербурге — русский рэп.\n",
    "\n",
    "**Ход исследования**\n",
    "\n",
    "Данные о поведении пользователей вы получите из файла `yandex_music_project.csv`. О качестве данных ничего не известно. Поэтому перед проверкой гипотез понадобится обзор данных. \n",
    "\n",
    "Вы проверите данные на ошибки и оцените их влияние на исследование. Затем, на этапе предобработки вы поищете возможность исправить самые критичные ошибки данных.\n",
    " \n",
    "Таким образом, исследование пройдёт в три этапа:\n",
    " 1. Обзор данных.\n",
    " 2. Предобработка данных.\n",
    " 3. Проверка гипотез.\n",
    "\n"
   ]
  },
  {
   "cell_type": "markdown",
   "metadata": {},
   "source": [
    "<div class=\"alert alert-success\">\n",
    "✔️ Хорошая практика начинать проект с контекста, описания задачи, возможного хода\\плана исследования, а также описания имеющихся данных. Очень надеюсь, что ты будешь уделять этому внимание и в последующих проектах!\n",
    "</div>"
   ]
  },
  {
   "cell_type": "markdown",
   "metadata": {
    "id": "Ml1hmfXC_Zcs"
   },
   "source": [
    "## Обзор данных\n",
    "\n",
    "Составьте первое представление о данных Яндекс.Музыки.\n",
    "\n",
    "\n"
   ]
  },
  {
   "cell_type": "markdown",
   "metadata": {
    "id": "57eAOGIz_Zcs"
   },
   "source": [
    "Основной инструмент аналитика — `pandas`. Импортируйте эту библиотеку."
   ]
  },
  {
   "cell_type": "code",
   "execution_count": 2,
   "metadata": {
    "id": "AXN7PHPN_Zcs"
   },
   "outputs": [],
   "source": [
    "import pandas as pd"
   ]
  },
  {
   "cell_type": "markdown",
   "metadata": {},
   "source": [
    "<div class=\"alert alert-success\">\n",
    "✔️ Очень здорово, что ты используешь сокращение pd для Pandas, это общепринятое сокращение для этой библиотеки для удобной дальнейшей работы. \n",
    "</div>"
   ]
  },
  {
   "cell_type": "markdown",
   "metadata": {
    "id": "SG23P8tt_Zcs"
   },
   "source": [
    "Прочитайте файл `yandex_music_project.csv` из папки `/datasets` и сохраните его в переменной `df`:"
   ]
  },
  {
   "cell_type": "code",
   "execution_count": 3,
   "metadata": {
    "id": "fFVu7vqh_Zct",
    "scrolled": false
   },
   "outputs": [],
   "source": [
    "df = pd.read_csv(\"/datasets/yandex_music_project.csv\")"
   ]
  },
  {
   "cell_type": "markdown",
   "metadata": {},
   "source": [
    "<div class=\"alert alert-success\">\n",
    "✔️ Указан правильный путь к файлу: слэш в начале пути очень важен, так как указывает, что нужно искать файл в корневой папке.\n",
    "</div>"
   ]
  },
  {
   "cell_type": "markdown",
   "metadata": {
    "id": "rDoOMd3uTqnZ"
   },
   "source": [
    "Выведите на экран первые десять строк таблицы:"
   ]
  },
  {
   "cell_type": "code",
   "execution_count": 4,
   "metadata": {
    "id": "oWTVX3gW_Zct"
   },
   "outputs": [
    {
     "name": "stdout",
     "output_type": "stream",
     "text": [
      "     userID                        Track            artist   genre  \\\n",
      "0  FFB692EC            Kamigata To Boots  The Mass Missile    rock   \n",
      "1  55204538  Delayed Because of Accident  Andreas Rönnberg    rock   \n",
      "2    20EC38            Funiculì funiculà       Mario Lanza     pop   \n",
      "3  A3DD03C9        Dragons in the Sunset        Fire + Ice    folk   \n",
      "4  E2DC1FAE                  Soul People        Space Echo   dance   \n",
      "5  842029A1                    Преданная         IMPERVTOR  rusrap   \n",
      "6  4CB90AA5                         True      Roman Messer   dance   \n",
      "7  F03E1C1F             Feeling This Way   Polina Griffith   dance   \n",
      "8  8FA1D3BE     И вновь продолжается бой               NaN  ruspop   \n",
      "9  E772D5C0                    Pessimist               NaN   dance   \n",
      "\n",
      "             City        time        Day  \n",
      "0  Saint-Petersburg  20:28:33  Wednesday  \n",
      "1            Moscow  14:07:09     Friday  \n",
      "2  Saint-Petersburg  20:58:07  Wednesday  \n",
      "3  Saint-Petersburg  08:37:09     Monday  \n",
      "4            Moscow  08:34:34     Monday  \n",
      "5  Saint-Petersburg  13:09:41     Friday  \n",
      "6            Moscow  13:00:07  Wednesday  \n",
      "7            Moscow  20:47:49  Wednesday  \n",
      "8            Moscow  09:17:40     Friday  \n",
      "9  Saint-Petersburg  21:20:49  Wednesday  \n"
     ]
    }
   ],
   "source": [
    "print(df.head(10))"
   ]
  },
  {
   "cell_type": "markdown",
   "metadata": {},
   "source": [
    "<div class=\"alert alert-success\">\n",
    "✔️ Отлично! Первые 10 строк выведены. Так же можно, если тебе понадобится, выводить последние n строк с помощью метода tail().\n",
    "</div>"
   ]
  },
  {
   "cell_type": "markdown",
   "metadata": {},
   "source": [
    "<div class=\"alert alert-warning\"> \n",
    "⚠️ Для вывода столбцов на экран здесь не нужно использовать функцию print(): результат и так будет выведен, так как это последняя (единственная) строчка ячейки.</div>"
   ]
  },
  {
   "cell_type": "markdown",
   "metadata": {
    "id": "EO73Kwic_Zct"
   },
   "source": [
    "Одной командой получить общую информацию о таблице:"
   ]
  },
  {
   "cell_type": "code",
   "execution_count": 5,
   "metadata": {
    "id": "DSf2kIb-_Zct"
   },
   "outputs": [
    {
     "name": "stdout",
     "output_type": "stream",
     "text": [
      "<class 'pandas.core.frame.DataFrame'>\n",
      "RangeIndex: 65079 entries, 0 to 65078\n",
      "Data columns (total 7 columns):\n",
      " #   Column    Non-Null Count  Dtype \n",
      "---  ------    --------------  ----- \n",
      " 0     userID  65079 non-null  object\n",
      " 1   Track     63848 non-null  object\n",
      " 2   artist    57876 non-null  object\n",
      " 3   genre     63881 non-null  object\n",
      " 4     City    65079 non-null  object\n",
      " 5   time      65079 non-null  object\n",
      " 6   Day       65079 non-null  object\n",
      "dtypes: object(7)\n",
      "memory usage: 3.5+ MB\n"
     ]
    }
   ],
   "source": [
    "df.info()"
   ]
  },
  {
   "cell_type": "markdown",
   "metadata": {},
   "source": [
    "<div class=\"alert alert-success\">\n",
    "✔️ Отличный выбор метода - info действительно показывает много информации о датафрейме. \n",
    "</div>"
   ]
  },
  {
   "cell_type": "markdown",
   "metadata": {
    "id": "TaQ2Iwbr_Zct"
   },
   "source": [
    "Итак, в таблице семь столбцов. Тип данных во всех столбцах — `object`.\n",
    "\n",
    "Согласно документации к данным:\n",
    "* `userID` — идентификатор пользователя;\n",
    "* `Track` — название трека;  \n",
    "* `artist` — имя исполнителя;\n",
    "* `genre` — название жанра;\n",
    "* `City` — город пользователя;\n",
    "* `time` — время начала прослушивания;\n",
    "* `Day` — день недели.\n",
    "\n",
    "В названиях колонок видны три нарушения стиля:\n",
    "1. Строчные буквы сочетаются с прописными.\n",
    "2. Встречаются пробелы.\n",
    "3. Найдите ещё одну проблему в названии колонок и опишите её в этом пункте.\n",
    "\n",
    "<span style='color:Blue'> Ответ: 'UserID' записано слитно - не использовалось нижнее подчеркивание (\"_\"). \n",
    "\n",
    "\n",
    "Количество значений в столбцах различается. Значит, в данных есть пропущенные значения.\n"
   ]
  },
  {
   "cell_type": "markdown",
   "metadata": {},
   "source": [
    "<div class=\"alert alert-success\">\n",
    "✔️❌ Пропущен ответ на вопрос в пункте 3."
   ]
  },
  {
   "cell_type": "markdown",
   "metadata": {},
   "source": [
    "<div class=\"alert alert-success\"><b>Комментарий ревьюера v2</b>    <br>\n",
    "✔️ Абсолютно правильный ответ на вопрос задания! Несоблюдение snake_case"
   ]
  },
  {
   "cell_type": "markdown",
   "metadata": {
    "id": "MCB6-dXG_Zct"
   },
   "source": [
    "**Выводы**\n",
    "\n",
    "В каждой строке таблицы — данные о прослушанном треке. Часть колонок описывает саму композицию: название, исполнителя и жанр. Остальные данные рассказывают о пользователе: из какого он города, когда он слушал музыку. \n",
    "\n",
    "Предварительно можно утверждать, что, данных достаточно для проверки гипотез. Но встречаются пропуски в данных, а в названиях колонок — расхождения с хорошим стилем.\n",
    "\n",
    "Чтобы двигаться дальше, нужно устранить проблемы в данных."
   ]
  },
  {
   "cell_type": "markdown",
   "metadata": {},
   "source": [
    "<div class=\"alert alert-success\">\n",
    "✔️ По шагу в целом могу сказать что код выполнен абсолютно верно.<br>\n",
    "   Прошу еще так же обратить внимание на выводы и опираться на такой пример в будущих проектах, так как хорошие выводы конечные и промежуточные — очень важно и выделяют хорошую работу. \n",
    "</div>"
   ]
  },
  {
   "cell_type": "markdown",
   "metadata": {},
   "source": [
    "<div class=\"alert alert-success\">\n",
    "✔️❌ Только вот одна ошибка с ответом"
   ]
  },
  {
   "cell_type": "markdown",
   "metadata": {},
   "source": [
    "<div class=\"alert alert-success\"><b>Комментарий ревьюера v2</b>    <br>\n",
    "✔️ Исправлено"
   ]
  },
  {
   "cell_type": "markdown",
   "metadata": {
    "id": "SjYF6Ub9_Zct"
   },
   "source": [
    "## Предобработка данных\n",
    "Исправьте стиль в заголовках столбцов, исключите пропуски. Затем проверьте данные на дубликаты."
   ]
  },
  {
   "cell_type": "markdown",
   "metadata": {
    "id": "dIaKXr29_Zct"
   },
   "source": [
    "### Стиль заголовков\n",
    "Выведите на экран названия столбцов:"
   ]
  },
  {
   "cell_type": "code",
   "execution_count": 6,
   "metadata": {
    "id": "oKOTdF_Q_Zct"
   },
   "outputs": [
    {
     "name": "stdout",
     "output_type": "stream",
     "text": [
      "Index(['  userID', 'Track', 'artist', 'genre', '  City  ', 'time', 'Day'], dtype='object')\n"
     ]
    }
   ],
   "source": [
    "print(df.columns)"
   ]
  },
  {
   "cell_type": "markdown",
   "metadata": {
    "id": "FPZA3ki8xe7T"
   },
   "source": [
    "<div class=\"alert alert-warning\"> \n",
    "⚠️ Тут опять же не необходимый print(). Далее в таких же случаях я буду писать комментарий просто «print()». Буду писать каждый раз, чтоб если что вдруг ты не пропустил или не запутался"
   ]
  },
  {
   "cell_type": "markdown",
   "metadata": {
    "id": "zj5534cv_Zct"
   },
   "source": [
    "Приведите названия в соответствие с хорошим стилем:\n",
    "* несколько слов в названии запишите в «змеином_регистре»,\n",
    "* все символы сделайте строчными,\n",
    "* устраните пробелы.\n",
    "\n",
    "Для этого переименуйте колонки так:\n",
    "* `'  userID'` → `'user_id'`;\n",
    "* `'Track'` → `'track'`;\n",
    "* `'  City  '` → `'city'`;\n",
    "* `'Day'` → `'day'`."
   ]
  },
  {
   "cell_type": "code",
   "execution_count": 7,
   "metadata": {
    "id": "ISlFqs5y_Zct"
   },
   "outputs": [],
   "source": [
    "df = df.rename(columns={'  userID': 'user_id', \"Track\": 'track','  City  ':'city','Day':'day'})"
   ]
  },
  {
   "cell_type": "markdown",
   "metadata": {},
   "source": [
    "<div class=\"alert alert-success\">\n",
    "✔️ Хороший выбор метода - rename сработает без ошибок, даже если изменится порядок столбцов.\n",
    "</div>"
   ]
  },
  {
   "cell_type": "markdown",
   "metadata": {
    "id": "1dqbh00J_Zct"
   },
   "source": [
    "Проверьте результат. Для этого ещё раз выведите на экран названия столбцов:"
   ]
  },
  {
   "cell_type": "code",
   "execution_count": 8,
   "metadata": {
    "id": "d4NOAmTW_Zct"
   },
   "outputs": [
    {
     "name": "stdout",
     "output_type": "stream",
     "text": [
      "Index(['user_id', 'track', 'artist', 'genre', 'city', 'time', 'day'], dtype='object')\n"
     ]
    }
   ],
   "source": [
    "print(df.columns)"
   ]
  },
  {
   "cell_type": "markdown",
   "metadata": {},
   "source": [
    "<div class=\"alert alert-warning\"> \n",
    "⚠️ print()"
   ]
  },
  {
   "cell_type": "markdown",
   "metadata": {
    "id": "5ISfbcfY_Zct"
   },
   "source": [
    "### Пропуски значений\n",
    "Сначала посчитайте, сколько в таблице пропущенных значений. Для этого достаточно двух методов `pandas`:"
   ]
  },
  {
   "cell_type": "code",
   "execution_count": 9,
   "metadata": {
    "id": "RskX29qr_Zct"
   },
   "outputs": [
    {
     "name": "stdout",
     "output_type": "stream",
     "text": [
      "user_id       0\n",
      "track      1231\n",
      "artist     7203\n",
      "genre      1198\n",
      "city          0\n",
      "time          0\n",
      "day           0\n",
      "dtype: int64\n"
     ]
    }
   ],
   "source": [
    "print(df.isna().sum())"
   ]
  },
  {
   "cell_type": "markdown",
   "metadata": {},
   "source": [
    "<div class=\"alert alert-success\">\n",
    "✔️ Выбран метод isna() для нахождения пропущенных значений, это отлично! На самом деле, isnull() и isna() делают одно и то же, но использование isna() предпочтительнее.\n",
    "</div>"
   ]
  },
  {
   "cell_type": "markdown",
   "metadata": {},
   "source": [
    "<div class=\"alert alert-warning\"> \n",
    "⚠️ print()"
   ]
  },
  {
   "cell_type": "markdown",
   "metadata": {
    "id": "qubhgnlO_Zct"
   },
   "source": [
    "Не все пропущенные значения влияют на исследование. Так в `track` и `artist` пропуски не важны для вашей работы. Достаточно заменить их явными обозначениями.\n",
    "\n",
    "Но пропуски в `genre` могут помешать сравнению музыкальных вкусов в Москве и Санкт-Петербурге. На практике было бы правильно установить причину пропусков и восстановить данные. Такой возможности нет в учебном проекте. Придётся:\n",
    "* заполнить и эти пропуски явными обозначениями,\n",
    "* оценить, насколько они повредят расчётам. "
   ]
  },
  {
   "cell_type": "markdown",
   "metadata": {
    "id": "fSv2laPA_Zct"
   },
   "source": [
    "Замените пропущенные значения в столбцах `track`, `artist` и `genre` на строку `'unknown'`. Для этого создайте список `columns_to_replace`, переберите его элементы циклом `for` и для каждого столбца выполните замену пропущенных значений:"
   ]
  },
  {
   "cell_type": "code",
   "execution_count": 10,
   "metadata": {
    "id": "KplB5qWs_Zct"
   },
   "outputs": [],
   "source": [
    "columns_to_replace = ['track','artist', 'genre']\n",
    "for columns in columns_to_replace: \n",
    "    df[columns] = df[columns].fillna('unknown')"
   ]
  },
  {
   "cell_type": "markdown",
   "metadata": {},
   "source": [
    "<div class=\"alert alert-success\">\n",
    "✔️ Список `columns_to_replace` сформирован верно, цикл отработал без ошибок.\n",
    "</div>"
   ]
  },
  {
   "cell_type": "markdown",
   "metadata": {
    "id": "Ilsm-MZo_Zct"
   },
   "source": [
    "Убедитесь, что в таблице не осталось пропусков. Для этого ещё раз посчитайте пропущенные значения."
   ]
  },
  {
   "cell_type": "code",
   "execution_count": 11,
   "metadata": {
    "id": "Tq4nYRX4_Zct"
   },
   "outputs": [
    {
     "name": "stdout",
     "output_type": "stream",
     "text": [
      "user_id    0\n",
      "track      0\n",
      "artist     0\n",
      "genre      0\n",
      "city       0\n",
      "time       0\n",
      "day        0\n",
      "dtype: int64\n"
     ]
    }
   ],
   "source": [
    "print(df.isna().sum())"
   ]
  },
  {
   "cell_type": "markdown",
   "metadata": {},
   "source": [
    "<div class=\"alert alert-warning\"> \n",
    "⚠️ print()"
   ]
  },
  {
   "cell_type": "markdown",
   "metadata": {
    "id": "BWKRtBJ3_Zct"
   },
   "source": [
    "### Дубликаты\n",
    "Посчитайте явные дубликаты в таблице одной командой:"
   ]
  },
  {
   "cell_type": "code",
   "execution_count": 12,
   "metadata": {
    "id": "36eES_S0_Zct"
   },
   "outputs": [
    {
     "name": "stdout",
     "output_type": "stream",
     "text": [
      "3826\n"
     ]
    }
   ],
   "source": [
    "print(df.duplicated().sum())"
   ]
  },
  {
   "cell_type": "markdown",
   "metadata": {},
   "source": [
    "<div class=\"alert alert-success\">\n",
    "✔️ Дубликаты верно найдены и посчитаны оптимальными методами.\n",
    "</div>"
   ]
  },
  {
   "cell_type": "markdown",
   "metadata": {},
   "source": [
    "<div class=\"alert alert-warning\"> \n",
    "⚠️ print()"
   ]
  },
  {
   "cell_type": "markdown",
   "metadata": {
    "id": "Ot25h6XR_Zct"
   },
   "source": [
    "Вызовите специальный метод `pandas`, чтобы удалить явные дубликаты:"
   ]
  },
  {
   "cell_type": "code",
   "execution_count": 13,
   "metadata": {
    "id": "exFHq6tt_Zct"
   },
   "outputs": [],
   "source": [
    "df = df.drop_duplicates().reset_index(drop=True)"
   ]
  },
  {
   "cell_type": "markdown",
   "metadata": {},
   "source": [
    "<div class=\"alert alert-success\">\n",
    "✔️ Дубликаты удалены верными методами с верным параметром.\n",
    "</div>"
   ]
  },
  {
   "cell_type": "markdown",
   "metadata": {
    "id": "Im2YwBEG_Zct"
   },
   "source": [
    "Ещё раз посчитайте явные дубликаты в таблице — убедитесь, что полностью от них избавились:"
   ]
  },
  {
   "cell_type": "code",
   "execution_count": 14,
   "metadata": {
    "id": "-8PuNWQ0_Zct"
   },
   "outputs": [
    {
     "name": "stdout",
     "output_type": "stream",
     "text": [
      "0\n"
     ]
    }
   ],
   "source": [
    "print(df.duplicated().sum())"
   ]
  },
  {
   "cell_type": "markdown",
   "metadata": {},
   "source": [
    "<div class=\"alert alert-warning\"> \n",
    "⚠️ print()"
   ]
  },
  {
   "cell_type": "markdown",
   "metadata": {
    "id": "QlFBsxAr_Zct"
   },
   "source": [
    "Теперь избавьтесь от неявных дубликатов в колонке `genre`. Например, название одного и того же жанра может быть записано немного по-разному. Такие ошибки тоже повлияют на результат исследования."
   ]
  },
  {
   "cell_type": "markdown",
   "metadata": {
    "id": "eSjWwsOh_Zct"
   },
   "source": [
    "Выведите на экран список уникальных названий жанров, отсортированный в алфавитном порядке. Для этого:\n",
    "* извлеките нужный столбец датафрейма, \n",
    "* примените к нему метод сортировки,\n",
    "* для отсортированного столбца вызовите метод, который вернёт уникальные значения из столбца."
   ]
  },
  {
   "cell_type": "code",
   "execution_count": 15,
   "metadata": {
    "id": "JIUcqzZN_Zct"
   },
   "outputs": [
    {
     "name": "stdout",
     "output_type": "stream",
     "text": [
      "['acid', 'acoustic', 'action', 'adult', 'africa', 'afrikaans', 'alternative', 'alternativepunk', 'ambient', 'americana', 'animated', 'anime', 'arabesk', 'arabic', 'arena', 'argentinetango', 'art', 'audiobook', 'author', 'avantgarde', 'axé', 'baile', 'balkan', 'beats', 'bigroom', 'black', 'bluegrass', 'blues', 'bollywood', 'bossa', 'brazilian', 'breakbeat', 'breaks', 'broadway', 'cantautori', 'cantopop', 'canzone', 'caribbean', 'caucasian', 'celtic', 'chamber', 'chanson', 'children', 'chill', 'chinese', 'choral', 'christian', 'christmas', 'classical', 'classicmetal', 'club', 'colombian', 'comedy', 'conjazz', 'contemporary', 'country', 'cuban', 'dance', 'dancehall', 'dancepop', 'dark', 'death', 'deep', 'deutschrock', 'deutschspr', 'dirty', 'disco', 'dnb', 'documentary', 'downbeat', 'downtempo', 'drum', 'dub', 'dubstep', 'eastern', 'easy', 'electronic', 'electropop', 'emo', 'entehno', 'epicmetal', 'estrada', 'ethnic', 'eurofolk', 'european', 'experimental', 'extrememetal', 'fado', 'fairytail', 'film', 'fitness', 'flamenco', 'folk', 'folklore', 'folkmetal', 'folkrock', 'folktronica', 'forró', 'frankreich', 'französisch', 'french', 'funk', 'future', 'gangsta', 'garage', 'german', 'ghazal', 'gitarre', 'glitch', 'gospel', 'gothic', 'grime', 'grunge', 'gypsy', 'handsup', \"hard'n'heavy\", 'hardcore', 'hardstyle', 'hardtechno', 'hip', 'hip-hop', 'hiphop', 'historisch', 'holiday', 'hop', 'horror', 'house', 'hymn', 'idm', 'independent', 'indian', 'indie', 'indipop', 'industrial', 'inspirational', 'instrumental', 'international', 'irish', 'jam', 'japanese', 'jazz', 'jewish', 'jpop', 'jungle', 'k-pop', 'karadeniz', 'karaoke', 'kayokyoku', 'korean', 'laiko', 'latin', 'latino', 'leftfield', 'local', 'lounge', 'loungeelectronic', 'lovers', 'malaysian', 'mandopop', 'marschmusik', 'meditative', 'mediterranean', 'melodic', 'metal', 'metalcore', 'mexican', 'middle', 'minimal', 'miscellaneous', 'modern', 'mood', 'mpb', 'muslim', 'native', 'neoklassik', 'neue', 'new', 'newage', 'newwave', 'nu', 'nujazz', 'numetal', 'oceania', 'old', 'opera', 'orchestral', 'other', 'piano', 'podcasts', 'pop', 'popdance', 'popelectronic', 'popeurodance', 'poprussian', 'post', 'posthardcore', 'postrock', 'power', 'progmetal', 'progressive', 'psychedelic', 'punjabi', 'punk', 'quebecois', 'ragga', 'ram', 'rancheras', 'rap', 'rave', 'reggae', 'reggaeton', 'regional', 'relax', 'religious', 'retro', 'rhythm', 'rnb', 'rnr', 'rock', 'rockabilly', 'rockalternative', 'rockindie', 'rockother', 'romance', 'roots', 'ruspop', 'rusrap', 'rusrock', 'russian', 'salsa', 'samba', 'scenic', 'schlager', 'self', 'sertanejo', 'shanson', 'shoegazing', 'showtunes', 'singer', 'ska', 'skarock', 'slow', 'smooth', 'soft', 'soul', 'soulful', 'sound', 'soundtrack', 'southern', 'specialty', 'speech', 'spiritual', 'sport', 'stonerrock', 'surf', 'swing', 'synthpop', 'synthrock', 'sängerportrait', 'tango', 'tanzorchester', 'taraftar', 'tatar', 'tech', 'techno', 'teen', 'thrash', 'top', 'traditional', 'tradjazz', 'trance', 'tribal', 'trip', 'triphop', 'tropical', 'türk', 'türkçe', 'ukrrock', 'unknown', 'urban', 'uzbek', 'variété', 'vi', 'videogame', 'vocal', 'western', 'world', 'worldbeat', 'ïîï', 'электроника']\n"
     ]
    }
   ],
   "source": [
    "print(sorted(df['genre'].unique()))"
   ]
  },
  {
   "cell_type": "markdown",
   "metadata": {},
   "source": [
    "<div class=\"alert alert-warning\"> \n",
    "⚠️  1. Ты справился с сортировкой списка с названиями жанров. Если нужно отсортировать датафрейм, то можно использовать в дальнейшем метод sort_values(): df['genre'].sort_values().unique()     <br>\n",
    "    2.  print()"
   ]
  },
  {
   "cell_type": "markdown",
   "metadata": {
    "id": "qej-Qmuo_Zct"
   },
   "source": [
    "Просмотрите список и найдите неявные дубликаты названия `hiphop`. Это могут быть названия с ошибками или альтернативные названия того же жанра.\n",
    "\n",
    "Вы увидите следующие неявные дубликаты:\n",
    "* *hip*,\n",
    "* *hop*,\n",
    "* *hip-hop*.\n",
    "\n",
    "Чтобы очистить от них таблицу, напишите функцию `replace_wrong_genres()` с двумя параметрами: \n",
    "* `wrong_genres` — список дубликатов,\n",
    "* `correct_genre` — строка с правильным значением.\n",
    "\n",
    "Функция должна исправить колонку `genre` в таблице `df`: заменить каждое значение из списка `wrong_genres` на значение из `correct_genre`."
   ]
  },
  {
   "cell_type": "code",
   "execution_count": 16,
   "metadata": {
    "id": "ErNDkmns_Zct"
   },
   "outputs": [],
   "source": [
    "def replace_wrong_genres(wrong_genres, correct_genre): \n",
    "    for wrong_values in wrong_genres: \n",
    "        df['genre'] = df['genre'].replace(wrong_values, correct_genre)\n",
    "    "
   ]
  },
  {
   "cell_type": "markdown",
   "metadata": {},
   "source": [
    "<div class=\"alert alert-success\">\n",
    "✔️Функция написана верно!"
   ]
  },
  {
   "cell_type": "markdown",
   "metadata": {
    "id": "aDoBJxbA_Zct"
   },
   "source": [
    "Вызовите `replace_wrong_genres()` и передайте ей такие аргументы, чтобы она устранила неявные дубликаты: вместо `hip`, `hop` и `hip-hop` в таблице должно быть значение `hiphop`:"
   ]
  },
  {
   "cell_type": "code",
   "execution_count": 17,
   "metadata": {
    "id": "YN5i2hpmSo09"
   },
   "outputs": [],
   "source": [
    "wrong_genres = ['hip', 'hop', 'hip-hop']\n",
    "correct_genre = 'hiphop'\n",
    "replace_wrong_genres(wrong_genres, correct_genre)"
   ]
  },
  {
   "cell_type": "markdown",
   "metadata": {},
   "source": [
    "<div class=\"alert alert-success\">\n",
    "✔️ 👍"
   ]
  },
  {
   "cell_type": "markdown",
   "metadata": {
    "id": "zQKF16_RG15m"
   },
   "source": [
    "Проверьте, что заменили неправильные названия:\n",
    "\n",
    "*   hip\n",
    "*   hop\n",
    "*   hip-hop\n",
    "\n",
    "Выведите отсортированный список уникальных значений столбца `genre`:"
   ]
  },
  {
   "cell_type": "code",
   "execution_count": 18,
   "metadata": {
    "id": "wvixALnFG15m"
   },
   "outputs": [
    {
     "name": "stdout",
     "output_type": "stream",
     "text": [
      "['acid', 'acoustic', 'action', 'adult', 'africa', 'afrikaans', 'alternative', 'alternativepunk', 'ambient', 'americana', 'animated', 'anime', 'arabesk', 'arabic', 'arena', 'argentinetango', 'art', 'audiobook', 'author', 'avantgarde', 'axé', 'baile', 'balkan', 'beats', 'bigroom', 'black', 'bluegrass', 'blues', 'bollywood', 'bossa', 'brazilian', 'breakbeat', 'breaks', 'broadway', 'cantautori', 'cantopop', 'canzone', 'caribbean', 'caucasian', 'celtic', 'chamber', 'chanson', 'children', 'chill', 'chinese', 'choral', 'christian', 'christmas', 'classical', 'classicmetal', 'club', 'colombian', 'comedy', 'conjazz', 'contemporary', 'country', 'cuban', 'dance', 'dancehall', 'dancepop', 'dark', 'death', 'deep', 'deutschrock', 'deutschspr', 'dirty', 'disco', 'dnb', 'documentary', 'downbeat', 'downtempo', 'drum', 'dub', 'dubstep', 'eastern', 'easy', 'electronic', 'electropop', 'emo', 'entehno', 'epicmetal', 'estrada', 'ethnic', 'eurofolk', 'european', 'experimental', 'extrememetal', 'fado', 'fairytail', 'film', 'fitness', 'flamenco', 'folk', 'folklore', 'folkmetal', 'folkrock', 'folktronica', 'forró', 'frankreich', 'französisch', 'french', 'funk', 'future', 'gangsta', 'garage', 'german', 'ghazal', 'gitarre', 'glitch', 'gospel', 'gothic', 'grime', 'grunge', 'gypsy', 'handsup', \"hard'n'heavy\", 'hardcore', 'hardstyle', 'hardtechno', 'hiphop', 'historisch', 'holiday', 'horror', 'house', 'hymn', 'idm', 'independent', 'indian', 'indie', 'indipop', 'industrial', 'inspirational', 'instrumental', 'international', 'irish', 'jam', 'japanese', 'jazz', 'jewish', 'jpop', 'jungle', 'k-pop', 'karadeniz', 'karaoke', 'kayokyoku', 'korean', 'laiko', 'latin', 'latino', 'leftfield', 'local', 'lounge', 'loungeelectronic', 'lovers', 'malaysian', 'mandopop', 'marschmusik', 'meditative', 'mediterranean', 'melodic', 'metal', 'metalcore', 'mexican', 'middle', 'minimal', 'miscellaneous', 'modern', 'mood', 'mpb', 'muslim', 'native', 'neoklassik', 'neue', 'new', 'newage', 'newwave', 'nu', 'nujazz', 'numetal', 'oceania', 'old', 'opera', 'orchestral', 'other', 'piano', 'podcasts', 'pop', 'popdance', 'popelectronic', 'popeurodance', 'poprussian', 'post', 'posthardcore', 'postrock', 'power', 'progmetal', 'progressive', 'psychedelic', 'punjabi', 'punk', 'quebecois', 'ragga', 'ram', 'rancheras', 'rap', 'rave', 'reggae', 'reggaeton', 'regional', 'relax', 'religious', 'retro', 'rhythm', 'rnb', 'rnr', 'rock', 'rockabilly', 'rockalternative', 'rockindie', 'rockother', 'romance', 'roots', 'ruspop', 'rusrap', 'rusrock', 'russian', 'salsa', 'samba', 'scenic', 'schlager', 'self', 'sertanejo', 'shanson', 'shoegazing', 'showtunes', 'singer', 'ska', 'skarock', 'slow', 'smooth', 'soft', 'soul', 'soulful', 'sound', 'soundtrack', 'southern', 'specialty', 'speech', 'spiritual', 'sport', 'stonerrock', 'surf', 'swing', 'synthpop', 'synthrock', 'sängerportrait', 'tango', 'tanzorchester', 'taraftar', 'tatar', 'tech', 'techno', 'teen', 'thrash', 'top', 'traditional', 'tradjazz', 'trance', 'tribal', 'trip', 'triphop', 'tropical', 'türk', 'türkçe', 'ukrrock', 'unknown', 'urban', 'uzbek', 'variété', 'vi', 'videogame', 'vocal', 'western', 'world', 'worldbeat', 'ïîï', 'электроника']\n"
     ]
    }
   ],
   "source": [
    "print(sorted(df['genre'].unique()))"
   ]
  },
  {
   "cell_type": "markdown",
   "metadata": {},
   "source": [
    "<div class=\"alert alert-warning\"> \n",
    "⚠️ Тут такая же история с sort_values() и print()"
   ]
  },
  {
   "cell_type": "markdown",
   "metadata": {
    "id": "jz6a9-7HQUDd"
   },
   "source": [
    "**Выводы**\n",
    "\n",
    "Предобработка обнаружила три проблемы в данных:\n",
    "\n",
    "- нарушения в стиле заголовков,\n",
    "- пропущенные значения,\n",
    "- дубликаты — явные и неявные.\n",
    "\n",
    "Вы исправили заголовки, чтобы упростить работу с таблицей. Без дубликатов исследование станет более точным.\n",
    "\n",
    "Пропущенные значения вы заменили на `'unknown'`. Ещё предстоит увидеть, не повредят ли исследованию пропуски в колонке `genre`.\n",
    "\n",
    "Теперь можно перейти к проверке гипотез. "
   ]
  },
  {
   "cell_type": "markdown",
   "metadata": {},
   "source": [
    "<div class=\"alert alert-success\">\n",
    "✔️ По шагу в целом сделано все хорошо, вижу, что ты хорошо владеешь методами и пишешь функции"
   ]
  },
  {
   "cell_type": "markdown",
   "metadata": {
    "id": "WttZHXH0SqKk"
   },
   "source": [
    "## Проверка гипотез"
   ]
  },
  {
   "cell_type": "markdown",
   "metadata": {
    "id": "Im936VVi_Zcu"
   },
   "source": [
    "### Сравнение поведения пользователей двух столиц"
   ]
  },
  {
   "cell_type": "markdown",
   "metadata": {
    "id": "nwt_MuaL_Zcu"
   },
   "source": [
    "Первая гипотеза утверждает, что пользователи по-разному слушают музыку в Москве и Санкт-Петербурге. Проверьте это предположение по данным о трёх днях недели — понедельнике, среде и пятнице. Для этого:\n",
    "\n",
    "* Разделите пользователей Москвы и Санкт-Петербурга\n",
    "* Сравните, сколько треков послушала каждая группа пользователей в понедельник, среду и пятницу.\n"
   ]
  },
  {
   "cell_type": "markdown",
   "metadata": {
    "id": "8Dw_YMmT_Zcu"
   },
   "source": [
    "Для тренировки сначала выполните каждый из расчётов по отдельности. \n",
    "\n",
    "Оцените активность пользователей в каждом городе. Сгруппируйте данные по городу и посчитайте прослушивания в каждой группе.\n",
    "\n"
   ]
  },
  {
   "cell_type": "code",
   "execution_count": 20,
   "metadata": {
    "id": "0_Qs96oh_Zcu"
   },
   "outputs": [],
   "source": [
    "df_group = df.groupby('city')['genre'].count()"
   ]
  },
  {
   "cell_type": "markdown",
   "metadata": {},
   "source": [
    "<div class=\"alert alert-warning\"> \n",
    "⚠️ Методы использованы верные и верно:) Но результат не выведен на экран, по которым могут строиться выводы ниже"
   ]
  },
  {
   "cell_type": "markdown",
   "metadata": {
    "id": "dzli3w8o_Zcu"
   },
   "source": [
    "В Москве прослушиваний больше, чем в Петербурге. Из этого не следует, что московские пользователи чаще слушают музыку. Просто самих пользователей в Москве больше.\n",
    "\n",
    "Теперь сгруппируйте данные по дню недели и подсчитайте прослушивания в понедельник, среду и пятницу. Учтите, что в данных есть информация о прослушиваниях только за эти дни.\n"
   ]
  },
  {
   "cell_type": "code",
   "execution_count": 21,
   "metadata": {
    "id": "uZMKjiJz_Zcu"
   },
   "outputs": [],
   "source": [
    "df_groupby = df.groupby('day')['genre'].count()"
   ]
  },
  {
   "cell_type": "markdown",
   "metadata": {},
   "source": [
    "<div class=\"alert alert-warning\"> \n",
    "⚠️ То же самое"
   ]
  },
  {
   "cell_type": "markdown",
   "metadata": {
    "id": "cC2tNrlL_Zcu"
   },
   "source": [
    "В среднем пользователи из двух городов менее активны по средам. Но картина может измениться, если рассмотреть каждый город в отдельности."
   ]
  },
  {
   "cell_type": "markdown",
   "metadata": {
    "id": "POzs8bGa_Zcu"
   },
   "source": [
    "Вы видели, как работает группировка по городу и по дням недели. Теперь напишите функцию, которая объединит два эти расчёта.\n",
    "\n",
    "Создайте функцию `number_tracks()`, которая посчитает прослушивания для заданного дня и города. Ей понадобятся два параметра:\n",
    "* день недели,\n",
    "* название города.\n",
    "\n",
    "В функции сохраните в переменную строки исходной таблицы, у которых значение:\n",
    "  * в колонке `day` равно параметру `day`,\n",
    "  * в колонке `city` равно параметру `city`.\n",
    "\n",
    "Для этого примените последовательную фильтрацию с логической индексацией.\n",
    "\n",
    "Затем посчитайте значения в столбце `user_id` получившейся таблицы. Результат сохраните в новую переменную. Верните эту переменную из функции."
   ]
  },
  {
   "cell_type": "code",
   "execution_count": 23,
   "metadata": {
    "id": "Nz3GdQB1_Zcu"
   },
   "outputs": [],
   "source": [
    "def number_tracks(day, city): \n",
    "    track_list = df[df[\"day\"] == day]\n",
    "    track_list = track_list[track_list[\"city\"] == city]\n",
    "    track_list_count = track_list[\"user_id\"].count()\n",
    "    return track_list_count\n",
    "    \n",
    "\n",
    "# <создание функции number_tracks()>\n",
    "# Объявляется функция с двумя параметрами: day, city.\n",
    "# В переменной track_list сохраняются те строки таблицы df, для которых \n",
    "# значение в столбце 'day' равно параметру day и одновременно значение\n",
    "# в столбце 'city' равно параметру city (используйте последовательную фильтрацию\n",
    "# с помощью логической индексации).\n",
    "# В переменной track_list_count сохраняется число значений столбца 'user_id',\n",
    "# рассчитанное методом count() для таблицы track_list.\n",
    "# Функция возвращает число - значение track_list_count.\n",
    "\n",
    "# Функция для подсчёта прослушиваний для конкретного города и дня.\n",
    "# С помощью последовательной фильтрации с логической индексацией она \n",
    "# сначала получит из исходной таблицы строки с нужным днём,\n",
    "# затем из результата отфильтрует строки с нужным городом,\n",
    "# методом count() посчитает количество значений в колонке user_id. \n",
    "# Это количество функция вернёт в качестве результата"
   ]
  },
  {
   "cell_type": "markdown",
   "metadata": {},
   "source": [
    "<div class=\"alert alert-success\">\n",
    "✔️ Твоя функция полностью выполняет свои задачи\n",
    "</div>"
   ]
  },
  {
   "cell_type": "markdown",
   "metadata": {
    "id": "ytf7xFrFJQ2r"
   },
   "source": [
    "Вызовите `number_tracks()` шесть раз, меняя значение параметров — так, чтобы получить данные для каждого города в каждый из трёх дней."
   ]
  },
  {
   "cell_type": "code",
   "execution_count": 24,
   "metadata": {
    "id": "rJcRATNQ_Zcu"
   },
   "outputs": [
    {
     "name": "stdout",
     "output_type": "stream",
     "text": [
      "15740\n"
     ]
    }
   ],
   "source": [
    "mos_mon = number_tracks('Monday','Moscow')# количество прослушиваний в Москве по понедельникам\n",
    "print(mos_mon)"
   ]
  },
  {
   "cell_type": "code",
   "execution_count": 25,
   "metadata": {
    "id": "hq_ncZ5T_Zcu"
   },
   "outputs": [
    {
     "name": "stdout",
     "output_type": "stream",
     "text": [
      "5614\n"
     ]
    }
   ],
   "source": [
    "sp_mon= number_tracks('Monday','Saint-Petersburg')# количество прослушиваний в Санкт-Петербурге по понедельникам\n",
    "print(sp_mon)"
   ]
  },
  {
   "cell_type": "code",
   "execution_count": 26,
   "metadata": {
    "id": "_NTy2VPU_Zcu"
   },
   "outputs": [
    {
     "name": "stdout",
     "output_type": "stream",
     "text": [
      "11056\n"
     ]
    }
   ],
   "source": [
    "mos_wed = number_tracks('Wednesday','Moscow')# количество прослушиваний в Москве по средам\n",
    "print(mos_wed)"
   ]
  },
  {
   "cell_type": "code",
   "execution_count": 27,
   "metadata": {
    "id": "j2y3TAwo_Zcu"
   },
   "outputs": [
    {
     "name": "stdout",
     "output_type": "stream",
     "text": [
      "7003\n"
     ]
    }
   ],
   "source": [
    "sp_wed = number_tracks('Wednesday','Saint-Petersburg')# количество прослушиваний в Санкт-Петербурге по средам\n",
    "print(sp_wed)"
   ]
  },
  {
   "cell_type": "code",
   "execution_count": 28,
   "metadata": {
    "id": "vYDw5u_K_Zcu"
   },
   "outputs": [
    {
     "name": "stdout",
     "output_type": "stream",
     "text": [
      "15945\n"
     ]
    }
   ],
   "source": [
    "mos_fr = number_tracks('Friday','Moscow')\n",
    "print(mos_fr)\n",
    "# количество прослушиваний в Москве по пятницам"
   ]
  },
  {
   "cell_type": "code",
   "execution_count": 29,
   "metadata": {
    "id": "8_yzFtW3_Zcu",
    "scrolled": true
   },
   "outputs": [
    {
     "name": "stdout",
     "output_type": "stream",
     "text": [
      "5895\n"
     ]
    }
   ],
   "source": [
    "sp_fr = number_tracks('Friday','Saint-Petersburg')\n",
    "print(sp_fr)\n",
    "# количество прослушиваний в Санкт-Петербурге по пятницам"
   ]
  },
  {
   "cell_type": "markdown",
   "metadata": {},
   "source": [
    "<div class=\"alert alert-warning\"> \n",
    "⚠️ print()"
   ]
  },
  {
   "cell_type": "markdown",
   "metadata": {
    "id": "7QXffbO-_Zcu"
   },
   "source": [
    "Создайте c помощью конструктора `pd.DataFrame` таблицу, где\n",
    "* названия колонок — `['city', 'monday', 'wednesday', 'friday']`;\n",
    "* данные — результаты, которые вы получили с помощью `number_tracks`."
   ]
  },
  {
   "cell_type": "code",
   "execution_count": 30,
   "metadata": {
    "id": "APAcLpOr_Zcu"
   },
   "outputs": [
    {
     "name": "stdout",
     "output_type": "stream",
     "text": [
      "               city  monday  wednesday  friday\n",
      "0  Saint-Petersburg    5614       7003    5895\n",
      "1            Moscow   15740      11056   15945\n"
     ]
    }
   ],
   "source": [
    "days = ['Monday', 'Wednesday', 'Friday']\n",
    "citys = ['Saint-Petersburg', 'Moscow']\n",
    "data_for_df = []\n",
    "\n",
    "\n",
    "for city in citys: \n",
    "    bufer_list = []\n",
    "    bufer_list.append(city)\n",
    "    for day in days:\n",
    "        bufer_list.append(number_tracks(day, city))\n",
    "    data_for_df.append(bufer_list)\n",
    "\n",
    "columns = [\"city\", 'monday', 'wednesday', 'friday'] \n",
    "\n",
    "days_track = pd.DataFrame(data=data_for_df, columns=columns)\n",
    "print(days_track)\n",
    "        \n",
    "        "
   ]
  },
  {
   "cell_type": "markdown",
   "metadata": {},
   "source": [
    "<div class=\"alert alert-success\">\n",
    "✔️ Таблица создана верно"
   ]
  },
  {
   "cell_type": "markdown",
   "metadata": {
    "id": "-EgPIHYu_Zcu"
   },
   "source": [
    "**Выводы**\n",
    "\n",
    "Данные показывают разницу поведения пользователей:\n",
    "\n",
    "- В Москве пик прослушиваний приходится на понедельник и пятницу, а в среду заметен спад.\n",
    "- В Петербурге, наоборот, больше слушают музыку по средам. Активность в понедельник и пятницу здесь почти в равной мере уступает среде.\n",
    "\n",
    "Значит, данные говорят в пользу первой гипотезы."
   ]
  },
  {
   "cell_type": "markdown",
   "metadata": {
    "id": "atZAxtq4_Zcu"
   },
   "source": [
    "### Музыка в начале и в конце недели"
   ]
  },
  {
   "cell_type": "markdown",
   "metadata": {
    "id": "eXrQqXFH_Zcu"
   },
   "source": [
    "Согласно второй гипотезе, утром в понедельник в Москве преобладают одни жанры, а в Петербурге — другие. Так же и вечером пятницы преобладают разные жанры — в зависимости от города."
   ]
  },
  {
   "cell_type": "markdown",
   "metadata": {
    "id": "S8UcW6Hw_Zcu"
   },
   "source": [
    "Сохраните таблицы с данными в две переменные:\n",
    "* по Москве — в `moscow_general`;\n",
    "* по Санкт-Петербургу — в `spb_general`."
   ]
  },
  {
   "cell_type": "code",
   "execution_count": 31,
   "metadata": {
    "id": "qeaFfM_P_Zcu"
   },
   "outputs": [
    {
     "name": "stdout",
     "output_type": "stream",
     "text": [
      "    user_id                        track            artist  genre    city  \\\n",
      "1  55204538  Delayed Because of Accident  Andreas Rönnberg   rock  Moscow   \n",
      "4  E2DC1FAE                  Soul People        Space Echo  dance  Moscow   \n",
      "6  4CB90AA5                         True      Roman Messer  dance  Moscow   \n",
      "\n",
      "       time        day  \n",
      "1  14:07:09     Friday  \n",
      "4  08:34:34     Monday  \n",
      "6  13:00:07  Wednesday  \n"
     ]
    }
   ],
   "source": [
    "moscow_general = df[df['city'] == 'Moscow']\n",
    "print(moscow_general.head(3))\n",
    "# получение таблицы moscow_general из тех строк таблицы df, \n",
    "# для которых значение в столбце 'city' равно 'Moscow'\n"
   ]
  },
  {
   "cell_type": "code",
   "execution_count": 35,
   "metadata": {
    "id": "ORaVRKto_Zcu"
   },
   "outputs": [
    {
     "name": "stdout",
     "output_type": "stream",
     "text": [
      "    user_id                  track            artist genre              city  \\\n",
      "0  FFB692EC      Kamigata To Boots  The Mass Missile  rock  Saint-Petersburg   \n",
      "2    20EC38      Funiculì funiculà       Mario Lanza   pop  Saint-Petersburg   \n",
      "3  A3DD03C9  Dragons in the Sunset        Fire + Ice  folk  Saint-Petersburg   \n",
      "\n",
      "       time        day  \n",
      "0  20:28:33  Wednesday  \n",
      "2  20:58:07  Wednesday  \n",
      "3  08:37:09     Monday  \n"
     ]
    }
   ],
   "source": [
    "spb_general = df[df['city'] == 'Saint-Petersburg']\n",
    "print(spb_general.head(3))\n",
    "\n",
    "\n",
    "# получение таблицы spb_general из тех строк таблицы df,\n",
    "# для которых значение в столбце 'city' равно 'Saint-Petersburg'\n"
   ]
  },
  {
   "cell_type": "markdown",
   "metadata": {},
   "source": [
    "<div class=\"alert alert-warning\"> \n",
    "⚠️ print()"
   ]
  },
  {
   "cell_type": "markdown",
   "metadata": {
    "id": "MEJV-CX2_Zcu"
   },
   "source": [
    "Создайте функцию `genre_weekday()` с четырьмя параметрами:\n",
    "* таблица (датафрейм) с данными,\n",
    "* день недели,\n",
    "* начальная временная метка в формате 'hh:mm', \n",
    "* последняя временная метка в формате 'hh:mm'.\n",
    "\n",
    "Функция должна вернуть информацию о топ-10 жанров тех треков, которые прослушивали в указанный день, в промежутке между двумя отметками времени."
   ]
  },
  {
   "cell_type": "code",
   "execution_count": 59,
   "metadata": {
    "id": "laJT9BYl_Zcu"
   },
   "outputs": [],
   "source": [
    "\n",
    "def genre_weekday(table, day, time1, time2):\n",
    "    genre_df = table[table[\"day\"] == day]\n",
    "    genre_df = genre_df[genre_df['time'] > time1]\n",
    "    genre_df = genre_df[genre_df['time'] < time2]\n",
    "    genre_df_count = genre_df.groupby('genre')['day'].count()\n",
    "    genre_df_sorted = genre_df_count.sort_values(ascending=False)\n",
    "    return genre_df_sorted[:10]\n",
    "\n",
    "\n",
    "# Объявление функции genre_weekday() с параметрами table, day, time1, time2,\n",
    "# которая возвращает информацию о самых популярных жанрах в указанный день в\n",
    "# заданное время:\n",
    "# 1) в переменную genre_df сохраняются те строки переданного датафрейма table, для\n",
    "#    которых одновременно:\n",
    "#    - значение в столбце day равно значению аргумента day\n",
    "#    - значение в столбце time больше значения аргумента time1\n",
    "#    - значение в столбце time меньше значения аргумента time2\n",
    "#    Используйте последовательную фильтрацию с помощью логической индексации.\n",
    "# 2) сгруппировать датафрейм genre_df по столбцу genre, взять один из его\n",
    "#    столбцов и посчитать методом count() количество записей для каждого из\n",
    "#    присутствующих жанров, получившийся Series записать в переменную\n",
    "#    genre_df_count\n",
    "# 3) отсортировать genre_df_count по убыванию встречаемости и сохранить\n",
    "#    в переменную genre_df_sorted\n",
    "# 4) вернуть Series из 10 первых значений genre_df_sorted, это будут топ-10\n",
    "#    популярных жанров (в указанный день, в заданное время)"
   ]
  },
  {
   "cell_type": "markdown",
   "metadata": {},
   "source": [
    "<div class=\"alert alert-success\">\n",
    "✔️ Функция написана верно\n",
    "</div>"
   ]
  },
  {
   "cell_type": "markdown",
   "metadata": {
    "id": "la2s2_PF_Zcu"
   },
   "source": [
    "Cравните результаты функции `genre_weekday()` для Москвы и Санкт-Петербурга в понедельник утром (с 7:00 до 11:00) и в пятницу вечером (с 17:00 до 23:00):"
   ]
  },
  {
   "cell_type": "code",
   "execution_count": 60,
   "metadata": {
    "id": "yz7itPUQ_Zcu"
   },
   "outputs": [
    {
     "data": {
      "text/plain": [
       "genre\n",
       "pop            781\n",
       "dance          549\n",
       "electronic     480\n",
       "rock           474\n",
       "hiphop         286\n",
       "ruspop         186\n",
       "world          181\n",
       "rusrap         175\n",
       "alternative    164\n",
       "unknown        161\n",
       "Name: day, dtype: int64"
      ]
     },
     "execution_count": 60,
     "metadata": {},
     "output_type": "execute_result"
    }
   ],
   "source": [
    "genre_weekday(moscow_general, 'Monday', '07:00', '11:00')\n",
    "# вызов функции для утра понедельника в Москве (вместо df — таблица moscow_general)\n",
    "# объекты, хранящие время, являются строками и сравниваются как строки\n",
    "# пример вызова: genre_weekday(moscow_general, 'Monday', '07:00', '11:00')"
   ]
  },
  {
   "cell_type": "code",
   "execution_count": 61,
   "metadata": {
    "id": "kwUcHPdy_Zcu"
   },
   "outputs": [
    {
     "data": {
      "text/plain": [
       "genre\n",
       "pop            218\n",
       "dance          182\n",
       "rock           162\n",
       "electronic     147\n",
       "hiphop          80\n",
       "ruspop          64\n",
       "alternative     58\n",
       "rusrap          55\n",
       "jazz            44\n",
       "classical       40\n",
       "Name: day, dtype: int64"
      ]
     },
     "execution_count": 61,
     "metadata": {},
     "output_type": "execute_result"
    }
   ],
   "source": [
    "genre_weekday(spb_general, 'Monday', '07:00', '11:00')\n",
    "# вызов функции для утра понедельника в Петербурге (вместо df — таблица spb_general)"
   ]
  },
  {
   "cell_type": "code",
   "execution_count": 62,
   "metadata": {
    "id": "EzXVRE1o_Zcu"
   },
   "outputs": [
    {
     "data": {
      "text/plain": [
       "genre\n",
       "pop            713\n",
       "rock           517\n",
       "dance          495\n",
       "electronic     482\n",
       "hiphop         273\n",
       "world          208\n",
       "ruspop         170\n",
       "alternative    163\n",
       "classical      163\n",
       "rusrap         142\n",
       "Name: day, dtype: int64"
      ]
     },
     "execution_count": 62,
     "metadata": {},
     "output_type": "execute_result"
    }
   ],
   "source": [
    "genre_weekday(moscow_general, 'Friday', '17:00', '23:00')\n",
    "# вызов функции для вечера пятницы в Москве"
   ]
  },
  {
   "cell_type": "code",
   "execution_count": 63,
   "metadata": {
    "id": "JZaEKu5v_Zcu"
   },
   "outputs": [
    {
     "data": {
      "text/plain": [
       "genre\n",
       "pop            256\n",
       "electronic     216\n",
       "rock           216\n",
       "dance          210\n",
       "hiphop          97\n",
       "alternative     63\n",
       "jazz            61\n",
       "classical       60\n",
       "rusrap          59\n",
       "world           54\n",
       "Name: day, dtype: int64"
      ]
     },
     "execution_count": 63,
     "metadata": {},
     "output_type": "execute_result"
    }
   ],
   "source": [
    "genre_weekday(spb_general, 'Friday', '17:00', '23:00')\n",
    "# вызов функции для вечера пятницы в Петербурге"
   ]
  },
  {
   "cell_type": "markdown",
   "metadata": {},
   "source": [
    "<div class=\"alert alert-success\">\n",
    "✔️ С помощью функции мы получили всю нужную информацию!\n",
    "</div>"
   ]
  },
  {
   "cell_type": "markdown",
   "metadata": {
    "id": "wrCe4MNX_Zcu"
   },
   "source": [
    "**Выводы**\n",
    "\n",
    "Если сравнить топ-10 жанров в понедельник утром, можно сделать такие выводы:\n",
    "\n",
    "1. В Москве и Петербурге слушают похожую музыку. Единственное отличие — в московский рейтинг вошёл жанр “world”, а в петербургский — джаз и классика.\n",
    "\n",
    "2. В Москве пропущенных значений оказалось так много, что значение `'unknown'` заняло десятое место среди самых популярных жанров. Значит, пропущенные значения занимают существенную долю в данных и угрожают достоверности исследования.\n",
    "\n",
    "Вечер пятницы не меняет эту картину. Некоторые жанры поднимаются немного выше, другие спускаются, но в целом топ-10 остаётся тем же самым.\n",
    "\n",
    "Таким образом, вторая гипотеза подтвердилась лишь частично:\n",
    "* Пользователи слушают похожую музыку в начале недели и в конце.\n",
    "* Разница между Москвой и Петербургом не слишком выражена. В Москве чаще слушают русскую популярную музыку, в Петербурге — джаз.\n",
    "\n",
    "Однако пропуски в данных ставят под сомнение этот результат. В Москве их так много, что рейтинг топ-10 мог бы выглядеть иначе, если бы не утерянные  данные о жанрах."
   ]
  },
  {
   "cell_type": "markdown",
   "metadata": {
    "id": "JolODAqr_Zcu"
   },
   "source": [
    "### Жанровые предпочтения в Москве и Петербурге\n",
    "\n",
    "Гипотеза: Петербург — столица рэпа, музыку этого жанра там слушают чаще, чем в Москве.  А Москва — город контрастов, в котором, тем не менее, преобладает поп-музыка."
   ]
  },
  {
   "cell_type": "markdown",
   "metadata": {
    "id": "DlegSvaT_Zcu"
   },
   "source": [
    "Сгруппируйте таблицу `moscow_general` по жанру и посчитайте прослушивания треков каждого жанра методом `count()`. Затем отсортируйте результат в порядке убывания и сохраните его в таблице `moscow_genres`."
   ]
  },
  {
   "cell_type": "code",
   "execution_count": 65,
   "metadata": {
    "id": "r19lIPke_Zcu"
   },
   "outputs": [],
   "source": [
    "moscow_genres = moscow_general.groupby('genre')['genre'].count().sort_values(ascending=False)\n",
    "\n",
    "# одной строкой: группировка таблицы moscow_general по столбцу 'genre', \n",
    "# подсчёт числа значений 'genre' в этой группировке методом count(), \n",
    "# сортировка получившегося Series в порядке убывания и сохранение в moscow_genres"
   ]
  },
  {
   "cell_type": "markdown",
   "metadata": {
    "id": "6kMuomxTiIr8"
   },
   "source": [
    "Выведите на экран первые десять строк `moscow_genres`:"
   ]
  },
  {
   "cell_type": "code",
   "execution_count": 66,
   "metadata": {
    "id": "WhCSooF8_Zcv"
   },
   "outputs": [
    {
     "data": {
      "text/plain": [
       "genre\n",
       "pop            5892\n",
       "dance          4435\n",
       "rock           3965\n",
       "electronic     3786\n",
       "hiphop         2096\n",
       "classical      1616\n",
       "world          1432\n",
       "alternative    1379\n",
       "ruspop         1372\n",
       "rusrap         1161\n",
       "Name: genre, dtype: int64"
      ]
     },
     "execution_count": 66,
     "metadata": {},
     "output_type": "execute_result"
    }
   ],
   "source": [
    "moscow_genres.head(10)"
   ]
  },
  {
   "cell_type": "markdown",
   "metadata": {},
   "source": [
    "<div class=\"alert alert-success\">\n",
    "✔️ Данные по Москве получены. И хочу подсветить момент, что не использован print() и все окей:)\n",
    "</div>"
   ]
  },
  {
   "cell_type": "markdown",
   "metadata": {
    "id": "cnPG2vnN_Zcv"
   },
   "source": [
    "Теперь повторите то же и для Петербурга.\n",
    "\n",
    "Сгруппируйте таблицу `spb_general` по жанру. Посчитайте прослушивания треков каждого жанра. Результат отсортируйте в порядке убывания и сохраните в таблице `spb_genres`:\n"
   ]
  },
  {
   "cell_type": "code",
   "execution_count": 67,
   "metadata": {
    "id": "gluLIpE7_Zcv"
   },
   "outputs": [],
   "source": [
    "spb_genres = spb_general.groupby('genre')['genre'].count().sort_values(ascending=False)\n",
    "# одной строкой: группировка таблицы spb_general по столбцу 'genre', \n",
    "# подсчёт числа значений 'genre' в этой группировке методом count(), \n",
    "# сортировка получившегося Series в порядке убывания и сохранение в spb_genres"
   ]
  },
  {
   "cell_type": "markdown",
   "metadata": {
    "id": "5Doha_ODgyQ8"
   },
   "source": [
    "Выведите на экран первые десять строк `spb_genres`:"
   ]
  },
  {
   "cell_type": "code",
   "execution_count": 68,
   "metadata": {
    "id": "uaGJHjVU_Zcv"
   },
   "outputs": [
    {
     "name": "stdout",
     "output_type": "stream",
     "text": [
      "genre\n",
      "pop            2431\n",
      "dance          1932\n",
      "rock           1879\n",
      "electronic     1736\n",
      "hiphop          960\n",
      "alternative     649\n",
      "classical       646\n",
      "rusrap          564\n",
      "ruspop          538\n",
      "world           515\n",
      "Name: genre, dtype: int64\n"
     ]
    }
   ],
   "source": [
    "print(spb_genres.head(10))\n",
    "# просмотр первых 10 строк spb_genres"
   ]
  },
  {
   "cell_type": "markdown",
   "metadata": {},
   "source": [
    "<div class=\"alert alert-success\">\n",
    "✔️ Данные по Питеру у нас тоже есть.\n",
    "</div>"
   ]
  },
  {
   "cell_type": "markdown",
   "metadata": {},
   "source": [
    "<div class=\"alert alert-warning\"> \n",
    "⚠️ print()"
   ]
  },
  {
   "cell_type": "markdown",
   "metadata": {
    "id": "RY51YJYu_Zcv"
   },
   "source": [
    "**Выводы**"
   ]
  },
  {
   "cell_type": "markdown",
   "metadata": {
    "id": "nVhnJEm__Zcv"
   },
   "source": [
    "Гипотеза частично подтвердилась:\n",
    "* Поп-музыка — самый популярный жанр в Москве, как и предполагала гипотеза. Более того, в топ-10 жанров встречается близкий жанр — русская популярная музыка.\n",
    "* Вопреки ожиданиям, рэп одинаково популярен в Москве и Петербурге. \n"
   ]
  },
  {
   "cell_type": "markdown",
   "metadata": {},
   "source": [
    "<div class=\"alert alert-success\">\n",
    "✔️ Шаг выполнен хорошо. Сделана большая работа! Прошу еще опять же обратить внимание на выводы и опираться на такой пример в будущих проектах, так как хорошие выводы итоговый и промежуточные — очень правда важно. \n",
    "</div>"
   ]
  },
  {
   "cell_type": "markdown",
   "metadata": {
    "id": "ykKQ0N65_Zcv"
   },
   "source": [
    "## Итоги исследования"
   ]
  },
  {
   "cell_type": "markdown",
   "metadata": {
    "id": "tjUwbHb3_Zcv"
   },
   "source": [
    "Вы проверили три гипотезы и установили:\n",
    "\n",
    "1. День недели по-разному влияет на активность пользователей в Москве и Петербурге. \n",
    "\n",
    "Первая гипотеза полностью подтвердилась.\n",
    "\n",
    "2. Музыкальные предпочтения не сильно меняются в течение недели — будь то Москва или Петербург. Небольшие различия заметны в начале недели, по понедельникам:\n",
    "* в Москве слушают музыку жанра “world”,\n",
    "* в Петербурге — джаз и классику.\n",
    "\n",
    "Таким образом, вторая гипотеза подтвердилась лишь отчасти. Этот результат мог оказаться иным, если бы не пропуски в данных.\n",
    "\n",
    "3. Во вкусах пользователей Москвы и Петербурга больше общего чем различий. Вопреки ожиданиям, предпочтения жанров в Петербурге напоминают московские.\n",
    "\n",
    "Третья гипотеза не подтвердилась. Если различия в предпочтениях и существуют, на основной массе пользователей они незаметны.\n",
    "\n",
    "**На практике исследования содержат проверки статистических гипотез.**\n",
    "Из данных одного сервиса не всегда можно сделать вывод о всех жителях города.\n",
    "Проверки статистических гипотез покажут, насколько они достоверны, исходя из имеющихся данных. \n",
    "С методами проверок гипотез вы ещё познакомитесь в следующих темах."
   ]
  },
  {
   "cell_type": "markdown",
   "metadata": {},
   "source": [
    "<div class=\"alert alert-success\">\n",
    "В итоговом выводе мы описываем основные итоги работы. Поэтому не забывай, пожалуйста, уделять ему особое внимание в последующих проектах!\n",
    "</div>"
   ]
  },
  {
   "cell_type": "markdown",
   "metadata": {},
   "source": [
    "<div class=\"alert alert-info\"> <p2>\n",
    "Работа хороша! Я вижу, что ты хорошо разбираешься в теме. Ты показываешь хорошее владение всем изучаемым в модуле материалом. \n",
    "Осталась только одна небольшая доработка:\n",
    "\n",
    "1. Ответить на вопрос в третьем пункте задания 1.4;\n",
    "    \n",
    "Жду твоих исправлений :)\n",
    "</p2>\n",
    "</div>"
   ]
  },
  {
   "cell_type": "markdown",
   "metadata": {},
   "source": [
    "<div class=\"alert alert-info\"> <p2>\n",
    "<b>Комментарий ревьюера v2</b>    <br>\n",
    "Отлично! Спасибо за работу) Удачи тебе в стараниях, я уверена что у тебя все получится! Старт отличный)"
   ]
  },
  {
   "cell_type": "code",
   "execution_count": null,
   "metadata": {},
   "outputs": [],
   "source": []
  }
 ],
 "metadata": {
  "ExecuteTimeLog": [
   {
    "duration": 47,
    "start_time": "2022-03-24T05:14:29.720Z"
   },
   {
    "duration": 7,
    "start_time": "2022-03-24T05:14:40.041Z"
   },
   {
    "duration": 6,
    "start_time": "2022-03-24T05:14:42.343Z"
   },
   {
    "duration": 387,
    "start_time": "2022-03-24T05:14:46.662Z"
   },
   {
    "duration": 72,
    "start_time": "2022-03-24T05:14:49.072Z"
   },
   {
    "duration": 159,
    "start_time": "2022-03-24T05:15:23.853Z"
   },
   {
    "duration": 165,
    "start_time": "2022-03-24T05:15:28.527Z"
   },
   {
    "duration": 8,
    "start_time": "2022-03-24T05:15:32.437Z"
   },
   {
    "duration": 30,
    "start_time": "2022-03-24T05:15:58.764Z"
   },
   {
    "duration": 3,
    "start_time": "2022-03-24T05:18:52.139Z"
   },
   {
    "duration": 21,
    "start_time": "2022-03-24T05:19:57.169Z"
   },
   {
    "duration": 80,
    "start_time": "2022-03-24T05:20:51.274Z"
   },
   {
    "duration": 81,
    "start_time": "2022-03-24T05:21:36.215Z"
   },
   {
    "duration": 8,
    "start_time": "2022-03-24T05:22:11.770Z"
   },
   {
    "duration": 29,
    "start_time": "2022-03-24T05:22:14.492Z"
   },
   {
    "duration": 4,
    "start_time": "2022-03-24T05:22:56.139Z"
   },
   {
    "duration": 9,
    "start_time": "2022-03-24T05:23:15.911Z"
   },
   {
    "duration": 3,
    "start_time": "2022-03-24T05:23:19.130Z"
   },
   {
    "duration": 26,
    "start_time": "2022-03-24T05:27:11.260Z"
   },
   {
    "duration": 25,
    "start_time": "2022-03-24T05:36:46.829Z"
   },
   {
    "duration": 19,
    "start_time": "2022-03-24T05:37:18.181Z"
   },
   {
    "duration": 10,
    "start_time": "2022-03-24T05:38:02.923Z"
   },
   {
    "duration": 8,
    "start_time": "2022-03-24T05:38:09.680Z"
   },
   {
    "duration": 12,
    "start_time": "2022-03-24T05:38:12.193Z"
   },
   {
    "duration": 8,
    "start_time": "2022-03-24T05:38:16.056Z"
   },
   {
    "duration": 13,
    "start_time": "2022-03-24T05:38:41.046Z"
   },
   {
    "duration": 11,
    "start_time": "2022-03-24T05:40:17.160Z"
   },
   {
    "duration": 9,
    "start_time": "2022-03-24T05:40:32.049Z"
   },
   {
    "duration": 2,
    "start_time": "2022-03-24T05:40:33.562Z"
   },
   {
    "duration": 14,
    "start_time": "2022-03-24T05:40:48.506Z"
   },
   {
    "duration": 14,
    "start_time": "2022-03-24T05:40:56.645Z"
   },
   {
    "duration": 11,
    "start_time": "2022-03-24T05:41:35.373Z"
   },
   {
    "duration": 14,
    "start_time": "2022-03-24T05:41:42.579Z"
   },
   {
    "duration": 14,
    "start_time": "2022-03-24T05:41:47.179Z"
   },
   {
    "duration": 15,
    "start_time": "2022-03-24T05:41:49.060Z"
   },
   {
    "duration": 11,
    "start_time": "2022-03-24T05:42:03.800Z"
   },
   {
    "duration": 10,
    "start_time": "2022-03-24T05:42:26.130Z"
   },
   {
    "duration": 9,
    "start_time": "2022-03-24T05:42:37.111Z"
   },
   {
    "duration": 3,
    "start_time": "2022-03-24T05:42:42.798Z"
   },
   {
    "duration": 244,
    "start_time": "2022-03-24T05:42:44.897Z"
   },
   {
    "duration": 7,
    "start_time": "2022-03-24T05:42:48.989Z"
   },
   {
    "duration": 31,
    "start_time": "2022-03-24T05:42:51.680Z"
   },
   {
    "duration": 4,
    "start_time": "2022-03-24T05:42:57.204Z"
   },
   {
    "duration": 9,
    "start_time": "2022-03-24T05:43:05.798Z"
   },
   {
    "duration": 3,
    "start_time": "2022-03-24T05:43:08.861Z"
   },
   {
    "duration": 34,
    "start_time": "2022-03-24T05:43:20.314Z"
   },
   {
    "duration": 3,
    "start_time": "2022-03-24T05:43:30.082Z"
   },
   {
    "duration": 25,
    "start_time": "2022-03-24T05:43:34.661Z"
   },
   {
    "duration": 44,
    "start_time": "2022-03-24T05:43:46.080Z"
   },
   {
    "duration": 16,
    "start_time": "2022-03-24T05:43:53.286Z"
   },
   {
    "duration": 38,
    "start_time": "2022-03-24T05:43:56.928Z"
   },
   {
    "duration": 15,
    "start_time": "2022-03-24T05:44:07.751Z"
   },
   {
    "duration": 11,
    "start_time": "2022-03-24T05:44:18.650Z"
   },
   {
    "duration": 8,
    "start_time": "2022-03-24T05:44:23.152Z"
   },
   {
    "duration": 3,
    "start_time": "2022-03-24T05:44:30.058Z"
   },
   {
    "duration": 161,
    "start_time": "2022-03-24T05:44:32.275Z"
   },
   {
    "duration": 8,
    "start_time": "2022-03-24T05:44:33.858Z"
   },
   {
    "duration": 29,
    "start_time": "2022-03-24T05:44:40.070Z"
   },
   {
    "duration": 3,
    "start_time": "2022-03-24T05:44:45.004Z"
   },
   {
    "duration": 10,
    "start_time": "2022-03-24T05:44:47.850Z"
   },
   {
    "duration": 4,
    "start_time": "2022-03-24T05:44:49.071Z"
   },
   {
    "duration": 25,
    "start_time": "2022-03-24T05:44:50.494Z"
   },
   {
    "duration": 19,
    "start_time": "2022-03-24T05:44:58.394Z"
   },
   {
    "duration": 17,
    "start_time": "2022-03-24T05:45:00.893Z"
   },
   {
    "duration": 31,
    "start_time": "2022-03-24T05:45:07.511Z"
   },
   {
    "duration": 25,
    "start_time": "2022-03-24T05:45:12.482Z"
   },
   {
    "duration": 69,
    "start_time": "2022-03-24T05:46:06.200Z"
   },
   {
    "duration": 58,
    "start_time": "2022-03-24T05:46:21.156Z"
   },
   {
    "duration": 60,
    "start_time": "2022-03-24T05:46:33.412Z"
   },
   {
    "duration": 9,
    "start_time": "2022-03-24T05:53:13.448Z"
   },
   {
    "duration": 8,
    "start_time": "2022-03-24T05:53:31.056Z"
   },
   {
    "duration": 55,
    "start_time": "2022-03-24T05:53:36.499Z"
   },
   {
    "duration": 65,
    "start_time": "2022-03-24T05:53:54.362Z"
   },
   {
    "duration": 78,
    "start_time": "2022-03-24T05:54:06.957Z"
   },
   {
    "duration": 62,
    "start_time": "2022-03-24T05:54:09.505Z"
   },
   {
    "duration": 8,
    "start_time": "2022-03-24T05:55:11.186Z"
   },
   {
    "duration": 8,
    "start_time": "2022-03-24T05:55:32.120Z"
   },
   {
    "duration": 6,
    "start_time": "2022-03-24T05:55:50.722Z"
   },
   {
    "duration": 7,
    "start_time": "2022-03-24T05:58:32.236Z"
   },
   {
    "duration": 7,
    "start_time": "2022-03-24T06:16:33.215Z"
   },
   {
    "duration": 7,
    "start_time": "2022-03-24T06:16:42.809Z"
   },
   {
    "duration": 3,
    "start_time": "2022-03-24T06:16:55.316Z"
   },
   {
    "duration": 9,
    "start_time": "2022-03-24T06:16:57.262Z"
   },
   {
    "duration": 9,
    "start_time": "2022-03-24T06:17:45.432Z"
   },
   {
    "duration": 6,
    "start_time": "2022-03-24T06:17:58.572Z"
   },
   {
    "duration": 4,
    "start_time": "2022-03-24T06:23:02.087Z"
   },
   {
    "duration": 10,
    "start_time": "2022-03-24T06:23:43.266Z"
   },
   {
    "duration": 12,
    "start_time": "2022-03-24T06:23:56.329Z"
   },
   {
    "duration": 19,
    "start_time": "2022-03-24T06:27:08.797Z"
   },
   {
    "duration": 9,
    "start_time": "2022-03-24T06:28:00.793Z"
   },
   {
    "duration": 13,
    "start_time": "2022-03-24T06:28:26.995Z"
   },
   {
    "duration": 16,
    "start_time": "2022-03-24T06:28:39.166Z"
   },
   {
    "duration": 49,
    "start_time": "2022-03-24T08:01:54.532Z"
   },
   {
    "duration": 7,
    "start_time": "2022-03-24T08:02:02.837Z"
   },
   {
    "duration": 7,
    "start_time": "2022-03-24T08:02:10.618Z"
   },
   {
    "duration": 8,
    "start_time": "2022-03-24T08:02:14.189Z"
   },
   {
    "duration": 7,
    "start_time": "2022-03-24T08:02:20.522Z"
   },
   {
    "duration": 409,
    "start_time": "2022-03-24T08:02:23.443Z"
   },
   {
    "duration": 238,
    "start_time": "2022-03-24T08:02:25.055Z"
   },
   {
    "duration": 54,
    "start_time": "2022-03-24T08:02:38.177Z"
   },
   {
    "duration": 14,
    "start_time": "2022-03-24T08:02:50.177Z"
   },
   {
    "duration": 32,
    "start_time": "2022-03-24T08:03:01.087Z"
   },
   {
    "duration": 12,
    "start_time": "2022-03-24T08:19:44.451Z"
   },
   {
    "duration": 20,
    "start_time": "2022-03-24T08:23:18.513Z"
   },
   {
    "duration": 44,
    "start_time": "2022-03-24T08:25:17.378Z"
   },
   {
    "duration": 17,
    "start_time": "2022-03-24T08:25:29.299Z"
   },
   {
    "duration": 27,
    "start_time": "2022-03-24T08:25:31.747Z"
   },
   {
    "duration": 23,
    "start_time": "2022-03-24T08:25:34.190Z"
   },
   {
    "duration": 22,
    "start_time": "2022-03-24T08:25:36.171Z"
   },
   {
    "duration": 18,
    "start_time": "2022-03-24T08:25:38.389Z"
   },
   {
    "duration": 26,
    "start_time": "2022-03-24T08:27:56.217Z"
   },
   {
    "duration": 33,
    "start_time": "2022-03-24T08:41:19.377Z"
   },
   {
    "duration": 31,
    "start_time": "2022-03-24T08:41:22.430Z"
   },
   {
    "duration": 35,
    "start_time": "2022-03-24T08:41:32.658Z"
   },
   {
    "duration": 40,
    "start_time": "2022-03-24T08:42:06.522Z"
   },
   {
    "duration": 32,
    "start_time": "2022-03-24T08:42:40.907Z"
   },
   {
    "duration": 70,
    "start_time": "2022-03-24T08:43:05.561Z"
   },
   {
    "duration": 16,
    "start_time": "2022-03-24T08:46:50.941Z"
   },
   {
    "duration": 14,
    "start_time": "2022-03-24T08:47:32.822Z"
   },
   {
    "duration": 19,
    "start_time": "2022-03-24T09:09:37.456Z"
   },
   {
    "duration": 16,
    "start_time": "2022-03-24T09:09:43.142Z"
   },
   {
    "duration": 7,
    "start_time": "2022-03-24T09:10:27.734Z"
   },
   {
    "duration": 104,
    "start_time": "2022-03-24T09:11:22.955Z"
   },
   {
    "duration": 96,
    "start_time": "2022-03-24T09:11:34.145Z"
   },
   {
    "duration": 5,
    "start_time": "2022-03-24T09:11:51.161Z"
   },
   {
    "duration": 30,
    "start_time": "2022-03-24T09:11:54.945Z"
   },
   {
    "duration": 5,
    "start_time": "2022-03-24T09:12:44.751Z"
   },
   {
    "duration": 24,
    "start_time": "2022-03-24T09:12:47.367Z"
   },
   {
    "duration": 16,
    "start_time": "2022-03-24T09:14:11.773Z"
   },
   {
    "duration": 23,
    "start_time": "2022-03-24T09:14:27.301Z"
   },
   {
    "duration": 16,
    "start_time": "2022-03-24T09:14:38.564Z"
   },
   {
    "duration": 15,
    "start_time": "2022-03-24T09:15:22.234Z"
   },
   {
    "duration": 14,
    "start_time": "2022-03-24T09:15:26.589Z"
   },
   {
    "duration": 19,
    "start_time": "2022-03-24T09:16:02.570Z"
   },
   {
    "duration": 22,
    "start_time": "2022-03-24T09:16:03.783Z"
   },
   {
    "duration": 22,
    "start_time": "2022-03-24T09:16:05.665Z"
   },
   {
    "duration": 19,
    "start_time": "2022-03-24T09:16:10.203Z"
   },
   {
    "duration": 23,
    "start_time": "2022-03-24T09:16:11.093Z"
   },
   {
    "duration": 4,
    "start_time": "2022-03-24T09:16:56.029Z"
   },
   {
    "duration": 24,
    "start_time": "2022-03-24T09:16:59.655Z"
   },
   {
    "duration": 19,
    "start_time": "2022-03-24T09:17:05.099Z"
   },
   {
    "duration": 27,
    "start_time": "2022-03-24T09:17:10.251Z"
   },
   {
    "duration": 19,
    "start_time": "2022-03-24T09:17:12.486Z"
   },
   {
    "duration": 20,
    "start_time": "2022-03-24T09:17:28.452Z"
   },
   {
    "duration": 19,
    "start_time": "2022-03-24T09:17:45.001Z"
   },
   {
    "duration": 5,
    "start_time": "2022-03-24T09:18:28.231Z"
   },
   {
    "duration": 26,
    "start_time": "2022-03-24T09:18:43.452Z"
   },
   {
    "duration": 21,
    "start_time": "2022-03-24T09:19:02.597Z"
   },
   {
    "duration": 5,
    "start_time": "2022-03-24T09:19:11.257Z"
   },
   {
    "duration": 27,
    "start_time": "2022-03-24T09:19:17.517Z"
   },
   {
    "duration": 33,
    "start_time": "2022-03-24T09:19:19.939Z"
   },
   {
    "duration": 23,
    "start_time": "2022-03-24T09:19:43.872Z"
   },
   {
    "duration": 19,
    "start_time": "2022-03-24T09:19:46.978Z"
   },
   {
    "duration": 6,
    "start_time": "2022-03-24T09:21:36.251Z"
   },
   {
    "duration": 28,
    "start_time": "2022-03-24T09:21:38.998Z"
   },
   {
    "duration": 20,
    "start_time": "2022-03-24T09:21:44.115Z"
   },
   {
    "duration": 5,
    "start_time": "2022-03-24T09:22:13.547Z"
   },
   {
    "duration": 31,
    "start_time": "2022-03-24T09:22:16.689Z"
   },
   {
    "duration": 36,
    "start_time": "2022-03-24T09:22:23.662Z"
   },
   {
    "duration": 6,
    "start_time": "2022-03-24T09:23:32.604Z"
   },
   {
    "duration": 34,
    "start_time": "2022-03-24T09:23:35.650Z"
   },
   {
    "duration": 5,
    "start_time": "2022-03-24T09:23:38.900Z"
   },
   {
    "duration": 33,
    "start_time": "2022-03-24T09:23:41.981Z"
   },
   {
    "duration": 20,
    "start_time": "2022-03-24T09:23:46.008Z"
   },
   {
    "duration": 24,
    "start_time": "2022-03-24T09:25:23.800Z"
   },
   {
    "duration": 94,
    "start_time": "2022-03-24T09:25:27.453Z"
   },
   {
    "duration": 7,
    "start_time": "2022-03-24T09:25:32.616Z"
   },
   {
    "duration": 18,
    "start_time": "2022-03-24T09:26:08.467Z"
   },
   {
    "duration": 16,
    "start_time": "2022-03-24T09:26:13.271Z"
   },
   {
    "duration": 20,
    "start_time": "2022-03-24T09:26:39.815Z"
   },
   {
    "duration": 15,
    "start_time": "2022-03-24T09:26:43.360Z"
   },
   {
    "duration": 27,
    "start_time": "2022-03-24T09:27:12.101Z"
   },
   {
    "duration": 27,
    "start_time": "2022-03-24T09:27:16.077Z"
   },
   {
    "duration": 24,
    "start_time": "2022-03-24T09:28:25.031Z"
   },
   {
    "duration": 15,
    "start_time": "2022-03-24T09:28:39.999Z"
   },
   {
    "duration": 5,
    "start_time": "2022-03-24T09:29:18.818Z"
   },
   {
    "duration": 39,
    "start_time": "2022-03-24T09:29:24.386Z"
   },
   {
    "duration": 30,
    "start_time": "2022-03-24T09:29:26.455Z"
   },
   {
    "duration": 5,
    "start_time": "2022-03-24T09:30:44.984Z"
   },
   {
    "duration": 35,
    "start_time": "2022-03-24T09:30:47.453Z"
   },
   {
    "duration": 34,
    "start_time": "2022-03-24T09:47:35.655Z"
   },
   {
    "duration": 28,
    "start_time": "2022-03-24T09:47:38.734Z"
   },
   {
    "duration": 4,
    "start_time": "2022-03-24T09:48:48.116Z"
   },
   {
    "duration": 33,
    "start_time": "2022-03-24T09:48:50.951Z"
   },
   {
    "duration": 38,
    "start_time": "2022-03-24T09:49:01.860Z"
   },
   {
    "duration": 6,
    "start_time": "2022-03-24T10:22:02.128Z"
   },
   {
    "duration": 27,
    "start_time": "2022-03-24T10:22:05.893Z"
   },
   {
    "duration": 6,
    "start_time": "2022-03-24T10:22:45.087Z"
   },
   {
    "duration": 19,
    "start_time": "2022-03-24T10:22:48.485Z"
   },
   {
    "duration": 4,
    "start_time": "2022-03-24T10:22:56.946Z"
   },
   {
    "duration": 19,
    "start_time": "2022-03-24T10:22:59.389Z"
   },
   {
    "duration": 5,
    "start_time": "2022-03-24T10:23:12.161Z"
   },
   {
    "duration": 1096,
    "start_time": "2022-03-24T10:23:14.462Z"
   },
   {
    "duration": 395,
    "start_time": "2022-03-24T10:23:20.135Z"
   },
   {
    "duration": 6,
    "start_time": "2022-03-24T10:24:34.040Z"
   },
   {
    "duration": 1036,
    "start_time": "2022-03-24T10:24:37.543Z"
   },
   {
    "duration": 386,
    "start_time": "2022-03-24T10:24:43.068Z"
   },
   {
    "duration": 5,
    "start_time": "2022-03-24T10:24:58.008Z"
   },
   {
    "duration": 1031,
    "start_time": "2022-03-24T10:25:00.370Z"
   },
   {
    "duration": 397,
    "start_time": "2022-03-24T10:25:05.238Z"
   },
   {
    "duration": 693,
    "start_time": "2022-03-24T10:25:07.679Z"
   },
   {
    "duration": 266,
    "start_time": "2022-03-24T10:25:10.157Z"
   },
   {
    "duration": 10,
    "start_time": "2022-03-24T10:36:58.335Z"
   },
   {
    "duration": 6,
    "start_time": "2022-03-24T10:37:11.237Z"
   },
   {
    "duration": 46,
    "start_time": "2022-03-24T23:28:21.739Z"
   },
   {
    "duration": 376,
    "start_time": "2022-03-24T23:28:29.065Z"
   },
   {
    "duration": 166,
    "start_time": "2022-03-24T23:28:29.857Z"
   },
   {
    "duration": 8,
    "start_time": "2022-03-24T23:28:31.632Z"
   },
   {
    "duration": 29,
    "start_time": "2022-03-24T23:28:34.138Z"
   },
   {
    "duration": 4,
    "start_time": "2022-03-24T23:28:37.089Z"
   },
   {
    "duration": 15,
    "start_time": "2022-03-24T23:28:40.692Z"
   },
   {
    "duration": 3,
    "start_time": "2022-03-24T23:28:41.941Z"
   },
   {
    "duration": 24,
    "start_time": "2022-03-24T23:28:45.236Z"
   },
   {
    "duration": 20,
    "start_time": "2022-03-24T23:28:49.166Z"
   },
   {
    "duration": 24,
    "start_time": "2022-03-24T23:28:50.976Z"
   },
   {
    "duration": 64,
    "start_time": "2022-03-24T23:28:53.294Z"
   },
   {
    "duration": 77,
    "start_time": "2022-03-24T23:28:55.735Z"
   },
   {
    "duration": 58,
    "start_time": "2022-03-24T23:28:57.377Z"
   },
   {
    "duration": 7,
    "start_time": "2022-03-24T23:28:59.549Z"
   },
   {
    "duration": 3,
    "start_time": "2022-03-24T23:29:06.105Z"
   },
   {
    "duration": 11,
    "start_time": "2022-03-24T23:29:08.429Z"
   },
   {
    "duration": 7,
    "start_time": "2022-03-24T23:29:10.483Z"
   },
   {
    "duration": 10,
    "start_time": "2022-03-24T23:29:15.136Z"
   },
   {
    "duration": 10,
    "start_time": "2022-03-24T23:29:18.562Z"
   },
   {
    "duration": 9,
    "start_time": "2022-03-24T23:29:20.581Z"
   },
   {
    "duration": 10,
    "start_time": "2022-03-24T23:29:27.692Z"
   },
   {
    "duration": 4,
    "start_time": "2022-03-24T23:29:50.911Z"
   },
   {
    "duration": 17,
    "start_time": "2022-03-24T23:29:54.577Z"
   },
   {
    "duration": 14,
    "start_time": "2022-03-24T23:29:56.393Z"
   },
   {
    "duration": 14,
    "start_time": "2022-03-24T23:30:01.479Z"
   },
   {
    "duration": 14,
    "start_time": "2022-03-24T23:30:03.439Z"
   },
   {
    "duration": 17,
    "start_time": "2022-03-24T23:30:09.094Z"
   },
   {
    "duration": 15,
    "start_time": "2022-03-24T23:30:12.223Z"
   },
   {
    "duration": 67,
    "start_time": "2022-03-24T23:30:16.195Z"
   },
   {
    "duration": 15,
    "start_time": "2022-03-24T23:30:34.194Z"
   },
   {
    "duration": 4,
    "start_time": "2022-03-24T23:30:51.994Z"
   },
   {
    "duration": 953,
    "start_time": "2022-03-24T23:30:54.528Z"
   },
   {
    "duration": 28,
    "start_time": "2022-03-24T23:30:59.994Z"
   },
   {
    "duration": 14,
    "start_time": "2022-03-24T23:31:09.593Z"
   },
   {
    "duration": 350,
    "start_time": "2022-03-24T23:31:15.233Z"
   },
   {
    "duration": 650,
    "start_time": "2022-03-24T23:31:20.984Z"
   },
   {
    "duration": 253,
    "start_time": "2022-03-24T23:31:25.906Z"
   },
   {
    "duration": 9,
    "start_time": "2022-03-24T23:31:34.682Z"
   },
   {
    "duration": 5,
    "start_time": "2022-03-24T23:31:36.686Z"
   },
   {
    "duration": 7,
    "start_time": "2022-03-24T23:31:54.088Z"
   },
   {
    "duration": 4,
    "start_time": "2022-03-24T23:32:10.176Z"
   },
   {
    "duration": 5,
    "start_time": "2022-03-25T04:57:42.145Z"
   },
   {
    "duration": 19,
    "start_time": "2022-03-25T04:58:22.485Z"
   },
   {
    "duration": 4,
    "start_time": "2022-03-25T04:58:26.447Z"
   },
   {
    "duration": 25,
    "start_time": "2022-03-25T04:58:28.719Z"
   },
   {
    "duration": 4,
    "start_time": "2022-03-25T04:59:39.069Z"
   },
   {
    "duration": 933,
    "start_time": "2022-03-25T04:59:41.532Z"
   },
   {
    "duration": 5,
    "start_time": "2022-03-25T05:00:01.903Z"
   },
   {
    "duration": 960,
    "start_time": "2022-03-25T05:00:04.934Z"
   },
   {
    "duration": 4,
    "start_time": "2022-03-25T05:00:27.595Z"
   },
   {
    "duration": 1012,
    "start_time": "2022-03-25T05:00:31.042Z"
   },
   {
    "duration": 4,
    "start_time": "2022-03-25T05:02:14.051Z"
   },
   {
    "duration": 24,
    "start_time": "2022-03-25T05:02:15.994Z"
   },
   {
    "duration": 19,
    "start_time": "2022-03-25T05:02:41.764Z"
   },
   {
    "duration": 18,
    "start_time": "2022-03-25T05:02:48.549Z"
   },
   {
    "duration": 4,
    "start_time": "2022-03-25T05:04:38.953Z"
   },
   {
    "duration": 26,
    "start_time": "2022-03-25T05:04:41.485Z"
   },
   {
    "duration": 4,
    "start_time": "2022-03-25T05:04:56.416Z"
   },
   {
    "duration": 18,
    "start_time": "2022-03-25T05:04:58.049Z"
   },
   {
    "duration": 14,
    "start_time": "2022-03-25T05:05:03.671Z"
   },
   {
    "duration": 18,
    "start_time": "2022-03-25T05:05:06.513Z"
   },
   {
    "duration": 12,
    "start_time": "2022-03-25T05:05:12.540Z"
   },
   {
    "duration": 4,
    "start_time": "2022-03-25T05:05:16.611Z"
   },
   {
    "duration": 10,
    "start_time": "2022-03-25T05:05:19.933Z"
   },
   {
    "duration": 5,
    "start_time": "2022-03-25T05:05:21.737Z"
   },
   {
    "duration": 7,
    "start_time": "2022-03-25T05:05:31.085Z"
   },
   {
    "duration": 4,
    "start_time": "2022-03-25T05:05:33.075Z"
   },
   {
    "duration": 10,
    "start_time": "2022-04-04T04:14:32.445Z"
   },
   {
    "duration": 5,
    "start_time": "2022-04-04T04:14:41.635Z"
   },
   {
    "duration": 6,
    "start_time": "2022-04-04T04:14:55.510Z"
   },
   {
    "duration": 241,
    "start_time": "2022-04-04T04:20:20.134Z"
   },
   {
    "duration": 73,
    "start_time": "2022-04-04T20:25:58.971Z"
   }
  ],
  "colab": {
   "collapsed_sections": [
    "E0vqbgi9ay0H",
    "VUC88oWjTJw2"
   ],
   "name": "yandex_music_project.ipynb",
   "provenance": []
  },
  "kernelspec": {
   "display_name": "Python 3 (ipykernel)",
   "language": "python",
   "name": "python3"
  },
  "language_info": {
   "codemirror_mode": {
    "name": "ipython",
    "version": 3
   },
   "file_extension": ".py",
   "mimetype": "text/x-python",
   "name": "python",
   "nbconvert_exporter": "python",
   "pygments_lexer": "ipython3",
   "version": "3.9.5"
  },
  "toc": {
   "base_numbering": 1,
   "nav_menu": {},
   "number_sections": true,
   "sideBar": true,
   "skip_h1_title": true,
   "title_cell": "Table of Contents",
   "title_sidebar": "Contents",
   "toc_cell": false,
   "toc_position": {
    "height": "calc(100% - 180px)",
    "left": "10px",
    "top": "150px",
    "width": "165px"
   },
   "toc_section_display": true,
   "toc_window_display": true
  }
 },
 "nbformat": 4,
 "nbformat_minor": 1
}
