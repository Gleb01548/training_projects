{
 "cells": [
  {
   "cell_type": "markdown",
   "metadata": {},
   "source": [
    "<div style=\"border:solid purple 2px; padding: 20px\"> \n",
    "\n",
    "Привет Глеб! 👋\n",
    "\n",
    "Меня зовут Рустам Муртазин, и я буду делать ревью твоей работы. Давай будем общаться на **«ты»**. Если это неприемлемо, обязательно напиши мне в комментариях — мы перейдем на **«вы»**.\n",
    "\n",
    "Я не хочу указавать тебе на совершенные тобою ошибки, а хочу поделиться своим опытом и помочь тебе стать настоящим профессионалом и сделать проект еще лучше.\n",
    "\n",
    "Обрати внимание в первую очередь на те, что помечаны <span style=\"color:red\">красным цветом</span>. После их доработки проект будет принят. <span style=\"color:green\">Зеленым цветом</span> отмечены удачные и элегантные решения, на которые можно опираться в будущих проектах. <span style=\"color:orange\">Оранжевым цветом</span> выделено то, что в следующий раз можно сделать по-другому. Ты можешь учесть эти комментарии при выполнении будущих заданий или доработать проект сейчас (однако это не обязательно). Также в проекте могут быть небольшие «лайфхаки» по Python, не относящиеся к проекту, их я выделил фиолетовым цветом)\n",
    "\n",
    "Давай работать над проектом в диалоге: если ты **что-то меняешь** в проекте по моим рекомендациям — **пиши об этом**. Выбери для своих комментариев какой-то заметный цвет, так мне будет легче отследить изменения. Пожалуйста, **не перемещай, не изменяй и не удаляй мои комментарии**. Всё это поможет выполнить повторную проверку твоего проекта оперативнее».\n",
    "\n",
    "---\n",
    "\n",
    "В целом мне все понравилось: твоя работа выполнена на хорошем уровне с минимальными помарками. Также работа выглядит аккуратной и хорошо оформленной. Вижу, что тебе дается python, и инструментарий ML.\n",
    "\n",
    "В твоей работе нет серьезных ошибок, поэтому проект может быть принят. Возвращаю его тебе чтобы дать возможность ознакомиться с моими комментариями, возможно ты решишь улучшить проект или у тебя появятся вопросы.\n",
    "\n",
    "Жду твою работу на повторное ревью :)"
   ]
  },
  {
   "cell_type": "markdown",
   "metadata": {},
   "source": [
    "# Рекомендация тарифов"
   ]
  },
  {
   "cell_type": "markdown",
   "metadata": {},
   "source": [
    "В вашем распоряжении данные о поведении клиентов, которые уже перешли на эти тарифы (из проекта курса «Статистический анализ данных»). Нужно построить модель для задачи классификации, которая выберет подходящий тариф. Предобработка данных не понадобится — вы её уже сделали.\n",
    "\n",
    "Постройте модель с максимально большим значением *accuracy*. Чтобы сдать проект успешно, нужно довести долю правильных ответов по крайней мере до 0.75. Проверьте *accuracy* на тестовой выборке самостоятельно."
   ]
  },
  {
   "cell_type": "markdown",
   "metadata": {},
   "source": [
    "## Откройте и изучите файл"
   ]
  },
  {
   "cell_type": "code",
   "execution_count": 21,
   "metadata": {},
   "outputs": [],
   "source": [
    "import pandas as pd\n",
    "\n",
    "from sklearn.metrics import accuracy_score\n",
    "from sklearn.model_selection import train_test_split\n",
    "from sklearn.metrics import mean_squared_error\n",
    "\n",
    "from sklearn.tree import DecisionTreeClassifier\n",
    "from sklearn.ensemble import RandomForestClassifier\n",
    "from sklearn.linear_model import LogisticRegression\n",
    "\n",
    "from sklearn.model_selection import GridSearchCV"
   ]
  },
  {
   "cell_type": "code",
   "execution_count": 22,
   "metadata": {},
   "outputs": [
    {
     "data": {
      "text/html": [
       "<div>\n",
       "<style scoped>\n",
       "    .dataframe tbody tr th:only-of-type {\n",
       "        vertical-align: middle;\n",
       "    }\n",
       "\n",
       "    .dataframe tbody tr th {\n",
       "        vertical-align: top;\n",
       "    }\n",
       "\n",
       "    .dataframe thead th {\n",
       "        text-align: right;\n",
       "    }\n",
       "</style>\n",
       "<table border=\"1\" class=\"dataframe\">\n",
       "  <thead>\n",
       "    <tr style=\"text-align: right;\">\n",
       "      <th></th>\n",
       "      <th>calls</th>\n",
       "      <th>minutes</th>\n",
       "      <th>messages</th>\n",
       "      <th>mb_used</th>\n",
       "      <th>is_ultra</th>\n",
       "    </tr>\n",
       "  </thead>\n",
       "  <tbody>\n",
       "    <tr>\n",
       "      <th>0</th>\n",
       "      <td>40.0</td>\n",
       "      <td>311.90</td>\n",
       "      <td>83.0</td>\n",
       "      <td>19915.42</td>\n",
       "      <td>0</td>\n",
       "    </tr>\n",
       "    <tr>\n",
       "      <th>1</th>\n",
       "      <td>85.0</td>\n",
       "      <td>516.75</td>\n",
       "      <td>56.0</td>\n",
       "      <td>22696.96</td>\n",
       "      <td>0</td>\n",
       "    </tr>\n",
       "    <tr>\n",
       "      <th>2</th>\n",
       "      <td>77.0</td>\n",
       "      <td>467.66</td>\n",
       "      <td>86.0</td>\n",
       "      <td>21060.45</td>\n",
       "      <td>0</td>\n",
       "    </tr>\n",
       "    <tr>\n",
       "      <th>3</th>\n",
       "      <td>106.0</td>\n",
       "      <td>745.53</td>\n",
       "      <td>81.0</td>\n",
       "      <td>8437.39</td>\n",
       "      <td>1</td>\n",
       "    </tr>\n",
       "    <tr>\n",
       "      <th>4</th>\n",
       "      <td>66.0</td>\n",
       "      <td>418.74</td>\n",
       "      <td>1.0</td>\n",
       "      <td>14502.75</td>\n",
       "      <td>0</td>\n",
       "    </tr>\n",
       "    <tr>\n",
       "      <th>...</th>\n",
       "      <td>...</td>\n",
       "      <td>...</td>\n",
       "      <td>...</td>\n",
       "      <td>...</td>\n",
       "      <td>...</td>\n",
       "    </tr>\n",
       "    <tr>\n",
       "      <th>3209</th>\n",
       "      <td>122.0</td>\n",
       "      <td>910.98</td>\n",
       "      <td>20.0</td>\n",
       "      <td>35124.90</td>\n",
       "      <td>1</td>\n",
       "    </tr>\n",
       "    <tr>\n",
       "      <th>3210</th>\n",
       "      <td>25.0</td>\n",
       "      <td>190.36</td>\n",
       "      <td>0.0</td>\n",
       "      <td>3275.61</td>\n",
       "      <td>0</td>\n",
       "    </tr>\n",
       "    <tr>\n",
       "      <th>3211</th>\n",
       "      <td>97.0</td>\n",
       "      <td>634.44</td>\n",
       "      <td>70.0</td>\n",
       "      <td>13974.06</td>\n",
       "      <td>0</td>\n",
       "    </tr>\n",
       "    <tr>\n",
       "      <th>3212</th>\n",
       "      <td>64.0</td>\n",
       "      <td>462.32</td>\n",
       "      <td>90.0</td>\n",
       "      <td>31239.78</td>\n",
       "      <td>0</td>\n",
       "    </tr>\n",
       "    <tr>\n",
       "      <th>3213</th>\n",
       "      <td>80.0</td>\n",
       "      <td>566.09</td>\n",
       "      <td>6.0</td>\n",
       "      <td>29480.52</td>\n",
       "      <td>1</td>\n",
       "    </tr>\n",
       "  </tbody>\n",
       "</table>\n",
       "<p>3214 rows × 5 columns</p>\n",
       "</div>"
      ],
      "text/plain": [
       "      calls  minutes  messages   mb_used  is_ultra\n",
       "0      40.0   311.90      83.0  19915.42         0\n",
       "1      85.0   516.75      56.0  22696.96         0\n",
       "2      77.0   467.66      86.0  21060.45         0\n",
       "3     106.0   745.53      81.0   8437.39         1\n",
       "4      66.0   418.74       1.0  14502.75         0\n",
       "...     ...      ...       ...       ...       ...\n",
       "3209  122.0   910.98      20.0  35124.90         1\n",
       "3210   25.0   190.36       0.0   3275.61         0\n",
       "3211   97.0   634.44      70.0  13974.06         0\n",
       "3212   64.0   462.32      90.0  31239.78         0\n",
       "3213   80.0   566.09       6.0  29480.52         1\n",
       "\n",
       "[3214 rows x 5 columns]"
      ]
     },
     "execution_count": 22,
     "metadata": {},
     "output_type": "execute_result"
    }
   ],
   "source": [
    "df = pd.read_csv('/datasets/users_behavior.csv')\n",
    "df"
   ]
  },
  {
   "cell_type": "markdown",
   "metadata": {},
   "source": [
    "<div class=\"alert alert-success\">\n",
    "<h2> Комментарий ревьюера ✔️ <a class=\"tocSkip\"> </h2>\n",
    "\n",
    "Хоть с данными и все ок, первичный анализ важен для любого проекта! Вообще, хорошо бы иметь у себя в арсенале функцию, которая выдавала бы всю информацию о датафрейме, знакомила бы нас с ним. В нее можно включить все основные методы типа `head`, `info` и т.д.  Можно графики строить какие-нибудь... Из готового, я бы рекомендовал почитать про [pandas_profiling](https://habr.com/ru/company/ruvds/blog/451478/?)\n"
   ]
  },
  {
   "cell_type": "code",
   "execution_count": 23,
   "metadata": {},
   "outputs": [
    {
     "name": "stdout",
     "output_type": "stream",
     "text": [
      "<class 'pandas.core.frame.DataFrame'>\n",
      "RangeIndex: 3214 entries, 0 to 3213\n",
      "Data columns (total 5 columns):\n",
      " #   Column    Non-Null Count  Dtype  \n",
      "---  ------    --------------  -----  \n",
      " 0   calls     3214 non-null   float64\n",
      " 1   minutes   3214 non-null   float64\n",
      " 2   messages  3214 non-null   float64\n",
      " 3   mb_used   3214 non-null   float64\n",
      " 4   is_ultra  3214 non-null   int64  \n",
      "dtypes: float64(4), int64(1)\n",
      "memory usage: 125.7 KB\n"
     ]
    }
   ],
   "source": [
    "df.info()"
   ]
  },
  {
   "cell_type": "code",
   "execution_count": 24,
   "metadata": {},
   "outputs": [
    {
     "name": "stdout",
     "output_type": "stream",
     "text": [
      "[ 40.  85.  77. 106.  66.  58.  57.  15.   7.  90.  82.  45.  51.  56.\n",
      " 108.   6.   2.  26.  79.  49.  93.  48.  11.  53.  81. 154.  37.  50.\n",
      "  41.  10.  71.  65. 110. 120.  76.  64.  23.  34.  98.  35.   5.  70.\n",
      " 124. 129.  67.   0.  13.  68.  91. 121. 114. 125.  80.  33. 138.  84.\n",
      "  78.  69.  63.  72.  73.   1.  43. 118.  74.  83. 141. 117.  54. 101.\n",
      "  29.   3. 107.  55.  47. 158.  87.  28.  59.  52.  44.  17. 111. 109.\n",
      "  14.  92.  94.  46. 133.  75.  38.  60. 100.  31.  61.  89.  27. 196.\n",
      "  24.  99.  62. 162. 116. 123.  18.  21.  12.  86.  32.  95.  39.  30.\n",
      "  25.  36.  42. 113.   9. 183. 156. 127.  96.  16.   4. 102.  97.  20.\n",
      " 104. 144.  19. 132. 131. 136.  88. 115. 176. 160. 164. 169.  22. 105.\n",
      " 152. 177. 161. 112.   8. 126. 178. 103. 130. 198. 119. 137. 150. 122.\n",
      " 146. 151. 157. 203. 143. 148. 128. 185. 167. 181. 184. 171. 153. 140.\n",
      " 159. 188. 134. 189. 182. 173. 172. 145. 180. 155. 174. 244. 165. 163.\n",
      " 142. 168.]\n",
      "[311.9  516.75 467.66 ... 634.44 462.32 566.09]\n",
      "[ 83.  56.  86.  81.   1.  21.  20.   6.   3.  38.  13.  61.  16.   0.\n",
      "   4.  90.  31.  97.  66.  19.  30.  52.  48.  44.  27.   7.   9.  43.\n",
      "  33.  34.  10. 106.  65.  17.  11.  29.  75.  47.  49.  64. 144.  99.\n",
      "  46.  24.  22.  55.   8.  93. 153.  37.  69.  18.  78.  42.  82.  62.\n",
      "  40.  57.  60.  58. 123.  26.  51. 109.   5.  39.  35.  79.  12. 182.\n",
      "  36. 126.  59. 102.  14. 133. 110.  54.  72. 103.  23. 108.  92.  73.\n",
      "  15.  25.  91. 113. 105.  85. 191.  32.  50. 145.  41. 150.  53. 171.\n",
      " 176.  68.  28.  76.  71. 118.  63. 132.  84.   2.  67. 111. 101.  96.\n",
      " 112.  95.  89. 143.  45.  70.  77.  94. 137. 107.  98. 141. 124. 129.\n",
      " 114.  87.  80. 117. 138. 142. 134. 128. 180. 115. 154.  74. 185. 121.\n",
      " 127. 116.  88. 140. 201. 100. 169. 155. 135. 151. 139. 131. 188. 157.\n",
      " 148. 104. 224. 158. 211. 120. 149. 190. 173. 172. 146. 162. 119. 178.\n",
      " 223. 130. 122. 159. 181. 125. 152. 197. 136. 165. 183. 170.]\n",
      "[19915.42 22696.96 21060.45 ... 13974.06 31239.78 29480.52]\n",
      "[0 1]\n"
     ]
    },
    {
     "data": {
      "text/html": [
       "<div>\n",
       "<style scoped>\n",
       "    .dataframe tbody tr th:only-of-type {\n",
       "        vertical-align: middle;\n",
       "    }\n",
       "\n",
       "    .dataframe tbody tr th {\n",
       "        vertical-align: top;\n",
       "    }\n",
       "\n",
       "    .dataframe thead th {\n",
       "        text-align: right;\n",
       "    }\n",
       "</style>\n",
       "<table border=\"1\" class=\"dataframe\">\n",
       "  <thead>\n",
       "    <tr style=\"text-align: right;\">\n",
       "      <th></th>\n",
       "      <th>minutes</th>\n",
       "      <th>mb_used</th>\n",
       "    </tr>\n",
       "  </thead>\n",
       "  <tbody>\n",
       "    <tr>\n",
       "      <th>count</th>\n",
       "      <td>3214.000000</td>\n",
       "      <td>3214.000000</td>\n",
       "    </tr>\n",
       "    <tr>\n",
       "      <th>mean</th>\n",
       "      <td>438.208787</td>\n",
       "      <td>17207.673836</td>\n",
       "    </tr>\n",
       "    <tr>\n",
       "      <th>std</th>\n",
       "      <td>234.569872</td>\n",
       "      <td>7570.968246</td>\n",
       "    </tr>\n",
       "    <tr>\n",
       "      <th>min</th>\n",
       "      <td>0.000000</td>\n",
       "      <td>0.000000</td>\n",
       "    </tr>\n",
       "    <tr>\n",
       "      <th>25%</th>\n",
       "      <td>274.575000</td>\n",
       "      <td>12491.902500</td>\n",
       "    </tr>\n",
       "    <tr>\n",
       "      <th>50%</th>\n",
       "      <td>430.600000</td>\n",
       "      <td>16943.235000</td>\n",
       "    </tr>\n",
       "    <tr>\n",
       "      <th>75%</th>\n",
       "      <td>571.927500</td>\n",
       "      <td>21424.700000</td>\n",
       "    </tr>\n",
       "    <tr>\n",
       "      <th>max</th>\n",
       "      <td>1632.060000</td>\n",
       "      <td>49745.730000</td>\n",
       "    </tr>\n",
       "  </tbody>\n",
       "</table>\n",
       "</div>"
      ],
      "text/plain": [
       "           minutes       mb_used\n",
       "count  3214.000000   3214.000000\n",
       "mean    438.208787  17207.673836\n",
       "std     234.569872   7570.968246\n",
       "min       0.000000      0.000000\n",
       "25%     274.575000  12491.902500\n",
       "50%     430.600000  16943.235000\n",
       "75%     571.927500  21424.700000\n",
       "max    1632.060000  49745.730000"
      ]
     },
     "execution_count": 24,
     "metadata": {},
     "output_type": "execute_result"
    }
   ],
   "source": [
    "for i in df.columns: \n",
    "    print(df[i].unique())\n",
    "df[['minutes', 'mb_used']].describe()"
   ]
  },
  {
   "cell_type": "markdown",
   "metadata": {},
   "source": [
    "Ошибок в данных не обнаружено.\n",
    "\n",
    "Столбцы calls и messages необходимо перевести в int. "
   ]
  },
  {
   "cell_type": "code",
   "execution_count": 25,
   "metadata": {},
   "outputs": [
    {
     "name": "stdout",
     "output_type": "stream",
     "text": [
      "<class 'pandas.core.frame.DataFrame'>\n",
      "RangeIndex: 3214 entries, 0 to 3213\n",
      "Data columns (total 5 columns):\n",
      " #   Column    Non-Null Count  Dtype  \n",
      "---  ------    --------------  -----  \n",
      " 0   calls     3214 non-null   int64  \n",
      " 1   minutes   3214 non-null   float64\n",
      " 2   messages  3214 non-null   int64  \n",
      " 3   mb_used   3214 non-null   float64\n",
      " 4   is_ultra  3214 non-null   int64  \n",
      "dtypes: float64(2), int64(3)\n",
      "memory usage: 125.7 KB\n"
     ]
    }
   ],
   "source": [
    "for i in ['calls', 'messages']:\n",
    "    df[i] = df[i].astype('int')\n",
    "df.info()"
   ]
  },
  {
   "cell_type": "markdown",
   "metadata": {},
   "source": [
    "<div class=\"alert alert-success\">\n",
    "<h2> Комментарий ревьюера ✔️ <a class=\"tocSkip\"> </h2>\n",
    "\n",
    "Для проекта DS можно было дополнительно корреляции посчитать между столбцами. Известно, что сильно коррелирующие столбцы плохо влияют на модель\n"
   ]
  },
  {
   "cell_type": "markdown",
   "metadata": {},
   "source": [
    "## Разбейте данные на выборки"
   ]
  },
  {
   "cell_type": "markdown",
   "metadata": {},
   "source": [
    "Разобьем данные на тренировочную, валидационную, тестовые выборки в соотношении - 0.6, 0.2, 0.2 соответственно."
   ]
  },
  {
   "cell_type": "code",
   "execution_count": 26,
   "metadata": {},
   "outputs": [],
   "source": [
    "features = df.drop(\n",
    "    'is_ultra',\n",
    "    axis = 1   \n",
    ")\n",
    "\n",
    "target = df['is_ultra']"
   ]
  },
  {
   "cell_type": "code",
   "execution_count": 7,
   "metadata": {},
   "outputs": [],
   "source": [
    "features_train_valid, features_test, target_train_valid, target_test = train_test_split(\n",
    "   features, target, test_size=0.2, random_state=1)"
   ]
  },
  {
   "cell_type": "markdown",
   "metadata": {},
   "source": [
    "<div class=\"alert alert-success\">\n",
    "<h2> Комментарий ревьюера ✔️ <a class=\"tocSkip\"> </h2>\n",
    "\n",
    "Круто, что ты фиксируешь `random_state`. Кстати, его можно задать один раз в начале проекта, например, используя любимый нами [numpy](https://pyprog.pro/random_sampling_functions/seed.html?)\n"
   ]
  },
  {
   "cell_type": "code",
   "execution_count": 27,
   "metadata": {},
   "outputs": [],
   "source": [
    "features_train, features_valid, target_train, target_valid = train_test_split(\n",
    "   features_train_valid, target_train_valid, test_size=0.25, random_state=1)"
   ]
  },
  {
   "cell_type": "markdown",
   "metadata": {},
   "source": [
    "<div class=\"alert alert-success\">\n",
    "<h2> Комментарий ревьюера ✔️ <a class=\"tocSkip\"> </h2>\n",
    "\n",
    "На будущее, обрати внимание на аргумент `stratify` функции `train_test_split`. Стратификация особенно важна, когда у нас мало данных и возможен дисбаланс классов в обучении / валидации / тесте.\n"
   ]
  },
  {
   "cell_type": "code",
   "execution_count": 9,
   "metadata": {},
   "outputs": [
    {
     "name": "stdout",
     "output_type": "stream",
     "text": [
      "features_train 1928\n",
      "features_valid 643\n",
      "features_test 643\n"
     ]
    }
   ],
   "source": [
    "print('features_train', len(features_train))\n",
    "print('features_valid', len(features_valid))\n",
    "print('features_test', len(features_valid))"
   ]
  },
  {
   "cell_type": "markdown",
   "metadata": {},
   "source": [
    "<div class=\"alert alert-success\">\n",
    "<h2> Комментарий ревьюера ✔️ <a class=\"tocSkip\"> </h2>\n",
    "\n",
    "Все верно, никогда не будет лишним проверить корректность разбиения на выборки\n"
   ]
  },
  {
   "cell_type": "markdown",
   "metadata": {},
   "source": [
    "Имеется нужное соотношение"
   ]
  },
  {
   "cell_type": "markdown",
   "metadata": {},
   "source": [
    "## Исследуйте модели"
   ]
  },
  {
   "cell_type": "markdown",
   "metadata": {},
   "source": [
    "RandomForestClassifier LogisticRegression DecisionTreeClassifier"
   ]
  },
  {
   "cell_type": "markdown",
   "metadata": {},
   "source": [
    "DecisionTreeClassifier"
   ]
  },
  {
   "cell_type": "code",
   "execution_count": 28,
   "metadata": {},
   "outputs": [
    {
     "name": "stdout",
     "output_type": "stream",
     "text": [
      "4 0.7978227060653188\n"
     ]
    }
   ],
   "source": [
    "best_model_DTC = 0 \n",
    "best_accuracy_DTC = 0\n",
    "for i in range (1, 15): \n",
    "    model_DTC = DecisionTreeClassifier(\n",
    "                                        max_depth=i, \n",
    "                                        random_state=1,\n",
    "                                    )\n",
    "    \n",
    "    model_DTC.fit(features_train, target_train)\n",
    "    prediction = model_DTC.predict(features_valid)\n",
    "    accuracy = accuracy_score(target_valid, prediction)\n",
    "    if accuracy > best_accuracy_DTC: \n",
    "        best_accuracy_DTC = accuracy\n",
    "        best_model_DTC = i\n",
    "print(best_model_DTC, best_accuracy_DTC)\n",
    "    "
   ]
  },
  {
   "cell_type": "markdown",
   "metadata": {},
   "source": [
    "<div class=\"alert alert-success\">\n",
    "<h2> Комментарий ревьюера ✔️ <a class=\"tocSkip\"> </h2>\n",
    "\n",
    "Можно посмотреть на логику решения нашего дерева. Вот как это сделать\n",
    "    \n",
    "![](https://i.ibb.co/cDxjDWk/image.png)\n"
   ]
  },
  {
   "cell_type": "markdown",
   "metadata": {},
   "source": [
    "LogisticRegression"
   ]
  },
  {
   "cell_type": "code",
   "execution_count": 29,
   "metadata": {},
   "outputs": [
    {
     "name": "stdout",
     "output_type": "stream",
     "text": [
      "0.7558320373250389\n"
     ]
    }
   ],
   "source": [
    "model_LR = LogisticRegression()\n",
    "model_LR.fit(features_train, target_train)\n",
    "prediction = model_LR.predict(features_valid)\n",
    "accuracy_LR = accuracy_score(target_valid, prediction)\n",
    "print(accuracy_LR)"
   ]
  },
  {
   "cell_type": "markdown",
   "metadata": {},
   "source": [
    "\n",
    "<div class=\"alert alert-success\"> \n",
    "<h2> Комментарий ревьюера ✔️ <a class=\"tocSkip\"> </h2>\n",
    "\n",
    "Здесь тоже можно было попробовать немного подкрутить модель. Например, можно подобрать `solver` или `penalty`. Описание этих параметров можно найти в официальной [документации](https://scikit-learn.org/stable/modules/generated/sklearn.linear_model.LogisticRegression.html). А еще, повысить скор на линейных моделях помогает [нормирование данных](https://towardsai.net/p/data-science/how-when-and-why-should-you-normalize-standardize-rescale-your-data-3f083def38ff)"
   ]
  },
  {
   "cell_type": "markdown",
   "metadata": {},
   "source": [
    "RandomForestClassifier"
   ]
  },
  {
   "cell_type": "code",
   "execution_count": 12,
   "metadata": {},
   "outputs": [
    {
     "name": "stdout",
     "output_type": "stream",
     "text": [
      "n_tree: 51, depth: 9 0.8102643856920684\n"
     ]
    }
   ],
   "source": [
    "best_model_RFC = 0 \n",
    "best_accuracy_RFC = 0\n",
    "for depth in range (1, 15): \n",
    "    for n_tree in (10, 51, 10):\n",
    "        model_RFC = RandomForestClassifier(\n",
    "            max_depth=depth, \n",
    "            n_estimators=n_tree,\n",
    "            random_state=1\n",
    "        )\n",
    "        \n",
    "        model_RFC.fit(features_train, target_train)\n",
    "        prediction = model_RFC.predict(features_valid)\n",
    "        accuracy = accuracy_score(target_valid, prediction)\n",
    "        if accuracy > best_accuracy_RFC: \n",
    "            best_accuracy_RFC = accuracy\n",
    "            best_model_RFC = f'n_tree: {n_tree}, depth: {depth}'\n",
    "print(best_model_RFC, best_accuracy_RFC)"
   ]
  },
  {
   "cell_type": "markdown",
   "metadata": {},
   "source": [
    "<div class=\"alert alert-success\">\n",
    "<h2> Комментарий ревьюера ✔️ <a class=\"tocSkip\"> </h2>\n",
    "\n",
    "Из более продвинутых вариантов для подбора гиппермараметров можно выделить библиотеку [hyperopt](https://hyperopt.github.io/hyperopt/) или библиотеку [optuna](https://optuna.org/#code_examples).\n"
   ]
  },
  {
   "cell_type": "markdown",
   "metadata": {},
   "source": [
    "<div class=\"alert alert-success\">\n",
    "<h2> Комментарий ревьюера ✔️ <a class=\"tocSkip\"> </h2>\n",
    "\n",
    "Кстати, можно было уйти от вложенных циклов и генерить комбинации гиперпараметров с помощью библиотеки `itertools`. Ниже небольшой пример\n",
    "    \n",
    "![](https://i.ibb.co/BnJfPMk/image.png)"
   ]
  },
  {
   "cell_type": "markdown",
   "metadata": {},
   "source": [
    "## Проверьте модель на тестовой выборке"
   ]
  },
  {
   "cell_type": "markdown",
   "metadata": {},
   "source": [
    "Обучим модели с найденными гиперпараметрами на объединенной выборке из тестовой и валидационной и проверим их эффективность на тестовой выборке."
   ]
  },
  {
   "cell_type": "code",
   "execution_count": 13,
   "metadata": {},
   "outputs": [
    {
     "name": "stdout",
     "output_type": "stream",
     "text": [
      "0.776049766718507\n"
     ]
    }
   ],
   "source": [
    "model_DTC = DecisionTreeClassifier(\n",
    "                                    max_depth=4, \n",
    "                                    random_state=1\n",
    "                                  )\n",
    "model_DTC.fit(features_train_valid, target_train_valid)\n",
    "prediction = model_DTC.predict(features_test)\n",
    "accuracy = accuracy_score(target_test, prediction)\n",
    "print(accuracy)"
   ]
  },
  {
   "cell_type": "markdown",
   "metadata": {},
   "source": [
    "<div class=\"alert alert-success\">\n",
    "<h2> Комментарий ревьюера ✔️ <a class=\"tocSkip\"> </h2>\n",
    "\n",
    "Когда гиперпараметры подобраны и валидационная выборка нам уже не нужна, мы можем обучить модель на бОльшей выборке (обучающая + валидационная), это позволит улучшить результаты на тестовой выборке\n"
   ]
  },
  {
   "cell_type": "code",
   "execution_count": 30,
   "metadata": {},
   "outputs": [
    {
     "name": "stdout",
     "output_type": "stream",
     "text": [
      "0.6842923794712286\n"
     ]
    }
   ],
   "source": [
    "model_LR = LogisticRegression()\n",
    "model_LR.fit(features_train_valid, target_train_valid)\n",
    "prediction = model_LR.predict(features_test)\n",
    "accuracy = accuracy_score(target_test, prediction)\n",
    "print(accuracy)"
   ]
  },
  {
   "cell_type": "code",
   "execution_count": 31,
   "metadata": {},
   "outputs": [
    {
     "name": "stdout",
     "output_type": "stream",
     "text": [
      "0.7916018662519441\n"
     ]
    }
   ],
   "source": [
    "model_RFC = RandomForestClassifier(\n",
    "        max_depth=9, \n",
    "        n_estimators=51,\n",
    "        random_state=1\n",
    "    )\n",
    "model_RFC.fit(features_train_valid, target_train_valid)\n",
    "prediction = model_RFC.predict(features_test)\n",
    "accuracy = accuracy_score(target_test, prediction)\n",
    "print(accuracy)"
   ]
  },
  {
   "cell_type": "markdown",
   "metadata": {},
   "source": [
    "<div class=\"alert alert-success\">\n",
    "<h2> Комментарий ревьюера ✔️ <a class=\"tocSkip\"> </h2>\n",
    "\n",
    "Ошибку кстати можно считать в более коротком виде, вот так\n",
    "    \n",
    "    model.score(X_test, y_test)"
   ]
  },
  {
   "cell_type": "markdown",
   "metadata": {},
   "source": [
    "accuracu больший чем 0.75 демонстрирует дерево с глубиной 4, случайный лес с глубиной 9 и количеством деревьев 51. "
   ]
  },
  {
   "cell_type": "markdown",
   "metadata": {},
   "source": [
    "## (бонус) Проверьте модели на адекватность"
   ]
  },
  {
   "cell_type": "code",
   "execution_count": 32,
   "metadata": {},
   "outputs": [
    {
     "data": {
      "text/plain": [
       "0    2229\n",
       "1     985\n",
       "Name: is_ultra, dtype: int64"
      ]
     },
     "execution_count": 32,
     "metadata": {},
     "output_type": "execute_result"
    }
   ],
   "source": [
    "df['is_ultra'].value_counts()"
   ]
  },
  {
   "cell_type": "code",
   "execution_count": 33,
   "metadata": {},
   "outputs": [
    {
     "name": "stdout",
     "output_type": "stream",
     "text": [
      "0.30647168637212197\n"
     ]
    }
   ],
   "source": [
    "print(985/df['is_ultra'].value_counts().sum())"
   ]
  },
  {
   "cell_type": "markdown",
   "metadata": {},
   "source": [
    "Так как соотношение тарифов смарт и ультра 70 к 30, то указанные выше модели можно считать адекватными, так как их accuracu 0.77 и 0.79. То есть выбор тарифа smart во всех случаях даст более низкую эффективность. "
   ]
  },
  {
   "cell_type": "markdown",
   "metadata": {},
   "source": [
    "<div class=\"alert alert-success\">\n",
    "<h2> Комментарий ревьюера ✔️ <a class=\"tocSkip\"> </h2>\n",
    "\n",
    "Самый простой тест - посмотреть на скор модели, которая всегда будет прогнозировать доминирующий класс. Если наша модель лучше - то уже хорошо, если нет, то мы делаем что-то неправильно. Проверить на корректность можно еще с помощью `Confusion matrix / Матрица ошибок` или `ROC curve / ROC-анализ`. Лично мне больше всего нравится (и я чаще его использую) последний вариант"
   ]
  },
  {
   "cell_type": "markdown",
   "metadata": {},
   "source": [
    "Попробуем решить эти задачи c помощью GridSearchCV"
   ]
  },
  {
   "cell_type": "code",
   "execution_count": 34,
   "metadata": {},
   "outputs": [
    {
     "name": "stdout",
     "output_type": "stream",
     "text": [
      "{'max_depth': 10}\n",
      "0.7961882815156208\n",
      "0.7807153965785381\n"
     ]
    }
   ],
   "source": [
    "tree = DecisionTreeClassifier()\n",
    "parameters = {'max_depth': list(range(1, 25))}\n",
    "grid_tree = GridSearchCV(tree, parameters, cv=5, scoring='accuracy')\n",
    "grid_tree.fit(features_train_valid, target_train_valid)\n",
    "print(grid_tree.best_params_)\n",
    "print(grid_tree.best_score_)\n",
    "\n",
    "prediction = grid_tree.best_estimator_.predict(features_test)\n",
    "accuracy = accuracy_score(target_test, prediction)\n",
    "print(accuracy)"
   ]
  },
  {
   "cell_type": "markdown",
   "metadata": {},
   "source": [
    "<div style=\"border:solid purple 5px; padding: 20px\"> \n",
    "<h2 align=\"center\"> Рубрика «Питонячий лайфхакер» <a class=\"tocSkip\"> </h2>\n",
    "\n",
    "<h3> Индикаторы состояния: progress и tqdm <a class=\"tocSkip\"> </h3>\n",
    "\n",
    "Как перестать беспокоиться о том, не завис ли скрипт? Вы можете создавать свои индикаторы состояния. Это весьма увлекательное занятие. Но делать то же самое с [progress](https://pypi.org/project/progress/) или [tqdm](https://pypi.org/project/tqdm/) куда быстрее и надежнее.\n",
    "\n",
    "Обычно я использую эти две библиотеки, но вот [здесь](https://habr.com/ru/post/483400/) ты можешь почитать про альтернативные варианты\n",
    "\n",
    "![](https://i.ibb.co/B4SDm8Y/68747470733a2f2f7261772e6769746875622e636f6d2f7665726967616b2f70726f67726573732f6d61737465722f64656d.gif)"
   ]
  },
  {
   "cell_type": "code",
   "execution_count": 35,
   "metadata": {},
   "outputs": [
    {
     "name": "stdout",
     "output_type": "stream",
     "text": [
      "{'max_depth': 17, 'n_estimators': 41}\n",
      "0.8097986475765933\n",
      "0.807153965785381\n"
     ]
    }
   ],
   "source": [
    "forest = RandomForestClassifier()\n",
    "parameters = {'max_depth': list(range(1, 25)), 'n_estimators':list(range(1, 51, 10))}\n",
    "grid_forest = GridSearchCV(forest, parameters, cv=5, scoring='accuracy')\n",
    "grid_forest.fit(features_train_valid, target_train_valid)\n",
    "print(grid_forest.best_params_)\n",
    "print(grid_forest.best_score_)\n",
    "\n",
    "prediction = grid_forest.best_estimator_.predict(features_test)\n",
    "accuracy = accuracy_score(target_test, prediction)\n",
    "print(accuracy)"
   ]
  },
  {
   "cell_type": "markdown",
   "metadata": {},
   "source": [
    "<div class=\"alert alert-success\">\n",
    "<h2> Комментарий ревьюера ✔️ <a class=\"tocSkip\"> </h2>\n",
    "\n",
    "Круто, что здесь ты используешь объединенную выборку train+valid, многие упускают этот момент"
   ]
  },
  {
   "cell_type": "code",
   "execution_count": 36,
   "metadata": {},
   "outputs": [
    {
     "name": "stdout",
     "output_type": "stream",
     "text": [
      "{'penalty': 'none'}\n",
      "0.7425250273884628\n",
      "0.6842923794712286\n"
     ]
    },
    {
     "name": "stderr",
     "output_type": "stream",
     "text": [
      "/opt/conda/lib/python3.9/site-packages/sklearn/model_selection/_validation.py:610: FitFailedWarning: Estimator fit failed. The score on this train-test partition for these parameters will be set to nan. Details: \n",
      "Traceback (most recent call last):\n",
      "  File \"/opt/conda/lib/python3.9/site-packages/sklearn/model_selection/_validation.py\", line 593, in _fit_and_score\n",
      "    estimator.fit(X_train, y_train, **fit_params)\n",
      "  File \"/opt/conda/lib/python3.9/site-packages/sklearn/linear_model/_logistic.py\", line 1306, in fit\n",
      "    solver = _check_solver(self.solver, self.penalty, self.dual)\n",
      "  File \"/opt/conda/lib/python3.9/site-packages/sklearn/linear_model/_logistic.py\", line 443, in _check_solver\n",
      "    raise ValueError(\"Solver %s supports only 'l2' or 'none' penalties, \"\n",
      "ValueError: Solver lbfgs supports only 'l2' or 'none' penalties, got l1 penalty.\n",
      "\n",
      "  warnings.warn(\"Estimator fit failed. The score on this train-test\"\n",
      "/opt/conda/lib/python3.9/site-packages/sklearn/model_selection/_validation.py:610: FitFailedWarning: Estimator fit failed. The score on this train-test partition for these parameters will be set to nan. Details: \n",
      "Traceback (most recent call last):\n",
      "  File \"/opt/conda/lib/python3.9/site-packages/sklearn/model_selection/_validation.py\", line 593, in _fit_and_score\n",
      "    estimator.fit(X_train, y_train, **fit_params)\n",
      "  File \"/opt/conda/lib/python3.9/site-packages/sklearn/linear_model/_logistic.py\", line 1306, in fit\n",
      "    solver = _check_solver(self.solver, self.penalty, self.dual)\n",
      "  File \"/opt/conda/lib/python3.9/site-packages/sklearn/linear_model/_logistic.py\", line 443, in _check_solver\n",
      "    raise ValueError(\"Solver %s supports only 'l2' or 'none' penalties, \"\n",
      "ValueError: Solver lbfgs supports only 'l2' or 'none' penalties, got l1 penalty.\n",
      "\n",
      "  warnings.warn(\"Estimator fit failed. The score on this train-test\"\n",
      "/opt/conda/lib/python3.9/site-packages/sklearn/model_selection/_validation.py:610: FitFailedWarning: Estimator fit failed. The score on this train-test partition for these parameters will be set to nan. Details: \n",
      "Traceback (most recent call last):\n",
      "  File \"/opt/conda/lib/python3.9/site-packages/sklearn/model_selection/_validation.py\", line 593, in _fit_and_score\n",
      "    estimator.fit(X_train, y_train, **fit_params)\n",
      "  File \"/opt/conda/lib/python3.9/site-packages/sklearn/linear_model/_logistic.py\", line 1306, in fit\n",
      "    solver = _check_solver(self.solver, self.penalty, self.dual)\n",
      "  File \"/opt/conda/lib/python3.9/site-packages/sklearn/linear_model/_logistic.py\", line 443, in _check_solver\n",
      "    raise ValueError(\"Solver %s supports only 'l2' or 'none' penalties, \"\n",
      "ValueError: Solver lbfgs supports only 'l2' or 'none' penalties, got l1 penalty.\n",
      "\n",
      "  warnings.warn(\"Estimator fit failed. The score on this train-test\"\n",
      "/opt/conda/lib/python3.9/site-packages/sklearn/model_selection/_validation.py:610: FitFailedWarning: Estimator fit failed. The score on this train-test partition for these parameters will be set to nan. Details: \n",
      "Traceback (most recent call last):\n",
      "  File \"/opt/conda/lib/python3.9/site-packages/sklearn/model_selection/_validation.py\", line 593, in _fit_and_score\n",
      "    estimator.fit(X_train, y_train, **fit_params)\n",
      "  File \"/opt/conda/lib/python3.9/site-packages/sklearn/linear_model/_logistic.py\", line 1306, in fit\n",
      "    solver = _check_solver(self.solver, self.penalty, self.dual)\n",
      "  File \"/opt/conda/lib/python3.9/site-packages/sklearn/linear_model/_logistic.py\", line 443, in _check_solver\n",
      "    raise ValueError(\"Solver %s supports only 'l2' or 'none' penalties, \"\n",
      "ValueError: Solver lbfgs supports only 'l2' or 'none' penalties, got l1 penalty.\n",
      "\n",
      "  warnings.warn(\"Estimator fit failed. The score on this train-test\"\n",
      "/opt/conda/lib/python3.9/site-packages/sklearn/model_selection/_validation.py:610: FitFailedWarning: Estimator fit failed. The score on this train-test partition for these parameters will be set to nan. Details: \n",
      "Traceback (most recent call last):\n",
      "  File \"/opt/conda/lib/python3.9/site-packages/sklearn/model_selection/_validation.py\", line 593, in _fit_and_score\n",
      "    estimator.fit(X_train, y_train, **fit_params)\n",
      "  File \"/opt/conda/lib/python3.9/site-packages/sklearn/linear_model/_logistic.py\", line 1306, in fit\n",
      "    solver = _check_solver(self.solver, self.penalty, self.dual)\n",
      "  File \"/opt/conda/lib/python3.9/site-packages/sklearn/linear_model/_logistic.py\", line 443, in _check_solver\n",
      "    raise ValueError(\"Solver %s supports only 'l2' or 'none' penalties, \"\n",
      "ValueError: Solver lbfgs supports only 'l2' or 'none' penalties, got l1 penalty.\n",
      "\n",
      "  warnings.warn(\"Estimator fit failed. The score on this train-test\"\n",
      "/opt/conda/lib/python3.9/site-packages/sklearn/model_selection/_search.py:918: UserWarning: One or more of the test scores are non-finite: [0.74252503 0.74252503        nan]\n",
      "  warnings.warn(\n"
     ]
    }
   ],
   "source": [
    "logist = LogisticRegression()\n",
    "parameters = {'penalty': ['none', 'l2', 'l1']}\n",
    "grid_logist = GridSearchCV(logist, parameters, cv=5, scoring='accuracy')\n",
    "grid_logist.fit(features_train_valid, target_train_valid)\n",
    "print(grid_logist.best_params_)\n",
    "print(grid_logist.best_score_)\n",
    "\n",
    "prediction = grid_logist.best_estimator_.predict(features_test)\n",
    "accuracy = accuracy_score(target_test, prediction)\n",
    "print(accuracy)"
   ]
  },
  {
   "cell_type": "markdown",
   "metadata": {},
   "source": [
    "GridSearchCV дал результаты отличающейся и более эффективные чем ранее использованный метод перебора при помощи циклов. Возможно, из-за использования кросс-валидации."
   ]
  },
  {
   "cell_type": "markdown",
   "metadata": {},
   "source": [
    "Вывод. \n",
    "Предсказание перехода пользователей на тарифы smart и ultra с accuracy более 0.75 возможно. "
   ]
  },
  {
   "cell_type": "markdown",
   "metadata": {},
   "source": [
    "<div class=\"alert alert-warning\">\n",
    "<h2> Комментарий ревьюера ⚠️ <a class=\"tocSkip\"> </h2>\n",
    "\n",
    "Старайся расписывать общий вывод более детально. Это лицо твоего продукта, аналитической деятельности, и от того, насколько хорошо и детально ты его распишешь, будут судить о тебе как о профессионале."
   ]
  },
  {
   "cell_type": "markdown",
   "metadata": {},
   "source": [
    "<div class=\"alert alert-info\"> Спасибо за дополнительную информацию!"
   ]
  },
  {
   "cell_type": "markdown",
   "metadata": {},
   "source": [
    "<div class=\"alert alert-success\">\n",
    "<h2> Комментарий ревьюера v2 ✔️ <a class=\"tocSkip\"> </h2>\n",
    "\n",
    "Тебе спасибо, за классный проект! Желаю успехов в последующем обучении!"
   ]
  },
  {
   "cell_type": "markdown",
   "metadata": {},
   "source": [
    "## Чек-лист готовности проекта"
   ]
  },
  {
   "cell_type": "markdown",
   "metadata": {},
   "source": [
    "Поставьте 'x' в выполненных пунктах. Далее нажмите Shift+Enter."
   ]
  },
  {
   "cell_type": "markdown",
   "metadata": {},
   "source": [
    "- [x] Jupyter Notebook открыт\n",
    "- [ ] Весь код исполняется без ошибок\n",
    "- [ ] Ячейки с кодом расположены в порядке исполнения\n",
    "- [ ] Выполнено задание 1: данные загружены и изучены\n",
    "- [ ] Выполнено задание 2: данные разбиты на три выборки\n",
    "- [ ] Выполнено задание 3: проведено исследование моделей\n",
    "    - [ ] Рассмотрено больше одной модели\n",
    "    - [ ] Рассмотрено хотя бы 3 значения гипепараметров для какой-нибудь модели\n",
    "    - [ ] Написаны выводы по результатам исследования\n",
    "- [ ] Выполнено задание 3: Проведено тестирование\n",
    "- [ ] Удалось достичь accuracy не меньше 0.75\n"
   ]
  }
 ],
 "metadata": {
  "ExecuteTimeLog": [
   {
    "duration": 994,
    "start_time": "2022-07-10T23:58:43.455Z"
   },
   {
    "duration": 91,
    "start_time": "2022-07-10T23:58:44.451Z"
   },
   {
    "duration": 9,
    "start_time": "2022-07-10T23:58:51.442Z"
   },
   {
    "duration": 60,
    "start_time": "2022-07-10T23:59:04.731Z"
   },
   {
    "duration": 13,
    "start_time": "2022-07-10T23:59:21.652Z"
   },
   {
    "duration": 5,
    "start_time": "2022-07-11T00:00:09.328Z"
   },
   {
    "duration": 817,
    "start_time": "2022-07-11T00:02:12.392Z"
   },
   {
    "duration": 14,
    "start_time": "2022-07-11T00:02:21.276Z"
   },
   {
    "duration": 15,
    "start_time": "2022-07-11T00:02:37.590Z"
   },
   {
    "duration": 6,
    "start_time": "2022-07-11T00:03:32.765Z"
   },
   {
    "duration": 14,
    "start_time": "2022-07-11T00:04:49.793Z"
   },
   {
    "duration": 15,
    "start_time": "2022-07-11T00:04:57.577Z"
   },
   {
    "duration": 19,
    "start_time": "2022-07-11T00:05:07.131Z"
   },
   {
    "duration": 16,
    "start_time": "2022-07-11T00:05:29.431Z"
   },
   {
    "duration": 16,
    "start_time": "2022-07-11T00:05:48.266Z"
   },
   {
    "duration": 8,
    "start_time": "2022-07-11T00:06:11.861Z"
   },
   {
    "duration": 9,
    "start_time": "2022-07-11T00:06:12.401Z"
   },
   {
    "duration": 19,
    "start_time": "2022-07-11T00:06:46.924Z"
   },
   {
    "duration": 4,
    "start_time": "2022-07-11T00:48:55.560Z"
   },
   {
    "duration": 14,
    "start_time": "2022-07-11T00:49:15.101Z"
   },
   {
    "duration": 4,
    "start_time": "2022-07-11T00:49:15.746Z"
   },
   {
    "duration": 45,
    "start_time": "2022-07-12T01:27:57.341Z"
   },
   {
    "duration": 1001,
    "start_time": "2022-07-12T01:28:07.604Z"
   },
   {
    "duration": 54,
    "start_time": "2022-07-12T01:28:08.607Z"
   },
   {
    "duration": 10,
    "start_time": "2022-07-12T01:28:08.663Z"
   },
   {
    "duration": 20,
    "start_time": "2022-07-12T01:28:08.675Z"
   },
   {
    "duration": 10,
    "start_time": "2022-07-12T01:28:08.697Z"
   },
   {
    "duration": 4,
    "start_time": "2022-07-12T01:28:08.708Z"
   },
   {
    "duration": 6,
    "start_time": "2022-07-12T01:28:08.713Z"
   },
   {
    "duration": 15,
    "start_time": "2022-07-12T01:28:08.720Z"
   },
   {
    "duration": 14,
    "start_time": "2022-07-12T01:28:08.736Z"
   },
   {
    "duration": 5,
    "start_time": "2022-07-12T01:30:40.081Z"
   },
   {
    "duration": 13,
    "start_time": "2022-07-12T01:30:47.190Z"
   },
   {
    "duration": 12,
    "start_time": "2022-07-12T01:30:56.691Z"
   },
   {
    "duration": 982,
    "start_time": "2022-07-12T01:31:31.541Z"
   },
   {
    "duration": 36,
    "start_time": "2022-07-12T01:31:32.525Z"
   },
   {
    "duration": 11,
    "start_time": "2022-07-12T01:31:32.562Z"
   },
   {
    "duration": 28,
    "start_time": "2022-07-12T01:31:32.575Z"
   },
   {
    "duration": 11,
    "start_time": "2022-07-12T01:31:32.605Z"
   },
   {
    "duration": 8,
    "start_time": "2022-07-12T01:31:32.617Z"
   },
   {
    "duration": 15,
    "start_time": "2022-07-12T01:31:32.627Z"
   },
   {
    "duration": 16,
    "start_time": "2022-07-12T01:31:32.644Z"
   },
   {
    "duration": 20,
    "start_time": "2022-07-12T01:31:32.661Z"
   },
   {
    "duration": 13,
    "start_time": "2022-07-12T01:31:32.683Z"
   },
   {
    "duration": 16,
    "start_time": "2022-07-12T01:32:04.469Z"
   },
   {
    "duration": 1010,
    "start_time": "2022-07-12T01:42:28.742Z"
   },
   {
    "duration": 31,
    "start_time": "2022-07-12T01:42:29.754Z"
   },
   {
    "duration": 10,
    "start_time": "2022-07-12T01:42:29.786Z"
   },
   {
    "duration": 24,
    "start_time": "2022-07-12T01:42:29.798Z"
   },
   {
    "duration": 11,
    "start_time": "2022-07-12T01:42:29.824Z"
   },
   {
    "duration": 3,
    "start_time": "2022-07-12T01:42:29.836Z"
   },
   {
    "duration": 6,
    "start_time": "2022-07-12T01:42:29.841Z"
   },
   {
    "duration": 6,
    "start_time": "2022-07-12T01:42:29.848Z"
   },
   {
    "duration": 5,
    "start_time": "2022-07-12T01:42:29.855Z"
   },
   {
    "duration": 3,
    "start_time": "2022-07-12T02:28:16.489Z"
   },
   {
    "duration": 94,
    "start_time": "2022-07-12T02:35:18.892Z"
   },
   {
    "duration": 94,
    "start_time": "2022-07-12T02:35:28.879Z"
   },
   {
    "duration": 96,
    "start_time": "2022-07-12T02:36:09.710Z"
   },
   {
    "duration": 9,
    "start_time": "2022-07-12T02:40:21.755Z"
   },
   {
    "duration": 41,
    "start_time": "2022-07-12T02:40:42.796Z"
   },
   {
    "duration": 39,
    "start_time": "2022-07-12T02:40:56.698Z"
   },
   {
    "duration": 34,
    "start_time": "2022-07-12T02:41:07.264Z"
   },
   {
    "duration": 40,
    "start_time": "2022-07-12T02:43:31.255Z"
   },
   {
    "duration": 94,
    "start_time": "2022-07-12T02:43:32.842Z"
   },
   {
    "duration": 10,
    "start_time": "2022-07-12T02:47:31.645Z"
   },
   {
    "duration": 2606,
    "start_time": "2022-07-12T02:47:45.274Z"
   },
   {
    "duration": 12,
    "start_time": "2022-07-12T02:49:43.570Z"
   },
   {
    "duration": 14,
    "start_time": "2022-07-12T02:49:49.640Z"
   },
   {
    "duration": 13,
    "start_time": "2022-07-12T02:49:51.353Z"
   },
   {
    "duration": 14,
    "start_time": "2022-07-12T02:49:53.295Z"
   },
   {
    "duration": 489,
    "start_time": "2022-07-12T02:50:35.814Z"
   },
   {
    "duration": 50,
    "start_time": "2022-07-12T02:51:54.574Z"
   },
   {
    "duration": 1144,
    "start_time": "2022-07-12T23:15:28.420Z"
   },
   {
    "duration": 147,
    "start_time": "2022-07-12T23:15:29.567Z"
   },
   {
    "duration": 13,
    "start_time": "2022-07-12T23:15:29.716Z"
   },
   {
    "duration": 27,
    "start_time": "2022-07-12T23:15:29.731Z"
   },
   {
    "duration": 14,
    "start_time": "2022-07-12T23:15:29.759Z"
   },
   {
    "duration": 6,
    "start_time": "2022-07-12T23:15:29.798Z"
   },
   {
    "duration": 11,
    "start_time": "2022-07-12T23:15:29.807Z"
   },
   {
    "duration": 7,
    "start_time": "2022-07-12T23:15:29.820Z"
   },
   {
    "duration": 6,
    "start_time": "2022-07-12T23:15:29.829Z"
   },
   {
    "duration": 162,
    "start_time": "2022-07-12T23:15:29.838Z"
   },
   {
    "duration": 0,
    "start_time": "2022-07-12T23:15:30.001Z"
   },
   {
    "duration": 0,
    "start_time": "2022-07-12T23:15:30.003Z"
   },
   {
    "duration": 0,
    "start_time": "2022-07-12T23:15:30.004Z"
   },
   {
    "duration": 0,
    "start_time": "2022-07-12T23:15:30.006Z"
   },
   {
    "duration": 0,
    "start_time": "2022-07-12T23:15:30.007Z"
   },
   {
    "duration": 0,
    "start_time": "2022-07-12T23:15:30.008Z"
   },
   {
    "duration": 16,
    "start_time": "2022-07-12T23:16:51.109Z"
   },
   {
    "duration": 23,
    "start_time": "2022-07-12T23:17:01.760Z"
   },
   {
    "duration": 113,
    "start_time": "2022-07-12T23:17:16.336Z"
   },
   {
    "duration": 112,
    "start_time": "2022-07-12T23:17:30.383Z"
   },
   {
    "duration": 56,
    "start_time": "2022-07-12T23:17:34.917Z"
   },
   {
    "duration": 40,
    "start_time": "2022-07-12T23:17:38.026Z"
   },
   {
    "duration": 3015,
    "start_time": "2022-07-12T23:17:48.474Z"
   },
   {
    "duration": 3098,
    "start_time": "2022-07-12T23:18:12.755Z"
   },
   {
    "duration": 15,
    "start_time": "2022-07-12T23:18:24.290Z"
   },
   {
    "duration": 390,
    "start_time": "2022-07-12T23:18:25.209Z"
   },
   {
    "duration": 58,
    "start_time": "2022-07-12T23:18:27.837Z"
   },
   {
    "duration": 1222,
    "start_time": "2022-07-12T23:21:13.526Z"
   },
   {
    "duration": 50,
    "start_time": "2022-07-12T23:21:14.751Z"
   },
   {
    "duration": 12,
    "start_time": "2022-07-12T23:21:14.803Z"
   },
   {
    "duration": 24,
    "start_time": "2022-07-12T23:21:14.818Z"
   },
   {
    "duration": 14,
    "start_time": "2022-07-12T23:21:14.844Z"
   },
   {
    "duration": 38,
    "start_time": "2022-07-12T23:21:14.860Z"
   },
   {
    "duration": 6,
    "start_time": "2022-07-12T23:21:14.900Z"
   },
   {
    "duration": 19,
    "start_time": "2022-07-12T23:21:14.908Z"
   },
   {
    "duration": 10,
    "start_time": "2022-07-12T23:21:14.929Z"
   },
   {
    "duration": 129,
    "start_time": "2022-07-12T23:21:14.942Z"
   },
   {
    "duration": 57,
    "start_time": "2022-07-12T23:21:15.074Z"
   },
   {
    "duration": 3139,
    "start_time": "2022-07-12T23:21:15.133Z"
   },
   {
    "duration": 15,
    "start_time": "2022-07-12T23:21:18.274Z"
   },
   {
    "duration": 304,
    "start_time": "2022-07-12T23:21:18.298Z"
   },
   {
    "duration": 159,
    "start_time": "2022-07-12T23:21:18.604Z"
   },
   {
    "duration": 123,
    "start_time": "2022-07-12T23:21:18.765Z"
   },
   {
    "duration": 6,
    "start_time": "2022-07-12T23:21:44.453Z"
   },
   {
    "duration": 14,
    "start_time": "2022-07-12T23:24:25.889Z"
   },
   {
    "duration": 173,
    "start_time": "2022-07-12T23:24:28.427Z"
   },
   {
    "duration": 212,
    "start_time": "2022-07-12T23:24:30.568Z"
   },
   {
    "duration": 5,
    "start_time": "2022-07-12T23:27:28.412Z"
   },
   {
    "duration": 5,
    "start_time": "2022-07-12T23:27:31.998Z"
   },
   {
    "duration": 12,
    "start_time": "2022-07-12T23:40:02.659Z"
   },
   {
    "duration": 123,
    "start_time": "2022-07-12T23:40:08.811Z"
   },
   {
    "duration": 103,
    "start_time": "2022-07-12T23:40:13.163Z"
   },
   {
    "duration": 102,
    "start_time": "2022-07-12T23:40:15.653Z"
   },
   {
    "duration": 27,
    "start_time": "2022-07-12T23:42:45.086Z"
   },
   {
    "duration": 5,
    "start_time": "2022-07-12T23:43:43.392Z"
   },
   {
    "duration": 4,
    "start_time": "2022-07-12T23:43:52.439Z"
   },
   {
    "duration": 4,
    "start_time": "2022-07-12T23:44:14.530Z"
   },
   {
    "duration": 3,
    "start_time": "2022-07-12T23:44:17.318Z"
   },
   {
    "duration": 34,
    "start_time": "2022-07-12T23:46:04.913Z"
   },
   {
    "duration": 25,
    "start_time": "2022-07-12T23:47:13.760Z"
   },
   {
    "duration": 1329,
    "start_time": "2022-07-12T23:48:43.308Z"
   },
   {
    "duration": 27,
    "start_time": "2022-07-12T23:49:11.848Z"
   },
   {
    "duration": 48381,
    "start_time": "2022-07-12T23:49:40.481Z"
   },
   {
    "duration": 450,
    "start_time": "2022-07-13T00:06:37.558Z"
   },
   {
    "duration": 288,
    "start_time": "2022-07-13T00:07:10.819Z"
   },
   {
    "duration": 558,
    "start_time": "2022-07-13T00:07:29.547Z"
   },
   {
    "duration": 454,
    "start_time": "2022-07-13T00:07:48.458Z"
   },
   {
    "duration": 406,
    "start_time": "2022-07-13T00:07:55.297Z"
   },
   {
    "duration": 469,
    "start_time": "2022-07-13T00:08:09.235Z"
   },
   {
    "duration": 159,
    "start_time": "2022-07-13T00:08:18.265Z"
   },
   {
    "duration": 511,
    "start_time": "2022-07-13T00:08:23.492Z"
   },
   {
    "duration": 1325,
    "start_time": "2022-07-13T00:11:42.641Z"
   },
   {
    "duration": 48522,
    "start_time": "2022-07-13T00:12:18.086Z"
   },
   {
    "duration": 666,
    "start_time": "2022-07-13T00:15:40.238Z"
   },
   {
    "duration": 48638,
    "start_time": "2022-07-13T00:16:01.617Z"
   },
   {
    "duration": 197,
    "start_time": "2022-07-13T00:32:43.904Z"
   },
   {
    "duration": 1652,
    "start_time": "2022-07-13T13:59:52.003Z"
   },
   {
    "duration": 33,
    "start_time": "2022-07-13T13:59:53.657Z"
   },
   {
    "duration": 11,
    "start_time": "2022-07-13T13:59:53.692Z"
   },
   {
    "duration": 32,
    "start_time": "2022-07-13T13:59:53.705Z"
   },
   {
    "duration": 17,
    "start_time": "2022-07-13T13:59:53.739Z"
   },
   {
    "duration": 5,
    "start_time": "2022-07-13T13:59:53.758Z"
   },
   {
    "duration": 6,
    "start_time": "2022-07-13T13:59:53.764Z"
   },
   {
    "duration": 8,
    "start_time": "2022-07-13T13:59:53.772Z"
   },
   {
    "duration": 7,
    "start_time": "2022-07-13T13:59:53.782Z"
   },
   {
    "duration": 129,
    "start_time": "2022-07-13T13:59:53.791Z"
   },
   {
    "duration": 40,
    "start_time": "2022-07-13T13:59:53.922Z"
   },
   {
    "duration": 2951,
    "start_time": "2022-07-13T13:59:53.964Z"
   },
   {
    "duration": 12,
    "start_time": "2022-07-13T13:59:56.917Z"
   },
   {
    "duration": 173,
    "start_time": "2022-07-13T13:59:56.930Z"
   },
   {
    "duration": 301,
    "start_time": "2022-07-13T13:59:57.104Z"
   },
   {
    "duration": 6,
    "start_time": "2022-07-13T13:59:57.406Z"
   },
   {
    "duration": 11,
    "start_time": "2022-07-13T13:59:57.413Z"
   },
   {
    "duration": 1253,
    "start_time": "2022-07-13T13:59:57.426Z"
   },
   {
    "duration": 44191,
    "start_time": "2022-07-13T13:59:58.680Z"
   },
   {
    "duration": 433,
    "start_time": "2022-07-13T14:00:42.873Z"
   },
   {
    "duration": 4,
    "start_time": "2022-07-13T14:03:12.561Z"
   },
   {
    "duration": 55,
    "start_time": "2022-07-13T14:03:12.972Z"
   },
   {
    "duration": 10,
    "start_time": "2022-07-13T14:03:13.399Z"
   },
   {
    "duration": 22,
    "start_time": "2022-07-13T14:03:13.856Z"
   },
   {
    "duration": 13,
    "start_time": "2022-07-13T14:03:14.712Z"
   },
   {
    "duration": 5,
    "start_time": "2022-07-13T14:03:16.026Z"
   },
   {
    "duration": 6,
    "start_time": "2022-07-13T14:03:18.700Z"
   },
   {
    "duration": 101,
    "start_time": "2022-07-13T14:03:23.135Z"
   },
   {
    "duration": 33,
    "start_time": "2022-07-13T14:03:24.029Z"
   },
   {
    "duration": 169,
    "start_time": "2022-07-13T14:03:28.441Z"
   },
   {
    "duration": 184,
    "start_time": "2022-07-13T14:03:28.905Z"
   },
   {
    "duration": 6,
    "start_time": "2022-07-13T14:03:30.205Z"
   },
   {
    "duration": 5,
    "start_time": "2022-07-13T14:03:30.655Z"
   },
   {
    "duration": 1148,
    "start_time": "2022-07-13T14:03:31.961Z"
   },
   {
    "duration": 43955,
    "start_time": "2022-07-13T14:03:33.111Z"
   },
   {
    "duration": 440,
    "start_time": "2022-07-13T14:04:17.068Z"
   },
   {
    "duration": 99,
    "start_time": "2022-07-13T22:11:46.637Z"
   }
  ],
  "kernelspec": {
   "display_name": "Python 3 (ipykernel)",
   "language": "python",
   "name": "python3"
  },
  "language_info": {
   "codemirror_mode": {
    "name": "ipython",
    "version": 3
   },
   "file_extension": ".py",
   "mimetype": "text/x-python",
   "name": "python",
   "nbconvert_exporter": "python",
   "pygments_lexer": "ipython3",
   "version": "3.9.5"
  },
  "toc": {
   "base_numbering": 1,
   "nav_menu": {},
   "number_sections": true,
   "sideBar": true,
   "skip_h1_title": true,
   "title_cell": "Table of Contents",
   "title_sidebar": "Contents",
   "toc_cell": false,
   "toc_position": {},
   "toc_section_display": true,
   "toc_window_display": false
  }
 },
 "nbformat": 4,
 "nbformat_minor": 2
}
