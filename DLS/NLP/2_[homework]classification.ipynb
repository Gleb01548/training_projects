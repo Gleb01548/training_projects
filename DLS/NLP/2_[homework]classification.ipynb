{
 "cells": [
  {
   "cell_type": "markdown",
   "metadata": {
    "id": "Ot3c4fjZwC4T"
   },
   "source": [
    "<img src=\"https://s8.hostingkartinok.com/uploads/images/2018/08/308b49fcfbc619d629fe4604bceb67ac.jpg\" width=500, height=450>\n",
    "<h3 style=\"text-align: center;\"><b>Физтех-Школа Прикладной математики и информатики (ФПМИ) МФТИ</b></h3>"
   ]
  },
  {
   "cell_type": "markdown",
   "metadata": {
    "id": "P2JdzEXmwRU5"
   },
   "source": [
    "---"
   ]
  },
  {
   "cell_type": "markdown",
   "metadata": {
    "id": "TItJgQMp5p4E"
   },
   "source": [
    "# Задание 3\n",
    "\n",
    "## Классификация текстов\n",
    "\n",
    "В этом задании вам предстоит попробовать несколько методов, используемых в задаче классификации, а также понять насколько хорошо модель понимает смысл слов и какие слова в примере влияют на результат."
   ]
  },
  {
   "cell_type": "code",
   "execution_count": 1,
   "metadata": {
    "id": "1emhHMhniZMu"
   },
   "outputs": [],
   "source": [
    "import pandas as pd\n",
    "import numpy as np\n",
    "import torch\n",
    "\n",
    "from torchtext import datasets\n",
    "\n",
    "from torchtext.datasets import IMDB\n",
    "\n",
    "from torchtext.vocab import Vectors, GloVe\n",
    "\n",
    "import torch.nn as nn\n",
    "import torch.nn.functional as F\n",
    "import torch.optim as optim\n",
    "import random\n",
    "from tqdm.autonotebook import tqdm\n",
    "\n",
    "device = \"cuda\" if torch.cuda.is_available() else \"cpu\""
   ]
  },
  {
   "cell_type": "markdown",
   "metadata": {
    "id": "XyOlPZA26Ppy"
   },
   "source": [
    "В этом задании мы будем использовать библиотеку torchtext. Она довольна проста в использовании и поможет нам сконцентрироваться на задаче, а не на написании Dataloader-а."
   ]
  },
  {
   "cell_type": "code",
   "execution_count": 2,
   "metadata": {
    "id": "SBK4ipzS122j"
   },
   "outputs": [],
   "source": [
    "SEED = 1234\n",
    "\n",
    "torch.manual_seed(SEED)\n",
    "torch.backends.cudnn.deterministic = True"
   ]
  },
  {
   "cell_type": "markdown",
   "metadata": {
    "id": "nNWLG7mG6n2d"
   },
   "source": [
    "Датасет на котором мы будем проводить эксперементы это комментарии к фильмам из сайта IMDB."
   ]
  },
  {
   "cell_type": "code",
   "execution_count": 3,
   "metadata": {},
   "outputs": [],
   "source": [
    "from torchtext.data.utils import get_tokenizer\n",
    "tokenizer = get_tokenizer('basic_english')"
   ]
  },
  {
   "cell_type": "code",
   "execution_count": 4,
   "metadata": {
    "id": "mRzUSWeAi6Xq"
   },
   "outputs": [],
   "source": [
    "train = IMDB('data\\datasets', split= 'train')\n",
    "test = IMDB('data\\datasets', split= 'test')"
   ]
  },
  {
   "cell_type": "markdown",
   "metadata": {},
   "source": [
    "1 - негативный, 2 - позитивный"
   ]
  },
  {
   "cell_type": "code",
   "execution_count": 5,
   "metadata": {},
   "outputs": [],
   "source": [
    "import random\n",
    "from collections import Counter\n",
    "from torchtext.vocab import Vocab\n",
    "import pandas as pd\n",
    "\n",
    "train_list = []\n",
    "counter_line = Counter()\n",
    "counter_label = Counter()\n",
    "len_list = []\n",
    "for label, line in train:\n",
    "    label -= 1\n",
    "    tokenz = tokenizer(line)\n",
    "    len_list.append(len(tokenz))\n",
    "    \n",
    "    counter_label.update(str(label))\n",
    "    counter_line.update(tokenz)\n",
    "    train_list.append((label, tokenz))\n",
    "    \n",
    "    \n",
    "index_word = {word:ind+2 for ind, word in enumerate(counter_line.keys())}\n",
    "index_word['unknow'] = 1\n",
    "random.shuffle(train_list)"
   ]
  },
  {
   "cell_type": "code",
   "execution_count": 6,
   "metadata": {},
   "outputs": [
    {
     "data": {
      "text/plain": [
       "100683"
      ]
     },
     "execution_count": 6,
     "metadata": {},
     "output_type": "execute_result"
    }
   ],
   "source": [
    "len(index_word)"
   ]
  },
  {
   "cell_type": "code",
   "execution_count": 7,
   "metadata": {},
   "outputs": [
    {
     "data": {
      "text/plain": [
       "100682"
      ]
     },
     "execution_count": 7,
     "metadata": {},
     "output_type": "execute_result"
    }
   ],
   "source": [
    "len(counter_line)"
   ]
  },
  {
   "cell_type": "code",
   "execution_count": 8,
   "metadata": {},
   "outputs": [],
   "source": [
    "val_list = []\n",
    "for label, line in test:\n",
    "    label -= 1\n",
    "    tokenz = tokenizer(line)\n",
    "    val_list.append((label, tokenz))"
   ]
  },
  {
   "cell_type": "code",
   "execution_count": 9,
   "metadata": {},
   "outputs": [
    {
     "data": {
      "text/plain": [
       "Counter({'0': 12500, '1': 12500})"
      ]
     },
     "execution_count": 9,
     "metadata": {},
     "output_type": "execute_result"
    }
   ],
   "source": [
    "counter_label"
   ]
  },
  {
   "cell_type": "code",
   "execution_count": 10,
   "metadata": {},
   "outputs": [
    {
     "data": {
      "text/plain": [
       "<AxesSubplot:>"
      ]
     },
     "execution_count": 10,
     "metadata": {},
     "output_type": "execute_result"
    },
    {
     "data": {
      "image/png": "[encoded data removed]",
      "text/plain": [
       "<Figure size 640x480 with 1 Axes>"
      ]
     },
     "metadata": {},
     "output_type": "display_data"
    }
   ],
   "source": [
    "tab = pd.Series(len_list)\n",
    "tab.hist(bins=200)"
   ]
  },
  {
   "cell_type": "code",
   "execution_count": 11,
   "metadata": {},
   "outputs": [
    {
     "data": {
      "text/plain": [
       "2752"
      ]
     },
     "execution_count": 11,
     "metadata": {},
     "output_type": "execute_result"
    }
   ],
   "source": [
    "tab.max()"
   ]
  },
  {
   "cell_type": "code",
   "execution_count": 12,
   "metadata": {},
   "outputs": [
    {
     "name": "stdout",
     "output_type": "stream",
     "text": [
      "292.0\n",
      "374.0\n",
      "530.0\n"
     ]
    }
   ],
   "source": [
    "print(tab.quantile(0.7))\n",
    "print(tab.quantile(0.8))\n",
    "print(tab.quantile(0.9))"
   ]
  },
  {
   "cell_type": "code",
   "execution_count": 13,
   "metadata": {},
   "outputs": [],
   "source": [
    "def trans_string(list_result, index_dict, LEN_STRI):\n",
    "    data = []\n",
    "    for label, stri in list_result:\n",
    "        stri = list(map(lambda x: index_dict.get(x, 1), stri[:LEN_STRI]))\n",
    "        stri = stri + [0]*(LEN_STRI - len(stri)) if len(stri) < LEN_STRI else stri\n",
    "        data.append((label, torch.LongTensor(stri))\n",
    "                   )\n",
    "    return data"
   ]
  },
  {
   "cell_type": "code",
   "execution_count": 14,
   "metadata": {},
   "outputs": [],
   "source": [
    "LEN_STRI = 292\n",
    "train_data = trans_string(train_list, index_word, LEN_STRI)\n",
    "test_data = trans_string(val_list, index_word, LEN_STRI)"
   ]
  },
  {
   "cell_type": "code",
   "execution_count": 15,
   "metadata": {},
   "outputs": [],
   "source": [
    "train_loader = torch.utils.data.DataLoader(train_data, batch_size=64, \n",
    "                                           shuffle=True)\n",
    "val_loader = torch.utils.data.DataLoader(test_data, batch_size=64, \n",
    "                                           shuffle=True)"
   ]
  },
  {
   "cell_type": "code",
   "execution_count": 16,
   "metadata": {},
   "outputs": [],
   "source": [
    "for x in train_loader:\n",
    "    break"
   ]
  },
  {
   "cell_type": "code",
   "execution_count": 17,
   "metadata": {},
   "outputs": [],
   "source": [
    "for x in val_loader:\n",
    "    break"
   ]
  },
  {
   "cell_type": "markdown",
   "metadata": {
    "id": "3_CRDES360wG"
   },
   "source": [
    "## RNN\n",
    "\n",
    "Для начала попробуем использовать рекурентные нейронные сети. На семинаре вы познакомились с GRU, вы можете также попробовать LSTM. Можно использовать для классификации как hidden_state, так и output последнего токена."
   ]
  },
  {
   "cell_type": "code",
   "execution_count": 18,
   "metadata": {
    "id": "J1yE1KPQqDat"
   },
   "outputs": [],
   "source": [
    "class RNNBaseline(nn.Module):\n",
    "    def __init__(self, vocab_size, embedding_dim, hidden_dim, output_dim, n_layers, \n",
    "                 bidirectional, dropout, pad_idx):\n",
    "        \n",
    "        super().__init__()\n",
    "        \n",
    "        self.embedding = nn.Embedding(vocab_size, embedding_dim, padding_idx=pad_idx)\n",
    "        \n",
    "        self.rnn = nn.LSTM(embedding_dim, hidden_dim, \n",
    "                           n_layers, bidirectional=bidirectional,\n",
    "                           dropout=dropout)\n",
    "        \n",
    "        self.fc = nn.Sequential(nn.Flatten(), \n",
    "                                nn.Linear(hidden_dim, int(hidden_dim/2)),\n",
    "                                nn.Linear(int(hidden_dim/2), output_dim)\n",
    "                               )\n",
    "        self.flat = nn.Flatten(0, 1)\n",
    "        \n",
    "        \n",
    "    def forward(self, text):\n",
    "        \n",
    "        #text = [sent len, batch size]\n",
    "        \n",
    "        embedded = self.embedding(text)\n",
    "        embedded = embedded.permute(1, 0, 2)\n",
    "        \n",
    "        #embedded = [sent len, batch size, emb dim]\n",
    "        \n",
    "        #pack sequence\n",
    "       #packed_embedded = nn.utils.rnn.pack_padded_sequence(embedded, text_lengths)\n",
    "        \n",
    "        # cell arg for LSTM, remove for GRU\n",
    "        output, (hidden, cell) = self.rnn(embedded)\n",
    "        #unpack sequence\n",
    "        #output, output_lengths = nn.utils.rnn.pad_packed_sequence(packed_output)  \n",
    "\n",
    "        #output = [sent len, batch size, hid dim * num directions]\n",
    "        #output over padding tokens are zero tensors\n",
    "        \n",
    "        #hidden = [num layers * num directions, batch size, hid dim]\n",
    "        #cell = [num layers * num directions, batch size, hid dim]\n",
    "        \n",
    "        #concat the final forward (hidden[-2,:,:]) and backward (hidden[-1,:,:]) hidden layers\n",
    "        #and apply dropout\n",
    "        \n",
    "        #hidden = None  # YOUR CODE GOES HERE\n",
    "                \n",
    "        #hidden = [batch size, hid dim * num directions] or [batch_size, hid dim * num directions]\n",
    "        #print(hidden.shape)\n",
    "        hidden = hidden.permute(1, 0, 2)\n",
    "        fc = self.fc(hidden)\n",
    "            \n",
    "        return fc"
   ]
  },
  {
   "cell_type": "markdown",
   "metadata": {
    "id": "U7dLGFg4M7Te"
   },
   "source": [
    "Поиграйтесь с гиперпараметрами"
   ]
  },
  {
   "cell_type": "code",
   "execution_count": 19,
   "metadata": {
    "id": "ggTiORJ-8t0J"
   },
   "outputs": [],
   "source": [
    "vocab_size = len(index_word) + 1\n",
    "emb_dim = 100\n",
    "hidden_dim = 256\n",
    "output_dim = 2\n",
    "n_layers = 1\n",
    "bidirectional = False\n",
    "dropout = 0.2\n",
    "#PAD_IDX = TEXT.vocab.stoi[TEXT.pad_token]\n",
    "patience=3"
   ]
  },
  {
   "cell_type": "code",
   "execution_count": 20,
   "metadata": {
    "id": "mIiM_ZBt9_91"
   },
   "outputs": [],
   "source": [
    "model = RNNBaseline(\n",
    "    vocab_size=vocab_size,\n",
    "    embedding_dim=emb_dim,\n",
    "    hidden_dim=hidden_dim,\n",
    "    output_dim=output_dim,\n",
    "    n_layers=n_layers,\n",
    "    bidirectional=bidirectional,\n",
    "    dropout=0,\n",
    "    pad_idx=0\n",
    ")"
   ]
  },
  {
   "cell_type": "code",
   "execution_count": 21,
   "metadata": {
    "id": "mFeG88M--NbD"
   },
   "outputs": [],
   "source": [
    "model = model.to(device)"
   ]
  },
  {
   "cell_type": "code",
   "execution_count": 22,
   "metadata": {
    "id": "olAS-mVI-VfT"
   },
   "outputs": [],
   "source": [
    "opt = torch.optim.Adam(model.parameters())\n",
    "loss_func = nn.BCEWithLogitsLoss()\n",
    "\n",
    "max_epochs = 20"
   ]
  },
  {
   "cell_type": "markdown",
   "metadata": {
    "id": "5jlfEAJu9akO"
   },
   "source": [
    "Обучите сетку! Используйте любые вам удобные инструменты, Catalyst, PyTorch Lightning или свои велосипеды."
   ]
  },
  {
   "cell_type": "raw",
   "metadata": {
    "id": "87dgw6ok9hR0"
   },
   "source": [
    "import numpy as np\n",
    "\n",
    "min_loss = np.inf\n",
    "\n",
    "cur_patience = 0\n",
    "\n",
    "for epoch in range(1, max_epochs + 1):\n",
    "    train_loss = 0.0\n",
    "    model.train()\n",
    "    pbar = tqdm(enumerate(train_iter), total=len(train_iter), leave=False)\n",
    "    pbar.set_description(f\"Epoch {epoch}\")\n",
    "    for it, batch in pbar: \n",
    "        #YOUR CODE GOES HERE\n",
    "\n",
    "    train_loss /= len(train_iter)\n",
    "    val_loss = 0.0\n",
    "    model.eval()\n",
    "    pbar = tqdm(enumerate(valid_iter), total=len(valid_iter), leave=False)\n",
    "    pbar.set_description(f\"Epoch {epoch}\")\n",
    "    for it, batch in pbar:\n",
    "        # YOUR CODE GOES HERE\n",
    "    val_loss /= len(valid_iter)\n",
    "    if val_loss < min_loss:\n",
    "        min_loss = val_loss\n",
    "        best_model = model.state_dict()\n",
    "    else:\n",
    "        cur_patience += 1\n",
    "        if cur_patience == patience:\n",
    "            cur_patience = 0\n",
    "            break\n",
    "    \n",
    "    print('Epoch: {}, Training Loss: {}, Validation Loss: {}'.format(epoch, train_loss, val_loss))\n",
    "model.load_state_dict(best_model)"
   ]
  },
  {
   "cell_type": "code",
   "execution_count": 23,
   "metadata": {
    "scrolled": true,
    "tags": []
   },
   "outputs": [],
   "source": [
    "from sklearn.metrics import f1_score, precision_score, recall_score\n",
    "\n",
    "def train_model(model, train_loader, val_loader, loss, optimizer, num_epochs):    \n",
    "    loss_history = []\n",
    "    train_history = []\n",
    "    val_history = []\n",
    "    metric_history = []\n",
    "    for epoch in range(num_epochs):\n",
    "        model.train() # Enter train mode\n",
    "        \n",
    "        loss_accum = 0\n",
    "        correct_samples = 0\n",
    "        total_samples = 0\n",
    "        for i_step, (y, x) in enumerate(train_loader):\n",
    "\n",
    "            x_gpu = x.to(device)\n",
    "            y_gpu = y.to(device)\n",
    "            prediction = model(x_gpu)  \n",
    "            \n",
    "            loss_value = loss(prediction, y_gpu)\n",
    "            \n",
    "            optimizer.zero_grad()\n",
    "            loss_value.backward()\n",
    "            optimizer.step()\n",
    "            \n",
    "            _, indices = torch.max(prediction, 1)\n",
    "            correct_samples += torch.sum(indices == y_gpu)\n",
    "            total_samples += y.shape[0]\n",
    "            \n",
    "            loss_accum += loss_value\n",
    "            print(i_step,  end='\\r')\n",
    "        \n",
    "        ave_loss = loss_accum / i_step\n",
    "        train_accuracy = float(correct_samples) / total_samples\n",
    "        val_metrics = compute_accuracy(model, val_loader)\n",
    "        \n",
    "        loss_history.append(float(ave_loss))\n",
    "        train_history.append(train_accuracy)\n",
    "        metric_history.append(val_metrics)\n",
    "        \n",
    "        print(f'Average loss:{ave_loss}, f1: {val_metrics[2]}, \\\n",
    "              precision: {val_metrics[0]}, recall: {val_metrics[1]}')\n",
    "        #print(\"Average loss: %f, Train accuracy: %f, Val accuracy: %f\" % (ave_loss, train_accuracy, val_accuracy))\n",
    "        \n",
    "    return loss_history, train_history, metric_history\n",
    "        \n",
    "def compute_accuracy(model, loader):\n",
    "    \"\"\"\n",
    "    Computes accuracy on the dataset wrapped in a loader\n",
    "    \n",
    "    Returns: accuracy as a float value between 0 and 1\n",
    "    \"\"\"\n",
    "    predict_list = []\n",
    "    y_list = []\n",
    "    model.eval() # Evaluation mode\n",
    "    for y, X in loader:\n",
    "        X = X.to(device)\n",
    "        y = y.to(device)\n",
    "        prediction = model(X)\n",
    "        _, index = torch.max(prediction, 1)\n",
    "        predict_list.extend(list(index.cpu()))\n",
    "        y_list.extend(list(y.cpu()))\n",
    "    \n",
    "    precision = precision_score(y_list, predict_list)\n",
    "    recall = recall_score(y_list, predict_list)\n",
    "    f1 = f1_score(y_list, predict_list)\n",
    "    \n",
    "    return (precision, recall, f1)\n",
    "    raise Exception(\"Not implemented\")"
   ]
  },
  {
   "cell_type": "code",
   "execution_count": 24,
   "metadata": {},
   "outputs": [],
   "source": [
    "opt = torch.optim.Adam(model.parameters())\n",
    "#loss_func = nn.BCEWithLogitsLoss()\n",
    "loss_func = nn.CrossEntropyLoss().type(torch.cuda.FloatTensor)\n",
    "max_epochs = 20"
   ]
  },
  {
   "cell_type": "code",
   "execution_count": 25,
   "metadata": {},
   "outputs": [
    {
     "name": "stdout",
     "output_type": "stream",
     "text": [
      "Average loss:0.6950721144676208, f1: 0.6291436672397671,               precision: 0.5049629593763618, recall: 0.83432\n",
      "Average loss:0.6935364603996277, f1: 0.6536593726789693,               precision: 0.5083533280014219, recall: 0.91528\n",
      "Average loss:0.6803185939788818, f1: 0.2741708049782356,               precision: 0.5867226449750722, recall: 0.17888\n",
      "Average loss:0.6625267267227173, f1: 0.2828210198334232,               precision: 0.5633802816901409, recall: 0.1888\n",
      "Average loss:0.6196848154067993, f1: 0.6550549034456645,               precision: 0.5150460312371181, recall: 0.8996\n",
      "Average loss:0.5505903959274292, f1: 0.38103213650162254,               precision: 0.5510142294883439, recall: 0.2912\n",
      "Average loss:0.4012276828289032, f1: 0.7557287475115423,               precision: 0.803042578089837, recall: 0.71368\n",
      "Average loss:0.2492179572582245, f1: 0.8046202998279676,               precision: 0.8244082591908679, recall: 0.78576\n",
      "Average loss:0.14444269239902496, f1: 0.82164297610287,               precision: 0.7963811096929199, recall: 0.84856\n",
      "Average loss:0.08422444015741348, f1: 0.826964395334561,               precision: 0.79452963727514, recall: 0.86216\n",
      "Average loss:0.044230785220861435, f1: 0.8025579536370904,               precision: 0.8463927588960866, recall: 0.76304\n",
      "Average loss:0.02597063034772873, f1: 0.8079107587954072,               precision: 0.8256911383947214, recall: 0.79088\n",
      "Average loss:0.020725129172205925, f1: 0.8080271996019571,               precision: 0.8386985711826476, recall: 0.77952\n",
      "Average loss:0.01424580067396164, f1: 0.8313618216767706,               precision: 0.7727460142935679, recall: 0.8996\n",
      "Average loss:0.018878603354096413, f1: 0.799813859040528,               precision: 0.8487161070210092, recall: 0.75624\n",
      "Average loss:0.010268268175423145, f1: 0.8043496375302057,               precision: 0.83924534863502, recall: 0.77224\n",
      "Average loss:0.01391552109271288, f1: 0.819725324479324,               precision: 0.775706940874036, recall: 0.86904\n",
      "Average loss:0.007908664643764496, f1: 0.8170034154973046,               precision: 0.8411998983137022, recall: 0.79416\n",
      "Average loss:0.007589452899992466, f1: 0.8266452648475121,               precision: 0.8293075684380032, recall: 0.824\n",
      "Average loss:0.009027808904647827, f1: 0.8195923577041203,               precision: 0.8172778617452868, recall: 0.82192\n"
     ]
    }
   ],
   "source": [
    "loss_history, train_history, metric_history \\\n",
    "= train_model(model, train_loader, val_loader, loss_func, opt, max_epochs)"
   ]
  },
  {
   "cell_type": "markdown",
   "metadata": {
    "id": "y4i-Go_ICT_U"
   },
   "source": [
    "Посчитайте f1-score вашего классификатора на тестовом датасете.\n",
    "\n",
    "**Ответ**:"
   ]
  },
  {
   "cell_type": "code",
   "execution_count": null,
   "metadata": {
    "id": "gWkbCpNECflR"
   },
   "outputs": [],
   "source": []
  },
  {
   "cell_type": "markdown",
   "metadata": {
    "id": "kzDqc3__JIMe"
   },
   "source": [
    "## CNN\n",
    "\n",
    "![](https://www.researchgate.net/publication/333752473/figure/fig1/AS:769346934673412@1560438011375/Standard-CNN-on-text-classification.png)\n",
    "\n",
    "Для классификации текстов также часто используют сверточные нейронные сети. Идея в том, что как правило сентимент содержат словосочетания из двух-трех слов, например \"очень хороший фильм\" или \"невероятная скука\". Проходясь сверткой по этим словам мы получим какой-то большой скор и выхватим его с помощью MaxPool. Далее идет обычная полносвязная сетка. Важный момент: свертки применяются не последовательно, а параллельно. Давайте попробуем!"
   ]
  },
  {
   "cell_type": "code",
   "execution_count": null,
   "metadata": {
    "id": "rU-76tNI-STt"
   },
   "outputs": [],
   "source": [
    "TEXT = Field(sequential=True, lower=True, batch_first=True)  # batch_first тк мы используем conv  \n",
    "LABEL = LabelField(batch_first=True, dtype=torch.float)\n",
    "\n",
    "train, tst = datasets.IMDB.splits(TEXT, LABEL)\n",
    "trn, vld = train.split(random_state=random.seed(SEED))\n",
    "\n",
    "TEXT.build_vocab(trn)\n",
    "LABEL.build_vocab(trn)\n",
    "\n",
    "device = \"cuda\" if torch.cuda.is_available() else \"cpu\""
   ]
  },
  {
   "cell_type": "code",
   "execution_count": null,
   "metadata": {
    "id": "RQpS9KKUJQVH"
   },
   "outputs": [],
   "source": [
    "train_iter, val_iter, test_iter = BucketIterator.splits(\n",
    "        (trn, vld, tst),\n",
    "        batch_sizes=(128, 256, 256),\n",
    "        sort=False,\n",
    "        sort_key= lambda x: len(x.src),\n",
    "        sort_within_batch=False,\n",
    "        device=device,\n",
    "        repeat=False,\n",
    ")"
   ]
  },
  {
   "cell_type": "markdown",
   "metadata": {
    "id": "asgbwMePPNNl"
   },
   "source": [
    "Вы можете использовать Conv2d с `in_channels=1, kernel_size=(kernel_sizes[0], emb_dim))` или Conv1d c `in_channels=emb_dim, kernel_size=kernel_size[0]`. Но хорошенько подумайте над shape в обоих случаях."
   ]
  },
  {
   "cell_type": "code",
   "execution_count": null,
   "metadata": {
    "id": "qPP_-0E-JYTQ"
   },
   "outputs": [],
   "source": [
    "class CNN(nn.Module):\n",
    "    def __init__(\n",
    "        self,\n",
    "        vocab_size,\n",
    "        emb_dim,\n",
    "        out_channels,\n",
    "        kernel_sizes,\n",
    "        dropout=0.5,\n",
    "    ):\n",
    "        super().__init__()\n",
    "        \n",
    "        self.embedding = nn.Embedding(vocab_size, emb_dim)\n",
    "        self.conv_0 = None  # YOUR CODE GOES HERE\n",
    "        \n",
    "        self.conv_1 = None  # YOUR CODE GOES HERE\n",
    "        \n",
    "        self.conv_2 = None  # YOUR CODE GOES HERE\n",
    "        \n",
    "        self.fc = nn.Linear(len(kernel_sizes) * out_channels, 1)\n",
    "        \n",
    "        self.dropout = nn.Dropout(dropout)\n",
    "        \n",
    "        \n",
    "    def forward(self, text):\n",
    "        \n",
    "        embedded = self.embedding(text)\n",
    "        \n",
    "        embedded = embedded  # may be reshape here\n",
    "        \n",
    "        conved_0 = F.relu(self.conv_0(embedded))  # may be reshape here\n",
    "        conved_1 = F.relu(self.conv_1(embedded))  # may be reshape here\n",
    "        conved_2 = F.relu(self.conv_2(embedded))  # may be reshape here\n",
    "        \n",
    "        pooled_0 = F.max_pool1d(conved_0, conved_0.shape[2]).squeeze(2)\n",
    "        pooled_1 = F.max_pool1d(conved_1, conved_1.shape[2]).squeeze(2)\n",
    "        pooled_2 = F.max_pool1d(conved_2, conved_2.shape[2]).squeeze(2)\n",
    "        \n",
    "        cat = self.dropout(torch.cat((pooled_0, pooled_1, pooled_2), dim=1))\n",
    "            \n",
    "        return self.fc(cat)"
   ]
  },
  {
   "cell_type": "code",
   "execution_count": null,
   "metadata": {
    "id": "Y-U_2T5oKNed"
   },
   "outputs": [],
   "source": [
    "kernel_sizes = [3, 4, 5]\n",
    "vocab_size = len(TEXT.vocab)\n",
    "out_channels=64\n",
    "dropout = 0.5\n",
    "dim = 300\n",
    "\n",
    "model = CNN(vocab_size=vocab_size, emb_dim=dim, out_channels=out_channels,\n",
    "            kernel_sizes=kernel_sizes, dropout=dropout)"
   ]
  },
  {
   "cell_type": "code",
   "execution_count": null,
   "metadata": {
    "id": "vC2ThnfNKPIR"
   },
   "outputs": [],
   "source": [
    "model.to(device)"
   ]
  },
  {
   "cell_type": "code",
   "execution_count": null,
   "metadata": {
    "id": "mExblVtPKRw4"
   },
   "outputs": [],
   "source": [
    "opt = torch.optim.Adam(model.parameters())\n",
    "loss_func = nn.BCEWithLogitsLoss()"
   ]
  },
  {
   "cell_type": "code",
   "execution_count": null,
   "metadata": {
    "id": "QVwSgwkEKTw5"
   },
   "outputs": [],
   "source": [
    "max_epochs = 30"
   ]
  },
  {
   "cell_type": "markdown",
   "metadata": {
    "id": "VIQgLCELDoOA"
   },
   "source": [
    "Обучите!"
   ]
  },
  {
   "cell_type": "code",
   "execution_count": null,
   "metadata": {
    "id": "zQZbJ791KXHb"
   },
   "outputs": [],
   "source": [
    "import numpy as np\n",
    "\n",
    "min_loss = np.inf\n",
    "\n",
    "cur_patience = 0\n",
    "\n",
    "for epoch in range(1, max_epochs + 1):\n",
    "    train_loss = 0.0\n",
    "    model.train()\n",
    "    pbar = tqdm(enumerate(train_iter), total=len(train_iter), leave=False)\n",
    "    pbar.set_description(f\"Epoch {epoch}\")\n",
    "    for it, batch in pbar: \n",
    "        #YOUR CODE GOES HERE\n",
    "\n",
    "    train_loss /= len(train_iter)\n",
    "    val_loss = 0.0\n",
    "    model.eval()\n",
    "    pbar = tqdm(enumerate(valid_iter), total=len(valid_iter), leave=False)\n",
    "    pbar.set_description(f\"Epoch {epoch}\")\n",
    "    for it, batch in pbar:\n",
    "        # YOUR CODE GOES HERE\n",
    "    val_loss /= len(valid_iter)\n",
    "    if val_loss < min_loss:\n",
    "        min_loss = val_loss\n",
    "        best_model = model.state_dict()\n",
    "    else:\n",
    "        cur_patience += 1\n",
    "        if cur_patience == patience:\n",
    "            cur_patience = 0\n",
    "            break\n",
    "    \n",
    "    print('Epoch: {}, Training Loss: {}, Validation Loss: {}'.format(epoch, train_loss, val_loss))\n",
    "model.load_state_dict(best_model)"
   ]
  },
  {
   "cell_type": "markdown",
   "metadata": {
    "id": "1UVCacK0EhPR"
   },
   "source": [
    "Посчитайте f1-score вашего классификатора.\n",
    "\n",
    "**Ответ**:"
   ]
  },
  {
   "cell_type": "markdown",
   "metadata": {
    "id": "7VspGMN0ESiS"
   },
   "source": [
    "## Интерпретируемость\n",
    "\n",
    "Посмотрим, куда смотрит наша модель. Достаточно запустить код ниже."
   ]
  },
  {
   "cell_type": "code",
   "execution_count": null,
   "metadata": {
    "id": "ye2SvjXrPgJh"
   },
   "outputs": [],
   "source": [
    "!pip install -q captum"
   ]
  },
  {
   "cell_type": "code",
   "execution_count": null,
   "metadata": {
    "id": "6e5XPKSZO6DY"
   },
   "outputs": [],
   "source": [
    "from captum.attr import LayerIntegratedGradients, TokenReferenceBase, visualization\n",
    "\n",
    "PAD_IND = TEXT.vocab.stoi['pad']\n",
    "\n",
    "token_reference = TokenReferenceBase(reference_token_idx=PAD_IND)\n",
    "lig = LayerIntegratedGradients(model, model.embedding)"
   ]
  },
  {
   "cell_type": "code",
   "execution_count": null,
   "metadata": {
    "id": "DvqWhd-fPe9e"
   },
   "outputs": [],
   "source": [
    "def forward_with_softmax(inp):\n",
    "    logits = model(inp)\n",
    "    return torch.softmax(logits, 0)[0][1]\n",
    "\n",
    "def forward_with_sigmoid(input):\n",
    "    return torch.sigmoid(model(input))\n",
    "\n",
    "\n",
    "# accumalate couple samples in this array for visualization purposes\n",
    "vis_data_records_ig = []\n",
    "\n",
    "def interpret_sentence(model, sentence, min_len = 7, label = 0):\n",
    "    model.eval()\n",
    "    text = [tok for tok in TEXT.tokenize(sentence)]\n",
    "    if len(text) < min_len:\n",
    "        text += ['pad'] * (min_len - len(text))\n",
    "    indexed = [TEXT.vocab.stoi[t] for t in text]\n",
    "\n",
    "    model.zero_grad()\n",
    "\n",
    "    input_indices = torch.tensor(indexed, device=device)\n",
    "    input_indices = input_indices.unsqueeze(0)\n",
    "    \n",
    "    # input_indices dim: [sequence_length]\n",
    "    seq_length = min_len\n",
    "\n",
    "    # predict\n",
    "    pred = forward_with_sigmoid(input_indices).item()\n",
    "    pred_ind = round(pred)\n",
    "\n",
    "    # generate reference indices for each sample\n",
    "    reference_indices = token_reference.generate_reference(seq_length, device=device).unsqueeze(0)\n",
    "\n",
    "    # compute attributions and approximation delta using layer integrated gradients\n",
    "    attributions_ig, delta = lig.attribute(input_indices, reference_indices, \\\n",
    "                                           n_steps=5000, return_convergence_delta=True)\n",
    "\n",
    "    print('pred: ', LABEL.vocab.itos[pred_ind], '(', '%.2f'%pred, ')', ', delta: ', abs(delta))\n",
    "\n",
    "    add_attributions_to_visualizer(attributions_ig, text, pred, pred_ind, label, delta, vis_data_records_ig)\n",
    "    \n",
    "def add_attributions_to_visualizer(attributions, text, pred, pred_ind, label, delta, vis_data_records):\n",
    "    attributions = attributions.sum(dim=2).squeeze(0)\n",
    "    attributions = attributions / torch.norm(attributions)\n",
    "    attributions = attributions.cpu().detach().numpy()\n",
    "\n",
    "    # storing couple samples in an array for visualization purposes\n",
    "    vis_data_records.append(visualization.VisualizationDataRecord(\n",
    "                            attributions,\n",
    "                            pred,\n",
    "                            LABEL.vocab.itos[pred_ind],\n",
    "                            LABEL.vocab.itos[label],\n",
    "                            LABEL.vocab.itos[1],\n",
    "                            attributions.sum(),       \n",
    "                            text,\n",
    "                            delta))"
   ]
  },
  {
   "cell_type": "code",
   "execution_count": null,
   "metadata": {
    "id": "VtYy633vS8Me"
   },
   "outputs": [],
   "source": [
    "interpret_sentence(model, 'It was a fantastic performance !', label=1)\n",
    "interpret_sentence(model, 'Best film ever', label=1)\n",
    "interpret_sentence(model, 'Such a great show!', label=1)\n",
    "interpret_sentence(model, 'It was a horrible movie', label=0)\n",
    "interpret_sentence(model, 'I\\'ve never watched something as bad', label=0)\n",
    "interpret_sentence(model, 'It is a disgusting movie!', label=0)"
   ]
  },
  {
   "cell_type": "markdown",
   "metadata": {
    "id": "aqIRSCWlRTOe"
   },
   "source": [
    "Попробуйте добавить свои примеры!"
   ]
  },
  {
   "cell_type": "code",
   "execution_count": null,
   "metadata": {
    "id": "4URAkcWXTGBi"
   },
   "outputs": [],
   "source": [
    "print('Visualize attributions based on Integrated Gradients')\n",
    "visualization.visualize_text(vis_data_records_ig)"
   ]
  },
  {
   "cell_type": "markdown",
   "metadata": {
    "id": "SvEHEaurElu8"
   },
   "source": [
    "## Эмбеддинги слов\n",
    "\n",
    "Вы ведь не забыли, как мы можем применить знания о word2vec и GloVe. Давайте попробуем!"
   ]
  },
  {
   "cell_type": "code",
   "execution_count": null,
   "metadata": {
    "id": "iW46gGLNuo0q"
   },
   "outputs": [],
   "source": [
    "TEXT.build_vocab(trn, vectors=)# YOUR CODE GOES HERE\n",
    "# подсказка: один из импортов пока не использовался, быть может он нужен в строке выше :)\n",
    "LABEL.build_vocab(trn)\n",
    "\n",
    "word_embeddings = TEXT.vocab.vectors\n",
    "\n",
    "kernel_sizes = [3, 4, 5]\n",
    "vocab_size = len(TEXT.vocab)\n",
    "dropout = 0.5\n",
    "dim = 300"
   ]
  },
  {
   "cell_type": "code",
   "execution_count": null,
   "metadata": {
    "id": "MZ4YwLlcltm3"
   },
   "outputs": [],
   "source": [
    "train, tst = datasets.IMDB.splits(TEXT, LABEL)\n",
    "trn, vld = train.split(random_state=random.seed(SEED))\n",
    "\n",
    "device = \"cuda\" if torch.cuda.is_available() else \"cpu\"\n",
    "        return self.fc(hidden)\n",
    "train_iter, val_iter, test_iter = BucketIterator.splits(\n",
    "        (trn, vld, tst),\n",
    "        batch_sizes=(128, 256, 256),\n",
    "        sort=False,\n",
    "        sort_key= lambda x: len(x.src),\n",
    "        sort_within_batch=False,\n",
    "        device=device,\n",
    "        repeat=False,\n",
    ")"
   ]
  },
  {
   "cell_type": "code",
   "execution_count": null,
   "metadata": {
    "id": "2l5pDvZgl7Fp"
   },
   "outputs": [],
   "source": [
    "model = CNN(vocab_size=vocab_size, emb_dim=dim, out_channels=64,\n",
    "            kernel_sizes=kernel_sizes, dropout=dropout)\n",
    "\n",
    "word_embeddings = TEXT.vocab.vectors\n",
    "\n",
    "prev_shape = model.embedding.weight.shape\n",
    "\n",
    "model.embedding.weight = # инициализируйте эмбэдинги\n",
    "\n",
    "assert prev_shape == model.embedding.weight.shape\n",
    "model.to(device)\n",
    "\n",
    "opt = torch.optim.Adam(model.parameters())"
   ]
  },
  {
   "cell_type": "markdown",
   "metadata": {
    "id": "IwiQjcuiFGTC"
   },
   "source": [
    "Вы знаете, что делать."
   ]
  },
  {
   "cell_type": "code",
   "execution_count": null,
   "metadata": {
    "id": "fNqcFHT8cT0b"
   },
   "outputs": [],
   "source": [
    "import numpy as np\n",
    "\n",
    "min_loss = np.inf\n",
    "\n",
    "cur_patience = 0\n",
    "\n",
    "for epoch in range(1, max_epochs + 1):\n",
    "    train_loss = 0.0\n",
    "    model.train()\n",
    "    pbar = tqdm(enumerate(train_iter), total=len(train_iter), leave=False)\n",
    "    pbar.set_description(f\"Epoch {epoch}\")\n",
    "    for it, batch in pbar: \n",
    "        #YOUR CODE GOES HERE\n",
    "\n",
    "    train_loss /= len(train_iter)\n",
    "    val_loss = 0.0\n",
    "    model.eval()\n",
    "    pbar = tqdm(enumerate(valid_iter), total=len(valid_iter), leave=False)\n",
    "    pbar.set_description(f\"Epoch {epoch}\")\n",
    "    for it, batch in pbar:\n",
    "        # YOUR CODE GOES HERE\n",
    "    val_loss /= len(valid_iter)\n",
    "    if val_loss < min_loss:\n",
    "        min_loss = val_loss\n",
    "        best_model = model.state_dict()\n",
    "    else:\n",
    "        cur_patience += 1\n",
    "        if cur_patience == patience:\n",
    "            cur_patience = 0\n",
    "            break\n",
    "    \n",
    "    print('Epoch: {}, Training Loss: {}, Validation Loss: {}'.format(epoch, train_loss, val_loss))\n",
    "model.load_state_dict(best_model)"
   ]
  },
  {
   "cell_type": "markdown",
   "metadata": {
    "id": "R2IdEWJQKESg"
   },
   "source": [
    "Посчитайте f1-score вашего классификатора.\n",
    "\n",
    "**Ответ**:"
   ]
  },
  {
   "cell_type": "code",
   "execution_count": null,
   "metadata": {
    "id": "kizk028eRF0R"
   },
   "outputs": [],
   "source": []
  },
  {
   "cell_type": "markdown",
   "metadata": {
    "id": "4sl7h_wIRGPD"
   },
   "source": [
    "Проверим насколько все хорошо!"
   ]
  },
  {
   "cell_type": "code",
   "execution_count": null,
   "metadata": {
    "id": "iPCm55FLir3e"
   },
   "outputs": [],
   "source": [
    "PAD_IND = TEXT.vocab.stoi['pad']\n",
    "\n",
    "token_reference = TokenReferenceBase(reference_token_idx=PAD_IND)\n",
    "lig = LayerIntegratedGradients(model, model.embedding)\n",
    "vis_data_records_ig = []\n",
    "\n",
    "interpret_sentence(model, 'It was a fantastic performance !', label=1)\n",
    "interpret_sentence(model, 'Best film ever', label=1)\n",
    "interpret_sentence(model, 'Such a great show!', label=1)\n",
    "interpret_sentence(model, 'It was a horrible movie', label=0)\n",
    "interpret_sentence(model, 'I\\'ve never watched something as bad', label=0)\n",
    "interpret_sentence(model, 'It is a disgusting movie!', label=0)"
   ]
  },
  {
   "cell_type": "code",
   "execution_count": null,
   "metadata": {
    "id": "NMDazB3AlFWA"
   },
   "outputs": [],
   "source": [
    "print('Visualize attributions based on Integrated Gradients')\n",
    "visualization.visualize_text(vis_data_records_ig)"
   ]
  },
  {
   "cell_type": "code",
   "execution_count": null,
   "metadata": {
    "id": "flCZHdAVlL7W"
   },
   "outputs": [],
   "source": []
  }
 ],
 "metadata": {
  "accelerator": "GPU",
  "colab": {
   "collapsed_sections": [],
   "name": " [homework]classification.ipynb",
   "provenance": []
  },
  "kernelspec": {
   "display_name": "Python 3 (ipykernel)",
   "language": "python",
   "name": "python3"
  },
  "language_info": {
   "codemirror_mode": {
    "name": "ipython",
    "version": 3
   },
   "file_extension": ".py",
   "mimetype": "text/x-python",
   "name": "python",
   "nbconvert_exporter": "python",
   "pygments_lexer": "ipython3",
   "version": "3.9.15"
  }
 },
 "nbformat": 4,
 "nbformat_minor": 4
}
