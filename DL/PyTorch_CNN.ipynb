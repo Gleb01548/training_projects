{
 "cells": [
  {
   "cell_type": "markdown",
   "metadata": {},
   "source": [
    "# Задание 3.2 - сверточные нейронные сети (CNNs) в PyTorch\n",
    "\n",
    "Это упражнение мы буде выполнять в Google Colab - https://colab.research.google.com/  \n",
    "Google Colab позволяет запускать код в notebook в облаке Google, где можно воспользоваться бесплатным GPU!  \n",
    "\n",
    "Авторы курса благодарят компанию Google и надеятся, что праздник не закончится.\n",
    "\n",
    "Туториал по настройке Google Colab:  \n",
    "https://medium.com/deep-learning-turkey/google-colab-free-gpu-tutorial-e113627b9f5d  \n",
    "(Keras инсталлировать не нужно, наш notebook сам установит PyTorch)\n"
   ]
  },
  {
   "cell_type": "code",
   "execution_count": 1,
   "metadata": {
    "colab": {},
    "colab_type": "code",
    "id": "FcXBeP1O7cnY"
   },
   "outputs": [
    {
     "name": "stdout",
     "output_type": "stream",
     "text": [
      "Requirement already satisfied: torch in c:\\users\\budni\\anaconda3\\lib\\site-packages (1.13.1)\n",
      "Requirement already satisfied: torchvision in c:\\users\\budni\\anaconda3\\lib\\site-packages (0.14.1)\n",
      "Requirement already satisfied: typing_extensions in c:\\users\\budni\\anaconda3\\lib\\site-packages (from torch) (4.4.0)\n",
      "Requirement already satisfied: numpy in c:\\users\\budni\\anaconda3\\lib\\site-packages (from torchvision) (1.23.4)\n",
      "Requirement already satisfied: requests in c:\\users\\budni\\anaconda3\\lib\\site-packages (from torchvision) (2.28.2)\n",
      "Requirement already satisfied: pillow!=8.3.*,>=5.3.0 in c:\\users\\budni\\anaconda3\\lib\\site-packages (from torchvision) (9.3.0)\n",
      "Requirement already satisfied: urllib3<1.27,>=1.21.1 in c:\\users\\budni\\anaconda3\\lib\\site-packages (from requests->torchvision) (1.25.11)\n",
      "Requirement already satisfied: certifi>=2017.4.17 in c:\\users\\budni\\anaconda3\\lib\\site-packages (from requests->torchvision) (2022.12.7)\n",
      "Requirement already satisfied: charset-normalizer<4,>=2 in c:\\users\\budni\\anaconda3\\lib\\site-packages (from requests->torchvision) (2.0.4)\n",
      "Requirement already satisfied: idna<4,>=2.5 in c:\\users\\budni\\anaconda3\\lib\\site-packages (from requests->torchvision) (2.10)\n"
     ]
    },
    {
     "name": "stderr",
     "output_type": "stream",
     "text": [
      "\"wget\" не является внутренней или внешней\n",
      "командой, исполняемой программой или пакетным файлом.\n"
     ]
    }
   ],
   "source": [
    "# Intstall PyTorch and download data\n",
    "!pip3 install torch torchvision\n",
    "\n",
    "!wget -c http://ufldl.stanford.edu/housenumbers/train_32x32.mat http://ufldl.stanford.edu/housenumbers/test_32x32.mat"
   ]
  },
  {
   "cell_type": "code",
   "execution_count": 2,
   "metadata": {
    "colab": {},
    "colab_type": "code",
    "id": "-afwWw-Q85vD"
   },
   "outputs": [],
   "source": [
    "from collections import namedtuple\n",
    "\n",
    "import matplotlib.pyplot as plt\n",
    "import numpy as np\n",
    "import PIL\n",
    "import torch\n",
    "import torch.nn as nn\n",
    "import torch.optim as optim\n",
    "import torchvision.datasets as dset\n",
    "from torch.utils.data.sampler import SubsetRandomSampler\n",
    "from torchvision import transforms\n",
    "from torchvision.transforms import InterpolationMode\n",
    "\n",
    "import optuna"
   ]
  },
  {
   "cell_type": "code",
   "execution_count": 3,
   "metadata": {
    "colab": {},
    "colab_type": "code",
    "id": "NNU-OD9O9ltP"
   },
   "outputs": [],
   "source": [
    "device = torch.device(\"cuda:0\") # Let's make sure GPU is available!"
   ]
  },
  {
   "cell_type": "markdown",
   "metadata": {},
   "source": [
    "# Загружаем данные"
   ]
  },
  {
   "cell_type": "code",
   "execution_count": 4,
   "metadata": {
    "colab": {},
    "colab_type": "code",
    "id": "YAvkoRx-9FsP"
   },
   "outputs": [
    {
     "name": "stdout",
     "output_type": "stream",
     "text": [
      "Using downloaded and verified file: data/train_32x32.mat\n",
      "Using downloaded and verified file: data/test_32x32.mat\n"
     ]
    }
   ],
   "source": [
    "# First, lets load the dataset\n",
    "data_train = dset.SVHN('data/', \n",
    "                       download = True,\n",
    "                       transform=transforms.Compose([\n",
    "                           transforms.ToTensor(),\n",
    "                           transforms.Normalize(mean=[0.43,0.44,0.47],\n",
    "                                               std=[0.20,0.20,0.20])                          \n",
    "                       ])\n",
    "                      )\n",
    "data_test = dset.SVHN('data/', split='test', \n",
    "                      download = True,\n",
    "                      transform=transforms.Compose([\n",
    "                           transforms.ToTensor(),\n",
    "                           transforms.Normalize(mean=[0.43,0.44,0.47],\n",
    "                                               std=[0.20,0.20,0.20])                           \n",
    "                       ]))"
   ]
  },
  {
   "cell_type": "code",
   "execution_count": 5,
   "metadata": {},
   "outputs": [
    {
     "name": "stdout",
     "output_type": "stream",
     "text": [
      "Using downloaded and verified file: data/test_32x32.mat\n"
     ]
    }
   ],
   "source": [
    "new = dset.SVHN('data/', split='test', \n",
    "                      download = True,          \n",
    "                       )"
   ]
  },
  {
   "cell_type": "code",
   "execution_count": 6,
   "metadata": {},
   "outputs": [
    {
     "data": {
      "text/plain": [
       "torch.Size([3, 32, 32])"
      ]
     },
     "execution_count": 6,
     "metadata": {},
     "output_type": "execute_result"
    }
   ],
   "source": [
    "data_test[0][0].shape"
   ]
  },
  {
   "cell_type": "code",
   "execution_count": 7,
   "metadata": {},
   "outputs": [
    {
     "data": {
      "text/plain": [
       "tensor([[[0.1490, 0.1529, 0.1529,  ..., 0.1608, 0.1647, 0.1529],\n",
       "         [0.1529, 0.1529, 0.1529,  ..., 0.1608, 0.1686, 0.1529],\n",
       "         [0.1490, 0.1451, 0.1529,  ..., 0.1686, 0.1686, 0.1529],\n",
       "         ...,\n",
       "         [0.2039, 0.2078, 0.2000,  ..., 0.1725, 0.1725, 0.1608],\n",
       "         [0.1961, 0.2000, 0.1922,  ..., 0.1725, 0.1765, 0.1647],\n",
       "         [0.1882, 0.1882, 0.1804,  ..., 0.1686, 0.1725, 0.1647]],\n",
       "\n",
       "        [[0.4039, 0.4078, 0.4078,  ..., 0.4000, 0.4039, 0.3804],\n",
       "         [0.4078, 0.4078, 0.4078,  ..., 0.4000, 0.3961, 0.3804],\n",
       "         [0.4118, 0.4078, 0.4157,  ..., 0.3961, 0.3922, 0.3804],\n",
       "         ...,\n",
       "         [0.4667, 0.4706, 0.4627,  ..., 0.4627, 0.4588, 0.4471],\n",
       "         [0.4588, 0.4627, 0.4549,  ..., 0.4588, 0.4549, 0.4431],\n",
       "         [0.4510, 0.4510, 0.4431,  ..., 0.4549, 0.4510, 0.4431]],\n",
       "\n",
       "        [[0.2353, 0.2392, 0.2431,  ..., 0.2392, 0.2431, 0.2235],\n",
       "         [0.2392, 0.2392, 0.2431,  ..., 0.2392, 0.2471, 0.2235],\n",
       "         [0.2431, 0.2392, 0.2471,  ..., 0.2471, 0.2510, 0.2314],\n",
       "         ...,\n",
       "         [0.3059, 0.3098, 0.3020,  ..., 0.2706, 0.2784, 0.2706],\n",
       "         [0.2980, 0.3020, 0.2941,  ..., 0.2784, 0.2824, 0.2706],\n",
       "         [0.2902, 0.2902, 0.2824,  ..., 0.2784, 0.2784, 0.2784]]])"
      ]
     },
     "execution_count": 7,
     "metadata": {},
     "output_type": "execute_result"
    }
   ],
   "source": [
    "q = transforms.ToTensor()\n",
    "q(new[0][0])"
   ]
  },
  {
   "cell_type": "markdown",
   "metadata": {},
   "source": [
    "Разделяем данные на training и validation.\n",
    "\n",
    "На всякий случай для подробностей - https://pytorch.org/tutorials/beginner/data_loading_tutorial.html"
   ]
  },
  {
   "cell_type": "code",
   "execution_count": 8,
   "metadata": {
    "colab": {},
    "colab_type": "code",
    "id": "YRnr8CPg7Hli"
   },
   "outputs": [],
   "source": [
    "batch_size = 64\n",
    "\n",
    "data_size = data_train.data.shape[0]\n",
    "validation_split = .2\n",
    "split = int(np.floor(validation_split * data_size))\n",
    "indices = list(range(data_size))\n",
    "np.random.shuffle(indices)\n",
    "\n",
    "train_indices, val_indices = indices[split:], indices[:split]\n",
    "\n",
    "train_sampler = SubsetRandomSampler(train_indices)\n",
    "val_sampler = SubsetRandomSampler(val_indices)\n",
    "\n",
    "train_loader = torch.utils.data.DataLoader(data_train, batch_size=batch_size, \n",
    "                                           sampler=train_sampler)\n",
    "val_loader = torch.utils.data.DataLoader(data_train, batch_size=batch_size,\n",
    "                                         sampler=val_sampler)"
   ]
  },
  {
   "cell_type": "code",
   "execution_count": 9,
   "metadata": {
    "colab": {},
    "colab_type": "code",
    "id": "LyYvt-T67PBG"
   },
   "outputs": [],
   "source": [
    "# We'll use a special helper module to shape it into a flat tensor\n",
    "class Flattener(nn.Module):\n",
    "    def forward(self, x):\n",
    "        batch_size, *_ = x.shape\n",
    "        return x.view(batch_size, -1)"
   ]
  },
  {
   "cell_type": "markdown",
   "metadata": {},
   "source": [
    "Создадим простейшую сеть с новыми слоями:  \n",
    "Convolutional - `nn.Conv2d`  \n",
    "MaxPool - `nn.MaxPool2d`"
   ]
  },
  {
   "cell_type": "code",
   "execution_count": 10,
   "metadata": {
    "colab": {},
    "colab_type": "code",
    "id": "w9SFVGZP7SQd"
   },
   "outputs": [],
   "source": [
    "nn_model = nn.Sequential(\n",
    "            nn.Conv2d(3, 64, 3, padding=1),\n",
    "            nn.ReLU(inplace=True),\n",
    "            nn.MaxPool2d(4),\n",
    "            nn.Conv2d(64, 64, 3, padding=1),\n",
    "            nn.ReLU(inplace=True),\n",
    "            nn.MaxPool2d(4),    \n",
    "            nn.Flatten(),\n",
    "            nn.Linear(64*2*2, 10),\n",
    "          )\n",
    "\n",
    "nn_model.type(torch.cuda.FloatTensor)\n",
    "nn_model.to(device)\n",
    "\n",
    "loss = nn.CrossEntropyLoss().type(torch.cuda.FloatTensor)\n",
    "optimizer = optim.SGD(nn_model.parameters(), lr=1e-1, weight_decay=1e-4)"
   ]
  },
  {
   "cell_type": "markdown",
   "metadata": {},
   "source": [
    "Восстановите функцию `compute_accuracy` из прошлого задания.  \n",
    "Единственное отличие в новом - она должна передать данные на GPU прежде чем прогонять через модель. Сделайте это так же, как это делает функция `train_model`"
   ]
  },
  {
   "cell_type": "code",
   "execution_count": 11,
   "metadata": {
    "colab": {},
    "colab_type": "code",
    "id": "2ek3KVQK7hJ6"
   },
   "outputs": [
    {
     "name": "stdout",
     "output_type": "stream",
     "text": [
      "Average loss: 1.420861, Train accuracy: 0.524554, Val accuracy: 0.678111\n",
      "Average loss: 0.730125, Train accuracy: 0.777002, Val accuracy: 0.807112\n",
      "Average loss: 0.614526, Train accuracy: 0.816913, Val accuracy: 0.816600\n",
      "Average loss: 0.564348, Train accuracy: 0.833891, Val accuracy: 0.836325\n",
      "Average loss: 0.529403, Train accuracy: 0.843617, Val accuracy: 0.826974\n"
     ]
    }
   ],
   "source": [
    "def train_model(model, train_loader, val_loader, loss, optimizer, num_epochs):    \n",
    "    loss_history = []\n",
    "    train_history = []\n",
    "    val_history = []\n",
    "    for epoch in range(num_epochs):\n",
    "        model.train() # Enter train mode\n",
    "        \n",
    "        loss_accum = 0\n",
    "        correct_samples = 0\n",
    "        total_samples = 0\n",
    "        for i_step, (x, y) in enumerate(train_loader):\n",
    "          \n",
    "            x_gpu = x.to(device)\n",
    "            y_gpu = y.to(device)\n",
    "            prediction = model(x_gpu)    \n",
    "            loss_value = loss(prediction, y_gpu)\n",
    "            optimizer.zero_grad()\n",
    "            loss_value.backward()\n",
    "            optimizer.step()\n",
    "            \n",
    "            _, indices = torch.max(prediction, 1)\n",
    "            correct_samples += torch.sum(indices == y_gpu)\n",
    "            total_samples += y.shape[0]\n",
    "            \n",
    "            loss_accum += loss_value\n",
    "\n",
    "        ave_loss = loss_accum / i_step\n",
    "        train_accuracy = float(correct_samples) / total_samples\n",
    "        val_accuracy = compute_accuracy(model, val_loader)\n",
    "        \n",
    "        loss_history.append(float(ave_loss))\n",
    "        train_history.append(train_accuracy)\n",
    "        val_history.append(val_accuracy)\n",
    "        \n",
    "        print(\"Average loss: %f, Train accuracy: %f, Val accuracy: %f\" % (ave_loss, train_accuracy, val_accuracy))\n",
    "        \n",
    "    return loss_history, train_history, val_history\n",
    "        \n",
    "def compute_accuracy(model, loader):\n",
    "    \"\"\"\n",
    "    Computes accuracy on the dataset wrapped in a loader\n",
    "    \n",
    "    Returns: accuracy as a float value between 0 and 1\n",
    "    \"\"\"\n",
    "    model.eval() # Evaluation mode\n",
    "    val_size = 0\n",
    "    good_predict = 0\n",
    "    model.eval() # Evaluation mode\n",
    "    for i_step, (X, y) in enumerate(loader):\n",
    "        X = X.to(device)\n",
    "        y = y.to(device)\n",
    "        prediction = model(X)\n",
    "        _, index = torch.max(prediction, 1)\n",
    "        good_predict += torch.sum(index == y)\n",
    "        val_size += X.shape[0]\n",
    "    \n",
    "    accuracy =  float(good_predict)/val_size\n",
    "    \n",
    "    return accuracy\n",
    "    \n",
    "    \n",
    "    # TODO: Copy implementation from previous assignment\n",
    "    # Don't forget to move the data to device before running it through the model!\n",
    "    \n",
    "    raise Exception(\"Not implemented\")\n",
    "\n",
    "loss_history, train_history, val_history = train_model(nn_model, train_loader, val_loader, loss, optimizer, 5)"
   ]
  },
  {
   "cell_type": "markdown",
   "metadata": {
    "colab_type": "text",
    "id": "6a-3a1ZFGEw_"
   },
   "source": [
    "# Аугментация данных (Data augmentation)\n",
    "\n",
    "В работе с изображениями одним из особенно важных методов является аугментация данных - то есть, генерация дополнительных данных для тренировки на основе изначальных.   \n",
    "Таким образом, мы получаем возможность \"увеличить\" набор данных для тренировки, что ведет к лучшей работе сети.\n",
    "Важно, чтобы аугментированные данные были похожи на те, которые могут встретиться в реальной жизни, иначе польза от аугментаций уменьшается и может ухудшить работу сети.\n",
    "\n",
    "С PyTorch идут несколько таких алгоритмов, называемых `transforms`. Более подробно про них можно прочитать тут -\n",
    "https://pytorch.org/tutorials/beginner/data_loading_tutorial.html#transforms\n",
    "\n",
    "Ниже мы используем следующие алгоритмы генерации:\n",
    "- ColorJitter - случайное изменение цвета\n",
    "- RandomHorizontalFlip - горизонтальное отражение с вероятностью 50%\n",
    "- RandomVerticalFlip - вертикальное отражение с вероятностью 50%\n",
    "- RandomRotation - случайный поворот"
   ]
  },
  {
   "cell_type": "code",
   "execution_count": 12,
   "metadata": {
    "colab": {},
    "colab_type": "code",
    "id": "jCWMUWmr7t5g"
   },
   "outputs": [],
   "source": [
    "tfs = transforms.Compose([\n",
    "    transforms.ColorJitter(hue=.50, saturation=.50),\n",
    "    transforms.RandomHorizontalFlip(),\n",
    "    transforms.RandomVerticalFlip(),\n",
    "    transforms.RandomRotation(50, interpolation=InterpolationMode.BILINEAR),\n",
    "    transforms.ToTensor(),\n",
    "    transforms.Normalize(mean=[0.43,0.44,0.47],\n",
    "                       std=[0.20,0.20,0.20])                           \n",
    "])\n",
    "\n",
    "# Create augmented train dataset\n",
    "data_aug_train = dset.SVHN('data/', \n",
    "                       transform=tfs\n",
    "                      )\n",
    "\n",
    "train_aug_loader = torch.utils.data.DataLoader(data_aug_train, batch_size=batch_size, \n",
    "                                           sampler=train_sampler)"
   ]
  },
  {
   "cell_type": "code",
   "execution_count": 13,
   "metadata": {},
   "outputs": [
    {
     "data": {
      "text/plain": [
       "['_DataLoader__initialized',\n",
       " '_DataLoader__multiprocessing_context',\n",
       " '_IterableDataset_len_called',\n",
       " '__annotations__',\n",
       " '__class__',\n",
       " '__class_getitem__',\n",
       " '__delattr__',\n",
       " '__dict__',\n",
       " '__dir__',\n",
       " '__doc__',\n",
       " '__eq__',\n",
       " '__format__',\n",
       " '__ge__',\n",
       " '__getattribute__',\n",
       " '__gt__',\n",
       " '__hash__',\n",
       " '__init__',\n",
       " '__init_subclass__',\n",
       " '__iter__',\n",
       " '__le__',\n",
       " '__len__',\n",
       " '__lt__',\n",
       " '__module__',\n",
       " '__ne__',\n",
       " '__new__',\n",
       " '__orig_bases__',\n",
       " '__parameters__',\n",
       " '__reduce__',\n",
       " '__reduce_ex__',\n",
       " '__repr__',\n",
       " '__setattr__',\n",
       " '__sizeof__',\n",
       " '__slots__',\n",
       " '__str__',\n",
       " '__subclasshook__',\n",
       " '__weakref__',\n",
       " '_auto_collation',\n",
       " '_dataset_kind',\n",
       " '_get_iterator',\n",
       " '_index_sampler',\n",
       " '_is_protocol',\n",
       " '_iterator',\n",
       " 'batch_sampler',\n",
       " 'batch_size',\n",
       " 'check_worker_number_rationality',\n",
       " 'collate_fn',\n",
       " 'dataset',\n",
       " 'drop_last',\n",
       " 'generator',\n",
       " 'multiprocessing_context',\n",
       " 'num_workers',\n",
       " 'persistent_workers',\n",
       " 'pin_memory',\n",
       " 'pin_memory_device',\n",
       " 'prefetch_factor',\n",
       " 'sampler',\n",
       " 'timeout',\n",
       " 'worker_init_fn']"
      ]
     },
     "execution_count": 13,
     "metadata": {},
     "output_type": "execute_result"
    }
   ],
   "source": [
    "dir(train_aug_loader)"
   ]
  },
  {
   "cell_type": "markdown",
   "metadata": {},
   "source": [
    "Визуализируем результаты агментации (вообще, смотреть на сгенерированные данные всегда очень полезно)."
   ]
  },
  {
   "cell_type": "code",
   "execution_count": 14,
   "metadata": {
    "colab": {},
    "colab_type": "code",
    "id": "YlJJEro1KZ45"
   },
   "outputs": [
    {
     "data": {
      "image/png": "[encoded data removed]",
      "text/plain": [
       "<Figure size 3000x300 with 10 Axes>"
      ]
     },
     "metadata": {},
     "output_type": "display_data"
    }
   ],
   "source": [
    "# TODO: Visualize some augmented images!\n",
    "# hint: you can create new datasets and loaders to accomplish this\n",
    "\n",
    "# Based on the visualizations, should we keep all the augmentations?\n",
    "\n",
    "tfs = transforms.Compose([\n",
    "    transforms.ColorJitter(hue=.20, saturation=.20),\n",
    "    #transforms.RandomHorizontalFlip(),\n",
    "   #transforms.RandomVerticalFlip(),\n",
    "    transforms.RandomRotation(30, interpolation=InterpolationMode.BILINEAR),\n",
    "])\n",
    "\n",
    "data_aug_vis = dset.SVHN('data/', \n",
    "                       transform=tfs\n",
    "                      )\n",
    "\n",
    "plt.figure(figsize=(30, 3))\n",
    "\n",
    "for i, (x, y) in enumerate(data_aug_vis):\n",
    "    if i == 10:\n",
    "        break\n",
    "    plt.subplot(1, 10, i+1)\n",
    "    plt.grid(False)\n",
    "    plt.imshow(x)\n",
    "    plt.axis('off')"
   ]
  },
  {
   "cell_type": "markdown",
   "metadata": {
    "colab_type": "text",
    "id": "o2LrmsYHoguB"
   },
   "source": [
    "Все ли агментации одинаково полезны на этом наборе данных? Могут ли быть среди них те, которые собьют модель с толку?\n",
    "\n",
    "Выберите из них только корректные"
   ]
  },
  {
   "cell_type": "code",
   "execution_count": 15,
   "metadata": {
    "colab": {},
    "colab_type": "code",
    "id": "evro9ksXGs9u"
   },
   "outputs": [],
   "source": [
    "# TODO: \n",
    "tfs = transforms.Compose([\n",
    "    transforms.ColorJitter(hue=.20, saturation=.20),\n",
    "    transforms.RandomRotation(30, interpolation=InterpolationMode.BILINEAR),\n",
    "    transforms.ToTensor(),\n",
    "    transforms.Normalize(mean=[0.43,0.44,0.47],\n",
    "                       std=[0.20,0.20,0.20])                           \n",
    "])\n",
    "\n",
    "# TODO create new instances of loaders with the augmentations you chose\n",
    "train_aug_loader = None"
   ]
  },
  {
   "cell_type": "code",
   "execution_count": 16,
   "metadata": {},
   "outputs": [
    {
     "name": "stdout",
     "output_type": "stream",
     "text": [
      "Using downloaded and verified file: data/train_32x32.mat\n",
      "Using downloaded and verified file: data/train_32x32.mat\n",
      "Using downloaded and verified file: data/test_32x32.mat\n"
     ]
    }
   ],
   "source": [
    "data_train = dset.SVHN('data/', \n",
    "                       download = True,\n",
    "                       transform=transforms.Compose([\n",
    "                           transforms.ToTensor(),\n",
    "                           transforms.Normalize(mean=[0.43,0.44,0.47],\n",
    "                                               std=[0.20,0.20,0.20])                          \n",
    "                       ])\n",
    "                      )\n",
    "data_train_trans =  dset.SVHN('data/', \n",
    "                       download = True,\n",
    "                       transform=transforms.Compose([\n",
    "                            transforms.ColorJitter(hue=.20, saturation=.20),\n",
    "                            transforms.RandomRotation(30, interpolation=InterpolationMode.BILINEAR),\n",
    "                            transforms.ToTensor(),\n",
    "                            transforms.Normalize(mean=[0.43,0.44,0.47],\n",
    "                                               std=[0.20,0.20,0.20])\n",
    "                       ])\n",
    "                    )\n",
    "\n",
    "data_test = dset.SVHN('data/', split='test', \n",
    "                      download = True,\n",
    "                      transform=transforms.Compose([\n",
    "                           transforms.ToTensor(),\n",
    "                           transforms.Normalize(mean=[0.43,0.44,0.47],\n",
    "                                               std=[0.20,0.20,0.20])                           \n",
    "                       ]))\n",
    "batch_size = 64\n",
    "\n",
    "data_size = data_train.data.shape[0]\n",
    "validation_split = .2\n",
    "split = int(np.floor(validation_split * data_size))\n",
    "indices = list(range(data_size))\n",
    "np.random.shuffle(indices)\n",
    "\n",
    "train_indices, val_indices = indices[split:], indices[:split]\n",
    "\n",
    "train_sampler = SubsetRandomSampler(train_indices)\n",
    "val_sampler = SubsetRandomSampler(val_indices)"
   ]
  },
  {
   "cell_type": "code",
   "execution_count": 17,
   "metadata": {},
   "outputs": [],
   "source": [
    "data_list = []\n",
    "\n",
    "for num in train_sampler:\n",
    "    X, y = data_train[num]\n",
    "    data_list.append((X, y))\n",
    "    X, y = data_train_trans[num]\n",
    "    data_list.append((X, y))"
   ]
  },
  {
   "cell_type": "code",
   "execution_count": 18,
   "metadata": {},
   "outputs": [],
   "source": [
    "train_loader = torch.utils.data.DataLoader(data_list, batch_size=batch_size, shuffle=True)\n",
    "val_loader = torch.utils.data.DataLoader(data_train, batch_size=batch_size,\n",
    "                                         sampler=val_sampler)"
   ]
  },
  {
   "cell_type": "code",
   "execution_count": 19,
   "metadata": {},
   "outputs": [],
   "source": [
    "nn_model = nn.Sequential(\n",
    "            nn.Conv2d(3, 64, 3, padding=1),\n",
    "            nn.ReLU(inplace=True),\n",
    "            nn.MaxPool2d(4),\n",
    "            nn.Conv2d(64, 64, 3, padding=1),\n",
    "            nn.ReLU(inplace=True),\n",
    "            nn.MaxPool2d(4),    \n",
    "            nn.Flatten(),\n",
    "            nn.Linear(64*2*2, 10),\n",
    "          )\n",
    "\n",
    "nn_model.type(torch.cuda.FloatTensor)\n",
    "nn_model.to(device)\n",
    "\n",
    "loss = nn.CrossEntropyLoss().type(torch.cuda.FloatTensor)\n",
    "optimizer = optim.SGD(nn_model.parameters(), lr=1e-1, weight_decay=1e-4)"
   ]
  },
  {
   "cell_type": "code",
   "execution_count": 20,
   "metadata": {
    "colab": {},
    "colab_type": "code",
    "id": "PeO6Zw0DHqPR"
   },
   "outputs": [
    {
     "name": "stdout",
     "output_type": "stream",
     "text": [
      "Average loss: 1.295433, Train accuracy: 0.565556, Val accuracy: 0.727391\n",
      "Average loss: 0.768081, Train accuracy: 0.758941, Val accuracy: 0.806088\n",
      "Average loss: 0.683362, Train accuracy: 0.787667, Val accuracy: 0.795850\n",
      "Average loss: 0.638245, Train accuracy: 0.802136, Val accuracy: 0.827589\n",
      "Average loss: 0.607504, Train accuracy: 0.811794, Val accuracy: 0.829431\n",
      "Average loss: 0.586251, Train accuracy: 0.819464, Val accuracy: 0.818920\n",
      "Average loss: 0.568567, Train accuracy: 0.823875, Val accuracy: 0.825677\n",
      "Average loss: 0.555064, Train accuracy: 0.828823, Val accuracy: 0.847860\n",
      "Average loss: 0.541858, Train accuracy: 0.832875, Val accuracy: 0.843628\n",
      "Average loss: 0.535339, Train accuracy: 0.834386, Val accuracy: 0.837076\n"
     ]
    }
   ],
   "source": [
    "# Finally, let's train with augmentations!\n",
    "\n",
    "# Note we shouldn't use augmentations on validation\n",
    "\n",
    "loss_history, train_history, val_history = train_model(nn_model, train_loader, val_loader, loss, optimizer, 10)"
   ]
  },
  {
   "cell_type": "markdown",
   "metadata": {
    "colab_type": "text",
    "id": "r0bcioK6JBDK"
   },
   "source": [
    "# LeNet\n",
    "Попробуем имплементировать классическую архитектуру сверточной нейронной сети, предложенную Яном ЛеКуном в 1998 году. В свое время она достигла впечатляющих результатов на MNIST, посмотрим как она справится с SVHN?\n",
    "Она описана в статье [\"Gradient Based Learning Applied to Document Recognition\"](http://yann.lecun.com/exdb/publis/pdf/lecun-01a.pdf), попробуйте прочитать ключевые части и имплементировать предложенную архитетуру на PyTorch.\n",
    "\n",
    "Реализовывать слои и функцию ошибки LeNet, которых нет в PyTorch, **не нужно** - просто возьмите их размеры и переведите в уже известные нам Convolutional, Pooling и Fully Connected layers.\n",
    "\n",
    "Если в статье не очень понятно, можно просто погуглить LeNet и разобраться в деталях :)"
   ]
  },
  {
   "cell_type": "code",
   "execution_count": 21,
   "metadata": {
    "colab": {},
    "colab_type": "code",
    "id": "ieEzZUglJAUB"
   },
   "outputs": [],
   "source": [
    "# TODO: Implement LeNet-like architecture for SVHN task\n",
    "lenet_model = nn.Sequential(\n",
    "            nn.Conv2d(in_channels=3, out_channels=6, kernel_size=5, stride=1),\n",
    "            nn.Tanh(),\n",
    "            nn.AvgPool2d(kernel_size=2),\n",
    "            nn.Conv2d(in_channels=6, out_channels=16, kernel_size=5, stride=1),\n",
    "            nn.Tanh(),\n",
    "            nn.AvgPool2d(kernel_size=2),\n",
    "            nn.Conv2d(in_channels=16, out_channels=120, kernel_size=5, stride=1),\n",
    "            nn.Tanh(),\n",
    "            nn.Flatten(),\n",
    "            nn.Linear(120, 84),\n",
    "            nn.Tanh(),\n",
    "            nn.Linear(84, 10),\n",
    "          )\n",
    "\n",
    "lenet_model.type(torch.cuda.FloatTensor)\n",
    "lenet_model.to(device)\n",
    "\n",
    "loss = nn.CrossEntropyLoss().type(torch.cuda.FloatTensor)\n",
    "optimizer = optim.SGD(lenet_model.parameters(), lr=1e-1, weight_decay=1e-4)"
   ]
  },
  {
   "cell_type": "code",
   "execution_count": 22,
   "metadata": {
    "colab": {},
    "colab_type": "code",
    "id": "WMmaPfdeKk9H"
   },
   "outputs": [
    {
     "name": "stdout",
     "output_type": "stream",
     "text": [
      "Average loss: 1.555445, Train accuracy: 0.468092, Val accuracy: 0.789229\n",
      "Average loss: 0.614741, Train accuracy: 0.807955, Val accuracy: 0.845813\n",
      "Average loss: 0.506912, Train accuracy: 0.842141, Val accuracy: 0.864105\n",
      "Average loss: 0.452312, Train accuracy: 0.859426, Val accuracy: 0.881373\n",
      "Average loss: 0.414634, Train accuracy: 0.871174, Val accuracy: 0.882738\n",
      "Average loss: 0.385964, Train accuracy: 0.879517, Val accuracy: 0.883489\n",
      "Average loss: 0.363094, Train accuracy: 0.886582, Val accuracy: 0.883830\n",
      "Average loss: 0.345538, Train accuracy: 0.893006, Val accuracy: 0.881169\n",
      "Average loss: 0.329264, Train accuracy: 0.897826, Val accuracy: 0.891816\n",
      "Average loss: 0.314598, Train accuracy: 0.902365, Val accuracy: 0.888677\n"
     ]
    }
   ],
   "source": [
    "# Let's train it!\n",
    "loss_history, train_history, val_history = train_model(lenet_model, train_loader, val_loader, loss, optimizer, 10)"
   ]
  },
  {
   "cell_type": "markdown",
   "metadata": {
    "colab_type": "text",
    "id": "u_O9qiYySvuj"
   },
   "source": [
    "optuna-dashboard sqlite:///db.sqlite3# Подбор гиперпараметров"
   ]
  },
  {
   "cell_type": "markdown",
   "metadata": {},
   "source": [
    "https://optuna.readthedocs.io/en/stable/tutorial/index.html"
   ]
  },
  {
   "cell_type": "code",
   "execution_count": 23,
   "metadata": {
    "colab": {},
    "colab_type": "code",
    "id": "i6mhfdQ9K-N3"
   },
   "outputs": [],
   "source": [
    "# The key hyperparameters we're going to tune are learning speed, annealing rate and regularization\n",
    "# We also encourage you to try different optimizers as well\n",
    "\n",
    "Hyperparams = namedtuple(\"Hyperparams\", ['learning_rate', 'anneal_epochs', 'reg'])\n",
    "RunResult = namedtuple(\"RunResult\", ['model', 'train_history', 'val_history', 'final_val_accuracy'])\n",
    "\n",
    "learning_rates = [1e0, 1e-1, 1e-2, 1e-3, 1e-4]\n",
    "anneal_coeff = 0.2\n",
    "anneal_epochs = [1, 5, 10, 15, 20, 50]\n",
    "reg = [1e-3, 1e-4, 1e-5, 1e-7]\n",
    "\n",
    "batch_size = 64\n",
    "epoch_num = 10\n",
    "\n",
    "# Record all the runs here\n",
    "# Key should be Hyperparams and values should be RunResult\n",
    "run_record = {} \n",
    "\n",
    "# Use grid search or random search and record all runs in run_record dictionnary \n",
    "# Important: perform search in logarithmic space!\n",
    "\n",
    "# TODO: Your code here!"
   ]
  },
  {
   "cell_type": "code",
   "execution_count": 24,
   "metadata": {
    "colab": {
     "base_uri": "https://localhost:8080/",
     "height": 34
    },
    "colab_type": "code",
    "id": "Y6xExdw8JB1l",
    "outputId": "a9ad86f8-3e29-45cc-d33f-e6170018a4ed"
   },
   "outputs": [
    {
     "ename": "TypeError",
     "evalue": "must be real number, not NoneType",
     "output_type": "error",
     "traceback": [
      "\u001b[1;31m---------------------------------------------------------------------------\u001b[0m",
      "\u001b[1;31mTypeError\u001b[0m                                 Traceback (most recent call last)",
      "Cell \u001b[1;32mIn[24], line 11\u001b[0m\n\u001b[0;32m      8\u001b[0m         best_hyperparams \u001b[38;5;241m=\u001b[39m hyperparams\n\u001b[0;32m      9\u001b[0m         best_run \u001b[38;5;241m=\u001b[39m run_result\n\u001b[1;32m---> 11\u001b[0m \u001b[38;5;28mprint\u001b[39m(\u001b[38;5;124;43m\"\u001b[39;49m\u001b[38;5;124;43mBest validation accuracy: \u001b[39;49m\u001b[38;5;132;43;01m%4.2f\u001b[39;49;00m\u001b[38;5;124;43m, best hyperparams: \u001b[39;49m\u001b[38;5;132;43;01m%s\u001b[39;49;00m\u001b[38;5;124;43m\"\u001b[39;49m\u001b[43m \u001b[49m\u001b[38;5;241;43m%\u001b[39;49m\u001b[43m \u001b[49m\u001b[43m(\u001b[49m\u001b[43mbest_val_accuracy\u001b[49m\u001b[43m,\u001b[49m\u001b[43m \u001b[49m\u001b[43mbest_hyperparams\u001b[49m\u001b[43m)\u001b[49m)\n",
      "\u001b[1;31mTypeError\u001b[0m: must be real number, not NoneType"
     ]
    }
   ],
   "source": [
    "best_val_accuracy = None\n",
    "best_hyperparams = None\n",
    "best_run = None\n",
    "\n",
    "for hyperparams, run_result in run_record.items():\n",
    "    if best_val_accuracy is None or best_val_accuracy < run_result.final_val_accuracy:\n",
    "        best_val_accuracy = run_result.final_val_accuracy\n",
    "        best_hyperparams = hyperparams\n",
    "        best_run = run_result\n",
    "        \n",
    "print(\"Best validation accuracy: %4.2f, best hyperparams: %s\" % (best_val_accuracy, best_hyperparams))\n",
    "        "
   ]
  },
  {
   "cell_type": "markdown",
   "metadata": {
    "tags": []
   },
   "source": [
    "## Ищем оптимальные гиперпараметры с optuna"
   ]
  },
  {
   "cell_type": "code",
   "execution_count": 3,
   "metadata": {},
   "outputs": [],
   "source": [
    "device = torch.device(\"cuda:0\")"
   ]
  },
  {
   "cell_type": "code",
   "execution_count": 6,
   "metadata": {},
   "outputs": [
    {
     "name": "stdout",
     "output_type": "stream",
     "text": [
      "Using downloaded and verified file: data/train_32x32.mat\n",
      "Using downloaded and verified file: data/train_32x32.mat\n",
      "Using downloaded and verified file: data/test_32x32.mat\n"
     ]
    }
   ],
   "source": [
    "tfs = transforms.Compose([\n",
    "    transforms.ColorJitter(hue=.20, saturation=.20),\n",
    "    transforms.RandomRotation(30, interpolation=InterpolationMode.BILINEAR),\n",
    "    transforms.ToTensor(),\n",
    "    transforms.Normalize(mean=[0.43,0.44,0.47],\n",
    "                       std=[0.20,0.20,0.20])                           \n",
    "])\n",
    "\n",
    "data_train = dset.SVHN('data/', \n",
    "                       download = True,\n",
    "                       transform=transforms.Compose([\n",
    "                           transforms.ToTensor(),\n",
    "                           transforms.Normalize(mean=[0.43,0.44,0.47],\n",
    "                                               std=[0.20,0.20,0.20])                          \n",
    "                       ])\n",
    "                      )\n",
    "data_train_trans =  dset.SVHN('data/', \n",
    "                       download = True,\n",
    "                       transform=transforms.Compose([\n",
    "                            transforms.ColorJitter(hue=.20, saturation=.20),\n",
    "                            transforms.RandomRotation(30, interpolation=InterpolationMode.BILINEAR),\n",
    "                            transforms.ToTensor(),\n",
    "                            transforms.Normalize(mean=[0.43,0.44,0.47],\n",
    "                                               std=[0.20,0.20,0.20])\n",
    "                       ])\n",
    "                    )\n",
    "\n",
    "data_test = dset.SVHN('data/', split='test', \n",
    "                      download = True,\n",
    "                      transform=transforms.Compose([\n",
    "                           transforms.ToTensor(),\n",
    "                           transforms.Normalize(mean=[0.43,0.44,0.47],\n",
    "                                               std=[0.20,0.20,0.20])                           \n",
    "                       ]))\n",
    "data_size = data_train.data.shape[0]\n",
    "validation_split = .2\n",
    "split = int(np.floor(validation_split * data_size))\n",
    "indices = list(range(data_size))\n",
    "np.random.shuffle(indices)\n",
    "\n",
    "train_indices, val_indices = indices[split:], indices[:split]\n",
    "\n",
    "val_sampler = SubsetRandomSampler(val_indices)\n",
    "train_sampler = SubsetRandomSampler(train_indices)\n",
    "\n",
    "data_list = []\n",
    "\n",
    "for num in train_sampler:\n",
    "    X, y = data_train[num]\n",
    "    data_list.append((X, y))\n",
    "    X, y = data_train_trans[num]\n",
    "    data_list.append((X, y))"
   ]
  },
  {
   "cell_type": "code",
   "execution_count": 7,
   "metadata": {},
   "outputs": [],
   "source": [
    "def train_model(model, train_loader, val_loader, loss, optimizer, num_epochs):    \n",
    "    loss_history = []\n",
    "    train_history = []\n",
    "    val_history = []\n",
    "    for epoch in range(num_epochs):\n",
    "        model.train() # Enter train mode\n",
    "        \n",
    "        loss_accum = 0\n",
    "        correct_samples = 0\n",
    "        total_samples = 0\n",
    "        for i_step, (x, y) in enumerate(train_loader):\n",
    "          \n",
    "            x_gpu = x.to(device)\n",
    "            y_gpu = y.to(device)\n",
    "            prediction = model(x_gpu)    \n",
    "            loss_value = loss(prediction, y_gpu)\n",
    "            optimizer.zero_grad()\n",
    "            loss_value.backward()\n",
    "            optimizer.step()\n",
    "            \n",
    "            _, indices = torch.max(prediction, 1)\n",
    "            correct_samples += torch.sum(indices == y_gpu)\n",
    "            total_samples += y.shape[0]\n",
    "            \n",
    "            loss_accum += loss_value\n",
    "\n",
    "        ave_loss = loss_accum / i_step\n",
    "        train_accuracy = float(correct_samples) / total_samples\n",
    "        val_accuracy = compute_accuracy(model, val_loader)\n",
    "        \n",
    "        loss_history.append(float(ave_loss))\n",
    "        train_history.append(train_accuracy)\n",
    "        val_history.append(val_accuracy)\n",
    "        \n",
    "        #print(\"Average loss: %f, Train accuracy: %f, Val accuracy: %f\" % (ave_loss, train_accuracy, val_accuracy))\n",
    "        \n",
    "    return loss_history, train_history, val_history\n",
    "        \n",
    "def compute_accuracy(model, loader):\n",
    "    val_size = 0\n",
    "    good_predict = 0\n",
    "    model.eval() # Evaluation mode\n",
    "    for i_step, (X, y) in enumerate(loader):\n",
    "        X = X.to(device)\n",
    "        y = y.to(device)\n",
    "        prediction = model(X)\n",
    "        _, index = torch.max(prediction, 1)\n",
    "        good_predict += torch.sum(index == y)\n",
    "        val_size += X.shape[0]\n",
    "    \n",
    "    accuracy =  float(good_predict)/val_size\n",
    "    \n",
    "    return accuracy"
   ]
  },
  {
   "cell_type": "code",
   "execution_count": 8,
   "metadata": {},
   "outputs": [],
   "source": [
    "def make_model():\n",
    "    lenet_model = nn.Sequential(\n",
    "            nn.Conv2d(in_channels=3, out_channels=6, kernel_size=5, stride=1),\n",
    "            nn.Tanh(),\n",
    "            nn.AvgPool2d(kernel_size=2),\n",
    "            nn.Conv2d(in_channels=6, out_channels=16, kernel_size=5, stride=1),\n",
    "            nn.Tanh(),\n",
    "            nn.AvgPool2d(kernel_size=2),\n",
    "            nn.Conv2d(in_channels=16, out_channels=120, kernel_size=5, stride=1),\n",
    "            nn.Tanh(),\n",
    "            nn.Flatten(),\n",
    "            nn.Linear(120, 84),\n",
    "            nn.Tanh(),\n",
    "            nn.Linear(84, 10),\n",
    "          )\n",
    "    return lenet_model"
   ]
  },
  {
   "cell_type": "code",
   "execution_count": 24,
   "metadata": {},
   "outputs": [],
   "source": [
    "def train_and_evaluet(param, model):\n",
    "    train_loader = torch.utils.data.DataLoader(data_list, batch_size=param['batch_size'], shuffle=True)\n",
    "    val_loader = torch.utils.data.DataLoader(data_train, batch_size=param['batch_size'],\n",
    "                                             sampler=val_sampler)\n",
    "    model.type(torch.cuda.FloatTensor)\n",
    "    model.to(device)\n",
    "    \n",
    "    loss = nn.CrossEntropyLoss().type(torch.cuda.FloatTensor)\n",
    "    optimizer = optim.SGD(model.parameters(), lr=param['lr'])\n",
    "    loss_history, train_history, val_history = train_model(model, train_loader, val_loader, loss, optimizer, param['epochs'])\n",
    "    return val_history[-1]"
   ]
  },
  {
   "cell_type": "code",
   "execution_count": 25,
   "metadata": {},
   "outputs": [],
   "source": [
    "def objective(trial):\n",
    "     params = {\n",
    "              'lr': trial.suggest_loguniform('learning_rate', 1e-5, 1e0),\n",
    "              'epochs': trial.suggest_int(\"epochs\", 20, 50),\n",
    "              'batch_size': trial.suggest_int(\"batch_size\", 32, 64)\n",
    "              }\n",
    "    \n",
    "     model = make_model()\n",
    "     accuracy = train_and_evaluet(params, model)\n",
    "\n",
    "     return accuracy"
   ]
  },
  {
   "cell_type": "code",
   "execution_count": 26,
   "metadata": {},
   "outputs": [
    {
     "name": "stderr",
     "output_type": "stream",
     "text": [
      "\u001b[32m[I 2023-01-26 21:16:13,120]\u001b[0m A new study created in memory with name: no-name-47fa36b1-dfc2-4a60-9de4-e7f88e033d09\u001b[0m\n",
      "C:\\Users\\budni\\AppData\\Local\\Temp\\ipykernel_22952\\4180604203.py:3: FutureWarning: suggest_loguniform has been deprecated in v3.0.0. This feature will be removed in v6.0.0. See https://github.com/optuna/optuna/releases/tag/v3.0.0. Use :func:`~optuna.trial.Trial.suggest_float` instead.\n",
      "  'lr': trial.suggest_loguniform('learning_rate', 1e-5, 1e0),\n",
      "\u001b[32m[I 2023-01-26 21:24:00,192]\u001b[0m Trial 0 finished with value: 0.878028803494642 and parameters: {'learning_rate': 0.0034254678511851265, 'epochs': 43, 'batch_size': 56}. Best is trial 0 with value: 0.878028803494642.\u001b[0m\n",
      "\u001b[32m[I 2023-01-26 21:27:41,121]\u001b[0m Trial 1 finished with value: 0.8169408231520032 and parameters: {'learning_rate': 0.002980030663693968, 'epochs': 22, 'batch_size': 62}. Best is trial 0 with value: 0.878028803494642.\u001b[0m\n",
      "\u001b[32m[I 2023-01-26 21:35:06,772]\u001b[0m Trial 2 finished with value: 0.8917480035492458 and parameters: {'learning_rate': 0.005865090315293377, 'epochs': 42, 'batch_size': 60}. Best is trial 2 with value: 0.8917480035492458.\u001b[0m\n",
      "\u001b[32m[I 2023-01-26 21:42:33,558]\u001b[0m Trial 3 finished with value: 0.8948194662480377 and parameters: {'learning_rate': 0.008188850334880572, 'epochs': 42, 'batch_size': 57}. Best is trial 3 with value: 0.8948194662480377.\u001b[0m\n",
      "\u001b[32m[I 2023-01-26 21:53:58,506]\u001b[0m Trial 4 finished with value: 0.19213705549109275 and parameters: {'learning_rate': 2.2738576120664035e-05, 'epochs': 47, 'batch_size': 38}. Best is trial 3 with value: 0.8948194662480377.\u001b[0m\n",
      "\u001b[32m[I 2023-01-26 22:02:02,943]\u001b[0m Trial 5 finished with value: 0.19213705549109275 and parameters: {'learning_rate': 5.180481508675694e-05, 'epochs': 31, 'batch_size': 38}. Best is trial 3 with value: 0.8948194662480377.\u001b[0m\n",
      "\u001b[32m[I 2023-01-26 22:09:12,876]\u001b[0m Trial 6 finished with value: 0.8423998361886561 and parameters: {'learning_rate': 0.5714342607711853, 'epochs': 39, 'batch_size': 60}. Best is trial 3 with value: 0.8948194662480377.\u001b[0m\n",
      "\u001b[32m[I 2023-01-26 22:15:40,841]\u001b[0m Trial 7 finished with value: 0.7141492048324346 and parameters: {'learning_rate': 0.0010209429393155936, 'epochs': 23, 'batch_size': 32}. Best is trial 3 with value: 0.8948194662480377.\u001b[0m\n",
      "\u001b[32m[I 2023-01-26 22:24:14,634]\u001b[0m Trial 8 finished with value: 0.8468363934202443 and parameters: {'learning_rate': 0.48776606211328666, 'epochs': 38, 'batch_size': 41}. Best is trial 3 with value: 0.8948194662480377.\u001b[0m\n",
      "\u001b[32m[I 2023-01-26 22:28:07,043]\u001b[0m Trial 9 finished with value: 0.1988260187017951 and parameters: {'learning_rate': 0.0006803371234568414, 'epochs': 23, 'batch_size': 62}. Best is trial 3 with value: 0.8948194662480377.\u001b[0m\n",
      "\u001b[32m[I 2023-01-26 22:37:37,386]\u001b[0m Trial 10 finished with value: 0.882943143812709 and parameters: {'learning_rate': 0.020719592174274007, 'epochs': 50, 'batch_size': 51}. Best is trial 3 with value: 0.8948194662480377.\u001b[0m\n",
      "\u001b[32m[I 2023-01-26 22:45:22,813]\u001b[0m Trial 11 finished with value: 0.8900416353832503 and parameters: {'learning_rate': 0.028437258762854606, 'epochs': 43, 'batch_size': 53}. Best is trial 3 with value: 0.8948194662480377.\u001b[0m\n",
      "\u001b[32m[I 2023-01-26 22:51:51,105]\u001b[0m Trial 12 finished with value: 0.8888813050303733 and parameters: {'learning_rate': 0.028638644106641655, 'epochs': 32, 'batch_size': 46}. Best is trial 3 with value: 0.8948194662480377.\u001b[0m\n",
      "\u001b[32m[I 2023-01-26 22:59:25,246]\u001b[0m Trial 13 finished with value: 0.8765954542352058 and parameters: {'learning_rate': 0.0830117815857017, 'epochs': 44, 'batch_size': 57}. Best is trial 3 with value: 0.8948194662480377.\u001b[0m\n",
      "\u001b[32m[I 2023-01-26 23:05:13,171]\u001b[0m Trial 14 finished with value: 0.19213705549109275 and parameters: {'learning_rate': 0.0001992320604448384, 'epochs': 37, 'batch_size': 64}. Best is trial 3 with value: 0.8948194662480377.\u001b[0m\n",
      "\u001b[32m[I 2023-01-26 23:11:39,282]\u001b[0m Trial 15 finished with value: 0.8942051737082793 and parameters: {'learning_rate': 0.0068606801515918095, 'epochs': 33, 'batch_size': 48}. Best is trial 3 with value: 0.8948194662480377.\u001b[0m\n",
      "\u001b[32m[I 2023-01-26 23:17:23,876]\u001b[0m Trial 16 finished with value: 0.8950924851545969 and parameters: {'learning_rate': 0.007860987008889287, 'epochs': 29, 'batch_size': 47}. Best is trial 16 with value: 0.8950924851545969.\u001b[0m\n",
      "\u001b[32m[I 2023-01-26 23:23:13,140]\u001b[0m Trial 17 finished with value: 0.23698041089345437 and parameters: {'learning_rate': 0.0006832211229189813, 'epochs': 28, 'batch_size': 44}. Best is trial 16 with value: 0.8950924851545969.\u001b[0m\n",
      "\u001b[32m[I 2023-01-26 23:28:23,038]\u001b[0m Trial 18 finished with value: 0.878028803494642 and parameters: {'learning_rate': 0.0921460938580582, 'epochs': 27, 'batch_size': 50}. Best is trial 16 with value: 0.8950924851545969.\u001b[0m\n",
      "\u001b[32m[I 2023-01-26 23:33:26,409]\u001b[0m Trial 19 finished with value: 0.19213705549109275 and parameters: {'learning_rate': 0.00018588414407594487, 'epochs': 28, 'batch_size': 54}. Best is trial 16 with value: 0.8950924851545969.\u001b[0m\n",
      "\u001b[32m[I 2023-01-26 23:40:49,710]\u001b[0m Trial 20 finished with value: 0.19131799877141492 and parameters: {'learning_rate': 1.0901173445473656e-05, 'epochs': 35, 'batch_size': 43}. Best is trial 16 with value: 0.8950924851545969.\u001b[0m\n",
      "\u001b[32m[I 2023-01-26 23:47:02,124]\u001b[0m Trial 21 finished with value: 0.9025322503583373 and parameters: {'learning_rate': 0.00995152678426102, 'epochs': 31, 'batch_size': 47}. Best is trial 21 with value: 0.9025322503583373.\u001b[0m\n",
      "\u001b[32m[I 2023-01-26 23:52:16,510]\u001b[0m Trial 22 finished with value: 0.8968671080472322 and parameters: {'learning_rate': 0.009712468526740195, 'epochs': 26, 'batch_size': 47}. Best is trial 21 with value: 0.9025322503583373.\u001b[0m\n",
      "\u001b[32m[I 2023-01-26 23:57:25,697]\u001b[0m Trial 23 finished with value: 0.846563374513685 and parameters: {'learning_rate': 0.002230556951931576, 'epochs': 26, 'batch_size': 47}. Best is trial 21 with value: 0.9025322503583373.\u001b[0m\n",
      "\u001b[32m[I 2023-01-27 00:01:59,605]\u001b[0m Trial 24 finished with value: 0.8952972493345164 and parameters: {'learning_rate': 0.015776265117822205, 'epochs': 20, 'batch_size': 40}. Best is trial 21 with value: 0.9025322503583373.\u001b[0m\n",
      "\u001b[32m[I 2023-01-27 00:06:52,972]\u001b[0m Trial 25 finished with value: 0.8921575319090848 and parameters: {'learning_rate': 0.01575740580430961, 'epochs': 20, 'batch_size': 38}. Best is trial 21 with value: 0.9025322503583373.\u001b[0m\n",
      "\u001b[32m[I 2023-01-27 00:13:24,719]\u001b[0m Trial 26 finished with value: 0.8815097945532728 and parameters: {'learning_rate': 0.05647621700050918, 'epochs': 25, 'batch_size': 34}. Best is trial 21 with value: 0.9025322503583373.\u001b[0m\n",
      "\u001b[32m[I 2023-01-27 00:18:08,945]\u001b[0m Trial 27 finished with value: 0.8768002184151252 and parameters: {'learning_rate': 0.12066803881638763, 'epochs': 20, 'batch_size': 41}. Best is trial 21 with value: 0.9025322503583373.\u001b[0m\n",
      "\u001b[32m[I 2023-01-27 00:24:55,545]\u001b[0m Trial 28 finished with value: 0.8982322025800287 and parameters: {'learning_rate': 0.01182177045625686, 'epochs': 30, 'batch_size': 44}. Best is trial 21 with value: 0.9025322503583373.\u001b[0m\n",
      "\u001b[32m[I 2023-01-27 00:31:17,343]\u001b[0m Trial 29 finished with value: 0.8607603576547675 and parameters: {'learning_rate': 0.0022741416795835105, 'epochs': 30, 'batch_size': 44}. Best is trial 21 with value: 0.9025322503583373.\u001b[0m\n"
     ]
    }
   ],
   "source": [
    "study = optuna.create_study(direction=\"maximize\", sampler=optuna.samplers.TPESampler())\n",
    "study.optimize(objective, n_trials=30)"
   ]
  },
  {
   "cell_type": "markdown",
   "metadata": {
    "colab_type": "text",
    "id": "LOmsR0uVgtgf",
    "tags": []
   },
   "source": [
    "# Свободное упражнение - догоним и перегоним LeNet!\n",
    "\n",
    "Попробуйте найти архитектуру и настройки тренировки, чтобы выступить лучше наших бейзлайнов.\n",
    "\n",
    "Что можно и нужно попробовать:\n",
    "- BatchNormalization (для convolution layers он в PyTorch называется [batchnorm2d](https://pytorch.org/docs/stable/nn.html#batchnorm2d))\n",
    "- Изменить количество слоев и их толщину\n",
    "- Изменять количество эпох тренировки\n",
    "- Попробовать и другие агментации"
   ]
  },
  {
   "cell_type": "code",
   "execution_count": null,
   "metadata": {
    "colab": {},
    "colab_type": "code",
    "id": "tSVhD747icoc"
   },
   "outputs": [],
   "source": [
    "best_model = None"
   ]
  },
  {
   "cell_type": "markdown",
   "metadata": {
    "colab_type": "text",
    "id": "ubeKgBcnhx7N"
   },
   "source": [
    "# Финальный аккорд - проверим лучшую модель на test set\n",
    "\n",
    "В качестве разнообразия - напишите код для прогона модели на test set вы.\n",
    "\n",
    "В результате вы должны натренировать модель, которая покажет более **90%** точности на test set.  \n",
    "Как водится, лучший результат в группе получит дополнительные баллы!"
   ]
  },
  {
   "cell_type": "code",
   "execution_count": null,
   "metadata": {
    "colab": {},
    "colab_type": "code",
    "id": "EIqM1kdeh-hd"
   },
   "outputs": [],
   "source": [
    "# TODO Write the code to compute accuracy on test set\n",
    "final_test_accuracy = 0.0\n",
    "print(\"Final test accuracy - \", final_test_accuracy)"
   ]
  },
  {
   "cell_type": "code",
   "execution_count": null,
   "metadata": {
    "colab": {},
    "colab_type": "code",
    "id": "BfH6qip6kVX_"
   },
   "outputs": [],
   "source": []
  }
 ],
 "metadata": {
  "accelerator": "GPU",
  "colab": {
   "collapsed_sections": [],
   "name": "PyTorch_CNN.ipynb",
   "provenance": [],
   "version": "0.3.2"
  },
  "kernelspec": {
   "display_name": "Python 3 (ipykernel)",
   "language": "python",
   "name": "python3"
  },
  "language_info": {
   "codemirror_mode": {
    "name": "ipython",
    "version": 3
   },
   "file_extension": ".py",
   "mimetype": "text/x-python",
   "name": "python",
   "nbconvert_exporter": "python",
   "pygments_lexer": "ipython3",
   "version": "3.9.13"
  }
 },
 "nbformat": 4,
 "nbformat_minor": 4
}
